{
 "cells": [
  {
   "attachments": {},
   "cell_type": "markdown",
   "metadata": {},
   "source": [
    "## Predicción de Desagregación de Robos en Lakendd\n",
    "\n",
    "Coder: LeninGF\n",
    "Date: 2023-03-16\n",
    "\n",
    "Objetivos:\n",
    "\n",
    "* Predecir la desagregación de validados y seguimiento para un archivo obtenido desde lakendd"
   ]
  },
  {
   "cell_type": "code",
   "execution_count": 1,
   "metadata": {},
   "outputs": [
    {
     "data": {
      "text/plain": [
       "(14656, 2)"
      ]
     },
     "execution_count": 1,
     "metadata": {},
     "output_type": "execute_result"
    }
   ],
   "source": [
    "import pandas as pd\n",
    "\n",
    "import os\n",
    "# file_path_org=os.path.join(os.getcwd(), 'data/raw/requests/REPORTE_DESI_LAKENDD2_RobosAutosVehiculos.csv')\n",
    "# file_path_org = os.path.join(os.getcwd(), 'data/raw/requests/REPORTE_DESI_LAKENDD2_RobosCarrosMotos.csv')\n",
    "file_path_org = os.path.join(os.getcwd(), 'data/raw/requests/faltantes_robosFlacso.csv')\n",
    "# xtest = pd.read_csv(file_path_org, parse_dates=['f_FECHA_PS'], converters={'d_NDD':str})\n",
    "xtest = pd.read_csv(file_path_org, converters={'NDD':str})\n",
    "xtest.shape"
   ]
  },
  {
   "attachments": {},
   "cell_type": "markdown",
   "metadata": {},
   "source": [
    "Obteniendo los relatos. Adaptar la columna de registro de las ndds segun el nombre que esta tenga"
   ]
  },
  {
   "cell_type": "code",
   "execution_count": 2,
   "metadata": {},
   "outputs": [
    {
     "name": "stderr",
     "output_type": "stream",
     "text": [
      "2023-10-23 15:13:17.941998: I tensorflow/core/platform/cpu_feature_guard.cc:193] This TensorFlow binary is optimized with oneAPI Deep Neural Network Library (oneDNN) to use the following CPU instructions in performance-critical operations:  SSE4.1 SSE4.2 AVX AVX2 FMA\n",
      "To enable them in other operations, rebuild TensorFlow with the appropriate compiler flags.\n"
     ]
    },
    {
     "name": "stdout",
     "output_type": "stream",
     "text": [
      "conectando con big data database....\n",
      "<sqlalchemy.engine.base.Connection object at 0x7f18d3bf2e30>\n"
     ]
    },
    {
     "data": {
      "text/plain": [
       "(14656, 2)"
      ]
     },
     "execution_count": 2,
     "metadata": {},
     "output_type": "execute_result"
    }
   ],
   "source": [
    "import html\n",
    "from sqlalchemy import text, create_engine\n",
    "from src.utils import extraer_relato, conectar_sql\n",
    "conx = conectar_sql()\n",
    "relatos_siaf = extraer_relato(sql_connection=conx, lista_ndds=list(set(xtest.NDD.to_list())))\n",
    "relatos_siaf.shape"
   ]
  },
  {
   "cell_type": "code",
   "execution_count": 3,
   "metadata": {},
   "outputs": [],
   "source": [
    "# relatos_siaf.rename(columns={'RELATO':'d_RELATO_SIAF', 'NDD': 'd_NDD'}, inplace=True)\n",
    "relatos_siaf.rename(columns={'RELATO':'d_RELATO_SIAF'}, inplace=True)"
   ]
  },
  {
   "cell_type": "code",
   "execution_count": 4,
   "metadata": {},
   "outputs": [
    {
     "name": "stdout",
     "output_type": "stream",
     "text": [
      "(14656, 2)\n"
     ]
    },
    {
     "data": {
      "text/plain": [
       "(14656, 3)"
      ]
     },
     "execution_count": 4,
     "metadata": {},
     "output_type": "execute_result"
    }
   ],
   "source": [
    "print(xtest.shape)\n",
    "# xtest = pd.merge(xtest, relatos_siaf, on='d_NDD', how='left')\n",
    "xtest = pd.merge(xtest, relatos_siaf, on='NDD', how='left')\n",
    "xtest.shape"
   ]
  },
  {
   "attachments": {},
   "cell_type": "markdown",
   "metadata": {},
   "source": [
    "Dando formato al texto"
   ]
  },
  {
   "cell_type": "code",
   "execution_count": 5,
   "metadata": {},
   "outputs": [],
   "source": [
    "from src.utils import format_crimestory\n",
    "format_crimestory(relato_label='d_RELATO_SIAF', dataf=xtest)\n"
   ]
  },
  {
   "attachments": {},
   "cell_type": "markdown",
   "metadata": {},
   "source": [
    "Contando las palabras"
   ]
  },
  {
   "cell_type": "code",
   "execution_count": 6,
   "metadata": {},
   "outputs": [],
   "source": [
    "from src.utils import words_qty\n",
    "words_qty(dataf=xtest, relato_label='d_RELATO_SIAF')"
   ]
  },
  {
   "cell_type": "code",
   "execution_count": 7,
   "metadata": {},
   "outputs": [
    {
     "data": {
      "text/plain": [
       "<AxesSubplot: >"
      ]
     },
     "execution_count": 7,
     "metadata": {},
     "output_type": "execute_result"
    },
    {
     "data": {
      "image/png": "[encoded data removed]",
      "text/plain": [
       "<Figure size 640x480 with 1 Axes>"
      ]
     },
     "metadata": {},
     "output_type": "display_data"
    }
   ],
   "source": [
    "xtest.d_CANTIDAD_PALABRAS.hist(bins=100)"
   ]
  },
  {
   "cell_type": "code",
   "execution_count": 8,
   "metadata": {},
   "outputs": [
    {
     "data": {
      "text/plain": [
       "<AxesSubplot: >"
      ]
     },
     "execution_count": 8,
     "metadata": {},
     "output_type": "execute_result"
    },
    {
     "data": {
      "image/png": "[encoded data removed]",
      "text/plain": [
       "<Figure size 640x480 with 1 Axes>"
      ]
     },
     "metadata": {},
     "output_type": "display_data"
    }
   ],
   "source": [
    "xtest.d_CANTIDAD_PALABRAS.plot.box()"
   ]
  },
  {
   "cell_type": "code",
   "execution_count": 9,
   "metadata": {},
   "outputs": [
    {
     "data": {
      "text/plain": [
       "count    14656.000000\n",
       "mean        79.525109\n",
       "std         79.803590\n",
       "min          2.000000\n",
       "25%         14.000000\n",
       "50%         53.000000\n",
       "75%        130.000000\n",
       "max        714.000000\n",
       "Name: d_CANTIDAD_PALABRAS, dtype: float64"
      ]
     },
     "execution_count": 9,
     "metadata": {},
     "output_type": "execute_result"
    }
   ],
   "source": [
    "xtest.d_CANTIDAD_PALABRAS.describe()"
   ]
  },
  {
   "cell_type": "code",
   "execution_count": 10,
   "metadata": {},
   "outputs": [],
   "source": [
    "# xtest.to_csv('data/interim/delitosRobosAutosconRelato.csv')\n",
    "# xtest.to_csv('data/interim/delitosRobosAutosMotosconRelato.csv', index=False)\n",
    "# xtest.to_csv('data/interim/delitosRobosLaDefensaEspaciosAcuaticos.csv', index=False)"
   ]
  },
  {
   "attachments": {},
   "cell_type": "markdown",
   "metadata": {},
   "source": [
    "## Cargando Modelo de Machine Learning"
   ]
  },
  {
   "attachments": {},
   "cell_type": "markdown",
   "metadata": {},
   "source": [
    "Convierto el Pandas Dataframe en un Dataset de HuggingFace para optimizar el procesamiento"
   ]
  },
  {
   "cell_type": "code",
   "execution_count": 10,
   "metadata": {},
   "outputs": [
    {
     "data": {
      "text/plain": [
       "Dataset({\n",
       "    features: ['NDD', 'DELITO', 'd_RELATO_SIAF', 'd_CANTIDAD_PALABRAS', '__index_level_0__'],\n",
       "    num_rows: 14656\n",
       "})"
      ]
     },
     "execution_count": 10,
     "metadata": {},
     "output_type": "execute_result"
    }
   ],
   "source": [
    "from datasets import Dataset\n",
    "xtest_dataset = Dataset.from_pandas(xtest)\n",
    "xtest_dataset"
   ]
  },
  {
   "cell_type": "code",
   "execution_count": 11,
   "metadata": {},
   "outputs": [
    {
     "name": "stderr",
     "output_type": "stream",
     "text": [
      "2023-10-23 15:14:17.617218: I tensorflow/core/platform/cpu_feature_guard.cc:193] This TensorFlow binary is optimized with oneAPI Deep Neural Network Library (oneDNN) to use the following CPU instructions in performance-critical operations:  SSE4.1 SSE4.2 AVX AVX2 FMA\n",
      "To enable them in other operations, rebuild TensorFlow with the appropriate compiler flags.\n",
      "2023-10-23 15:14:17.618296: I tensorflow/core/common_runtime/process_util.cc:146] Creating new thread pool with default inter op setting: 2. Tune using inter_op_parallelism_threads for best performance.\n",
      "All model checkpoint layers were used when initializing TFDistilBertForSequenceClassification.\n",
      "\n",
      "All the layers of TFDistilBertForSequenceClassification were initialized from the model checkpoint at /home/falconiel/ML_Models/robbery_tf20221113.\n",
      "If your task is similar to the task the model of the checkpoint was trained on, you can already use TFDistilBertForSequenceClassification for predictions without further training.\n"
     ]
    }
   ],
   "source": [
    "from src.utils import load_text_classification_model\n",
    "PATH_MODEL_SEGUIMIENTOS = '/home/falconiel/ML_Models/robbery_tf20221113'\n",
    "PATH_MODEL_VALIDADOS = '/home/falconiel/ML_Models/robbery_tf20230213'\n",
    "model_ckpt = \"distilbert-base-multilingual-cased\"\n",
    "SEQ_LEN = 300\n",
    "THRESHOLD_WORDS_QTY = 50\n",
    "\n",
    "modelo_delitos_seguimiento = load_text_classification_model(path2model=PATH_MODEL_SEGUIMIENTOS,\n",
    "                                                            seq_len=SEQ_LEN,\n",
    "                                                            threshold_words_qty=THRESHOLD_WORDS_QTY)"
   ]
  },
  {
   "cell_type": "code",
   "execution_count": 12,
   "metadata": {},
   "outputs": [],
   "source": [
    "# xtest_dataset_sample = xtest_dataset.select(range(200))\n",
    "xtest_dataset_sample = xtest_dataset"
   ]
  },
  {
   "attachments": {},
   "cell_type": "markdown",
   "metadata": {},
   "source": [
    "Realizando la predicción sobre el relato de los hechos"
   ]
  },
  {
   "cell_type": "code",
   "execution_count": 13,
   "metadata": {},
   "outputs": [
    {
     "name": "stdout",
     "output_type": "stream",
     "text": [
      "WARNING:tensorflow:Skipping full serialization of Keras layer <keras.layers.regularization.dropout.Dropout object at 0x7f18c0735930>, because it is not built.\n",
      "WARNING:tensorflow:Skipping full serialization of Keras layer <keras.layers.regularization.dropout.Dropout object at 0x7f18c077c340>, because it is not built.\n",
      "WARNING:tensorflow:Skipping full serialization of Keras layer <keras.layers.regularization.dropout.Dropout object at 0x7f18c077ec80>, because it is not built.\n",
      "WARNING:tensorflow:Skipping full serialization of Keras layer <keras.layers.regularization.dropout.Dropout object at 0x7f18c0685600>, because it is not built.\n",
      "WARNING:tensorflow:Skipping full serialization of Keras layer <keras.layers.regularization.dropout.Dropout object at 0x7f18c0687f40>, because it is not built.\n",
      "WARNING:tensorflow:Skipping full serialization of Keras layer <keras.layers.regularization.dropout.Dropout object at 0x7f18c069e8c0>, because it is not built.\n"
     ]
    },
    {
     "name": "stderr",
     "output_type": "stream",
     "text": [
      "WARNING:absl:Found untraced functions such as embeddings_layer_call_fn, embeddings_layer_call_and_return_conditional_losses, transformer_layer_call_fn, transformer_layer_call_and_return_conditional_losses, LayerNorm_layer_call_fn while saving (showing 5 of 164). These functions will not be directly callable after loading.\n"
     ]
    },
    {
     "name": "stdout",
     "output_type": "stream",
     "text": [
      "INFO:tensorflow:Assets written to: ram://5bf03157-ab68-47da-aeea-7f1ca96e0e2c/assets\n"
     ]
    },
    {
     "name": "stderr",
     "output_type": "stream",
     "text": [
      "INFO:tensorflow:Assets written to: ram://5bf03157-ab68-47da-aeea-7f1ca96e0e2c/assets\n"
     ]
    },
    {
     "data": {
      "application/vnd.jupyter.widget-view+json": {
       "model_id": "60225e7620684efe8d192d6b9abf3522",
       "version_major": 2,
       "version_minor": 0
      },
      "text/plain": [
       "  0%|          | 0/14656 [00:00<?, ?ex/s]"
      ]
     },
     "metadata": {},
     "output_type": "display_data"
    }
   ],
   "source": [
    "def get_predictions(text):\n",
    "    if len(text.split(' ')) >= THRESHOLD_WORDS_QTY:\n",
    "        return modelo_delitos_seguimiento(text, truncation=True)[0]\n",
    "    else:\n",
    "        return {'label':'N/A', 'score':0.00}\n",
    "    \n",
    "# making predictions\n",
    "xtest_dataset_sample = xtest_dataset_sample.map(lambda x: {\"predictions\":get_predictions(x['d_RELATO_SIAF'])})\n"
   ]
  },
  {
   "cell_type": "code",
   "execution_count": 14,
   "metadata": {},
   "outputs": [
    {
     "data": {
      "text/plain": [
       "[{'label': 'ROBO DE MOTOS', 'score': 0.998778760433197},\n",
       " {'label': 'ROBO A PERSONAS', 'score': 0.9998107552528381},\n",
       " {'label': 'N/A', 'score': 0.0},\n",
       " {'label': 'N/A', 'score': 0.0},\n",
       " {'label': 'ROBO A DOMICILIO', 'score': 0.9978048205375671},\n",
       " {'label': 'N/A', 'score': 0.0},\n",
       " {'label': 'N/A', 'score': 0.0},\n",
       " {'label': 'N/A', 'score': 0.0},\n",
       " {'label': 'ROBO A PERSONAS', 'score': 0.9998076558113098},\n",
       " {'label': 'ROBO DE CARROS', 'score': 0.9972468614578247}]"
      ]
     },
     "execution_count": 14,
     "metadata": {},
     "output_type": "execute_result"
    }
   ],
   "source": [
    "xtest_dataset_sample['predictions'][:10]"
   ]
  },
  {
   "cell_type": "code",
   "execution_count": 15,
   "metadata": {},
   "outputs": [
    {
     "data": {
      "application/vnd.jupyter.widget-view+json": {
       "model_id": "7933020b059d43feb576f8444d9513de",
       "version_major": 2,
       "version_minor": 0
      },
      "text/plain": [
       "  0%|          | 0/14656 [00:00<?, ?ex/s]"
      ]
     },
     "metadata": {},
     "output_type": "display_data"
    }
   ],
   "source": [
    "# creating columns\n",
    "xtest_dataset_sample = xtest_dataset_sample.map(lambda x: {\"label\":x[\"predictions\"][\"label\"], \"score\":x[\"predictions\"][\"score\"]})"
   ]
  },
  {
   "cell_type": "code",
   "execution_count": 16,
   "metadata": {},
   "outputs": [
    {
     "data": {
      "text/html": [
       "<div>\n",
       "<style scoped>\n",
       "    .dataframe tbody tr th:only-of-type {\n",
       "        vertical-align: middle;\n",
       "    }\n",
       "\n",
       "    .dataframe tbody tr th {\n",
       "        vertical-align: top;\n",
       "    }\n",
       "\n",
       "    .dataframe thead th {\n",
       "        text-align: right;\n",
       "    }\n",
       "</style>\n",
       "<table border=\"1\" class=\"dataframe\">\n",
       "  <thead>\n",
       "    <tr style=\"text-align: right;\">\n",
       "      <th></th>\n",
       "      <th>NDD</th>\n",
       "      <th>d_CANTIDAD_PALABRAS</th>\n",
       "      <th>predictionsDelitosSeguimiento</th>\n",
       "      <th>labelDelitosSeguimiento</th>\n",
       "      <th>scoreDelitosSeguimiento</th>\n",
       "    </tr>\n",
       "  </thead>\n",
       "  <tbody>\n",
       "    <tr>\n",
       "      <th>0</th>\n",
       "      <td>120501814130003</td>\n",
       "      <td>139</td>\n",
       "      <td>{'label': 'ROBO DE MOTOS', 'score': 0.99877876...</td>\n",
       "      <td>ROBO DE MOTOS</td>\n",
       "      <td>0.998779</td>\n",
       "    </tr>\n",
       "    <tr>\n",
       "      <th>1</th>\n",
       "      <td>090101814130041</td>\n",
       "      <td>276</td>\n",
       "      <td>{'label': 'ROBO A PERSONAS', 'score': 0.999810...</td>\n",
       "      <td>ROBO A PERSONAS</td>\n",
       "      <td>0.999811</td>\n",
       "    </tr>\n",
       "    <tr>\n",
       "      <th>2</th>\n",
       "      <td>100101814130008</td>\n",
       "      <td>14</td>\n",
       "      <td>{'label': 'N/A', 'score': 0.0}</td>\n",
       "      <td>N/A</td>\n",
       "      <td>0.000000</td>\n",
       "    </tr>\n",
       "    <tr>\n",
       "      <th>3</th>\n",
       "      <td>050101814130005</td>\n",
       "      <td>46</td>\n",
       "      <td>{'label': 'N/A', 'score': 0.0}</td>\n",
       "      <td>N/A</td>\n",
       "      <td>0.000000</td>\n",
       "    </tr>\n",
       "    <tr>\n",
       "      <th>4</th>\n",
       "      <td>170101814130009</td>\n",
       "      <td>137</td>\n",
       "      <td>{'label': 'ROBO A DOMICILIO', 'score': 0.99780...</td>\n",
       "      <td>ROBO A DOMICILIO</td>\n",
       "      <td>0.997805</td>\n",
       "    </tr>\n",
       "    <tr>\n",
       "      <th>5</th>\n",
       "      <td>120501814130004</td>\n",
       "      <td>17</td>\n",
       "      <td>{'label': 'N/A', 'score': 0.0}</td>\n",
       "      <td>N/A</td>\n",
       "      <td>0.000000</td>\n",
       "    </tr>\n",
       "    <tr>\n",
       "      <th>6</th>\n",
       "      <td>070901814130001</td>\n",
       "      <td>49</td>\n",
       "      <td>{'label': 'N/A', 'score': 0.0}</td>\n",
       "      <td>N/A</td>\n",
       "      <td>0.000000</td>\n",
       "    </tr>\n",
       "    <tr>\n",
       "      <th>7</th>\n",
       "      <td>050101814130004</td>\n",
       "      <td>39</td>\n",
       "      <td>{'label': 'N/A', 'score': 0.0}</td>\n",
       "      <td>N/A</td>\n",
       "      <td>0.000000</td>\n",
       "    </tr>\n",
       "    <tr>\n",
       "      <th>8</th>\n",
       "      <td>170101814130004</td>\n",
       "      <td>89</td>\n",
       "      <td>{'label': 'ROBO A PERSONAS', 'score': 0.999807...</td>\n",
       "      <td>ROBO A PERSONAS</td>\n",
       "      <td>0.999808</td>\n",
       "    </tr>\n",
       "    <tr>\n",
       "      <th>9</th>\n",
       "      <td>090101814130024</td>\n",
       "      <td>138</td>\n",
       "      <td>{'label': 'ROBO DE CARROS', 'score': 0.9972468...</td>\n",
       "      <td>ROBO DE CARROS</td>\n",
       "      <td>0.997247</td>\n",
       "    </tr>\n",
       "  </tbody>\n",
       "</table>\n",
       "</div>"
      ],
      "text/plain": [
       "               NDD  d_CANTIDAD_PALABRAS  \\\n",
       "0  120501814130003                  139   \n",
       "1  090101814130041                  276   \n",
       "2  100101814130008                   14   \n",
       "3  050101814130005                   46   \n",
       "4  170101814130009                  137   \n",
       "5  120501814130004                   17   \n",
       "6  070901814130001                   49   \n",
       "7  050101814130004                   39   \n",
       "8  170101814130004                   89   \n",
       "9  090101814130024                  138   \n",
       "\n",
       "                       predictionsDelitosSeguimiento labelDelitosSeguimiento  \\\n",
       "0  {'label': 'ROBO DE MOTOS', 'score': 0.99877876...           ROBO DE MOTOS   \n",
       "1  {'label': 'ROBO A PERSONAS', 'score': 0.999810...         ROBO A PERSONAS   \n",
       "2                     {'label': 'N/A', 'score': 0.0}                     N/A   \n",
       "3                     {'label': 'N/A', 'score': 0.0}                     N/A   \n",
       "4  {'label': 'ROBO A DOMICILIO', 'score': 0.99780...        ROBO A DOMICILIO   \n",
       "5                     {'label': 'N/A', 'score': 0.0}                     N/A   \n",
       "6                     {'label': 'N/A', 'score': 0.0}                     N/A   \n",
       "7                     {'label': 'N/A', 'score': 0.0}                     N/A   \n",
       "8  {'label': 'ROBO A PERSONAS', 'score': 0.999807...         ROBO A PERSONAS   \n",
       "9  {'label': 'ROBO DE CARROS', 'score': 0.9972468...          ROBO DE CARROS   \n",
       "\n",
       "   scoreDelitosSeguimiento  \n",
       "0                 0.998779  \n",
       "1                 0.999811  \n",
       "2                 0.000000  \n",
       "3                 0.000000  \n",
       "4                 0.997805  \n",
       "5                 0.000000  \n",
       "6                 0.000000  \n",
       "7                 0.000000  \n",
       "8                 0.999808  \n",
       "9                 0.997247  "
      ]
     },
     "execution_count": 16,
     "metadata": {},
     "output_type": "execute_result"
    }
   ],
   "source": [
    "xtest_dataset_sample_df = xtest_dataset_sample.to_pandas()\n",
    "xtest_dataset_sample_df.rename(columns={'predictions':'predictionsDelitosSeguimiento',\n",
    "'label':'labelDelitosSeguimiento',\n",
    "'score':'scoreDelitosSeguimiento'}, inplace=True)\n",
    "# xtest_dataset_sample_df[['d_NDD', 'd_CANTIDAD_PALABRAS', 'predictionsDelitosSeguimiento', 'labelDelitosSeguimiento', 'scoreDelitosSeguimiento']].head(10)\n",
    "xtest_dataset_sample_df[['NDD', 'd_CANTIDAD_PALABRAS', 'predictionsDelitosSeguimiento', 'labelDelitosSeguimiento', 'scoreDelitosSeguimiento']].head(10)\n",
    "\n",
    "# .select([\"d_NDD\", \"d_CANTIDAD_PALABRAS\", \"predictions\", \"label\", \"score\"])"
   ]
  },
  {
   "cell_type": "code",
   "execution_count": 17,
   "metadata": {},
   "outputs": [],
   "source": [
    "xtest_dataset_sample_df.rename(columns={'predictionsDelitosSeguimiento':'d_PREDICT_DELITOS_SEGUIMIENTO',\n",
    "                                        'labelDelitosSeguimiento':'d_LABEL_DELITOS_SEGUIMIENTO',\n",
    "                                        'scoreDelitosSeguimiento':'d_SCORE_DELITOS_SEGUIMIENTO'}, inplace=True)"
   ]
  },
  {
   "cell_type": "code",
   "execution_count": 18,
   "metadata": {},
   "outputs": [
    {
     "data": {
      "text/plain": [
       "0"
      ]
     },
     "execution_count": 18,
     "metadata": {},
     "output_type": "execute_result"
    }
   ],
   "source": [
    "xtest_dataset_sample_df.d_LABEL_DELITOS_SEGUIMIENTO.isna().sum()"
   ]
  },
  {
   "cell_type": "code",
   "execution_count": 19,
   "metadata": {},
   "outputs": [
    {
     "data": {
      "text/plain": [
       "N/A                                                     7196\n",
       "ROBO A PERSONAS                                         2625\n",
       "ROBO DE MOTOS                                           1614\n",
       "ROBO A DOMICILIO                                         917\n",
       "ROBO DE CARROS                                           861\n",
       "ROBO DE BIENES, ACCESORIOS Y AUTOPARTES DE VEHICULOS     734\n",
       "ROBO A UNIDADES ECONOMICAS                               709\n",
       "Name: d_LABEL_DELITOS_SEGUIMIENTO, dtype: int64"
      ]
     },
     "execution_count": 19,
     "metadata": {},
     "output_type": "execute_result"
    }
   ],
   "source": [
    "xtest_dataset_sample_df.d_LABEL_DELITOS_SEGUIMIENTO.value_counts()"
   ]
  },
  {
   "cell_type": "code",
   "execution_count": 20,
   "metadata": {},
   "outputs": [],
   "source": [
    "output_name = file_path_org.split('/')[-1].split('.')[0]+'_Predicted.csv'\n",
    "xtest_dataset_sample_df.to_csv('data/processed/'+output_name, index=False)"
   ]
  },
  {
   "cell_type": "code",
   "execution_count": 21,
   "metadata": {},
   "outputs": [
    {
     "data": {
      "text/plain": [
       "'faltantes_robosFlacso_Predicted.csv'"
      ]
     },
     "execution_count": 21,
     "metadata": {},
     "output_type": "execute_result"
    }
   ],
   "source": [
    "output_name"
   ]
  },
  {
   "cell_type": "code",
   "execution_count": 40,
   "metadata": {},
   "outputs": [],
   "source": [
    "# from src.utils import predict_text_class\n",
    "# predict_text_class(dataf=xtest,\n",
    "#                     model=modelo_delitos_seguimiento,\n",
    "#                     label_relato='d_RELATO_SIAF',\n",
    "#                     label_name='d_DELITOS_SEGUIMIENTO',\n",
    "#                     words_qty_label='d_CANTIDAD_PALABRAS',\n",
    "#                     threshold_words_qty=THRESHOLD_WORDS_QTY)"
   ]
  },
  {
   "cell_type": "code",
   "execution_count": 28,
   "metadata": {},
   "outputs": [
    {
     "name": "stderr",
     "output_type": "stream",
     "text": [
      "Some layers from the model checkpoint at /home/falconiel/ML_Models/robbery_tf20230213 were not used when initializing TFDistilBertForSequenceClassification: ['dropout_19']\n",
      "- This IS expected if you are initializing TFDistilBertForSequenceClassification from the checkpoint of a model trained on another task or with another architecture (e.g. initializing a BertForSequenceClassification model from a BertForPreTraining model).\n",
      "- This IS NOT expected if you are initializing TFDistilBertForSequenceClassification from the checkpoint of a model that you expect to be exactly identical (initializing a BertForSequenceClassification model from a BertForSequenceClassification model).\n",
      "Some layers of TFDistilBertForSequenceClassification were not initialized from the model checkpoint at /home/falconiel/ML_Models/robbery_tf20230213 and are newly initialized: ['dropout_39']\n",
      "You should probably TRAIN this model on a down-stream task to be able to use it for predictions and inference.\n"
     ]
    }
   ],
   "source": [
    "modelo_delitos_validados = load_text_classification_model(path2model=PATH_MODEL_VALIDADOS,\n",
    "                                                            seq_len=SEQ_LEN,\n",
    "                                                            threshold_words_qty=THRESHOLD_WORDS_QTY)"
   ]
  },
  {
   "cell_type": "code",
   "execution_count": 29,
   "metadata": {},
   "outputs": [],
   "source": [
    "from src.utils import predict_text_class\n",
    "predict_text_class(dataf=xtest,\n",
    "                    model=modelo_delitos_validados,\n",
    "                    label_relato='d_RELATO_SIAF',\n",
    "                    label_name='d_DELITOS_VALIDADOS',\n",
    "                    words_qty_label='d_CANTIDAD_PALABRAS',\n",
    "                    threshold_words_qty=THRESHOLD_WORDS_QTY)"
   ]
  },
  {
   "cell_type": "code",
   "execution_count": 30,
   "metadata": {},
   "outputs": [
    {
     "ename": "KeyError",
     "evalue": "'d_DELITOS_SEGUIMIENTO'",
     "output_type": "error",
     "traceback": [
      "\u001b[0;31m---------------------------------------------------------------------------\u001b[0m",
      "\u001b[0;31mKeyError\u001b[0m                                  Traceback (most recent call last)",
      "File \u001b[0;32m~/anaconda3/envs/mlenv/lib/python3.10/site-packages/pandas/core/indexes/base.py:3361\u001b[0m, in \u001b[0;36mIndex.get_loc\u001b[0;34m(self, key, method, tolerance)\u001b[0m\n\u001b[1;32m   3360\u001b[0m \u001b[39mtry\u001b[39;00m:\n\u001b[0;32m-> 3361\u001b[0m     \u001b[39mreturn\u001b[39;00m \u001b[39mself\u001b[39;49m\u001b[39m.\u001b[39;49m_engine\u001b[39m.\u001b[39;49mget_loc(casted_key)\n\u001b[1;32m   3362\u001b[0m \u001b[39mexcept\u001b[39;00m \u001b[39mKeyError\u001b[39;00m \u001b[39mas\u001b[39;00m err:\n",
      "File \u001b[0;32m~/anaconda3/envs/mlenv/lib/python3.10/site-packages/pandas/_libs/index.pyx:76\u001b[0m, in \u001b[0;36mpandas._libs.index.IndexEngine.get_loc\u001b[0;34m()\u001b[0m\n",
      "File \u001b[0;32m~/anaconda3/envs/mlenv/lib/python3.10/site-packages/pandas/_libs/index.pyx:108\u001b[0m, in \u001b[0;36mpandas._libs.index.IndexEngine.get_loc\u001b[0;34m()\u001b[0m\n",
      "File \u001b[0;32mpandas/_libs/hashtable_class_helper.pxi:5198\u001b[0m, in \u001b[0;36mpandas._libs.hashtable.PyObjectHashTable.get_item\u001b[0;34m()\u001b[0m\n",
      "File \u001b[0;32mpandas/_libs/hashtable_class_helper.pxi:5206\u001b[0m, in \u001b[0;36mpandas._libs.hashtable.PyObjectHashTable.get_item\u001b[0;34m()\u001b[0m\n",
      "\u001b[0;31mKeyError\u001b[0m: 'd_DELITOS_SEGUIMIENTO'",
      "\nThe above exception was the direct cause of the following exception:\n",
      "\u001b[0;31mKeyError\u001b[0m                                  Traceback (most recent call last)",
      "Cell \u001b[0;32mIn [30], line 1\u001b[0m\n\u001b[0;32m----> 1\u001b[0m xtest[\u001b[39m\"\u001b[39m\u001b[39md_CHECK\u001b[39m\u001b[39m\"\u001b[39m] \u001b[39m=\u001b[39m xtest\u001b[39m.\u001b[39;49mapply(\u001b[39mlambda\u001b[39;49;00m x: \u001b[39m\"\u001b[39;49m\u001b[39mok\u001b[39;49m\u001b[39m\"\u001b[39;49m \u001b[39mif\u001b[39;49;00m x[\u001b[39m'\u001b[39;49m\u001b[39md_DELITOS_SEGUIMIENTO\u001b[39;49m\u001b[39m'\u001b[39;49m]\u001b[39m==\u001b[39;49mx[\u001b[39m'\u001b[39;49m\u001b[39md_DELITOS_VALIDADOS\u001b[39;49m\u001b[39m'\u001b[39;49m] \u001b[39melse\u001b[39;49;00m \u001b[39m\"\u001b[39;49m\u001b[39mCHECK\u001b[39;49m\u001b[39m\"\u001b[39;49m, axis\u001b[39m=\u001b[39;49m\u001b[39m1\u001b[39;49m)\n",
      "File \u001b[0;32m~/anaconda3/envs/mlenv/lib/python3.10/site-packages/pandas/core/frame.py:8740\u001b[0m, in \u001b[0;36mDataFrame.apply\u001b[0;34m(self, func, axis, raw, result_type, args, **kwargs)\u001b[0m\n\u001b[1;32m   8729\u001b[0m \u001b[39mfrom\u001b[39;00m \u001b[39mpandas\u001b[39;00m\u001b[39m.\u001b[39;00m\u001b[39mcore\u001b[39;00m\u001b[39m.\u001b[39;00m\u001b[39mapply\u001b[39;00m \u001b[39mimport\u001b[39;00m frame_apply\n\u001b[1;32m   8731\u001b[0m op \u001b[39m=\u001b[39m frame_apply(\n\u001b[1;32m   8732\u001b[0m     \u001b[39mself\u001b[39m,\n\u001b[1;32m   8733\u001b[0m     func\u001b[39m=\u001b[39mfunc,\n\u001b[0;32m   (...)\u001b[0m\n\u001b[1;32m   8738\u001b[0m     kwargs\u001b[39m=\u001b[39mkwargs,\n\u001b[1;32m   8739\u001b[0m )\n\u001b[0;32m-> 8740\u001b[0m \u001b[39mreturn\u001b[39;00m op\u001b[39m.\u001b[39;49mapply()\n",
      "File \u001b[0;32m~/anaconda3/envs/mlenv/lib/python3.10/site-packages/pandas/core/apply.py:688\u001b[0m, in \u001b[0;36mFrameApply.apply\u001b[0;34m(self)\u001b[0m\n\u001b[1;32m    685\u001b[0m \u001b[39melif\u001b[39;00m \u001b[39mself\u001b[39m\u001b[39m.\u001b[39mraw:\n\u001b[1;32m    686\u001b[0m     \u001b[39mreturn\u001b[39;00m \u001b[39mself\u001b[39m\u001b[39m.\u001b[39mapply_raw()\n\u001b[0;32m--> 688\u001b[0m \u001b[39mreturn\u001b[39;00m \u001b[39mself\u001b[39;49m\u001b[39m.\u001b[39;49mapply_standard()\n",
      "File \u001b[0;32m~/anaconda3/envs/mlenv/lib/python3.10/site-packages/pandas/core/apply.py:812\u001b[0m, in \u001b[0;36mFrameApply.apply_standard\u001b[0;34m(self)\u001b[0m\n\u001b[1;32m    811\u001b[0m \u001b[39mdef\u001b[39;00m \u001b[39mapply_standard\u001b[39m(\u001b[39mself\u001b[39m):\n\u001b[0;32m--> 812\u001b[0m     results, res_index \u001b[39m=\u001b[39m \u001b[39mself\u001b[39;49m\u001b[39m.\u001b[39;49mapply_series_generator()\n\u001b[1;32m    814\u001b[0m     \u001b[39m# wrap results\u001b[39;00m\n\u001b[1;32m    815\u001b[0m     \u001b[39mreturn\u001b[39;00m \u001b[39mself\u001b[39m\u001b[39m.\u001b[39mwrap_results(results, res_index)\n",
      "File \u001b[0;32m~/anaconda3/envs/mlenv/lib/python3.10/site-packages/pandas/core/apply.py:828\u001b[0m, in \u001b[0;36mFrameApply.apply_series_generator\u001b[0;34m(self)\u001b[0m\n\u001b[1;32m    825\u001b[0m \u001b[39mwith\u001b[39;00m option_context(\u001b[39m\"\u001b[39m\u001b[39mmode.chained_assignment\u001b[39m\u001b[39m\"\u001b[39m, \u001b[39mNone\u001b[39;00m):\n\u001b[1;32m    826\u001b[0m     \u001b[39mfor\u001b[39;00m i, v \u001b[39min\u001b[39;00m \u001b[39menumerate\u001b[39m(series_gen):\n\u001b[1;32m    827\u001b[0m         \u001b[39m# ignore SettingWithCopy here in case the user mutates\u001b[39;00m\n\u001b[0;32m--> 828\u001b[0m         results[i] \u001b[39m=\u001b[39m \u001b[39mself\u001b[39;49m\u001b[39m.\u001b[39;49mf(v)\n\u001b[1;32m    829\u001b[0m         \u001b[39mif\u001b[39;00m \u001b[39misinstance\u001b[39m(results[i], ABCSeries):\n\u001b[1;32m    830\u001b[0m             \u001b[39m# If we have a view on v, we need to make a copy because\u001b[39;00m\n\u001b[1;32m    831\u001b[0m             \u001b[39m#  series_generator will swap out the underlying data\u001b[39;00m\n\u001b[1;32m    832\u001b[0m             results[i] \u001b[39m=\u001b[39m results[i]\u001b[39m.\u001b[39mcopy(deep\u001b[39m=\u001b[39m\u001b[39mFalse\u001b[39;00m)\n",
      "Cell \u001b[0;32mIn [30], line 1\u001b[0m, in \u001b[0;36m<lambda>\u001b[0;34m(x)\u001b[0m\n\u001b[0;32m----> 1\u001b[0m xtest[\u001b[39m\"\u001b[39m\u001b[39md_CHECK\u001b[39m\u001b[39m\"\u001b[39m] \u001b[39m=\u001b[39m xtest\u001b[39m.\u001b[39mapply(\u001b[39mlambda\u001b[39;00m x: \u001b[39m\"\u001b[39m\u001b[39mok\u001b[39m\u001b[39m\"\u001b[39m \u001b[39mif\u001b[39;00m x[\u001b[39m'\u001b[39;49m\u001b[39md_DELITOS_SEGUIMIENTO\u001b[39;49m\u001b[39m'\u001b[39;49m]\u001b[39m==\u001b[39mx[\u001b[39m'\u001b[39m\u001b[39md_DELITOS_VALIDADOS\u001b[39m\u001b[39m'\u001b[39m] \u001b[39melse\u001b[39;00m \u001b[39m\"\u001b[39m\u001b[39mCHECK\u001b[39m\u001b[39m\"\u001b[39m, axis\u001b[39m=\u001b[39m\u001b[39m1\u001b[39m)\n",
      "File \u001b[0;32m~/anaconda3/envs/mlenv/lib/python3.10/site-packages/pandas/core/series.py:942\u001b[0m, in \u001b[0;36mSeries.__getitem__\u001b[0;34m(self, key)\u001b[0m\n\u001b[1;32m    939\u001b[0m     \u001b[39mreturn\u001b[39;00m \u001b[39mself\u001b[39m\u001b[39m.\u001b[39m_values[key]\n\u001b[1;32m    941\u001b[0m \u001b[39melif\u001b[39;00m key_is_scalar:\n\u001b[0;32m--> 942\u001b[0m     \u001b[39mreturn\u001b[39;00m \u001b[39mself\u001b[39;49m\u001b[39m.\u001b[39;49m_get_value(key)\n\u001b[1;32m    944\u001b[0m \u001b[39mif\u001b[39;00m is_hashable(key):\n\u001b[1;32m    945\u001b[0m     \u001b[39m# Otherwise index.get_value will raise InvalidIndexError\u001b[39;00m\n\u001b[1;32m    946\u001b[0m     \u001b[39mtry\u001b[39;00m:\n\u001b[1;32m    947\u001b[0m         \u001b[39m# For labels that don't resolve as scalars like tuples and frozensets\u001b[39;00m\n",
      "File \u001b[0;32m~/anaconda3/envs/mlenv/lib/python3.10/site-packages/pandas/core/series.py:1051\u001b[0m, in \u001b[0;36mSeries._get_value\u001b[0;34m(self, label, takeable)\u001b[0m\n\u001b[1;32m   1048\u001b[0m     \u001b[39mreturn\u001b[39;00m \u001b[39mself\u001b[39m\u001b[39m.\u001b[39m_values[label]\n\u001b[1;32m   1050\u001b[0m \u001b[39m# Similar to Index.get_value, but we do not fall back to positional\u001b[39;00m\n\u001b[0;32m-> 1051\u001b[0m loc \u001b[39m=\u001b[39m \u001b[39mself\u001b[39;49m\u001b[39m.\u001b[39;49mindex\u001b[39m.\u001b[39;49mget_loc(label)\n\u001b[1;32m   1052\u001b[0m \u001b[39mreturn\u001b[39;00m \u001b[39mself\u001b[39m\u001b[39m.\u001b[39mindex\u001b[39m.\u001b[39m_get_values_for_loc(\u001b[39mself\u001b[39m, loc, label)\n",
      "File \u001b[0;32m~/anaconda3/envs/mlenv/lib/python3.10/site-packages/pandas/core/indexes/base.py:3363\u001b[0m, in \u001b[0;36mIndex.get_loc\u001b[0;34m(self, key, method, tolerance)\u001b[0m\n\u001b[1;32m   3361\u001b[0m         \u001b[39mreturn\u001b[39;00m \u001b[39mself\u001b[39m\u001b[39m.\u001b[39m_engine\u001b[39m.\u001b[39mget_loc(casted_key)\n\u001b[1;32m   3362\u001b[0m     \u001b[39mexcept\u001b[39;00m \u001b[39mKeyError\u001b[39;00m \u001b[39mas\u001b[39;00m err:\n\u001b[0;32m-> 3363\u001b[0m         \u001b[39mraise\u001b[39;00m \u001b[39mKeyError\u001b[39;00m(key) \u001b[39mfrom\u001b[39;00m \u001b[39merr\u001b[39;00m\n\u001b[1;32m   3365\u001b[0m \u001b[39mif\u001b[39;00m is_scalar(key) \u001b[39mand\u001b[39;00m isna(key) \u001b[39mand\u001b[39;00m \u001b[39mnot\u001b[39;00m \u001b[39mself\u001b[39m\u001b[39m.\u001b[39mhasnans:\n\u001b[1;32m   3366\u001b[0m     \u001b[39mraise\u001b[39;00m \u001b[39mKeyError\u001b[39;00m(key)\n",
      "\u001b[0;31mKeyError\u001b[0m: 'd_DELITOS_SEGUIMIENTO'"
     ]
    }
   ],
   "source": [
    "xtest[\"d_CHECK\"] = xtest.apply(lambda x: \"ok\" if x['d_DELITOS_SEGUIMIENTO']==x['d_DELITOS_VALIDADOS'] else \"CHECK\", axis=1)"
   ]
  },
  {
   "cell_type": "code",
   "execution_count": 31,
   "metadata": {},
   "outputs": [
    {
     "data": {
      "text/plain": [
       "Index(['f_FECHA_PS', 'd_FECHA_US', 'd_NDD', 'd_ANIO_PS', 'd_ANIO_US',\n",
       "       'd_FECHA_INCIDENTE', 'd_ANIO_INCIDENTE', 'd_MES_PS', 'd_MES_US',\n",
       "       'd_MES_INCIDENTE', 'd_ARTICULO', 'd_ARTICULO_CIRCUNSTANCIAL',\n",
       "       'd_DELITO', 'd_DELITO_CIRCUNSTANCIAL', 'd_ESTADO_PROCESAL',\n",
       "       'd_ETAPA_ACTUAL', 'd_PROVINCIA_US', 'd_PROVINCIA_INCIDENTE',\n",
       "       'd_CANTON_US', 'd_CANTON_INCIDENTE', 'd_TIPO_DELITO', 'd_ESTADO_NDD',\n",
       "       'd_DELITO_SECUENCIA', 'd_FECHA_ESTADO_PROCESAL', 'd_EDIFICIO_RECEPCION',\n",
       "       'd_EDIFICIO_US', 'd_FISCALIA', 'd_NOMBRE_FISCAL', 'd_CEDULA_FISCAL',\n",
       "       'd_TIPO_FLAGRANTE', 'd_COORDENADAS_INCIDENTE', 'd_PARROQUIA_INCIDENTE',\n",
       "       'd_BARRIO_INCIDENTE', 'd_ESPECIALIZACION_US', 'd_URB_RURAL_INCIDENTE',\n",
       "       'd_INVOLUCRADO_APREHENDIDO', 'd_INVOLUCRADO_DESAPARECIDO',\n",
       "       'd_INVOLUCRADO_DETENIDO', 'd_INVOLUCRADO_FALLECIDO',\n",
       "       'd_INVOLUCRADO_IMPUTADO', 'd_INVOLUCRADO_PROCESADO',\n",
       "       'd_INVOLUCRADO_SOSPECHOSO', 'd_INVOLUCRADO_VICTIMA',\n",
       "       'd_INVOLUCRADO_VICTIMARIO', 'd_MODALIDAD_DESAGREGACION',\n",
       "       'd_DELITO_DESAGREGACION', 'd_LUGAR_DESAGREGACION', 'd_SECCION_COIP',\n",
       "       'd_RELATO_SIAF', 'd_CANTIDAD_PALABRAS', 'd_DELITOS_VALIDADOS',\n",
       "       'd_DELITOS_VALIDADOS_SCORE'],\n",
       "      dtype='object')"
      ]
     },
     "execution_count": 31,
     "metadata": {},
     "output_type": "execute_result"
    }
   ],
   "source": [
    "xtest.columns"
   ]
  },
  {
   "cell_type": "code",
   "execution_count": 47,
   "metadata": {},
   "outputs": [
    {
     "data": {
      "text/html": [
       "<div>\n",
       "<style scoped>\n",
       "    .dataframe tbody tr th:only-of-type {\n",
       "        vertical-align: middle;\n",
       "    }\n",
       "\n",
       "    .dataframe tbody tr th {\n",
       "        vertical-align: top;\n",
       "    }\n",
       "\n",
       "    .dataframe thead th {\n",
       "        text-align: right;\n",
       "    }\n",
       "</style>\n",
       "<table border=\"1\" class=\"dataframe\">\n",
       "  <thead>\n",
       "    <tr style=\"text-align: right;\">\n",
       "      <th></th>\n",
       "      <th>d_NDD</th>\n",
       "      <th>d_DELITOS_SEGUIMIENTO</th>\n",
       "      <th>d_DELITOS_VALIDADOS</th>\n",
       "    </tr>\n",
       "  </thead>\n",
       "  <tbody>\n",
       "    <tr>\n",
       "      <th>22710</th>\n",
       "      <td>120601822120004</td>\n",
       "      <td>ROBO A PERSONAS</td>\n",
       "      <td>ROBO A PERSONAS</td>\n",
       "    </tr>\n",
       "    <tr>\n",
       "      <th>53262</th>\n",
       "      <td>070101822080378</td>\n",
       "      <td>ROBO A UNIDADES ECONOMICAS</td>\n",
       "      <td>ROBO A UNIDADES ECONOMICAS</td>\n",
       "    </tr>\n",
       "    <tr>\n",
       "      <th>17794</th>\n",
       "      <td>170401822120037</td>\n",
       "      <td>N/A</td>\n",
       "      <td>N/A</td>\n",
       "    </tr>\n",
       "    <tr>\n",
       "      <th>4824</th>\n",
       "      <td>090101823022154</td>\n",
       "      <td>ROBO A UNIDADES ECONOMICAS</td>\n",
       "      <td>ROBO A UNIDADES ECONOMICAS</td>\n",
       "    </tr>\n",
       "    <tr>\n",
       "      <th>47693</th>\n",
       "      <td>090601822090080</td>\n",
       "      <td>ROBO A PERSONAS</td>\n",
       "      <td>ROBO A PERSONAS</td>\n",
       "    </tr>\n",
       "  </tbody>\n",
       "</table>\n",
       "</div>"
      ],
      "text/plain": [
       "                 d_NDD       d_DELITOS_SEGUIMIENTO         d_DELITOS_VALIDADOS\n",
       "22710  120601822120004             ROBO A PERSONAS             ROBO A PERSONAS\n",
       "53262  070101822080378  ROBO A UNIDADES ECONOMICAS  ROBO A UNIDADES ECONOMICAS\n",
       "17794  170401822120037                         N/A                         N/A\n",
       "4824   090101823022154  ROBO A UNIDADES ECONOMICAS  ROBO A UNIDADES ECONOMICAS\n",
       "47693  090601822090080             ROBO A PERSONAS             ROBO A PERSONAS"
      ]
     },
     "execution_count": 47,
     "metadata": {},
     "output_type": "execute_result"
    }
   ],
   "source": [
    "xtest[['d_NDD', 'd_DELITOS_SEGUIMIENTO','d_DELITOS_VALIDADOS']].sample(5)"
   ]
  },
  {
   "cell_type": "code",
   "execution_count": 48,
   "metadata": {},
   "outputs": [],
   "source": [
    "output_name = file_path_org.split('/')[-1].split('.')[0]+'_Predicted.csv'\n",
    "xtest.to_csv('data/processed/'+output_name, index=False)"
   ]
  },
  {
   "cell_type": "code",
   "execution_count": 49,
   "metadata": {},
   "outputs": [
    {
     "data": {
      "text/plain": [
       "'REPORTE_DESI_LAKENDD2_RobosAutosVehiculos_Predicted.csv'"
      ]
     },
     "execution_count": 49,
     "metadata": {},
     "output_type": "execute_result"
    }
   ],
   "source": [
    "output_name"
   ]
  }
 ],
 "metadata": {
  "kernelspec": {
   "display_name": "mlenv",
   "language": "python",
   "name": "python3"
  },
  "language_info": {
   "codemirror_mode": {
    "name": "ipython",
    "version": 3
   },
   "file_extension": ".py",
   "mimetype": "text/x-python",
   "name": "python",
   "nbconvert_exporter": "python",
   "pygments_lexer": "ipython3",
   "version": "3.10.6"
  },
  "orig_nbformat": 4,
  "vscode": {
   "interpreter": {
    "hash": "19afe7e3d01285359883e0bdfdef3b501ca09ac86b27552c0b451fa8cf9f255a"
   }
  }
 },
 "nbformat": 4,
 "nbformat_minor": 2
}
