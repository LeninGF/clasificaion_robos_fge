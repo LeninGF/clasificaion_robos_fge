{
 "cells": [
  {
   "cell_type": "markdown",
   "metadata": {},
   "source": [
    "## Model Training\n",
    "\n",
    "Transformers will be used to train the Machine Learning Model. It is possible due to complexity that this notebook will be trained in Google Colab and later download to this repo.\n",
    "\n"
   ]
  },
  {
   "cell_type": "code",
   "execution_count": 1,
   "metadata": {},
   "outputs": [
    {
     "data": {
      "text/plain": [
       "'/home/falconiel/CodePrograms/clasificaion_robos_fge'"
      ]
     },
     "execution_count": 1,
     "metadata": {},
     "output_type": "execute_result"
    }
   ],
   "source": [
    "import pandas as pd\n",
    "import numpy as np\n",
    "import os\n",
    "dir_root = os.getcwd()\n",
    "dir_root"
   ]
  },
  {
   "cell_type": "code",
   "execution_count": 3,
   "metadata": {},
   "outputs": [
    {
     "data": {
      "text/html": [
       "<div>\n",
       "<style scoped>\n",
       "    .dataframe tbody tr th:only-of-type {\n",
       "        vertical-align: middle;\n",
       "    }\n",
       "\n",
       "    .dataframe tbody tr th {\n",
       "        vertical-align: top;\n",
       "    }\n",
       "\n",
       "    .dataframe thead th {\n",
       "        text-align: right;\n",
       "    }\n",
       "</style>\n",
       "<table border=\"1\" class=\"dataframe\">\n",
       "  <thead>\n",
       "    <tr style=\"text-align: right;\">\n",
       "      <th></th>\n",
       "      <th>index</th>\n",
       "      <th>NDD</th>\n",
       "      <th>RELATO</th>\n",
       "      <th>cantidad_palabras</th>\n",
       "      <th>Tipo_Delito_PJ</th>\n",
       "      <th>TARGET</th>\n",
       "      <th>LABELS_ROBO A DOMICILIO</th>\n",
       "      <th>LABELS_ROBO A PERSONAS</th>\n",
       "      <th>LABELS_ROBO A UNIDADES ECONOMICAS</th>\n",
       "      <th>LABELS_ROBO DE BIENES, ACCESORIOS Y AUTOPARTES DE VEHICULOS</th>\n",
       "      <th>LABELS_ROBO DE CARROS</th>\n",
       "      <th>LABELS_ROBO DE MOTOS</th>\n",
       "      <th>LABELS</th>\n",
       "    </tr>\n",
       "  </thead>\n",
       "  <tbody>\n",
       "    <tr>\n",
       "      <th>184303</th>\n",
       "      <td>71392</td>\n",
       "      <td>090101814023934</td>\n",
       "      <td>es el caso señor fiscal que el 16 de febrero d...</td>\n",
       "      <td>60</td>\n",
       "      <td>ROBO</td>\n",
       "      <td>6</td>\n",
       "      <td>0</td>\n",
       "      <td>1</td>\n",
       "      <td>0</td>\n",
       "      <td>0</td>\n",
       "      <td>0</td>\n",
       "      <td>0</td>\n",
       "      <td>ROBO A PERSONAS</td>\n",
       "    </tr>\n",
       "    <tr>\n",
       "      <th>98630</th>\n",
       "      <td>37801</td>\n",
       "      <td>070101815060420</td>\n",
       "      <td>señor fiscal con fecha 11 de junio del 2015 ap...</td>\n",
       "      <td>75</td>\n",
       "      <td>ROBO</td>\n",
       "      <td>4</td>\n",
       "      <td>0</td>\n",
       "      <td>0</td>\n",
       "      <td>0</td>\n",
       "      <td>1</td>\n",
       "      <td>0</td>\n",
       "      <td>0</td>\n",
       "      <td>ROBO DE BIENES, ACCESORIOS Y AUTOPARTES DE VEH...</td>\n",
       "    </tr>\n",
       "    <tr>\n",
       "      <th>315669</th>\n",
       "      <td>96009</td>\n",
       "      <td>090101815092671</td>\n",
       "      <td>es el caso sr fiscal que el 02 de septiembre d...</td>\n",
       "      <td>78</td>\n",
       "      <td>ROBO</td>\n",
       "      <td>6</td>\n",
       "      <td>0</td>\n",
       "      <td>1</td>\n",
       "      <td>0</td>\n",
       "      <td>0</td>\n",
       "      <td>0</td>\n",
       "      <td>0</td>\n",
       "      <td>ROBO A PERSONAS</td>\n",
       "    </tr>\n",
       "    <tr>\n",
       "      <th>295070</th>\n",
       "      <td>307595</td>\n",
       "      <td>170101815094660</td>\n",
       "      <td>el día jueves 17 de septiembre de 2015 en hora...</td>\n",
       "      <td>55</td>\n",
       "      <td>ROBO</td>\n",
       "      <td>4</td>\n",
       "      <td>0</td>\n",
       "      <td>0</td>\n",
       "      <td>0</td>\n",
       "      <td>1</td>\n",
       "      <td>0</td>\n",
       "      <td>0</td>\n",
       "      <td>ROBO DE BIENES, ACCESORIOS Y AUTOPARTES DE VEH...</td>\n",
       "    </tr>\n",
       "    <tr>\n",
       "      <th>58166</th>\n",
       "      <td>207492</td>\n",
       "      <td>091001816090058</td>\n",
       "      <td>es el caso señor fiscal que el día 06 de septi...</td>\n",
       "      <td>105</td>\n",
       "      <td>ROBO</td>\n",
       "      <td>5</td>\n",
       "      <td>1</td>\n",
       "      <td>0</td>\n",
       "      <td>0</td>\n",
       "      <td>0</td>\n",
       "      <td>0</td>\n",
       "      <td>0</td>\n",
       "      <td>ROBO A DOMICILIO</td>\n",
       "    </tr>\n",
       "  </tbody>\n",
       "</table>\n",
       "</div>"
      ],
      "text/plain": [
       "         index              NDD  \\\n",
       "184303   71392  090101814023934   \n",
       "98630    37801  070101815060420   \n",
       "315669   96009  090101815092671   \n",
       "295070  307595  170101815094660   \n",
       "58166   207492  091001816090058   \n",
       "\n",
       "                                                   RELATO  cantidad_palabras  \\\n",
       "184303  es el caso señor fiscal que el 16 de febrero d...                 60   \n",
       "98630   señor fiscal con fecha 11 de junio del 2015 ap...                 75   \n",
       "315669  es el caso sr fiscal que el 02 de septiembre d...                 78   \n",
       "295070  el día jueves 17 de septiembre de 2015 en hora...                 55   \n",
       "58166   es el caso señor fiscal que el día 06 de septi...                105   \n",
       "\n",
       "       Tipo_Delito_PJ  TARGET  LABELS_ROBO A DOMICILIO  \\\n",
       "184303           ROBO       6                        0   \n",
       "98630            ROBO       4                        0   \n",
       "315669           ROBO       6                        0   \n",
       "295070           ROBO       4                        0   \n",
       "58166            ROBO       5                        1   \n",
       "\n",
       "        LABELS_ROBO A PERSONAS  LABELS_ROBO A UNIDADES ECONOMICAS  \\\n",
       "184303                       1                                  0   \n",
       "98630                        0                                  0   \n",
       "315669                       1                                  0   \n",
       "295070                       0                                  0   \n",
       "58166                        0                                  0   \n",
       "\n",
       "        LABELS_ROBO DE BIENES, ACCESORIOS Y AUTOPARTES DE VEHICULOS  \\\n",
       "184303                                                  0             \n",
       "98630                                                   1             \n",
       "315669                                                  0             \n",
       "295070                                                  1             \n",
       "58166                                                   0             \n",
       "\n",
       "        LABELS_ROBO DE CARROS  LABELS_ROBO DE MOTOS  \\\n",
       "184303                      0                     0   \n",
       "98630                       0                     0   \n",
       "315669                      0                     0   \n",
       "295070                      0                     0   \n",
       "58166                       0                     0   \n",
       "\n",
       "                                                   LABELS  \n",
       "184303                                    ROBO A PERSONAS  \n",
       "98630   ROBO DE BIENES, ACCESORIOS Y AUTOPARTES DE VEH...  \n",
       "315669                                    ROBO A PERSONAS  \n",
       "295070  ROBO DE BIENES, ACCESORIOS Y AUTOPARTES DE VEH...  \n",
       "58166                                    ROBO A DOMICILIO  "
      ]
     },
     "execution_count": 3,
     "metadata": {},
     "output_type": "execute_result"
    }
   ],
   "source": [
    "dataset_df = pd.read_csv(os.path.join(dir_root, 'data/processed/trainset.csv'), converters={'NDD':str})\n",
    "dataset_df.sample(5)"
   ]
  },
  {
   "cell_type": "code",
   "execution_count": 4,
   "metadata": {},
   "outputs": [],
   "source": [
    "seqlen = dataset_df.RELATO.apply(lambda x: len(x.split()))"
   ]
  },
  {
   "cell_type": "markdown",
   "metadata": {},
   "source": [
    "Let us create an Histogram of the word count in Crime report"
   ]
  },
  {
   "cell_type": "code",
   "execution_count": 6,
   "metadata": {},
   "outputs": [
    {
     "name": "stderr",
     "output_type": "stream",
     "text": [
      "/home/falconiel/anaconda3/envs/fge_dir/lib/python3.9/site-packages/seaborn/distributions.py:2619: FutureWarning: `distplot` is a deprecated function and will be removed in a future version. Please adapt your code to use either `displot` (a figure-level function with similar flexibility) or `histplot` (an axes-level function for histograms).\n",
      "  warnings.warn(msg, FutureWarning)\n"
     ]
    },
    {
     "data": {
      "text/plain": [
       "<AxesSubplot:xlabel='RELATO', ylabel='Density'>"
      ]
     },
     "execution_count": 6,
     "metadata": {},
     "output_type": "execute_result"
    },
    {
     "data": {
      "image/png": "[encoded data removed]",
      "text/plain": [
       "<Figure size 1152x720 with 1 Axes>"
      ]
     },
     "metadata": {},
     "output_type": "display_data"
    }
   ],
   "source": [
    "import seaborn as sns\n",
    "import matplotlib.pyplot as plt\n",
    "sns.set_style('darkgrid')\n",
    "plt.figure(figsize=(16,10))\n",
    "sns.distplot(seqlen)"
   ]
  },
  {
   "cell_type": "markdown",
   "metadata": {},
   "source": [
    "In a example solved in https://www.youtube.com/watch?v=GYDFBfx8Ts8&t=498s, the length of the sequence was set to the maximum span of the distplot. This would imply to use a length sequence of 300. I think padding and trucate are used in consequence with this size so that all tensors in would have the same length. I think that if we chouse $SEQ_LEN<200$, those reports with values below 200 will be truncated (This is something that I need to understand when writing the paper). Now by choosing to use the maximum length, which appears to be somehow 300, there should be no truncation but padding to some of the records. Let us consider what is the maximum length of the Crime report"
   ]
  },
  {
   "cell_type": "code",
   "execution_count": 8,
   "metadata": {},
   "outputs": [
    {
     "data": {
      "text/plain": [
       "300"
      ]
     },
     "execution_count": 8,
     "metadata": {},
     "output_type": "execute_result"
    }
   ],
   "source": [
    "seqlen.max()"
   ]
  },
  {
   "cell_type": "code",
   "execution_count": 9,
   "metadata": {},
   "outputs": [
    {
     "data": {
      "text/plain": [
       "300"
      ]
     },
     "execution_count": 9,
     "metadata": {},
     "output_type": "execute_result"
    }
   ],
   "source": [
    "dataset_df.cantidad_palabras.max()"
   ]
  },
  {
   "cell_type": "markdown",
   "metadata": {},
   "source": [
    "We have already separated the original dataset in Train and Test. Because of that, we would split this train dataset in train and validation. Test set will be used at the end in order to proof the concept"
   ]
  },
  {
   "cell_type": "code",
   "execution_count": 10,
   "metadata": {},
   "outputs": [
    {
     "data": {
      "text/plain": [
       "Index(['index', 'NDD', 'RELATO', 'cantidad_palabras', 'Tipo_Delito_PJ',\n",
       "       'TARGET', 'LABELS_ROBO A DOMICILIO', 'LABELS_ROBO A PERSONAS',\n",
       "       'LABELS_ROBO A UNIDADES ECONOMICAS',\n",
       "       'LABELS_ROBO DE BIENES, ACCESORIOS Y AUTOPARTES DE VEHICULOS',\n",
       "       'LABELS_ROBO DE CARROS', 'LABELS_ROBO DE MOTOS', 'LABELS'],\n",
       "      dtype='object')"
      ]
     },
     "execution_count": 10,
     "metadata": {},
     "output_type": "execute_result"
    }
   ],
   "source": [
    "dataset_df.columns"
   ]
  },
  {
   "cell_type": "code",
   "execution_count": 11,
   "metadata": {},
   "outputs": [],
   "source": [
    "X_set = dataset_df[['RELATO']]\n",
    "Y_set = dataset_df[['LABELS_ROBO A DOMICILIO', \n",
    "'LABELS_ROBO A PERSONAS',\n",
    "'LABELS_ROBO A UNIDADES ECONOMICAS',\n",
    "'LABELS_ROBO DE BIENES, ACCESORIOS Y AUTOPARTES DE VEHICULOS',\n",
    "'LABELS_ROBO DE CARROS',\n",
    "'LABELS_ROBO DE MOTOS']]"
   ]
  },
  {
   "cell_type": "code",
   "execution_count": 12,
   "metadata": {},
   "outputs": [
    {
     "data": {
      "text/plain": [
       "(RELATO    es el caso señor fiscal que el día 22 de octub...\n",
       " Name: 0, dtype: object,\n",
       " LABELS_ROBO A DOMICILIO                                        0\n",
       " LABELS_ROBO A PERSONAS                                         0\n",
       " LABELS_ROBO A UNIDADES ECONOMICAS                              0\n",
       " LABELS_ROBO DE BIENES, ACCESORIOS Y AUTOPARTES DE VEHICULOS    0\n",
       " LABELS_ROBO DE CARROS                                          1\n",
       " LABELS_ROBO DE MOTOS                                           0\n",
       " Name: 0, dtype: int64)"
      ]
     },
     "execution_count": 12,
     "metadata": {},
     "output_type": "execute_result"
    }
   ],
   "source": [
    "X_set.iloc[0,:], Y_set.iloc[0,:]"
   ]
  },
  {
   "cell_type": "code",
   "execution_count": 13,
   "metadata": {},
   "outputs": [],
   "source": [
    "from sklearn.model_selection import train_test_split\n",
    "train_texts, val_texts, train_labels, val_labels = train_test_split(X_set, Y_set, test_size=.2)"
   ]
  },
  {
   "cell_type": "code",
   "execution_count": 14,
   "metadata": {},
   "outputs": [
    {
     "data": {
      "text/plain": [
       "((273335, 1), (68334, 1), (273335, 6), (68334, 6))"
      ]
     },
     "execution_count": 14,
     "metadata": {},
     "output_type": "execute_result"
    }
   ],
   "source": [
    "train_texts.shape, val_texts.shape, train_labels.shape, val_labels.shape"
   ]
  },
  {
   "cell_type": "markdown",
   "metadata": {},
   "source": [
    "Since the classification is of type Multicategorical, it is clear that:\n",
    "\n",
    "$\\mathbf{y} \\in\\mathcal{R}^6   $ corresponds to the labels of our set. The structure of $ \\mathbf{X} $ will depend on the tokenization process. \n",
    "\n",
    "Moreover there are possible two ways to test.\n",
    "\n",
    "1. The provided guide at https://huggingface.co/transformers/v3.2.0/custom_datasets.html, does not use attention masks. We could test first this approach.\n",
    "2. We could follow the lead of https://www.youtube.com/watch?v=GYDFBfx8Ts8&t=498s, and provide both input_ids and masks_ids\n",
    "3. We should compare how things go provided the classical approach by using count of words (wordvec, bag of words and others) And compare results.\n",
    "4. There is something that is not being considered in this approach and it is unbalanced data. We should think about a way of balancing data"
   ]
  },
  {
   "cell_type": "code",
   "execution_count": 16,
   "metadata": {},
   "outputs": [
    {
     "data": {
      "text/plain": [
       "<AxesSubplot:>"
      ]
     },
     "execution_count": 16,
     "metadata": {},
     "output_type": "execute_result"
    },
    {
     "data": {
      "image/png": "[encoded data removed]",
      "text/plain": [
       "<Figure size 432x288 with 1 Axes>"
      ]
     },
     "metadata": {},
     "output_type": "display_data"
    }
   ],
   "source": [
    "dataset_df.LABELS.value_counts().plot.barh()"
   ]
  },
  {
   "cell_type": "markdown",
   "metadata": {},
   "source": [
    "I think and interesting way of solving could by making an ensemble by distributing different samples in each **weak** learner. Eventhough it is not a weak learner because they are actually transformer-convnet based learners. \n",
    "\n",
    "Also, it must be noticed that we are going through fine tuning a pre-trained bert model. What would happen if we train it from scratch? would it be better?"
   ]
  },
  {
   "cell_type": "code",
   "execution_count": 26,
   "metadata": {},
   "outputs": [
    {
     "ename": "ImportError",
     "evalue": "cannot import name 'DistilBertTokenizerFast' from 'transformers' (/home/falconiel/anaconda3/envs/fge_dir/lib/python3.9/site-packages/transformers/__init__.py)",
     "output_type": "error",
     "traceback": [
      "\u001b[0;31m---------------------------------------------------------------------------\u001b[0m",
      "\u001b[0;31mImportError\u001b[0m                               Traceback (most recent call last)",
      "\u001b[1;32m/home/falconiel/CodePrograms/clasificaion_robos_fge/model_train.ipynb Cell 19'\u001b[0m in \u001b[0;36m<cell line: 1>\u001b[0;34m()\u001b[0m\n\u001b[0;32m----> <a href='vscode-notebook-cell:/home/falconiel/CodePrograms/clasificaion_robos_fge/model_train.ipynb#ch0000018?line=0'>1</a>\u001b[0m \u001b[39mfrom\u001b[39;00m \u001b[39mtransformers\u001b[39;00m \u001b[39mimport\u001b[39;00m DistilBertTokenizer, AutoTokenizer, DistilBertTokenizerFast\n\u001b[1;32m      <a href='vscode-notebook-cell:/home/falconiel/CodePrograms/clasificaion_robos_fge/model_train.ipynb#ch0000018?line=1'>2</a>\u001b[0m model_name \u001b[39m=\u001b[39m \u001b[39m'\u001b[39m\u001b[39mxlm-roberta-large\u001b[39m\u001b[39m'\u001b[39m\n\u001b[1;32m      <a href='vscode-notebook-cell:/home/falconiel/CodePrograms/clasificaion_robos_fge/model_train.ipynb#ch0000018?line=2'>3</a>\u001b[0m model_name \u001b[39m=\u001b[39m \u001b[39m'\u001b[39m\u001b[39mbert-base-cased\u001b[39m\u001b[39m'\u001b[39m\n",
      "\u001b[0;31mImportError\u001b[0m: cannot import name 'DistilBertTokenizerFast' from 'transformers' (/home/falconiel/anaconda3/envs/fge_dir/lib/python3.9/site-packages/transformers/__init__.py)"
     ]
    }
   ],
   "source": [
    "from transformers import DistilBertTokenizer, AutoTokenizer, DistilBertTokenizerFast\n",
    "model_name = 'xlm-roberta-large'\n",
    "model_name = 'bert-base-cased'\n",
    "model_name = 'bert-base-multilingual-uncased-sentiment'\n",
    "model_name = ''\n",
    "tokenizer = DistilBertTokenizerFast.from_pretrained(model_name)"
   ]
  }
 ],
 "metadata": {
  "kernelspec": {
   "display_name": "Python 3.9.13 ('fge_dir')",
   "language": "python",
   "name": "python3"
  },
  "language_info": {
   "codemirror_mode": {
    "name": "ipython",
    "version": 3
   },
   "file_extension": ".py",
   "mimetype": "text/x-python",
   "name": "python",
   "nbconvert_exporter": "python",
   "pygments_lexer": "ipython3",
   "version": "3.9.13"
  },
  "orig_nbformat": 4,
  "vscode": {
   "interpreter": {
    "hash": "12406fe364dd4d60b986b146315bb946ade40332b21e913bca67dde5e61a5fa6"
   }
  }
 },
 "nbformat": 4,
 "nbformat_minor": 2
}
