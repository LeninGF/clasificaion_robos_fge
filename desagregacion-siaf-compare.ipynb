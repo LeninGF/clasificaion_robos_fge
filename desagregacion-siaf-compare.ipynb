{
 "cells": [
  {
   "cell_type": "markdown",
   "metadata": {},
   "source": [
    "## Siaf-ETL\n",
    "\n",
    "The purpose of this notebook is to find a dictionary to solve the differences of the categories written in siaf with those in delitos seguimiento and delitos validados."
   ]
  },
  {
   "cell_type": "code",
   "execution_count": 1,
   "metadata": {},
   "outputs": [
    {
     "name": "stdout",
     "output_type": "stream",
     "text": [
      "conectando con big data database....\n",
      "<sqlalchemy.engine.base.Connection object at 0x7f6a8afb4c10>\n"
     ]
    }
   ],
   "source": [
    "from src.utils import conectar_sql\n",
    "import pandas as pd\n",
    "\n",
    "conx = conectar_sql()"
   ]
  },
  {
   "cell_type": "code",
   "execution_count": 6,
   "metadata": {},
   "outputs": [
    {
     "data": {
      "text/plain": [
       "(44, 2)"
      ]
     },
     "execution_count": 6,
     "metadata": {},
     "output_type": "execute_result"
    }
   ],
   "source": [
    "query1 = \"\"\"select robos.DELITO_DESAGREGACION,\n",
    "count(robos.NDD) as TOTAL\n",
    "from DaaS.robosML robos\n",
    "group by robos.DELITO_DESAGREGACION\n",
    "order by count(robos.NDD) desc;\"\"\"\n",
    "\n",
    "desagregation_siaf = pd.read_sql(query1, conx)\n",
    "desagregation_siaf.shape"
   ]
  },
  {
   "cell_type": "code",
   "execution_count": 7,
   "metadata": {},
   "outputs": [
    {
     "data": {
      "text/html": [
       "<div>\n",
       "<style scoped>\n",
       "    .dataframe tbody tr th:only-of-type {\n",
       "        vertical-align: middle;\n",
       "    }\n",
       "\n",
       "    .dataframe tbody tr th {\n",
       "        vertical-align: top;\n",
       "    }\n",
       "\n",
       "    .dataframe thead th {\n",
       "        text-align: right;\n",
       "    }\n",
       "</style>\n",
       "<table border=\"1\" class=\"dataframe\">\n",
       "  <thead>\n",
       "    <tr style=\"text-align: right;\">\n",
       "      <th></th>\n",
       "      <th>DELITO_DESAGREGACION</th>\n",
       "      <th>TOTAL</th>\n",
       "    </tr>\n",
       "  </thead>\n",
       "  <tbody>\n",
       "    <tr>\n",
       "      <th>0</th>\n",
       "      <td>ROBO A PERSONAS</td>\n",
       "      <td>419036</td>\n",
       "    </tr>\n",
       "    <tr>\n",
       "      <th>1</th>\n",
       "      <td>ROBO A DOMICILIO</td>\n",
       "      <td>127168</td>\n",
       "    </tr>\n",
       "    <tr>\n",
       "      <th>2</th>\n",
       "      <td>NO_APLICA</td>\n",
       "      <td>83864</td>\n",
       "    </tr>\n",
       "    <tr>\n",
       "      <th>3</th>\n",
       "      <td>ROBO DE MOTOS</td>\n",
       "      <td>76614</td>\n",
       "    </tr>\n",
       "    <tr>\n",
       "      <th>4</th>\n",
       "      <td>ROBO DOMICILIOS</td>\n",
       "      <td>72933</td>\n",
       "    </tr>\n",
       "  </tbody>\n",
       "</table>\n",
       "</div>"
      ],
      "text/plain": [
       "  DELITO_DESAGREGACION   TOTAL\n",
       "0      ROBO A PERSONAS  419036\n",
       "1     ROBO A DOMICILIO  127168\n",
       "2            NO_APLICA   83864\n",
       "3        ROBO DE MOTOS   76614\n",
       "4      ROBO DOMICILIOS   72933"
      ]
     },
     "execution_count": 7,
     "metadata": {},
     "output_type": "execute_result"
    }
   ],
   "source": [
    "desagregation_siaf.head()"
   ]
  },
  {
   "cell_type": "code",
   "execution_count": 9,
   "metadata": {},
   "outputs": [
    {
     "data": {
      "text/plain": [
       "(8, 2)"
      ]
     },
     "execution_count": 9,
     "metadata": {},
     "output_type": "execute_result"
    }
   ],
   "source": [
    "query2 = \"\"\"select robos.delitos_seguimiento_predicted,\n",
    "count(robos.NDD) as TOTAL\n",
    "from DaaS.robosML robos\n",
    "group by robos.delitos_seguimiento_predicted\n",
    "order by count(robos.NDD) desc;\"\"\"\n",
    "\n",
    "seguimiento = pd.read_sql(query2, conx)\n",
    "seguimiento.shape"
   ]
  },
  {
   "cell_type": "code",
   "execution_count": 10,
   "metadata": {},
   "outputs": [
    {
     "data": {
      "text/html": [
       "<div>\n",
       "<style scoped>\n",
       "    .dataframe tbody tr th:only-of-type {\n",
       "        vertical-align: middle;\n",
       "    }\n",
       "\n",
       "    .dataframe tbody tr th {\n",
       "        vertical-align: top;\n",
       "    }\n",
       "\n",
       "    .dataframe thead th {\n",
       "        text-align: right;\n",
       "    }\n",
       "</style>\n",
       "<table border=\"1\" class=\"dataframe\">\n",
       "  <thead>\n",
       "    <tr style=\"text-align: right;\">\n",
       "      <th></th>\n",
       "      <th>delitos_seguimiento_predicted</th>\n",
       "      <th>TOTAL</th>\n",
       "    </tr>\n",
       "  </thead>\n",
       "  <tbody>\n",
       "    <tr>\n",
       "      <th>0</th>\n",
       "      <td>OTROS ROBOS</td>\n",
       "      <td>367002</td>\n",
       "    </tr>\n",
       "    <tr>\n",
       "      <th>1</th>\n",
       "      <td>ROBO A PERSONAS</td>\n",
       "      <td>301478</td>\n",
       "    </tr>\n",
       "    <tr>\n",
       "      <th>2</th>\n",
       "      <td>ROBO A DOMICILIO</td>\n",
       "      <td>123590</td>\n",
       "    </tr>\n",
       "    <tr>\n",
       "      <th>3</th>\n",
       "      <td>ROBO DE BIENES, ACCESORIOS Y AUTOPARTES DE VEH...</td>\n",
       "      <td>114949</td>\n",
       "    </tr>\n",
       "    <tr>\n",
       "      <th>4</th>\n",
       "      <td>ROBO DE MOTOS</td>\n",
       "      <td>84283</td>\n",
       "    </tr>\n",
       "    <tr>\n",
       "      <th>5</th>\n",
       "      <td>ROBO A UNIDADES ECONOMICAS</td>\n",
       "      <td>68591</td>\n",
       "    </tr>\n",
       "    <tr>\n",
       "      <th>6</th>\n",
       "      <td>ROBO DE CARROS</td>\n",
       "      <td>68218</td>\n",
       "    </tr>\n",
       "    <tr>\n",
       "      <th>7</th>\n",
       "      <td>None</td>\n",
       "      <td>5088</td>\n",
       "    </tr>\n",
       "  </tbody>\n",
       "</table>\n",
       "</div>"
      ],
      "text/plain": [
       "                       delitos_seguimiento_predicted   TOTAL\n",
       "0                                        OTROS ROBOS  367002\n",
       "1                                    ROBO A PERSONAS  301478\n",
       "2                                   ROBO A DOMICILIO  123590\n",
       "3  ROBO DE BIENES, ACCESORIOS Y AUTOPARTES DE VEH...  114949\n",
       "4                                      ROBO DE MOTOS   84283\n",
       "5                         ROBO A UNIDADES ECONOMICAS   68591\n",
       "6                                     ROBO DE CARROS   68218\n",
       "7                                               None    5088"
      ]
     },
     "execution_count": 10,
     "metadata": {},
     "output_type": "execute_result"
    }
   ],
   "source": [
    "seguimiento"
   ]
  },
  {
   "cell_type": "code",
   "execution_count": 18,
   "metadata": {},
   "outputs": [
    {
     "data": {
      "text/plain": [
       "{'OTROS ROBOS',\n",
       " 'ROBO A DOMICILIO',\n",
       " 'ROBO A PERSONAS',\n",
       " 'ROBO A UNIDADES ECONOMICAS',\n",
       " 'ROBO DE BIENES, ACCESORIOS Y AUTOPARTES DE VEHICULOS',\n",
       " 'ROBO DE CARROS',\n",
       " 'ROBO DE MOTOS'}"
      ]
     },
     "execution_count": 18,
     "metadata": {},
     "output_type": "execute_result"
    }
   ],
   "source": [
    "seguimiento_set = set(seguimiento.delitos_seguimiento_predicted)\n",
    "seguimiento_set.discard(None)\n",
    "# seguimiento_set.discard('OTROS ROBOS')\n",
    "seguimiento_set"
   ]
  },
  {
   "cell_type": "code",
   "execution_count": 11,
   "metadata": {},
   "outputs": [
    {
     "data": {
      "text/plain": [
       "(12, 2)"
      ]
     },
     "execution_count": 11,
     "metadata": {},
     "output_type": "execute_result"
    }
   ],
   "source": [
    "query3 = \"\"\"select robos.delitos_validados_predicted,\n",
    "count(robos.NDD) as TOTAL\n",
    "from DaaS.robosML robos\n",
    "group by robos.delitos_validados_predicted\n",
    "order by count(robos.NDD) desc;\"\"\"\n",
    "\n",
    "validados = pd.read_sql(query3, conx)\n",
    "validados.shape"
   ]
  },
  {
   "cell_type": "code",
   "execution_count": 12,
   "metadata": {},
   "outputs": [
    {
     "data": {
      "text/html": [
       "<div>\n",
       "<style scoped>\n",
       "    .dataframe tbody tr th:only-of-type {\n",
       "        vertical-align: middle;\n",
       "    }\n",
       "\n",
       "    .dataframe tbody tr th {\n",
       "        vertical-align: top;\n",
       "    }\n",
       "\n",
       "    .dataframe thead th {\n",
       "        text-align: right;\n",
       "    }\n",
       "</style>\n",
       "<table border=\"1\" class=\"dataframe\">\n",
       "  <thead>\n",
       "    <tr style=\"text-align: right;\">\n",
       "      <th></th>\n",
       "      <th>delitos_validados_predicted</th>\n",
       "      <th>TOTAL</th>\n",
       "    </tr>\n",
       "  </thead>\n",
       "  <tbody>\n",
       "    <tr>\n",
       "      <th>0</th>\n",
       "      <td>OTROS ROBOS</td>\n",
       "      <td>392949</td>\n",
       "    </tr>\n",
       "    <tr>\n",
       "      <th>1</th>\n",
       "      <td>ROBO A PERSONAS</td>\n",
       "      <td>297312</td>\n",
       "    </tr>\n",
       "    <tr>\n",
       "      <th>2</th>\n",
       "      <td>ROBO A DOMICILIO</td>\n",
       "      <td>110318</td>\n",
       "    </tr>\n",
       "    <tr>\n",
       "      <th>3</th>\n",
       "      <td>ROBO DE BIENES, ACCESORIOS Y AUTOPARTES DE VEH...</td>\n",
       "      <td>101569</td>\n",
       "    </tr>\n",
       "    <tr>\n",
       "      <th>4</th>\n",
       "      <td>ROBO DE MOTOS</td>\n",
       "      <td>86871</td>\n",
       "    </tr>\n",
       "    <tr>\n",
       "      <th>5</th>\n",
       "      <td>ROBO DE CARROS</td>\n",
       "      <td>72171</td>\n",
       "    </tr>\n",
       "    <tr>\n",
       "      <th>6</th>\n",
       "      <td>ROBO A UNIDADES ECONOMICAS</td>\n",
       "      <td>48739</td>\n",
       "    </tr>\n",
       "    <tr>\n",
       "      <th>7</th>\n",
       "      <td>ROBO A INSTITUCIONES EDUCATIVAS</td>\n",
       "      <td>8905</td>\n",
       "    </tr>\n",
       "    <tr>\n",
       "      <th>8</th>\n",
       "      <td>ROBO A EMBARCACIONES DE ESPACIOS ACUATICOS</td>\n",
       "      <td>5395</td>\n",
       "    </tr>\n",
       "    <tr>\n",
       "      <th>9</th>\n",
       "      <td>None</td>\n",
       "      <td>5088</td>\n",
       "    </tr>\n",
       "    <tr>\n",
       "      <th>10</th>\n",
       "      <td>ROBO EN INSTITUCIONES PUBLICAS</td>\n",
       "      <td>2073</td>\n",
       "    </tr>\n",
       "    <tr>\n",
       "      <th>11</th>\n",
       "      <td>ROBO A ESTABLECIMIENTOS DE COLECTIVOS U ORGANI...</td>\n",
       "      <td>1809</td>\n",
       "    </tr>\n",
       "  </tbody>\n",
       "</table>\n",
       "</div>"
      ],
      "text/plain": [
       "                          delitos_validados_predicted   TOTAL\n",
       "0                                         OTROS ROBOS  392949\n",
       "1                                     ROBO A PERSONAS  297312\n",
       "2                                    ROBO A DOMICILIO  110318\n",
       "3   ROBO DE BIENES, ACCESORIOS Y AUTOPARTES DE VEH...  101569\n",
       "4                                       ROBO DE MOTOS   86871\n",
       "5                                      ROBO DE CARROS   72171\n",
       "6                          ROBO A UNIDADES ECONOMICAS   48739\n",
       "7                     ROBO A INSTITUCIONES EDUCATIVAS    8905\n",
       "8          ROBO A EMBARCACIONES DE ESPACIOS ACUATICOS    5395\n",
       "9                                                None    5088\n",
       "10                     ROBO EN INSTITUCIONES PUBLICAS    2073\n",
       "11  ROBO A ESTABLECIMIENTOS DE COLECTIVOS U ORGANI...    1809"
      ]
     },
     "execution_count": 12,
     "metadata": {},
     "output_type": "execute_result"
    }
   ],
   "source": [
    "validados"
   ]
  },
  {
   "cell_type": "code",
   "execution_count": 16,
   "metadata": {},
   "outputs": [
    {
     "data": {
      "text/plain": [
       "{'OTROS ROBOS',\n",
       " 'ROBO A DOMICILIO',\n",
       " 'ROBO A EMBARCACIONES DE ESPACIOS ACUATICOS',\n",
       " 'ROBO A ESTABLECIMIENTOS DE COLECTIVOS U ORGANIZACIONES SOCIALES',\n",
       " 'ROBO A INSTITUCIONES EDUCATIVAS',\n",
       " 'ROBO A PERSONAS',\n",
       " 'ROBO A UNIDADES ECONOMICAS',\n",
       " 'ROBO DE BIENES, ACCESORIOS Y AUTOPARTES DE VEHICULOS',\n",
       " 'ROBO DE CARROS',\n",
       " 'ROBO DE MOTOS',\n",
       " 'ROBO EN INSTITUCIONES PUBLICAS'}"
      ]
     },
     "execution_count": 16,
     "metadata": {},
     "output_type": "execute_result"
    }
   ],
   "source": [
    "validados_set = set(validados.delitos_validados_predicted)\n",
    "validados_set.discard(None)\n",
    "validados_set"
   ]
  },
  {
   "cell_type": "code",
   "execution_count": 24,
   "metadata": {},
   "outputs": [],
   "source": [
    "from fuzzywuzzy import process\n",
    "seguimiento_mapping = {}\n",
    "for siaf_cat in desagregation_siaf.DELITO_DESAGREGACION.to_list():\n",
    "    closes_match, score = process.extractOne(siaf_cat, seguimiento_set)\n",
    "    # print(score)\n",
    "    if score > 85:\n",
    "        seguimiento_mapping[siaf_cat] = closes_match\n",
    "    else:\n",
    "        seguimiento_mapping[siaf_cat] = 'No match found'"
   ]
  },
  {
   "cell_type": "code",
   "execution_count": 25,
   "metadata": {},
   "outputs": [
    {
     "data": {
      "text/plain": [
       "{'ROBO A PERSONAS': 'ROBO A PERSONAS',\n",
       " 'ROBO A DOMICILIO': 'ROBO A DOMICILIO',\n",
       " 'NO_APLICA': 'No match found',\n",
       " 'ROBO DE MOTOS': 'ROBO DE MOTOS',\n",
       " 'ROBO DOMICILIOS': 'ROBO A DOMICILIO',\n",
       " 'ROBO DE CARROS': 'ROBO DE CARROS',\n",
       " 'ROBO DE BIENES, ACCESORIOS Y AUTOPARTES DE VEHICULOS': 'ROBO DE BIENES, ACCESORIOS Y AUTOPARTES DE VEHICULOS',\n",
       " 'OTROS ROBOS': 'OTROS ROBOS',\n",
       " 'ROBO DE ACCESORIOS DE VEHÍCULOS': 'ROBO DE CARROS',\n",
       " 'ROBO DE VEHÍCULOS': 'ROBO A UNIDADES ECONOMICAS',\n",
       " 'ROBO DE MOTOCICLETAS': 'ROBO DE BIENES, ACCESORIOS Y AUTOPARTES DE VEHICULOS',\n",
       " 'ROBO EN LOCALES COMERCIALES': 'ROBO DE CARROS',\n",
       " 'ROBO A BIENES DE UNIDADES ECONOMICAS': 'ROBO A UNIDADES ECONOMICAS',\n",
       " 'ROBO A BIENES DE INSTITUCIONES EDUCATIVAS': 'ROBO DE CARROS',\n",
       " 'ROBO A BIENES DE INSTITUCION PUBLICA': 'ROBO DE CARROS',\n",
       " 'ROBO OTROS': 'OTROS ROBOS',\n",
       " 'ROBO DE BIENES PERSONALES AL INTERIOR DEL VEHÍCULO': 'ROBO DE CARROS',\n",
       " 'ROBO EN VÍAS O CARRETERAS': 'ROBO DE CARROS',\n",
       " 'ROBO DE BIENES A EMPRESA/FABRICA': 'ROBO DE CARROS',\n",
       " 'ROBO DE BIENES A ENTIDAD PÚBLICA': 'ROBO DE CARROS',\n",
       " 'ROBO DE BIENES A INSTITUCION EDUCATIVA': 'ROBO DE CARROS',\n",
       " 'ROBO A BIENES DE ESTABLECIMIENTOS DE COLECTIVOS U ORGANIZACIONES SOCIALES': 'ROBO DE CARROS',\n",
       " 'ROBO A EMBARCACIONES': 'ROBO DE BIENES, ACCESORIOS Y AUTOPARTES DE VEHICULOS',\n",
       " 'ROBO A BIENES DE INSTITUCIONES DE SALUD': 'ROBO DE CARROS',\n",
       " 'ROBO A BIENES DE ENTIDADES FINANCIERAS': 'ROBO DE CARROS',\n",
       " 'ROBO A VEHICULOS DE TRANSPORTE DE VALORES': 'ROBO DE CARROS',\n",
       " 'ROBO DE BIENES A ENTIDAD PRIVADA': 'ROBO DE CARROS',\n",
       " 'ROBO DE MOTORES EMBARCACIONES': 'ROBO DE CARROS',\n",
       " 'ROBO A BANCOS - ENTIDADES  FINANCIERAS': 'ROBO DE CARROS',\n",
       " 'HURTO A PERSONAS': 'ROBO A UNIDADES ECONOMICAS',\n",
       " 'ROBO A  BOTES PESQUEROS – YATES- FIBRAS-VELEROS ETC.': 'ROBO DE CARROS',\n",
       " 'HURTO A DOMICILIO': 'ROBO A UNIDADES ECONOMICAS',\n",
       " 'HURTO A MOTOS': 'ROBO A UNIDADES ECONOMICAS',\n",
       " 'HURTO A BIENES PUBLICOS': 'ROBO DE BIENES, ACCESORIOS Y AUTOPARTES DE VEHICULOS',\n",
       " 'HURTO A CARROS': 'ROBO A UNIDADES ECONOMICAS',\n",
       " 'HURTO A ACCESORIOS': 'ROBO DE BIENES, ACCESORIOS Y AUTOPARTES DE VEHICULOS',\n",
       " 'HURTO A BIENES DE UNIDADES ECONOMICAS': 'ROBO DE CARROS',\n",
       " 'TRANSITO': 'No match found',\n",
       " 'ABIGEATO': 'No match found',\n",
       " 'HURTO A EMBARCACIONES O PARTES EN ESPACIOS ACUATICOS': 'ROBO A DOMICILIO',\n",
       " 'HURTO A BIENES PATRIMONIALES': 'ROBO A DOMICILIO',\n",
       " 'HURTO DE LO REQUISADO': 'ROBO DE CARROS',\n",
       " 'ROBO A BIENES PATRIMONIALES': 'ROBO DE CARROS',\n",
       " 'HURTO DE BIENES DE USO POLICIAL O MILITAR': 'ROBO DE CARROS'}"
      ]
     },
     "execution_count": 25,
     "metadata": {},
     "output_type": "execute_result"
    }
   ],
   "source": [
    "seguimiento_mapping"
   ]
  },
  {
   "cell_type": "code",
   "execution_count": null,
   "metadata": {},
   "outputs": [],
   "source": [
    "siaf_seguimiento_dict = {'ROBO A PERSONAS': 'ROBO A PERSONAS',\n",
    " 'ROBO A DOMICILIO': 'ROBO A DOMICILIO',\n",
    " 'NO_APLICA': 'No match found',\n",
    " 'ROBO DE MOTOS': 'ROBO DE MOTOS',\n",
    " 'ROBO DOMICILIOS': 'ROBO A DOMICILIO',\n",
    " 'ROBO DE CARROS': 'ROBO DE CARROS',\n",
    " 'ROBO DE BIENES, ACCESORIOS Y AUTOPARTES DE VEHICULOS': 'ROBO DE BIENES, ACCESORIOS Y AUTOPARTES DE VEHICULOS',\n",
    " 'OTROS ROBOS': 'OTROS ROBOS',\n",
    " 'ROBO DE ACCESORIOS DE VEHÍCULOS': 'ROBO DE BIENES, ACCESORIOS Y AUTOPARTES DE VEHICULOS',\n",
    " 'ROBO DE VEHÍCULOS': 'ROBO DE CARROS',\n",
    " 'ROBO DE MOTOCICLETAS': 'ROBO DE MOTOS',\n",
    " 'ROBO EN LOCALES COMERCIALES': 'ROBO A UNIDADES ECONOMICAS',\n",
    " 'ROBO A BIENES DE UNIDADES ECONOMICAS': 'ROBO A UNIDADES ECONOMICAS',\n",
    " 'ROBO A BIENES DE INSTITUCIONES EDUCATIVAS': 'OTROS ROBOS',\n",
    " 'ROBO A BIENES DE INSTITUCION PUBLICA': 'OTROS ROBOS',\n",
    " 'ROBO OTROS': 'OTROS ROBOS',\n",
    " 'ROBO DE BIENES PERSONALES AL INTERIOR DEL VEHÍCULO': 'ROBO DE BIENES, ACCESORIOS Y AUTOPARTES DE VEHICULOS',\n",
    " 'ROBO EN VÍAS O CARRETERAS': 'OTROS ROBOS',\n",
    " 'ROBO DE BIENES A EMPRESA/FABRICA': 'ROBO A UNIDADES ECONOMICAS',\n",
    " 'ROBO DE BIENES A ENTIDAD PÚBLICA': 'OTROS ROBOS',\n",
    " 'ROBO DE BIENES A INSTITUCION EDUCATIVA': 'OTROS ROBOS',\n",
    " 'ROBO A BIENES DE ESTABLECIMIENTOS DE COLECTIVOS U ORGANIZACIONES SOCIALES': 'OTROS ROBOS',\n",
    " 'ROBO A EMBARCACIONES': 'OTROS ROBOS',\n",
    " 'ROBO A BIENES DE INSTITUCIONES DE SALUD': 'OTROS ROBOS',\n",
    " 'ROBO A BIENES DE ENTIDADES FINANCIERAS': 'ROBO A UNIDADES ECONOMICAS',\n",
    " 'ROBO A VEHICULOS DE TRANSPORTE DE VALORES': 'OTROS ROBOS',\n",
    " 'ROBO DE BIENES A ENTIDAD PRIVADA': 'ROBO A UNIDADES ECONOMICAS',\n",
    " 'ROBO DE MOTORES EMBARCACIONES': 'OTROS ROBOS',\n",
    " 'ROBO A BANCOS - ENTIDADES  FINANCIERAS': 'ROBO A UNIDADES ECONOMICAS',\n",
    " 'HURTO A PERSONAS': 'No match found',\n",
    " 'ROBO A  BOTES PESQUEROS – YATES- FIBRAS-VELEROS ETC.': 'OTROS ROBOS',\n",
    " 'HURTO A DOMICILIO': 'No match found',\n",
    " 'HURTO A MOTOS': 'No match found',\n",
    " 'HURTO A BIENES PUBLICOS': 'No match found',\n",
    " 'HURTO A CARROS': 'No match found',\n",
    " 'HURTO A ACCESORIOS': 'No match found',\n",
    " 'HURTO A BIENES DE UNIDADES ECONOMICAS': 'No match found',\n",
    " 'TRANSITO': 'No match found',\n",
    " 'ABIGEATO': 'No match found',\n",
    " 'HURTO A EMBARCACIONES O PARTES EN ESPACIOS ACUATICOS': 'No match found',\n",
    " 'HURTO A BIENES PATRIMONIALES': 'No match found',\n",
    " 'HURTO DE LO REQUISADO': 'No match found',\n",
    " 'ROBO A BIENES PATRIMONIALES': 'OTROS ROBOS',\n",
    " 'HURTO DE BIENES DE USO POLICIAL O MILITAR': 'No match found'}"
   ]
  },
  {
   "cell_type": "code",
   "execution_count": 26,
   "metadata": {},
   "outputs": [],
   "source": [
    "validados_mapping = {}\n",
    "for siaf_cat in desagregation_siaf.DELITO_DESAGREGACION.to_list():\n",
    "    closes_match, score = process.extractOne(siaf_cat, list(validados_set))\n",
    "    # print(score)\n",
    "    if score > 85:\n",
    "        validados_mapping[siaf_cat] = closes_match\n",
    "    else:\n",
    "        validados_mapping[siaf_cat] = 'No match found'"
   ]
  },
  {
   "cell_type": "code",
   "execution_count": 27,
   "metadata": {},
   "outputs": [
    {
     "data": {
      "text/plain": [
       "{'ROBO A PERSONAS': 'ROBO A PERSONAS',\n",
       " 'ROBO A DOMICILIO': 'ROBO A DOMICILIO',\n",
       " 'NO_APLICA': 'No match found',\n",
       " 'ROBO DE MOTOS': 'ROBO DE MOTOS',\n",
       " 'ROBO DOMICILIOS': 'ROBO A DOMICILIO',\n",
       " 'ROBO DE CARROS': 'ROBO DE CARROS',\n",
       " 'ROBO DE BIENES, ACCESORIOS Y AUTOPARTES DE VEHICULOS': 'ROBO DE BIENES, ACCESORIOS Y AUTOPARTES DE VEHICULOS',\n",
       " 'OTROS ROBOS': 'OTROS ROBOS',\n",
       " 'ROBO DE ACCESORIOS DE VEHÍCULOS': 'ROBO DE CARROS',\n",
       " 'ROBO DE VEHÍCULOS': 'ROBO EN INSTITUCIONES PUBLICAS',\n",
       " 'ROBO DE MOTOCICLETAS': 'ROBO EN INSTITUCIONES PUBLICAS',\n",
       " 'ROBO EN LOCALES COMERCIALES': 'ROBO DE CARROS',\n",
       " 'ROBO A BIENES DE UNIDADES ECONOMICAS': 'ROBO A UNIDADES ECONOMICAS',\n",
       " 'ROBO A BIENES DE INSTITUCIONES EDUCATIVAS': 'ROBO A INSTITUCIONES EDUCATIVAS',\n",
       " 'ROBO A BIENES DE INSTITUCION PUBLICA': 'ROBO DE CARROS',\n",
       " 'ROBO OTROS': 'OTROS ROBOS',\n",
       " 'ROBO DE BIENES PERSONALES AL INTERIOR DEL VEHÍCULO': 'ROBO DE CARROS',\n",
       " 'ROBO EN VÍAS O CARRETERAS': 'ROBO DE CARROS',\n",
       " 'ROBO DE BIENES A EMPRESA/FABRICA': 'ROBO DE CARROS',\n",
       " 'ROBO DE BIENES A ENTIDAD PÚBLICA': 'ROBO DE CARROS',\n",
       " 'ROBO DE BIENES A INSTITUCION EDUCATIVA': 'ROBO DE CARROS',\n",
       " 'ROBO A BIENES DE ESTABLECIMIENTOS DE COLECTIVOS U ORGANIZACIONES SOCIALES': 'ROBO A ESTABLECIMIENTOS DE COLECTIVOS U ORGANIZACIONES SOCIALES',\n",
       " 'ROBO A EMBARCACIONES': 'ROBO A EMBARCACIONES DE ESPACIOS ACUATICOS',\n",
       " 'ROBO A BIENES DE INSTITUCIONES DE SALUD': 'ROBO DE CARROS',\n",
       " 'ROBO A BIENES DE ENTIDADES FINANCIERAS': 'ROBO DE CARROS',\n",
       " 'ROBO A VEHICULOS DE TRANSPORTE DE VALORES': 'ROBO DE CARROS',\n",
       " 'ROBO DE BIENES A ENTIDAD PRIVADA': 'ROBO DE CARROS',\n",
       " 'ROBO DE MOTORES EMBARCACIONES': 'ROBO DE CARROS',\n",
       " 'ROBO A BANCOS - ENTIDADES  FINANCIERAS': 'ROBO DE CARROS',\n",
       " 'HURTO A PERSONAS': 'ROBO A EMBARCACIONES DE ESPACIOS ACUATICOS',\n",
       " 'ROBO A  BOTES PESQUEROS – YATES- FIBRAS-VELEROS ETC.': 'ROBO DE CARROS',\n",
       " 'HURTO A DOMICILIO': 'ROBO A EMBARCACIONES DE ESPACIOS ACUATICOS',\n",
       " 'HURTO A MOTOS': 'ROBO A EMBARCACIONES DE ESPACIOS ACUATICOS',\n",
       " 'HURTO A BIENES PUBLICOS': 'ROBO A EMBARCACIONES DE ESPACIOS ACUATICOS',\n",
       " 'HURTO A CARROS': 'ROBO A EMBARCACIONES DE ESPACIOS ACUATICOS',\n",
       " 'HURTO A ACCESORIOS': 'ROBO A EMBARCACIONES DE ESPACIOS ACUATICOS',\n",
       " 'HURTO A BIENES DE UNIDADES ECONOMICAS': 'ROBO DE CARROS',\n",
       " 'TRANSITO': 'No match found',\n",
       " 'ABIGEATO': 'No match found',\n",
       " 'HURTO A EMBARCACIONES O PARTES EN ESPACIOS ACUATICOS': 'ROBO A DOMICILIO',\n",
       " 'HURTO A BIENES PATRIMONIALES': 'ROBO A DOMICILIO',\n",
       " 'HURTO DE LO REQUISADO': 'ROBO DE CARROS',\n",
       " 'ROBO A BIENES PATRIMONIALES': 'ROBO DE CARROS',\n",
       " 'HURTO DE BIENES DE USO POLICIAL O MILITAR': 'ROBO DE CARROS'}"
      ]
     },
     "execution_count": 27,
     "metadata": {},
     "output_type": "execute_result"
    }
   ],
   "source": [
    "validados_mapping"
   ]
  },
  {
   "cell_type": "code",
   "execution_count": null,
   "metadata": {},
   "outputs": [],
   "source": [
    "siaf_validados_dict = {'ROBO A PERSONAS': 'ROBO A PERSONAS',\n",
    " 'ROBO A DOMICILIO': 'ROBO A DOMICILIO',\n",
    " 'NO_APLICA': 'No match found',\n",
    " 'ROBO DE MOTOS': 'ROBO DE MOTOS',\n",
    " 'ROBO DOMICILIOS': 'ROBO A DOMICILIO',\n",
    " 'ROBO DE CARROS': 'ROBO DE CARROS',\n",
    " 'ROBO DE BIENES, ACCESORIOS Y AUTOPARTES DE VEHICULOS': 'ROBO DE BIENES, ACCESORIOS Y AUTOPARTES DE VEHICULOS',\n",
    " 'OTROS ROBOS': 'OTROS ROBOS',\n",
    " 'ROBO DE ACCESORIOS DE VEHÍCULOS': 'ROBO DE BIENES, ACCESORIOS Y AUTOPARTES DE VEHICULOS',\n",
    " 'ROBO DE VEHÍCULOS': 'ROBO DE CARROS',\n",
    " 'ROBO DE MOTOCICLETAS': 'ROBO DE MOTOS',\n",
    " 'ROBO EN LOCALES COMERCIALES': 'ROBO A UNIDADES ECONOMICAS',\n",
    " 'ROBO A BIENES DE UNIDADES ECONOMICAS': 'ROBO A UNIDADES ECONOMICAS',\n",
    " 'ROBO A BIENES DE INSTITUCIONES EDUCATIVAS': 'ROBO A INSTITUCIONES EDUCATIVAS',\n",
    " 'ROBO A BIENES DE INSTITUCION PUBLICA': 'ROBO EN INSTITUCIONES PUBLICAS',\n",
    " 'ROBO OTROS': 'OTROS ROBOS',\n",
    " 'ROBO DE BIENES PERSONALES AL INTERIOR DEL VEHÍCULO': 'ROBO DE BIENES, ACCESORIOS Y AUTOPARTES DE VEHICULOS',\n",
    " 'ROBO EN VÍAS O CARRETERAS': 'OTROS ROBOS',\n",
    " 'ROBO DE BIENES A EMPRESA/FABRICA': 'ROBO A UNIDADES ECONOMICAS',\n",
    " 'ROBO DE BIENES A ENTIDAD PÚBLICA': 'ROBO EN INSTITUCIONES PUBLICAS',\n",
    " 'ROBO DE BIENES A INSTITUCION EDUCATIVA': 'ROBO A INSTITUCIONES EDUCATIVAS',\n",
    " 'ROBO A BIENES DE ESTABLECIMIENTOS DE COLECTIVOS U ORGANIZACIONES SOCIALES': 'ROBO A ESTABLECIMIENTOS DE COLECTIVOS U ORGANIZACIONES SOCIALES',\n",
    " 'ROBO A EMBARCACIONES': 'ROBO A EMBARCACIONES DE ESPACIOS ACUATICOS',\n",
    " 'ROBO A BIENES DE INSTITUCIONES DE SALUD': 'OTROS ROBOS',\n",
    " 'ROBO A BIENES DE ENTIDADES FINANCIERAS': 'ROBO A UNIDADES ECONOMICAS',\n",
    " 'ROBO A VEHICULOS DE TRANSPORTE DE VALORES': 'OTROS ROBOS',\n",
    " 'ROBO DE BIENES A ENTIDAD PRIVADA': 'ROBO A UNIDADES ECONOMICAS',\n",
    " 'ROBO DE MOTORES EMBARCACIONES': 'ROBO A EMBARCACIONES DE ESPACIOS ACUATICOS',\n",
    " 'ROBO A BANCOS - ENTIDADES  FINANCIERAS': 'ROBO A UNIDADES ECONOMICAS',\n",
    " 'HURTO A PERSONAS': 'No match found',\n",
    " 'ROBO A  BOTES PESQUEROS – YATES- FIBRAS-VELEROS ETC.': 'ROBO A EMBARCACIONES DE ESPACIOS ACUATICOS',\n",
    " 'HURTO A DOMICILIO': 'No match found',\n",
    " 'HURTO A MOTOS': 'No match found',\n",
    " 'HURTO A BIENES PUBLICOS': 'No match found',\n",
    " 'HURTO A CARROS': 'No match found',\n",
    " 'HURTO A ACCESORIOS': 'No match found',\n",
    " 'HURTO A BIENES DE UNIDADES ECONOMICAS': 'No match found',\n",
    " 'TRANSITO': 'No match found',\n",
    " 'ABIGEATO': 'No match found',\n",
    " 'HURTO A EMBARCACIONES O PARTES EN ESPACIOS ACUATICOS': 'No match found',\n",
    " 'HURTO A BIENES PATRIMONIALES': 'No match found',\n",
    " 'HURTO DE LO REQUISADO': 'No match found',\n",
    " 'ROBO A BIENES PATRIMONIALES': 'OTROS ROBOS',\n",
    " 'HURTO DE BIENES DE USO POLICIAL O MILITAR': 'No match found'}"
   ]
  },
  {
   "cell_type": "code",
   "execution_count": null,
   "metadata": {},
   "outputs": [],
   "source": [
    "# Now you can replace the original categories with the new ones\n",
    "# For example, if you have a pandas DataFrame df and the categories are in the 'category' column:\n",
    "# df['category'] = df['category'].map(category_mapping)"
   ]
  }
 ],
 "metadata": {
  "kernelspec": {
   "display_name": "mlenv",
   "language": "python",
   "name": "python3"
  },
  "language_info": {
   "codemirror_mode": {
    "name": "ipython",
    "version": 3
   },
   "file_extension": ".py",
   "mimetype": "text/x-python",
   "name": "python",
   "nbconvert_exporter": "python",
   "pygments_lexer": "ipython3",
   "version": "3.10.6"
  }
 },
 "nbformat": 4,
 "nbformat_minor": 2
}
