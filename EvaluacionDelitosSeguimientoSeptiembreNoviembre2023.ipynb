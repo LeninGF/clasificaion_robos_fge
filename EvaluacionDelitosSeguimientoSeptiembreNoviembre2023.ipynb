{
 "cells": [
  {
   "attachments": {},
   "cell_type": "markdown",
   "metadata": {},
   "source": [
    "## Evaluación del Rendimiento de Predicciones de Delitos Seguimiento y Delitos Validados del Modelo RobosAI con Respecto a Datos de la Clasificación\n",
    "\n",
    "Fecha: 2023-06-23\n",
    "Coder: LeninGF\n",
    "\n",
    "## Antecedentes:\n",
    "\n",
    "* En email del 8 de febrero de 2023 se contesta a Verónica Cuzco al respecto de la metodología para evaluación del modelo y se advierte del uso y definición de cálculos adecuados y acertados al respecto; pues de disponer de una metodología de cálculo errada, las conclusiones derivadas son erradas e irrelevantes. Se proporcionó explicación y enlaces para consulta y extensión de los temas tratados.\n",
    "\n",
    "* En email del 9 de febrero de 2023 se envía las predicciones obtendidas con la ejecución del modelo de RobosAI en el archivo *prediccionesDelitosSeguimientoInec_DAI_08122022_AplicarML_20230208.xlsx*. En su momento se hicieron las validaciones con respecto, y por pedido del INEC, al dato registrado por DNAIN; lo que presupone que el dato del DNAIN es posiblemente el más acertado.En ese contexto, de manera global, el modelo obtuvo un rendimiento de clasificación según F1-score de 0.76 sobre delitos_seguimiento\n",
    "\n",
    "## Objetivos del Notebook\n",
    "\n",
    "1. Realizar la evaluación del modelo con respecto a la variable delitos_seguimiento definida en Comisión. \n",
    "2. Replicar la metodología de cálculo y evaluación de desempeño del INEC\n",
    "3. Aplicar la metodología de cálculo y evaluación de desempeño del INEC a problemas definidos en el estado del arte de las Ciencias de la Computación par determinar su validez y pertinencia o determinar su invalidez\n",
    "\n"
   ]
  },
  {
   "cell_type": "code",
   "execution_count": 85,
   "metadata": {},
   "outputs": [
    {
     "name": "stdout",
     "output_type": "stream",
     "text": [
      "conectando con big data database....\n",
      "<sqlalchemy.engine.base.Connection object at 0x7f6993cbb520>\n"
     ]
    }
   ],
   "source": [
    "import pandas as pd\n",
    "import numpy as np\n",
    "import os\n",
    "from src.utils import conectar_sql\n",
    "\n",
    "PATH_PREDICCIONES = 'data/processed/prediccionesDelitosSeguimientoInec_DAI_08122022_AplicarML_20230208.xlsx'\n",
    "conx = conectar_sql()\n"
   ]
  },
  {
   "attachments": {},
   "cell_type": "markdown",
   "metadata": {},
   "source": [
    "## Carga de Archivos para la Evaluación\n",
    "\n",
    "Lectura del archivo prediccionesDelitosSeguimientoInec_DAI_08122022_AplicarML_20230208.xlsx' que contiene las predicciones realizadas y entregadas por email el 9 de febrero de 2023"
   ]
  },
  {
   "cell_type": "code",
   "execution_count": 86,
   "metadata": {},
   "outputs": [
    {
     "data": {
      "text/plain": [
       "(3279, 31)"
      ]
     },
     "execution_count": 86,
     "metadata": {},
     "output_type": "execute_result"
    }
   ],
   "source": [
    "datos_modelo = pd.read_excel(os.path.join(os.getcwd(), PATH_PREDICCIONES), converters={'NDD':str})\n",
    "datos_modelo.shape"
   ]
  },
  {
   "cell_type": "code",
   "execution_count": 87,
   "metadata": {},
   "outputs": [
    {
     "data": {
      "text/html": [
       "<div>\n",
       "<style scoped>\n",
       "    .dataframe tbody tr th:only-of-type {\n",
       "        vertical-align: middle;\n",
       "    }\n",
       "\n",
       "    .dataframe tbody tr th {\n",
       "        vertical-align: top;\n",
       "    }\n",
       "\n",
       "    .dataframe thead th {\n",
       "        text-align: right;\n",
       "    }\n",
       "</style>\n",
       "<table border=\"1\" class=\"dataframe\">\n",
       "  <thead>\n",
       "    <tr style=\"text-align: right;\">\n",
       "      <th></th>\n",
       "      <th>Unnamed: 0</th>\n",
       "      <th>id_distrito</th>\n",
       "      <th>distrito</th>\n",
       "      <th>codigo_circuito</th>\n",
       "      <th>circuito</th>\n",
       "      <th>cod_subcir</th>\n",
       "      <th>subcircuito</th>\n",
       "      <th>dpa_zona</th>\n",
       "      <th>provincia</th>\n",
       "      <th>canton</th>\n",
       "      <th>...</th>\n",
       "      <th>categoria</th>\n",
       "      <th>subcategoria</th>\n",
       "      <th>origen_noticia</th>\n",
       "      <th>victima_denunciante</th>\n",
       "      <th>sexo</th>\n",
       "      <th>RELATO</th>\n",
       "      <th>cantidad_palabras</th>\n",
       "      <th>delitos_seguimiento_predicted</th>\n",
       "      <th>score</th>\n",
       "      <th>check2DNAIN</th>\n",
       "    </tr>\n",
       "  </thead>\n",
       "  <tbody>\n",
       "    <tr>\n",
       "      <th>3017</th>\n",
       "      <td>3017</td>\n",
       "      <td>21D01</td>\n",
       "      <td>SUCUMBÍOS</td>\n",
       "      <td>21D01C01</td>\n",
       "      <td>CASCALES</td>\n",
       "      <td>21D01C01S01</td>\n",
       "      <td>CASCALES 1</td>\n",
       "      <td>ZONA 1</td>\n",
       "      <td>SUCUMBÍOS</td>\n",
       "      <td>CASCALES</td>\n",
       "      <td>...</td>\n",
       "      <td>TRANSPORTE</td>\n",
       "      <td>COOPERATIVAS DE TRANSPORTE</td>\n",
       "      <td>PARTE_POL</td>\n",
       "      <td>VICTIMA</td>\n",
       "      <td>MASCULINO</td>\n",
       "      <td>me permito poner en su conocimiento mi subteni...</td>\n",
       "      <td>289</td>\n",
       "      <td>ROBO A PERSONAS</td>\n",
       "      <td>0.997087</td>\n",
       "      <td>CHECK</td>\n",
       "    </tr>\n",
       "    <tr>\n",
       "      <th>1831</th>\n",
       "      <td>1831</td>\n",
       "      <td>12D03</td>\n",
       "      <td>QUEVEDO</td>\n",
       "      <td>12D03C06</td>\n",
       "      <td>DIVINO NIÑO</td>\n",
       "      <td>12D03C06S02</td>\n",
       "      <td>DIVINO NIÑO 2</td>\n",
       "      <td>ZONA 5</td>\n",
       "      <td>LOS RÍOS</td>\n",
       "      <td>QUEVEDO</td>\n",
       "      <td>...</td>\n",
       "      <td>AREAS DE ACCESO PUBLICO</td>\n",
       "      <td>VIA PUBLICA</td>\n",
       "      <td>PARTE_POL</td>\n",
       "      <td>DENUNCIANTE</td>\n",
       "      <td>0</td>\n",
       "      <td>por medio del presente le doy a conocer a uste...</td>\n",
       "      <td>460</td>\n",
       "      <td>ROBO DE BIENES, ACCESORIOS Y AUTOPARTES DE VEH...</td>\n",
       "      <td>0.868439</td>\n",
       "      <td>CHECK</td>\n",
       "    </tr>\n",
       "    <tr>\n",
       "      <th>3018</th>\n",
       "      <td>3018</td>\n",
       "      <td>21D03</td>\n",
       "      <td>PUTUMAYO</td>\n",
       "      <td>21D03C01</td>\n",
       "      <td>TARAPOA</td>\n",
       "      <td>21D03C01S01</td>\n",
       "      <td>TARAPOA 1</td>\n",
       "      <td>ZONA 1</td>\n",
       "      <td>SUCUMBÍOS</td>\n",
       "      <td>CUYABENO</td>\n",
       "      <td>...</td>\n",
       "      <td>AREAS DE ACCESO PUBLICO</td>\n",
       "      <td>VIA PUBLICA</td>\n",
       "      <td>PARTE_POL</td>\n",
       "      <td>VICTIMA</td>\n",
       "      <td>MASCULINO</td>\n",
       "      <td>or medio de la presente me permito poner en co...</td>\n",
       "      <td>289</td>\n",
       "      <td>ROBO DE BIENES, ACCESORIOS Y AUTOPARTES DE VEH...</td>\n",
       "      <td>0.997440</td>\n",
       "      <td>OK</td>\n",
       "    </tr>\n",
       "    <tr>\n",
       "      <th>1675</th>\n",
       "      <td>1675</td>\n",
       "      <td>12D01</td>\n",
       "      <td>BABAHOYO</td>\n",
       "      <td>12D01C01</td>\n",
       "      <td>SAN JOSÉ DE JUJAN</td>\n",
       "      <td>12D01C01S01</td>\n",
       "      <td>SAN JOSÉ DE JUJAN 1</td>\n",
       "      <td>ZONA 5</td>\n",
       "      <td>LOS RÍOS</td>\n",
       "      <td>BABAHOYO</td>\n",
       "      <td>...</td>\n",
       "      <td>AREAS DE ACCESO PUBLICO</td>\n",
       "      <td>VIA PUBLICA</td>\n",
       "      <td>PARTE_POL</td>\n",
       "      <td>VICTIMA</td>\n",
       "      <td>MASCULINO</td>\n",
       "      <td>permiso mi tcnl buenas noches por medio del pr...</td>\n",
       "      <td>252</td>\n",
       "      <td>ROBO DE MOTOS</td>\n",
       "      <td>0.996899</td>\n",
       "      <td>OK</td>\n",
       "    </tr>\n",
       "    <tr>\n",
       "      <th>1153</th>\n",
       "      <td>1153</td>\n",
       "      <td>09D06</td>\n",
       "      <td>FLORIDA</td>\n",
       "      <td>09D06C05</td>\n",
       "      <td>FLORIDA</td>\n",
       "      <td>09D06C05S02</td>\n",
       "      <td>FLORIDA 2</td>\n",
       "      <td>ZONA 8</td>\n",
       "      <td>DMG</td>\n",
       "      <td>GUAYAQUIL</td>\n",
       "      <td>...</td>\n",
       "      <td>AREAS DE ACCESO PUBLICO</td>\n",
       "      <td>VIA PUBLICA</td>\n",
       "      <td>DENUNCIA</td>\n",
       "      <td>VICTIMA</td>\n",
       "      <td>FEMENINO</td>\n",
       "      <td>es el caso seor fiscal que el 24 de noviembre ...</td>\n",
       "      <td>96</td>\n",
       "      <td>ROBO DE BIENES, ACCESORIOS Y AUTOPARTES DE VEH...</td>\n",
       "      <td>0.999732</td>\n",
       "      <td>OK</td>\n",
       "    </tr>\n",
       "  </tbody>\n",
       "</table>\n",
       "<p>5 rows × 31 columns</p>\n",
       "</div>"
      ],
      "text/plain": [
       "      Unnamed: 0 id_distrito   distrito codigo_circuito           circuito  \\\n",
       "3017        3017       21D01  SUCUMBÍOS        21D01C01           CASCALES   \n",
       "1831        1831       12D03    QUEVEDO        12D03C06        DIVINO NIÑO   \n",
       "3018        3018       21D03   PUTUMAYO        21D03C01            TARAPOA   \n",
       "1675        1675       12D01   BABAHOYO        12D01C01  SAN JOSÉ DE JUJAN   \n",
       "1153        1153       09D06    FLORIDA        09D06C05            FLORIDA   \n",
       "\n",
       "       cod_subcir          subcircuito dpa_zona  provincia     canton  ...  \\\n",
       "3017  21D01C01S01           CASCALES 1   ZONA 1  SUCUMBÍOS   CASCALES  ...   \n",
       "1831  12D03C06S02        DIVINO NIÑO 2   ZONA 5   LOS RÍOS    QUEVEDO  ...   \n",
       "3018  21D03C01S01            TARAPOA 1   ZONA 1  SUCUMBÍOS   CUYABENO  ...   \n",
       "1675  12D01C01S01  SAN JOSÉ DE JUJAN 1   ZONA 5   LOS RÍOS   BABAHOYO  ...   \n",
       "1153  09D06C05S02            FLORIDA 2   ZONA 8        DMG  GUAYAQUIL  ...   \n",
       "\n",
       "                    categoria                subcategoria origen_noticia  \\\n",
       "3017               TRANSPORTE  COOPERATIVAS DE TRANSPORTE      PARTE_POL   \n",
       "1831  AREAS DE ACCESO PUBLICO                 VIA PUBLICA      PARTE_POL   \n",
       "3018  AREAS DE ACCESO PUBLICO                 VIA PUBLICA      PARTE_POL   \n",
       "1675  AREAS DE ACCESO PUBLICO                 VIA PUBLICA      PARTE_POL   \n",
       "1153  AREAS DE ACCESO PUBLICO                 VIA PUBLICA       DENUNCIA   \n",
       "\n",
       "     victima_denunciante       sexo  \\\n",
       "3017             VICTIMA  MASCULINO   \n",
       "1831         DENUNCIANTE          0   \n",
       "3018             VICTIMA  MASCULINO   \n",
       "1675             VICTIMA  MASCULINO   \n",
       "1153             VICTIMA   FEMENINO   \n",
       "\n",
       "                                                 RELATO  cantidad_palabras  \\\n",
       "3017  me permito poner en su conocimiento mi subteni...                289   \n",
       "1831  por medio del presente le doy a conocer a uste...                460   \n",
       "3018  or medio de la presente me permito poner en co...                289   \n",
       "1675  permiso mi tcnl buenas noches por medio del pr...                252   \n",
       "1153  es el caso seor fiscal que el 24 de noviembre ...                 96   \n",
       "\n",
       "                          delitos_seguimiento_predicted     score check2DNAIN  \n",
       "3017                                    ROBO A PERSONAS  0.997087       CHECK  \n",
       "1831  ROBO DE BIENES, ACCESORIOS Y AUTOPARTES DE VEH...  0.868439       CHECK  \n",
       "3018  ROBO DE BIENES, ACCESORIOS Y AUTOPARTES DE VEH...  0.997440          OK  \n",
       "1675                                      ROBO DE MOTOS  0.996899          OK  \n",
       "1153  ROBO DE BIENES, ACCESORIOS Y AUTOPARTES DE VEH...  0.999732          OK  \n",
       "\n",
       "[5 rows x 31 columns]"
      ]
     },
     "execution_count": 87,
     "metadata": {},
     "output_type": "execute_result"
    }
   ],
   "source": [
    "datos_modelo.sample(5)"
   ]
  },
  {
   "attachments": {},
   "cell_type": "markdown",
   "metadata": {},
   "source": [
    "Lectura de la base de datos de la Comisión de Robos. Para esto se lee directamente de la base sql: ** ** en donde dispongo del registro de Robos de la Comisión de todos los años. En su momento se ha indicado a la Dirección de Estadística las Notorias Faltas de concordancia entre los archivos de distintos años, así como la estandarización de variables; lo cual afecta a la operación estadística.\n",
    "\n",
    "A fin de poder comparar las mismas Ndds se traerán de dicho registro las Ndds que contenga la base de predicción entregada\n",
    "\n",
    "Base SQL: reportes.robos_2014_08122022"
   ]
  },
  {
   "cell_type": "code",
   "execution_count": 88,
   "metadata": {},
   "outputs": [
    {
     "name": "stdout",
     "output_type": "stream",
     "text": [
      "Total de Ndds en archivo de prediccion entragado 3279\n"
     ]
    },
    {
     "data": {
      "text/plain": [
       "(3279, 62)"
      ]
     },
     "execution_count": 88,
     "metadata": {},
     "output_type": "execute_result"
    }
   ],
   "source": [
    "from sqlalchemy import text\n",
    "ndds2get = list(set(datos_modelo.NDD.to_list()))\n",
    "print(f\"Total de Ndds en archivo de prediccion entragado {len(ndds2get)}\")\n",
    "query = text(\"select * from reportes.robos_2014_08122022 robos where robos.NDD in :ndds2get\")\n",
    "query = query.bindparams(ndds2get=tuple(ndds2get))\n",
    "datos_comision = pd.read_sql(query, conx)\n",
    "datos_comision.shape\n"
   ]
  },
  {
   "attachments": {},
   "cell_type": "markdown",
   "metadata": {},
   "source": [
    "Verificando que ambos datasets dispongan de la misma información"
   ]
  },
  {
   "cell_type": "code",
   "execution_count": 89,
   "metadata": {},
   "outputs": [
    {
     "data": {
      "text/plain": [
       "True"
      ]
     },
     "execution_count": 89,
     "metadata": {},
     "output_type": "execute_result"
    }
   ],
   "source": [
    "datos_modelo.shape[0] == datos_comision.shape[0]"
   ]
  },
  {
   "attachments": {},
   "cell_type": "markdown",
   "metadata": {},
   "source": [
    "Determinando un nuevo dataset que combine las predicciones según NDD de cada uno de los datasets: datos_modelo y datos_comision"
   ]
  },
  {
   "attachments": {},
   "cell_type": "markdown",
   "metadata": {},
   "source": [
    "## Generación de Dataset para Evaluación de rendimiento del Modelo"
   ]
  },
  {
   "cell_type": "code",
   "execution_count": 90,
   "metadata": {},
   "outputs": [
    {
     "data": {
      "text/plain": [
       "Index(['Unnamed: 0', 'id_distrito', 'distrito', 'codigo_circuito', 'circuito',\n",
       "       'cod_subcir', 'subcircuito', 'dpa_zona', 'provincia', 'canton',\n",
       "       'parroquia', 'fecha_infraccion', 'hora_infraccion', 'tipo_delito',\n",
       "       'delito_DNAIN', 'delito_FGE', 'DNAIN=FGE', 'Validado por',\n",
       "       'VALIDACION_GFE', 'NDD', 'hechos', 'categoria', 'subcategoria',\n",
       "       'origen_noticia', 'victima_denunciante', 'sexo', 'RELATO',\n",
       "       'cantidad_palabras', 'delitos_seguimiento_predicted', 'score',\n",
       "       'check2DNAIN'],\n",
       "      dtype='object')"
      ]
     },
     "execution_count": 90,
     "metadata": {},
     "output_type": "execute_result"
    }
   ],
   "source": [
    "datos_modelo.columns"
   ]
  },
  {
   "cell_type": "code",
   "execution_count": 91,
   "metadata": {},
   "outputs": [
    {
     "data": {
      "text/plain": [
       "Index(['NDD', 'Fecha_Registro', 'Hora_Registro', 'Fecha_Incidente',\n",
       "       'Hora_Incidente', 'Menor', 'Mayor', 'Tentativa', 'Sector', 'Modalidad',\n",
       "       'Presunto_Delito', 'Brigada_PJ', 'Fiscalia', 'Fiscalia_Especializada',\n",
       "       'Ciudad', 'Parroquia', 'bar_descripcion', 'Fuero', 'Lugar',\n",
       "       'Tipo_Delito_PJ', 'Origen', 'Tipo', 'Bien', 'Tipo_Involucrado',\n",
       "       'edad_actual', 'estatus_migratorio', 'autodef_etnica', 'FyNF',\n",
       "       'desagregacion', 'lugar_desagregacion', 'modalidad_desagregacion',\n",
       "       'cod_provincia', 'pro_descripcion', 'cod_parroquia', 'cod_canton',\n",
       "       'cod_barrio', 'fisbrigas', 'numero_fiscalia', 'edificio', 'mes_i',\n",
       "       'ANIO_I', 'desagregacion_1', 'delitos_validados', 'delitos_seguimiento',\n",
       "       'PROVIN', 'Cant_5', 'Canton', 'sexo', 'Estado', 'Desplegar', 'Vehiculo',\n",
       "       'genero', 'Fecha_Nacimiento', 'uni_codigo', 'paises', 'longitud',\n",
       "       'latitud', 'FASE_PROCESAL_ACTUAL', 'PROXIMA_FASE_PROCESAL',\n",
       "       'PAIS_INVOLUCRADO', 'ART', 'gen_secuencial_codigo'],\n",
       "      dtype='object')"
      ]
     },
     "execution_count": 91,
     "metadata": {},
     "output_type": "execute_result"
    }
   ],
   "source": [
    "datos_comision.columns"
   ]
  },
  {
   "cell_type": "code",
   "execution_count": 92,
   "metadata": {},
   "outputs": [
    {
     "data": {
      "text/plain": [
       "ROBO                                                               3262\n",
       "HURTO                                                                 6\n",
       "APROPIACIÓN FRAUDULENTA POR MEDIOS ELECTRÓNICOS                       2\n",
       "VIOLACIÓN DE PROPIEDAD PRIVADA                                        2\n",
       "DAÑO A BIEN AJENO                                                     1\n",
       "ACCIDENTE DE TRANSITO CON SOLO DANOS MATERIALES INDETERMINADOS.       1\n",
       "ASESINATO                                                             1\n",
       "SECUESTRO EXTORSIVO                                                   1\n",
       "ASOCIACIÓN ILÍCITA                                                    1\n",
       "HOMICIDIO                                                             1\n",
       "ARMAS DE FUEGO, MUNICIONES Y EXPLOSIVOS NO AUTORIZADOS                1\n",
       "Name: Tipo_Delito_PJ, dtype: int64"
      ]
     },
     "execution_count": 92,
     "metadata": {},
     "output_type": "execute_result"
    }
   ],
   "source": [
    "datos_comision.Tipo_Delito_PJ.value_counts()"
   ]
  },
  {
   "cell_type": "code",
   "execution_count": 93,
   "metadata": {},
   "outputs": [
    {
     "data": {
      "text/plain": [
       "((3279, 8), (3279, 31), (3279, 62))"
      ]
     },
     "execution_count": 93,
     "metadata": {},
     "output_type": "execute_result"
    }
   ],
   "source": [
    "dataset = pd.merge(datos_modelo[['NDD', 'delitos_seguimiento_predicted', 'score', 'check2DNAIN', 'delito_DNAIN']], datos_comision[['NDD', 'delitos_seguimiento', 'Tipo_Delito_PJ', 'Fecha_Registro']], on='NDD', how='left')\n",
    "dataset.shape, datos_modelo.shape, datos_comision.shape"
   ]
  },
  {
   "cell_type": "code",
   "execution_count": 94,
   "metadata": {},
   "outputs": [
    {
     "data": {
      "text/html": [
       "<div>\n",
       "<style scoped>\n",
       "    .dataframe tbody tr th:only-of-type {\n",
       "        vertical-align: middle;\n",
       "    }\n",
       "\n",
       "    .dataframe tbody tr th {\n",
       "        vertical-align: top;\n",
       "    }\n",
       "\n",
       "    .dataframe thead th {\n",
       "        text-align: right;\n",
       "    }\n",
       "</style>\n",
       "<table border=\"1\" class=\"dataframe\">\n",
       "  <thead>\n",
       "    <tr style=\"text-align: right;\">\n",
       "      <th></th>\n",
       "      <th>NDD</th>\n",
       "      <th>delitos_seguimiento_predicted</th>\n",
       "      <th>score</th>\n",
       "      <th>check2DNAIN</th>\n",
       "      <th>delito_DNAIN</th>\n",
       "      <th>delitos_seguimiento</th>\n",
       "      <th>Tipo_Delito_PJ</th>\n",
       "      <th>Fecha_Registro</th>\n",
       "    </tr>\n",
       "  </thead>\n",
       "  <tbody>\n",
       "    <tr>\n",
       "      <th>0</th>\n",
       "      <td>010101822100049</td>\n",
       "      <td>ROBO DE BIENES, ACCESORIOS Y AUTOPARTES DE VEH...</td>\n",
       "      <td>0.417174</td>\n",
       "      <td>CHECK</td>\n",
       "      <td>TENTATIVA DE ROBO</td>\n",
       "      <td>SIN INFORMACION</td>\n",
       "      <td>DAÑO A BIEN AJENO</td>\n",
       "      <td>2022-11-15</td>\n",
       "    </tr>\n",
       "    <tr>\n",
       "      <th>1</th>\n",
       "      <td>010101822100062</td>\n",
       "      <td>ROBO DE BIENES, ACCESORIOS Y AUTOPARTES DE VEH...</td>\n",
       "      <td>0.983907</td>\n",
       "      <td>OK</td>\n",
       "      <td>ROBO DE BIENES, ACCESORIOS Y AUTOPARTES DE VEH...</td>\n",
       "      <td>ROBO DE BIENES, ACCESORIOS Y AUTOPARTES DE VEH...</td>\n",
       "      <td>ROBO</td>\n",
       "      <td>2022-10-04</td>\n",
       "    </tr>\n",
       "    <tr>\n",
       "      <th>2</th>\n",
       "      <td>010101822100144</td>\n",
       "      <td>ROBO A DOMICILIO</td>\n",
       "      <td>0.968642</td>\n",
       "      <td>CHECK</td>\n",
       "      <td>ROBO DE CARROS</td>\n",
       "      <td>ROBO DE CARROS</td>\n",
       "      <td>ROBO</td>\n",
       "      <td>2022-10-05</td>\n",
       "    </tr>\n",
       "    <tr>\n",
       "      <th>3</th>\n",
       "      <td>010101822100199</td>\n",
       "      <td>ROBO A UNIDADES ECONOMICAS</td>\n",
       "      <td>0.998452</td>\n",
       "      <td>OK</td>\n",
       "      <td>ROBO A UNIDADES ECONOMICAS</td>\n",
       "      <td>ROBO A UNIDADES ECONÓMICAS</td>\n",
       "      <td>ROBO</td>\n",
       "      <td>2022-10-06</td>\n",
       "    </tr>\n",
       "    <tr>\n",
       "      <th>4</th>\n",
       "      <td>010101822100214</td>\n",
       "      <td>ROBO A UNIDADES ECONOMICAS</td>\n",
       "      <td>0.998074</td>\n",
       "      <td>CHECK</td>\n",
       "      <td>HURTO</td>\n",
       "      <td>ROBO A UNIDADES ECONÓMICAS</td>\n",
       "      <td>ROBO</td>\n",
       "      <td>2022-10-07</td>\n",
       "    </tr>\n",
       "  </tbody>\n",
       "</table>\n",
       "</div>"
      ],
      "text/plain": [
       "               NDD                      delitos_seguimiento_predicted  \\\n",
       "0  010101822100049  ROBO DE BIENES, ACCESORIOS Y AUTOPARTES DE VEH...   \n",
       "1  010101822100062  ROBO DE BIENES, ACCESORIOS Y AUTOPARTES DE VEH...   \n",
       "2  010101822100144                                   ROBO A DOMICILIO   \n",
       "3  010101822100199                         ROBO A UNIDADES ECONOMICAS   \n",
       "4  010101822100214                         ROBO A UNIDADES ECONOMICAS   \n",
       "\n",
       "      score check2DNAIN                                       delito_DNAIN  \\\n",
       "0  0.417174       CHECK                                  TENTATIVA DE ROBO   \n",
       "1  0.983907          OK  ROBO DE BIENES, ACCESORIOS Y AUTOPARTES DE VEH...   \n",
       "2  0.968642       CHECK                                     ROBO DE CARROS   \n",
       "3  0.998452          OK                         ROBO A UNIDADES ECONOMICAS   \n",
       "4  0.998074       CHECK                                              HURTO   \n",
       "\n",
       "                                 delitos_seguimiento     Tipo_Delito_PJ  \\\n",
       "0                                    SIN INFORMACION  DAÑO A BIEN AJENO   \n",
       "1  ROBO DE BIENES, ACCESORIOS Y AUTOPARTES DE VEH...               ROBO   \n",
       "2                                     ROBO DE CARROS               ROBO   \n",
       "3                         ROBO A UNIDADES ECONÓMICAS               ROBO   \n",
       "4                         ROBO A UNIDADES ECONÓMICAS               ROBO   \n",
       "\n",
       "  Fecha_Registro  \n",
       "0     2022-11-15  \n",
       "1     2022-10-04  \n",
       "2     2022-10-05  \n",
       "3     2022-10-06  \n",
       "4     2022-10-07  "
      ]
     },
     "execution_count": 94,
     "metadata": {},
     "output_type": "execute_result"
    }
   ],
   "source": [
    "dataset.head()"
   ]
  },
  {
   "attachments": {},
   "cell_type": "markdown",
   "metadata": {},
   "source": [
    "Existen tipos penales que no corresponden a Robo y pueden ser eliminados. Corresponen a un 0.5%"
   ]
  },
  {
   "cell_type": "code",
   "execution_count": 95,
   "metadata": {},
   "outputs": [
    {
     "data": {
      "text/plain": [
       "(17, 0.00518450747179018)"
      ]
     },
     "execution_count": 95,
     "metadata": {},
     "output_type": "execute_result"
    }
   ],
   "source": [
    "ndds_excluir = dataset.NDD[dataset.Tipo_Delito_PJ!=\"ROBO\"].to_list()\n",
    "len(ndds_excluir), len(ndds_excluir)/dataset.shape[0]"
   ]
  },
  {
   "cell_type": "code",
   "execution_count": 96,
   "metadata": {},
   "outputs": [
    {
     "data": {
      "text/plain": [
       "(3262, 8)"
      ]
     },
     "execution_count": 96,
     "metadata": {},
     "output_type": "execute_result"
    }
   ],
   "source": [
    "dataset = dataset[-dataset.NDD.isin(ndds_excluir)]\n",
    "dataset.shape"
   ]
  },
  {
   "attachments": {},
   "cell_type": "markdown",
   "metadata": {},
   "source": [
    "## Evaluación Modelo Metodología Clasificador de Categorías Multiples\n"
   ]
  },
  {
   "attachments": {},
   "cell_type": "markdown",
   "metadata": {},
   "source": [
    "Se observa que existen diferencias entre las categorías escritas en comisión respecto de las escritas en el modelo. ¿Consideró este particular el INEC en su metodología par evaluar? También aparece la categoría SIN INFORMACIÓN con una cantidad significativa"
   ]
  },
  {
   "cell_type": "code",
   "execution_count": 97,
   "metadata": {},
   "outputs": [
    {
     "data": {
      "text/plain": [
       "SIN INFORMACION                                         777\n",
       "ROBO A UNIDADES ECONÓMICAS                              702\n",
       "ROBO DE BIENES, ACCESORIOS Y AUTOPARTES DE VEHÍCULOS    511\n",
       "ROBO A PERSONAS                                         404\n",
       "ROBO DE MOTOS                                           397\n",
       "ROBO DE CARROS                                          263\n",
       "ROBO A DOMICILIO                                        208\n",
       "Name: delitos_seguimiento, dtype: int64"
      ]
     },
     "execution_count": 97,
     "metadata": {},
     "output_type": "execute_result"
    }
   ],
   "source": [
    "dataset.delitos_seguimiento.value_counts()"
   ]
  },
  {
   "cell_type": "code",
   "execution_count": 98,
   "metadata": {},
   "outputs": [
    {
     "data": {
      "text/plain": [
       "ROBO A UNIDADES ECONOMICAS                              818\n",
       "ROBO A PERSONAS                                         686\n",
       "ROBO DE BIENES, ACCESORIOS Y AUTOPARTES DE VEHICULOS    643\n",
       "ROBO A DOMICILIO                                        465\n",
       "ROBO DE MOTOS                                           429\n",
       "ROBO DE CARROS                                          221\n",
       "Name: delitos_seguimiento_predicted, dtype: int64"
      ]
     },
     "execution_count": 98,
     "metadata": {},
     "output_type": "execute_result"
    }
   ],
   "source": [
    "dataset.delitos_seguimiento_predicted.value_counts()"
   ]
  },
  {
   "cell_type": "code",
   "execution_count": 99,
   "metadata": {},
   "outputs": [],
   "source": [
    "dataset.NDD[dataset.delitos_seguimiento==\"SIN INFORMACION\"].to_excel('data/interim/Ndds_SinInformacionDelitosSeguimiento12082022.xlsx', index=False)"
   ]
  },
  {
   "attachments": {},
   "cell_type": "markdown",
   "metadata": {},
   "source": [
    "A fin de determinar que sucede con la categoría SIN INFORMACION se procede a leer el archivo SPSS "
   ]
  },
  {
   "cell_type": "code",
   "execution_count": 100,
   "metadata": {},
   "outputs": [
    {
     "data": {
      "text/plain": [
       "(82234, 49)"
      ]
     },
     "execution_count": 100,
     "metadata": {},
     "output_type": "execute_result"
    }
   ],
   "source": [
    "dir_bdd2022 = '/home/falconiel/CodePrograms/FGE_StatisticsX/data/robos/2022/09.ROBOS_FGE_08122022_2022_V1.9.sav' #V9\n",
    "bdd_2022 = pd.read_spss(path=dir_bdd2022)\n",
    "bdd_2022.shape"
   ]
  },
  {
   "cell_type": "code",
   "execution_count": 101,
   "metadata": {},
   "outputs": [
    {
     "data": {
      "text/plain": [
       "777"
      ]
     },
     "execution_count": 101,
     "metadata": {},
     "output_type": "execute_result"
    }
   ],
   "source": [
    "ndds_sin_informacion = datos_comision.NDD[(datos_comision.delitos_seguimiento==\"SIN INFORMACION\")&(datos_comision.Tipo_Delito_PJ==\"ROBO\")].to_list()\n",
    "len(ndds_sin_informacion)"
   ]
  },
  {
   "cell_type": "code",
   "execution_count": 102,
   "metadata": {},
   "outputs": [
    {
     "data": {
      "text/plain": [
       "(777, 49)"
      ]
     },
     "execution_count": 102,
     "metadata": {},
     "output_type": "execute_result"
    }
   ],
   "source": [
    "bdd_2022_sininfo = bdd_2022[bdd_2022.NDD.isin(ndds_sin_informacion)]\n",
    "bdd_2022_sininfo.shape"
   ]
  },
  {
   "cell_type": "code",
   "execution_count": 103,
   "metadata": {},
   "outputs": [
    {
     "data": {
      "text/html": [
       "<div>\n",
       "<style scoped>\n",
       "    .dataframe tbody tr th:only-of-type {\n",
       "        vertical-align: middle;\n",
       "    }\n",
       "\n",
       "    .dataframe tbody tr th {\n",
       "        vertical-align: top;\n",
       "    }\n",
       "\n",
       "    .dataframe thead th {\n",
       "        text-align: right;\n",
       "    }\n",
       "</style>\n",
       "<table border=\"1\" class=\"dataframe\">\n",
       "  <thead>\n",
       "    <tr style=\"text-align: right;\">\n",
       "      <th></th>\n",
       "      <th>NDD</th>\n",
       "      <th>delitos_seguimiento</th>\n",
       "    </tr>\n",
       "  </thead>\n",
       "  <tbody>\n",
       "    <tr>\n",
       "      <th>324</th>\n",
       "      <td>010101822100560</td>\n",
       "      <td>NaN</td>\n",
       "    </tr>\n",
       "    <tr>\n",
       "      <th>335</th>\n",
       "      <td>010101822100597</td>\n",
       "      <td>NaN</td>\n",
       "    </tr>\n",
       "    <tr>\n",
       "      <th>364</th>\n",
       "      <td>010101822100750</td>\n",
       "      <td>NaN</td>\n",
       "    </tr>\n",
       "    <tr>\n",
       "      <th>413</th>\n",
       "      <td>010101822101018</td>\n",
       "      <td>NaN</td>\n",
       "    </tr>\n",
       "    <tr>\n",
       "      <th>488</th>\n",
       "      <td>010101822110256</td>\n",
       "      <td>NaN</td>\n",
       "    </tr>\n",
       "    <tr>\n",
       "      <th>513</th>\n",
       "      <td>010101822110357</td>\n",
       "      <td>NaN</td>\n",
       "    </tr>\n",
       "    <tr>\n",
       "      <th>546</th>\n",
       "      <td>010101822110591</td>\n",
       "      <td>NaN</td>\n",
       "    </tr>\n",
       "    <tr>\n",
       "      <th>571</th>\n",
       "      <td>010101822110798</td>\n",
       "      <td>NaN</td>\n",
       "    </tr>\n",
       "    <tr>\n",
       "      <th>628</th>\n",
       "      <td>010201822100001</td>\n",
       "      <td>NaN</td>\n",
       "    </tr>\n",
       "    <tr>\n",
       "      <th>777</th>\n",
       "      <td>020101822100046</td>\n",
       "      <td>NaN</td>\n",
       "    </tr>\n",
       "  </tbody>\n",
       "</table>\n",
       "</div>"
      ],
      "text/plain": [
       "                 NDD delitos_seguimiento\n",
       "324  010101822100560                 NaN\n",
       "335  010101822100597                 NaN\n",
       "364  010101822100750                 NaN\n",
       "413  010101822101018                 NaN\n",
       "488  010101822110256                 NaN\n",
       "513  010101822110357                 NaN\n",
       "546  010101822110591                 NaN\n",
       "571  010101822110798                 NaN\n",
       "628  010201822100001                 NaN\n",
       "777  020101822100046                 NaN"
      ]
     },
     "execution_count": 103,
     "metadata": {},
     "output_type": "execute_result"
    }
   ],
   "source": [
    "bdd_2022_sininfo[['NDD', 'delitos_seguimiento']].head(10)"
   ]
  },
  {
   "attachments": {},
   "cell_type": "markdown",
   "metadata": {},
   "source": [
    "En función de esta evidencia no puedo comparar con datos vacíos de origen de la comisión Sin embargo, se debe confirmar que la pérdida de información no sea debido a la lectura del archivo .sav\n",
    "\n",
    "Por tanto se procede a determinar las diferencias entre el contenido de las columnas para proceder a realizar la comparación; ya que por una tilde pueden variar los resultados"
   ]
  },
  {
   "cell_type": "code",
   "execution_count": 104,
   "metadata": {},
   "outputs": [
    {
     "data": {
      "text/plain": [
       "{'ROBO A UNIDADES ECONÓMICAS',\n",
       " 'ROBO DE BIENES, ACCESORIOS Y AUTOPARTES DE VEHÍCULOS',\n",
       " 'SIN INFORMACION'}"
      ]
     },
     "execution_count": 104,
     "metadata": {},
     "output_type": "execute_result"
    }
   ],
   "source": [
    "diff_cols_comision_vs_modelo = set(dataset.delitos_seguimiento.to_list()).difference(dataset.delitos_seguimiento_predicted.to_list())\n",
    "diff_cols_comision_vs_modelo"
   ]
  },
  {
   "attachments": {},
   "cell_type": "markdown",
   "metadata": {},
   "source": [
    "En consecuencia se eliminará los casos de SIN INFORMACIÓN y se procedera a realizar la corrección respecto del dataset de predicción eliminando los caracteres tildados\n"
   ]
  },
  {
   "cell_type": "code",
   "execution_count": 105,
   "metadata": {},
   "outputs": [],
   "source": [
    "dataset.delitos_seguimiento = dataset.delitos_seguimiento.str.replace('Ó', 'O')\n",
    "dataset.delitos_seguimiento = dataset.delitos_seguimiento.str.replace('Í', 'I')"
   ]
  },
  {
   "cell_type": "code",
   "execution_count": 106,
   "metadata": {},
   "outputs": [
    {
     "data": {
      "text/plain": [
       "{'SIN INFORMACION'}"
      ]
     },
     "execution_count": 106,
     "metadata": {},
     "output_type": "execute_result"
    }
   ],
   "source": [
    "diff_cols_comision_vs_modelo = set(dataset.delitos_seguimiento.to_list()).difference(dataset.delitos_seguimiento_predicted.to_list())\n",
    "diff_cols_comision_vs_modelo"
   ]
  },
  {
   "cell_type": "code",
   "execution_count": 107,
   "metadata": {},
   "outputs": [
    {
     "data": {
      "text/plain": [
       "((2485, 8), (3262, 8))"
      ]
     },
     "execution_count": 107,
     "metadata": {},
     "output_type": "execute_result"
    }
   ],
   "source": [
    "test_dataset = dataset[-dataset.NDD.isin(ndds_sin_informacion)]\n",
    "test_dataset.shape, dataset.shape"
   ]
  },
  {
   "attachments": {},
   "cell_type": "markdown",
   "metadata": {},
   "source": [
    "Entonces la evaluación del Dataset se realiza sobre 2485 casos. Para facilitar las comparaciones se van a renombrar las siguientes columnas para que sea más legible la comparación"
   ]
  },
  {
   "cell_type": "code",
   "execution_count": 108,
   "metadata": {},
   "outputs": [
    {
     "name": "stderr",
     "output_type": "stream",
     "text": [
      "/home/falconiel/anaconda3/envs/mlenv/lib/python3.10/site-packages/pandas/core/frame.py:5039: SettingWithCopyWarning: \n",
      "A value is trying to be set on a copy of a slice from a DataFrame\n",
      "\n",
      "See the caveats in the documentation: https://pandas.pydata.org/pandas-docs/stable/user_guide/indexing.html#returning-a-view-versus-a-copy\n",
      "  return super().rename(\n"
     ]
    }
   ],
   "source": [
    "test_dataset.rename(columns={'delitos_seguimiento':'delitos_seguimiento_comision',\n",
    "'delitos_seguimiento_predicted':'delitos_seguimiento_modeloIA'}, inplace=True)"
   ]
  },
  {
   "cell_type": "code",
   "execution_count": 109,
   "metadata": {},
   "outputs": [
    {
     "data": {
      "text/plain": [
       "Index(['NDD', 'delitos_seguimiento_modeloIA', 'score', 'check2DNAIN',\n",
       "       'delito_DNAIN', 'delitos_seguimiento_comision', 'Tipo_Delito_PJ',\n",
       "       'Fecha_Registro'],\n",
       "      dtype='object')"
      ]
     },
     "execution_count": 109,
     "metadata": {},
     "output_type": "execute_result"
    }
   ],
   "source": [
    "test_dataset.columns"
   ]
  },
  {
   "cell_type": "code",
   "execution_count": 110,
   "metadata": {},
   "outputs": [
    {
     "data": {
      "text/plain": [
       "ROBO A UNIDADES ECONOMICAS                              702\n",
       "ROBO DE BIENES, ACCESORIOS Y AUTOPARTES DE VEHICULOS    511\n",
       "ROBO A PERSONAS                                         404\n",
       "ROBO DE MOTOS                                           397\n",
       "ROBO DE CARROS                                          263\n",
       "ROBO A DOMICILIO                                        208\n",
       "Name: delitos_seguimiento_comision, dtype: int64"
      ]
     },
     "execution_count": 110,
     "metadata": {},
     "output_type": "execute_result"
    }
   ],
   "source": [
    "test_dataset.delitos_seguimiento_comision.value_counts()"
   ]
  },
  {
   "attachments": {},
   "cell_type": "markdown",
   "metadata": {},
   "source": [
    "### Reporte de Clasificación \n",
    "Se considera para este ejercicio deltios_seguimiento_comision como el valor de Ground Truth para la evaluación del desempeño del clasificador"
   ]
  },
  {
   "cell_type": "code",
   "execution_count": 111,
   "metadata": {},
   "outputs": [
    {
     "name": "stdout",
     "output_type": "stream",
     "text": [
      "                                                      precision    recall  f1-score   support\n",
      "\n",
      "                                    ROBO A DOMICILIO       0.75      0.77      0.76       208\n",
      "                                     ROBO A PERSONAS       0.64      0.81      0.72       404\n",
      "                          ROBO A UNIDADES ECONOMICAS       0.89      0.85      0.87       702\n",
      "ROBO DE BIENES, ACCESORIOS Y AUTOPARTES DE VEHICULOS       0.82      0.84      0.83       511\n",
      "                                      ROBO DE CARROS       0.84      0.62      0.71       263\n",
      "                                       ROBO DE MOTOS       0.94      0.89      0.92       397\n",
      "\n",
      "                                            accuracy                           0.82      2485\n",
      "                                           macro avg       0.81      0.80      0.80      2485\n",
      "                                        weighted avg       0.83      0.82      0.82      2485\n",
      "\n"
     ]
    }
   ],
   "source": [
    "from sklearn.metrics import classification_report\n",
    "print(classification_report(y_true=test_dataset.delitos_seguimiento_comision.to_list(),\n",
    "                            y_pred=test_dataset.delitos_seguimiento_modeloIA.to_list()))"
   ]
  },
  {
   "attachments": {},
   "cell_type": "markdown",
   "metadata": {},
   "source": [
    "### Matriz de Confusión"
   ]
  },
  {
   "cell_type": "code",
   "execution_count": 112,
   "metadata": {},
   "outputs": [
    {
     "data": {
      "text/plain": [
       "ROBO A UNIDADES ECONOMICAS                              702\n",
       "ROBO DE BIENES, ACCESORIOS Y AUTOPARTES DE VEHICULOS    511\n",
       "ROBO A PERSONAS                                         404\n",
       "ROBO DE MOTOS                                           397\n",
       "ROBO DE CARROS                                          263\n",
       "ROBO A DOMICILIO                                        208\n",
       "Name: delitos_seguimiento_comision, dtype: int64"
      ]
     },
     "execution_count": 112,
     "metadata": {},
     "output_type": "execute_result"
    }
   ],
   "source": [
    "test_dataset.delitos_seguimiento_comision.value_counts()"
   ]
  },
  {
   "cell_type": "code",
   "execution_count": 113,
   "metadata": {},
   "outputs": [
    {
     "data": {
      "text/plain": [
       "ROBO A UNIDADES ECONOMICAS                              668\n",
       "ROBO DE BIENES, ACCESORIOS Y AUTOPARTES DE VEHICULOS    520\n",
       "ROBO A PERSONAS                                         512\n",
       "ROBO DE MOTOS                                           375\n",
       "ROBO A DOMICILIO                                        216\n",
       "ROBO DE CARROS                                          194\n",
       "Name: delitos_seguimiento_modeloIA, dtype: int64"
      ]
     },
     "execution_count": 113,
     "metadata": {},
     "output_type": "execute_result"
    }
   ],
   "source": [
    "test_dataset.delitos_seguimiento_modeloIA.value_counts()"
   ]
  },
  {
   "cell_type": "code",
   "execution_count": 114,
   "metadata": {},
   "outputs": [
    {
     "data": {
      "image/png": "[encoded data removed]",
      "text/plain": [
       "<Figure size 600x600 with 1 Axes>"
      ]
     },
     "metadata": {},
     "output_type": "display_data"
    }
   ],
   "source": [
    "from sklearn.metrics import confusion_matrix, ConfusionMatrixDisplay\n",
    "import matplotlib.pyplot as plt\n",
    "class_labels = list(set(test_dataset.delitos_seguimiento_modeloIA.to_list()))\n",
    "cm = confusion_matrix(y_true=test_dataset.delitos_seguimiento_comision.to_list(),\n",
    "                      y_pred=test_dataset.delitos_seguimiento_modeloIA.to_list(), \n",
    "                      labels=class_labels)\n",
    "fig, ax = plt.subplots(figsize=(6,6))\n",
    "disp = ConfusionMatrixDisplay(cm, display_labels=class_labels)\n",
    "disp.plot(cmap=\"Blues\", values_format=\".2f\", ax=ax, colorbar=False)\n",
    "plt.title(\"Matriz de Confusión Delitos Seguimiento Comisión vs Modelo Septiembre - Noviembre 2022\")\n",
    "font = {'family' : 'normal',\n",
    "    'weight' : 'normal',\n",
    "    'size'   : 32}\n",
    "# plt.rc('font', **font)\n",
    "# ax.label_size = 32\n",
    "disp.ax_.set_xticklabels(class_labels, rotation=90)\n",
    "plt.show()"
   ]
  },
  {
   "cell_type": "code",
   "execution_count": 115,
   "metadata": {},
   "outputs": [
    {
     "data": {
      "image/png": "[encoded data removed]",
      "text/plain": [
       "<Figure size 600x600 with 1 Axes>"
      ]
     },
     "metadata": {},
     "output_type": "display_data"
    }
   ],
   "source": [
    "from sklearn.metrics import confusion_matrix, ConfusionMatrixDisplay\n",
    "import matplotlib.pyplot as plt\n",
    "class_labels = list(set(test_dataset.delitos_seguimiento_modeloIA.to_list()))\n",
    "cmn = confusion_matrix(y_true=test_dataset.delitos_seguimiento_comision.to_list(),\n",
    "                      y_pred=test_dataset.delitos_seguimiento_modeloIA.to_list(), \n",
    "                      labels=class_labels,\n",
    "                      normalize='true')\n",
    "fig, ax = plt.subplots(figsize=(6,6))\n",
    "disp = ConfusionMatrixDisplay(cmn, display_labels=class_labels)\n",
    "disp.plot(cmap=\"Blues\", values_format=\".2f\", ax=ax, colorbar=False)\n",
    "plt.title(\"Matriz de Confusión Normalizada Delitos Seguimiento Comisión vs Modelo Septiembre - Noviembre 2022\")\n",
    "font = {'family' : 'normal',\n",
    "    'weight' : 'normal',\n",
    "    'size'   : 32}\n",
    "# plt.rc('font', **font)\n",
    "# ax.label_size = 32\n",
    "disp.ax_.set_xticklabels(class_labels, rotation=90)\n",
    "plt.show()"
   ]
  },
  {
   "attachments": {},
   "cell_type": "markdown",
   "metadata": {},
   "source": [
    "## Metodología INEC\n",
    "\n",
    "De la metodología Inec se conoce poco, por cuanto la información remitida (i.e. presentación de powerpoint) carece de la formalidad científica deseada. No se menciona con precisión el método aplicado y sobre qué archivos. Tampoco se menciona valores totales o si encontraron etiquetas que hablan de lo mismo pero que están escritas de manera diferentes. Tampoco se menciona del caso de Ndds sin Etiqueta en la Comisión. Que bien pudiend ser resultado del SPSS como programa original dicha información no esté disponible cuando se realiza la lectura desde Python del archivo .sav. \n",
    "\n",
    "### Limitantes\n",
    "\n",
    "1. Se desconoce si el mes en el que arma la tabla obede al Mes de Registro de la Noticia del Delito o al Mes de Incidente o al Mes de algún archivo en el discoduro de una una persona. Por tanto, realizar la comparación por meses adolece de sentido mientras dicha variable no sea definida. Se pudiera considerar como recomendación el Mes de Registro de la NDD\n",
    "\n",
    "### Método\n",
    "\n",
    "1. Se descartan todos los casos donde $y_{AI} = y_{Comision}$, donde $y_{AI} \\in delitos_seguimiento_modeloIA$ y $y_{Comision} \\in delitos_seguimiento_comision$\n",
    "2. De los casos $y_{AI} \\neq  y_{Comision}$, calcular la $|y_{AI}|_i-|y_{Comision}|_i$, donde $i \\in \\{ROBO A UNIDADES ECONOMICAS, ROBO DE CARROS, ROBO DE MOTOS, \\dots  \\}$  \n",
    "3. Organizar los datos por Mes"
   ]
  },
  {
   "attachments": {},
   "cell_type": "markdown",
   "metadata": {},
   "source": [
    "Procedo a utilizar la Fecha de Registro para Obtener los meses por si amerite realizar las comparaciones en función del Mes. Sin embargo, **existe un serio problema de concepto** en el entendimiento por parte del INEC del problema a resolver. Pues, el problema a resolver es un problema de **CLASIFICACION** que lo que busca es obtener la categoría que corresponde a cada relato de la noticia del delito y no es un problema de **REGRESIÓN** que es determinar la **CANTIDAD** de robos de un tipo en un mes. De ahí que el propio análisis de comparación de cantidades no tiene relación ya que no aplica a la naturaleza del problema y por tanto la interpretación de los resultados es equivocada"
   ]
  },
  {
   "cell_type": "code",
   "execution_count": 124,
   "metadata": {},
   "outputs": [
    {
     "name": "stderr",
     "output_type": "stream",
     "text": [
      "/home/falconiel/anaconda3/envs/mlenv/lib/python3.10/site-packages/pandas/core/generic.py:5516: SettingWithCopyWarning: \n",
      "A value is trying to be set on a copy of a slice from a DataFrame.\n",
      "Try using .loc[row_indexer,col_indexer] = value instead\n",
      "\n",
      "See the caveats in the documentation: https://pandas.pydata.org/pandas-docs/stable/user_guide/indexing.html#returning-a-view-versus-a-copy\n",
      "  self[name] = value\n",
      "/tmp/ipykernel_3528659/4092946922.py:2: SettingWithCopyWarning: \n",
      "A value is trying to be set on a copy of a slice from a DataFrame.\n",
      "Try using .loc[row_indexer,col_indexer] = value instead\n",
      "\n",
      "See the caveats in the documentation: https://pandas.pydata.org/pandas-docs/stable/user_guide/indexing.html#returning-a-view-versus-a-copy\n",
      "  test_dataset['Mes_Registro'] = test_dataset.Fecha_Registro.apply(lambda x: x.month)\n"
     ]
    },
    {
     "data": {
      "text/plain": [
       "(Timestamp('2022-09-12 00:00:00'), Timestamp('2022-12-08 00:00:00'))"
      ]
     },
     "execution_count": 124,
     "metadata": {},
     "output_type": "execute_result"
    }
   ],
   "source": [
    "test_dataset.Fecha_Registro = pd.to_datetime(test_dataset.Fecha_Registro)\n",
    "test_dataset['Mes_Registro'] = test_dataset.Fecha_Registro.apply(lambda x: x.month)\n",
    "test_dataset.Fecha_Registro.min(), test_dataset.Fecha_Registro.max()"
   ]
  },
  {
   "attachments": {},
   "cell_type": "markdown",
   "metadata": {},
   "source": [
    "¿Significa que el INEC comparó con Ndds de las que no se dio la predicción? ya que la cantidad de ndds para los meses septiembre, octubre, noviembre segpun la presentacion es: 1835, 890, 771?  **El INEC debe clarificar exactamente que datos usa para su comparación y presentación** Al caracer de una metodología indicada los resultados del INEC **NO PUEDEN SER ACEPTADOS**"
   ]
  },
  {
   "cell_type": "code",
   "execution_count": 126,
   "metadata": {},
   "outputs": [
    {
     "data": {
      "text/plain": [
       "11    1672\n",
       "10    1444\n",
       "12     161\n",
       "9        2\n",
       "Name: Mes_Registro, dtype: int64"
      ]
     },
     "execution_count": 126,
     "metadata": {},
     "output_type": "execute_result"
    }
   ],
   "source": [
    "datos_comision.Fecha_Registro = pd.to_datetime(datos_comision.Fecha_Registro)\n",
    "datos_comision['Mes_Registro'] = datos_comision.Fecha_Registro.apply(lambda x: x.month)\n",
    "datos_comision.Mes_Registro.value_counts()"
   ]
  },
  {
   "cell_type": "code",
   "execution_count": 125,
   "metadata": {},
   "outputs": [
    {
     "data": {
      "text/plain": [
       "11    1288\n",
       "10    1078\n",
       "12     118\n",
       "9        1\n",
       "Name: Mes_Registro, dtype: int64"
      ]
     },
     "execution_count": 125,
     "metadata": {},
     "output_type": "execute_result"
    }
   ],
   "source": [
    "test_dataset.Mes_Registro.value_counts()"
   ]
  },
  {
   "attachments": {},
   "cell_type": "markdown",
   "metadata": {},
   "source": [
    "Aplicando la primera regla i.e. excluir los casos que coinciden"
   ]
  },
  {
   "cell_type": "code",
   "execution_count": 127,
   "metadata": {},
   "outputs": [
    {
     "data": {
      "text/plain": [
       "((2031, 9), (2485, 9))"
      ]
     },
     "execution_count": 127,
     "metadata": {},
     "output_type": "execute_result"
    }
   ],
   "source": [
    "test_dataset_coinciden = test_dataset[test_dataset.delitos_seguimiento_comision==test_dataset.delitos_seguimiento_modeloIA]\n",
    "test_dataset_coinciden.shape, test_dataset.shape"
   ]
  },
  {
   "cell_type": "code",
   "execution_count": 120,
   "metadata": {},
   "outputs": [
    {
     "name": "stdout",
     "output_type": "stream",
     "text": [
      "Existen coincidencias en 81.73038229376257 %\n"
     ]
    }
   ],
   "source": [
    "print(f\"Existen coincidencias en {test_dataset_coinciden.shape[0]/test_dataset.shape[0]*100} %\")"
   ]
  },
  {
   "attachments": {},
   "cell_type": "markdown",
   "metadata": {},
   "source": [
    "De aqui entonces obteniendo el juego de datos para la condición contraria"
   ]
  },
  {
   "cell_type": "code",
   "execution_count": 128,
   "metadata": {},
   "outputs": [
    {
     "data": {
      "text/plain": [
       "((454, 9), (2485, 9))"
      ]
     },
     "execution_count": 128,
     "metadata": {},
     "output_type": "execute_result"
    }
   ],
   "source": [
    "test_dataset_noCoinciden = test_dataset[test_dataset.delitos_seguimiento_comision!=test_dataset.delitos_seguimiento_modeloIA]\n",
    "test_dataset_noCoinciden.shape, test_dataset.shape"
   ]
  },
  {
   "cell_type": "code",
   "execution_count": 129,
   "metadata": {},
   "outputs": [
    {
     "name": "stdout",
     "output_type": "stream",
     "text": [
      "Existen coincidencias en 18.269617706237423 %\n"
     ]
    }
   ],
   "source": [
    "print(f\"Existen coincidencias en {test_dataset_noCoinciden.shape[0]/test_dataset.shape[0]*100} %\")"
   ]
  },
  {
   "attachments": {},
   "cell_type": "markdown",
   "metadata": {},
   "source": [
    "Revisando si se puede obtener los cálculos reportados por el INEC"
   ]
  },
  {
   "cell_type": "code",
   "execution_count": 137,
   "metadata": {},
   "outputs": [
    {
     "data": {
      "text/plain": [
       "((18, 3), (17, 3))"
      ]
     },
     "execution_count": 137,
     "metadata": {},
     "output_type": "execute_result"
    }
   ],
   "source": [
    "cantidadesDelitosSeguimientoModelo_mes = test_dataset_noCoinciden.groupby(['Mes_Registro', 'delitos_seguimiento_modeloIA'])['NDD'].count().reset_index()\n",
    "cantidadesDelitosSeguimientoModelo_mes.rename(columns={'delitos_seguimiento_modeloIA':'delitos_seguimiento', 'NDD': 'cantidad_delitos_seguimiento_modelo'}, inplace=True)\n",
    "cantidadesDelitosSeguimientoComision_mes = test_dataset_noCoinciden.groupby(['Mes_Registro', 'delitos_seguimiento_comision'])['NDD'].count().reset_index()\n",
    "cantidadesDelitosSeguimientoComision_mes.rename(columns={'delitos_seguimiento_comision':'delitos_seguimiento', 'NDD': 'cantidad_delitos_seguimiento_comision'}, inplace=True)\n",
    "cantidadesDelitosSeguimientoComision_mes.shape, cantidadesDelitosSeguimientoModelo_mes.shape"
   ]
  },
  {
   "cell_type": "code",
   "execution_count": 145,
   "metadata": {},
   "outputs": [
    {
     "data": {
      "text/plain": [
       "((18, 4), (18, 3), (17, 3))"
      ]
     },
     "execution_count": 145,
     "metadata": {},
     "output_type": "execute_result"
    }
   ],
   "source": [
    "resultado1 = pd.merge(cantidadesDelitosSeguimientoComision_mes, cantidadesDelitosSeguimientoModelo_mes, on=['Mes_Registro', 'delitos_seguimiento'], how='outer')\n",
    "resultado1.fillna(0, inplace=True)\n",
    "resultado1.shape, cantidadesDelitosSeguimientoComision_mes.shape, cantidadesDelitosSeguimientoModelo_mes.shape"
   ]
  },
  {
   "cell_type": "code",
   "execution_count": 146,
   "metadata": {},
   "outputs": [
    {
     "data": {
      "text/html": [
       "<div>\n",
       "<style scoped>\n",
       "    .dataframe tbody tr th:only-of-type {\n",
       "        vertical-align: middle;\n",
       "    }\n",
       "\n",
       "    .dataframe tbody tr th {\n",
       "        vertical-align: top;\n",
       "    }\n",
       "\n",
       "    .dataframe thead th {\n",
       "        text-align: right;\n",
       "    }\n",
       "</style>\n",
       "<table border=\"1\" class=\"dataframe\">\n",
       "  <thead>\n",
       "    <tr style=\"text-align: right;\">\n",
       "      <th></th>\n",
       "      <th>Mes_Registro</th>\n",
       "      <th>delitos_seguimiento</th>\n",
       "      <th>cantidad_delitos_seguimiento_comision</th>\n",
       "      <th>cantidad_delitos_seguimiento_modelo</th>\n",
       "      <th>diff</th>\n",
       "    </tr>\n",
       "  </thead>\n",
       "  <tbody>\n",
       "    <tr>\n",
       "      <th>0</th>\n",
       "      <td>10</td>\n",
       "      <td>ROBO A DOMICILIO</td>\n",
       "      <td>19</td>\n",
       "      <td>32.0</td>\n",
       "      <td>13.0</td>\n",
       "    </tr>\n",
       "    <tr>\n",
       "      <th>1</th>\n",
       "      <td>10</td>\n",
       "      <td>ROBO A PERSONAS</td>\n",
       "      <td>33</td>\n",
       "      <td>75.0</td>\n",
       "      <td>42.0</td>\n",
       "    </tr>\n",
       "    <tr>\n",
       "      <th>2</th>\n",
       "      <td>10</td>\n",
       "      <td>ROBO A UNIDADES ECONOMICAS</td>\n",
       "      <td>41</td>\n",
       "      <td>37.0</td>\n",
       "      <td>-4.0</td>\n",
       "    </tr>\n",
       "    <tr>\n",
       "      <th>3</th>\n",
       "      <td>10</td>\n",
       "      <td>ROBO DE BIENES, ACCESORIOS Y AUTOPARTES DE VEH...</td>\n",
       "      <td>39</td>\n",
       "      <td>27.0</td>\n",
       "      <td>-12.0</td>\n",
       "    </tr>\n",
       "    <tr>\n",
       "      <th>4</th>\n",
       "      <td>10</td>\n",
       "      <td>ROBO DE CARROS</td>\n",
       "      <td>37</td>\n",
       "      <td>12.0</td>\n",
       "      <td>-25.0</td>\n",
       "    </tr>\n",
       "    <tr>\n",
       "      <th>5</th>\n",
       "      <td>10</td>\n",
       "      <td>ROBO DE MOTOS</td>\n",
       "      <td>23</td>\n",
       "      <td>9.0</td>\n",
       "      <td>-14.0</td>\n",
       "    </tr>\n",
       "    <tr>\n",
       "      <th>6</th>\n",
       "      <td>11</td>\n",
       "      <td>ROBO A DOMICILIO</td>\n",
       "      <td>21</td>\n",
       "      <td>21.0</td>\n",
       "      <td>0.0</td>\n",
       "    </tr>\n",
       "    <tr>\n",
       "      <th>7</th>\n",
       "      <td>11</td>\n",
       "      <td>ROBO A PERSONAS</td>\n",
       "      <td>38</td>\n",
       "      <td>99.0</td>\n",
       "      <td>61.0</td>\n",
       "    </tr>\n",
       "    <tr>\n",
       "      <th>8</th>\n",
       "      <td>11</td>\n",
       "      <td>ROBO A UNIDADES ECONOMICAS</td>\n",
       "      <td>60</td>\n",
       "      <td>29.0</td>\n",
       "      <td>-31.0</td>\n",
       "    </tr>\n",
       "    <tr>\n",
       "      <th>9</th>\n",
       "      <td>11</td>\n",
       "      <td>ROBO DE BIENES, ACCESORIOS Y AUTOPARTES DE VEH...</td>\n",
       "      <td>39</td>\n",
       "      <td>56.0</td>\n",
       "      <td>17.0</td>\n",
       "    </tr>\n",
       "    <tr>\n",
       "      <th>10</th>\n",
       "      <td>11</td>\n",
       "      <td>ROBO DE CARROS</td>\n",
       "      <td>58</td>\n",
       "      <td>16.0</td>\n",
       "      <td>-42.0</td>\n",
       "    </tr>\n",
       "    <tr>\n",
       "      <th>11</th>\n",
       "      <td>11</td>\n",
       "      <td>ROBO DE MOTOS</td>\n",
       "      <td>17</td>\n",
       "      <td>12.0</td>\n",
       "      <td>-5.0</td>\n",
       "    </tr>\n",
       "    <tr>\n",
       "      <th>12</th>\n",
       "      <td>12</td>\n",
       "      <td>ROBO A DOMICILIO</td>\n",
       "      <td>7</td>\n",
       "      <td>2.0</td>\n",
       "      <td>-5.0</td>\n",
       "    </tr>\n",
       "    <tr>\n",
       "      <th>13</th>\n",
       "      <td>12</td>\n",
       "      <td>ROBO A PERSONAS</td>\n",
       "      <td>5</td>\n",
       "      <td>10.0</td>\n",
       "      <td>5.0</td>\n",
       "    </tr>\n",
       "    <tr>\n",
       "      <th>14</th>\n",
       "      <td>12</td>\n",
       "      <td>ROBO A UNIDADES ECONOMICAS</td>\n",
       "      <td>5</td>\n",
       "      <td>6.0</td>\n",
       "      <td>1.0</td>\n",
       "    </tr>\n",
       "    <tr>\n",
       "      <th>15</th>\n",
       "      <td>12</td>\n",
       "      <td>ROBO DE BIENES, ACCESORIOS Y AUTOPARTES DE VEH...</td>\n",
       "      <td>4</td>\n",
       "      <td>8.0</td>\n",
       "      <td>4.0</td>\n",
       "    </tr>\n",
       "    <tr>\n",
       "      <th>16</th>\n",
       "      <td>12</td>\n",
       "      <td>ROBO DE CARROS</td>\n",
       "      <td>5</td>\n",
       "      <td>3.0</td>\n",
       "      <td>-2.0</td>\n",
       "    </tr>\n",
       "    <tr>\n",
       "      <th>17</th>\n",
       "      <td>12</td>\n",
       "      <td>ROBO DE MOTOS</td>\n",
       "      <td>3</td>\n",
       "      <td>0.0</td>\n",
       "      <td>-3.0</td>\n",
       "    </tr>\n",
       "  </tbody>\n",
       "</table>\n",
       "</div>"
      ],
      "text/plain": [
       "    Mes_Registro                                delitos_seguimiento  \\\n",
       "0             10                                   ROBO A DOMICILIO   \n",
       "1             10                                    ROBO A PERSONAS   \n",
       "2             10                         ROBO A UNIDADES ECONOMICAS   \n",
       "3             10  ROBO DE BIENES, ACCESORIOS Y AUTOPARTES DE VEH...   \n",
       "4             10                                     ROBO DE CARROS   \n",
       "5             10                                      ROBO DE MOTOS   \n",
       "6             11                                   ROBO A DOMICILIO   \n",
       "7             11                                    ROBO A PERSONAS   \n",
       "8             11                         ROBO A UNIDADES ECONOMICAS   \n",
       "9             11  ROBO DE BIENES, ACCESORIOS Y AUTOPARTES DE VEH...   \n",
       "10            11                                     ROBO DE CARROS   \n",
       "11            11                                      ROBO DE MOTOS   \n",
       "12            12                                   ROBO A DOMICILIO   \n",
       "13            12                                    ROBO A PERSONAS   \n",
       "14            12                         ROBO A UNIDADES ECONOMICAS   \n",
       "15            12  ROBO DE BIENES, ACCESORIOS Y AUTOPARTES DE VEH...   \n",
       "16            12                                     ROBO DE CARROS   \n",
       "17            12                                      ROBO DE MOTOS   \n",
       "\n",
       "    cantidad_delitos_seguimiento_comision  \\\n",
       "0                                      19   \n",
       "1                                      33   \n",
       "2                                      41   \n",
       "3                                      39   \n",
       "4                                      37   \n",
       "5                                      23   \n",
       "6                                      21   \n",
       "7                                      38   \n",
       "8                                      60   \n",
       "9                                      39   \n",
       "10                                     58   \n",
       "11                                     17   \n",
       "12                                      7   \n",
       "13                                      5   \n",
       "14                                      5   \n",
       "15                                      4   \n",
       "16                                      5   \n",
       "17                                      3   \n",
       "\n",
       "    cantidad_delitos_seguimiento_modelo  diff  \n",
       "0                                  32.0  13.0  \n",
       "1                                  75.0  42.0  \n",
       "2                                  37.0  -4.0  \n",
       "3                                  27.0 -12.0  \n",
       "4                                  12.0 -25.0  \n",
       "5                                   9.0 -14.0  \n",
       "6                                  21.0   0.0  \n",
       "7                                  99.0  61.0  \n",
       "8                                  29.0 -31.0  \n",
       "9                                  56.0  17.0  \n",
       "10                                 16.0 -42.0  \n",
       "11                                 12.0  -5.0  \n",
       "12                                  2.0  -5.0  \n",
       "13                                 10.0   5.0  \n",
       "14                                  6.0   1.0  \n",
       "15                                  8.0   4.0  \n",
       "16                                  3.0  -2.0  \n",
       "17                                  0.0  -3.0  "
      ]
     },
     "execution_count": 146,
     "metadata": {},
     "output_type": "execute_result"
    }
   ],
   "source": [
    "resultado1['diff'] = resultado1.cantidad_delitos_seguimiento_modelo - resultado1.cantidad_delitos_seguimiento_comision\n",
    "resultado1"
   ]
  },
  {
   "attachments": {},
   "cell_type": "markdown",
   "metadata": {},
   "source": [
    "Se realizará un pivot para organizar la información de manera más similar a la presentada. Hasta el momento se observa que posiblemente las comparaciones no son sobre las cantidades que difieren, sino que El INEC está comparando la *cantidad de cada desagregación* y no si  la desagregación corresponde a la categoría o no. Por tanto, los análisis de evaluación del Modelo presentados por el INEC carecen de sentido y no son considerables por cuanto estan resolviendo no el problema de *clasificación* sino un problema de *cuánto de $i$ existe en $M$*, con $i$ una desagregación del delito y $M$ un mes. De donde nace preguntarse si el INEC lo que requiere es un modelo de regresión y no un modelo de clasificación. A parte de que llama la atención la necesidad de comparar cantidades. Antes de presentar el pivot, realicese la comparación con el juego completo del dataset de testeo independientemente de que los valores coincidan o no. Porque al parecer al INEC no le interesa las categorías sino los valores totales"
   ]
  },
  {
   "cell_type": "code",
   "execution_count": 147,
   "metadata": {},
   "outputs": [
    {
     "data": {
      "text/plain": [
       "((19, 3), (19, 3))"
      ]
     },
     "execution_count": 147,
     "metadata": {},
     "output_type": "execute_result"
    }
   ],
   "source": [
    "cantidadesDelitosSeguimientoModelo_mes_total = test_dataset.groupby(['Mes_Registro', 'delitos_seguimiento_modeloIA'])['NDD'].count().reset_index()\n",
    "cantidadesDelitosSeguimientoModelo_mes_total.rename(columns={'delitos_seguimiento_modeloIA':'delitos_seguimiento', 'NDD': 'cantidad_delitos_seguimiento_modelo'}, inplace=True)\n",
    "cantidadesDelitosSeguimientoComision_mes_total = test_dataset.groupby(['Mes_Registro', 'delitos_seguimiento_comision'])['NDD'].count().reset_index()\n",
    "cantidadesDelitosSeguimientoComision_mes_total.rename(columns={'delitos_seguimiento_comision':'delitos_seguimiento', 'NDD': 'cantidad_delitos_seguimiento_comision'}, inplace=True)\n",
    "cantidadesDelitosSeguimientoComision_mes_total.shape, cantidadesDelitosSeguimientoModelo_mes_total.shape"
   ]
  },
  {
   "cell_type": "code",
   "execution_count": 148,
   "metadata": {},
   "outputs": [
    {
     "data": {
      "text/plain": [
       "((19, 4), (19, 3), (19, 3))"
      ]
     },
     "execution_count": 148,
     "metadata": {},
     "output_type": "execute_result"
    }
   ],
   "source": [
    "resultado1_total = pd.merge(cantidadesDelitosSeguimientoComision_mes_total, cantidadesDelitosSeguimientoModelo_mes_total, on=['Mes_Registro', 'delitos_seguimiento'], how='outer')\n",
    "resultado1_total.fillna(0, inplace=True)\n",
    "resultado1_total.shape, cantidadesDelitosSeguimientoComision_mes_total.shape, cantidadesDelitosSeguimientoModelo_mes_total.shape"
   ]
  },
  {
   "cell_type": "code",
   "execution_count": 150,
   "metadata": {},
   "outputs": [
    {
     "data": {
      "text/html": [
       "<div>\n",
       "<style scoped>\n",
       "    .dataframe tbody tr th:only-of-type {\n",
       "        vertical-align: middle;\n",
       "    }\n",
       "\n",
       "    .dataframe tbody tr th {\n",
       "        vertical-align: top;\n",
       "    }\n",
       "\n",
       "    .dataframe thead th {\n",
       "        text-align: right;\n",
       "    }\n",
       "</style>\n",
       "<table border=\"1\" class=\"dataframe\">\n",
       "  <thead>\n",
       "    <tr style=\"text-align: right;\">\n",
       "      <th></th>\n",
       "      <th>Mes_Registro</th>\n",
       "      <th>delitos_seguimiento</th>\n",
       "      <th>cantidad_delitos_seguimiento_comision</th>\n",
       "      <th>cantidad_delitos_seguimiento_modelo</th>\n",
       "      <th>diff</th>\n",
       "    </tr>\n",
       "  </thead>\n",
       "  <tbody>\n",
       "    <tr>\n",
       "      <th>0</th>\n",
       "      <td>9</td>\n",
       "      <td>ROBO DE MOTOS</td>\n",
       "      <td>1</td>\n",
       "      <td>1</td>\n",
       "      <td>13.0</td>\n",
       "    </tr>\n",
       "    <tr>\n",
       "      <th>1</th>\n",
       "      <td>10</td>\n",
       "      <td>ROBO A DOMICILIO</td>\n",
       "      <td>85</td>\n",
       "      <td>98</td>\n",
       "      <td>42.0</td>\n",
       "    </tr>\n",
       "    <tr>\n",
       "      <th>2</th>\n",
       "      <td>10</td>\n",
       "      <td>ROBO A PERSONAS</td>\n",
       "      <td>180</td>\n",
       "      <td>222</td>\n",
       "      <td>-4.0</td>\n",
       "    </tr>\n",
       "    <tr>\n",
       "      <th>3</th>\n",
       "      <td>10</td>\n",
       "      <td>ROBO A UNIDADES ECONOMICAS</td>\n",
       "      <td>289</td>\n",
       "      <td>285</td>\n",
       "      <td>-12.0</td>\n",
       "    </tr>\n",
       "    <tr>\n",
       "      <th>4</th>\n",
       "      <td>10</td>\n",
       "      <td>ROBO DE BIENES, ACCESORIOS Y AUTOPARTES DE VEH...</td>\n",
       "      <td>242</td>\n",
       "      <td>230</td>\n",
       "      <td>-25.0</td>\n",
       "    </tr>\n",
       "    <tr>\n",
       "      <th>5</th>\n",
       "      <td>10</td>\n",
       "      <td>ROBO DE CARROS</td>\n",
       "      <td>113</td>\n",
       "      <td>88</td>\n",
       "      <td>-14.0</td>\n",
       "    </tr>\n",
       "    <tr>\n",
       "      <th>6</th>\n",
       "      <td>10</td>\n",
       "      <td>ROBO DE MOTOS</td>\n",
       "      <td>169</td>\n",
       "      <td>155</td>\n",
       "      <td>0.0</td>\n",
       "    </tr>\n",
       "    <tr>\n",
       "      <th>7</th>\n",
       "      <td>11</td>\n",
       "      <td>ROBO A DOMICILIO</td>\n",
       "      <td>111</td>\n",
       "      <td>111</td>\n",
       "      <td>61.0</td>\n",
       "    </tr>\n",
       "    <tr>\n",
       "      <th>8</th>\n",
       "      <td>11</td>\n",
       "      <td>ROBO A PERSONAS</td>\n",
       "      <td>204</td>\n",
       "      <td>265</td>\n",
       "      <td>-31.0</td>\n",
       "    </tr>\n",
       "    <tr>\n",
       "      <th>9</th>\n",
       "      <td>11</td>\n",
       "      <td>ROBO A UNIDADES ECONOMICAS</td>\n",
       "      <td>377</td>\n",
       "      <td>346</td>\n",
       "      <td>17.0</td>\n",
       "    </tr>\n",
       "    <tr>\n",
       "      <th>10</th>\n",
       "      <td>11</td>\n",
       "      <td>ROBO DE BIENES, ACCESORIOS Y AUTOPARTES DE VEH...</td>\n",
       "      <td>250</td>\n",
       "      <td>267</td>\n",
       "      <td>-42.0</td>\n",
       "    </tr>\n",
       "    <tr>\n",
       "      <th>11</th>\n",
       "      <td>11</td>\n",
       "      <td>ROBO DE CARROS</td>\n",
       "      <td>139</td>\n",
       "      <td>97</td>\n",
       "      <td>-5.0</td>\n",
       "    </tr>\n",
       "    <tr>\n",
       "      <th>12</th>\n",
       "      <td>11</td>\n",
       "      <td>ROBO DE MOTOS</td>\n",
       "      <td>207</td>\n",
       "      <td>202</td>\n",
       "      <td>-5.0</td>\n",
       "    </tr>\n",
       "    <tr>\n",
       "      <th>13</th>\n",
       "      <td>12</td>\n",
       "      <td>ROBO A DOMICILIO</td>\n",
       "      <td>12</td>\n",
       "      <td>7</td>\n",
       "      <td>5.0</td>\n",
       "    </tr>\n",
       "    <tr>\n",
       "      <th>14</th>\n",
       "      <td>12</td>\n",
       "      <td>ROBO A PERSONAS</td>\n",
       "      <td>20</td>\n",
       "      <td>25</td>\n",
       "      <td>1.0</td>\n",
       "    </tr>\n",
       "    <tr>\n",
       "      <th>15</th>\n",
       "      <td>12</td>\n",
       "      <td>ROBO A UNIDADES ECONOMICAS</td>\n",
       "      <td>36</td>\n",
       "      <td>37</td>\n",
       "      <td>4.0</td>\n",
       "    </tr>\n",
       "    <tr>\n",
       "      <th>16</th>\n",
       "      <td>12</td>\n",
       "      <td>ROBO DE BIENES, ACCESORIOS Y AUTOPARTES DE VEH...</td>\n",
       "      <td>19</td>\n",
       "      <td>23</td>\n",
       "      <td>-2.0</td>\n",
       "    </tr>\n",
       "    <tr>\n",
       "      <th>17</th>\n",
       "      <td>12</td>\n",
       "      <td>ROBO DE CARROS</td>\n",
       "      <td>11</td>\n",
       "      <td>9</td>\n",
       "      <td>-3.0</td>\n",
       "    </tr>\n",
       "    <tr>\n",
       "      <th>18</th>\n",
       "      <td>12</td>\n",
       "      <td>ROBO DE MOTOS</td>\n",
       "      <td>20</td>\n",
       "      <td>17</td>\n",
       "      <td>NaN</td>\n",
       "    </tr>\n",
       "  </tbody>\n",
       "</table>\n",
       "</div>"
      ],
      "text/plain": [
       "    Mes_Registro                                delitos_seguimiento  \\\n",
       "0              9                                      ROBO DE MOTOS   \n",
       "1             10                                   ROBO A DOMICILIO   \n",
       "2             10                                    ROBO A PERSONAS   \n",
       "3             10                         ROBO A UNIDADES ECONOMICAS   \n",
       "4             10  ROBO DE BIENES, ACCESORIOS Y AUTOPARTES DE VEH...   \n",
       "5             10                                     ROBO DE CARROS   \n",
       "6             10                                      ROBO DE MOTOS   \n",
       "7             11                                   ROBO A DOMICILIO   \n",
       "8             11                                    ROBO A PERSONAS   \n",
       "9             11                         ROBO A UNIDADES ECONOMICAS   \n",
       "10            11  ROBO DE BIENES, ACCESORIOS Y AUTOPARTES DE VEH...   \n",
       "11            11                                     ROBO DE CARROS   \n",
       "12            11                                      ROBO DE MOTOS   \n",
       "13            12                                   ROBO A DOMICILIO   \n",
       "14            12                                    ROBO A PERSONAS   \n",
       "15            12                         ROBO A UNIDADES ECONOMICAS   \n",
       "16            12  ROBO DE BIENES, ACCESORIOS Y AUTOPARTES DE VEH...   \n",
       "17            12                                     ROBO DE CARROS   \n",
       "18            12                                      ROBO DE MOTOS   \n",
       "\n",
       "    cantidad_delitos_seguimiento_comision  \\\n",
       "0                                       1   \n",
       "1                                      85   \n",
       "2                                     180   \n",
       "3                                     289   \n",
       "4                                     242   \n",
       "5                                     113   \n",
       "6                                     169   \n",
       "7                                     111   \n",
       "8                                     204   \n",
       "9                                     377   \n",
       "10                                    250   \n",
       "11                                    139   \n",
       "12                                    207   \n",
       "13                                     12   \n",
       "14                                     20   \n",
       "15                                     36   \n",
       "16                                     19   \n",
       "17                                     11   \n",
       "18                                     20   \n",
       "\n",
       "    cantidad_delitos_seguimiento_modelo  diff  \n",
       "0                                     1  13.0  \n",
       "1                                    98  42.0  \n",
       "2                                   222  -4.0  \n",
       "3                                   285 -12.0  \n",
       "4                                   230 -25.0  \n",
       "5                                    88 -14.0  \n",
       "6                                   155   0.0  \n",
       "7                                   111  61.0  \n",
       "8                                   265 -31.0  \n",
       "9                                   346  17.0  \n",
       "10                                  267 -42.0  \n",
       "11                                   97  -5.0  \n",
       "12                                  202  -5.0  \n",
       "13                                    7   5.0  \n",
       "14                                   25   1.0  \n",
       "15                                   37   4.0  \n",
       "16                                   23  -2.0  \n",
       "17                                    9  -3.0  \n",
       "18                                   17   NaN  "
      ]
     },
     "execution_count": 150,
     "metadata": {},
     "output_type": "execute_result"
    }
   ],
   "source": [
    "resultado1_total['diff'] = resultado1.cantidad_delitos_seguimiento_modelo - resultado1.cantidad_delitos_seguimiento_comision\n",
    "resultado1_total"
   ]
  },
  {
   "cell_type": "code",
   "execution_count": 152,
   "metadata": {},
   "outputs": [
    {
     "data": {
      "text/html": [
       "<div>\n",
       "<style scoped>\n",
       "    .dataframe tbody tr th:only-of-type {\n",
       "        vertical-align: middle;\n",
       "    }\n",
       "\n",
       "    .dataframe tbody tr th {\n",
       "        vertical-align: top;\n",
       "    }\n",
       "\n",
       "    .dataframe thead tr th {\n",
       "        text-align: left;\n",
       "    }\n",
       "\n",
       "    .dataframe thead tr:last-of-type th {\n",
       "        text-align: right;\n",
       "    }\n",
       "</style>\n",
       "<table border=\"1\" class=\"dataframe\">\n",
       "  <thead>\n",
       "    <tr>\n",
       "      <th></th>\n",
       "      <th colspan=\"5\" halign=\"left\">cantidad_delitos_seguimiento_comision</th>\n",
       "      <th colspan=\"5\" halign=\"left\">cantidad_delitos_seguimiento_modelo</th>\n",
       "      <th colspan=\"5\" halign=\"left\">diff</th>\n",
       "    </tr>\n",
       "    <tr>\n",
       "      <th>Mes_Registro</th>\n",
       "      <th>9</th>\n",
       "      <th>10</th>\n",
       "      <th>11</th>\n",
       "      <th>12</th>\n",
       "      <th>TOTAL</th>\n",
       "      <th>9</th>\n",
       "      <th>10</th>\n",
       "      <th>11</th>\n",
       "      <th>12</th>\n",
       "      <th>TOTAL</th>\n",
       "      <th>9</th>\n",
       "      <th>10</th>\n",
       "      <th>11</th>\n",
       "      <th>12</th>\n",
       "      <th>TOTAL</th>\n",
       "    </tr>\n",
       "    <tr>\n",
       "      <th>delitos_seguimiento</th>\n",
       "      <th></th>\n",
       "      <th></th>\n",
       "      <th></th>\n",
       "      <th></th>\n",
       "      <th></th>\n",
       "      <th></th>\n",
       "      <th></th>\n",
       "      <th></th>\n",
       "      <th></th>\n",
       "      <th></th>\n",
       "      <th></th>\n",
       "      <th></th>\n",
       "      <th></th>\n",
       "      <th></th>\n",
       "      <th></th>\n",
       "    </tr>\n",
       "  </thead>\n",
       "  <tbody>\n",
       "    <tr>\n",
       "      <th>ROBO A DOMICILIO</th>\n",
       "      <td>0.0</td>\n",
       "      <td>85.0</td>\n",
       "      <td>111.0</td>\n",
       "      <td>12.0</td>\n",
       "      <td>208</td>\n",
       "      <td>0.0</td>\n",
       "      <td>98.0</td>\n",
       "      <td>111.0</td>\n",
       "      <td>7.0</td>\n",
       "      <td>216</td>\n",
       "      <td>0.0</td>\n",
       "      <td>42.0</td>\n",
       "      <td>61.0</td>\n",
       "      <td>5.0</td>\n",
       "      <td>108.0</td>\n",
       "    </tr>\n",
       "    <tr>\n",
       "      <th>ROBO A PERSONAS</th>\n",
       "      <td>0.0</td>\n",
       "      <td>180.0</td>\n",
       "      <td>204.0</td>\n",
       "      <td>20.0</td>\n",
       "      <td>404</td>\n",
       "      <td>0.0</td>\n",
       "      <td>222.0</td>\n",
       "      <td>265.0</td>\n",
       "      <td>25.0</td>\n",
       "      <td>512</td>\n",
       "      <td>0.0</td>\n",
       "      <td>-4.0</td>\n",
       "      <td>-31.0</td>\n",
       "      <td>1.0</td>\n",
       "      <td>-34.0</td>\n",
       "    </tr>\n",
       "    <tr>\n",
       "      <th>ROBO A UNIDADES ECONOMICAS</th>\n",
       "      <td>0.0</td>\n",
       "      <td>289.0</td>\n",
       "      <td>377.0</td>\n",
       "      <td>36.0</td>\n",
       "      <td>702</td>\n",
       "      <td>0.0</td>\n",
       "      <td>285.0</td>\n",
       "      <td>346.0</td>\n",
       "      <td>37.0</td>\n",
       "      <td>668</td>\n",
       "      <td>0.0</td>\n",
       "      <td>-12.0</td>\n",
       "      <td>17.0</td>\n",
       "      <td>4.0</td>\n",
       "      <td>9.0</td>\n",
       "    </tr>\n",
       "    <tr>\n",
       "      <th>ROBO DE BIENES, ACCESORIOS Y AUTOPARTES DE VEHICULOS</th>\n",
       "      <td>0.0</td>\n",
       "      <td>242.0</td>\n",
       "      <td>250.0</td>\n",
       "      <td>19.0</td>\n",
       "      <td>511</td>\n",
       "      <td>0.0</td>\n",
       "      <td>230.0</td>\n",
       "      <td>267.0</td>\n",
       "      <td>23.0</td>\n",
       "      <td>520</td>\n",
       "      <td>0.0</td>\n",
       "      <td>-25.0</td>\n",
       "      <td>-42.0</td>\n",
       "      <td>-2.0</td>\n",
       "      <td>-69.0</td>\n",
       "    </tr>\n",
       "    <tr>\n",
       "      <th>ROBO DE CARROS</th>\n",
       "      <td>0.0</td>\n",
       "      <td>113.0</td>\n",
       "      <td>139.0</td>\n",
       "      <td>11.0</td>\n",
       "      <td>263</td>\n",
       "      <td>0.0</td>\n",
       "      <td>88.0</td>\n",
       "      <td>97.0</td>\n",
       "      <td>9.0</td>\n",
       "      <td>194</td>\n",
       "      <td>0.0</td>\n",
       "      <td>-14.0</td>\n",
       "      <td>-5.0</td>\n",
       "      <td>-3.0</td>\n",
       "      <td>-22.0</td>\n",
       "    </tr>\n",
       "    <tr>\n",
       "      <th>ROBO DE MOTOS</th>\n",
       "      <td>1.0</td>\n",
       "      <td>169.0</td>\n",
       "      <td>207.0</td>\n",
       "      <td>20.0</td>\n",
       "      <td>377</td>\n",
       "      <td>1.0</td>\n",
       "      <td>155.0</td>\n",
       "      <td>202.0</td>\n",
       "      <td>17.0</td>\n",
       "      <td>358</td>\n",
       "      <td>13.0</td>\n",
       "      <td>0.0</td>\n",
       "      <td>-5.0</td>\n",
       "      <td>0.0</td>\n",
       "      <td>8.0</td>\n",
       "    </tr>\n",
       "    <tr>\n",
       "      <th>TOTAL</th>\n",
       "      <td>1.0</td>\n",
       "      <td>1078.0</td>\n",
       "      <td>1288.0</td>\n",
       "      <td>98.0</td>\n",
       "      <td>2465</td>\n",
       "      <td>1.0</td>\n",
       "      <td>1078.0</td>\n",
       "      <td>1288.0</td>\n",
       "      <td>101.0</td>\n",
       "      <td>2468</td>\n",
       "      <td>13.0</td>\n",
       "      <td>-13.0</td>\n",
       "      <td>-5.0</td>\n",
       "      <td>5.0</td>\n",
       "      <td>0.0</td>\n",
       "    </tr>\n",
       "  </tbody>\n",
       "</table>\n",
       "</div>"
      ],
      "text/plain": [
       "                                                   cantidad_delitos_seguimiento_comision  \\\n",
       "Mes_Registro                                                                           9   \n",
       "delitos_seguimiento                                                                        \n",
       "ROBO A DOMICILIO                                                                     0.0   \n",
       "ROBO A PERSONAS                                                                      0.0   \n",
       "ROBO A UNIDADES ECONOMICAS                                                           0.0   \n",
       "ROBO DE BIENES, ACCESORIOS Y AUTOPARTES DE VEHI...                                   0.0   \n",
       "ROBO DE CARROS                                                                       0.0   \n",
       "ROBO DE MOTOS                                                                        1.0   \n",
       "TOTAL                                                                                1.0   \n",
       "\n",
       "                                                                          \\\n",
       "Mes_Registro                                            10      11    12   \n",
       "delitos_seguimiento                                                        \n",
       "ROBO A DOMICILIO                                      85.0   111.0  12.0   \n",
       "ROBO A PERSONAS                                      180.0   204.0  20.0   \n",
       "ROBO A UNIDADES ECONOMICAS                           289.0   377.0  36.0   \n",
       "ROBO DE BIENES, ACCESORIOS Y AUTOPARTES DE VEHI...   242.0   250.0  19.0   \n",
       "ROBO DE CARROS                                       113.0   139.0  11.0   \n",
       "ROBO DE MOTOS                                        169.0   207.0  20.0   \n",
       "TOTAL                                               1078.0  1288.0  98.0   \n",
       "\n",
       "                                                          \\\n",
       "Mes_Registro                                       TOTAL   \n",
       "delitos_seguimiento                                        \n",
       "ROBO A DOMICILIO                                     208   \n",
       "ROBO A PERSONAS                                      404   \n",
       "ROBO A UNIDADES ECONOMICAS                           702   \n",
       "ROBO DE BIENES, ACCESORIOS Y AUTOPARTES DE VEHI...   511   \n",
       "ROBO DE CARROS                                       263   \n",
       "ROBO DE MOTOS                                        377   \n",
       "TOTAL                                               2465   \n",
       "\n",
       "                                                   cantidad_delitos_seguimiento_modelo  \\\n",
       "Mes_Registro                                                                         9   \n",
       "delitos_seguimiento                                                                      \n",
       "ROBO A DOMICILIO                                                                   0.0   \n",
       "ROBO A PERSONAS                                                                    0.0   \n",
       "ROBO A UNIDADES ECONOMICAS                                                         0.0   \n",
       "ROBO DE BIENES, ACCESORIOS Y AUTOPARTES DE VEHI...                                 0.0   \n",
       "ROBO DE CARROS                                                                     0.0   \n",
       "ROBO DE MOTOS                                                                      1.0   \n",
       "TOTAL                                                                              1.0   \n",
       "\n",
       "                                                                           \\\n",
       "Mes_Registro                                            10      11     12   \n",
       "delitos_seguimiento                                                         \n",
       "ROBO A DOMICILIO                                      98.0   111.0    7.0   \n",
       "ROBO A PERSONAS                                      222.0   265.0   25.0   \n",
       "ROBO A UNIDADES ECONOMICAS                           285.0   346.0   37.0   \n",
       "ROBO DE BIENES, ACCESORIOS Y AUTOPARTES DE VEHI...   230.0   267.0   23.0   \n",
       "ROBO DE CARROS                                        88.0    97.0    9.0   \n",
       "ROBO DE MOTOS                                        155.0   202.0   17.0   \n",
       "TOTAL                                               1078.0  1288.0  101.0   \n",
       "\n",
       "                                                          diff              \\\n",
       "Mes_Registro                                       TOTAL     9    10    11   \n",
       "delitos_seguimiento                                                          \n",
       "ROBO A DOMICILIO                                     216   0.0  42.0  61.0   \n",
       "ROBO A PERSONAS                                      512   0.0  -4.0 -31.0   \n",
       "ROBO A UNIDADES ECONOMICAS                           668   0.0 -12.0  17.0   \n",
       "ROBO DE BIENES, ACCESORIOS Y AUTOPARTES DE VEHI...   520   0.0 -25.0 -42.0   \n",
       "ROBO DE CARROS                                       194   0.0 -14.0  -5.0   \n",
       "ROBO DE MOTOS                                        358  13.0   0.0  -5.0   \n",
       "TOTAL                                               2468  13.0 -13.0  -5.0   \n",
       "\n",
       "                                                                \n",
       "Mes_Registro                                         12  TOTAL  \n",
       "delitos_seguimiento                                             \n",
       "ROBO A DOMICILIO                                    5.0  108.0  \n",
       "ROBO A PERSONAS                                     1.0  -34.0  \n",
       "ROBO A UNIDADES ECONOMICAS                          4.0    9.0  \n",
       "ROBO DE BIENES, ACCESORIOS Y AUTOPARTES DE VEHI... -2.0  -69.0  \n",
       "ROBO DE CARROS                                     -3.0  -22.0  \n",
       "ROBO DE MOTOS                                       0.0    8.0  \n",
       "TOTAL                                               5.0    0.0  "
      ]
     },
     "execution_count": 152,
     "metadata": {},
     "output_type": "execute_result"
    }
   ],
   "source": [
    "report1 = pd.pivot_table(resultado1_total, \n",
    "                index=['delitos_seguimiento'], \n",
    "                columns='Mes_Registro', \n",
    "                values=['cantidad_delitos_seguimiento_comision', 'cantidad_delitos_seguimiento_modelo', 'diff'], \n",
    "                aggfunc={'cantidad_delitos_seguimiento_comision':'sum',\n",
    "                    'cantidad_delitos_seguimiento_modelo':'sum',\n",
    "                    'diff':'sum'},\n",
    "                #  aggfunc=(lambda x: x.count()/bdd_merge.shape[0]), # para obtener porcentajes\n",
    "                margins=True,\n",
    "                margins_name='TOTAL').fillna(0)\n",
    "report1"
   ]
  },
  {
   "attachments": {},
   "cell_type": "markdown",
   "metadata": {},
   "source": [
    "## Aplicación del Método de Evaluación del Inec a un problema de Machine \n",
    "\n",
    "Uno de los problemas más conocidos de Machine Learning se dio en la década de los 1990. Este problema conlleva la clasificación de digitos manuscritos de acuerdo a sus categorias: 0,1,...9. Este problema se denomina MNIST y fue resuelto por Yann LeCun en 1994 con el planteamiento de la Arquitectura de Redes Neuronales Convolucionales. Dichas redes evolucionaron más tarde hacia el 2012 con Alex Krizhevsky en su Modelo AlexNet para la clasificación de 1000 categorías de imágenes naturales. Tradicionalmente, se han considerado los problemas de clasificación de imágenes como problemas desafío debido a que la interpretación para el computador es más complicada que para la biología humana."
   ]
  },
  {
   "cell_type": "code",
   "execution_count": 158,
   "metadata": {},
   "outputs": [
    {
     "name": "stdout",
     "output_type": "stream",
     "text": [
      "Tamaño del dataset de entrenamiento (60000, 28, 28)\n",
      "Tamaño del dataset de entrenamiento (10000, 28, 28)\n",
      "Model: \"sequential_2\"\n",
      "_________________________________________________________________\n",
      " Layer (type)                Output Shape              Param #   \n",
      "=================================================================\n",
      " conv2d_4 (Conv2D)           (None, 24, 24, 6)         156       \n",
      "                                                                 \n",
      " max_pooling2d_4 (MaxPooling  (None, 12, 12, 6)        0         \n",
      " 2D)                                                             \n",
      "                                                                 \n",
      " conv2d_5 (Conv2D)           (None, 8, 8, 16)          2416      \n",
      "                                                                 \n",
      " max_pooling2d_5 (MaxPooling  (None, 4, 4, 16)         0         \n",
      " 2D)                                                             \n",
      "                                                                 \n",
      " flatten_2 (Flatten)         (None, 256)               0         \n",
      "                                                                 \n",
      " dense_6 (Dense)             (None, 120)               30840     \n",
      "                                                                 \n",
      " dense_7 (Dense)             (None, 84)                10164     \n",
      "                                                                 \n",
      " dense_8 (Dense)             (None, 10)                850       \n",
      "                                                                 \n",
      "=================================================================\n",
      "Total params: 44,426\n",
      "Trainable params: 44,426\n",
      "Non-trainable params: 0\n",
      "_________________________________________________________________\n"
     ]
    }
   ],
   "source": [
    "import tensorflow as tf\n",
    "from tensorflow.keras.models import Sequential\n",
    "from tensorflow.keras.layers import Conv2D, MaxPooling2D, Flatten, Dense\n",
    "\n",
    "# Load the MNIST dataset\n",
    "(x_train, y_train), (x_test, y_test) = tf.keras.datasets.mnist.load_data()\n",
    "print(f\"Tamaño del dataset de entrenamiento {x_train.shape}\")\n",
    "print(f\"Tamaño del dataset de entrenamiento {x_test.shape}\")\n",
    "# Preprocess the data\n",
    "x_train = x_train.reshape(x_train.shape[0], 28, 28, 1)\n",
    "x_test = x_test.reshape(x_test.shape[0], 28, 28, 1)\n",
    "x_train = x_train / 255.0\n",
    "x_test = x_test / 255.0\n",
    "\n",
    "y_train = tf.keras.utils.to_categorical(y_train, num_classes=10)\n",
    "y_test = tf.keras.utils.to_categorical(y_test, num_classes=10)\n",
    "\n",
    "# Build the LeNet model\n",
    "model = Sequential()\n",
    "model.add(Conv2D(6, kernel_size=(5, 5), strides=1, activation='tanh', input_shape=(28, 28, 1)))\n",
    "model.add(MaxPooling2D(pool_size=(2, 2), strides=2))\n",
    "model.add(Conv2D(16, kernel_size=(5, 5), strides=1, activation='tanh'))\n",
    "model.add(MaxPooling2D(pool_size=(2, 2), strides=2))\n",
    "model.add(Flatten())\n",
    "model.add(Dense(120, activation='tanh'))\n",
    "model.add(Dense(84, activation='tanh'))\n",
    "model.add(Dense(10, activation='softmax'))\n",
    "\n",
    "model.summary()\n"
   ]
  },
  {
   "cell_type": "code",
   "execution_count": 161,
   "metadata": {},
   "outputs": [
    {
     "name": "stdout",
     "output_type": "stream",
     "text": [
      "Epoch 1/3\n",
      "1688/1688 [==============================] - 107s 63ms/step - loss: 0.0483 - accuracy: 0.9846 - val_loss: 0.0467 - val_accuracy: 0.9873\n",
      "Epoch 2/3\n",
      "1688/1688 [==============================] - 103s 61ms/step - loss: 0.0350 - accuracy: 0.9890 - val_loss: 0.0486 - val_accuracy: 0.9865\n",
      "Epoch 3/3\n",
      "1688/1688 [==============================] - 92s 55ms/step - loss: 0.0272 - accuracy: 0.9914 - val_loss: 0.0464 - val_accuracy: 0.9863\n"
     ]
    }
   ],
   "source": [
    "# Compile the model\n",
    "model.compile(loss='categorical_crossentropy', optimizer='adam', metrics=['accuracy'])\n",
    "\n",
    "# Train the model\n",
    "history = model.fit(x_train, y_train,epochs=3, validation_split=0.1, verbose=1)\n",
    "\n"
   ]
  },
  {
   "cell_type": "code",
   "execution_count": 162,
   "metadata": {},
   "outputs": [
    {
     "name": "stdout",
     "output_type": "stream",
     "text": [
      "313/313 [==============================] - 1s 4ms/step - loss: 0.0467 - accuracy: 0.9866\n"
     ]
    },
    {
     "data": {
      "text/plain": [
       "[0.046741683036088943, 0.9865999817848206]"
      ]
     },
     "execution_count": 162,
     "metadata": {},
     "output_type": "execute_result"
    }
   ],
   "source": [
    "# Evaluate the model\n",
    "model.evaluate(x_test, y_test, verbose=1)\n",
    "\n",
    "\n"
   ]
  },
  {
   "cell_type": "code",
   "execution_count": 174,
   "metadata": {},
   "outputs": [
    {
     "name": "stdout",
     "output_type": "stream",
     "text": [
      "313/313 [==============================] - 2s 7ms/step\n"
     ]
    }
   ],
   "source": [
    "# Make predictions\n",
    "predictions = model.predict(x_test)\n",
    "y_pred_cat = tf.argmax(tf.nn.softmax(predictions), axis=1).numpy()\n",
    "y_test_cat = tf.argmax(y_test, axis=1).numpy()"
   ]
  },
  {
   "cell_type": "code",
   "execution_count": 177,
   "metadata": {},
   "outputs": [
    {
     "name": "stdout",
     "output_type": "stream",
     "text": [
      "              precision    recall  f1-score   support\n",
      "\n",
      "           0       0.99      0.99      0.99       980\n",
      "           1       0.99      1.00      0.99      1135\n",
      "           2       0.98      0.99      0.99      1032\n",
      "           3       0.98      0.99      0.98      1010\n",
      "           4       0.98      0.99      0.99       982\n",
      "           5       0.98      0.99      0.98       892\n",
      "           6       0.99      0.99      0.99       958\n",
      "           7       0.98      0.98      0.98      1028\n",
      "           8       0.99      0.99      0.99       974\n",
      "           9       1.00      0.95      0.97      1009\n",
      "\n",
      "    accuracy                           0.99     10000\n",
      "   macro avg       0.99      0.99      0.99     10000\n",
      "weighted avg       0.99      0.99      0.99     10000\n",
      "\n"
     ]
    }
   ],
   "source": [
    "print(classification_report(y_true=y_test_cat,\n",
    "                            y_pred=y_pred_cat))\n"
   ]
  },
  {
   "cell_type": "code",
   "execution_count": 184,
   "metadata": {},
   "outputs": [
    {
     "data": {
      "image/png": "[encoded data removed]",
      "text/plain": [
       "<Figure size 1800x600 with 1 Axes>"
      ]
     },
     "metadata": {},
     "output_type": "display_data"
    }
   ],
   "source": [
    "class_labels = [0,1,2,3,4,5,6,7,8,9]\n",
    "cmMnist = confusion_matrix(y_true=y_test_cat,\n",
    "                      y_pred=y_pred_cat, \n",
    "                      labels=class_labels)\n",
    "fig, ax = plt.subplots(figsize=(18,6))\n",
    "disp = ConfusionMatrixDisplay(cmMnist, display_labels=class_labels)\n",
    "disp.plot(cmap=\"Blues\", ax=ax, colorbar=False) # values_format=\".2f\"\n",
    "plt.title(\"Matriz de Confusión Mnist\")\n",
    "font = {'family' : 'normal',\n",
    "    'weight' : 'normal',\n",
    "    'size'   : 24}\n",
    "# plt.rc('font', **font)\n",
    "# ax.label_size = 32\n",
    "disp.ax_.set_xticklabels(class_labels, rotation=90)\n",
    "plt.show()"
   ]
  },
  {
   "attachments": {},
   "cell_type": "markdown",
   "metadata": {},
   "source": [
    "Aplicando la Metodología de INEC, que de paso no define una métrica para evaluar el desempeño del clasificador en sí, porque no sabes con que frecuencia se equivoca o acierta sino que se basa en las cantidades totales de una categoría"
   ]
  },
  {
   "cell_type": "code",
   "execution_count": 185,
   "metadata": {},
   "outputs": [
    {
     "data": {
      "text/plain": [
       "(10000, 2)"
      ]
     },
     "execution_count": 185,
     "metadata": {},
     "output_type": "execute_result"
    }
   ],
   "source": [
    "resultados_mnist = pd.DataFrame({'LeNet':y_pred_cat, 'ValorVerdadero':y_test_cat})\n",
    "resultados_mnist.shape"
   ]
  },
  {
   "cell_type": "code",
   "execution_count": 188,
   "metadata": {},
   "outputs": [
    {
     "data": {
      "text/plain": [
       "((10, 2), (10, 2))"
      ]
     },
     "execution_count": 188,
     "metadata": {},
     "output_type": "execute_result"
    }
   ],
   "source": [
    "cantidad_desagregacionesMnist_IA = resultados_mnist.LeNet.value_counts().reset_index()\n",
    "cantidad_desagregacionesMnist_IA.rename(columns={'index':'digito'}, inplace=True)\n",
    "cantidad_desagregacionesMnist_GT = resultados_mnist.ValorVerdadero.value_counts().reset_index() #Ground Truth\n",
    "cantidad_desagregacionesMnist_GT.rename(columns={'index':'digito'}, inplace=True)\n",
    "cantidad_desagregacionesMnist_IA.shape, cantidad_desagregacionesMnist_GT.shape"
   ]
  },
  {
   "cell_type": "code",
   "execution_count": 189,
   "metadata": {},
   "outputs": [
    {
     "data": {
      "text/plain": [
       "(10, 3)"
      ]
     },
     "execution_count": 189,
     "metadata": {},
     "output_type": "execute_result"
    }
   ],
   "source": [
    "resultado2_total = pd.merge(cantidad_desagregacionesMnist_IA, cantidad_desagregacionesMnist_GT, on='digito', how='outer')\n",
    "resultado2_total.shape"
   ]
  },
  {
   "cell_type": "code",
   "execution_count": 190,
   "metadata": {},
   "outputs": [
    {
     "data": {
      "text/html": [
       "<div>\n",
       "<style scoped>\n",
       "    .dataframe tbody tr th:only-of-type {\n",
       "        vertical-align: middle;\n",
       "    }\n",
       "\n",
       "    .dataframe tbody tr th {\n",
       "        vertical-align: top;\n",
       "    }\n",
       "\n",
       "    .dataframe thead th {\n",
       "        text-align: right;\n",
       "    }\n",
       "</style>\n",
       "<table border=\"1\" class=\"dataframe\">\n",
       "  <thead>\n",
       "    <tr style=\"text-align: right;\">\n",
       "      <th></th>\n",
       "      <th>digito</th>\n",
       "      <th>LeNet</th>\n",
       "      <th>ValorVerdadero</th>\n",
       "      <th>diff</th>\n",
       "    </tr>\n",
       "  </thead>\n",
       "  <tbody>\n",
       "    <tr>\n",
       "      <th>0</th>\n",
       "      <td>1</td>\n",
       "      <td>1140</td>\n",
       "      <td>1135</td>\n",
       "      <td>5</td>\n",
       "    </tr>\n",
       "    <tr>\n",
       "      <th>1</th>\n",
       "      <td>2</td>\n",
       "      <td>1047</td>\n",
       "      <td>1032</td>\n",
       "      <td>15</td>\n",
       "    </tr>\n",
       "    <tr>\n",
       "      <th>2</th>\n",
       "      <td>7</td>\n",
       "      <td>1025</td>\n",
       "      <td>1028</td>\n",
       "      <td>-3</td>\n",
       "    </tr>\n",
       "    <tr>\n",
       "      <th>3</th>\n",
       "      <td>3</td>\n",
       "      <td>1015</td>\n",
       "      <td>1010</td>\n",
       "      <td>5</td>\n",
       "    </tr>\n",
       "    <tr>\n",
       "      <th>4</th>\n",
       "      <td>4</td>\n",
       "      <td>993</td>\n",
       "      <td>982</td>\n",
       "      <td>11</td>\n",
       "    </tr>\n",
       "    <tr>\n",
       "      <th>5</th>\n",
       "      <td>0</td>\n",
       "      <td>984</td>\n",
       "      <td>980</td>\n",
       "      <td>4</td>\n",
       "    </tr>\n",
       "    <tr>\n",
       "      <th>6</th>\n",
       "      <td>8</td>\n",
       "      <td>969</td>\n",
       "      <td>974</td>\n",
       "      <td>-5</td>\n",
       "    </tr>\n",
       "    <tr>\n",
       "      <th>7</th>\n",
       "      <td>9</td>\n",
       "      <td>965</td>\n",
       "      <td>1009</td>\n",
       "      <td>-44</td>\n",
       "    </tr>\n",
       "    <tr>\n",
       "      <th>8</th>\n",
       "      <td>6</td>\n",
       "      <td>957</td>\n",
       "      <td>958</td>\n",
       "      <td>-1</td>\n",
       "    </tr>\n",
       "    <tr>\n",
       "      <th>9</th>\n",
       "      <td>5</td>\n",
       "      <td>905</td>\n",
       "      <td>892</td>\n",
       "      <td>13</td>\n",
       "    </tr>\n",
       "  </tbody>\n",
       "</table>\n",
       "</div>"
      ],
      "text/plain": [
       "   digito  LeNet  ValorVerdadero  diff\n",
       "0       1   1140            1135     5\n",
       "1       2   1047            1032    15\n",
       "2       7   1025            1028    -3\n",
       "3       3   1015            1010     5\n",
       "4       4    993             982    11\n",
       "5       0    984             980     4\n",
       "6       8    969             974    -5\n",
       "7       9    965            1009   -44\n",
       "8       6    957             958    -1\n",
       "9       5    905             892    13"
      ]
     },
     "execution_count": 190,
     "metadata": {},
     "output_type": "execute_result"
    }
   ],
   "source": [
    "resultado2_total['diff'] = resultado2_total.LeNet - resultado2_total.ValorVerdadero\n",
    "resultado2_total.fillna(0, inplace=True)\n",
    "resultado2_total"
   ]
  },
  {
   "attachments": {},
   "cell_type": "markdown",
   "metadata": {},
   "source": [
    "Hasta donde puedo desprender de la presentación de powerpoint al Inec le preocupa las cantidades en diferencia. Supongamos como métrica de evaluación para *mal* definir una métrica de *accuracy*, realicemos: \n",
    "\n",
    "$\\frac{\\sum diff}{Total}\\times 100 $"
   ]
  },
  {
   "cell_type": "code",
   "execution_count": 197,
   "metadata": {},
   "outputs": [
    {
     "name": "stdout",
     "output_type": "stream",
     "text": [
      "Accuracy segun Métodos del INEC:\n",
      "suma de diferencias: 106\n",
      "total ejemplos 10000\n",
      "accuracy: 1.06%\n"
     ]
    }
   ],
   "source": [
    "resultado2_total['diff_abs'] = resultado2_total['diff'].apply(lambda x: abs(x))\n",
    "suma_diferencias = resultado2_total.diff_abs.sum()\n",
    "total_ejemplos = resultado2_total.LeNet.sum()\n",
    "print(f\"Accuracy segun Métodos del INEC:\")\n",
    "print(f\"suma de diferencias: {suma_diferencias}\")\n",
    "print(f\"total ejemplos {total_ejemplos}\")\n",
    "print(f\"accuracy: {suma_diferencias/total_ejemplos*100}%\")"
   ]
  },
  {
   "attachments": {},
   "cell_type": "markdown",
   "metadata": {},
   "source": [
    "No se puede plantear de otra manera porque INEC no está anaizando un problema de clasificación sino que confunde con un problema de regresión tratando de basarse en función de la cantidad de cada una de las categorías. En la Literatura científica, LeNet para el Problema del Mnist tiene un valor de **99.79%** (state of the art 1998)publicado en el Paper **Gradient-based learning applied to document recognition**"
   ]
  },
  {
   "attachments": {},
   "cell_type": "markdown",
   "metadata": {},
   "source": [
    "Para este otro calculo derivandolo de la logica que tiene el Inec para evaluar haríamos ahora la sumatorio de las coincidencias:\n",
    "\n",
    "$\\frac{|y_i=\\hat{y}_i|}{Total} $"
   ]
  },
  {
   "attachments": {},
   "cell_type": "markdown",
   "metadata": {},
   "source": [
    "La suma de las coincidencias sería equivalente a la sumatoria de la diagonal de la matriz de confusion"
   ]
  },
  {
   "cell_type": "code",
   "execution_count": 198,
   "metadata": {},
   "outputs": [
    {
     "name": "stdout",
     "output_type": "stream",
     "text": [
      "Accuracy segun Métodos del INEC:\n",
      "suma de diferencias: 9866\n",
      "total ejemplos 10000\n",
      "accuracy: 98.66%\n"
     ]
    }
   ],
   "source": [
    "total_coincidencias = np.diag(cmMnist).sum()\n",
    "score = total_coincidencias/total_ejemplos\n",
    "print(f\"Accuracy segun Métodos del INEC:\")\n",
    "print(f\"suma de diferencias: {total_coincidencias}\")\n",
    "print(f\"total ejemplos {total_ejemplos}\")\n",
    "print(f\"accuracy: {score*100}%\")"
   ]
  },
  {
   "attachments": {},
   "cell_type": "markdown",
   "metadata": {},
   "source": [
    "No es admisible la metodología de cálculo del INEC, que además no está terminada y sólo se enfoca en las diferencias de cantidades pero no en medir la calidad de la clasificación. Como recomendación se puede usar la última consideración para evaluar el rendimiento del modelo ya que es coincidente con la definición correcta de accuracy. Sin embargo, los resultados por diferencias planteados carecen de sentidos y no constituyen una métrica aplicable en los problemas de clasificación. Se ha demostrado que inclusive dicho enfoque contradice los resultados obtenidos en el estado del arte y de los cuales gran parte de las evoluciones científicas actuales se desprenden. Y la comunidad científica ya habría castigado el haber publicado un paper con un rendimiento del 99% cuand en realidad sea del 1%."
   ]
  },
  {
   "cell_type": "code",
   "execution_count": null,
   "metadata": {},
   "outputs": [],
   "source": []
  }
 ],
 "metadata": {
  "kernelspec": {
   "display_name": "mlenv",
   "language": "python",
   "name": "python3"
  },
  "language_info": {
   "codemirror_mode": {
    "name": "ipython",
    "version": 3
   },
   "file_extension": ".py",
   "mimetype": "text/x-python",
   "name": "python",
   "nbconvert_exporter": "python",
   "pygments_lexer": "ipython3",
   "version": "3.10.6"
  },
  "orig_nbformat": 4
 },
 "nbformat": 4,
 "nbformat_minor": 2
}
