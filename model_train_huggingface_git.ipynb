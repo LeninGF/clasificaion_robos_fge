{
 "cells": [
  {
   "cell_type": "markdown",
   "metadata": {
    "id": "MGOc_wA0_cIA"
   },
   "source": [
    "## Model Training\n",
    "\n",
    "Transformers will be used to train the Machine Learning Model. It is possible due to complexity that this notebook will be trained in Google Colab and later download to this repo.\n",
    "\n"
   ]
  },
  {
   "cell_type": "code",
   "execution_count": 66,
   "metadata": {
    "colab": {
     "base_uri": "https://localhost:8080/"
    },
    "id": "9LL4ggxK_eDI",
    "outputId": "a4b611b2-dd31-4e57-f1cb-032aa92c7766"
   },
   "outputs": [],
   "source": [
    "# from google.colab import drive\n",
    "# drive.mount('/content/drive')"
   ]
  },
  {
   "cell_type": "code",
   "execution_count": 67,
   "metadata": {
    "colab": {
     "base_uri": "https://localhost:8080/"
    },
    "id": "hiegAcoPAFpt",
    "outputId": "180c20d7-a5fa-4812-835d-4130d79cdb94"
   },
   "outputs": [],
   "source": [
    "# !pip install transformers"
   ]
  },
  {
   "cell_type": "code",
   "execution_count": 68,
   "metadata": {
    "colab": {
     "base_uri": "https://localhost:8080/"
    },
    "id": "crLviCtNAHn8",
    "outputId": "7c4da514-0ceb-42c7-e4d6-05926910427d"
   },
   "outputs": [],
   "source": [
    "# !pip install datasets"
   ]
  },
  {
   "cell_type": "code",
   "execution_count": 69,
   "metadata": {
    "colab": {
     "base_uri": "https://localhost:8080/"
    },
    "id": "Kv3JEIoQAJAF",
    "outputId": "49728eec-3bbf-40ba-8b1b-96406c678f17"
   },
   "outputs": [],
   "source": [
    "# !pip install evaluate"
   ]
  },
  {
   "cell_type": "code",
   "execution_count": 70,
   "metadata": {
    "colab": {
     "base_uri": "https://localhost:8080/",
     "height": 36
    },
    "id": "XsZFNgXF_cID",
    "outputId": "2d233fdc-4cd3-4bd8-8004-6bb60d7a0003"
   },
   "outputs": [
    {
     "data": {
      "text/plain": [
       "'C:\\\\Users\\\\entea\\\\CodeProjects\\\\clasificaion_robos_fge'"
      ]
     },
     "execution_count": 70,
     "metadata": {},
     "output_type": "execute_result"
    }
   ],
   "source": [
    "import pandas as pd\n",
    "import numpy as np\n",
    "import os\n",
    "from datasets import load_dataset, Features, ClassLabel, Value\n",
    "dir_root = os.getcwd()\n",
    "dir_root"
   ]
  },
  {
   "cell_type": "markdown",
   "metadata": {
    "id": "fGssYHk8_cIF"
   },
   "source": [
    "We will be using Hugging Face load rutines in order to load data and processed it. There is somehow some things that I feel like a bit lost, because in some of the examples that I have checked on huggnif faces they are not using one hot encoding. In the end we have to build a multiclass clasification and the doubt I have is if I should use the one hot variables or should only use the hagging face. If this does not work I will have to test how the Youtube video stored the tensors in numpy format, hoping that all tokenization will be able to be run"
   ]
  },
  {
   "cell_type": "code",
   "execution_count": 71,
   "metadata": {
    "colab": {
     "base_uri": "https://localhost:8080/",
     "height": 809
    },
    "id": "GaZ7tFXF_cIF",
    "outputId": "1b4e47a6-f3d9-4487-e596-a11532f0d208"
   },
   "outputs": [
    {
     "data": {
      "text/html": [
       "<div>\n",
       "<style scoped>\n",
       "    .dataframe tbody tr th:only-of-type {\n",
       "        vertical-align: middle;\n",
       "    }\n",
       "\n",
       "    .dataframe tbody tr th {\n",
       "        vertical-align: top;\n",
       "    }\n",
       "\n",
       "    .dataframe thead th {\n",
       "        text-align: right;\n",
       "    }\n",
       "</style>\n",
       "<table border=\"1\" class=\"dataframe\">\n",
       "  <thead>\n",
       "    <tr style=\"text-align: right;\">\n",
       "      <th></th>\n",
       "      <th>index</th>\n",
       "      <th>ndd</th>\n",
       "      <th>relato</th>\n",
       "      <th>cantidadPalabras</th>\n",
       "      <th>tipoDelitoPj</th>\n",
       "      <th>target</th>\n",
       "      <th>labelsRoboADomicilio</th>\n",
       "      <th>labelsRoboAPersonas</th>\n",
       "      <th>labelsRoboAUnidadesEconomicas</th>\n",
       "      <th>labelsRoboDeBienes,AccesoriosYAutopartesDeVehiculos</th>\n",
       "      <th>labelsRoboDeCarros</th>\n",
       "      <th>labelsRoboDeMotos</th>\n",
       "      <th>labels</th>\n",
       "    </tr>\n",
       "  </thead>\n",
       "  <tbody>\n",
       "    <tr>\n",
       "      <th>4531</th>\n",
       "      <td>237680</td>\n",
       "      <td>120501814020189</td>\n",
       "      <td>es el caso señor fiscal que el dia de ayer a e...</td>\n",
       "      <td>126</td>\n",
       "      <td>ROBO</td>\n",
       "      <td>6</td>\n",
       "      <td>0</td>\n",
       "      <td>1</td>\n",
       "      <td>0</td>\n",
       "      <td>0</td>\n",
       "      <td>0</td>\n",
       "      <td>0</td>\n",
       "      <td>ROBO A PERSONAS</td>\n",
       "    </tr>\n",
       "    <tr>\n",
       "      <th>121270</th>\n",
       "      <td>276716</td>\n",
       "      <td>140601818060005</td>\n",
       "      <td>mediante parte policia se tiene conocimiento e...</td>\n",
       "      <td>65</td>\n",
       "      <td>ROBO</td>\n",
       "      <td>5</td>\n",
       "      <td>1</td>\n",
       "      <td>0</td>\n",
       "      <td>0</td>\n",
       "      <td>0</td>\n",
       "      <td>0</td>\n",
       "      <td>0</td>\n",
       "      <td>ROBO A DOMICILIO</td>\n",
       "    </tr>\n",
       "    <tr>\n",
       "      <th>242581</th>\n",
       "      <td>65127</td>\n",
       "      <td>80301820080039</td>\n",
       "      <td>señor fiscal el día martes 25 de agosto del 20...</td>\n",
       "      <td>63</td>\n",
       "      <td>ROBO</td>\n",
       "      <td>5</td>\n",
       "      <td>1</td>\n",
       "      <td>0</td>\n",
       "      <td>0</td>\n",
       "      <td>0</td>\n",
       "      <td>0</td>\n",
       "      <td>0</td>\n",
       "      <td>ROBO A DOMICILIO</td>\n",
       "    </tr>\n",
       "    <tr>\n",
       "      <th>256124</th>\n",
       "      <td>334399</td>\n",
       "      <td>170101817082151</td>\n",
       "      <td>es el caso señor fiscal que el día 13 de agost...</td>\n",
       "      <td>104</td>\n",
       "      <td>ROBO</td>\n",
       "      <td>6</td>\n",
       "      <td>0</td>\n",
       "      <td>1</td>\n",
       "      <td>0</td>\n",
       "      <td>0</td>\n",
       "      <td>0</td>\n",
       "      <td>0</td>\n",
       "      <td>ROBO A PERSONAS</td>\n",
       "    </tr>\n",
       "    <tr>\n",
       "      <th>65221</th>\n",
       "      <td>360526</td>\n",
       "      <td>170101819081121</td>\n",
       "      <td>señor fiscal el dia 25 de julio del 2019 a las...</td>\n",
       "      <td>136</td>\n",
       "      <td>ROBO</td>\n",
       "      <td>4</td>\n",
       "      <td>0</td>\n",
       "      <td>0</td>\n",
       "      <td>0</td>\n",
       "      <td>1</td>\n",
       "      <td>0</td>\n",
       "      <td>0</td>\n",
       "      <td>ROBO DE BIENES, ACCESORIOS Y AUTOPARTES DE VEH...</td>\n",
       "    </tr>\n",
       "  </tbody>\n",
       "</table>\n",
       "</div>"
      ],
      "text/plain": [
       "         index              ndd  \\\n",
       "4531    237680  120501814020189   \n",
       "121270  276716  140601818060005   \n",
       "242581   65127   80301820080039   \n",
       "256124  334399  170101817082151   \n",
       "65221   360526  170101819081121   \n",
       "\n",
       "                                                   relato  cantidadPalabras  \\\n",
       "4531    es el caso señor fiscal que el dia de ayer a e...               126   \n",
       "121270  mediante parte policia se tiene conocimiento e...                65   \n",
       "242581  señor fiscal el día martes 25 de agosto del 20...                63   \n",
       "256124  es el caso señor fiscal que el día 13 de agost...               104   \n",
       "65221   señor fiscal el dia 25 de julio del 2019 a las...               136   \n",
       "\n",
       "       tipoDelitoPj  target  labelsRoboADomicilio  labelsRoboAPersonas  \\\n",
       "4531           ROBO       6                     0                    1   \n",
       "121270         ROBO       5                     1                    0   \n",
       "242581         ROBO       5                     1                    0   \n",
       "256124         ROBO       6                     0                    1   \n",
       "65221          ROBO       4                     0                    0   \n",
       "\n",
       "        labelsRoboAUnidadesEconomicas  \\\n",
       "4531                                0   \n",
       "121270                              0   \n",
       "242581                              0   \n",
       "256124                              0   \n",
       "65221                               0   \n",
       "\n",
       "        labelsRoboDeBienes,AccesoriosYAutopartesDeVehiculos  \\\n",
       "4531                                                    0     \n",
       "121270                                                  0     \n",
       "242581                                                  0     \n",
       "256124                                                  0     \n",
       "65221                                                   1     \n",
       "\n",
       "        labelsRoboDeCarros  labelsRoboDeMotos  \\\n",
       "4531                     0                  0   \n",
       "121270                   0                  0   \n",
       "242581                   0                  0   \n",
       "256124                   0                  0   \n",
       "65221                    0                  0   \n",
       "\n",
       "                                                   labels  \n",
       "4531                                      ROBO A PERSONAS  \n",
       "121270                                   ROBO A DOMICILIO  \n",
       "242581                                   ROBO A DOMICILIO  \n",
       "256124                                    ROBO A PERSONAS  \n",
       "65221   ROBO DE BIENES, ACCESORIOS Y AUTOPARTES DE VEH...  "
      ]
     },
     "execution_count": 71,
     "metadata": {},
     "output_type": "execute_result"
    }
   ],
   "source": [
    "# dataset_df = pd.read_csv('/content/drive/MyDrive/data/interim/trainset.csv', converters={'NDD':str})\n",
    "dataset_df = pd.read_csv(os.path.join(dir_root, 'data/interim/trainset.csv'), converters={'NDD':str})\n",
    "dataset_df.sample(5)"
   ]
  },
  {
   "cell_type": "code",
   "execution_count": 72,
   "metadata": {
    "id": "ChDGqOwk_cIG"
   },
   "outputs": [],
   "source": [
    "labels_set = set(dataset_df.labels.to_list())"
   ]
  },
  {
   "cell_type": "code",
   "execution_count": 73,
   "metadata": {
    "colab": {
     "base_uri": "https://localhost:8080/"
    },
    "id": "NoHcvioz7DPo",
    "outputId": "69344e28-3eb3-4880-f115-bcb1066ba272"
   },
   "outputs": [
    {
     "data": {
      "text/plain": [
       "{'ROBO A DOMICILIO',\n",
       " 'ROBO A PERSONAS',\n",
       " 'ROBO A UNIDADES ECONOMICAS',\n",
       " 'ROBO DE BIENES, ACCESORIOS Y AUTOPARTES DE VEHICULOS',\n",
       " 'ROBO DE CARROS',\n",
       " 'ROBO DE MOTOS'}"
      ]
     },
     "execution_count": 73,
     "metadata": {},
     "output_type": "execute_result"
    }
   ],
   "source": [
    "labels_set"
   ]
  },
  {
   "cell_type": "code",
   "execution_count": 74,
   "metadata": {
    "colab": {
     "base_uri": "https://localhost:8080/",
     "height": 185,
     "referenced_widgets": [
      "b926c8314cb24a65b3559c9fbaa0543f",
      "82a46a159ecb4e64ad43ce37f541a461",
      "23ad624efe674293b78eafb9d88bf351",
      "42e7d4f359ff4a548584ad2383e46bfb",
      "09d293e3400b4536a624a40d4fa4aabd",
      "33e203e5089d48e0b5f6f00a88af19e4",
      "2641db6cab024df2812b18774b30eb69",
      "5a53843b57e84b7b8727b70d2a7379dc",
      "cd89694b744c4b3f91335303ef68fe53",
      "b74c3f888476432998130a19162dd6a9",
      "1572d49323304832ad3ac9b2d27f1253",
      "74d53245e2f445d2aa9289ace4ff063e",
      "e5642731332540ad9f63268e20337cb9",
      "f1dbda0d4de64fda9d783bba5ae94e01",
      "b442994934fe486fb3e13173737d1ad4",
      "c7753e7b4dc0485aa722ff668e8b0547",
      "546dd4358b5e4add83c23dc82fd2aab3",
      "cd9ec113e6fe4b59849731aa49e65da3",
      "f05f0e2e13134d868dd938d4b09b42e2",
      "74c799f889374a52ae742fcff4a90f30",
      "a0242cb00b3d44568d67bf630b18a8b2",
      "8204c08c4aa74a1588c85013eb771e38",
      "5e593976bfb54f47b3f84a54aa93ef5c",
      "f6be3758525c4266a46fe6e80e21b73d",
      "3ec8136205f044c3955a729fa992ce22",
      "65fcbbf417d543148cfcde7298b1befd",
      "a574656c04b7491294ce491b7f737239",
      "3fa33b39774d46adb3ef2d389cd023a2",
      "b21d51f573da49baa0be1ec6388f1c3b",
      "bb935770126640859dc069028006bd44",
      "e53986c5cc3941fdb489bdcdfabe96b2",
      "3522f37fdead4697a85f52d5ceea014d",
      "734f6f2fef854d57bc70c79ba4edc5ac",
      "5fb974e3cf2d44a394619832d18d9955",
      "fa9babcd34ec4859820c9ae980818087",
      "79ec180e0bce40ff85421b524ff1717a",
      "159f4190e1dc4437bfd1326a4066e232",
      "6070bce7c56843b3879981b1f5d88ebe",
      "3d3c0002fed94145ac4f1deb79d10d2b",
      "72062145780e4f6a8e9e46cebc74c250",
      "17308594a18249c384b742ad33fad170",
      "71b21471ce254c3393d6dd61006254d6",
      "d18ec221b6eb4cb188b797de78e69d9c",
      "ec086933b7334402af05dc21a95682cf",
      "9127fe47d41d40c88966cc40c039491c",
      "c874e966173442c8abe1c4849be1f63d",
      "3aafffa6848d405f973c0dd80aa595dd",
      "80f736411eb348bd85656e44e2992757",
      "a3362663b87947ee860af6a4090e9c34",
      "26848e5d16cd42c0ae77d67e51731bb1",
      "51f30d4fd3b8440c80cc9229bf29d000",
      "2476556546784382b1df7fb9bfb38160",
      "379c48e7bdc54d46a8e45c82ccd9f9d9",
      "51cf2db91df94d1db17656d315461271",
      "84f076cd5ad2467ca61bb98e7c1fb593",
      "dba98dd859224f8884f35565e11298c3",
      "abcb0ec665364c7795110e6aa3189674",
      "0f73efbfa281497a94d43cddb8f2ff7f",
      "ce08b62e70334451b689d8df807add92",
      "fb8b88e8481048afaada259c1b08a752",
      "ec7cf2abfeea4916a4ddaa541bfcf6a5",
      "ce0dac9506464907a16278db1350b481",
      "a36b179224d24816a8ce3f6909a5e2c5",
      "195905d72f8a4277ab91d8d2582ddbae",
      "21f7a392d0e042ee84882c0575663d07",
      "082787fd993940d48e64ca633826b6a0"
     ]
    },
    "id": "e1-aCGrQ_cIG",
    "outputId": "f25b0caf-ed33-44eb-eb44-0b046974bf38"
   },
   "outputs": [
    {
     "name": "stderr",
     "output_type": "stream",
     "text": [
      "Using custom data configuration default-81e0f6b899830a0e\n",
      "Reusing dataset csv (C:\\Users\\entea\\.cache\\huggingface\\datasets\\csv\\default-81e0f6b899830a0e\\0.0.0\\51cce309a08df9c4d82ffd9363bbe090bf173197fc01a71b034e8594995a1a58)\n",
      "100%|████████████████████████████████████████████████████████████████████████████████████| 3/3 [00:00<00:00, 34.88it/s]\n"
     ]
    }
   ],
   "source": [
    "# traincsv = os.path.join(dir_root, '/content/drive/MyDrive/data/interim/trainsethugf.csv')\n",
    "traincsv = os.path.join(dir_root, 'data/interim/trainsethugf.csv')\n",
    "# testcsv = os.path.join(dir_root, '/content/drive/MyDrive/data/interim/testsethugf.csv')\n",
    "testcsv = os.path.join(dir_root, 'data/interim/testsethugf.csv')\n",
    "# validcsv = os.path.join(dir_root, '/content/drive/MyDrive/data/interim/validsethugf.csv')\n",
    "validcsv = os.path.join(dir_root, 'data/interim/validsethugf.csv')\n",
    "# class_names = [\"RoboADomicilio\", \"RoboAPersonas\", \"RoboAUnidadesEconomicas\", \"RoboDeBienesAccesoriosYAutoPartes\", \"RoboDeCarros\", \"RoboDeMotos\"]\n",
    "class_names = list(labels_set)\n",
    "robo_features = Features({'relato': Value('string'), 'labels': ClassLabel(names=class_names)})\n",
    "dataset = load_dataset(\"csv\", data_files={'train': traincsv, 'test': testcsv, 'validation':validcsv}, features=robo_features)"
   ]
  },
  {
   "cell_type": "code",
   "execution_count": 75,
   "metadata": {
    "colab": {
     "base_uri": "https://localhost:8080/"
    },
    "id": "n5RUJRyFfMZ2",
    "outputId": "1b17ab79-35e3-47d8-c22a-e959228e933a"
   },
   "outputs": [
    {
     "data": {
      "text/plain": [
       "ClassLabel(num_classes=6, names=['ROBO DE CARROS', 'ROBO DE BIENES, ACCESORIOS Y AUTOPARTES DE VEHICULOS', 'ROBO A DOMICILIO', 'ROBO A UNIDADES ECONOMICAS', 'ROBO A PERSONAS', 'ROBO DE MOTOS'], id=None)"
      ]
     },
     "execution_count": 75,
     "metadata": {},
     "output_type": "execute_result"
    }
   ],
   "source": [
    "ClassLabel(names=class_names)"
   ]
  },
  {
   "cell_type": "code",
   "execution_count": 76,
   "metadata": {
    "colab": {
     "base_uri": "https://localhost:8080/"
    },
    "id": "MK04pow6esVd",
    "outputId": "3c828715-a7f2-4fa9-9010-8be764d4bfce"
   },
   "outputs": [
    {
     "data": {
      "text/plain": [
       "dict_items([(0, 'ROBO DE CARROS'), (1, 'ROBO DE BIENES, ACCESORIOS Y AUTOPARTES DE VEHICULOS'), (2, 'ROBO A DOMICILIO'), (3, 'ROBO A UNIDADES ECONOMICAS'), (4, 'ROBO A PERSONAS'), (5, 'ROBO DE MOTOS')])"
      ]
     },
     "execution_count": 76,
     "metadata": {},
     "output_type": "execute_result"
    }
   ],
   "source": [
    "class_names_dict1 = dict(zip(range(6), class_names ))\n",
    "class_names_dict1.items()"
   ]
  },
  {
   "cell_type": "code",
   "execution_count": 77,
   "metadata": {
    "colab": {
     "base_uri": "https://localhost:8080/"
    },
    "id": "MsLKOj7l_cIH",
    "outputId": "8ba77147-cfb2-4670-d806-ce88592091eb"
   },
   "outputs": [
    {
     "data": {
      "text/plain": [
       "{'relato': 'es el caso señor fiscal que el día 22 de octubre del 2014 a las 20h40 aproximadamente en circunstancias en que deje estacionado mi camioneta de placas gmd0996 color blanco marca chevrolet de mi propiedad en la dirección antes mencionada al momento de ir por ella me encuentro con la novedad que no estaba se la habían robado en el interior de la camioneta ahí una arma de fuego revolver calibre 38 de fabricación nacional que pertenece a compañía armiled por lo expuesto señor fiscal solicito que se realicen las respectivas investigaciones es justicia',\n",
       " 'labels': 0}"
      ]
     },
     "execution_count": 77,
     "metadata": {},
     "output_type": "execute_result"
    }
   ],
   "source": [
    "dataset['train'][0]"
   ]
  },
  {
   "cell_type": "code",
   "execution_count": 78,
   "metadata": {
    "id": "MQUKNk7c_cIH"
   },
   "outputs": [],
   "source": [
    "seqlen = dataset_df.relato.apply(lambda x: len(x.split()))"
   ]
  },
  {
   "cell_type": "markdown",
   "metadata": {
    "id": "ncqnb3u7_cII"
   },
   "source": [
    "Let us create an Histogram of the word count in Crime report"
   ]
  },
  {
   "cell_type": "code",
   "execution_count": 79,
   "metadata": {
    "colab": {
     "base_uri": "https://localhost:8080/",
     "height": 678
    },
    "id": "UYvvcyqZ_cII",
    "outputId": "bcb2c6c6-c871-4e1f-f3ca-c7ddc3514a54"
   },
   "outputs": [
    {
     "name": "stderr",
     "output_type": "stream",
     "text": [
      "C:\\ProgramData\\Anaconda3\\envs\\tfenv\\lib\\site-packages\\seaborn\\distributions.py:2619: FutureWarning: `distplot` is a deprecated function and will be removed in a future version. Please adapt your code to use either `displot` (a figure-level function with similar flexibility) or `histplot` (an axes-level function for histograms).\n",
      "  warnings.warn(msg, FutureWarning)\n"
     ]
    },
    {
     "data": {
      "text/plain": [
       "<AxesSubplot:xlabel='relato', ylabel='Density'>"
      ]
     },
     "execution_count": 79,
     "metadata": {},
     "output_type": "execute_result"
    },
    {
     "data": {
      "image/png": "[encoded data removed]",
      "text/plain": [
       "<Figure size 1152x720 with 1 Axes>"
      ]
     },
     "metadata": {},
     "output_type": "display_data"
    }
   ],
   "source": [
    "import seaborn as sns\n",
    "import matplotlib.pyplot as plt\n",
    "sns.set_style('darkgrid')\n",
    "plt.figure(figsize=(16,10))\n",
    "sns.distplot(seqlen)"
   ]
  },
  {
   "cell_type": "markdown",
   "metadata": {
    "id": "NQSkWjmI_cII"
   },
   "source": [
    "In a example solved in https://www.youtube.com/watch?v=GYDFBfx8Ts8&t=498s, the length of the sequence was set to the maximum span of the distplot. This would imply to use a length sequence of 300. I think padding and trucate are used in consequence with this size so that all tensors in would have the same length. I think that if we chouse $SEQ\\_LEN<200$, those reports with values below 200 will be truncated (This is something that I need to understand when writing the paper). Now by choosing to use the maximum length, which appears to be somehow 300, there should be no truncation but padding to some of the records. Let us consider what is the maximum length of the Crime report"
   ]
  },
  {
   "cell_type": "code",
   "execution_count": 80,
   "metadata": {
    "colab": {
     "base_uri": "https://localhost:8080/"
    },
    "id": "2lzza3Yd_cIJ",
    "outputId": "461815c4-dee0-4e18-98a4-7c8c8030d958"
   },
   "outputs": [
    {
     "data": {
      "text/plain": [
       "300"
      ]
     },
     "execution_count": 80,
     "metadata": {},
     "output_type": "execute_result"
    }
   ],
   "source": [
    "seqlen.max()"
   ]
  },
  {
   "cell_type": "code",
   "execution_count": 81,
   "metadata": {
    "colab": {
     "base_uri": "https://localhost:8080/"
    },
    "id": "Fs-4wUww_cIJ",
    "outputId": "3eaf4ab9-12b2-4a8d-d65b-ac5b96c0e916"
   },
   "outputs": [
    {
     "data": {
      "text/plain": [
       "300"
      ]
     },
     "execution_count": 81,
     "metadata": {},
     "output_type": "execute_result"
    }
   ],
   "source": [
    "dataset_df.cantidadPalabras.max()"
   ]
  },
  {
   "cell_type": "markdown",
   "metadata": {
    "id": "fI6jezUd_cIJ"
   },
   "source": [
    "We have already separated the original dataset in Train and Test. Because of that, we would split this train dataset in train and validation. Test set will be used at the end in order to proof the concept"
   ]
  },
  {
   "cell_type": "code",
   "execution_count": 82,
   "metadata": {
    "colab": {
     "base_uri": "https://localhost:8080/"
    },
    "id": "jNNiZW3N_cIK",
    "outputId": "2d193a6a-e860-4536-d228-1f892cbd453c"
   },
   "outputs": [
    {
     "data": {
      "text/plain": [
       "Index(['index', 'ndd', 'relato', 'cantidadPalabras', 'tipoDelitoPj', 'target',\n",
       "       'labelsRoboADomicilio', 'labelsRoboAPersonas',\n",
       "       'labelsRoboAUnidadesEconomicas',\n",
       "       'labelsRoboDeBienes,AccesoriosYAutopartesDeVehiculos',\n",
       "       'labelsRoboDeCarros', 'labelsRoboDeMotos', 'labels'],\n",
       "      dtype='object')"
      ]
     },
     "execution_count": 82,
     "metadata": {},
     "output_type": "execute_result"
    }
   ],
   "source": [
    "dataset_df.columns"
   ]
  },
  {
   "cell_type": "code",
   "execution_count": 83,
   "metadata": {
    "id": "5VUavYjF_cIK"
   },
   "outputs": [],
   "source": [
    "# X_set = dataset_df.RELATO.to_list()\n",
    "# Y_set = dataset_df[['LABELS_ROBO A DOMICILIO', \n",
    "# 'LABELS_ROBO A PERSONAS',\n",
    "# 'LABELS_ROBO A UNIDADES ECONOMICAS',\n",
    "# 'LABELS_ROBO DE BIENES, ACCESORIOS Y AUTOPARTES DE VEHICULOS',\n",
    "# 'LABELS_ROBO DE CARROS',\n",
    "# 'LABELS_ROBO DE MOTOS']].to_numpy()"
   ]
  },
  {
   "cell_type": "code",
   "execution_count": 84,
   "metadata": {
    "id": "qNOd41ow_cIK"
   },
   "outputs": [],
   "source": [
    "# X_set.iloc[0,:], Y_set.iloc[0,:]"
   ]
  },
  {
   "cell_type": "code",
   "execution_count": 85,
   "metadata": {
    "id": "Fq3yO6Bq_cIK"
   },
   "outputs": [],
   "source": [
    "# dataset_df.head()"
   ]
  },
  {
   "cell_type": "code",
   "execution_count": 86,
   "metadata": {
    "id": "CUxFJD-G_cIK"
   },
   "outputs": [],
   "source": [
    "# Y_set[:5,:]"
   ]
  },
  {
   "cell_type": "code",
   "execution_count": 87,
   "metadata": {
    "id": "hEPmbvnO_cIL"
   },
   "outputs": [],
   "source": [
    "# X_set[:5]"
   ]
  },
  {
   "cell_type": "code",
   "execution_count": 88,
   "metadata": {
    "id": "AiGR_YU9_cIL"
   },
   "outputs": [],
   "source": [
    "# len(X_set), Y_set.shape"
   ]
  },
  {
   "cell_type": "markdown",
   "metadata": {
    "id": "4gJBtQwq_cIL"
   },
   "source": [
    "Since the classification is of type Multicategorical, it is clear that:\n",
    "\n",
    "$\\mathbf{y} \\in\\mathcal{R}^6   $ corresponds to the labels of our set. The structure of $ \\mathbf{X} $ will depend on the tokenization process. \n",
    "\n",
    "Moreover there are possible two ways to test.\n",
    "\n",
    "1. The provided guide at https://huggingface.co/transformers/v3.2.0/custom_datasets.html, does not use attention masks. We could test first this approach.\n",
    "2. We could follow the lead of https://www.youtube.com/watch?v=GYDFBfx8Ts8&t=498s, and provide both input_ids and masks_ids\n",
    "3. We should compare how things go provided the classical approach by using count of words (wordvec, bag of words and others) And compare results.\n",
    "4. There is something that is not being considered in this approach and it is unbalanced data. We should think about a way of balancing data\n",
    "\n",
    "There is an interesting approach that may work and that I found at: https://github.com/tavetisyan95/huggingface-fine-tuning/blob/main/huggingface-fine-tuning.ipynb\n",
    "\n",
    "**Problems** A problem I have encountered is that saving the model is not working. Also, I must find a way to add additional layers to the model and compile it maybe making a mixture of the things found may work"
   ]
  },
  {
   "cell_type": "code",
   "execution_count": 89,
   "metadata": {
    "colab": {
     "base_uri": "https://localhost:8080/",
     "height": 282
    },
    "id": "B45wSqZQ_cIL",
    "outputId": "4810f909-bb43-456d-e0a4-4f3554c2faa9"
   },
   "outputs": [
    {
     "data": {
      "text/plain": [
       "<AxesSubplot:>"
      ]
     },
     "execution_count": 89,
     "metadata": {},
     "output_type": "execute_result"
    },
    {
     "data": {
      "image/png": "[encoded data removed]",
      "text/plain": [
       "<Figure size 432x288 with 1 Axes>"
      ]
     },
     "metadata": {},
     "output_type": "display_data"
    }
   ],
   "source": [
    "dataset_df.labels.value_counts().plot.barh()"
   ]
  },
  {
   "cell_type": "markdown",
   "metadata": {
    "id": "qIzmm5Zw_cIL"
   },
   "source": [
    "I think and interesting way of solving could by making an ensemble by distributing different samples in each **weak** learner. Eventhough it is not a weak learner because they are actually transformer-convnet based learners. \n",
    "\n",
    "Also, it must be noticed that we are going through fine tuning a pre-trained bert model. What would happen if we train it from scratch? would it be better?"
   ]
  },
  {
   "cell_type": "markdown",
   "metadata": {
    "id": "YzNlEmApgUrM"
   },
   "source": [
    "## Tokenization\n",
    "\n",
    "Le us copy the following fuction to find the longest sequences in dataset"
   ]
  },
  {
   "cell_type": "code",
   "execution_count": 90,
   "metadata": {
    "id": "6JIUsBa-geI0"
   },
   "outputs": [],
   "source": [
    "def find_max_length(dataset):\n",
    "    return len(max(dataset, key=lambda x: len(x.split())).split())"
   ]
  },
  {
   "cell_type": "code",
   "execution_count": 91,
   "metadata": {
    "colab": {
     "base_uri": "https://localhost:8080/"
    },
    "id": "J96OCpaegg21",
    "outputId": "194b4a51-f6f3-459e-bafd-a8bca75c2541"
   },
   "outputs": [
    {
     "name": "stdout",
     "output_type": "stream",
     "text": [
      "Longest sequence in train set has 300 words\n",
      "Longest sequence in val set has 300 words\n",
      "Longest sequence in test set has 300 words\n"
     ]
    }
   ],
   "source": [
    "# Obtaining the length of the longest sequences in our data splits\n",
    "train_max_length = find_max_length(dataset[\"train\"][\"relato\"])\n",
    "val_max_length = find_max_length(dataset[\"validation\"][\"relato\"])\n",
    "test_max_length = find_max_length(dataset[\"test\"][\"relato\"])\n",
    "\n",
    "# Inspecting the length of the longest sequences\n",
    "print(f\"Longest sequence in train set has {train_max_length} words\")\n",
    "print(f\"Longest sequence in val set has {val_max_length} words\")\n",
    "print(f\"Longest sequence in test set has {test_max_length} words\")"
   ]
  },
  {
   "cell_type": "markdown",
   "metadata": {
    "id": "5jvskI6Ug7Ft"
   },
   "source": [
    "Filtering sequences that are larger thatn maximun length"
   ]
  },
  {
   "cell_type": "code",
   "execution_count": 92,
   "metadata": {
    "id": "-FkrsoSjg_Zc"
   },
   "outputs": [],
   "source": [
    "# A function for discarding sequences beyond a specified length\n",
    "def filter_dataset(dataset, num_words):    \n",
    "    return dataset.filter(lambda x: len(x[\"relato\"].split()) <= num_words)"
   ]
  },
  {
   "cell_type": "code",
   "execution_count": 93,
   "metadata": {
    "colab": {
     "base_uri": "https://localhost:8080/",
     "height": 150,
     "referenced_widgets": [
      "00bb0499a752422e93a415e263040ee8",
      "162e3e1e78e747a7b286d07c29797941",
      "bb9976f67b45467aaccb147760a54203",
      "b1c5948063e14b3098b5b76e1c2040ff",
      "a297400c7afb4fb481737d6b6b0bd8a8",
      "e695112ddcd840ffb4ea174e552ee1fc",
      "a372fbc0562a412c9a247203b14e0b1f",
      "7e95a8e5083d49648a6a29c78d5f11ef",
      "b7aec7609ae94687b2719696f66f69b9",
      "f374ae69a4fc47f3992e686375e3d067",
      "c194a5fb20f346b4b98f771280179eb0",
      "ebc907d2c761456496aac63709da56e4",
      "a16a1988d83b44488ddd404a60d8f267",
      "2f3314ed7f0b45caa284ade6dc7e39c9",
      "f8e8723924cd481b946736d7fb2687d0",
      "5f94b21c57374af1a44ad6778f9a267f",
      "ab2e14d637de47ff9e51f64f1c6f675a",
      "c792f9eafd87401bb272705ae3d92c58",
      "5411d977d0bf4bef8bdbbeb128b8002a",
      "87f797cf21ed4b77a8744412f80327dd",
      "9c68de91365a4d17a2a48b239a738f31",
      "34610e4af2cb4408bcbf4ff95e4696c1",
      "290c68844b374ff1aa9590087e611423",
      "785be4b2abf84b3ca384487dc9ee3560",
      "5bfcfab353d94038b8cfeb220d860a0a",
      "1afa24b0fb7c463caedcd77bd0b37c4a",
      "270fff1c79204ab1a88ceb56f5f7f86c",
      "fe08691d1d7840d8aa02360a2b43568d",
      "3a28019bf28348438a352ed72c069918",
      "0b5d7a9bc6ce45c1a2d2f1a624e52add",
      "ed05a8359589425fa6a8b60aa0485f8b",
      "809b4e212dc64927ae163dc0516debf7",
      "8cc3e2421ff04ab495ac051117818551"
     ]
    },
    "id": "MKGycx75hOD8",
    "outputId": "038e3643-10fa-4408-e6f7-4581cad73dfd"
   },
   "outputs": [
    {
     "name": "stderr",
     "output_type": "stream",
     "text": [
      "Loading cached processed dataset at C:\\Users\\entea\\.cache\\huggingface\\datasets\\csv\\default-81e0f6b899830a0e\\0.0.0\\51cce309a08df9c4d82ffd9363bbe090bf173197fc01a71b034e8594995a1a58\\cache-9381228e14bc6d0a.arrow\n",
      "Loading cached processed dataset at C:\\Users\\entea\\.cache\\huggingface\\datasets\\csv\\default-81e0f6b899830a0e\\0.0.0\\51cce309a08df9c4d82ffd9363bbe090bf173197fc01a71b034e8594995a1a58\\cache-fd718324975a104a.arrow\n",
      "Loading cached processed dataset at C:\\Users\\entea\\.cache\\huggingface\\datasets\\csv\\default-81e0f6b899830a0e\\0.0.0\\51cce309a08df9c4d82ffd9363bbe090bf173197fc01a71b034e8594995a1a58\\cache-c20cb17a9dc58583.arrow\n"
     ]
    }
   ],
   "source": [
    "# Specifying the max length for sequences\n",
    "num_words = 300\n",
    "\n",
    "# Dropping sequences longer than the specified number from the dataset\n",
    "filtered_dataset = filter_dataset(dataset, num_words)"
   ]
  },
  {
   "cell_type": "code",
   "execution_count": 94,
   "metadata": {
    "colab": {
     "base_uri": "https://localhost:8080/"
    },
    "id": "vPXUCM_4hbIc",
    "outputId": "e97aea59-6971-4a26-e4f9-b6bf224ffd09"
   },
   "outputs": [
    {
     "name": "stdout",
     "output_type": "stream",
     "text": [
      "DatasetDict({\n",
      "    train: Dataset({\n",
      "        features: ['relato', 'labels'],\n",
      "        num_rows: 273336\n",
      "    })\n",
      "    test: Dataset({\n",
      "        features: ['relato', 'labels'],\n",
      "        num_rows: 90000\n",
      "    })\n",
      "    validation: Dataset({\n",
      "        features: ['relato', 'labels'],\n",
      "        num_rows: 68333\n",
      "    })\n",
      "})\n"
     ]
    }
   ],
   "source": [
    "print(filtered_dataset)"
   ]
  },
  {
   "cell_type": "code",
   "execution_count": 95,
   "metadata": {
    "colab": {
     "base_uri": "https://localhost:8080/",
     "height": 145,
     "referenced_widgets": [
      "2c31528c5ec74a9a9e8676824521cf8f",
      "d123f11ebe7645f5ba2f354b451126a2",
      "ef6cb12ee2d04cadb5ceeefd544addd9",
      "e1be8fc22c024128b33f05f06a5062c6",
      "6f3fe0dbfaf345b9b99a70d5e96728ae",
      "cb306316dcd04009a1e1b79e89b49f39",
      "34cda2635176484a96baf74fe73b74de",
      "73f9382dfaa3424db427d27cec2f2510",
      "8aba9461c29b49e089cf64bde4eb424b",
      "35c2bf75f16b4dc5b844a0f65c6af30d",
      "a348abd32f3641309bb61d5e935b0a6f",
      "7220376b44f449d0bc1350ad8a76848b",
      "f390799ae79b4161bd20987d7b697da6",
      "1875719602c941508782302c4a4f83fe",
      "2488fae598834cc7b1c2e1738e57583c",
      "a0eb8f49cef0489dbfdd566921cb37bf",
      "e21182d7a702401e8c44205af8c70730",
      "671cf983b855429cab9a75d2cdfe0b6f",
      "e8d93a5a708442cfbf033b4cd1abf600",
      "1d56ff153a104eabb87ee542863c2ed5",
      "b8ecdde55bed45dbbea5f855d0477ade",
      "794ee10016fe49aa9b82dbc4b759c1e2",
      "17da0b649b764b33a9e1cfc91ec1a0e4",
      "2cf60a4bf9d944d787f725e07d055445",
      "5c9d81a273284ebcb5ca624695f1a30f",
      "a5cbfaaf61ee4fb28ae0403f2453ed46",
      "952dc046b747418b932b4bfe1d645e9e",
      "666c48809587458eaf86d93cba8261d2",
      "3dbd1aefbf834c6486657f6ef68b2e6d",
      "38522030ec274927a6d35e6b70469105",
      "2f2f6f8919854f24b1fea30612b22c14",
      "8bb072ba76f144358a94055ad1a9ce6f",
      "92820652b5f84003b21f744c7f1dff4e",
      "d06335bc415c4a0e9ac2d934d96134c5",
      "89975ead51b849269dee1ae701ef184a",
      "defb27d47be646118f54d003193c479b",
      "da11b24d25e9446baf9ef8c249a48b52",
      "8515f48eb81245a5b47bba39ca0fbb6e",
      "21523a79a39a48469ef8f15b9d4497a0",
      "f31f4b796a5e4b35b569037f7e0d0515",
      "18d778124611424a8df2cdc1fc3d3cdf",
      "6d535a8ba1904d73a71ad6b9913fb08f",
      "eb10f338587441128393e4747be415c4",
      "308b0ea6ab8e46c3af1e4194d7ce2f49"
     ]
    },
    "id": "Wrrh9wzS_cIL",
    "outputId": "14a8f824-f5a8-4f95-d8e7-ef280202784b"
   },
   "outputs": [],
   "source": [
    "from transformers import DistilBertTokenizer, AutoTokenizer, DistilBertTokenizerFast\n",
    "# model_name = 'xlm-roberta-large'\n",
    "# model_name = 'bert-base-cased'\n",
    "# model_name = 'bert-base-multilingual-uncased-sentiment'\n",
    "model_name = 'distilbert-base-multilingual-cased'\n",
    "# tokenizer = DistilBertTokenizerFast.from_pretrained(model_name)\n",
    "tokenizer = AutoTokenizer.from_pretrained(model_name) # used in the github"
   ]
  },
  {
   "cell_type": "markdown",
   "metadata": {
    "id": "e9J-QhfU_cIL"
   },
   "source": [
    "Testing tokenizer with any kind of content"
   ]
  },
  {
   "cell_type": "code",
   "execution_count": 96,
   "metadata": {
    "colab": {
     "base_uri": "https://localhost:8080/"
    },
    "id": "kmBJmZ4F_cIM",
    "outputId": "079705bf-751a-42fd-a139-f486406e9475"
   },
   "outputs": [
    {
     "data": {
      "text/plain": [
       "{'input_ids': [101, 10125, 92923, 29833, 82834, 41275, 11403, 10196, 10153, 84977, 34065, 12022, 10738, 12361, 43861, 102], 'attention_mask': [1, 1, 1, 1, 1, 1, 1, 1, 1, 1, 1, 1, 1, 1, 1, 1]}"
      ]
     },
     "execution_count": 96,
     "metadata": {},
     "output_type": "execute_result"
    }
   ],
   "source": [
    "tokenizer('el CASTELLANO es una LENGUA muerta')"
   ]
  },
  {
   "cell_type": "code",
   "execution_count": 97,
   "metadata": {
    "colab": {
     "base_uri": "https://localhost:8080/",
     "height": 113,
     "referenced_widgets": [
      "a65a71e1f096478da5d760a37360bc89",
      "5f1c6a4627874e3abf66160b4d7c28ce",
      "384f1d316efc404eadaca075f82b6299",
      "166d7c791d9845b9912c41adc78f4238",
      "b378fa047ee8425eac4ffbe7661ab078",
      "acd2bce250f54642a706876821237682",
      "b3d38050136b45479b7905893c2a672e",
      "426c678f0f4d43a18fdd6304bfb6c0ad",
      "50514a9022924cf58b2ad07f1ba1f846",
      "0a50236f10764382a9e8030290e59c09",
      "37ca400835cb4b10850254eab7f19ff2",
      "6dec7c8579f7411daa00a7a6f7550f5f",
      "8627d025ed824c7dbab1e3a4e036be4e",
      "12569e6b27e243b0a2c08d373b72705e",
      "a672a3940c37454f8592531c7b698744",
      "8490600d33f74deb98b716007e6111c0",
      "c0762605e8694561a00a29051ca25ec8",
      "0fbb0bdda0ba4cb2807fff262d78287f",
      "423808812c434d429a0457aaf77d3aae",
      "70dff91939dc401e803480f7e50dc18f",
      "f540db8704e646338b22276600ba9b6f",
      "f36cdb4f156542f1a95c26b7fc00c597",
      "d3ef014a2b4a46d4a21a4ef3af90adce",
      "525e985951fc43e085e03ee54e2174ae",
      "e2daf959cde240dab12f11ef621f014c",
      "b405ea85b08e49fcb74ff559d806acdb",
      "5fbe8640c52a4078b5c9f4c61ea1b0b8",
      "d2a9e3cb434c4aa29358e6efc19c60a0",
      "6d5b01251c67423a9746f340f153c2e2",
      "2aae99070cbe4e03898715673bd8c6a3",
      "461ea16eafbb4d84b8561847337dd522",
      "941caf1d10a74e44a624e1d11a1d2c0b",
      "2feec5f2ff7146009e3310382202c399"
     ]
    },
    "id": "-tPW3-wO_cIM",
    "outputId": "f5eab4b5-c3da-41bd-b94f-16d599dffdd9"
   },
   "outputs": [
    {
     "name": "stderr",
     "output_type": "stream",
     "text": [
      "Loading cached processed dataset at C:\\Users\\entea\\.cache\\huggingface\\datasets\\csv\\default-81e0f6b899830a0e\\0.0.0\\51cce309a08df9c4d82ffd9363bbe090bf173197fc01a71b034e8594995a1a58\\cache-842b78fbb4ff8a86.arrow\n",
      "100%|██████████████████████████████████████████████████████████████████████████████████| 90/90 [00:18<00:00,  4.83ba/s]\n",
      "Loading cached processed dataset at C:\\Users\\entea\\.cache\\huggingface\\datasets\\csv\\default-81e0f6b899830a0e\\0.0.0\\51cce309a08df9c4d82ffd9363bbe090bf173197fc01a71b034e8594995a1a58\\cache-7bb03e2e0903ea7c.arrow\n"
     ]
    }
   ],
   "source": [
    "def tokenizer_func(examples):\n",
    "  return tokenizer(examples[\"relato\"],\n",
    "                   max_length=seqlen.max(),\n",
    "                   padding = \"max_length\",\n",
    "                   truncation=True)\n",
    "\n",
    "tokenized_dataset = dataset.map(tokenizer_func, batched=True)"
   ]
  },
  {
   "cell_type": "code",
   "execution_count": 98,
   "metadata": {
    "colab": {
     "base_uri": "https://localhost:8080/"
    },
    "id": "bio63nwQ_cIM",
    "outputId": "9dd3916b-9b49-4aed-e668-ba6d29d05b04"
   },
   "outputs": [
    {
     "data": {
      "text/plain": [
       "(300, 4)"
      ]
     },
     "execution_count": 98,
     "metadata": {},
     "output_type": "execute_result"
    }
   ],
   "source": [
    "len(tokenized_dataset['validation'][-1]['input_ids']), tokenized_dataset['validation'][-1]['labels']"
   ]
  },
  {
   "cell_type": "code",
   "execution_count": 99,
   "metadata": {
    "colab": {
     "base_uri": "https://localhost:8080/"
    },
    "id": "V7gxpKs3j7-7",
    "outputId": "5dbfbb89-de53-4c6e-d40d-bb371610a705"
   },
   "outputs": [
    {
     "data": {
      "text/plain": [
       "DatasetDict({\n",
       "    train: Dataset({\n",
       "        features: ['relato', 'labels', 'input_ids', 'attention_mask'],\n",
       "        num_rows: 273336\n",
       "    })\n",
       "    test: Dataset({\n",
       "        features: ['relato', 'labels', 'input_ids', 'attention_mask'],\n",
       "        num_rows: 90000\n",
       "    })\n",
       "    validation: Dataset({\n",
       "        features: ['relato', 'labels', 'input_ids', 'attention_mask'],\n",
       "        num_rows: 68333\n",
       "    })\n",
       "})"
      ]
     },
     "execution_count": 99,
     "metadata": {},
     "output_type": "execute_result"
    }
   ],
   "source": [
    "tokenized_dataset"
   ]
  },
  {
   "cell_type": "code",
   "execution_count": 100,
   "metadata": {
    "id": "3V5v3u6d_cIM"
   },
   "outputs": [],
   "source": [
    "# tokenized_dataset['train'][0]"
   ]
  },
  {
   "cell_type": "code",
   "execution_count": 101,
   "metadata": {
    "colab": {
     "base_uri": "https://localhost:8080/",
     "height": 36
    },
    "id": "Nh6C6kQR_cIM",
    "outputId": "0622bea5-dbe1-4dfc-9ac4-49018b54dc79"
   },
   "outputs": [
    {
     "data": {
      "text/plain": [
       "'2.6.0'"
      ]
     },
     "execution_count": 101,
     "metadata": {},
     "output_type": "execute_result"
    }
   ],
   "source": [
    "import tensorflow as tf\n",
    "tf.__version__"
   ]
  },
  {
   "cell_type": "markdown",
   "metadata": {
    "id": "uKsc90Oy_cIM"
   },
   "source": [
    "Following what is proposed in: https://huggingface.co/docs/transformers/tasks/sequence_classification"
   ]
  },
  {
   "cell_type": "code",
   "execution_count": 102,
   "metadata": {
    "id": "QRD4rNPr_cIM"
   },
   "outputs": [],
   "source": [
    "from transformers import DataCollatorWithPadding\n",
    "\n",
    "data_collator = DataCollatorWithPadding(tokenizer=tokenizer, return_tensors=\"tf\")"
   ]
  },
  {
   "cell_type": "code",
   "execution_count": 103,
   "metadata": {
    "colab": {
     "base_uri": "https://localhost:8080/"
    },
    "id": "AjYSRzNE_cIM",
    "outputId": "a1cc6ea4-1184-4e78-ce79-a8e79ccc8947"
   },
   "outputs": [
    {
     "data": {
      "text/plain": [
       "dict_keys(['train', 'test', 'validation'])"
      ]
     },
     "execution_count": 103,
     "metadata": {},
     "output_type": "execute_result"
    }
   ],
   "source": [
    "tokenized_dataset.keys()"
   ]
  },
  {
   "cell_type": "markdown",
   "metadata": {
    "id": "tvAVLV8vl3Yq"
   },
   "source": [
    "The following procedure is the one that is presented in hugging faces tutorial"
   ]
  },
  {
   "cell_type": "code",
   "execution_count": 104,
   "metadata": {
    "id": "7AocJMAc_cIN"
   },
   "outputs": [],
   "source": [
    "# tf_train_set = tokenized_dataset[\"train\"].to_tf_dataset(\n",
    "#     columns=[\"attention_mask\", \"input_ids\", \"labels\"],\n",
    "#     shuffle=True,\n",
    "#     batch_size=16,\n",
    "#     collate_fn=data_collator,\n",
    "# )\n",
    "\n",
    "# tf_validation_set = tokenized_dataset[\"validation\"].to_tf_dataset(\n",
    "#     columns=[\"attention_mask\", \"input_ids\", \"labels\"],\n",
    "#     shuffle=False,\n",
    "#     batch_size=16,\n",
    "#     collate_fn=data_collator,\n",
    "# )"
   ]
  },
  {
   "cell_type": "code",
   "execution_count": 105,
   "metadata": {
    "id": "dVH-6WQ7_cIN"
   },
   "outputs": [],
   "source": [
    "# lowering samples to proof concept again\n",
    "# disable for this test where we try to use the recommendations from the github\n",
    "# tf_train_set = tokenized_dataset[\"train\"].shuffle(seed=42).select(range(20000)).to_tf_dataset(\n",
    "#     columns=[\"attention_mask\", \"input_ids\", \"labels\"],\n",
    "#     shuffle=True,\n",
    "#     batch_size=32,\n",
    "#     collate_fn=data_collator,\n",
    "# )\n",
    "\n",
    "# tf_validation_set = tokenized_dataset[\"validation\"].shuffle(seed=42).select(range(4000)).to_tf_dataset(\n",
    "#     columns=[\"attention_mask\", \"input_ids\", \"labels\"],\n",
    "#     shuffle=False,\n",
    "#     batch_size=32,\n",
    "#     collate_fn=data_collator,\n",
    "# )"
   ]
  },
  {
   "cell_type": "markdown",
   "metadata": {
    "id": "2Xgq1PVblqyh"
   },
   "source": [
    "## Preparing Features and Labels\n",
    "\n",
    "In https://github.com/tavetisyan95/huggingface-fine-tuning/blob/main/huggingface-fine-tuning.ipynb there is another procedure to get the tensorflow vectors. I have added the shuffle method to lower the number of samples to train"
   ]
  },
  {
   "cell_type": "code",
   "execution_count": 106,
   "metadata": {
    "colab": {
     "base_uri": "https://localhost:8080/"
    },
    "id": "JFcG3CXVmF4D",
    "outputId": "0b5c8864-1114-405c-9cd3-5fad5cef4f82"
   },
   "outputs": [
    {
     "data": {
      "text/plain": [
       "Dataset({\n",
       "    features: ['relato', 'labels', 'input_ids', 'attention_mask'],\n",
       "    num_rows: 273336\n",
       "})"
      ]
     },
     "execution_count": 106,
     "metadata": {},
     "output_type": "execute_result"
    }
   ],
   "source": [
    "tokenized_dataset['train']"
   ]
  },
  {
   "cell_type": "code",
   "execution_count": 107,
   "metadata": {},
   "outputs": [
    {
     "data": {
      "text/plain": [
       "(['es el caso señor fiscal que el día 22 de octubre del 2014 a las 20h40 aproximadamente en circunstancias en que deje estacionado mi camioneta de placas gmd0996 color blanco marca chevrolet de mi propiedad en la dirección antes mencionada al momento de ir por ella me encuentro con la novedad que no estaba se la habían robado en el interior de la camioneta ahí una arma de fuego revolver calibre 38 de fabricación nacional que pertenece a compañía armiled por lo expuesto señor fiscal solicito que se realicen las respectivas investigaciones es justicia',\n",
       "  'es el caso que el dia 18 de septiembre de 2014 aproximadamente a las 10h45 me encontraba comiendo en una picanteria en las calles 13 ava y argentina cuando de repente se me acerco un sujeto con revolver me lo apunto en el cuerpo y me dijo entregame las cosas a lo que procedi a darle lo que tenia y se fueron en una moto las cosas que me robaron fue mi billetera con cedula de identidad certificado de votacion mi licencia de conducir de la comision de transito del guayas categoria sportman tarjeta de socio del club nacional tarjeta de socio de la camara de comercio de guayaquil tarjeta de debito del banco produbanco de la cuenta corriente no 0217900519 3 380 dolares en efectivo una laptop color blanca marca apple celular samsung galaxy s4 color blanco de la operadora claro con la linea 0982577378',\n",
       "  'es el caso señor fiscal que el día de hoy aproximadamente a las 14h00 mientras me encontraba en las calles avenida del ejército y letamendi de repente pasan dos sujetos en una moto me encañonan con arma de fuego y me piden el teléfono sansum a10 color azul con numero de imei 359310 10 047363 6 de mi propiedad'],\n",
       " [0, 4, 4])"
      ]
     },
     "execution_count": 107,
     "metadata": {},
     "output_type": "execute_result"
    }
   ],
   "source": [
    "tokenized_dataset['train'][0:3]['relato'], tokenized_dataset['train'][0:3]['labels']"
   ]
  },
  {
   "cell_type": "code",
   "execution_count": 108,
   "metadata": {},
   "outputs": [
    {
     "data": {
      "text/plain": [
       "([101, 10196, 10125, 13101, 47599, 43645, 10121, 10125, 14184, 10306],\n",
       " [101, 10196, 10125, 13101, 10121, 10125, 10671, 10218, 10104, 15730],\n",
       " [101, 10196, 10125, 13101, 47599, 43645, 10121, 10125, 14184, 10104])"
      ]
     },
     "execution_count": 108,
     "metadata": {},
     "output_type": "execute_result"
    }
   ],
   "source": [
    "tokenized_dataset['train'][0]['input_ids'][:10], tokenized_dataset['train'][1]['input_ids'][:10], tokenized_dataset['train'][2]['input_ids'][:10]"
   ]
  },
  {
   "cell_type": "markdown",
   "metadata": {
    "id": "q4fXbx_5oGe_"
   },
   "source": [
    "There is a little problem in the code that is corrected in https://github.com/tensorflow/tensorflow/issues/52382"
   ]
  },
  {
   "cell_type": "code",
   "execution_count": 109,
   "metadata": {
    "colab": {
     "base_uri": "https://localhost:8080/"
    },
    "id": "Nghjwufbpe65",
    "outputId": "08d5e0e2-7f89-4c6d-9af7-2fd3b0244582"
   },
   "outputs": [
    {
     "name": "stderr",
     "output_type": "stream",
     "text": [
      "Loading cached shuffled indices for dataset at C:\\Users\\entea\\.cache\\huggingface\\datasets\\csv\\default-81e0f6b899830a0e\\0.0.0\\51cce309a08df9c4d82ffd9363bbe090bf173197fc01a71b034e8594995a1a58\\cache-bfb8ad2cb13ed6d0.arrow\n",
      "Loading cached shuffled indices for dataset at C:\\Users\\entea\\.cache\\huggingface\\datasets\\csv\\default-81e0f6b899830a0e\\0.0.0\\51cce309a08df9c4d82ffd9363bbe090bf173197fc01a71b034e8594995a1a58\\cache-b104bdbe1579f876.arrow\n"
     ]
    }
   ],
   "source": [
    "train_samples = tokenized_dataset[\"train\"].shuffle(seed=42).select(range(1000)) #.shuffle(seed=42)\n",
    "valid_samples = tokenized_dataset[\"validation\"].shuffle(seed=42).select(range(200)) #.shuffle(seed=42)\n",
    "test_samples = tokenized_dataset[\"test\"].shuffle(seed=42).select(range(200)) #.shuffle(seed=42)"
   ]
  },
  {
   "cell_type": "code",
   "execution_count": 110,
   "metadata": {},
   "outputs": [
    {
     "data": {
      "text/plain": [
       "(['es el caso señor fiscal el 07 de marzo del 2020 siendo aproximadamente las 12h40 en circunstancia que me encontraba laborando como soy inspector de crédito y recaudador de la empresa unicoservi iba a realizar un inspección en la ciudadela colinas de la alborada mz 712 v 3 cuando me iba a bajar me apunta en la nuca bájate de la motocicleta de placa aa466x con motor 164fmlj0gn5213 chasis lwppcmun3j0gn5213 modelo gn 200 de color azul año 2018 me bajan rápido y se van con rumbo desconocido robándome la motocicleta en la cual se encontraba un bolso de negro que contenía recibos de cobros notificaciones de cobros juego de llaves de casa encauchado carpeta con el croquis de la ciudad de guayaquil es todo lo que puedo decir en honor a la verdad',\n",
       "  'mediante parte policial con numero de oficio n0 2019 1237 pj pas dnpjel de fecha 11 de septiembre se procede a ingresar por robo tipificado con el articulo 189 del codigo organico integral penal se anexa parte policial',\n",
       "  'es el caso señor fiscal que el día 10 de marzo del 2019 aproximadamente a las 22h00 me encuentro con la novedad de que a mi esposo ismael ausencio rodriguez pin había sido víctima de robo por parte de dos sujetos que le habían saco un arma de fuego y le habían robado el celular de marca samsung modelo sm 10stgzr j4 color negro valorado en 68 dólares con 74 centavos de dólar luego se habían dado en la fuga lo que me dijo mi esposo y que este hecho había sido por la florida'],\n",
       " [5, 2, 4])"
      ]
     },
     "execution_count": 110,
     "metadata": {},
     "output_type": "execute_result"
    }
   ],
   "source": [
    "train_samples[0:3]['relato'], train_samples[0:3]['labels']"
   ]
  },
  {
   "cell_type": "code",
   "execution_count": 111,
   "metadata": {},
   "outputs": [
    {
     "data": {
      "text/plain": [
       "[5, 2, 4]"
      ]
     },
     "execution_count": 111,
     "metadata": {},
     "output_type": "execute_result"
    }
   ],
   "source": [
    "train_samples[0:3]['labels']"
   ]
  },
  {
   "cell_type": "code",
   "execution_count": 112,
   "metadata": {},
   "outputs": [
    {
     "data": {
      "text/plain": [
       "([101, 10196, 10125, 13101, 47599, 43645, 10125, 10878, 10104, 12401],\n",
       " [101, 18229, 10552, 86335, 10173, 15769, 10104, 10108, 38036, 182],\n",
       " [101, 10196, 10125, 13101, 47599, 43645, 10121, 10125, 14184, 10150])"
      ]
     },
     "execution_count": 112,
     "metadata": {},
     "output_type": "execute_result"
    }
   ],
   "source": [
    "train_samples[0]['input_ids'][:10], train_samples[1]['input_ids'][:10], train_samples[2]['input_ids'][:10]"
   ]
  },
  {
   "cell_type": "code",
   "execution_count": 113,
   "metadata": {
    "id": "RM4l6ObmlqX3"
   },
   "outputs": [],
   "source": [
    "# Removing \"text\" and \"label\" columns from our data splits to craft features for the model\n",
    "train_features = train_samples.remove_columns([\"relato\", \"labels\"]).with_format(\"tensorflow\") # use tokenized_dataset to use full dataset\n",
    "val_features = valid_samples.remove_columns([\"relato\", \"labels\"]).with_format(\"tensorflow\") # use tokenized_dataset to use full dataset\n",
    "test_features = test_samples.remove_columns([\"relato\", \"labels\"]).with_format(\"tensorflow\") # use tokenized_dataset to use full dataset\n",
    "\n",
    "# Converting our features to TF Tensors\n",
    "train_features = {x: train_features[x] for x in tokenizer.model_input_names}\n",
    "val_features = {x: val_features[x] for x in tokenizer.model_input_names}\n",
    "test_features = {x: test_features[x] for x in tokenizer.model_input_names}\n"
   ]
  },
  {
   "cell_type": "code",
   "execution_count": 114,
   "metadata": {
    "colab": {
     "base_uri": "https://localhost:8080/"
    },
    "id": "01zISRIcoNQ2",
    "outputId": "2088e27b-3b23-49bc-eec1-6dcc13cfaa3d"
   },
   "outputs": [
    {
     "data": {
      "text/plain": [
       "['input_ids', 'attention_mask']"
      ]
     },
     "execution_count": 114,
     "metadata": {},
     "output_type": "execute_result"
    }
   ],
   "source": [
    "tokenizer.model_input_names"
   ]
  },
  {
   "cell_type": "code",
   "execution_count": 115,
   "metadata": {
    "colab": {
     "base_uri": "https://localhost:8080/"
    },
    "id": "1W01K7fZoRt4",
    "outputId": "ad819302-ddf0-4a62-c8e6-bc2944cc4e12"
   },
   "outputs": [
    {
     "data": {
      "text/plain": [
       "{'input_ids': <tf.Tensor: shape=(1000, 300), dtype=int64, numpy=\n",
       " array([[  101, 10196, 10125, ...,     0,     0,     0],\n",
       "        [  101, 18229, 10552, ...,     0,     0,     0],\n",
       "        [  101, 10196, 10125, ...,     0,     0,     0],\n",
       "        ...,\n",
       "        [  101, 10196, 10125, ...,     0,     0,     0],\n",
       "        [  101, 35109, 43645, ...,     0,     0,     0],\n",
       "        [  101, 10196, 10125, ...,     0,     0,     0]], dtype=int64)>,\n",
       " 'attention_mask': <tf.Tensor: shape=(1000, 300), dtype=int64, numpy=\n",
       " array([[1, 1, 1, ..., 0, 0, 0],\n",
       "        [1, 1, 1, ..., 0, 0, 0],\n",
       "        [1, 1, 1, ..., 0, 0, 0],\n",
       "        ...,\n",
       "        [1, 1, 1, ..., 0, 0, 0],\n",
       "        [1, 1, 1, ..., 0, 0, 0],\n",
       "        [1, 1, 1, ..., 0, 0, 0]], dtype=int64)>}"
      ]
     },
     "execution_count": 115,
     "metadata": {},
     "output_type": "execute_result"
    }
   ],
   "source": [
    "train_features"
   ]
  },
  {
   "cell_type": "markdown",
   "metadata": {
    "id": "4syE3gfCo0ss"
   },
   "source": [
    "### generating labels\n",
    "following the lead of https://github.com/tavetisyan95/huggingface-fine-tuning/blob/main/huggingface-fine-tuning.ipynb"
   ]
  },
  {
   "cell_type": "code",
   "execution_count": 116,
   "metadata": {
    "id": "M0JArq4ao5dw"
   },
   "outputs": [],
   "source": [
    "# Importing the function for one-hot encoding\n",
    "from tensorflow.keras.utils import to_categorical\n",
    "\n",
    "# Creating labels for each of the data splits\n",
    "train_labels = to_categorical(train_samples[\"labels\"])  # cambiar por tokenized_dataset\n",
    "val_labels = to_categorical(valid_samples[\"labels\"]) # cambiar por tokenized_dataset\n",
    "test_labels = to_categorical(test_samples[\"labels\"]) # cambiar por tokenized_dataset"
   ]
  },
  {
   "cell_type": "code",
   "execution_count": 117,
   "metadata": {
    "colab": {
     "base_uri": "https://localhost:8080/"
    },
    "id": "0OWZ8TF4rLBo",
    "outputId": "a2b8b8ed-a5e1-4aee-fd39-a887d96fcf4b"
   },
   "outputs": [
    {
     "data": {
      "text/plain": [
       "array([[0., 0., 0., 0., 0., 1.],\n",
       "       [0., 0., 1., 0., 0., 0.],\n",
       "       [0., 0., 0., 0., 1., 0.],\n",
       "       [0., 0., 0., 0., 1., 0.],\n",
       "       [1., 0., 0., 0., 0., 0.]], dtype=float32)"
      ]
     },
     "execution_count": 117,
     "metadata": {},
     "output_type": "execute_result"
    }
   ],
   "source": [
    "train_labels[:5]"
   ]
  },
  {
   "cell_type": "code",
   "execution_count": 118,
   "metadata": {
    "id": "3-4dI9v5rQMT"
   },
   "outputs": [],
   "source": [
    "# Importing the TF Dataset class\n",
    "from tensorflow.data import Dataset\n",
    "\n",
    "# Creating TF Datasets for each of our data splits\n",
    "train_dataset_tf1 = Dataset.from_tensor_slices((train_features, train_labels))\n",
    "val_dataset_tf1 = Dataset.from_tensor_slices((val_features, val_labels))\n",
    "test_dataset_tf1 = Dataset.from_tensor_slices((test_features, test_labels))\n",
    "\n",
    "# Shuffling and batching our data\n",
    "train_dataset_tf1 = train_dataset_tf1.shuffle(len(train_features), seed=42).batch(4)\n",
    "val_dataset_tf1 = val_dataset_tf1.shuffle(len(train_features), seed=42).batch(4)\n",
    "test_dataset_tf1 = test_dataset_tf1.shuffle(len(train_features), seed=42).batch(4)"
   ]
  },
  {
   "cell_type": "markdown",
   "metadata": {
    "id": "nnN7dn5ir6NM"
   },
   "source": [
    "## Model"
   ]
  },
  {
   "cell_type": "code",
   "execution_count": 119,
   "metadata": {
    "id": "fMb46ZmVoW_4"
   },
   "outputs": [],
   "source": [
    "# tf_train_set[0]"
   ]
  },
  {
   "cell_type": "code",
   "execution_count": 120,
   "metadata": {
    "id": "gxV46UKv_cIN"
   },
   "outputs": [],
   "source": [
    "from transformers import create_optimizer\n",
    "batch_size = 4\n",
    "num_epochs = 100\n",
    "batches_per_epoch = len(tokenized_dataset[\"train\"]) // batch_size\n",
    "total_train_steps = int(batches_per_epoch * num_epochs)\n",
    "# optimizer, schedule = create_optimizer(init_lr=2e-5, num_warmup_steps=0, num_train_steps=total_train_steps)"
   ]
  },
  {
   "cell_type": "code",
   "execution_count": 121,
   "metadata": {
    "id": "f77lgtf__cIN"
   },
   "outputs": [],
   "source": [
    "# total_train_steps"
   ]
  },
  {
   "cell_type": "markdown",
   "metadata": {
    "id": "maRdsDOd_cIN"
   },
   "source": [
    "TFDistilBert has a weight of 869 MGBytes"
   ]
  },
  {
   "cell_type": "code",
   "execution_count": 122,
   "metadata": {
    "colab": {
     "base_uri": "https://localhost:8080/",
     "height": 156,
     "referenced_widgets": [
      "27806e7dc0a5486191e91489d3c7fa36",
      "9eb51f3d987e4a9e9d338c68400e44b5",
      "f2d5e470f3f84763a99b0f465d99f88f",
      "b20633e15b604f2482b38231ade41c9b",
      "b7826898a85a4babbde4df05e3d14d61",
      "09cf44d617ca49afb9deb867f1631f32",
      "bc7d46d8df074a6faf07cbb33c4a1800",
      "cf9211e12eb24bb1a317b62ae72f3c9e",
      "d65651b9a1894a3085652b0eba69ad0f",
      "2a623df269df49ceb647be1bb6923fad",
      "3ab1e4fec3574fb38c795875820c86fa"
     ]
    },
    "id": "_2JHAc-w_cIN",
    "outputId": "4cdbe7ea-b214-4875-d06b-c2c26b0b7bf7"
   },
   "outputs": [
    {
     "name": "stderr",
     "output_type": "stream",
     "text": [
      "Some layers from the model checkpoint at distilbert-base-multilingual-cased were not used when initializing TFDistilBertForSequenceClassification: ['vocab_projector', 'vocab_layer_norm', 'vocab_transform', 'activation_13']\n",
      "- This IS expected if you are initializing TFDistilBertForSequenceClassification from the checkpoint of a model trained on another task or with another architecture (e.g. initializing a BertForSequenceClassification model from a BertForPreTraining model).\n",
      "- This IS NOT expected if you are initializing TFDistilBertForSequenceClassification from the checkpoint of a model that you expect to be exactly identical (initializing a BertForSequenceClassification model from a BertForSequenceClassification model).\n",
      "Some layers of TFDistilBertForSequenceClassification were not initialized from the model checkpoint at distilbert-base-multilingual-cased and are newly initialized: ['dropout_39', 'classifier', 'pre_classifier']\n",
      "You should probably TRAIN this model on a down-stream task to be able to use it for predictions and inference.\n"
     ]
    }
   ],
   "source": [
    "from transformers import TFAutoModelForSequenceClassification, TFDistilBertForSequenceClassification, TFAutoModel\n",
    "model = TFAutoModelForSequenceClassification.from_pretrained(model_name, num_labels=6)\n",
    "# model = TFAutoModel.from_pretrained(model_name, num_labels=6)"
   ]
  },
  {
   "cell_type": "code",
   "execution_count": 123,
   "metadata": {
    "colab": {
     "base_uri": "https://localhost:8080/"
    },
    "id": "SYyP35wW_cIN",
    "outputId": "19dbc47f-fee2-4f34-8895-03ab0d93e33f"
   },
   "outputs": [
    {
     "name": "stdout",
     "output_type": "stream",
     "text": [
      "Model: \"tf_distil_bert_for_sequence_classification_1\"\n",
      "_________________________________________________________________\n",
      "Layer (type)                 Output Shape              Param #   \n",
      "=================================================================\n",
      "distilbert (TFDistilBertMain multiple                  134734080 \n",
      "_________________________________________________________________\n",
      "pre_classifier (Dense)       multiple                  590592    \n",
      "_________________________________________________________________\n",
      "classifier (Dense)           multiple                  4614      \n",
      "_________________________________________________________________\n",
      "dropout_39 (Dropout)         multiple                  0         \n",
      "=================================================================\n",
      "Total params: 135,329,286\n",
      "Trainable params: 135,329,286\n",
      "Non-trainable params: 0\n",
      "_________________________________________________________________\n"
     ]
    }
   ],
   "source": [
    "model.summary()"
   ]
  },
  {
   "cell_type": "code",
   "execution_count": 124,
   "metadata": {},
   "outputs": [],
   "source": [
    "# A function defining our learning rate schedule\n",
    "def lr_decay(epoch, lr):\n",
    "    if epoch < 10:\n",
    "        return lr\n",
    "    else:\n",
    "        return lr * np.exp(-0.1 * epoch)   "
   ]
  },
  {
   "cell_type": "code",
   "execution_count": 125,
   "metadata": {},
   "outputs": [],
   "source": [
    "lr_scheduler = tf.keras.callbacks.LearningRateScheduler(schedule=lr_decay, verbose=1)"
   ]
  },
  {
   "cell_type": "code",
   "execution_count": 126,
   "metadata": {
    "id": "jbhB3Pxs_cIN"
   },
   "outputs": [],
   "source": [
    "model.layers[0].trainable = False\n",
    "loss = tf.keras.losses.CategoricalCrossentropy(from_logits=True)\n",
    "# loss = tf.keras.losses.SparseCategoricalCrossentropy(from_logits=True)\n",
    "callback = tf.keras.callbacks.EarlyStopping(monitor='loss', patience=5)\n",
    "optimizer = tf.keras.optimizers.Adam(learning_rate=1e-4)\n",
    "metrics=tf.keras.metrics.CategoricalAccuracy()\n",
    "# metrics=tf.keras.metrics.Accuracy()\n",
    "# model.compile(optimizer=optimizer, metrics = ['accuracy', 'AUC', 'Precision', 'Recall'])\n",
    "model.compile(optimizer=optimizer, metrics = metrics, loss=loss)"
   ]
  },
  {
   "cell_type": "code",
   "execution_count": 127,
   "metadata": {
    "colab": {
     "base_uri": "https://localhost:8080/"
    },
    "id": "n7ZLm5zL_cIN",
    "outputId": "58c58e84-12c8-4e31-ef07-edc5ee24b126"
   },
   "outputs": [
    {
     "name": "stdout",
     "output_type": "stream",
     "text": [
      "Model: \"tf_distil_bert_for_sequence_classification_1\"\n",
      "_________________________________________________________________\n",
      "Layer (type)                 Output Shape              Param #   \n",
      "=================================================================\n",
      "distilbert (TFDistilBertMain multiple                  134734080 \n",
      "_________________________________________________________________\n",
      "pre_classifier (Dense)       multiple                  590592    \n",
      "_________________________________________________________________\n",
      "classifier (Dense)           multiple                  4614      \n",
      "_________________________________________________________________\n",
      "dropout_39 (Dropout)         multiple                  0         \n",
      "=================================================================\n",
      "Total params: 135,329,286\n",
      "Trainable params: 595,206\n",
      "Non-trainable params: 134,734,080\n",
      "_________________________________________________________________\n"
     ]
    }
   ],
   "source": [
    "model.summary()"
   ]
  },
  {
   "cell_type": "code",
   "execution_count": 128,
   "metadata": {
    "colab": {
     "base_uri": "https://localhost:8080/"
    },
    "id": "tGmcd94c_cIO",
    "outputId": "91dbcd87-0665-4ed9-fcd7-3abe5832d269"
   },
   "outputs": [
    {
     "name": "stdout",
     "output_type": "stream",
     "text": [
      "Num GPUs Available:  1\n"
     ]
    }
   ],
   "source": [
    "print(\"Num GPUs Available: \", len(tf.config.list_physical_devices('GPU')))"
   ]
  },
  {
   "cell_type": "code",
   "execution_count": 129,
   "metadata": {
    "colab": {
     "base_uri": "https://localhost:8080/",
     "height": 36
    },
    "id": "hq1g9kSl_cIO",
    "outputId": "cfc876a7-039b-45b2-9014-e57bc23cc13e"
   },
   "outputs": [
    {
     "data": {
      "text/plain": [
       "'/device:GPU:0'"
      ]
     },
     "execution_count": 129,
     "metadata": {},
     "output_type": "execute_result"
    }
   ],
   "source": [
    "tf.test.gpu_device_name()"
   ]
  },
  {
   "cell_type": "code",
   "execution_count": 130,
   "metadata": {
    "colab": {
     "base_uri": "https://localhost:8080/"
    },
    "id": "IqzuwUp5_cIO",
    "outputId": "997771a8-06d4-4f74-a881-956ca83caa6a"
   },
   "outputs": [
    {
     "name": "stdout",
     "output_type": "stream",
     "text": [
      "Epoch 1/100\n",
      "250/250 [==============================] - 30s 95ms/step - loss: 1.6261 - categorical_accuracy: 0.3880 - val_loss: 1.5627 - val_categorical_accuracy: 0.4150\n",
      "Epoch 2/100\n",
      "250/250 [==============================] - 23s 93ms/step - loss: 1.6052 - categorical_accuracy: 0.3940 - val_loss: 1.5468 - val_categorical_accuracy: 0.4150\n",
      "Epoch 3/100\n",
      "250/250 [==============================] - 56s 224ms/step - loss: 1.5856 - categorical_accuracy: 0.3940 - val_loss: 1.5367 - val_categorical_accuracy: 0.4150\n",
      "Epoch 4/100\n",
      "250/250 [==============================] - 74s 297ms/step - loss: 1.5706 - categorical_accuracy: 0.3970 - val_loss: 1.5242 - val_categorical_accuracy: 0.4150\n",
      "Epoch 5/100\n",
      "250/250 [==============================] - 74s 297ms/step - loss: 1.5536 - categorical_accuracy: 0.3950 - val_loss: 1.5060 - val_categorical_accuracy: 0.4150\n",
      "Epoch 6/100\n",
      "250/250 [==============================] - 74s 298ms/step - loss: 1.5297 - categorical_accuracy: 0.4030 - val_loss: 1.4959 - val_categorical_accuracy: 0.4150\n",
      "Epoch 7/100\n",
      "250/250 [==============================] - 74s 298ms/step - loss: 1.5054 - categorical_accuracy: 0.4110 - val_loss: 1.4794 - val_categorical_accuracy: 0.4150\n",
      "Epoch 8/100\n",
      "250/250 [==============================] - 75s 298ms/step - loss: 1.4912 - categorical_accuracy: 0.4110 - val_loss: 1.4625 - val_categorical_accuracy: 0.4150\n",
      "Epoch 9/100\n",
      "250/250 [==============================] - 75s 299ms/step - loss: 1.4669 - categorical_accuracy: 0.4240 - val_loss: 1.4414 - val_categorical_accuracy: 0.4150\n",
      "Epoch 10/100\n",
      "250/250 [==============================] - 75s 299ms/step - loss: 1.4453 - categorical_accuracy: 0.4370 - val_loss: 1.4262 - val_categorical_accuracy: 0.4200\n",
      "Epoch 11/100\n",
      "250/250 [==============================] - 75s 299ms/step - loss: 1.4175 - categorical_accuracy: 0.4370 - val_loss: 1.4070 - val_categorical_accuracy: 0.4150\n",
      "Epoch 12/100\n",
      "250/250 [==============================] - 75s 298ms/step - loss: 1.3970 - categorical_accuracy: 0.4450 - val_loss: 1.3812 - val_categorical_accuracy: 0.4150\n",
      "Epoch 13/100\n",
      "250/250 [==============================] - 75s 299ms/step - loss: 1.3811 - categorical_accuracy: 0.4530 - val_loss: 1.3688 - val_categorical_accuracy: 0.4250\n",
      "Epoch 14/100\n",
      "250/250 [==============================] - 75s 300ms/step - loss: 1.3540 - categorical_accuracy: 0.4790 - val_loss: 1.3456 - val_categorical_accuracy: 0.4450\n",
      "Epoch 15/100\n",
      "250/250 [==============================] - 75s 299ms/step - loss: 1.3353 - categorical_accuracy: 0.4770 - val_loss: 1.3322 - val_categorical_accuracy: 0.4400\n",
      "Epoch 16/100\n",
      "250/250 [==============================] - 75s 299ms/step - loss: 1.3235 - categorical_accuracy: 0.4870 - val_loss: 1.3218 - val_categorical_accuracy: 0.4450\n",
      "Epoch 17/100\n",
      "250/250 [==============================] - 75s 300ms/step - loss: 1.2976 - categorical_accuracy: 0.5050 - val_loss: 1.2973 - val_categorical_accuracy: 0.4650\n",
      "Epoch 18/100\n",
      "250/250 [==============================] - 74s 298ms/step - loss: 1.2731 - categorical_accuracy: 0.5230 - val_loss: 1.2806 - val_categorical_accuracy: 0.4750\n",
      "Epoch 19/100\n",
      "250/250 [==============================] - 74s 297ms/step - loss: 1.2574 - categorical_accuracy: 0.5160 - val_loss: 1.2653 - val_categorical_accuracy: 0.4900\n",
      "Epoch 20/100\n",
      "250/250 [==============================] - 75s 300ms/step - loss: 1.2517 - categorical_accuracy: 0.5230 - val_loss: 1.2608 - val_categorical_accuracy: 0.4750\n",
      "Epoch 21/100\n",
      "250/250 [==============================] - 75s 298ms/step - loss: 1.2283 - categorical_accuracy: 0.5310 - val_loss: 1.2411 - val_categorical_accuracy: 0.4900\n",
      "Epoch 22/100\n",
      "250/250 [==============================] - 75s 298ms/step - loss: 1.2347 - categorical_accuracy: 0.5230 - val_loss: 1.2268 - val_categorical_accuracy: 0.5050\n",
      "Epoch 23/100\n",
      "250/250 [==============================] - 75s 300ms/step - loss: 1.2076 - categorical_accuracy: 0.5570 - val_loss: 1.2151 - val_categorical_accuracy: 0.5050\n",
      "Epoch 24/100\n",
      "250/250 [==============================] - 75s 300ms/step - loss: 1.1993 - categorical_accuracy: 0.5520 - val_loss: 1.2131 - val_categorical_accuracy: 0.4950\n",
      "Epoch 25/100\n",
      "250/250 [==============================] - 75s 299ms/step - loss: 1.1646 - categorical_accuracy: 0.5610 - val_loss: 1.1920 - val_categorical_accuracy: 0.5050\n",
      "Epoch 26/100\n",
      "250/250 [==============================] - 75s 300ms/step - loss: 1.1637 - categorical_accuracy: 0.5750 - val_loss: 1.1727 - val_categorical_accuracy: 0.5350\n",
      "Epoch 27/100\n",
      "250/250 [==============================] - 75s 299ms/step - loss: 1.1715 - categorical_accuracy: 0.5690 - val_loss: 1.1582 - val_categorical_accuracy: 0.5550\n",
      "Epoch 28/100\n",
      "250/250 [==============================] - 75s 300ms/step - loss: 1.1395 - categorical_accuracy: 0.5730 - val_loss: 1.1543 - val_categorical_accuracy: 0.5300\n",
      "Epoch 29/100\n",
      "250/250 [==============================] - 75s 302ms/step - loss: 1.1175 - categorical_accuracy: 0.5830 - val_loss: 1.1462 - val_categorical_accuracy: 0.5450\n",
      "Epoch 30/100\n",
      "250/250 [==============================] - 75s 301ms/step - loss: 1.1371 - categorical_accuracy: 0.5850 - val_loss: 1.1308 - val_categorical_accuracy: 0.5600\n",
      "Epoch 31/100\n",
      "250/250 [==============================] - 75s 302ms/step - loss: 1.1069 - categorical_accuracy: 0.6000 - val_loss: 1.1224 - val_categorical_accuracy: 0.5550\n",
      "Epoch 32/100\n",
      "250/250 [==============================] - 76s 304ms/step - loss: 1.0990 - categorical_accuracy: 0.5890 - val_loss: 1.1265 - val_categorical_accuracy: 0.5450\n",
      "Epoch 33/100\n",
      "250/250 [==============================] - 76s 303ms/step - loss: 1.0908 - categorical_accuracy: 0.5930 - val_loss: 1.1087 - val_categorical_accuracy: 0.5700\n",
      "Epoch 34/100\n",
      "250/250 [==============================] - 75s 302ms/step - loss: 1.0856 - categorical_accuracy: 0.6120 - val_loss: 1.1033 - val_categorical_accuracy: 0.5700\n",
      "Epoch 35/100\n",
      "250/250 [==============================] - 75s 300ms/step - loss: 1.0880 - categorical_accuracy: 0.6090 - val_loss: 1.0978 - val_categorical_accuracy: 0.5650\n",
      "Epoch 36/100\n",
      "250/250 [==============================] - 75s 299ms/step - loss: 1.0777 - categorical_accuracy: 0.5950 - val_loss: 1.0855 - val_categorical_accuracy: 0.5700\n",
      "Epoch 37/100\n",
      "250/250 [==============================] - 75s 298ms/step - loss: 1.0513 - categorical_accuracy: 0.5950 - val_loss: 1.0854 - val_categorical_accuracy: 0.5650\n",
      "Epoch 38/100\n",
      "250/250 [==============================] - 75s 299ms/step - loss: 1.0662 - categorical_accuracy: 0.6050 - val_loss: 1.0805 - val_categorical_accuracy: 0.5750\n",
      "Epoch 39/100\n",
      "250/250 [==============================] - 75s 301ms/step - loss: 1.0259 - categorical_accuracy: 0.6160 - val_loss: 1.0708 - val_categorical_accuracy: 0.5950\n",
      "Epoch 40/100\n",
      "250/250 [==============================] - 75s 299ms/step - loss: 1.0528 - categorical_accuracy: 0.6160 - val_loss: 1.0684 - val_categorical_accuracy: 0.5850\n",
      "Epoch 41/100\n",
      "250/250 [==============================] - 75s 301ms/step - loss: 1.0379 - categorical_accuracy: 0.6310 - val_loss: 1.0539 - val_categorical_accuracy: 0.5900\n",
      "Epoch 42/100\n",
      "250/250 [==============================] - 75s 300ms/step - loss: 1.0239 - categorical_accuracy: 0.6290 - val_loss: 1.0534 - val_categorical_accuracy: 0.5850\n",
      "Epoch 43/100\n",
      "250/250 [==============================] - 75s 299ms/step - loss: 1.0427 - categorical_accuracy: 0.6210 - val_loss: 1.0470 - val_categorical_accuracy: 0.5800\n",
      "Epoch 44/100\n",
      "250/250 [==============================] - 75s 300ms/step - loss: 1.0003 - categorical_accuracy: 0.6280 - val_loss: 1.0415 - val_categorical_accuracy: 0.5850\n",
      "Epoch 45/100\n",
      "250/250 [==============================] - 75s 299ms/step - loss: 1.0017 - categorical_accuracy: 0.6330 - val_loss: 1.0351 - val_categorical_accuracy: 0.5850\n",
      "Epoch 46/100\n",
      "250/250 [==============================] - 75s 301ms/step - loss: 0.9927 - categorical_accuracy: 0.6450 - val_loss: 1.0440 - val_categorical_accuracy: 0.6000\n",
      "Epoch 47/100\n",
      "250/250 [==============================] - 75s 301ms/step - loss: 1.0168 - categorical_accuracy: 0.6370 - val_loss: 1.0375 - val_categorical_accuracy: 0.5850\n",
      "Epoch 48/100\n",
      "250/250 [==============================] - 75s 301ms/step - loss: 0.9970 - categorical_accuracy: 0.6360 - val_loss: 1.0242 - val_categorical_accuracy: 0.6100\n",
      "Epoch 49/100\n",
      "250/250 [==============================] - 75s 301ms/step - loss: 1.0053 - categorical_accuracy: 0.6100 - val_loss: 1.0125 - val_categorical_accuracy: 0.6050\n",
      "Epoch 50/100\n",
      "250/250 [==============================] - 75s 300ms/step - loss: 1.0013 - categorical_accuracy: 0.6170 - val_loss: 1.0229 - val_categorical_accuracy: 0.5900\n",
      "Epoch 51/100\n",
      "250/250 [==============================] - 75s 300ms/step - loss: 0.9568 - categorical_accuracy: 0.6290 - val_loss: 1.0150 - val_categorical_accuracy: 0.6000\n",
      "Epoch 52/100\n",
      "250/250 [==============================] - 75s 300ms/step - loss: 0.9536 - categorical_accuracy: 0.6460 - val_loss: 1.0146 - val_categorical_accuracy: 0.5950\n",
      "Epoch 53/100\n",
      "250/250 [==============================] - 75s 300ms/step - loss: 0.9458 - categorical_accuracy: 0.6620 - val_loss: 1.0002 - val_categorical_accuracy: 0.6250\n",
      "Epoch 54/100\n",
      "250/250 [==============================] - 75s 300ms/step - loss: 0.9427 - categorical_accuracy: 0.6490 - val_loss: 1.0032 - val_categorical_accuracy: 0.6200\n",
      "Epoch 55/100\n",
      "250/250 [==============================] - 75s 300ms/step - loss: 0.9308 - categorical_accuracy: 0.6650 - val_loss: 0.9907 - val_categorical_accuracy: 0.6100\n",
      "Epoch 56/100\n",
      "250/250 [==============================] - 75s 300ms/step - loss: 0.9377 - categorical_accuracy: 0.6590 - val_loss: 0.9999 - val_categorical_accuracy: 0.6250\n",
      "Epoch 57/100\n",
      "250/250 [==============================] - 75s 300ms/step - loss: 0.9344 - categorical_accuracy: 0.6500 - val_loss: 1.0024 - val_categorical_accuracy: 0.5950\n",
      "Epoch 58/100\n",
      "250/250 [==============================] - 75s 300ms/step - loss: 0.9355 - categorical_accuracy: 0.6610 - val_loss: 0.9798 - val_categorical_accuracy: 0.6550\n",
      "Epoch 59/100\n",
      "250/250 [==============================] - 75s 301ms/step - loss: 0.9218 - categorical_accuracy: 0.6530 - val_loss: 0.9805 - val_categorical_accuracy: 0.6100\n",
      "Epoch 60/100\n",
      "250/250 [==============================] - 75s 299ms/step - loss: 0.9252 - categorical_accuracy: 0.6530 - val_loss: 0.9724 - val_categorical_accuracy: 0.6500\n",
      "Epoch 61/100\n",
      "250/250 [==============================] - 75s 301ms/step - loss: 0.9212 - categorical_accuracy: 0.6680 - val_loss: 0.9687 - val_categorical_accuracy: 0.6700\n",
      "Epoch 62/100\n",
      "250/250 [==============================] - 75s 300ms/step - loss: 0.9196 - categorical_accuracy: 0.6660 - val_loss: 0.9746 - val_categorical_accuracy: 0.6350\n",
      "Epoch 63/100\n",
      "250/250 [==============================] - 75s 299ms/step - loss: 0.9167 - categorical_accuracy: 0.6560 - val_loss: 0.9692 - val_categorical_accuracy: 0.6450\n",
      "Epoch 64/100\n",
      "250/250 [==============================] - 75s 300ms/step - loss: 0.9065 - categorical_accuracy: 0.6700 - val_loss: 0.9657 - val_categorical_accuracy: 0.6400\n",
      "Epoch 65/100\n",
      "250/250 [==============================] - 75s 300ms/step - loss: 0.8958 - categorical_accuracy: 0.6890 - val_loss: 0.9643 - val_categorical_accuracy: 0.6450\n",
      "Epoch 66/100\n",
      "250/250 [==============================] - 76s 305ms/step - loss: 0.9074 - categorical_accuracy: 0.6700 - val_loss: 0.9742 - val_categorical_accuracy: 0.6500\n",
      "Epoch 67/100\n",
      "250/250 [==============================] - 77s 310ms/step - loss: 0.8916 - categorical_accuracy: 0.6650 - val_loss: 0.9551 - val_categorical_accuracy: 0.6500\n",
      "Epoch 68/100\n",
      "250/250 [==============================] - 77s 309ms/step - loss: 0.9200 - categorical_accuracy: 0.6560 - val_loss: 0.9592 - val_categorical_accuracy: 0.6400\n",
      "Epoch 69/100\n",
      "250/250 [==============================] - 78s 312ms/step - loss: 0.8968 - categorical_accuracy: 0.6630 - val_loss: 0.9651 - val_categorical_accuracy: 0.6450\n",
      "Epoch 70/100\n",
      "250/250 [==============================] - 78s 312ms/step - loss: 0.8989 - categorical_accuracy: 0.6790 - val_loss: 0.9472 - val_categorical_accuracy: 0.6750\n",
      "Epoch 71/100\n",
      "250/250 [==============================] - 77s 308ms/step - loss: 0.8991 - categorical_accuracy: 0.6670 - val_loss: 0.9485 - val_categorical_accuracy: 0.6550\n",
      "Epoch 72/100\n",
      "250/250 [==============================] - 77s 307ms/step - loss: 0.8787 - categorical_accuracy: 0.6750 - val_loss: 0.9506 - val_categorical_accuracy: 0.6800\n",
      "Epoch 73/100\n",
      "250/250 [==============================] - 77s 308ms/step - loss: 0.8675 - categorical_accuracy: 0.6730 - val_loss: 0.9381 - val_categorical_accuracy: 0.6950\n",
      "Epoch 74/100\n",
      "250/250 [==============================] - 77s 308ms/step - loss: 0.8588 - categorical_accuracy: 0.7010 - val_loss: 0.9505 - val_categorical_accuracy: 0.6600\n",
      "Epoch 75/100\n",
      "250/250 [==============================] - 77s 307ms/step - loss: 0.8828 - categorical_accuracy: 0.6720 - val_loss: 0.9443 - val_categorical_accuracy: 0.6700\n",
      "Epoch 76/100\n",
      "250/250 [==============================] - 77s 307ms/step - loss: 0.8585 - categorical_accuracy: 0.7010 - val_loss: 0.9365 - val_categorical_accuracy: 0.6700\n",
      "Epoch 77/100\n",
      "250/250 [==============================] - 78s 311ms/step - loss: 0.8549 - categorical_accuracy: 0.6810 - val_loss: 0.9521 - val_categorical_accuracy: 0.6300\n",
      "Epoch 78/100\n",
      "250/250 [==============================] - 77s 308ms/step - loss: 0.8682 - categorical_accuracy: 0.6780 - val_loss: 0.9293 - val_categorical_accuracy: 0.7000\n",
      "Epoch 79/100\n",
      "250/250 [==============================] - 77s 308ms/step - loss: 0.8897 - categorical_accuracy: 0.6670 - val_loss: 0.9254 - val_categorical_accuracy: 0.6800\n",
      "Epoch 80/100\n",
      "250/250 [==============================] - 77s 310ms/step - loss: 0.8670 - categorical_accuracy: 0.6790 - val_loss: 0.9386 - val_categorical_accuracy: 0.6750\n",
      "Epoch 81/100\n",
      "250/250 [==============================] - 77s 307ms/step - loss: 0.8394 - categorical_accuracy: 0.6920 - val_loss: 0.9245 - val_categorical_accuracy: 0.6650\n",
      "Epoch 82/100\n",
      "250/250 [==============================] - 77s 310ms/step - loss: 0.8641 - categorical_accuracy: 0.6800 - val_loss: 0.9276 - val_categorical_accuracy: 0.6650\n",
      "Epoch 83/100\n",
      "250/250 [==============================] - 77s 308ms/step - loss: 0.8570 - categorical_accuracy: 0.6770 - val_loss: 0.9294 - val_categorical_accuracy: 0.6850\n",
      "Epoch 84/100\n",
      "250/250 [==============================] - 77s 309ms/step - loss: 0.8221 - categorical_accuracy: 0.6860 - val_loss: 0.9253 - val_categorical_accuracy: 0.6750\n",
      "Epoch 85/100\n",
      "250/250 [==============================] - 77s 307ms/step - loss: 0.8576 - categorical_accuracy: 0.6930 - val_loss: 0.9432 - val_categorical_accuracy: 0.6550\n",
      "Epoch 86/100\n",
      "250/250 [==============================] - 77s 308ms/step - loss: 0.8462 - categorical_accuracy: 0.6830 - val_loss: 0.9202 - val_categorical_accuracy: 0.6650\n",
      "Epoch 87/100\n",
      "250/250 [==============================] - 78s 311ms/step - loss: 0.8335 - categorical_accuracy: 0.6720 - val_loss: 0.9046 - val_categorical_accuracy: 0.6800\n",
      "Epoch 88/100\n",
      "250/250 [==============================] - 78s 311ms/step - loss: 0.8172 - categorical_accuracy: 0.6940 - val_loss: 0.9092 - val_categorical_accuracy: 0.6850\n",
      "Epoch 89/100\n",
      "250/250 [==============================] - 78s 313ms/step - loss: 0.8057 - categorical_accuracy: 0.6970 - val_loss: 0.9048 - val_categorical_accuracy: 0.6750\n",
      "Epoch 90/100\n",
      "250/250 [==============================] - 78s 314ms/step - loss: 0.8138 - categorical_accuracy: 0.6810 - val_loss: 0.8971 - val_categorical_accuracy: 0.6850\n",
      "Epoch 91/100\n",
      "250/250 [==============================] - 78s 312ms/step - loss: 0.8453 - categorical_accuracy: 0.6800 - val_loss: 0.9068 - val_categorical_accuracy: 0.6800\n",
      "Epoch 92/100\n",
      "250/250 [==============================] - 77s 310ms/step - loss: 0.8401 - categorical_accuracy: 0.7000 - val_loss: 0.9054 - val_categorical_accuracy: 0.6800\n",
      "Epoch 93/100\n",
      "250/250 [==============================] - 77s 308ms/step - loss: 0.8061 - categorical_accuracy: 0.7020 - val_loss: 0.9120 - val_categorical_accuracy: 0.6800\n",
      "Epoch 94/100\n",
      "250/250 [==============================] - 77s 309ms/step - loss: 0.8047 - categorical_accuracy: 0.7070 - val_loss: 0.9025 - val_categorical_accuracy: 0.6850\n",
      "Epoch 95/100\n",
      "250/250 [==============================] - 77s 308ms/step - loss: 0.8251 - categorical_accuracy: 0.6980 - val_loss: 0.9120 - val_categorical_accuracy: 0.6750\n",
      "Epoch 96/100\n",
      "250/250 [==============================] - 78s 313ms/step - loss: 0.8067 - categorical_accuracy: 0.6950 - val_loss: 0.8950 - val_categorical_accuracy: 0.6850\n",
      "Epoch 97/100\n",
      "250/250 [==============================] - 77s 309ms/step - loss: 0.7929 - categorical_accuracy: 0.6990 - val_loss: 0.8968 - val_categorical_accuracy: 0.6850\n",
      "Epoch 98/100\n",
      "250/250 [==============================] - 77s 309ms/step - loss: 0.7848 - categorical_accuracy: 0.7230 - val_loss: 0.9067 - val_categorical_accuracy: 0.6750\n",
      "Epoch 99/100\n",
      "250/250 [==============================] - 77s 310ms/step - loss: 0.8158 - categorical_accuracy: 0.6900 - val_loss: 0.9154 - val_categorical_accuracy: 0.6550\n",
      "Epoch 100/100\n",
      "250/250 [==============================] - 78s 311ms/step - loss: 0.8254 - categorical_accuracy: 0.6770 - val_loss: 0.8880 - val_categorical_accuracy: 0.6800\n"
     ]
    }
   ],
   "source": [
    "# This code cannot work with categorical cross entropy, sparse categorical crossentropy may be used\n",
    "# history = model.fit(tf_train_set, validation_data=tf_validation_set, epochs=num_epochs, callbacks = [callback])\n",
    "# We try the approach by using the features and labels as described in the github, this may work with categorical crossentropy\n",
    "# tf.config.run_functions_eagerly(True) # this must be enabled to work with the sliced datasets\n",
    "history = model.fit(train_dataset_tf1, validation_data=val_dataset_tf1, epochs=num_epochs, callbacks = [callback], batch_size=batch_size)"
   ]
  },
  {
   "cell_type": "code",
   "execution_count": 131,
   "metadata": {
    "id": "lCNAiy2v_cIO"
   },
   "outputs": [],
   "source": [
    "import matplotlib.pyplot as plt\n",
    "\n",
    "def plot_graphs(history, string):\n",
    "  plt.plot(history.history[string])\n",
    "  plt.plot(history.history['val_'+string])\n",
    "  plt.xlabel(\"Epochs\")\n",
    "  plt.ylabel(string)\n",
    "  plt.legend([string, 'val_'+string])\n",
    "  plt.show()"
   ]
  },
  {
   "cell_type": "code",
   "execution_count": 132,
   "metadata": {
    "colab": {
     "base_uri": "https://localhost:8080/",
     "height": 541
    },
    "id": "d4-puqEs_cIO",
    "outputId": "d045ccdf-60a4-43c4-c96c-48f1257e01bf"
   },
   "outputs": [
    {
     "data": {
      "image/png": "[encoded data removed]",
      "text/plain": [
       "<Figure size 432x288 with 1 Axes>"
      ]
     },
     "metadata": {},
     "output_type": "display_data"
    },
    {
     "data": {
      "image/png": "[encoded data removed]",
      "text/plain": [
       "<Figure size 432x288 with 1 Axes>"
      ]
     },
     "metadata": {},
     "output_type": "display_data"
    }
   ],
   "source": [
    "plot_graphs(history, 'categorical_accuracy')\n",
    "plot_graphs(history, 'loss')"
   ]
  },
  {
   "cell_type": "markdown",
   "metadata": {
    "id": "QmlGrSvT_cIO"
   },
   "source": [
    "Saving MOdel"
   ]
  },
  {
   "cell_type": "code",
   "execution_count": null,
   "metadata": {
    "id": "KnjqW-O6_cIO"
   },
   "outputs": [],
   "source": [
    "# tfmodel = tf.saved_model.save(model, os.path.join(dir_root, 'models/tfsample'))"
   ]
  },
  {
   "cell_type": "code",
   "execution_count": 178,
   "metadata": {},
   "outputs": [
    {
     "name": "stdout",
     "output_type": "stream",
     "text": [
      "WARNING:tensorflow:Skipping full serialization of Keras layer <keras.layers.core.Dropout object at 0x0000026FA7F91100>, because it is not built.\n"
     ]
    },
    {
     "name": "stderr",
     "output_type": "stream",
     "text": [
      "WARNING:tensorflow:Skipping full serialization of Keras layer <keras.layers.core.Dropout object at 0x0000026FA7F91100>, because it is not built.\n"
     ]
    },
    {
     "name": "stdout",
     "output_type": "stream",
     "text": [
      "WARNING:tensorflow:Skipping full serialization of Keras layer <keras.layers.core.Dropout object at 0x000002715BD297C0>, because it is not built.\n"
     ]
    },
    {
     "name": "stderr",
     "output_type": "stream",
     "text": [
      "WARNING:tensorflow:Skipping full serialization of Keras layer <keras.layers.core.Dropout object at 0x000002715BD297C0>, because it is not built.\n"
     ]
    },
    {
     "name": "stdout",
     "output_type": "stream",
     "text": [
      "WARNING:tensorflow:Skipping full serialization of Keras layer <keras.layers.core.Dropout object at 0x000002715BD2C160>, because it is not built.\n"
     ]
    },
    {
     "name": "stderr",
     "output_type": "stream",
     "text": [
      "WARNING:tensorflow:Skipping full serialization of Keras layer <keras.layers.core.Dropout object at 0x000002715BD2C160>, because it is not built.\n"
     ]
    },
    {
     "name": "stdout",
     "output_type": "stream",
     "text": [
      "WARNING:tensorflow:Skipping full serialization of Keras layer <keras.layers.core.Dropout object at 0x000002715BD3D160>, because it is not built.\n"
     ]
    },
    {
     "name": "stderr",
     "output_type": "stream",
     "text": [
      "WARNING:tensorflow:Skipping full serialization of Keras layer <keras.layers.core.Dropout object at 0x000002715BD3D160>, because it is not built.\n"
     ]
    },
    {
     "name": "stdout",
     "output_type": "stream",
     "text": [
      "WARNING:tensorflow:Skipping full serialization of Keras layer <keras.layers.core.Dropout object at 0x0000026FBE984370>, because it is not built.\n"
     ]
    },
    {
     "name": "stderr",
     "output_type": "stream",
     "text": [
      "WARNING:tensorflow:Skipping full serialization of Keras layer <keras.layers.core.Dropout object at 0x0000026FBE984370>, because it is not built.\n"
     ]
    },
    {
     "name": "stdout",
     "output_type": "stream",
     "text": [
      "WARNING:tensorflow:Skipping full serialization of Keras layer <keras.layers.core.Dropout object at 0x0000026FA7F9F610>, because it is not built.\n"
     ]
    },
    {
     "name": "stderr",
     "output_type": "stream",
     "text": [
      "WARNING:tensorflow:Skipping full serialization of Keras layer <keras.layers.core.Dropout object at 0x0000026FA7F9F610>, because it is not built.\n",
      "WARNING:absl:Found untraced functions such as embeddings_layer_call_fn, embeddings_layer_call_and_return_conditional_losses, transformer_layer_call_fn, transformer_layer_call_and_return_conditional_losses, LayerNorm_layer_call_fn while saving (showing 5 of 410). These functions will not be directly callable after loading.\n"
     ]
    },
    {
     "name": "stdout",
     "output_type": "stream",
     "text": [
      "INFO:tensorflow:Assets written to: C:\\Users\\entea\\CodeProjects\\clasificaion_robos_fge\\models/robospretrained1000\\saved_model\\1\\assets\n"
     ]
    },
    {
     "name": "stderr",
     "output_type": "stream",
     "text": [
      "INFO:tensorflow:Assets written to: C:\\Users\\entea\\CodeProjects\\clasificaion_robos_fge\\models/robospretrained1000\\saved_model\\1\\assets\n"
     ]
    }
   ],
   "source": [
    "model.save_pretrained(os.path.join(dir_root, 'models/robospretrained1000'), saved_model=True)"
   ]
  },
  {
   "cell_type": "code",
   "execution_count": 177,
   "metadata": {},
   "outputs": [
    {
     "name": "stdout",
     "output_type": "stream",
     "text": [
      "WARNING:tensorflow:Skipping full serialization of Keras layer <keras.layers.core.Dropout object at 0x0000026FA7F91100>, because it is not built.\n",
      "WARNING:tensorflow:Skipping full serialization of Keras layer <keras.layers.core.Dropout object at 0x000002715BD297C0>, because it is not built.\n",
      "WARNING:tensorflow:Skipping full serialization of Keras layer <keras.layers.core.Dropout object at 0x000002715BD2C160>, because it is not built.\n",
      "WARNING:tensorflow:Skipping full serialization of Keras layer <keras.layers.core.Dropout object at 0x000002715BD3D160>, because it is not built.\n",
      "WARNING:tensorflow:Skipping full serialization of Keras layer <keras.layers.core.Dropout object at 0x0000026FBE984370>, because it is not built.\n",
      "WARNING:tensorflow:Skipping full serialization of Keras layer <keras.layers.core.Dropout object at 0x0000026FA7F9F610>, because it is not built.\n"
     ]
    },
    {
     "name": "stderr",
     "output_type": "stream",
     "text": [
      "WARNING:absl:Found untraced functions such as embeddings_layer_call_fn, embeddings_layer_call_and_return_conditional_losses, transformer_layer_call_fn, transformer_layer_call_and_return_conditional_losses, LayerNorm_layer_call_fn while saving (showing 5 of 410). These functions will not be directly callable after loading.\n"
     ]
    },
    {
     "name": "stdout",
     "output_type": "stream",
     "text": [
      "INFO:tensorflow:Assets written to: models/robossave\\assets\n"
     ]
    },
    {
     "name": "stderr",
     "output_type": "stream",
     "text": [
      "INFO:tensorflow:Assets written to: models/robossave\\assets\n"
     ]
    }
   ],
   "source": [
    "# model.save('models/robossave')"
   ]
  },
  {
   "cell_type": "markdown",
   "metadata": {
    "id": "izMBsKG8_cIO"
   },
   "source": [
    "## Evaluating the model"
   ]
  },
  {
   "cell_type": "code",
   "execution_count": 135,
   "metadata": {
    "id": "lHAjkl4p_cIO"
   },
   "outputs": [
    {
     "name": "stderr",
     "output_type": "stream",
     "text": [
      "Loading cached shuffled indices for dataset at C:\\Users\\entea\\.cache\\huggingface\\datasets\\csv\\default-81e0f6b899830a0e\\0.0.0\\51cce309a08df9c4d82ffd9363bbe090bf173197fc01a71b034e8594995a1a58\\cache-6674742ccae25dc1.arrow\n"
     ]
    }
   ],
   "source": [
    "tf_test_set = tokenized_dataset[\"test\"].shuffle(seed=42).select(range(4000)).to_tf_dataset(\n",
    "    columns=[\"attention_mask\", \"input_ids\", \"labels\"],\n",
    "    shuffle=False,\n",
    "    batch_size=16,\n",
    "    collate_fn=data_collator,\n",
    ")"
   ]
  },
  {
   "cell_type": "code",
   "execution_count": 136,
   "metadata": {
    "colab": {
     "base_uri": "https://localhost:8080/",
     "height": 36
    },
    "id": "CZ-1n55S_cIO",
    "outputId": "e36eb7a3-b114-4b48-bcea-25d8eebf799f"
   },
   "outputs": [
    {
     "data": {
      "text/plain": [
       "'4.2.0'"
      ]
     },
     "execution_count": 136,
     "metadata": {},
     "output_type": "execute_result"
    }
   ],
   "source": [
    "import tensorflow_datasets as tfds\n",
    "tfds.__version__"
   ]
  },
  {
   "cell_type": "code",
   "execution_count": 137,
   "metadata": {
    "id": "DyyXCSBE_cIO"
   },
   "outputs": [],
   "source": [
    "test_npy = tfds.as_numpy(tf_test_set)\n",
    "# for count, i in enumerate(test_npy):\n",
    "#     print(count, i)"
   ]
  },
  {
   "cell_type": "code",
   "execution_count": 138,
   "metadata": {
    "colab": {
     "base_uri": "https://localhost:8080/"
    },
    "id": "B2UpUz79_cIP",
    "outputId": "b18a8771-3675-4cc9-eaa7-ea8eb1c4d268"
   },
   "outputs": [
    {
     "data": {
      "text/plain": [
       "tensorflow_datasets.core.dataset_utils._IterableDataset"
      ]
     },
     "execution_count": 138,
     "metadata": {},
     "output_type": "execute_result"
    }
   ],
   "source": [
    "type(test_npy)"
   ]
  },
  {
   "cell_type": "markdown",
   "metadata": {
    "id": "Ba8Gt1qm_cIP"
   },
   "source": [
    "The next code brings the last batch of 16 values"
   ]
  },
  {
   "cell_type": "code",
   "execution_count": 142,
   "metadata": {
    "colab": {
     "base_uri": "https://localhost:8080/"
    },
    "id": "DfQjn4NZ_cIP",
    "outputId": "3510950b-01e8-4d18-e961-48b809fe4dce"
   },
   "outputs": [
    {
     "data": {
      "text/plain": [
       "(array([4, 4, 4, 1, 1, 2, 5, 4, 4, 4, 3, 4, 2, 5, 3, 1], dtype=int64), (16,))"
      ]
     },
     "execution_count": 142,
     "metadata": {},
     "output_type": "execute_result"
    }
   ],
   "source": [
    "for batch in test_npy:\n",
    "    y_true = batch['labels']\n",
    "y_true, y_true.shape"
   ]
  },
  {
   "cell_type": "markdown",
   "metadata": {},
   "source": [
    "This code joins all the batch horizontally"
   ]
  },
  {
   "cell_type": "code",
   "execution_count": 143,
   "metadata": {
    "id": "GxiEsTNp_cIP"
   },
   "outputs": [],
   "source": [
    "iterable = list(batch['labels'] for batch in test_npy)\n",
    "y_true = np.hstack(iterable)"
   ]
  },
  {
   "cell_type": "code",
   "execution_count": 144,
   "metadata": {
    "colab": {
     "base_uri": "https://localhost:8080/"
    },
    "id": "tOf94Vyp_cIP",
    "outputId": "26861f87-31e2-4bfb-bce3-79c510fdec32"
   },
   "outputs": [
    {
     "data": {
      "text/plain": [
       "(4000,)"
      ]
     },
     "execution_count": 144,
     "metadata": {},
     "output_type": "execute_result"
    }
   ],
   "source": [
    "y_true.shape\n"
   ]
  },
  {
   "cell_type": "code",
   "execution_count": 145,
   "metadata": {
    "colab": {
     "base_uri": "https://localhost:8080/"
    },
    "id": "gD5kWMhd_cIP",
    "outputId": "fd0f5b4a-eceb-4661-f859-4c78540cad54"
   },
   "outputs": [
    {
     "data": {
      "text/plain": [
       "array([4, 5, 4, 4, 5, 4, 5, 2, 2, 0, 1, 2, 4, 4, 4, 1, 0, 5, 4, 2, 0, 4,\n",
       "       5, 2, 1, 2, 0, 2, 2, 2, 1, 0, 5, 4, 1, 4, 0, 4, 4, 5, 4, 2, 4, 4,\n",
       "       4, 3, 4, 4, 4, 4, 4, 4, 1, 5, 0, 1, 4, 3, 4, 5, 5, 1, 1, 0],\n",
       "      dtype=int64)"
      ]
     },
     "execution_count": 145,
     "metadata": {},
     "output_type": "execute_result"
    }
   ],
   "source": [
    "y_true[:64]"
   ]
  },
  {
   "cell_type": "code",
   "execution_count": 146,
   "metadata": {
    "colab": {
     "base_uri": "https://localhost:8080/"
    },
    "id": "Ou23DZaU_cIP",
    "outputId": "3bd0f862-bf13-4bbb-c3d1-77a2a5f73d5d"
   },
   "outputs": [
    {
     "name": "stdout",
     "output_type": "stream",
     "text": [
      "[4 5 4 4 5 4 5 2 2 0 1 2 4 4 4 1]\n",
      "[0 5 4 2 0 4 5 2 1 2 0 2 2 2 1 0]\n",
      "[5 4 1 4 0 4 4 5 4 2 4 4 4 3 4 4]\n",
      "[4 4 4 4 1 5 0 1 4 3 4 5 5 1 1 0]\n"
     ]
    }
   ],
   "source": [
    "for batch, datay in enumerate(test_npy):\n",
    "    if batch < 4:\n",
    "        print(datay['labels'])\n",
    "    "
   ]
  },
  {
   "cell_type": "code",
   "execution_count": 148,
   "metadata": {
    "colab": {
     "base_uri": "https://localhost:8080/"
    },
    "id": "dh_2BOrZrS8m",
    "outputId": "04b020b2-ae2e-49eb-82c6-a231ac0438cc"
   },
   "outputs": [],
   "source": [
    "# model.evaluate(tf_train_set) # This does not work if the dataset is created tf slices"
   ]
  },
  {
   "cell_type": "code",
   "execution_count": 151,
   "metadata": {
    "colab": {
     "base_uri": "https://localhost:8080/"
    },
    "id": "ckjdrsF9_cIP",
    "outputId": "58ca79e5-3005-40c4-efab-3669bd297884"
   },
   "outputs": [],
   "source": [
    "# model.evaluate(tf_test_set) # This does not work if the dataset is created with tf slices"
   ]
  },
  {
   "cell_type": "code",
   "execution_count": 152,
   "metadata": {
    "colab": {
     "base_uri": "https://localhost:8080/"
    },
    "id": "AXex2ECX_cIP",
    "outputId": "2ecff4fc-212a-4f3e-eeba-59d3dbb9f3a5"
   },
   "outputs": [
    {
     "data": {
      "text/plain": [
       "array([[ 1.3241892 , -2.351578  , -3.017151  , -4.9944115 ,  2.6896803 ,\n",
       "        -1.2972573 ],\n",
       "       [ 2.2291806 , -0.9498988 , -4.8152065 , -5.0792017 ,  0.293818  ,\n",
       "         3.1419418 ],\n",
       "       [-3.6460516 , -0.24928898, -0.09582503, -1.3296382 ,  1.2443421 ,\n",
       "        -2.921463  ],\n",
       "       [-0.4583598 , -0.12220911,  0.05152483,  1.0744514 , -0.02631693,\n",
       "        -5.476778  ],\n",
       "       [ 0.8123544 ,  0.93461514, -3.4918792 , -4.5521502 , -1.3536967 ,\n",
       "         3.227353  ],\n",
       "       [-1.5140864 , -1.4887536 , -0.6285342 , -2.6916058 ,  1.707088  ,\n",
       "        -1.6373582 ],\n",
       "       [ 1.062909  ,  0.5529172 , -3.323141  , -4.701227  , -0.7302443 ,\n",
       "         2.640109  ],\n",
       "       [-2.0266376 , -1.1818603 ,  0.2447988 , -1.2595344 ,  1.7195528 ,\n",
       "        -4.4763727 ],\n",
       "       [-3.0649834 , -1.7294426 ,  2.0048552 ,  0.00790912, -0.10358474,\n",
       "        -2.2586708 ],\n",
       "       [-3.8824563 , -1.0137862 ,  0.3981405 , -0.7967254 ,  1.5969067 ,\n",
       "        -3.4101148 ]], dtype=float32)"
      ]
     },
     "execution_count": 152,
     "metadata": {},
     "output_type": "execute_result"
    }
   ],
   "source": [
    "model.predict(tf_test_set)['logits'][:10]"
   ]
  },
  {
   "cell_type": "markdown",
   "metadata": {
    "id": "5_ld_7_9_cIP"
   },
   "source": [
    "The next code will get the probabilities using softmax"
   ]
  },
  {
   "cell_type": "code",
   "execution_count": 153,
   "metadata": {
    "colab": {
     "base_uri": "https://localhost:8080/"
    },
    "id": "GdWvvn0N_cIQ",
    "outputId": "2fc2cd4a-650d-4cda-9c20-775d1a489bd6"
   },
   "outputs": [
    {
     "data": {
      "text/plain": [
       "array([[1.98787555e-01, 5.03528165e-03, 2.58802832e-03, 3.58307501e-04,\n",
       "        7.78779387e-01, 1.44513864e-02],\n",
       "       [2.71832943e-01, 1.13147618e-02, 2.37117463e-04, 1.82100819e-04,\n",
       "        3.92450429e-02, 6.77187979e-01],\n",
       "       [4.74163936e-03, 1.41619742e-01, 1.65109605e-01, 4.80766371e-02,\n",
       "        6.30666196e-01, 9.78618581e-03],\n",
       "       [9.76291373e-02, 1.36636853e-01, 1.62562221e-01, 4.52137917e-01,\n",
       "        1.50388047e-01, 6.45814987e-04],\n",
       "       [7.43349269e-02, 8.40020999e-02, 1.00435654e-03, 3.47870984e-04,\n",
       "        8.52096640e-03, 8.31789732e-01],\n",
       "       [3.25737484e-02, 3.34094688e-02, 7.89692551e-02, 1.00340759e-02,\n",
       "        8.16217542e-01, 2.87959483e-02],\n",
       "       [1.50968373e-01, 9.06565785e-02, 1.87952723e-03, 4.73754568e-04,\n",
       "        2.51263510e-02, 7.30895400e-01],\n",
       "       [1.73550844e-02, 4.03932557e-02, 1.68228269e-01, 3.73745002e-02,\n",
       "        7.35150874e-01, 1.49802875e-03],\n",
       "       [4.82812850e-03, 1.83567926e-02, 7.68390000e-01, 1.04308344e-01,\n",
       "        9.33034793e-02, 1.08132418e-02],\n",
       "       [2.82423408e-03, 4.97448593e-02, 2.04145685e-01, 6.18040077e-02,\n",
       "        6.76951826e-01, 4.52935137e-03]], dtype=float32)"
      ]
     },
     "execution_count": 153,
     "metadata": {},
     "output_type": "execute_result"
    }
   ],
   "source": [
    "y_logits = model.predict(tf_test_set).logits\n",
    "yprob = tf.nn.softmax(y_logits, axis=-1).numpy()\n",
    "yprob[:10]"
   ]
  },
  {
   "cell_type": "code",
   "execution_count": 154,
   "metadata": {
    "colab": {
     "base_uri": "https://localhost:8080/"
    },
    "id": "k-7J3bPc1UFw",
    "outputId": "10efb2a5-62b0-4a13-98a1-bb2d5003d565"
   },
   "outputs": [
    {
     "data": {
      "text/plain": [
       "(4000, 6)"
      ]
     },
     "execution_count": 154,
     "metadata": {},
     "output_type": "execute_result"
    }
   ],
   "source": [
    "yprob.shape"
   ]
  },
  {
   "cell_type": "code",
   "execution_count": 155,
   "metadata": {
    "colab": {
     "base_uri": "https://localhost:8080/"
    },
    "id": "j3c_WFE2_cIQ",
    "outputId": "e9951f16-9c08-4ea3-b403-6c16bf51482d"
   },
   "outputs": [
    {
     "data": {
      "text/plain": [
       "<tf.Tensor: shape=(64,), dtype=int64, numpy=\n",
       "array([4, 5, 4, 3, 5, 4, 5, 4, 2, 4, 2, 2, 4, 4, 4, 1, 5, 5, 4, 4, 5, 4,\n",
       "       1, 1, 1, 2, 4, 2, 2, 3, 1, 5, 4, 4, 4, 4, 0, 4, 2, 5, 4, 2, 2, 4,\n",
       "       4, 2, 4, 4, 4, 4, 4, 4, 1, 5, 5, 4, 4, 4, 4, 5, 5, 4, 1, 1],\n",
       "      dtype=int64)>"
      ]
     },
     "execution_count": 155,
     "metadata": {},
     "output_type": "execute_result"
    }
   ],
   "source": [
    "yhat = tf.argmax(yprob, axis=1)\n",
    "# yhat = tf.argmax(yprob, 1)\n",
    "yhat[:64]"
   ]
  },
  {
   "cell_type": "code",
   "execution_count": 156,
   "metadata": {
    "colab": {
     "base_uri": "https://localhost:8080/"
    },
    "id": "gpxOhvDr_cIQ",
    "outputId": "995c2ee9-3c08-43fb-f701-a1145c0ba36a"
   },
   "outputs": [
    {
     "data": {
      "text/plain": [
       "<tf.Tensor: shape=(20, 6), dtype=float32, numpy=\n",
       "array([[0., 0., 0., 0., 1., 0.],\n",
       "       [0., 0., 0., 0., 0., 1.],\n",
       "       [0., 0., 0., 0., 1., 0.],\n",
       "       [0., 0., 0., 1., 0., 0.],\n",
       "       [0., 0., 0., 0., 0., 1.],\n",
       "       [0., 0., 0., 0., 1., 0.],\n",
       "       [0., 0., 0., 0., 0., 1.],\n",
       "       [0., 0., 0., 0., 1., 0.],\n",
       "       [0., 0., 1., 0., 0., 0.],\n",
       "       [0., 0., 0., 0., 1., 0.],\n",
       "       [0., 0., 1., 0., 0., 0.],\n",
       "       [0., 0., 1., 0., 0., 0.],\n",
       "       [0., 0., 0., 0., 1., 0.],\n",
       "       [0., 0., 0., 0., 1., 0.],\n",
       "       [0., 0., 0., 0., 1., 0.],\n",
       "       [0., 1., 0., 0., 0., 0.],\n",
       "       [0., 0., 0., 0., 0., 1.],\n",
       "       [0., 0., 0., 0., 0., 1.],\n",
       "       [0., 0., 0., 0., 1., 0.],\n",
       "       [0., 0., 0., 0., 1., 0.]], dtype=float32)>"
      ]
     },
     "execution_count": 156,
     "metadata": {},
     "output_type": "execute_result"
    }
   ],
   "source": [
    "yhat_onehot = tf.one_hot(yhat, depth=6, dtype=tf.float32)\n",
    "yhat_onehot[:20]"
   ]
  },
  {
   "cell_type": "markdown",
   "metadata": {
    "id": "eCkQO4cc_cIQ"
   },
   "source": [
    "In order to compute any type of metrics using sklearn or other library, it is necessary to contrast ground truth with predicted values. Because of that, we can see that the test tensorflow set contains numbered labels. According to the link: https://analyticsindiamag.com/step-by-step-guide-to-implement-multi-class-classification-with-bert-tensorflow/ the following code is tried to get the one-hot encoding"
   ]
  },
  {
   "cell_type": "code",
   "execution_count": 157,
   "metadata": {
    "colab": {
     "base_uri": "https://localhost:8080/"
    },
    "id": "zNWaPkJY_cIQ",
    "outputId": "8d403450-dc92-493c-8b6c-ac76ba6cca6d"
   },
   "outputs": [
    {
     "data": {
      "text/plain": [
       "(array([4, 5, 4, 4, 5, 4, 5, 2, 2, 0], dtype=int64),\n",
       " <tf.Tensor: shape=(10, 6), dtype=float32, numpy=\n",
       " array([[0., 0., 0., 0., 1., 0.],\n",
       "        [0., 0., 0., 0., 0., 1.],\n",
       "        [0., 0., 0., 0., 1., 0.],\n",
       "        [0., 0., 0., 0., 1., 0.],\n",
       "        [0., 0., 0., 0., 0., 1.],\n",
       "        [0., 0., 0., 0., 1., 0.],\n",
       "        [0., 0., 0., 0., 0., 1.],\n",
       "        [0., 0., 1., 0., 0., 0.],\n",
       "        [0., 0., 1., 0., 0., 0.],\n",
       "        [1., 0., 0., 0., 0., 0.]], dtype=float32)>)"
      ]
     },
     "execution_count": 157,
     "metadata": {},
     "output_type": "execute_result"
    }
   ],
   "source": [
    "ytrue_onehot = tf.one_hot(y_true, depth=6, dtype=tf.float32)\n",
    "y_true[:10], ytrue_onehot[:10]"
   ]
  },
  {
   "cell_type": "code",
   "execution_count": 158,
   "metadata": {
    "colab": {
     "base_uri": "https://localhost:8080/"
    },
    "id": "_Jg6MTZi_cIQ",
    "outputId": "94b901bd-5736-4488-a57b-f7f541ae2d07"
   },
   "outputs": [
    {
     "name": "stdout",
     "output_type": "stream",
     "text": [
      "              precision    recall  f1-score   support\n",
      "\n",
      "           0       0.57      0.25      0.35       328\n",
      "           1       0.61      0.55      0.58       613\n",
      "           2       0.58      0.57      0.58       651\n",
      "           3       0.31      0.07      0.11       285\n",
      "           4       0.67      0.87      0.76      1666\n",
      "           5       0.68      0.63      0.65       457\n",
      "\n",
      "   micro avg       0.64      0.64      0.64      4000\n",
      "   macro avg       0.57      0.49      0.50      4000\n",
      "weighted avg       0.61      0.64      0.61      4000\n",
      " samples avg       0.64      0.64      0.64      4000\n",
      "\n"
     ]
    }
   ],
   "source": [
    "from sklearn.metrics import  classification_report\n",
    "print(classification_report(y_true=ytrue_onehot, y_pred=yhat_onehot))"
   ]
  },
  {
   "cell_type": "code",
   "execution_count": 159,
   "metadata": {
    "colab": {
     "base_uri": "https://localhost:8080/"
    },
    "id": "mK1R6EaB_cIQ",
    "outputId": "11fb1203-e287-4b23-d552-5a6cc7b22215"
   },
   "outputs": [
    {
     "data": {
      "text/plain": [
       "array([[[3611,   61],\n",
       "        [ 246,   82]],\n",
       "\n",
       "       [[3172,  215],\n",
       "        [ 278,  335]],\n",
       "\n",
       "       [[3082,  267],\n",
       "        [ 280,  371]],\n",
       "\n",
       "       [[3672,   43],\n",
       "        [ 266,   19]],\n",
       "\n",
       "       [[1608,  726],\n",
       "        [ 212, 1454]],\n",
       "\n",
       "       [[3405,  138],\n",
       "        [ 168,  289]]], dtype=int64)"
      ]
     },
     "execution_count": 159,
     "metadata": {},
     "output_type": "execute_result"
    }
   ],
   "source": [
    "from sklearn.metrics import multilabel_confusion_matrix\n",
    "multilabel_confusion_matrix(y_true=ytrue_onehot, y_pred=yhat_onehot)"
   ]
  },
  {
   "cell_type": "code",
   "execution_count": 160,
   "metadata": {
    "colab": {
     "base_uri": "https://localhost:8080/"
    },
    "id": "O2hvANLZ_cIQ",
    "outputId": "a22a1988-fa39-4842-da3a-3d85bcc6910f"
   },
   "outputs": [
    {
     "data": {
      "text/plain": [
       "array([[  82,   91,   17,    9,   84,   45],\n",
       "       [  25,  335,   34,    3,  189,   27],\n",
       "       [   5,   35,  371,   15,  212,   13],\n",
       "       [   0,   20,  110,   19,  128,    8],\n",
       "       [  11,   42,   99,   15, 1454,   45],\n",
       "       [  20,   27,    7,    1,  113,  289]])"
      ]
     },
     "execution_count": 160,
     "metadata": {},
     "output_type": "execute_result"
    }
   ],
   "source": [
    "tf.math.confusion_matrix(y_true, yhat, 6).numpy()"
   ]
  },
  {
   "cell_type": "code",
   "execution_count": 161,
   "metadata": {
    "colab": {
     "base_uri": "https://localhost:8080/"
    },
    "id": "ZSqkqRL4_cIQ",
    "outputId": "90e23a1d-7b70-44f7-f962-2ea7f3e26f22"
   },
   "outputs": [
    {
     "data": {
      "text/plain": [
       "array([1., 1., 1., ..., 1., 0., 1.], dtype=float32)"
      ]
     },
     "execution_count": 161,
     "metadata": {},
     "output_type": "execute_result"
    }
   ],
   "source": [
    "tf.metrics.categorical_accuracy(y_true=ytrue_onehot, y_pred=yhat_onehot).numpy()"
   ]
  },
  {
   "cell_type": "markdown",
   "metadata": {},
   "source": [
    "## Predictions on Tensorflow slices dataset"
   ]
  },
  {
   "cell_type": "code",
   "execution_count": 162,
   "metadata": {},
   "outputs": [
    {
     "data": {
      "text/plain": [
       "(200, 6)"
      ]
     },
     "execution_count": 162,
     "metadata": {},
     "output_type": "execute_result"
    }
   ],
   "source": [
    "y_true = test_labels\n",
    "y_true.shape"
   ]
  },
  {
   "cell_type": "code",
   "execution_count": 163,
   "metadata": {},
   "outputs": [
    {
     "data": {
      "text/plain": [
       "array([[0., 0., 0., 0., 1., 0.],\n",
       "       [0., 0., 0., 0., 0., 1.],\n",
       "       [0., 0., 0., 0., 1., 0.],\n",
       "       [0., 0., 0., 0., 1., 0.],\n",
       "       [0., 0., 0., 0., 0., 1.],\n",
       "       [0., 0., 0., 0., 1., 0.],\n",
       "       [0., 0., 0., 0., 0., 1.],\n",
       "       [0., 0., 1., 0., 0., 0.],\n",
       "       [0., 0., 1., 0., 0., 0.],\n",
       "       [1., 0., 0., 0., 0., 0.]], dtype=float32)"
      ]
     },
     "execution_count": 163,
     "metadata": {},
     "output_type": "execute_result"
    }
   ],
   "source": [
    "y_true[:10,:]"
   ]
  },
  {
   "cell_type": "code",
   "execution_count": 167,
   "metadata": {},
   "outputs": [],
   "source": [
    "y_hat = model.predict(test_features)\n",
    "y_hat = tf.nn.softmax(y_hat.logits)\n",
    "y_hat = tf.argmax(y_hat, axis=1).numpy()"
   ]
  },
  {
   "cell_type": "code",
   "execution_count": 168,
   "metadata": {},
   "outputs": [
    {
     "data": {
      "text/plain": [
       "(200,)"
      ]
     },
     "execution_count": 168,
     "metadata": {},
     "output_type": "execute_result"
    }
   ],
   "source": [
    "y_hat.shape"
   ]
  },
  {
   "cell_type": "code",
   "execution_count": 169,
   "metadata": {},
   "outputs": [
    {
     "data": {
      "text/plain": [
       "array([4, 5, 4, 3, 5, 4, 5, 4, 2, 4], dtype=int64)"
      ]
     },
     "execution_count": 169,
     "metadata": {},
     "output_type": "execute_result"
    }
   ],
   "source": [
    "y_hat[:10]"
   ]
  },
  {
   "cell_type": "code",
   "execution_count": 170,
   "metadata": {},
   "outputs": [],
   "source": [
    "y_hat = tf.one_hot(y_hat, depth=6, dtype=tf.float32)"
   ]
  },
  {
   "cell_type": "code",
   "execution_count": 172,
   "metadata": {},
   "outputs": [
    {
     "data": {
      "text/plain": [
       "<tf.Tensor: shape=(10, 6), dtype=float32, numpy=\n",
       "array([[0., 0., 0., 0., 1., 0.],\n",
       "       [0., 0., 0., 0., 0., 1.],\n",
       "       [0., 0., 0., 0., 1., 0.],\n",
       "       [0., 0., 0., 1., 0., 0.],\n",
       "       [0., 0., 0., 0., 0., 1.],\n",
       "       [0., 0., 0., 0., 1., 0.],\n",
       "       [0., 0., 0., 0., 0., 1.],\n",
       "       [0., 0., 0., 0., 1., 0.],\n",
       "       [0., 0., 1., 0., 0., 0.],\n",
       "       [0., 0., 0., 0., 1., 0.]], dtype=float32)>"
      ]
     },
     "execution_count": 172,
     "metadata": {},
     "output_type": "execute_result"
    }
   ],
   "source": [
    "y_hat[:10,:]"
   ]
  },
  {
   "cell_type": "code",
   "execution_count": 173,
   "metadata": {},
   "outputs": [
    {
     "name": "stdout",
     "output_type": "stream",
     "text": [
      "              precision    recall  f1-score   support\n",
      "\n",
      "           0       1.00      0.27      0.42        15\n",
      "           1       0.62      0.48      0.54        27\n",
      "           2       0.69      0.55      0.61        33\n",
      "           3       0.33      0.10      0.15        10\n",
      "           4       0.65      0.91      0.76        79\n",
      "           5       0.77      0.75      0.76        36\n",
      "\n",
      "   micro avg       0.68      0.68      0.68       200\n",
      "   macro avg       0.68      0.51      0.54       200\n",
      "weighted avg       0.68      0.68      0.65       200\n",
      " samples avg       0.68      0.68      0.68       200\n",
      "\n"
     ]
    }
   ],
   "source": [
    "print(classification_report(y_true=y_true, y_pred=y_hat))"
   ]
  },
  {
   "cell_type": "code",
   "execution_count": 182,
   "metadata": {},
   "outputs": [],
   "source": [
    "model.save_weights('models/robosweights1k/robospretrained1000w.h5')"
   ]
  },
  {
   "cell_type": "code",
   "execution_count": 176,
   "metadata": {},
   "outputs": [
    {
     "ename": "NotImplementedError",
     "evalue": "Saving the model to HDF5 format requires the model to be a Functional model or a Sequential model. It does not work for subclassed models, because such models are defined via the body of a Python method, which isn't safely serializable. Consider saving to the Tensorflow SavedModel format (by setting save_format=\"tf\") or using `save_weights`.",
     "output_type": "error",
     "traceback": [
      "\u001b[1;31m---------------------------------------------------------------------------\u001b[0m",
      "\u001b[1;31mNotImplementedError\u001b[0m                       Traceback (most recent call last)",
      "Input \u001b[1;32mIn [176]\u001b[0m, in \u001b[0;36m<cell line: 1>\u001b[1;34m()\u001b[0m\n\u001b[1;32m----> 1\u001b[0m \u001b[43mmodel\u001b[49m\u001b[38;5;241;43m.\u001b[39;49m\u001b[43msave\u001b[49m\u001b[43m(\u001b[49m\u001b[38;5;124;43m'\u001b[39;49m\u001b[38;5;124;43mmodels/modelocompleto.h5\u001b[39;49m\u001b[38;5;124;43m'\u001b[39;49m\u001b[43m)\u001b[49m\n",
      "File \u001b[1;32mC:\\ProgramData\\Anaconda3\\envs\\tfenv\\lib\\site-packages\\keras\\engine\\training.py:2145\u001b[0m, in \u001b[0;36mModel.save\u001b[1;34m(self, filepath, overwrite, include_optimizer, save_format, signatures, options, save_traces)\u001b[0m\n\u001b[0;32m   2103\u001b[0m \u001b[38;5;124;03m\"\"\"Saves the model to Tensorflow SavedModel or a single HDF5 file.\u001b[39;00m\n\u001b[0;32m   2104\u001b[0m \n\u001b[0;32m   2105\u001b[0m \u001b[38;5;124;03mPlease see `tf.keras.models.save_model` or the\u001b[39;00m\n\u001b[1;32m   (...)\u001b[0m\n\u001b[0;32m   2142\u001b[0m \u001b[38;5;124;03m```\u001b[39;00m\n\u001b[0;32m   2143\u001b[0m \u001b[38;5;124;03m\"\"\"\u001b[39;00m\n\u001b[0;32m   2144\u001b[0m \u001b[38;5;66;03m# pylint: enable=line-too-long\u001b[39;00m\n\u001b[1;32m-> 2145\u001b[0m \u001b[43msave\u001b[49m\u001b[38;5;241;43m.\u001b[39;49m\u001b[43msave_model\u001b[49m\u001b[43m(\u001b[49m\u001b[38;5;28;43mself\u001b[39;49m\u001b[43m,\u001b[49m\u001b[43m \u001b[49m\u001b[43mfilepath\u001b[49m\u001b[43m,\u001b[49m\u001b[43m \u001b[49m\u001b[43moverwrite\u001b[49m\u001b[43m,\u001b[49m\u001b[43m \u001b[49m\u001b[43minclude_optimizer\u001b[49m\u001b[43m,\u001b[49m\u001b[43m \u001b[49m\u001b[43msave_format\u001b[49m\u001b[43m,\u001b[49m\n\u001b[0;32m   2146\u001b[0m \u001b[43m                \u001b[49m\u001b[43msignatures\u001b[49m\u001b[43m,\u001b[49m\u001b[43m \u001b[49m\u001b[43moptions\u001b[49m\u001b[43m,\u001b[49m\u001b[43m \u001b[49m\u001b[43msave_traces\u001b[49m\u001b[43m)\u001b[49m\n",
      "File \u001b[1;32mC:\\ProgramData\\Anaconda3\\envs\\tfenv\\lib\\site-packages\\keras\\saving\\save.py:138\u001b[0m, in \u001b[0;36msave_model\u001b[1;34m(model, filepath, overwrite, include_optimizer, save_format, signatures, options, save_traces)\u001b[0m\n\u001b[0;32m    132\u001b[0m \u001b[38;5;28;01mif\u001b[39;00m (save_format \u001b[38;5;241m==\u001b[39m \u001b[38;5;124m'\u001b[39m\u001b[38;5;124mh5\u001b[39m\u001b[38;5;124m'\u001b[39m \u001b[38;5;129;01mor\u001b[39;00m\n\u001b[0;32m    133\u001b[0m     (h5py \u001b[38;5;129;01mis\u001b[39;00m \u001b[38;5;129;01mnot\u001b[39;00m \u001b[38;5;28;01mNone\u001b[39;00m \u001b[38;5;129;01mand\u001b[39;00m \u001b[38;5;28misinstance\u001b[39m(filepath, h5py\u001b[38;5;241m.\u001b[39mFile)) \u001b[38;5;129;01mor\u001b[39;00m\n\u001b[0;32m    134\u001b[0m     saving_utils\u001b[38;5;241m.\u001b[39mis_hdf5_filepath(filepath)):\n\u001b[0;32m    135\u001b[0m   \u001b[38;5;66;03m# TODO(b/130258301): add utility method for detecting model type.\u001b[39;00m\n\u001b[0;32m    136\u001b[0m   \u001b[38;5;28;01mif\u001b[39;00m (\u001b[38;5;129;01mnot\u001b[39;00m model\u001b[38;5;241m.\u001b[39m_is_graph_network \u001b[38;5;129;01mand\u001b[39;00m  \u001b[38;5;66;03m# pylint:disable=protected-access\u001b[39;00m\n\u001b[0;32m    137\u001b[0m       \u001b[38;5;129;01mnot\u001b[39;00m \u001b[38;5;28misinstance\u001b[39m(model, sequential\u001b[38;5;241m.\u001b[39mSequential)):\n\u001b[1;32m--> 138\u001b[0m     \u001b[38;5;28;01mraise\u001b[39;00m \u001b[38;5;167;01mNotImplementedError\u001b[39;00m(\n\u001b[0;32m    139\u001b[0m         \u001b[38;5;124m'\u001b[39m\u001b[38;5;124mSaving the model to HDF5 format requires the model to be a \u001b[39m\u001b[38;5;124m'\u001b[39m\n\u001b[0;32m    140\u001b[0m         \u001b[38;5;124m'\u001b[39m\u001b[38;5;124mFunctional model or a Sequential model. It does not work for \u001b[39m\u001b[38;5;124m'\u001b[39m\n\u001b[0;32m    141\u001b[0m         \u001b[38;5;124m'\u001b[39m\u001b[38;5;124msubclassed models, because such models are defined via the body of \u001b[39m\u001b[38;5;124m'\u001b[39m\n\u001b[0;32m    142\u001b[0m         \u001b[38;5;124m'\u001b[39m\u001b[38;5;124ma Python method, which isn\u001b[39m\u001b[38;5;130;01m\\'\u001b[39;00m\u001b[38;5;124mt safely serializable. Consider saving \u001b[39m\u001b[38;5;124m'\u001b[39m\n\u001b[0;32m    143\u001b[0m         \u001b[38;5;124m'\u001b[39m\u001b[38;5;124mto the Tensorflow SavedModel format (by setting save_format=\u001b[39m\u001b[38;5;124m\"\u001b[39m\u001b[38;5;124mtf\u001b[39m\u001b[38;5;124m\"\u001b[39m\u001b[38;5;124m) \u001b[39m\u001b[38;5;124m'\u001b[39m\n\u001b[0;32m    144\u001b[0m         \u001b[38;5;124m'\u001b[39m\u001b[38;5;124mor using `save_weights`.\u001b[39m\u001b[38;5;124m'\u001b[39m)\n\u001b[0;32m    145\u001b[0m   hdf5_format\u001b[38;5;241m.\u001b[39msave_model_to_hdf5(\n\u001b[0;32m    146\u001b[0m       model, filepath, overwrite, include_optimizer)\n\u001b[0;32m    147\u001b[0m \u001b[38;5;28;01melse\u001b[39;00m:\n",
      "\u001b[1;31mNotImplementedError\u001b[0m: Saving the model to HDF5 format requires the model to be a Functional model or a Sequential model. It does not work for subclassed models, because such models are defined via the body of a Python method, which isn't safely serializable. Consider saving to the Tensorflow SavedModel format (by setting save_format=\"tf\") or using `save_weights`."
     ]
    }
   ],
   "source": [
    "# model.save('models/modelocompleto.h5')"
   ]
  },
  {
   "cell_type": "code",
   "execution_count": null,
   "metadata": {
    "id": "LqiJrbpT_cIQ"
   },
   "outputs": [],
   "source": [
    "# from sklearn.metrics import plot_confusion_matrix\n",
    "# plot_confusion_matrix(model, tf_test_set, y_true)"
   ]
  },
  {
   "cell_type": "code",
   "execution_count": null,
   "metadata": {
    "id": "sjRfH2d4_cIR"
   },
   "outputs": [],
   "source": [
    "# model.save_pretrained('/content/drive/MyDrive/models/pretrainedModel')"
   ]
  },
  {
   "cell_type": "code",
   "execution_count": null,
   "metadata": {
    "id": "H1uX8GZ72SgB"
   },
   "outputs": [],
   "source": [
    "# model.save_weights('/content/drive/MyDrive/models/tfmodelnlp', save_format='tf')"
   ]
  },
  {
   "cell_type": "code",
   "execution_count": null,
   "metadata": {
    "id": "DrQVox4C2Se3"
   },
   "outputs": [],
   "source": [
    "# model.save_weights('/content/drive/MyDrive/models/tfmodelnlph5.h5', save_format='h5')"
   ]
  },
  {
   "cell_type": "code",
   "execution_count": null,
   "metadata": {
    "colab": {
     "base_uri": "https://localhost:8080/",
     "height": 329
    },
    "id": "oedPV5GG-kXU",
    "outputId": "03e19937-211d-4aef-f4b6-5660904dc380"
   },
   "outputs": [],
   "source": [
    "# from transformers import pipeline\n",
    "# from datasets import load_dataset\n",
    "# from evaluate import evaluator\n",
    "# import evaluate\n",
    "\n",
    "# pipe = pipeline(\"text-classification\", model=\"/content/drive/MyDrive/models/pretrainedModel\", device=0)\n",
    "# data = tokenized_dataset[\"test\"].shuffle(seed=42).select(range(4000))\n",
    "# metric = evaluate.load(\"accuracy\")\n",
    "\n",
    "# eval = evaluator(\"text-classification\")\n",
    "\n",
    "# results = eval.compute(model_or_pipeline=pipe, data=data, metric=metric,\n",
    "#                        label_mapping={\"NEGATIVE\": 0, \"POSITIVE\": 1},)\n",
    "\n",
    "# print(results)\n",
    "# >>> {'accuracy': 0.934}"
   ]
  }
 ],
 "metadata": {
  "accelerator": "GPU",
  "colab": {
   "collapsed_sections": [],
   "name": "model_train_huggingface.ipynb",
   "provenance": []
  },
  "gpuClass": "standard",
  "kernelspec": {
   "display_name": "Python 3 (ipykernel)",
   "language": "python",
   "name": "python3"
  },
  "language_info": {
   "codemirror_mode": {
    "name": "ipython",
    "version": 3
   },
   "file_extension": ".py",
   "mimetype": "text/x-python",
   "name": "python",
   "nbconvert_exporter": "python",
   "pygments_lexer": "ipython3",
   "version": "3.9.12"
  },
  "vscode": {
   "interpreter": {
    "hash": "9b3b3adc6d8e141c308215729b3dbd8a21484cc522669b570a751a91e17c3cbd"
   }
  },
  "widgets": {
   "application/vnd.jupyter.widget-state+json": {
    "00bb0499a752422e93a415e263040ee8": {
     "model_module": "@jupyter-widgets/controls",
     "model_module_version": "1.5.0",
     "model_name": "HBoxModel",
     "state": {
      "_dom_classes": [],
      "_model_module": "@jupyter-widgets/controls",
      "_model_module_version": "1.5.0",
      "_model_name": "HBoxModel",
      "_view_count": null,
      "_view_module": "@jupyter-widgets/controls",
      "_view_module_version": "1.5.0",
      "_view_name": "HBoxView",
      "box_style": "",
      "children": [
       "IPY_MODEL_162e3e1e78e747a7b286d07c29797941",
       "IPY_MODEL_bb9976f67b45467aaccb147760a54203",
       "IPY_MODEL_b1c5948063e14b3098b5b76e1c2040ff"
      ],
      "layout": "IPY_MODEL_a297400c7afb4fb481737d6b6b0bd8a8"
     }
    },
    "082787fd993940d48e64ca633826b6a0": {
     "model_module": "@jupyter-widgets/controls",
     "model_module_version": "1.5.0",
     "model_name": "DescriptionStyleModel",
     "state": {
      "_model_module": "@jupyter-widgets/controls",
      "_model_module_version": "1.5.0",
      "_model_name": "DescriptionStyleModel",
      "_view_count": null,
      "_view_module": "@jupyter-widgets/base",
      "_view_module_version": "1.2.0",
      "_view_name": "StyleView",
      "description_width": ""
     }
    },
    "09cf44d617ca49afb9deb867f1631f32": {
     "model_module": "@jupyter-widgets/base",
     "model_module_version": "1.2.0",
     "model_name": "LayoutModel",
     "state": {
      "_model_module": "@jupyter-widgets/base",
      "_model_module_version": "1.2.0",
      "_model_name": "LayoutModel",
      "_view_count": null,
      "_view_module": "@jupyter-widgets/base",
      "_view_module_version": "1.2.0",
      "_view_name": "LayoutView",
      "align_content": null,
      "align_items": null,
      "align_self": null,
      "border": null,
      "bottom": null,
      "display": null,
      "flex": null,
      "flex_flow": null,
      "grid_area": null,
      "grid_auto_columns": null,
      "grid_auto_flow": null,
      "grid_auto_rows": null,
      "grid_column": null,
      "grid_gap": null,
      "grid_row": null,
      "grid_template_areas": null,
      "grid_template_columns": null,
      "grid_template_rows": null,
      "height": null,
      "justify_content": null,
      "justify_items": null,
      "left": null,
      "margin": null,
      "max_height": null,
      "max_width": null,
      "min_height": null,
      "min_width": null,
      "object_fit": null,
      "object_position": null,
      "order": null,
      "overflow": null,
      "overflow_x": null,
      "overflow_y": null,
      "padding": null,
      "right": null,
      "top": null,
      "visibility": null,
      "width": null
     }
    },
    "09d293e3400b4536a624a40d4fa4aabd": {
     "model_module": "@jupyter-widgets/base",
     "model_module_version": "1.2.0",
     "model_name": "LayoutModel",
     "state": {
      "_model_module": "@jupyter-widgets/base",
      "_model_module_version": "1.2.0",
      "_model_name": "LayoutModel",
      "_view_count": null,
      "_view_module": "@jupyter-widgets/base",
      "_view_module_version": "1.2.0",
      "_view_name": "LayoutView",
      "align_content": null,
      "align_items": null,
      "align_self": null,
      "border": null,
      "bottom": null,
      "display": null,
      "flex": null,
      "flex_flow": null,
      "grid_area": null,
      "grid_auto_columns": null,
      "grid_auto_flow": null,
      "grid_auto_rows": null,
      "grid_column": null,
      "grid_gap": null,
      "grid_row": null,
      "grid_template_areas": null,
      "grid_template_columns": null,
      "grid_template_rows": null,
      "height": null,
      "justify_content": null,
      "justify_items": null,
      "left": null,
      "margin": null,
      "max_height": null,
      "max_width": null,
      "min_height": null,
      "min_width": null,
      "object_fit": null,
      "object_position": null,
      "order": null,
      "overflow": null,
      "overflow_x": null,
      "overflow_y": null,
      "padding": null,
      "right": null,
      "top": null,
      "visibility": null,
      "width": null
     }
    },
    "0a50236f10764382a9e8030290e59c09": {
     "model_module": "@jupyter-widgets/base",
     "model_module_version": "1.2.0",
     "model_name": "LayoutModel",
     "state": {
      "_model_module": "@jupyter-widgets/base",
      "_model_module_version": "1.2.0",
      "_model_name": "LayoutModel",
      "_view_count": null,
      "_view_module": "@jupyter-widgets/base",
      "_view_module_version": "1.2.0",
      "_view_name": "LayoutView",
      "align_content": null,
      "align_items": null,
      "align_self": null,
      "border": null,
      "bottom": null,
      "display": null,
      "flex": null,
      "flex_flow": null,
      "grid_area": null,
      "grid_auto_columns": null,
      "grid_auto_flow": null,
      "grid_auto_rows": null,
      "grid_column": null,
      "grid_gap": null,
      "grid_row": null,
      "grid_template_areas": null,
      "grid_template_columns": null,
      "grid_template_rows": null,
      "height": null,
      "justify_content": null,
      "justify_items": null,
      "left": null,
      "margin": null,
      "max_height": null,
      "max_width": null,
      "min_height": null,
      "min_width": null,
      "object_fit": null,
      "object_position": null,
      "order": null,
      "overflow": null,
      "overflow_x": null,
      "overflow_y": null,
      "padding": null,
      "right": null,
      "top": null,
      "visibility": null,
      "width": null
     }
    },
    "0b5d7a9bc6ce45c1a2d2f1a624e52add": {
     "model_module": "@jupyter-widgets/base",
     "model_module_version": "1.2.0",
     "model_name": "LayoutModel",
     "state": {
      "_model_module": "@jupyter-widgets/base",
      "_model_module_version": "1.2.0",
      "_model_name": "LayoutModel",
      "_view_count": null,
      "_view_module": "@jupyter-widgets/base",
      "_view_module_version": "1.2.0",
      "_view_name": "LayoutView",
      "align_content": null,
      "align_items": null,
      "align_self": null,
      "border": null,
      "bottom": null,
      "display": null,
      "flex": null,
      "flex_flow": null,
      "grid_area": null,
      "grid_auto_columns": null,
      "grid_auto_flow": null,
      "grid_auto_rows": null,
      "grid_column": null,
      "grid_gap": null,
      "grid_row": null,
      "grid_template_areas": null,
      "grid_template_columns": null,
      "grid_template_rows": null,
      "height": null,
      "justify_content": null,
      "justify_items": null,
      "left": null,
      "margin": null,
      "max_height": null,
      "max_width": null,
      "min_height": null,
      "min_width": null,
      "object_fit": null,
      "object_position": null,
      "order": null,
      "overflow": null,
      "overflow_x": null,
      "overflow_y": null,
      "padding": null,
      "right": null,
      "top": null,
      "visibility": null,
      "width": null
     }
    },
    "0f73efbfa281497a94d43cddb8f2ff7f": {
     "model_module": "@jupyter-widgets/controls",
     "model_module_version": "1.5.0",
     "model_name": "FloatProgressModel",
     "state": {
      "_dom_classes": [],
      "_model_module": "@jupyter-widgets/controls",
      "_model_module_version": "1.5.0",
      "_model_name": "FloatProgressModel",
      "_view_count": null,
      "_view_module": "@jupyter-widgets/controls",
      "_view_module_version": "1.5.0",
      "_view_name": "ProgressView",
      "bar_style": "success",
      "description": "",
      "description_tooltip": null,
      "layout": "IPY_MODEL_a36b179224d24816a8ce3f6909a5e2c5",
      "max": 3,
      "min": 0,
      "orientation": "horizontal",
      "style": "IPY_MODEL_195905d72f8a4277ab91d8d2582ddbae",
      "value": 3
     }
    },
    "0fbb0bdda0ba4cb2807fff262d78287f": {
     "model_module": "@jupyter-widgets/controls",
     "model_module_version": "1.5.0",
     "model_name": "DescriptionStyleModel",
     "state": {
      "_model_module": "@jupyter-widgets/controls",
      "_model_module_version": "1.5.0",
      "_model_name": "DescriptionStyleModel",
      "_view_count": null,
      "_view_module": "@jupyter-widgets/base",
      "_view_module_version": "1.2.0",
      "_view_name": "StyleView",
      "description_width": ""
     }
    },
    "12569e6b27e243b0a2c08d373b72705e": {
     "model_module": "@jupyter-widgets/controls",
     "model_module_version": "1.5.0",
     "model_name": "FloatProgressModel",
     "state": {
      "_dom_classes": [],
      "_model_module": "@jupyter-widgets/controls",
      "_model_module_version": "1.5.0",
      "_model_name": "FloatProgressModel",
      "_view_count": null,
      "_view_module": "@jupyter-widgets/controls",
      "_view_module_version": "1.5.0",
      "_view_name": "ProgressView",
      "bar_style": "success",
      "description": "",
      "description_tooltip": null,
      "layout": "IPY_MODEL_423808812c434d429a0457aaf77d3aae",
      "max": 90,
      "min": 0,
      "orientation": "horizontal",
      "style": "IPY_MODEL_70dff91939dc401e803480f7e50dc18f",
      "value": 90
     }
    },
    "1572d49323304832ad3ac9b2d27f1253": {
     "model_module": "@jupyter-widgets/controls",
     "model_module_version": "1.5.0",
     "model_name": "DescriptionStyleModel",
     "state": {
      "_model_module": "@jupyter-widgets/controls",
      "_model_module_version": "1.5.0",
      "_model_name": "DescriptionStyleModel",
      "_view_count": null,
      "_view_module": "@jupyter-widgets/base",
      "_view_module_version": "1.2.0",
      "_view_name": "StyleView",
      "description_width": ""
     }
    },
    "159f4190e1dc4437bfd1326a4066e232": {
     "model_module": "@jupyter-widgets/controls",
     "model_module_version": "1.5.0",
     "model_name": "HTMLModel",
     "state": {
      "_dom_classes": [],
      "_model_module": "@jupyter-widgets/controls",
      "_model_module_version": "1.5.0",
      "_model_name": "HTMLModel",
      "_view_count": null,
      "_view_module": "@jupyter-widgets/controls",
      "_view_module_version": "1.5.0",
      "_view_name": "HTMLView",
      "description": "",
      "description_tooltip": null,
      "layout": "IPY_MODEL_d18ec221b6eb4cb188b797de78e69d9c",
      "placeholder": "​",
      "style": "IPY_MODEL_ec086933b7334402af05dc21a95682cf",
      "value": " 9/? [00:01&lt;00:00,  7.49 tables/s]"
     }
    },
    "162e3e1e78e747a7b286d07c29797941": {
     "model_module": "@jupyter-widgets/controls",
     "model_module_version": "1.5.0",
     "model_name": "HTMLModel",
     "state": {
      "_dom_classes": [],
      "_model_module": "@jupyter-widgets/controls",
      "_model_module_version": "1.5.0",
      "_model_name": "HTMLModel",
      "_view_count": null,
      "_view_module": "@jupyter-widgets/controls",
      "_view_module_version": "1.5.0",
      "_view_name": "HTMLView",
      "description": "",
      "description_tooltip": null,
      "layout": "IPY_MODEL_e695112ddcd840ffb4ea174e552ee1fc",
      "placeholder": "​",
      "style": "IPY_MODEL_a372fbc0562a412c9a247203b14e0b1f",
      "value": "100%"
     }
    },
    "166d7c791d9845b9912c41adc78f4238": {
     "model_module": "@jupyter-widgets/controls",
     "model_module_version": "1.5.0",
     "model_name": "HTMLModel",
     "state": {
      "_dom_classes": [],
      "_model_module": "@jupyter-widgets/controls",
      "_model_module_version": "1.5.0",
      "_model_name": "HTMLModel",
      "_view_count": null,
      "_view_module": "@jupyter-widgets/controls",
      "_view_module_version": "1.5.0",
      "_view_name": "HTMLView",
      "description": "",
      "description_tooltip": null,
      "layout": "IPY_MODEL_0a50236f10764382a9e8030290e59c09",
      "placeholder": "​",
      "style": "IPY_MODEL_37ca400835cb4b10850254eab7f19ff2",
      "value": " 274/274 [01:37&lt;00:00,  3.59ba/s]"
     }
    },
    "17308594a18249c384b742ad33fad170": {
     "model_module": "@jupyter-widgets/base",
     "model_module_version": "1.2.0",
     "model_name": "LayoutModel",
     "state": {
      "_model_module": "@jupyter-widgets/base",
      "_model_module_version": "1.2.0",
      "_model_name": "LayoutModel",
      "_view_count": null,
      "_view_module": "@jupyter-widgets/base",
      "_view_module_version": "1.2.0",
      "_view_name": "LayoutView",
      "align_content": null,
      "align_items": null,
      "align_self": null,
      "border": null,
      "bottom": null,
      "display": null,
      "flex": null,
      "flex_flow": null,
      "grid_area": null,
      "grid_auto_columns": null,
      "grid_auto_flow": null,
      "grid_auto_rows": null,
      "grid_column": null,
      "grid_gap": null,
      "grid_row": null,
      "grid_template_areas": null,
      "grid_template_columns": null,
      "grid_template_rows": null,
      "height": null,
      "justify_content": null,
      "justify_items": null,
      "left": null,
      "margin": null,
      "max_height": null,
      "max_width": null,
      "min_height": null,
      "min_width": null,
      "object_fit": null,
      "object_position": null,
      "order": null,
      "overflow": null,
      "overflow_x": null,
      "overflow_y": null,
      "padding": null,
      "right": null,
      "top": null,
      "visibility": null,
      "width": "20px"
     }
    },
    "17da0b649b764b33a9e1cfc91ec1a0e4": {
     "model_module": "@jupyter-widgets/controls",
     "model_module_version": "1.5.0",
     "model_name": "HBoxModel",
     "state": {
      "_dom_classes": [],
      "_model_module": "@jupyter-widgets/controls",
      "_model_module_version": "1.5.0",
      "_model_name": "HBoxModel",
      "_view_count": null,
      "_view_module": "@jupyter-widgets/controls",
      "_view_module_version": "1.5.0",
      "_view_name": "HBoxView",
      "box_style": "",
      "children": [
       "IPY_MODEL_2cf60a4bf9d944d787f725e07d055445",
       "IPY_MODEL_5c9d81a273284ebcb5ca624695f1a30f",
       "IPY_MODEL_a5cbfaaf61ee4fb28ae0403f2453ed46"
      ],
      "layout": "IPY_MODEL_952dc046b747418b932b4bfe1d645e9e"
     }
    },
    "1875719602c941508782302c4a4f83fe": {
     "model_module": "@jupyter-widgets/controls",
     "model_module_version": "1.5.0",
     "model_name": "FloatProgressModel",
     "state": {
      "_dom_classes": [],
      "_model_module": "@jupyter-widgets/controls",
      "_model_module_version": "1.5.0",
      "_model_name": "FloatProgressModel",
      "_view_count": null,
      "_view_module": "@jupyter-widgets/controls",
      "_view_module_version": "1.5.0",
      "_view_name": "ProgressView",
      "bar_style": "success",
      "description": "",
      "description_tooltip": null,
      "layout": "IPY_MODEL_e8d93a5a708442cfbf033b4cd1abf600",
      "max": 466,
      "min": 0,
      "orientation": "horizontal",
      "style": "IPY_MODEL_1d56ff153a104eabb87ee542863c2ed5",
      "value": 466
     }
    },
    "18d778124611424a8df2cdc1fc3d3cdf": {
     "model_module": "@jupyter-widgets/base",
     "model_module_version": "1.2.0",
     "model_name": "LayoutModel",
     "state": {
      "_model_module": "@jupyter-widgets/base",
      "_model_module_version": "1.2.0",
      "_model_name": "LayoutModel",
      "_view_count": null,
      "_view_module": "@jupyter-widgets/base",
      "_view_module_version": "1.2.0",
      "_view_name": "LayoutView",
      "align_content": null,
      "align_items": null,
      "align_self": null,
      "border": null,
      "bottom": null,
      "display": null,
      "flex": null,
      "flex_flow": null,
      "grid_area": null,
      "grid_auto_columns": null,
      "grid_auto_flow": null,
      "grid_auto_rows": null,
      "grid_column": null,
      "grid_gap": null,
      "grid_row": null,
      "grid_template_areas": null,
      "grid_template_columns": null,
      "grid_template_rows": null,
      "height": null,
      "justify_content": null,
      "justify_items": null,
      "left": null,
      "margin": null,
      "max_height": null,
      "max_width": null,
      "min_height": null,
      "min_width": null,
      "object_fit": null,
      "object_position": null,
      "order": null,
      "overflow": null,
      "overflow_x": null,
      "overflow_y": null,
      "padding": null,
      "right": null,
      "top": null,
      "visibility": null,
      "width": null
     }
    },
    "195905d72f8a4277ab91d8d2582ddbae": {
     "model_module": "@jupyter-widgets/controls",
     "model_module_version": "1.5.0",
     "model_name": "ProgressStyleModel",
     "state": {
      "_model_module": "@jupyter-widgets/controls",
      "_model_module_version": "1.5.0",
      "_model_name": "ProgressStyleModel",
      "_view_count": null,
      "_view_module": "@jupyter-widgets/base",
      "_view_module_version": "1.2.0",
      "_view_name": "StyleView",
      "bar_color": null,
      "description_width": ""
     }
    },
    "1afa24b0fb7c463caedcd77bd0b37c4a": {
     "model_module": "@jupyter-widgets/controls",
     "model_module_version": "1.5.0",
     "model_name": "HTMLModel",
     "state": {
      "_dom_classes": [],
      "_model_module": "@jupyter-widgets/controls",
      "_model_module_version": "1.5.0",
      "_model_name": "HTMLModel",
      "_view_count": null,
      "_view_module": "@jupyter-widgets/controls",
      "_view_module_version": "1.5.0",
      "_view_name": "HTMLView",
      "description": "",
      "description_tooltip": null,
      "layout": "IPY_MODEL_809b4e212dc64927ae163dc0516debf7",
      "placeholder": "​",
      "style": "IPY_MODEL_8cc3e2421ff04ab495ac051117818551",
      "value": " 69/69 [00:00&lt;00:00, 74.73ba/s]"
     }
    },
    "1d56ff153a104eabb87ee542863c2ed5": {
     "model_module": "@jupyter-widgets/controls",
     "model_module_version": "1.5.0",
     "model_name": "ProgressStyleModel",
     "state": {
      "_model_module": "@jupyter-widgets/controls",
      "_model_module_version": "1.5.0",
      "_model_name": "ProgressStyleModel",
      "_view_count": null,
      "_view_module": "@jupyter-widgets/base",
      "_view_module_version": "1.2.0",
      "_view_name": "StyleView",
      "bar_color": null,
      "description_width": ""
     }
    },
    "21523a79a39a48469ef8f15b9d4497a0": {
     "model_module": "@jupyter-widgets/base",
     "model_module_version": "1.2.0",
     "model_name": "LayoutModel",
     "state": {
      "_model_module": "@jupyter-widgets/base",
      "_model_module_version": "1.2.0",
      "_model_name": "LayoutModel",
      "_view_count": null,
      "_view_module": "@jupyter-widgets/base",
      "_view_module_version": "1.2.0",
      "_view_name": "LayoutView",
      "align_content": null,
      "align_items": null,
      "align_self": null,
      "border": null,
      "bottom": null,
      "display": null,
      "flex": null,
      "flex_flow": null,
      "grid_area": null,
      "grid_auto_columns": null,
      "grid_auto_flow": null,
      "grid_auto_rows": null,
      "grid_column": null,
      "grid_gap": null,
      "grid_row": null,
      "grid_template_areas": null,
      "grid_template_columns": null,
      "grid_template_rows": null,
      "height": null,
      "justify_content": null,
      "justify_items": null,
      "left": null,
      "margin": null,
      "max_height": null,
      "max_width": null,
      "min_height": null,
      "min_width": null,
      "object_fit": null,
      "object_position": null,
      "order": null,
      "overflow": null,
      "overflow_x": null,
      "overflow_y": null,
      "padding": null,
      "right": null,
      "top": null,
      "visibility": null,
      "width": null
     }
    },
    "21f7a392d0e042ee84882c0575663d07": {
     "model_module": "@jupyter-widgets/base",
     "model_module_version": "1.2.0",
     "model_name": "LayoutModel",
     "state": {
      "_model_module": "@jupyter-widgets/base",
      "_model_module_version": "1.2.0",
      "_model_name": "LayoutModel",
      "_view_count": null,
      "_view_module": "@jupyter-widgets/base",
      "_view_module_version": "1.2.0",
      "_view_name": "LayoutView",
      "align_content": null,
      "align_items": null,
      "align_self": null,
      "border": null,
      "bottom": null,
      "display": null,
      "flex": null,
      "flex_flow": null,
      "grid_area": null,
      "grid_auto_columns": null,
      "grid_auto_flow": null,
      "grid_auto_rows": null,
      "grid_column": null,
      "grid_gap": null,
      "grid_row": null,
      "grid_template_areas": null,
      "grid_template_columns": null,
      "grid_template_rows": null,
      "height": null,
      "justify_content": null,
      "justify_items": null,
      "left": null,
      "margin": null,
      "max_height": null,
      "max_width": null,
      "min_height": null,
      "min_width": null,
      "object_fit": null,
      "object_position": null,
      "order": null,
      "overflow": null,
      "overflow_x": null,
      "overflow_y": null,
      "padding": null,
      "right": null,
      "top": null,
      "visibility": null,
      "width": null
     }
    },
    "23ad624efe674293b78eafb9d88bf351": {
     "model_module": "@jupyter-widgets/controls",
     "model_module_version": "1.5.0",
     "model_name": "FloatProgressModel",
     "state": {
      "_dom_classes": [],
      "_model_module": "@jupyter-widgets/controls",
      "_model_module_version": "1.5.0",
      "_model_name": "FloatProgressModel",
      "_view_count": null,
      "_view_module": "@jupyter-widgets/controls",
      "_view_module_version": "1.5.0",
      "_view_name": "ProgressView",
      "bar_style": "success",
      "description": "",
      "description_tooltip": null,
      "layout": "IPY_MODEL_5a53843b57e84b7b8727b70d2a7379dc",
      "max": 3,
      "min": 0,
      "orientation": "horizontal",
      "style": "IPY_MODEL_cd89694b744c4b3f91335303ef68fe53",
      "value": 3
     }
    },
    "2476556546784382b1df7fb9bfb38160": {
     "model_module": "@jupyter-widgets/base",
     "model_module_version": "1.2.0",
     "model_name": "LayoutModel",
     "state": {
      "_model_module": "@jupyter-widgets/base",
      "_model_module_version": "1.2.0",
      "_model_name": "LayoutModel",
      "_view_count": null,
      "_view_module": "@jupyter-widgets/base",
      "_view_module_version": "1.2.0",
      "_view_name": "LayoutView",
      "align_content": null,
      "align_items": null,
      "align_self": null,
      "border": null,
      "bottom": null,
      "display": null,
      "flex": null,
      "flex_flow": null,
      "grid_area": null,
      "grid_auto_columns": null,
      "grid_auto_flow": null,
      "grid_auto_rows": null,
      "grid_column": null,
      "grid_gap": null,
      "grid_row": null,
      "grid_template_areas": null,
      "grid_template_columns": null,
      "grid_template_rows": null,
      "height": null,
      "justify_content": null,
      "justify_items": null,
      "left": null,
      "margin": null,
      "max_height": null,
      "max_width": null,
      "min_height": null,
      "min_width": null,
      "object_fit": null,
      "object_position": null,
      "order": null,
      "overflow": null,
      "overflow_x": null,
      "overflow_y": null,
      "padding": null,
      "right": null,
      "top": null,
      "visibility": null,
      "width": "20px"
     }
    },
    "2488fae598834cc7b1c2e1738e57583c": {
     "model_module": "@jupyter-widgets/controls",
     "model_module_version": "1.5.0",
     "model_name": "HTMLModel",
     "state": {
      "_dom_classes": [],
      "_model_module": "@jupyter-widgets/controls",
      "_model_module_version": "1.5.0",
      "_model_name": "HTMLModel",
      "_view_count": null,
      "_view_module": "@jupyter-widgets/controls",
      "_view_module_version": "1.5.0",
      "_view_name": "HTMLView",
      "description": "",
      "description_tooltip": null,
      "layout": "IPY_MODEL_b8ecdde55bed45dbbea5f855d0477ade",
      "placeholder": "​",
      "style": "IPY_MODEL_794ee10016fe49aa9b82dbc4b759c1e2",
      "value": " 466/466 [00:00&lt;00:00, 5.06kB/s]"
     }
    },
    "2641db6cab024df2812b18774b30eb69": {
     "model_module": "@jupyter-widgets/controls",
     "model_module_version": "1.5.0",
     "model_name": "DescriptionStyleModel",
     "state": {
      "_model_module": "@jupyter-widgets/controls",
      "_model_module_version": "1.5.0",
      "_model_name": "DescriptionStyleModel",
      "_view_count": null,
      "_view_module": "@jupyter-widgets/base",
      "_view_module_version": "1.2.0",
      "_view_name": "StyleView",
      "description_width": ""
     }
    },
    "26848e5d16cd42c0ae77d67e51731bb1": {
     "model_module": "@jupyter-widgets/base",
     "model_module_version": "1.2.0",
     "model_name": "LayoutModel",
     "state": {
      "_model_module": "@jupyter-widgets/base",
      "_model_module_version": "1.2.0",
      "_model_name": "LayoutModel",
      "_view_count": null,
      "_view_module": "@jupyter-widgets/base",
      "_view_module_version": "1.2.0",
      "_view_name": "LayoutView",
      "align_content": null,
      "align_items": null,
      "align_self": null,
      "border": null,
      "bottom": null,
      "display": null,
      "flex": null,
      "flex_flow": null,
      "grid_area": null,
      "grid_auto_columns": null,
      "grid_auto_flow": null,
      "grid_auto_rows": null,
      "grid_column": null,
      "grid_gap": null,
      "grid_row": null,
      "grid_template_areas": null,
      "grid_template_columns": null,
      "grid_template_rows": null,
      "height": null,
      "justify_content": null,
      "justify_items": null,
      "left": null,
      "margin": null,
      "max_height": null,
      "max_width": null,
      "min_height": null,
      "min_width": null,
      "object_fit": null,
      "object_position": null,
      "order": null,
      "overflow": null,
      "overflow_x": null,
      "overflow_y": null,
      "padding": null,
      "right": null,
      "top": null,
      "visibility": null,
      "width": null
     }
    },
    "270fff1c79204ab1a88ceb56f5f7f86c": {
     "model_module": "@jupyter-widgets/base",
     "model_module_version": "1.2.0",
     "model_name": "LayoutModel",
     "state": {
      "_model_module": "@jupyter-widgets/base",
      "_model_module_version": "1.2.0",
      "_model_name": "LayoutModel",
      "_view_count": null,
      "_view_module": "@jupyter-widgets/base",
      "_view_module_version": "1.2.0",
      "_view_name": "LayoutView",
      "align_content": null,
      "align_items": null,
      "align_self": null,
      "border": null,
      "bottom": null,
      "display": null,
      "flex": null,
      "flex_flow": null,
      "grid_area": null,
      "grid_auto_columns": null,
      "grid_auto_flow": null,
      "grid_auto_rows": null,
      "grid_column": null,
      "grid_gap": null,
      "grid_row": null,
      "grid_template_areas": null,
      "grid_template_columns": null,
      "grid_template_rows": null,
      "height": null,
      "justify_content": null,
      "justify_items": null,
      "left": null,
      "margin": null,
      "max_height": null,
      "max_width": null,
      "min_height": null,
      "min_width": null,
      "object_fit": null,
      "object_position": null,
      "order": null,
      "overflow": null,
      "overflow_x": null,
      "overflow_y": null,
      "padding": null,
      "right": null,
      "top": null,
      "visibility": null,
      "width": null
     }
    },
    "27806e7dc0a5486191e91489d3c7fa36": {
     "model_module": "@jupyter-widgets/controls",
     "model_module_version": "1.5.0",
     "model_name": "HBoxModel",
     "state": {
      "_dom_classes": [],
      "_model_module": "@jupyter-widgets/controls",
      "_model_module_version": "1.5.0",
      "_model_name": "HBoxModel",
      "_view_count": null,
      "_view_module": "@jupyter-widgets/controls",
      "_view_module_version": "1.5.0",
      "_view_name": "HBoxView",
      "box_style": "",
      "children": [
       "IPY_MODEL_9eb51f3d987e4a9e9d338c68400e44b5",
       "IPY_MODEL_f2d5e470f3f84763a99b0f465d99f88f",
       "IPY_MODEL_b20633e15b604f2482b38231ade41c9b"
      ],
      "layout": "IPY_MODEL_b7826898a85a4babbde4df05e3d14d61"
     }
    },
    "290c68844b374ff1aa9590087e611423": {
     "model_module": "@jupyter-widgets/controls",
     "model_module_version": "1.5.0",
     "model_name": "HBoxModel",
     "state": {
      "_dom_classes": [],
      "_model_module": "@jupyter-widgets/controls",
      "_model_module_version": "1.5.0",
      "_model_name": "HBoxModel",
      "_view_count": null,
      "_view_module": "@jupyter-widgets/controls",
      "_view_module_version": "1.5.0",
      "_view_name": "HBoxView",
      "box_style": "",
      "children": [
       "IPY_MODEL_785be4b2abf84b3ca384487dc9ee3560",
       "IPY_MODEL_5bfcfab353d94038b8cfeb220d860a0a",
       "IPY_MODEL_1afa24b0fb7c463caedcd77bd0b37c4a"
      ],
      "layout": "IPY_MODEL_270fff1c79204ab1a88ceb56f5f7f86c"
     }
    },
    "2a623df269df49ceb647be1bb6923fad": {
     "model_module": "@jupyter-widgets/base",
     "model_module_version": "1.2.0",
     "model_name": "LayoutModel",
     "state": {
      "_model_module": "@jupyter-widgets/base",
      "_model_module_version": "1.2.0",
      "_model_name": "LayoutModel",
      "_view_count": null,
      "_view_module": "@jupyter-widgets/base",
      "_view_module_version": "1.2.0",
      "_view_name": "LayoutView",
      "align_content": null,
      "align_items": null,
      "align_self": null,
      "border": null,
      "bottom": null,
      "display": null,
      "flex": null,
      "flex_flow": null,
      "grid_area": null,
      "grid_auto_columns": null,
      "grid_auto_flow": null,
      "grid_auto_rows": null,
      "grid_column": null,
      "grid_gap": null,
      "grid_row": null,
      "grid_template_areas": null,
      "grid_template_columns": null,
      "grid_template_rows": null,
      "height": null,
      "justify_content": null,
      "justify_items": null,
      "left": null,
      "margin": null,
      "max_height": null,
      "max_width": null,
      "min_height": null,
      "min_width": null,
      "object_fit": null,
      "object_position": null,
      "order": null,
      "overflow": null,
      "overflow_x": null,
      "overflow_y": null,
      "padding": null,
      "right": null,
      "top": null,
      "visibility": null,
      "width": null
     }
    },
    "2aae99070cbe4e03898715673bd8c6a3": {
     "model_module": "@jupyter-widgets/base",
     "model_module_version": "1.2.0",
     "model_name": "LayoutModel",
     "state": {
      "_model_module": "@jupyter-widgets/base",
      "_model_module_version": "1.2.0",
      "_model_name": "LayoutModel",
      "_view_count": null,
      "_view_module": "@jupyter-widgets/base",
      "_view_module_version": "1.2.0",
      "_view_name": "LayoutView",
      "align_content": null,
      "align_items": null,
      "align_self": null,
      "border": null,
      "bottom": null,
      "display": null,
      "flex": null,
      "flex_flow": null,
      "grid_area": null,
      "grid_auto_columns": null,
      "grid_auto_flow": null,
      "grid_auto_rows": null,
      "grid_column": null,
      "grid_gap": null,
      "grid_row": null,
      "grid_template_areas": null,
      "grid_template_columns": null,
      "grid_template_rows": null,
      "height": null,
      "justify_content": null,
      "justify_items": null,
      "left": null,
      "margin": null,
      "max_height": null,
      "max_width": null,
      "min_height": null,
      "min_width": null,
      "object_fit": null,
      "object_position": null,
      "order": null,
      "overflow": null,
      "overflow_x": null,
      "overflow_y": null,
      "padding": null,
      "right": null,
      "top": null,
      "visibility": null,
      "width": null
     }
    },
    "2c31528c5ec74a9a9e8676824521cf8f": {
     "model_module": "@jupyter-widgets/controls",
     "model_module_version": "1.5.0",
     "model_name": "HBoxModel",
     "state": {
      "_dom_classes": [],
      "_model_module": "@jupyter-widgets/controls",
      "_model_module_version": "1.5.0",
      "_model_name": "HBoxModel",
      "_view_count": null,
      "_view_module": "@jupyter-widgets/controls",
      "_view_module_version": "1.5.0",
      "_view_name": "HBoxView",
      "box_style": "",
      "children": [
       "IPY_MODEL_d123f11ebe7645f5ba2f354b451126a2",
       "IPY_MODEL_ef6cb12ee2d04cadb5ceeefd544addd9",
       "IPY_MODEL_e1be8fc22c024128b33f05f06a5062c6"
      ],
      "layout": "IPY_MODEL_6f3fe0dbfaf345b9b99a70d5e96728ae"
     }
    },
    "2cf60a4bf9d944d787f725e07d055445": {
     "model_module": "@jupyter-widgets/controls",
     "model_module_version": "1.5.0",
     "model_name": "HTMLModel",
     "state": {
      "_dom_classes": [],
      "_model_module": "@jupyter-widgets/controls",
      "_model_module_version": "1.5.0",
      "_model_name": "HTMLModel",
      "_view_count": null,
      "_view_module": "@jupyter-widgets/controls",
      "_view_module_version": "1.5.0",
      "_view_name": "HTMLView",
      "description": "",
      "description_tooltip": null,
      "layout": "IPY_MODEL_666c48809587458eaf86d93cba8261d2",
      "placeholder": "​",
      "style": "IPY_MODEL_3dbd1aefbf834c6486657f6ef68b2e6d",
      "value": "Downloading: 100%"
     }
    },
    "2f2f6f8919854f24b1fea30612b22c14": {
     "model_module": "@jupyter-widgets/controls",
     "model_module_version": "1.5.0",
     "model_name": "ProgressStyleModel",
     "state": {
      "_model_module": "@jupyter-widgets/controls",
      "_model_module_version": "1.5.0",
      "_model_name": "ProgressStyleModel",
      "_view_count": null,
      "_view_module": "@jupyter-widgets/base",
      "_view_module_version": "1.2.0",
      "_view_name": "StyleView",
      "bar_color": null,
      "description_width": ""
     }
    },
    "2f3314ed7f0b45caa284ade6dc7e39c9": {
     "model_module": "@jupyter-widgets/controls",
     "model_module_version": "1.5.0",
     "model_name": "FloatProgressModel",
     "state": {
      "_dom_classes": [],
      "_model_module": "@jupyter-widgets/controls",
      "_model_module_version": "1.5.0",
      "_model_name": "FloatProgressModel",
      "_view_count": null,
      "_view_module": "@jupyter-widgets/controls",
      "_view_module_version": "1.5.0",
      "_view_name": "ProgressView",
      "bar_style": "success",
      "description": "",
      "description_tooltip": null,
      "layout": "IPY_MODEL_5411d977d0bf4bef8bdbbeb128b8002a",
      "max": 90,
      "min": 0,
      "orientation": "horizontal",
      "style": "IPY_MODEL_87f797cf21ed4b77a8744412f80327dd",
      "value": 90
     }
    },
    "2feec5f2ff7146009e3310382202c399": {
     "model_module": "@jupyter-widgets/controls",
     "model_module_version": "1.5.0",
     "model_name": "DescriptionStyleModel",
     "state": {
      "_model_module": "@jupyter-widgets/controls",
      "_model_module_version": "1.5.0",
      "_model_name": "DescriptionStyleModel",
      "_view_count": null,
      "_view_module": "@jupyter-widgets/base",
      "_view_module_version": "1.2.0",
      "_view_name": "StyleView",
      "description_width": ""
     }
    },
    "308b0ea6ab8e46c3af1e4194d7ce2f49": {
     "model_module": "@jupyter-widgets/controls",
     "model_module_version": "1.5.0",
     "model_name": "DescriptionStyleModel",
     "state": {
      "_model_module": "@jupyter-widgets/controls",
      "_model_module_version": "1.5.0",
      "_model_name": "DescriptionStyleModel",
      "_view_count": null,
      "_view_module": "@jupyter-widgets/base",
      "_view_module_version": "1.2.0",
      "_view_name": "StyleView",
      "description_width": ""
     }
    },
    "33e203e5089d48e0b5f6f00a88af19e4": {
     "model_module": "@jupyter-widgets/base",
     "model_module_version": "1.2.0",
     "model_name": "LayoutModel",
     "state": {
      "_model_module": "@jupyter-widgets/base",
      "_model_module_version": "1.2.0",
      "_model_name": "LayoutModel",
      "_view_count": null,
      "_view_module": "@jupyter-widgets/base",
      "_view_module_version": "1.2.0",
      "_view_name": "LayoutView",
      "align_content": null,
      "align_items": null,
      "align_self": null,
      "border": null,
      "bottom": null,
      "display": null,
      "flex": null,
      "flex_flow": null,
      "grid_area": null,
      "grid_auto_columns": null,
      "grid_auto_flow": null,
      "grid_auto_rows": null,
      "grid_column": null,
      "grid_gap": null,
      "grid_row": null,
      "grid_template_areas": null,
      "grid_template_columns": null,
      "grid_template_rows": null,
      "height": null,
      "justify_content": null,
      "justify_items": null,
      "left": null,
      "margin": null,
      "max_height": null,
      "max_width": null,
      "min_height": null,
      "min_width": null,
      "object_fit": null,
      "object_position": null,
      "order": null,
      "overflow": null,
      "overflow_x": null,
      "overflow_y": null,
      "padding": null,
      "right": null,
      "top": null,
      "visibility": null,
      "width": null
     }
    },
    "34610e4af2cb4408bcbf4ff95e4696c1": {
     "model_module": "@jupyter-widgets/controls",
     "model_module_version": "1.5.0",
     "model_name": "DescriptionStyleModel",
     "state": {
      "_model_module": "@jupyter-widgets/controls",
      "_model_module_version": "1.5.0",
      "_model_name": "DescriptionStyleModel",
      "_view_count": null,
      "_view_module": "@jupyter-widgets/base",
      "_view_module_version": "1.2.0",
      "_view_name": "StyleView",
      "description_width": ""
     }
    },
    "34cda2635176484a96baf74fe73b74de": {
     "model_module": "@jupyter-widgets/controls",
     "model_module_version": "1.5.0",
     "model_name": "DescriptionStyleModel",
     "state": {
      "_model_module": "@jupyter-widgets/controls",
      "_model_module_version": "1.5.0",
      "_model_name": "DescriptionStyleModel",
      "_view_count": null,
      "_view_module": "@jupyter-widgets/base",
      "_view_module_version": "1.2.0",
      "_view_name": "StyleView",
      "description_width": ""
     }
    },
    "3522f37fdead4697a85f52d5ceea014d": {
     "model_module": "@jupyter-widgets/base",
     "model_module_version": "1.2.0",
     "model_name": "LayoutModel",
     "state": {
      "_model_module": "@jupyter-widgets/base",
      "_model_module_version": "1.2.0",
      "_model_name": "LayoutModel",
      "_view_count": null,
      "_view_module": "@jupyter-widgets/base",
      "_view_module_version": "1.2.0",
      "_view_name": "LayoutView",
      "align_content": null,
      "align_items": null,
      "align_self": null,
      "border": null,
      "bottom": null,
      "display": null,
      "flex": null,
      "flex_flow": null,
      "grid_area": null,
      "grid_auto_columns": null,
      "grid_auto_flow": null,
      "grid_auto_rows": null,
      "grid_column": null,
      "grid_gap": null,
      "grid_row": null,
      "grid_template_areas": null,
      "grid_template_columns": null,
      "grid_template_rows": null,
      "height": null,
      "justify_content": null,
      "justify_items": null,
      "left": null,
      "margin": null,
      "max_height": null,
      "max_width": null,
      "min_height": null,
      "min_width": null,
      "object_fit": null,
      "object_position": null,
      "order": null,
      "overflow": null,
      "overflow_x": null,
      "overflow_y": null,
      "padding": null,
      "right": null,
      "top": null,
      "visibility": null,
      "width": null
     }
    },
    "35c2bf75f16b4dc5b844a0f65c6af30d": {
     "model_module": "@jupyter-widgets/base",
     "model_module_version": "1.2.0",
     "model_name": "LayoutModel",
     "state": {
      "_model_module": "@jupyter-widgets/base",
      "_model_module_version": "1.2.0",
      "_model_name": "LayoutModel",
      "_view_count": null,
      "_view_module": "@jupyter-widgets/base",
      "_view_module_version": "1.2.0",
      "_view_name": "LayoutView",
      "align_content": null,
      "align_items": null,
      "align_self": null,
      "border": null,
      "bottom": null,
      "display": null,
      "flex": null,
      "flex_flow": null,
      "grid_area": null,
      "grid_auto_columns": null,
      "grid_auto_flow": null,
      "grid_auto_rows": null,
      "grid_column": null,
      "grid_gap": null,
      "grid_row": null,
      "grid_template_areas": null,
      "grid_template_columns": null,
      "grid_template_rows": null,
      "height": null,
      "justify_content": null,
      "justify_items": null,
      "left": null,
      "margin": null,
      "max_height": null,
      "max_width": null,
      "min_height": null,
      "min_width": null,
      "object_fit": null,
      "object_position": null,
      "order": null,
      "overflow": null,
      "overflow_x": null,
      "overflow_y": null,
      "padding": null,
      "right": null,
      "top": null,
      "visibility": null,
      "width": null
     }
    },
    "379c48e7bdc54d46a8e45c82ccd9f9d9": {
     "model_module": "@jupyter-widgets/controls",
     "model_module_version": "1.5.0",
     "model_name": "ProgressStyleModel",
     "state": {
      "_model_module": "@jupyter-widgets/controls",
      "_model_module_version": "1.5.0",
      "_model_name": "ProgressStyleModel",
      "_view_count": null,
      "_view_module": "@jupyter-widgets/base",
      "_view_module_version": "1.2.0",
      "_view_name": "StyleView",
      "bar_color": null,
      "description_width": ""
     }
    },
    "37ca400835cb4b10850254eab7f19ff2": {
     "model_module": "@jupyter-widgets/controls",
     "model_module_version": "1.5.0",
     "model_name": "DescriptionStyleModel",
     "state": {
      "_model_module": "@jupyter-widgets/controls",
      "_model_module_version": "1.5.0",
      "_model_name": "DescriptionStyleModel",
      "_view_count": null,
      "_view_module": "@jupyter-widgets/base",
      "_view_module_version": "1.2.0",
      "_view_name": "StyleView",
      "description_width": ""
     }
    },
    "384f1d316efc404eadaca075f82b6299": {
     "model_module": "@jupyter-widgets/controls",
     "model_module_version": "1.5.0",
     "model_name": "FloatProgressModel",
     "state": {
      "_dom_classes": [],
      "_model_module": "@jupyter-widgets/controls",
      "_model_module_version": "1.5.0",
      "_model_name": "FloatProgressModel",
      "_view_count": null,
      "_view_module": "@jupyter-widgets/controls",
      "_view_module_version": "1.5.0",
      "_view_name": "ProgressView",
      "bar_style": "success",
      "description": "",
      "description_tooltip": null,
      "layout": "IPY_MODEL_426c678f0f4d43a18fdd6304bfb6c0ad",
      "max": 274,
      "min": 0,
      "orientation": "horizontal",
      "style": "IPY_MODEL_50514a9022924cf58b2ad07f1ba1f846",
      "value": 274
     }
    },
    "38522030ec274927a6d35e6b70469105": {
     "model_module": "@jupyter-widgets/base",
     "model_module_version": "1.2.0",
     "model_name": "LayoutModel",
     "state": {
      "_model_module": "@jupyter-widgets/base",
      "_model_module_version": "1.2.0",
      "_model_name": "LayoutModel",
      "_view_count": null,
      "_view_module": "@jupyter-widgets/base",
      "_view_module_version": "1.2.0",
      "_view_name": "LayoutView",
      "align_content": null,
      "align_items": null,
      "align_self": null,
      "border": null,
      "bottom": null,
      "display": null,
      "flex": null,
      "flex_flow": null,
      "grid_area": null,
      "grid_auto_columns": null,
      "grid_auto_flow": null,
      "grid_auto_rows": null,
      "grid_column": null,
      "grid_gap": null,
      "grid_row": null,
      "grid_template_areas": null,
      "grid_template_columns": null,
      "grid_template_rows": null,
      "height": null,
      "justify_content": null,
      "justify_items": null,
      "left": null,
      "margin": null,
      "max_height": null,
      "max_width": null,
      "min_height": null,
      "min_width": null,
      "object_fit": null,
      "object_position": null,
      "order": null,
      "overflow": null,
      "overflow_x": null,
      "overflow_y": null,
      "padding": null,
      "right": null,
      "top": null,
      "visibility": null,
      "width": null
     }
    },
    "3a28019bf28348438a352ed72c069918": {
     "model_module": "@jupyter-widgets/controls",
     "model_module_version": "1.5.0",
     "model_name": "DescriptionStyleModel",
     "state": {
      "_model_module": "@jupyter-widgets/controls",
      "_model_module_version": "1.5.0",
      "_model_name": "DescriptionStyleModel",
      "_view_count": null,
      "_view_module": "@jupyter-widgets/base",
      "_view_module_version": "1.2.0",
      "_view_name": "StyleView",
      "description_width": ""
     }
    },
    "3aafffa6848d405f973c0dd80aa595dd": {
     "model_module": "@jupyter-widgets/controls",
     "model_module_version": "1.5.0",
     "model_name": "FloatProgressModel",
     "state": {
      "_dom_classes": [],
      "_model_module": "@jupyter-widgets/controls",
      "_model_module_version": "1.5.0",
      "_model_name": "FloatProgressModel",
      "_view_count": null,
      "_view_module": "@jupyter-widgets/controls",
      "_view_module_version": "1.5.0",
      "_view_name": "ProgressView",
      "bar_style": "info",
      "description": "",
      "description_tooltip": null,
      "layout": "IPY_MODEL_2476556546784382b1df7fb9bfb38160",
      "max": 1,
      "min": 0,
      "orientation": "horizontal",
      "style": "IPY_MODEL_379c48e7bdc54d46a8e45c82ccd9f9d9",
      "value": 1
     }
    },
    "3ab1e4fec3574fb38c795875820c86fa": {
     "model_module": "@jupyter-widgets/controls",
     "model_module_version": "1.5.0",
     "model_name": "DescriptionStyleModel",
     "state": {
      "_model_module": "@jupyter-widgets/controls",
      "_model_module_version": "1.5.0",
      "_model_name": "DescriptionStyleModel",
      "_view_count": null,
      "_view_module": "@jupyter-widgets/base",
      "_view_module_version": "1.2.0",
      "_view_name": "StyleView",
      "description_width": ""
     }
    },
    "3d3c0002fed94145ac4f1deb79d10d2b": {
     "model_module": "@jupyter-widgets/base",
     "model_module_version": "1.2.0",
     "model_name": "LayoutModel",
     "state": {
      "_model_module": "@jupyter-widgets/base",
      "_model_module_version": "1.2.0",
      "_model_name": "LayoutModel",
      "_view_count": null,
      "_view_module": "@jupyter-widgets/base",
      "_view_module_version": "1.2.0",
      "_view_name": "LayoutView",
      "align_content": null,
      "align_items": null,
      "align_self": null,
      "border": null,
      "bottom": null,
      "display": null,
      "flex": null,
      "flex_flow": null,
      "grid_area": null,
      "grid_auto_columns": null,
      "grid_auto_flow": null,
      "grid_auto_rows": null,
      "grid_column": null,
      "grid_gap": null,
      "grid_row": null,
      "grid_template_areas": null,
      "grid_template_columns": null,
      "grid_template_rows": null,
      "height": null,
      "justify_content": null,
      "justify_items": null,
      "left": null,
      "margin": null,
      "max_height": null,
      "max_width": null,
      "min_height": null,
      "min_width": null,
      "object_fit": null,
      "object_position": null,
      "order": null,
      "overflow": null,
      "overflow_x": null,
      "overflow_y": null,
      "padding": null,
      "right": null,
      "top": null,
      "visibility": null,
      "width": null
     }
    },
    "3dbd1aefbf834c6486657f6ef68b2e6d": {
     "model_module": "@jupyter-widgets/controls",
     "model_module_version": "1.5.0",
     "model_name": "DescriptionStyleModel",
     "state": {
      "_model_module": "@jupyter-widgets/controls",
      "_model_module_version": "1.5.0",
      "_model_name": "DescriptionStyleModel",
      "_view_count": null,
      "_view_module": "@jupyter-widgets/base",
      "_view_module_version": "1.2.0",
      "_view_name": "StyleView",
      "description_width": ""
     }
    },
    "3ec8136205f044c3955a729fa992ce22": {
     "model_module": "@jupyter-widgets/controls",
     "model_module_version": "1.5.0",
     "model_name": "FloatProgressModel",
     "state": {
      "_dom_classes": [],
      "_model_module": "@jupyter-widgets/controls",
      "_model_module_version": "1.5.0",
      "_model_name": "FloatProgressModel",
      "_view_count": null,
      "_view_module": "@jupyter-widgets/controls",
      "_view_module_version": "1.5.0",
      "_view_name": "ProgressView",
      "bar_style": "info",
      "description": "",
      "description_tooltip": null,
      "layout": "IPY_MODEL_bb935770126640859dc069028006bd44",
      "max": 1,
      "min": 0,
      "orientation": "horizontal",
      "style": "IPY_MODEL_e53986c5cc3941fdb489bdcdfabe96b2",
      "value": 1
     }
    },
    "3fa33b39774d46adb3ef2d389cd023a2": {
     "model_module": "@jupyter-widgets/base",
     "model_module_version": "1.2.0",
     "model_name": "LayoutModel",
     "state": {
      "_model_module": "@jupyter-widgets/base",
      "_model_module_version": "1.2.0",
      "_model_name": "LayoutModel",
      "_view_count": null,
      "_view_module": "@jupyter-widgets/base",
      "_view_module_version": "1.2.0",
      "_view_name": "LayoutView",
      "align_content": null,
      "align_items": null,
      "align_self": null,
      "border": null,
      "bottom": null,
      "display": null,
      "flex": null,
      "flex_flow": null,
      "grid_area": null,
      "grid_auto_columns": null,
      "grid_auto_flow": null,
      "grid_auto_rows": null,
      "grid_column": null,
      "grid_gap": null,
      "grid_row": null,
      "grid_template_areas": null,
      "grid_template_columns": null,
      "grid_template_rows": null,
      "height": null,
      "justify_content": null,
      "justify_items": null,
      "left": null,
      "margin": null,
      "max_height": null,
      "max_width": null,
      "min_height": null,
      "min_width": null,
      "object_fit": null,
      "object_position": null,
      "order": null,
      "overflow": null,
      "overflow_x": null,
      "overflow_y": null,
      "padding": null,
      "right": null,
      "top": null,
      "visibility": null,
      "width": null
     }
    },
    "423808812c434d429a0457aaf77d3aae": {
     "model_module": "@jupyter-widgets/base",
     "model_module_version": "1.2.0",
     "model_name": "LayoutModel",
     "state": {
      "_model_module": "@jupyter-widgets/base",
      "_model_module_version": "1.2.0",
      "_model_name": "LayoutModel",
      "_view_count": null,
      "_view_module": "@jupyter-widgets/base",
      "_view_module_version": "1.2.0",
      "_view_name": "LayoutView",
      "align_content": null,
      "align_items": null,
      "align_self": null,
      "border": null,
      "bottom": null,
      "display": null,
      "flex": null,
      "flex_flow": null,
      "grid_area": null,
      "grid_auto_columns": null,
      "grid_auto_flow": null,
      "grid_auto_rows": null,
      "grid_column": null,
      "grid_gap": null,
      "grid_row": null,
      "grid_template_areas": null,
      "grid_template_columns": null,
      "grid_template_rows": null,
      "height": null,
      "justify_content": null,
      "justify_items": null,
      "left": null,
      "margin": null,
      "max_height": null,
      "max_width": null,
      "min_height": null,
      "min_width": null,
      "object_fit": null,
      "object_position": null,
      "order": null,
      "overflow": null,
      "overflow_x": null,
      "overflow_y": null,
      "padding": null,
      "right": null,
      "top": null,
      "visibility": null,
      "width": null
     }
    },
    "426c678f0f4d43a18fdd6304bfb6c0ad": {
     "model_module": "@jupyter-widgets/base",
     "model_module_version": "1.2.0",
     "model_name": "LayoutModel",
     "state": {
      "_model_module": "@jupyter-widgets/base",
      "_model_module_version": "1.2.0",
      "_model_name": "LayoutModel",
      "_view_count": null,
      "_view_module": "@jupyter-widgets/base",
      "_view_module_version": "1.2.0",
      "_view_name": "LayoutView",
      "align_content": null,
      "align_items": null,
      "align_self": null,
      "border": null,
      "bottom": null,
      "display": null,
      "flex": null,
      "flex_flow": null,
      "grid_area": null,
      "grid_auto_columns": null,
      "grid_auto_flow": null,
      "grid_auto_rows": null,
      "grid_column": null,
      "grid_gap": null,
      "grid_row": null,
      "grid_template_areas": null,
      "grid_template_columns": null,
      "grid_template_rows": null,
      "height": null,
      "justify_content": null,
      "justify_items": null,
      "left": null,
      "margin": null,
      "max_height": null,
      "max_width": null,
      "min_height": null,
      "min_width": null,
      "object_fit": null,
      "object_position": null,
      "order": null,
      "overflow": null,
      "overflow_x": null,
      "overflow_y": null,
      "padding": null,
      "right": null,
      "top": null,
      "visibility": null,
      "width": null
     }
    },
    "42e7d4f359ff4a548584ad2383e46bfb": {
     "model_module": "@jupyter-widgets/controls",
     "model_module_version": "1.5.0",
     "model_name": "HTMLModel",
     "state": {
      "_dom_classes": [],
      "_model_module": "@jupyter-widgets/controls",
      "_model_module_version": "1.5.0",
      "_model_name": "HTMLModel",
      "_view_count": null,
      "_view_module": "@jupyter-widgets/controls",
      "_view_module_version": "1.5.0",
      "_view_name": "HTMLView",
      "description": "",
      "description_tooltip": null,
      "layout": "IPY_MODEL_b74c3f888476432998130a19162dd6a9",
      "placeholder": "​",
      "style": "IPY_MODEL_1572d49323304832ad3ac9b2d27f1253",
      "value": " 3/3 [00:00&lt;00:00, 91.83it/s]"
     }
    },
    "461ea16eafbb4d84b8561847337dd522": {
     "model_module": "@jupyter-widgets/controls",
     "model_module_version": "1.5.0",
     "model_name": "ProgressStyleModel",
     "state": {
      "_model_module": "@jupyter-widgets/controls",
      "_model_module_version": "1.5.0",
      "_model_name": "ProgressStyleModel",
      "_view_count": null,
      "_view_module": "@jupyter-widgets/base",
      "_view_module_version": "1.2.0",
      "_view_name": "StyleView",
      "bar_color": null,
      "description_width": ""
     }
    },
    "50514a9022924cf58b2ad07f1ba1f846": {
     "model_module": "@jupyter-widgets/controls",
     "model_module_version": "1.5.0",
     "model_name": "ProgressStyleModel",
     "state": {
      "_model_module": "@jupyter-widgets/controls",
      "_model_module_version": "1.5.0",
      "_model_name": "ProgressStyleModel",
      "_view_count": null,
      "_view_module": "@jupyter-widgets/base",
      "_view_module_version": "1.2.0",
      "_view_name": "StyleView",
      "bar_color": null,
      "description_width": ""
     }
    },
    "51cf2db91df94d1db17656d315461271": {
     "model_module": "@jupyter-widgets/base",
     "model_module_version": "1.2.0",
     "model_name": "LayoutModel",
     "state": {
      "_model_module": "@jupyter-widgets/base",
      "_model_module_version": "1.2.0",
      "_model_name": "LayoutModel",
      "_view_count": null,
      "_view_module": "@jupyter-widgets/base",
      "_view_module_version": "1.2.0",
      "_view_name": "LayoutView",
      "align_content": null,
      "align_items": null,
      "align_self": null,
      "border": null,
      "bottom": null,
      "display": null,
      "flex": null,
      "flex_flow": null,
      "grid_area": null,
      "grid_auto_columns": null,
      "grid_auto_flow": null,
      "grid_auto_rows": null,
      "grid_column": null,
      "grid_gap": null,
      "grid_row": null,
      "grid_template_areas": null,
      "grid_template_columns": null,
      "grid_template_rows": null,
      "height": null,
      "justify_content": null,
      "justify_items": null,
      "left": null,
      "margin": null,
      "max_height": null,
      "max_width": null,
      "min_height": null,
      "min_width": null,
      "object_fit": null,
      "object_position": null,
      "order": null,
      "overflow": null,
      "overflow_x": null,
      "overflow_y": null,
      "padding": null,
      "right": null,
      "top": null,
      "visibility": null,
      "width": null
     }
    },
    "51f30d4fd3b8440c80cc9229bf29d000": {
     "model_module": "@jupyter-widgets/controls",
     "model_module_version": "1.5.0",
     "model_name": "DescriptionStyleModel",
     "state": {
      "_model_module": "@jupyter-widgets/controls",
      "_model_module_version": "1.5.0",
      "_model_name": "DescriptionStyleModel",
      "_view_count": null,
      "_view_module": "@jupyter-widgets/base",
      "_view_module_version": "1.2.0",
      "_view_name": "StyleView",
      "description_width": ""
     }
    },
    "525e985951fc43e085e03ee54e2174ae": {
     "model_module": "@jupyter-widgets/controls",
     "model_module_version": "1.5.0",
     "model_name": "HTMLModel",
     "state": {
      "_dom_classes": [],
      "_model_module": "@jupyter-widgets/controls",
      "_model_module_version": "1.5.0",
      "_model_name": "HTMLModel",
      "_view_count": null,
      "_view_module": "@jupyter-widgets/controls",
      "_view_module_version": "1.5.0",
      "_view_name": "HTMLView",
      "description": "",
      "description_tooltip": null,
      "layout": "IPY_MODEL_d2a9e3cb434c4aa29358e6efc19c60a0",
      "placeholder": "​",
      "style": "IPY_MODEL_6d5b01251c67423a9746f340f153c2e2",
      "value": "100%"
     }
    },
    "5411d977d0bf4bef8bdbbeb128b8002a": {
     "model_module": "@jupyter-widgets/base",
     "model_module_version": "1.2.0",
     "model_name": "LayoutModel",
     "state": {
      "_model_module": "@jupyter-widgets/base",
      "_model_module_version": "1.2.0",
      "_model_name": "LayoutModel",
      "_view_count": null,
      "_view_module": "@jupyter-widgets/base",
      "_view_module_version": "1.2.0",
      "_view_name": "LayoutView",
      "align_content": null,
      "align_items": null,
      "align_self": null,
      "border": null,
      "bottom": null,
      "display": null,
      "flex": null,
      "flex_flow": null,
      "grid_area": null,
      "grid_auto_columns": null,
      "grid_auto_flow": null,
      "grid_auto_rows": null,
      "grid_column": null,
      "grid_gap": null,
      "grid_row": null,
      "grid_template_areas": null,
      "grid_template_columns": null,
      "grid_template_rows": null,
      "height": null,
      "justify_content": null,
      "justify_items": null,
      "left": null,
      "margin": null,
      "max_height": null,
      "max_width": null,
      "min_height": null,
      "min_width": null,
      "object_fit": null,
      "object_position": null,
      "order": null,
      "overflow": null,
      "overflow_x": null,
      "overflow_y": null,
      "padding": null,
      "right": null,
      "top": null,
      "visibility": null,
      "width": null
     }
    },
    "546dd4358b5e4add83c23dc82fd2aab3": {
     "model_module": "@jupyter-widgets/base",
     "model_module_version": "1.2.0",
     "model_name": "LayoutModel",
     "state": {
      "_model_module": "@jupyter-widgets/base",
      "_model_module_version": "1.2.0",
      "_model_name": "LayoutModel",
      "_view_count": null,
      "_view_module": "@jupyter-widgets/base",
      "_view_module_version": "1.2.0",
      "_view_name": "LayoutView",
      "align_content": null,
      "align_items": null,
      "align_self": null,
      "border": null,
      "bottom": null,
      "display": null,
      "flex": null,
      "flex_flow": null,
      "grid_area": null,
      "grid_auto_columns": null,
      "grid_auto_flow": null,
      "grid_auto_rows": null,
      "grid_column": null,
      "grid_gap": null,
      "grid_row": null,
      "grid_template_areas": null,
      "grid_template_columns": null,
      "grid_template_rows": null,
      "height": null,
      "justify_content": null,
      "justify_items": null,
      "left": null,
      "margin": null,
      "max_height": null,
      "max_width": null,
      "min_height": null,
      "min_width": null,
      "object_fit": null,
      "object_position": null,
      "order": null,
      "overflow": null,
      "overflow_x": null,
      "overflow_y": null,
      "padding": null,
      "right": null,
      "top": null,
      "visibility": null,
      "width": null
     }
    },
    "5a53843b57e84b7b8727b70d2a7379dc": {
     "model_module": "@jupyter-widgets/base",
     "model_module_version": "1.2.0",
     "model_name": "LayoutModel",
     "state": {
      "_model_module": "@jupyter-widgets/base",
      "_model_module_version": "1.2.0",
      "_model_name": "LayoutModel",
      "_view_count": null,
      "_view_module": "@jupyter-widgets/base",
      "_view_module_version": "1.2.0",
      "_view_name": "LayoutView",
      "align_content": null,
      "align_items": null,
      "align_self": null,
      "border": null,
      "bottom": null,
      "display": null,
      "flex": null,
      "flex_flow": null,
      "grid_area": null,
      "grid_auto_columns": null,
      "grid_auto_flow": null,
      "grid_auto_rows": null,
      "grid_column": null,
      "grid_gap": null,
      "grid_row": null,
      "grid_template_areas": null,
      "grid_template_columns": null,
      "grid_template_rows": null,
      "height": null,
      "justify_content": null,
      "justify_items": null,
      "left": null,
      "margin": null,
      "max_height": null,
      "max_width": null,
      "min_height": null,
      "min_width": null,
      "object_fit": null,
      "object_position": null,
      "order": null,
      "overflow": null,
      "overflow_x": null,
      "overflow_y": null,
      "padding": null,
      "right": null,
      "top": null,
      "visibility": null,
      "width": null
     }
    },
    "5bfcfab353d94038b8cfeb220d860a0a": {
     "model_module": "@jupyter-widgets/controls",
     "model_module_version": "1.5.0",
     "model_name": "FloatProgressModel",
     "state": {
      "_dom_classes": [],
      "_model_module": "@jupyter-widgets/controls",
      "_model_module_version": "1.5.0",
      "_model_name": "FloatProgressModel",
      "_view_count": null,
      "_view_module": "@jupyter-widgets/controls",
      "_view_module_version": "1.5.0",
      "_view_name": "ProgressView",
      "bar_style": "success",
      "description": "",
      "description_tooltip": null,
      "layout": "IPY_MODEL_0b5d7a9bc6ce45c1a2d2f1a624e52add",
      "max": 69,
      "min": 0,
      "orientation": "horizontal",
      "style": "IPY_MODEL_ed05a8359589425fa6a8b60aa0485f8b",
      "value": 69
     }
    },
    "5c9d81a273284ebcb5ca624695f1a30f": {
     "model_module": "@jupyter-widgets/controls",
     "model_module_version": "1.5.0",
     "model_name": "FloatProgressModel",
     "state": {
      "_dom_classes": [],
      "_model_module": "@jupyter-widgets/controls",
      "_model_module_version": "1.5.0",
      "_model_name": "FloatProgressModel",
      "_view_count": null,
      "_view_module": "@jupyter-widgets/controls",
      "_view_module_version": "1.5.0",
      "_view_name": "ProgressView",
      "bar_style": "success",
      "description": "",
      "description_tooltip": null,
      "layout": "IPY_MODEL_38522030ec274927a6d35e6b70469105",
      "max": 995526,
      "min": 0,
      "orientation": "horizontal",
      "style": "IPY_MODEL_2f2f6f8919854f24b1fea30612b22c14",
      "value": 995526
     }
    },
    "5e593976bfb54f47b3f84a54aa93ef5c": {
     "model_module": "@jupyter-widgets/controls",
     "model_module_version": "1.5.0",
     "model_name": "HBoxModel",
     "state": {
      "_dom_classes": [],
      "_model_module": "@jupyter-widgets/controls",
      "_model_module_version": "1.5.0",
      "_model_name": "HBoxModel",
      "_view_count": null,
      "_view_module": "@jupyter-widgets/controls",
      "_view_module_version": "1.5.0",
      "_view_name": "HBoxView",
      "box_style": "",
      "children": [
       "IPY_MODEL_f6be3758525c4266a46fe6e80e21b73d",
       "IPY_MODEL_3ec8136205f044c3955a729fa992ce22",
       "IPY_MODEL_65fcbbf417d543148cfcde7298b1befd"
      ],
      "layout": "IPY_MODEL_a574656c04b7491294ce491b7f737239"
     }
    },
    "5f1c6a4627874e3abf66160b4d7c28ce": {
     "model_module": "@jupyter-widgets/controls",
     "model_module_version": "1.5.0",
     "model_name": "HTMLModel",
     "state": {
      "_dom_classes": [],
      "_model_module": "@jupyter-widgets/controls",
      "_model_module_version": "1.5.0",
      "_model_name": "HTMLModel",
      "_view_count": null,
      "_view_module": "@jupyter-widgets/controls",
      "_view_module_version": "1.5.0",
      "_view_name": "HTMLView",
      "description": "",
      "description_tooltip": null,
      "layout": "IPY_MODEL_acd2bce250f54642a706876821237682",
      "placeholder": "​",
      "style": "IPY_MODEL_b3d38050136b45479b7905893c2a672e",
      "value": "100%"
     }
    },
    "5f94b21c57374af1a44ad6778f9a267f": {
     "model_module": "@jupyter-widgets/base",
     "model_module_version": "1.2.0",
     "model_name": "LayoutModel",
     "state": {
      "_model_module": "@jupyter-widgets/base",
      "_model_module_version": "1.2.0",
      "_model_name": "LayoutModel",
      "_view_count": null,
      "_view_module": "@jupyter-widgets/base",
      "_view_module_version": "1.2.0",
      "_view_name": "LayoutView",
      "align_content": null,
      "align_items": null,
      "align_self": null,
      "border": null,
      "bottom": null,
      "display": null,
      "flex": null,
      "flex_flow": null,
      "grid_area": null,
      "grid_auto_columns": null,
      "grid_auto_flow": null,
      "grid_auto_rows": null,
      "grid_column": null,
      "grid_gap": null,
      "grid_row": null,
      "grid_template_areas": null,
      "grid_template_columns": null,
      "grid_template_rows": null,
      "height": null,
      "justify_content": null,
      "justify_items": null,
      "left": null,
      "margin": null,
      "max_height": null,
      "max_width": null,
      "min_height": null,
      "min_width": null,
      "object_fit": null,
      "object_position": null,
      "order": null,
      "overflow": null,
      "overflow_x": null,
      "overflow_y": null,
      "padding": null,
      "right": null,
      "top": null,
      "visibility": null,
      "width": null
     }
    },
    "5fb974e3cf2d44a394619832d18d9955": {
     "model_module": "@jupyter-widgets/controls",
     "model_module_version": "1.5.0",
     "model_name": "HBoxModel",
     "state": {
      "_dom_classes": [],
      "_model_module": "@jupyter-widgets/controls",
      "_model_module_version": "1.5.0",
      "_model_name": "HBoxModel",
      "_view_count": null,
      "_view_module": "@jupyter-widgets/controls",
      "_view_module_version": "1.5.0",
      "_view_name": "HBoxView",
      "box_style": "",
      "children": [
       "IPY_MODEL_fa9babcd34ec4859820c9ae980818087",
       "IPY_MODEL_79ec180e0bce40ff85421b524ff1717a",
       "IPY_MODEL_159f4190e1dc4437bfd1326a4066e232"
      ],
      "layout": "IPY_MODEL_6070bce7c56843b3879981b1f5d88ebe"
     }
    },
    "5fbe8640c52a4078b5c9f4c61ea1b0b8": {
     "model_module": "@jupyter-widgets/base",
     "model_module_version": "1.2.0",
     "model_name": "LayoutModel",
     "state": {
      "_model_module": "@jupyter-widgets/base",
      "_model_module_version": "1.2.0",
      "_model_name": "LayoutModel",
      "_view_count": null,
      "_view_module": "@jupyter-widgets/base",
      "_view_module_version": "1.2.0",
      "_view_name": "LayoutView",
      "align_content": null,
      "align_items": null,
      "align_self": null,
      "border": null,
      "bottom": null,
      "display": null,
      "flex": null,
      "flex_flow": null,
      "grid_area": null,
      "grid_auto_columns": null,
      "grid_auto_flow": null,
      "grid_auto_rows": null,
      "grid_column": null,
      "grid_gap": null,
      "grid_row": null,
      "grid_template_areas": null,
      "grid_template_columns": null,
      "grid_template_rows": null,
      "height": null,
      "justify_content": null,
      "justify_items": null,
      "left": null,
      "margin": null,
      "max_height": null,
      "max_width": null,
      "min_height": null,
      "min_width": null,
      "object_fit": null,
      "object_position": null,
      "order": null,
      "overflow": null,
      "overflow_x": null,
      "overflow_y": null,
      "padding": null,
      "right": null,
      "top": null,
      "visibility": null,
      "width": null
     }
    },
    "6070bce7c56843b3879981b1f5d88ebe": {
     "model_module": "@jupyter-widgets/base",
     "model_module_version": "1.2.0",
     "model_name": "LayoutModel",
     "state": {
      "_model_module": "@jupyter-widgets/base",
      "_model_module_version": "1.2.0",
      "_model_name": "LayoutModel",
      "_view_count": null,
      "_view_module": "@jupyter-widgets/base",
      "_view_module_version": "1.2.0",
      "_view_name": "LayoutView",
      "align_content": null,
      "align_items": null,
      "align_self": null,
      "border": null,
      "bottom": null,
      "display": null,
      "flex": null,
      "flex_flow": null,
      "grid_area": null,
      "grid_auto_columns": null,
      "grid_auto_flow": null,
      "grid_auto_rows": null,
      "grid_column": null,
      "grid_gap": null,
      "grid_row": null,
      "grid_template_areas": null,
      "grid_template_columns": null,
      "grid_template_rows": null,
      "height": null,
      "justify_content": null,
      "justify_items": null,
      "left": null,
      "margin": null,
      "max_height": null,
      "max_width": null,
      "min_height": null,
      "min_width": null,
      "object_fit": null,
      "object_position": null,
      "order": null,
      "overflow": null,
      "overflow_x": null,
      "overflow_y": null,
      "padding": null,
      "right": null,
      "top": null,
      "visibility": null,
      "width": null
     }
    },
    "65fcbbf417d543148cfcde7298b1befd": {
     "model_module": "@jupyter-widgets/controls",
     "model_module_version": "1.5.0",
     "model_name": "HTMLModel",
     "state": {
      "_dom_classes": [],
      "_model_module": "@jupyter-widgets/controls",
      "_model_module_version": "1.5.0",
      "_model_name": "HTMLModel",
      "_view_count": null,
      "_view_module": "@jupyter-widgets/controls",
      "_view_module_version": "1.5.0",
      "_view_name": "HTMLView",
      "description": "",
      "description_tooltip": null,
      "layout": "IPY_MODEL_3522f37fdead4697a85f52d5ceea014d",
      "placeholder": "​",
      "style": "IPY_MODEL_734f6f2fef854d57bc70c79ba4edc5ac",
      "value": " 27/? [00:03&lt;00:00,  6.64 tables/s]"
     }
    },
    "666c48809587458eaf86d93cba8261d2": {
     "model_module": "@jupyter-widgets/base",
     "model_module_version": "1.2.0",
     "model_name": "LayoutModel",
     "state": {
      "_model_module": "@jupyter-widgets/base",
      "_model_module_version": "1.2.0",
      "_model_name": "LayoutModel",
      "_view_count": null,
      "_view_module": "@jupyter-widgets/base",
      "_view_module_version": "1.2.0",
      "_view_name": "LayoutView",
      "align_content": null,
      "align_items": null,
      "align_self": null,
      "border": null,
      "bottom": null,
      "display": null,
      "flex": null,
      "flex_flow": null,
      "grid_area": null,
      "grid_auto_columns": null,
      "grid_auto_flow": null,
      "grid_auto_rows": null,
      "grid_column": null,
      "grid_gap": null,
      "grid_row": null,
      "grid_template_areas": null,
      "grid_template_columns": null,
      "grid_template_rows": null,
      "height": null,
      "justify_content": null,
      "justify_items": null,
      "left": null,
      "margin": null,
      "max_height": null,
      "max_width": null,
      "min_height": null,
      "min_width": null,
      "object_fit": null,
      "object_position": null,
      "order": null,
      "overflow": null,
      "overflow_x": null,
      "overflow_y": null,
      "padding": null,
      "right": null,
      "top": null,
      "visibility": null,
      "width": null
     }
    },
    "671cf983b855429cab9a75d2cdfe0b6f": {
     "model_module": "@jupyter-widgets/controls",
     "model_module_version": "1.5.0",
     "model_name": "DescriptionStyleModel",
     "state": {
      "_model_module": "@jupyter-widgets/controls",
      "_model_module_version": "1.5.0",
      "_model_name": "DescriptionStyleModel",
      "_view_count": null,
      "_view_module": "@jupyter-widgets/base",
      "_view_module_version": "1.2.0",
      "_view_name": "StyleView",
      "description_width": ""
     }
    },
    "6d535a8ba1904d73a71ad6b9913fb08f": {
     "model_module": "@jupyter-widgets/controls",
     "model_module_version": "1.5.0",
     "model_name": "ProgressStyleModel",
     "state": {
      "_model_module": "@jupyter-widgets/controls",
      "_model_module_version": "1.5.0",
      "_model_name": "ProgressStyleModel",
      "_view_count": null,
      "_view_module": "@jupyter-widgets/base",
      "_view_module_version": "1.2.0",
      "_view_name": "StyleView",
      "bar_color": null,
      "description_width": ""
     }
    },
    "6d5b01251c67423a9746f340f153c2e2": {
     "model_module": "@jupyter-widgets/controls",
     "model_module_version": "1.5.0",
     "model_name": "DescriptionStyleModel",
     "state": {
      "_model_module": "@jupyter-widgets/controls",
      "_model_module_version": "1.5.0",
      "_model_name": "DescriptionStyleModel",
      "_view_count": null,
      "_view_module": "@jupyter-widgets/base",
      "_view_module_version": "1.2.0",
      "_view_name": "StyleView",
      "description_width": ""
     }
    },
    "6dec7c8579f7411daa00a7a6f7550f5f": {
     "model_module": "@jupyter-widgets/controls",
     "model_module_version": "1.5.0",
     "model_name": "HBoxModel",
     "state": {
      "_dom_classes": [],
      "_model_module": "@jupyter-widgets/controls",
      "_model_module_version": "1.5.0",
      "_model_name": "HBoxModel",
      "_view_count": null,
      "_view_module": "@jupyter-widgets/controls",
      "_view_module_version": "1.5.0",
      "_view_name": "HBoxView",
      "box_style": "",
      "children": [
       "IPY_MODEL_8627d025ed824c7dbab1e3a4e036be4e",
       "IPY_MODEL_12569e6b27e243b0a2c08d373b72705e",
       "IPY_MODEL_a672a3940c37454f8592531c7b698744"
      ],
      "layout": "IPY_MODEL_8490600d33f74deb98b716007e6111c0"
     }
    },
    "6f3fe0dbfaf345b9b99a70d5e96728ae": {
     "model_module": "@jupyter-widgets/base",
     "model_module_version": "1.2.0",
     "model_name": "LayoutModel",
     "state": {
      "_model_module": "@jupyter-widgets/base",
      "_model_module_version": "1.2.0",
      "_model_name": "LayoutModel",
      "_view_count": null,
      "_view_module": "@jupyter-widgets/base",
      "_view_module_version": "1.2.0",
      "_view_name": "LayoutView",
      "align_content": null,
      "align_items": null,
      "align_self": null,
      "border": null,
      "bottom": null,
      "display": null,
      "flex": null,
      "flex_flow": null,
      "grid_area": null,
      "grid_auto_columns": null,
      "grid_auto_flow": null,
      "grid_auto_rows": null,
      "grid_column": null,
      "grid_gap": null,
      "grid_row": null,
      "grid_template_areas": null,
      "grid_template_columns": null,
      "grid_template_rows": null,
      "height": null,
      "justify_content": null,
      "justify_items": null,
      "left": null,
      "margin": null,
      "max_height": null,
      "max_width": null,
      "min_height": null,
      "min_width": null,
      "object_fit": null,
      "object_position": null,
      "order": null,
      "overflow": null,
      "overflow_x": null,
      "overflow_y": null,
      "padding": null,
      "right": null,
      "top": null,
      "visibility": null,
      "width": null
     }
    },
    "70dff91939dc401e803480f7e50dc18f": {
     "model_module": "@jupyter-widgets/controls",
     "model_module_version": "1.5.0",
     "model_name": "ProgressStyleModel",
     "state": {
      "_model_module": "@jupyter-widgets/controls",
      "_model_module_version": "1.5.0",
      "_model_name": "ProgressStyleModel",
      "_view_count": null,
      "_view_module": "@jupyter-widgets/base",
      "_view_module_version": "1.2.0",
      "_view_name": "StyleView",
      "bar_color": null,
      "description_width": ""
     }
    },
    "71b21471ce254c3393d6dd61006254d6": {
     "model_module": "@jupyter-widgets/controls",
     "model_module_version": "1.5.0",
     "model_name": "ProgressStyleModel",
     "state": {
      "_model_module": "@jupyter-widgets/controls",
      "_model_module_version": "1.5.0",
      "_model_name": "ProgressStyleModel",
      "_view_count": null,
      "_view_module": "@jupyter-widgets/base",
      "_view_module_version": "1.2.0",
      "_view_name": "StyleView",
      "bar_color": null,
      "description_width": ""
     }
    },
    "72062145780e4f6a8e9e46cebc74c250": {
     "model_module": "@jupyter-widgets/controls",
     "model_module_version": "1.5.0",
     "model_name": "DescriptionStyleModel",
     "state": {
      "_model_module": "@jupyter-widgets/controls",
      "_model_module_version": "1.5.0",
      "_model_name": "DescriptionStyleModel",
      "_view_count": null,
      "_view_module": "@jupyter-widgets/base",
      "_view_module_version": "1.2.0",
      "_view_name": "StyleView",
      "description_width": ""
     }
    },
    "7220376b44f449d0bc1350ad8a76848b": {
     "model_module": "@jupyter-widgets/controls",
     "model_module_version": "1.5.0",
     "model_name": "HBoxModel",
     "state": {
      "_dom_classes": [],
      "_model_module": "@jupyter-widgets/controls",
      "_model_module_version": "1.5.0",
      "_model_name": "HBoxModel",
      "_view_count": null,
      "_view_module": "@jupyter-widgets/controls",
      "_view_module_version": "1.5.0",
      "_view_name": "HBoxView",
      "box_style": "",
      "children": [
       "IPY_MODEL_f390799ae79b4161bd20987d7b697da6",
       "IPY_MODEL_1875719602c941508782302c4a4f83fe",
       "IPY_MODEL_2488fae598834cc7b1c2e1738e57583c"
      ],
      "layout": "IPY_MODEL_a0eb8f49cef0489dbfdd566921cb37bf"
     }
    },
    "734f6f2fef854d57bc70c79ba4edc5ac": {
     "model_module": "@jupyter-widgets/controls",
     "model_module_version": "1.5.0",
     "model_name": "DescriptionStyleModel",
     "state": {
      "_model_module": "@jupyter-widgets/controls",
      "_model_module_version": "1.5.0",
      "_model_name": "DescriptionStyleModel",
      "_view_count": null,
      "_view_module": "@jupyter-widgets/base",
      "_view_module_version": "1.2.0",
      "_view_name": "StyleView",
      "description_width": ""
     }
    },
    "73f9382dfaa3424db427d27cec2f2510": {
     "model_module": "@jupyter-widgets/base",
     "model_module_version": "1.2.0",
     "model_name": "LayoutModel",
     "state": {
      "_model_module": "@jupyter-widgets/base",
      "_model_module_version": "1.2.0",
      "_model_name": "LayoutModel",
      "_view_count": null,
      "_view_module": "@jupyter-widgets/base",
      "_view_module_version": "1.2.0",
      "_view_name": "LayoutView",
      "align_content": null,
      "align_items": null,
      "align_self": null,
      "border": null,
      "bottom": null,
      "display": null,
      "flex": null,
      "flex_flow": null,
      "grid_area": null,
      "grid_auto_columns": null,
      "grid_auto_flow": null,
      "grid_auto_rows": null,
      "grid_column": null,
      "grid_gap": null,
      "grid_row": null,
      "grid_template_areas": null,
      "grid_template_columns": null,
      "grid_template_rows": null,
      "height": null,
      "justify_content": null,
      "justify_items": null,
      "left": null,
      "margin": null,
      "max_height": null,
      "max_width": null,
      "min_height": null,
      "min_width": null,
      "object_fit": null,
      "object_position": null,
      "order": null,
      "overflow": null,
      "overflow_x": null,
      "overflow_y": null,
      "padding": null,
      "right": null,
      "top": null,
      "visibility": null,
      "width": null
     }
    },
    "74c799f889374a52ae742fcff4a90f30": {
     "model_module": "@jupyter-widgets/controls",
     "model_module_version": "1.5.0",
     "model_name": "ProgressStyleModel",
     "state": {
      "_model_module": "@jupyter-widgets/controls",
      "_model_module_version": "1.5.0",
      "_model_name": "ProgressStyleModel",
      "_view_count": null,
      "_view_module": "@jupyter-widgets/base",
      "_view_module_version": "1.2.0",
      "_view_name": "StyleView",
      "bar_color": null,
      "description_width": ""
     }
    },
    "74d53245e2f445d2aa9289ace4ff063e": {
     "model_module": "@jupyter-widgets/controls",
     "model_module_version": "1.5.0",
     "model_name": "HBoxModel",
     "state": {
      "_dom_classes": [],
      "_model_module": "@jupyter-widgets/controls",
      "_model_module_version": "1.5.0",
      "_model_name": "HBoxModel",
      "_view_count": null,
      "_view_module": "@jupyter-widgets/controls",
      "_view_module_version": "1.5.0",
      "_view_name": "HBoxView",
      "box_style": "",
      "children": [
       "IPY_MODEL_e5642731332540ad9f63268e20337cb9",
       "IPY_MODEL_f1dbda0d4de64fda9d783bba5ae94e01",
       "IPY_MODEL_b442994934fe486fb3e13173737d1ad4"
      ],
      "layout": "IPY_MODEL_c7753e7b4dc0485aa722ff668e8b0547"
     }
    },
    "785be4b2abf84b3ca384487dc9ee3560": {
     "model_module": "@jupyter-widgets/controls",
     "model_module_version": "1.5.0",
     "model_name": "HTMLModel",
     "state": {
      "_dom_classes": [],
      "_model_module": "@jupyter-widgets/controls",
      "_model_module_version": "1.5.0",
      "_model_name": "HTMLModel",
      "_view_count": null,
      "_view_module": "@jupyter-widgets/controls",
      "_view_module_version": "1.5.0",
      "_view_name": "HTMLView",
      "description": "",
      "description_tooltip": null,
      "layout": "IPY_MODEL_fe08691d1d7840d8aa02360a2b43568d",
      "placeholder": "​",
      "style": "IPY_MODEL_3a28019bf28348438a352ed72c069918",
      "value": "100%"
     }
    },
    "794ee10016fe49aa9b82dbc4b759c1e2": {
     "model_module": "@jupyter-widgets/controls",
     "model_module_version": "1.5.0",
     "model_name": "DescriptionStyleModel",
     "state": {
      "_model_module": "@jupyter-widgets/controls",
      "_model_module_version": "1.5.0",
      "_model_name": "DescriptionStyleModel",
      "_view_count": null,
      "_view_module": "@jupyter-widgets/base",
      "_view_module_version": "1.2.0",
      "_view_name": "StyleView",
      "description_width": ""
     }
    },
    "79ec180e0bce40ff85421b524ff1717a": {
     "model_module": "@jupyter-widgets/controls",
     "model_module_version": "1.5.0",
     "model_name": "FloatProgressModel",
     "state": {
      "_dom_classes": [],
      "_model_module": "@jupyter-widgets/controls",
      "_model_module_version": "1.5.0",
      "_model_name": "FloatProgressModel",
      "_view_count": null,
      "_view_module": "@jupyter-widgets/controls",
      "_view_module_version": "1.5.0",
      "_view_name": "ProgressView",
      "bar_style": "info",
      "description": "",
      "description_tooltip": null,
      "layout": "IPY_MODEL_17308594a18249c384b742ad33fad170",
      "max": 1,
      "min": 0,
      "orientation": "horizontal",
      "style": "IPY_MODEL_71b21471ce254c3393d6dd61006254d6",
      "value": 1
     }
    },
    "7e95a8e5083d49648a6a29c78d5f11ef": {
     "model_module": "@jupyter-widgets/base",
     "model_module_version": "1.2.0",
     "model_name": "LayoutModel",
     "state": {
      "_model_module": "@jupyter-widgets/base",
      "_model_module_version": "1.2.0",
      "_model_name": "LayoutModel",
      "_view_count": null,
      "_view_module": "@jupyter-widgets/base",
      "_view_module_version": "1.2.0",
      "_view_name": "LayoutView",
      "align_content": null,
      "align_items": null,
      "align_self": null,
      "border": null,
      "bottom": null,
      "display": null,
      "flex": null,
      "flex_flow": null,
      "grid_area": null,
      "grid_auto_columns": null,
      "grid_auto_flow": null,
      "grid_auto_rows": null,
      "grid_column": null,
      "grid_gap": null,
      "grid_row": null,
      "grid_template_areas": null,
      "grid_template_columns": null,
      "grid_template_rows": null,
      "height": null,
      "justify_content": null,
      "justify_items": null,
      "left": null,
      "margin": null,
      "max_height": null,
      "max_width": null,
      "min_height": null,
      "min_width": null,
      "object_fit": null,
      "object_position": null,
      "order": null,
      "overflow": null,
      "overflow_x": null,
      "overflow_y": null,
      "padding": null,
      "right": null,
      "top": null,
      "visibility": null,
      "width": null
     }
    },
    "809b4e212dc64927ae163dc0516debf7": {
     "model_module": "@jupyter-widgets/base",
     "model_module_version": "1.2.0",
     "model_name": "LayoutModel",
     "state": {
      "_model_module": "@jupyter-widgets/base",
      "_model_module_version": "1.2.0",
      "_model_name": "LayoutModel",
      "_view_count": null,
      "_view_module": "@jupyter-widgets/base",
      "_view_module_version": "1.2.0",
      "_view_name": "LayoutView",
      "align_content": null,
      "align_items": null,
      "align_self": null,
      "border": null,
      "bottom": null,
      "display": null,
      "flex": null,
      "flex_flow": null,
      "grid_area": null,
      "grid_auto_columns": null,
      "grid_auto_flow": null,
      "grid_auto_rows": null,
      "grid_column": null,
      "grid_gap": null,
      "grid_row": null,
      "grid_template_areas": null,
      "grid_template_columns": null,
      "grid_template_rows": null,
      "height": null,
      "justify_content": null,
      "justify_items": null,
      "left": null,
      "margin": null,
      "max_height": null,
      "max_width": null,
      "min_height": null,
      "min_width": null,
      "object_fit": null,
      "object_position": null,
      "order": null,
      "overflow": null,
      "overflow_x": null,
      "overflow_y": null,
      "padding": null,
      "right": null,
      "top": null,
      "visibility": null,
      "width": null
     }
    },
    "80f736411eb348bd85656e44e2992757": {
     "model_module": "@jupyter-widgets/controls",
     "model_module_version": "1.5.0",
     "model_name": "HTMLModel",
     "state": {
      "_dom_classes": [],
      "_model_module": "@jupyter-widgets/controls",
      "_model_module_version": "1.5.0",
      "_model_name": "HTMLModel",
      "_view_count": null,
      "_view_module": "@jupyter-widgets/controls",
      "_view_module_version": "1.5.0",
      "_view_name": "HTMLView",
      "description": "",
      "description_tooltip": null,
      "layout": "IPY_MODEL_51cf2db91df94d1db17656d315461271",
      "placeholder": "​",
      "style": "IPY_MODEL_84f076cd5ad2467ca61bb98e7c1fb593",
      "value": " 7/? [00:00&lt;00:00,  7.71 tables/s]"
     }
    },
    "8204c08c4aa74a1588c85013eb771e38": {
     "model_module": "@jupyter-widgets/controls",
     "model_module_version": "1.5.0",
     "model_name": "DescriptionStyleModel",
     "state": {
      "_model_module": "@jupyter-widgets/controls",
      "_model_module_version": "1.5.0",
      "_model_name": "DescriptionStyleModel",
      "_view_count": null,
      "_view_module": "@jupyter-widgets/base",
      "_view_module_version": "1.2.0",
      "_view_name": "StyleView",
      "description_width": ""
     }
    },
    "82a46a159ecb4e64ad43ce37f541a461": {
     "model_module": "@jupyter-widgets/controls",
     "model_module_version": "1.5.0",
     "model_name": "HTMLModel",
     "state": {
      "_dom_classes": [],
      "_model_module": "@jupyter-widgets/controls",
      "_model_module_version": "1.5.0",
      "_model_name": "HTMLModel",
      "_view_count": null,
      "_view_module": "@jupyter-widgets/controls",
      "_view_module_version": "1.5.0",
      "_view_name": "HTMLView",
      "description": "",
      "description_tooltip": null,
      "layout": "IPY_MODEL_33e203e5089d48e0b5f6f00a88af19e4",
      "placeholder": "​",
      "style": "IPY_MODEL_2641db6cab024df2812b18774b30eb69",
      "value": "Downloading data files: 100%"
     }
    },
    "8490600d33f74deb98b716007e6111c0": {
     "model_module": "@jupyter-widgets/base",
     "model_module_version": "1.2.0",
     "model_name": "LayoutModel",
     "state": {
      "_model_module": "@jupyter-widgets/base",
      "_model_module_version": "1.2.0",
      "_model_name": "LayoutModel",
      "_view_count": null,
      "_view_module": "@jupyter-widgets/base",
      "_view_module_version": "1.2.0",
      "_view_name": "LayoutView",
      "align_content": null,
      "align_items": null,
      "align_self": null,
      "border": null,
      "bottom": null,
      "display": null,
      "flex": null,
      "flex_flow": null,
      "grid_area": null,
      "grid_auto_columns": null,
      "grid_auto_flow": null,
      "grid_auto_rows": null,
      "grid_column": null,
      "grid_gap": null,
      "grid_row": null,
      "grid_template_areas": null,
      "grid_template_columns": null,
      "grid_template_rows": null,
      "height": null,
      "justify_content": null,
      "justify_items": null,
      "left": null,
      "margin": null,
      "max_height": null,
      "max_width": null,
      "min_height": null,
      "min_width": null,
      "object_fit": null,
      "object_position": null,
      "order": null,
      "overflow": null,
      "overflow_x": null,
      "overflow_y": null,
      "padding": null,
      "right": null,
      "top": null,
      "visibility": null,
      "width": null
     }
    },
    "84f076cd5ad2467ca61bb98e7c1fb593": {
     "model_module": "@jupyter-widgets/controls",
     "model_module_version": "1.5.0",
     "model_name": "DescriptionStyleModel",
     "state": {
      "_model_module": "@jupyter-widgets/controls",
      "_model_module_version": "1.5.0",
      "_model_name": "DescriptionStyleModel",
      "_view_count": null,
      "_view_module": "@jupyter-widgets/base",
      "_view_module_version": "1.2.0",
      "_view_name": "StyleView",
      "description_width": ""
     }
    },
    "8515f48eb81245a5b47bba39ca0fbb6e": {
     "model_module": "@jupyter-widgets/base",
     "model_module_version": "1.2.0",
     "model_name": "LayoutModel",
     "state": {
      "_model_module": "@jupyter-widgets/base",
      "_model_module_version": "1.2.0",
      "_model_name": "LayoutModel",
      "_view_count": null,
      "_view_module": "@jupyter-widgets/base",
      "_view_module_version": "1.2.0",
      "_view_name": "LayoutView",
      "align_content": null,
      "align_items": null,
      "align_self": null,
      "border": null,
      "bottom": null,
      "display": null,
      "flex": null,
      "flex_flow": null,
      "grid_area": null,
      "grid_auto_columns": null,
      "grid_auto_flow": null,
      "grid_auto_rows": null,
      "grid_column": null,
      "grid_gap": null,
      "grid_row": null,
      "grid_template_areas": null,
      "grid_template_columns": null,
      "grid_template_rows": null,
      "height": null,
      "justify_content": null,
      "justify_items": null,
      "left": null,
      "margin": null,
      "max_height": null,
      "max_width": null,
      "min_height": null,
      "min_width": null,
      "object_fit": null,
      "object_position": null,
      "order": null,
      "overflow": null,
      "overflow_x": null,
      "overflow_y": null,
      "padding": null,
      "right": null,
      "top": null,
      "visibility": null,
      "width": null
     }
    },
    "8627d025ed824c7dbab1e3a4e036be4e": {
     "model_module": "@jupyter-widgets/controls",
     "model_module_version": "1.5.0",
     "model_name": "HTMLModel",
     "state": {
      "_dom_classes": [],
      "_model_module": "@jupyter-widgets/controls",
      "_model_module_version": "1.5.0",
      "_model_name": "HTMLModel",
      "_view_count": null,
      "_view_module": "@jupyter-widgets/controls",
      "_view_module_version": "1.5.0",
      "_view_name": "HTMLView",
      "description": "",
      "description_tooltip": null,
      "layout": "IPY_MODEL_c0762605e8694561a00a29051ca25ec8",
      "placeholder": "​",
      "style": "IPY_MODEL_0fbb0bdda0ba4cb2807fff262d78287f",
      "value": "100%"
     }
    },
    "87f797cf21ed4b77a8744412f80327dd": {
     "model_module": "@jupyter-widgets/controls",
     "model_module_version": "1.5.0",
     "model_name": "ProgressStyleModel",
     "state": {
      "_model_module": "@jupyter-widgets/controls",
      "_model_module_version": "1.5.0",
      "_model_name": "ProgressStyleModel",
      "_view_count": null,
      "_view_module": "@jupyter-widgets/base",
      "_view_module_version": "1.2.0",
      "_view_name": "StyleView",
      "bar_color": null,
      "description_width": ""
     }
    },
    "89975ead51b849269dee1ae701ef184a": {
     "model_module": "@jupyter-widgets/controls",
     "model_module_version": "1.5.0",
     "model_name": "HTMLModel",
     "state": {
      "_dom_classes": [],
      "_model_module": "@jupyter-widgets/controls",
      "_model_module_version": "1.5.0",
      "_model_name": "HTMLModel",
      "_view_count": null,
      "_view_module": "@jupyter-widgets/controls",
      "_view_module_version": "1.5.0",
      "_view_name": "HTMLView",
      "description": "",
      "description_tooltip": null,
      "layout": "IPY_MODEL_21523a79a39a48469ef8f15b9d4497a0",
      "placeholder": "​",
      "style": "IPY_MODEL_f31f4b796a5e4b35b569037f7e0d0515",
      "value": "Downloading: 100%"
     }
    },
    "8aba9461c29b49e089cf64bde4eb424b": {
     "model_module": "@jupyter-widgets/controls",
     "model_module_version": "1.5.0",
     "model_name": "ProgressStyleModel",
     "state": {
      "_model_module": "@jupyter-widgets/controls",
      "_model_module_version": "1.5.0",
      "_model_name": "ProgressStyleModel",
      "_view_count": null,
      "_view_module": "@jupyter-widgets/base",
      "_view_module_version": "1.2.0",
      "_view_name": "StyleView",
      "bar_color": null,
      "description_width": ""
     }
    },
    "8bb072ba76f144358a94055ad1a9ce6f": {
     "model_module": "@jupyter-widgets/base",
     "model_module_version": "1.2.0",
     "model_name": "LayoutModel",
     "state": {
      "_model_module": "@jupyter-widgets/base",
      "_model_module_version": "1.2.0",
      "_model_name": "LayoutModel",
      "_view_count": null,
      "_view_module": "@jupyter-widgets/base",
      "_view_module_version": "1.2.0",
      "_view_name": "LayoutView",
      "align_content": null,
      "align_items": null,
      "align_self": null,
      "border": null,
      "bottom": null,
      "display": null,
      "flex": null,
      "flex_flow": null,
      "grid_area": null,
      "grid_auto_columns": null,
      "grid_auto_flow": null,
      "grid_auto_rows": null,
      "grid_column": null,
      "grid_gap": null,
      "grid_row": null,
      "grid_template_areas": null,
      "grid_template_columns": null,
      "grid_template_rows": null,
      "height": null,
      "justify_content": null,
      "justify_items": null,
      "left": null,
      "margin": null,
      "max_height": null,
      "max_width": null,
      "min_height": null,
      "min_width": null,
      "object_fit": null,
      "object_position": null,
      "order": null,
      "overflow": null,
      "overflow_x": null,
      "overflow_y": null,
      "padding": null,
      "right": null,
      "top": null,
      "visibility": null,
      "width": null
     }
    },
    "8cc3e2421ff04ab495ac051117818551": {
     "model_module": "@jupyter-widgets/controls",
     "model_module_version": "1.5.0",
     "model_name": "DescriptionStyleModel",
     "state": {
      "_model_module": "@jupyter-widgets/controls",
      "_model_module_version": "1.5.0",
      "_model_name": "DescriptionStyleModel",
      "_view_count": null,
      "_view_module": "@jupyter-widgets/base",
      "_view_module_version": "1.2.0",
      "_view_name": "StyleView",
      "description_width": ""
     }
    },
    "9127fe47d41d40c88966cc40c039491c": {
     "model_module": "@jupyter-widgets/controls",
     "model_module_version": "1.5.0",
     "model_name": "HBoxModel",
     "state": {
      "_dom_classes": [],
      "_model_module": "@jupyter-widgets/controls",
      "_model_module_version": "1.5.0",
      "_model_name": "HBoxModel",
      "_view_count": null,
      "_view_module": "@jupyter-widgets/controls",
      "_view_module_version": "1.5.0",
      "_view_name": "HBoxView",
      "box_style": "",
      "children": [
       "IPY_MODEL_c874e966173442c8abe1c4849be1f63d",
       "IPY_MODEL_3aafffa6848d405f973c0dd80aa595dd",
       "IPY_MODEL_80f736411eb348bd85656e44e2992757"
      ],
      "layout": "IPY_MODEL_a3362663b87947ee860af6a4090e9c34"
     }
    },
    "92820652b5f84003b21f744c7f1dff4e": {
     "model_module": "@jupyter-widgets/controls",
     "model_module_version": "1.5.0",
     "model_name": "DescriptionStyleModel",
     "state": {
      "_model_module": "@jupyter-widgets/controls",
      "_model_module_version": "1.5.0",
      "_model_name": "DescriptionStyleModel",
      "_view_count": null,
      "_view_module": "@jupyter-widgets/base",
      "_view_module_version": "1.2.0",
      "_view_name": "StyleView",
      "description_width": ""
     }
    },
    "941caf1d10a74e44a624e1d11a1d2c0b": {
     "model_module": "@jupyter-widgets/base",
     "model_module_version": "1.2.0",
     "model_name": "LayoutModel",
     "state": {
      "_model_module": "@jupyter-widgets/base",
      "_model_module_version": "1.2.0",
      "_model_name": "LayoutModel",
      "_view_count": null,
      "_view_module": "@jupyter-widgets/base",
      "_view_module_version": "1.2.0",
      "_view_name": "LayoutView",
      "align_content": null,
      "align_items": null,
      "align_self": null,
      "border": null,
      "bottom": null,
      "display": null,
      "flex": null,
      "flex_flow": null,
      "grid_area": null,
      "grid_auto_columns": null,
      "grid_auto_flow": null,
      "grid_auto_rows": null,
      "grid_column": null,
      "grid_gap": null,
      "grid_row": null,
      "grid_template_areas": null,
      "grid_template_columns": null,
      "grid_template_rows": null,
      "height": null,
      "justify_content": null,
      "justify_items": null,
      "left": null,
      "margin": null,
      "max_height": null,
      "max_width": null,
      "min_height": null,
      "min_width": null,
      "object_fit": null,
      "object_position": null,
      "order": null,
      "overflow": null,
      "overflow_x": null,
      "overflow_y": null,
      "padding": null,
      "right": null,
      "top": null,
      "visibility": null,
      "width": null
     }
    },
    "952dc046b747418b932b4bfe1d645e9e": {
     "model_module": "@jupyter-widgets/base",
     "model_module_version": "1.2.0",
     "model_name": "LayoutModel",
     "state": {
      "_model_module": "@jupyter-widgets/base",
      "_model_module_version": "1.2.0",
      "_model_name": "LayoutModel",
      "_view_count": null,
      "_view_module": "@jupyter-widgets/base",
      "_view_module_version": "1.2.0",
      "_view_name": "LayoutView",
      "align_content": null,
      "align_items": null,
      "align_self": null,
      "border": null,
      "bottom": null,
      "display": null,
      "flex": null,
      "flex_flow": null,
      "grid_area": null,
      "grid_auto_columns": null,
      "grid_auto_flow": null,
      "grid_auto_rows": null,
      "grid_column": null,
      "grid_gap": null,
      "grid_row": null,
      "grid_template_areas": null,
      "grid_template_columns": null,
      "grid_template_rows": null,
      "height": null,
      "justify_content": null,
      "justify_items": null,
      "left": null,
      "margin": null,
      "max_height": null,
      "max_width": null,
      "min_height": null,
      "min_width": null,
      "object_fit": null,
      "object_position": null,
      "order": null,
      "overflow": null,
      "overflow_x": null,
      "overflow_y": null,
      "padding": null,
      "right": null,
      "top": null,
      "visibility": null,
      "width": null
     }
    },
    "9c68de91365a4d17a2a48b239a738f31": {
     "model_module": "@jupyter-widgets/base",
     "model_module_version": "1.2.0",
     "model_name": "LayoutModel",
     "state": {
      "_model_module": "@jupyter-widgets/base",
      "_model_module_version": "1.2.0",
      "_model_name": "LayoutModel",
      "_view_count": null,
      "_view_module": "@jupyter-widgets/base",
      "_view_module_version": "1.2.0",
      "_view_name": "LayoutView",
      "align_content": null,
      "align_items": null,
      "align_self": null,
      "border": null,
      "bottom": null,
      "display": null,
      "flex": null,
      "flex_flow": null,
      "grid_area": null,
      "grid_auto_columns": null,
      "grid_auto_flow": null,
      "grid_auto_rows": null,
      "grid_column": null,
      "grid_gap": null,
      "grid_row": null,
      "grid_template_areas": null,
      "grid_template_columns": null,
      "grid_template_rows": null,
      "height": null,
      "justify_content": null,
      "justify_items": null,
      "left": null,
      "margin": null,
      "max_height": null,
      "max_width": null,
      "min_height": null,
      "min_width": null,
      "object_fit": null,
      "object_position": null,
      "order": null,
      "overflow": null,
      "overflow_x": null,
      "overflow_y": null,
      "padding": null,
      "right": null,
      "top": null,
      "visibility": null,
      "width": null
     }
    },
    "9eb51f3d987e4a9e9d338c68400e44b5": {
     "model_module": "@jupyter-widgets/controls",
     "model_module_version": "1.5.0",
     "model_name": "HTMLModel",
     "state": {
      "_dom_classes": [],
      "_model_module": "@jupyter-widgets/controls",
      "_model_module_version": "1.5.0",
      "_model_name": "HTMLModel",
      "_view_count": null,
      "_view_module": "@jupyter-widgets/controls",
      "_view_module_version": "1.5.0",
      "_view_name": "HTMLView",
      "description": "",
      "description_tooltip": null,
      "layout": "IPY_MODEL_09cf44d617ca49afb9deb867f1631f32",
      "placeholder": "​",
      "style": "IPY_MODEL_bc7d46d8df074a6faf07cbb33c4a1800",
      "value": "Downloading: 100%"
     }
    },
    "a0242cb00b3d44568d67bf630b18a8b2": {
     "model_module": "@jupyter-widgets/base",
     "model_module_version": "1.2.0",
     "model_name": "LayoutModel",
     "state": {
      "_model_module": "@jupyter-widgets/base",
      "_model_module_version": "1.2.0",
      "_model_name": "LayoutModel",
      "_view_count": null,
      "_view_module": "@jupyter-widgets/base",
      "_view_module_version": "1.2.0",
      "_view_name": "LayoutView",
      "align_content": null,
      "align_items": null,
      "align_self": null,
      "border": null,
      "bottom": null,
      "display": null,
      "flex": null,
      "flex_flow": null,
      "grid_area": null,
      "grid_auto_columns": null,
      "grid_auto_flow": null,
      "grid_auto_rows": null,
      "grid_column": null,
      "grid_gap": null,
      "grid_row": null,
      "grid_template_areas": null,
      "grid_template_columns": null,
      "grid_template_rows": null,
      "height": null,
      "justify_content": null,
      "justify_items": null,
      "left": null,
      "margin": null,
      "max_height": null,
      "max_width": null,
      "min_height": null,
      "min_width": null,
      "object_fit": null,
      "object_position": null,
      "order": null,
      "overflow": null,
      "overflow_x": null,
      "overflow_y": null,
      "padding": null,
      "right": null,
      "top": null,
      "visibility": null,
      "width": null
     }
    },
    "a0eb8f49cef0489dbfdd566921cb37bf": {
     "model_module": "@jupyter-widgets/base",
     "model_module_version": "1.2.0",
     "model_name": "LayoutModel",
     "state": {
      "_model_module": "@jupyter-widgets/base",
      "_model_module_version": "1.2.0",
      "_model_name": "LayoutModel",
      "_view_count": null,
      "_view_module": "@jupyter-widgets/base",
      "_view_module_version": "1.2.0",
      "_view_name": "LayoutView",
      "align_content": null,
      "align_items": null,
      "align_self": null,
      "border": null,
      "bottom": null,
      "display": null,
      "flex": null,
      "flex_flow": null,
      "grid_area": null,
      "grid_auto_columns": null,
      "grid_auto_flow": null,
      "grid_auto_rows": null,
      "grid_column": null,
      "grid_gap": null,
      "grid_row": null,
      "grid_template_areas": null,
      "grid_template_columns": null,
      "grid_template_rows": null,
      "height": null,
      "justify_content": null,
      "justify_items": null,
      "left": null,
      "margin": null,
      "max_height": null,
      "max_width": null,
      "min_height": null,
      "min_width": null,
      "object_fit": null,
      "object_position": null,
      "order": null,
      "overflow": null,
      "overflow_x": null,
      "overflow_y": null,
      "padding": null,
      "right": null,
      "top": null,
      "visibility": null,
      "width": null
     }
    },
    "a16a1988d83b44488ddd404a60d8f267": {
     "model_module": "@jupyter-widgets/controls",
     "model_module_version": "1.5.0",
     "model_name": "HTMLModel",
     "state": {
      "_dom_classes": [],
      "_model_module": "@jupyter-widgets/controls",
      "_model_module_version": "1.5.0",
      "_model_name": "HTMLModel",
      "_view_count": null,
      "_view_module": "@jupyter-widgets/controls",
      "_view_module_version": "1.5.0",
      "_view_name": "HTMLView",
      "description": "",
      "description_tooltip": null,
      "layout": "IPY_MODEL_ab2e14d637de47ff9e51f64f1c6f675a",
      "placeholder": "​",
      "style": "IPY_MODEL_c792f9eafd87401bb272705ae3d92c58",
      "value": "100%"
     }
    },
    "a297400c7afb4fb481737d6b6b0bd8a8": {
     "model_module": "@jupyter-widgets/base",
     "model_module_version": "1.2.0",
     "model_name": "LayoutModel",
     "state": {
      "_model_module": "@jupyter-widgets/base",
      "_model_module_version": "1.2.0",
      "_model_name": "LayoutModel",
      "_view_count": null,
      "_view_module": "@jupyter-widgets/base",
      "_view_module_version": "1.2.0",
      "_view_name": "LayoutView",
      "align_content": null,
      "align_items": null,
      "align_self": null,
      "border": null,
      "bottom": null,
      "display": null,
      "flex": null,
      "flex_flow": null,
      "grid_area": null,
      "grid_auto_columns": null,
      "grid_auto_flow": null,
      "grid_auto_rows": null,
      "grid_column": null,
      "grid_gap": null,
      "grid_row": null,
      "grid_template_areas": null,
      "grid_template_columns": null,
      "grid_template_rows": null,
      "height": null,
      "justify_content": null,
      "justify_items": null,
      "left": null,
      "margin": null,
      "max_height": null,
      "max_width": null,
      "min_height": null,
      "min_width": null,
      "object_fit": null,
      "object_position": null,
      "order": null,
      "overflow": null,
      "overflow_x": null,
      "overflow_y": null,
      "padding": null,
      "right": null,
      "top": null,
      "visibility": null,
      "width": null
     }
    },
    "a3362663b87947ee860af6a4090e9c34": {
     "model_module": "@jupyter-widgets/base",
     "model_module_version": "1.2.0",
     "model_name": "LayoutModel",
     "state": {
      "_model_module": "@jupyter-widgets/base",
      "_model_module_version": "1.2.0",
      "_model_name": "LayoutModel",
      "_view_count": null,
      "_view_module": "@jupyter-widgets/base",
      "_view_module_version": "1.2.0",
      "_view_name": "LayoutView",
      "align_content": null,
      "align_items": null,
      "align_self": null,
      "border": null,
      "bottom": null,
      "display": null,
      "flex": null,
      "flex_flow": null,
      "grid_area": null,
      "grid_auto_columns": null,
      "grid_auto_flow": null,
      "grid_auto_rows": null,
      "grid_column": null,
      "grid_gap": null,
      "grid_row": null,
      "grid_template_areas": null,
      "grid_template_columns": null,
      "grid_template_rows": null,
      "height": null,
      "justify_content": null,
      "justify_items": null,
      "left": null,
      "margin": null,
      "max_height": null,
      "max_width": null,
      "min_height": null,
      "min_width": null,
      "object_fit": null,
      "object_position": null,
      "order": null,
      "overflow": null,
      "overflow_x": null,
      "overflow_y": null,
      "padding": null,
      "right": null,
      "top": null,
      "visibility": null,
      "width": null
     }
    },
    "a348abd32f3641309bb61d5e935b0a6f": {
     "model_module": "@jupyter-widgets/controls",
     "model_module_version": "1.5.0",
     "model_name": "DescriptionStyleModel",
     "state": {
      "_model_module": "@jupyter-widgets/controls",
      "_model_module_version": "1.5.0",
      "_model_name": "DescriptionStyleModel",
      "_view_count": null,
      "_view_module": "@jupyter-widgets/base",
      "_view_module_version": "1.2.0",
      "_view_name": "StyleView",
      "description_width": ""
     }
    },
    "a36b179224d24816a8ce3f6909a5e2c5": {
     "model_module": "@jupyter-widgets/base",
     "model_module_version": "1.2.0",
     "model_name": "LayoutModel",
     "state": {
      "_model_module": "@jupyter-widgets/base",
      "_model_module_version": "1.2.0",
      "_model_name": "LayoutModel",
      "_view_count": null,
      "_view_module": "@jupyter-widgets/base",
      "_view_module_version": "1.2.0",
      "_view_name": "LayoutView",
      "align_content": null,
      "align_items": null,
      "align_self": null,
      "border": null,
      "bottom": null,
      "display": null,
      "flex": null,
      "flex_flow": null,
      "grid_area": null,
      "grid_auto_columns": null,
      "grid_auto_flow": null,
      "grid_auto_rows": null,
      "grid_column": null,
      "grid_gap": null,
      "grid_row": null,
      "grid_template_areas": null,
      "grid_template_columns": null,
      "grid_template_rows": null,
      "height": null,
      "justify_content": null,
      "justify_items": null,
      "left": null,
      "margin": null,
      "max_height": null,
      "max_width": null,
      "min_height": null,
      "min_width": null,
      "object_fit": null,
      "object_position": null,
      "order": null,
      "overflow": null,
      "overflow_x": null,
      "overflow_y": null,
      "padding": null,
      "right": null,
      "top": null,
      "visibility": null,
      "width": null
     }
    },
    "a372fbc0562a412c9a247203b14e0b1f": {
     "model_module": "@jupyter-widgets/controls",
     "model_module_version": "1.5.0",
     "model_name": "DescriptionStyleModel",
     "state": {
      "_model_module": "@jupyter-widgets/controls",
      "_model_module_version": "1.5.0",
      "_model_name": "DescriptionStyleModel",
      "_view_count": null,
      "_view_module": "@jupyter-widgets/base",
      "_view_module_version": "1.2.0",
      "_view_name": "StyleView",
      "description_width": ""
     }
    },
    "a574656c04b7491294ce491b7f737239": {
     "model_module": "@jupyter-widgets/base",
     "model_module_version": "1.2.0",
     "model_name": "LayoutModel",
     "state": {
      "_model_module": "@jupyter-widgets/base",
      "_model_module_version": "1.2.0",
      "_model_name": "LayoutModel",
      "_view_count": null,
      "_view_module": "@jupyter-widgets/base",
      "_view_module_version": "1.2.0",
      "_view_name": "LayoutView",
      "align_content": null,
      "align_items": null,
      "align_self": null,
      "border": null,
      "bottom": null,
      "display": null,
      "flex": null,
      "flex_flow": null,
      "grid_area": null,
      "grid_auto_columns": null,
      "grid_auto_flow": null,
      "grid_auto_rows": null,
      "grid_column": null,
      "grid_gap": null,
      "grid_row": null,
      "grid_template_areas": null,
      "grid_template_columns": null,
      "grid_template_rows": null,
      "height": null,
      "justify_content": null,
      "justify_items": null,
      "left": null,
      "margin": null,
      "max_height": null,
      "max_width": null,
      "min_height": null,
      "min_width": null,
      "object_fit": null,
      "object_position": null,
      "order": null,
      "overflow": null,
      "overflow_x": null,
      "overflow_y": null,
      "padding": null,
      "right": null,
      "top": null,
      "visibility": null,
      "width": null
     }
    },
    "a5cbfaaf61ee4fb28ae0403f2453ed46": {
     "model_module": "@jupyter-widgets/controls",
     "model_module_version": "1.5.0",
     "model_name": "HTMLModel",
     "state": {
      "_dom_classes": [],
      "_model_module": "@jupyter-widgets/controls",
      "_model_module_version": "1.5.0",
      "_model_name": "HTMLModel",
      "_view_count": null,
      "_view_module": "@jupyter-widgets/controls",
      "_view_module_version": "1.5.0",
      "_view_name": "HTMLView",
      "description": "",
      "description_tooltip": null,
      "layout": "IPY_MODEL_8bb072ba76f144358a94055ad1a9ce6f",
      "placeholder": "​",
      "style": "IPY_MODEL_92820652b5f84003b21f744c7f1dff4e",
      "value": " 972k/972k [00:00&lt;00:00, 2.33MB/s]"
     }
    },
    "a65a71e1f096478da5d760a37360bc89": {
     "model_module": "@jupyter-widgets/controls",
     "model_module_version": "1.5.0",
     "model_name": "HBoxModel",
     "state": {
      "_dom_classes": [],
      "_model_module": "@jupyter-widgets/controls",
      "_model_module_version": "1.5.0",
      "_model_name": "HBoxModel",
      "_view_count": null,
      "_view_module": "@jupyter-widgets/controls",
      "_view_module_version": "1.5.0",
      "_view_name": "HBoxView",
      "box_style": "",
      "children": [
       "IPY_MODEL_5f1c6a4627874e3abf66160b4d7c28ce",
       "IPY_MODEL_384f1d316efc404eadaca075f82b6299",
       "IPY_MODEL_166d7c791d9845b9912c41adc78f4238"
      ],
      "layout": "IPY_MODEL_b378fa047ee8425eac4ffbe7661ab078"
     }
    },
    "a672a3940c37454f8592531c7b698744": {
     "model_module": "@jupyter-widgets/controls",
     "model_module_version": "1.5.0",
     "model_name": "HTMLModel",
     "state": {
      "_dom_classes": [],
      "_model_module": "@jupyter-widgets/controls",
      "_model_module_version": "1.5.0",
      "_model_name": "HTMLModel",
      "_view_count": null,
      "_view_module": "@jupyter-widgets/controls",
      "_view_module_version": "1.5.0",
      "_view_name": "HTMLView",
      "description": "",
      "description_tooltip": null,
      "layout": "IPY_MODEL_f540db8704e646338b22276600ba9b6f",
      "placeholder": "​",
      "style": "IPY_MODEL_f36cdb4f156542f1a95c26b7fc00c597",
      "value": " 90/90 [00:31&lt;00:00,  2.86ba/s]"
     }
    },
    "ab2e14d637de47ff9e51f64f1c6f675a": {
     "model_module": "@jupyter-widgets/base",
     "model_module_version": "1.2.0",
     "model_name": "LayoutModel",
     "state": {
      "_model_module": "@jupyter-widgets/base",
      "_model_module_version": "1.2.0",
      "_model_name": "LayoutModel",
      "_view_count": null,
      "_view_module": "@jupyter-widgets/base",
      "_view_module_version": "1.2.0",
      "_view_name": "LayoutView",
      "align_content": null,
      "align_items": null,
      "align_self": null,
      "border": null,
      "bottom": null,
      "display": null,
      "flex": null,
      "flex_flow": null,
      "grid_area": null,
      "grid_auto_columns": null,
      "grid_auto_flow": null,
      "grid_auto_rows": null,
      "grid_column": null,
      "grid_gap": null,
      "grid_row": null,
      "grid_template_areas": null,
      "grid_template_columns": null,
      "grid_template_rows": null,
      "height": null,
      "justify_content": null,
      "justify_items": null,
      "left": null,
      "margin": null,
      "max_height": null,
      "max_width": null,
      "min_height": null,
      "min_width": null,
      "object_fit": null,
      "object_position": null,
      "order": null,
      "overflow": null,
      "overflow_x": null,
      "overflow_y": null,
      "padding": null,
      "right": null,
      "top": null,
      "visibility": null,
      "width": null
     }
    },
    "abcb0ec665364c7795110e6aa3189674": {
     "model_module": "@jupyter-widgets/controls",
     "model_module_version": "1.5.0",
     "model_name": "HTMLModel",
     "state": {
      "_dom_classes": [],
      "_model_module": "@jupyter-widgets/controls",
      "_model_module_version": "1.5.0",
      "_model_name": "HTMLModel",
      "_view_count": null,
      "_view_module": "@jupyter-widgets/controls",
      "_view_module_version": "1.5.0",
      "_view_name": "HTMLView",
      "description": "",
      "description_tooltip": null,
      "layout": "IPY_MODEL_ec7cf2abfeea4916a4ddaa541bfcf6a5",
      "placeholder": "​",
      "style": "IPY_MODEL_ce0dac9506464907a16278db1350b481",
      "value": "100%"
     }
    },
    "acd2bce250f54642a706876821237682": {
     "model_module": "@jupyter-widgets/base",
     "model_module_version": "1.2.0",
     "model_name": "LayoutModel",
     "state": {
      "_model_module": "@jupyter-widgets/base",
      "_model_module_version": "1.2.0",
      "_model_name": "LayoutModel",
      "_view_count": null,
      "_view_module": "@jupyter-widgets/base",
      "_view_module_version": "1.2.0",
      "_view_name": "LayoutView",
      "align_content": null,
      "align_items": null,
      "align_self": null,
      "border": null,
      "bottom": null,
      "display": null,
      "flex": null,
      "flex_flow": null,
      "grid_area": null,
      "grid_auto_columns": null,
      "grid_auto_flow": null,
      "grid_auto_rows": null,
      "grid_column": null,
      "grid_gap": null,
      "grid_row": null,
      "grid_template_areas": null,
      "grid_template_columns": null,
      "grid_template_rows": null,
      "height": null,
      "justify_content": null,
      "justify_items": null,
      "left": null,
      "margin": null,
      "max_height": null,
      "max_width": null,
      "min_height": null,
      "min_width": null,
      "object_fit": null,
      "object_position": null,
      "order": null,
      "overflow": null,
      "overflow_x": null,
      "overflow_y": null,
      "padding": null,
      "right": null,
      "top": null,
      "visibility": null,
      "width": null
     }
    },
    "b1c5948063e14b3098b5b76e1c2040ff": {
     "model_module": "@jupyter-widgets/controls",
     "model_module_version": "1.5.0",
     "model_name": "HTMLModel",
     "state": {
      "_dom_classes": [],
      "_model_module": "@jupyter-widgets/controls",
      "_model_module_version": "1.5.0",
      "_model_name": "HTMLModel",
      "_view_count": null,
      "_view_module": "@jupyter-widgets/controls",
      "_view_module_version": "1.5.0",
      "_view_name": "HTMLView",
      "description": "",
      "description_tooltip": null,
      "layout": "IPY_MODEL_f374ae69a4fc47f3992e686375e3d067",
      "placeholder": "​",
      "style": "IPY_MODEL_c194a5fb20f346b4b98f771280179eb0",
      "value": " 274/274 [00:06&lt;00:00, 57.04ba/s]"
     }
    },
    "b20633e15b604f2482b38231ade41c9b": {
     "model_module": "@jupyter-widgets/controls",
     "model_module_version": "1.5.0",
     "model_name": "HTMLModel",
     "state": {
      "_dom_classes": [],
      "_model_module": "@jupyter-widgets/controls",
      "_model_module_version": "1.5.0",
      "_model_name": "HTMLModel",
      "_view_count": null,
      "_view_module": "@jupyter-widgets/controls",
      "_view_module_version": "1.5.0",
      "_view_name": "HTMLView",
      "description": "",
      "description_tooltip": null,
      "layout": "IPY_MODEL_2a623df269df49ceb647be1bb6923fad",
      "placeholder": "​",
      "style": "IPY_MODEL_3ab1e4fec3574fb38c795875820c86fa",
      "value": " 869M/869M [00:16&lt;00:00, 60.1MB/s]"
     }
    },
    "b21d51f573da49baa0be1ec6388f1c3b": {
     "model_module": "@jupyter-widgets/controls",
     "model_module_version": "1.5.0",
     "model_name": "DescriptionStyleModel",
     "state": {
      "_model_module": "@jupyter-widgets/controls",
      "_model_module_version": "1.5.0",
      "_model_name": "DescriptionStyleModel",
      "_view_count": null,
      "_view_module": "@jupyter-widgets/base",
      "_view_module_version": "1.2.0",
      "_view_name": "StyleView",
      "description_width": ""
     }
    },
    "b378fa047ee8425eac4ffbe7661ab078": {
     "model_module": "@jupyter-widgets/base",
     "model_module_version": "1.2.0",
     "model_name": "LayoutModel",
     "state": {
      "_model_module": "@jupyter-widgets/base",
      "_model_module_version": "1.2.0",
      "_model_name": "LayoutModel",
      "_view_count": null,
      "_view_module": "@jupyter-widgets/base",
      "_view_module_version": "1.2.0",
      "_view_name": "LayoutView",
      "align_content": null,
      "align_items": null,
      "align_self": null,
      "border": null,
      "bottom": null,
      "display": null,
      "flex": null,
      "flex_flow": null,
      "grid_area": null,
      "grid_auto_columns": null,
      "grid_auto_flow": null,
      "grid_auto_rows": null,
      "grid_column": null,
      "grid_gap": null,
      "grid_row": null,
      "grid_template_areas": null,
      "grid_template_columns": null,
      "grid_template_rows": null,
      "height": null,
      "justify_content": null,
      "justify_items": null,
      "left": null,
      "margin": null,
      "max_height": null,
      "max_width": null,
      "min_height": null,
      "min_width": null,
      "object_fit": null,
      "object_position": null,
      "order": null,
      "overflow": null,
      "overflow_x": null,
      "overflow_y": null,
      "padding": null,
      "right": null,
      "top": null,
      "visibility": null,
      "width": null
     }
    },
    "b3d38050136b45479b7905893c2a672e": {
     "model_module": "@jupyter-widgets/controls",
     "model_module_version": "1.5.0",
     "model_name": "DescriptionStyleModel",
     "state": {
      "_model_module": "@jupyter-widgets/controls",
      "_model_module_version": "1.5.0",
      "_model_name": "DescriptionStyleModel",
      "_view_count": null,
      "_view_module": "@jupyter-widgets/base",
      "_view_module_version": "1.2.0",
      "_view_name": "StyleView",
      "description_width": ""
     }
    },
    "b405ea85b08e49fcb74ff559d806acdb": {
     "model_module": "@jupyter-widgets/controls",
     "model_module_version": "1.5.0",
     "model_name": "HTMLModel",
     "state": {
      "_dom_classes": [],
      "_model_module": "@jupyter-widgets/controls",
      "_model_module_version": "1.5.0",
      "_model_name": "HTMLModel",
      "_view_count": null,
      "_view_module": "@jupyter-widgets/controls",
      "_view_module_version": "1.5.0",
      "_view_name": "HTMLView",
      "description": "",
      "description_tooltip": null,
      "layout": "IPY_MODEL_941caf1d10a74e44a624e1d11a1d2c0b",
      "placeholder": "​",
      "style": "IPY_MODEL_2feec5f2ff7146009e3310382202c399",
      "value": " 69/69 [00:25&lt;00:00,  3.32ba/s]"
     }
    },
    "b442994934fe486fb3e13173737d1ad4": {
     "model_module": "@jupyter-widgets/controls",
     "model_module_version": "1.5.0",
     "model_name": "HTMLModel",
     "state": {
      "_dom_classes": [],
      "_model_module": "@jupyter-widgets/controls",
      "_model_module_version": "1.5.0",
      "_model_name": "HTMLModel",
      "_view_count": null,
      "_view_module": "@jupyter-widgets/controls",
      "_view_module_version": "1.5.0",
      "_view_name": "HTMLView",
      "description": "",
      "description_tooltip": null,
      "layout": "IPY_MODEL_a0242cb00b3d44568d67bf630b18a8b2",
      "placeholder": "​",
      "style": "IPY_MODEL_8204c08c4aa74a1588c85013eb771e38",
      "value": " 3/3 [00:00&lt;00:00, 30.25it/s]"
     }
    },
    "b74c3f888476432998130a19162dd6a9": {
     "model_module": "@jupyter-widgets/base",
     "model_module_version": "1.2.0",
     "model_name": "LayoutModel",
     "state": {
      "_model_module": "@jupyter-widgets/base",
      "_model_module_version": "1.2.0",
      "_model_name": "LayoutModel",
      "_view_count": null,
      "_view_module": "@jupyter-widgets/base",
      "_view_module_version": "1.2.0",
      "_view_name": "LayoutView",
      "align_content": null,
      "align_items": null,
      "align_self": null,
      "border": null,
      "bottom": null,
      "display": null,
      "flex": null,
      "flex_flow": null,
      "grid_area": null,
      "grid_auto_columns": null,
      "grid_auto_flow": null,
      "grid_auto_rows": null,
      "grid_column": null,
      "grid_gap": null,
      "grid_row": null,
      "grid_template_areas": null,
      "grid_template_columns": null,
      "grid_template_rows": null,
      "height": null,
      "justify_content": null,
      "justify_items": null,
      "left": null,
      "margin": null,
      "max_height": null,
      "max_width": null,
      "min_height": null,
      "min_width": null,
      "object_fit": null,
      "object_position": null,
      "order": null,
      "overflow": null,
      "overflow_x": null,
      "overflow_y": null,
      "padding": null,
      "right": null,
      "top": null,
      "visibility": null,
      "width": null
     }
    },
    "b7826898a85a4babbde4df05e3d14d61": {
     "model_module": "@jupyter-widgets/base",
     "model_module_version": "1.2.0",
     "model_name": "LayoutModel",
     "state": {
      "_model_module": "@jupyter-widgets/base",
      "_model_module_version": "1.2.0",
      "_model_name": "LayoutModel",
      "_view_count": null,
      "_view_module": "@jupyter-widgets/base",
      "_view_module_version": "1.2.0",
      "_view_name": "LayoutView",
      "align_content": null,
      "align_items": null,
      "align_self": null,
      "border": null,
      "bottom": null,
      "display": null,
      "flex": null,
      "flex_flow": null,
      "grid_area": null,
      "grid_auto_columns": null,
      "grid_auto_flow": null,
      "grid_auto_rows": null,
      "grid_column": null,
      "grid_gap": null,
      "grid_row": null,
      "grid_template_areas": null,
      "grid_template_columns": null,
      "grid_template_rows": null,
      "height": null,
      "justify_content": null,
      "justify_items": null,
      "left": null,
      "margin": null,
      "max_height": null,
      "max_width": null,
      "min_height": null,
      "min_width": null,
      "object_fit": null,
      "object_position": null,
      "order": null,
      "overflow": null,
      "overflow_x": null,
      "overflow_y": null,
      "padding": null,
      "right": null,
      "top": null,
      "visibility": null,
      "width": null
     }
    },
    "b7aec7609ae94687b2719696f66f69b9": {
     "model_module": "@jupyter-widgets/controls",
     "model_module_version": "1.5.0",
     "model_name": "ProgressStyleModel",
     "state": {
      "_model_module": "@jupyter-widgets/controls",
      "_model_module_version": "1.5.0",
      "_model_name": "ProgressStyleModel",
      "_view_count": null,
      "_view_module": "@jupyter-widgets/base",
      "_view_module_version": "1.2.0",
      "_view_name": "StyleView",
      "bar_color": null,
      "description_width": ""
     }
    },
    "b8ecdde55bed45dbbea5f855d0477ade": {
     "model_module": "@jupyter-widgets/base",
     "model_module_version": "1.2.0",
     "model_name": "LayoutModel",
     "state": {
      "_model_module": "@jupyter-widgets/base",
      "_model_module_version": "1.2.0",
      "_model_name": "LayoutModel",
      "_view_count": null,
      "_view_module": "@jupyter-widgets/base",
      "_view_module_version": "1.2.0",
      "_view_name": "LayoutView",
      "align_content": null,
      "align_items": null,
      "align_self": null,
      "border": null,
      "bottom": null,
      "display": null,
      "flex": null,
      "flex_flow": null,
      "grid_area": null,
      "grid_auto_columns": null,
      "grid_auto_flow": null,
      "grid_auto_rows": null,
      "grid_column": null,
      "grid_gap": null,
      "grid_row": null,
      "grid_template_areas": null,
      "grid_template_columns": null,
      "grid_template_rows": null,
      "height": null,
      "justify_content": null,
      "justify_items": null,
      "left": null,
      "margin": null,
      "max_height": null,
      "max_width": null,
      "min_height": null,
      "min_width": null,
      "object_fit": null,
      "object_position": null,
      "order": null,
      "overflow": null,
      "overflow_x": null,
      "overflow_y": null,
      "padding": null,
      "right": null,
      "top": null,
      "visibility": null,
      "width": null
     }
    },
    "b926c8314cb24a65b3559c9fbaa0543f": {
     "model_module": "@jupyter-widgets/controls",
     "model_module_version": "1.5.0",
     "model_name": "HBoxModel",
     "state": {
      "_dom_classes": [],
      "_model_module": "@jupyter-widgets/controls",
      "_model_module_version": "1.5.0",
      "_model_name": "HBoxModel",
      "_view_count": null,
      "_view_module": "@jupyter-widgets/controls",
      "_view_module_version": "1.5.0",
      "_view_name": "HBoxView",
      "box_style": "",
      "children": [
       "IPY_MODEL_82a46a159ecb4e64ad43ce37f541a461",
       "IPY_MODEL_23ad624efe674293b78eafb9d88bf351",
       "IPY_MODEL_42e7d4f359ff4a548584ad2383e46bfb"
      ],
      "layout": "IPY_MODEL_09d293e3400b4536a624a40d4fa4aabd"
     }
    },
    "bb935770126640859dc069028006bd44": {
     "model_module": "@jupyter-widgets/base",
     "model_module_version": "1.2.0",
     "model_name": "LayoutModel",
     "state": {
      "_model_module": "@jupyter-widgets/base",
      "_model_module_version": "1.2.0",
      "_model_name": "LayoutModel",
      "_view_count": null,
      "_view_module": "@jupyter-widgets/base",
      "_view_module_version": "1.2.0",
      "_view_name": "LayoutView",
      "align_content": null,
      "align_items": null,
      "align_self": null,
      "border": null,
      "bottom": null,
      "display": null,
      "flex": null,
      "flex_flow": null,
      "grid_area": null,
      "grid_auto_columns": null,
      "grid_auto_flow": null,
      "grid_auto_rows": null,
      "grid_column": null,
      "grid_gap": null,
      "grid_row": null,
      "grid_template_areas": null,
      "grid_template_columns": null,
      "grid_template_rows": null,
      "height": null,
      "justify_content": null,
      "justify_items": null,
      "left": null,
      "margin": null,
      "max_height": null,
      "max_width": null,
      "min_height": null,
      "min_width": null,
      "object_fit": null,
      "object_position": null,
      "order": null,
      "overflow": null,
      "overflow_x": null,
      "overflow_y": null,
      "padding": null,
      "right": null,
      "top": null,
      "visibility": null,
      "width": "20px"
     }
    },
    "bb9976f67b45467aaccb147760a54203": {
     "model_module": "@jupyter-widgets/controls",
     "model_module_version": "1.5.0",
     "model_name": "FloatProgressModel",
     "state": {
      "_dom_classes": [],
      "_model_module": "@jupyter-widgets/controls",
      "_model_module_version": "1.5.0",
      "_model_name": "FloatProgressModel",
      "_view_count": null,
      "_view_module": "@jupyter-widgets/controls",
      "_view_module_version": "1.5.0",
      "_view_name": "ProgressView",
      "bar_style": "success",
      "description": "",
      "description_tooltip": null,
      "layout": "IPY_MODEL_7e95a8e5083d49648a6a29c78d5f11ef",
      "max": 274,
      "min": 0,
      "orientation": "horizontal",
      "style": "IPY_MODEL_b7aec7609ae94687b2719696f66f69b9",
      "value": 274
     }
    },
    "bc7d46d8df074a6faf07cbb33c4a1800": {
     "model_module": "@jupyter-widgets/controls",
     "model_module_version": "1.5.0",
     "model_name": "DescriptionStyleModel",
     "state": {
      "_model_module": "@jupyter-widgets/controls",
      "_model_module_version": "1.5.0",
      "_model_name": "DescriptionStyleModel",
      "_view_count": null,
      "_view_module": "@jupyter-widgets/base",
      "_view_module_version": "1.2.0",
      "_view_name": "StyleView",
      "description_width": ""
     }
    },
    "c0762605e8694561a00a29051ca25ec8": {
     "model_module": "@jupyter-widgets/base",
     "model_module_version": "1.2.0",
     "model_name": "LayoutModel",
     "state": {
      "_model_module": "@jupyter-widgets/base",
      "_model_module_version": "1.2.0",
      "_model_name": "LayoutModel",
      "_view_count": null,
      "_view_module": "@jupyter-widgets/base",
      "_view_module_version": "1.2.0",
      "_view_name": "LayoutView",
      "align_content": null,
      "align_items": null,
      "align_self": null,
      "border": null,
      "bottom": null,
      "display": null,
      "flex": null,
      "flex_flow": null,
      "grid_area": null,
      "grid_auto_columns": null,
      "grid_auto_flow": null,
      "grid_auto_rows": null,
      "grid_column": null,
      "grid_gap": null,
      "grid_row": null,
      "grid_template_areas": null,
      "grid_template_columns": null,
      "grid_template_rows": null,
      "height": null,
      "justify_content": null,
      "justify_items": null,
      "left": null,
      "margin": null,
      "max_height": null,
      "max_width": null,
      "min_height": null,
      "min_width": null,
      "object_fit": null,
      "object_position": null,
      "order": null,
      "overflow": null,
      "overflow_x": null,
      "overflow_y": null,
      "padding": null,
      "right": null,
      "top": null,
      "visibility": null,
      "width": null
     }
    },
    "c194a5fb20f346b4b98f771280179eb0": {
     "model_module": "@jupyter-widgets/controls",
     "model_module_version": "1.5.0",
     "model_name": "DescriptionStyleModel",
     "state": {
      "_model_module": "@jupyter-widgets/controls",
      "_model_module_version": "1.5.0",
      "_model_name": "DescriptionStyleModel",
      "_view_count": null,
      "_view_module": "@jupyter-widgets/base",
      "_view_module_version": "1.2.0",
      "_view_name": "StyleView",
      "description_width": ""
     }
    },
    "c7753e7b4dc0485aa722ff668e8b0547": {
     "model_module": "@jupyter-widgets/base",
     "model_module_version": "1.2.0",
     "model_name": "LayoutModel",
     "state": {
      "_model_module": "@jupyter-widgets/base",
      "_model_module_version": "1.2.0",
      "_model_name": "LayoutModel",
      "_view_count": null,
      "_view_module": "@jupyter-widgets/base",
      "_view_module_version": "1.2.0",
      "_view_name": "LayoutView",
      "align_content": null,
      "align_items": null,
      "align_self": null,
      "border": null,
      "bottom": null,
      "display": null,
      "flex": null,
      "flex_flow": null,
      "grid_area": null,
      "grid_auto_columns": null,
      "grid_auto_flow": null,
      "grid_auto_rows": null,
      "grid_column": null,
      "grid_gap": null,
      "grid_row": null,
      "grid_template_areas": null,
      "grid_template_columns": null,
      "grid_template_rows": null,
      "height": null,
      "justify_content": null,
      "justify_items": null,
      "left": null,
      "margin": null,
      "max_height": null,
      "max_width": null,
      "min_height": null,
      "min_width": null,
      "object_fit": null,
      "object_position": null,
      "order": null,
      "overflow": null,
      "overflow_x": null,
      "overflow_y": null,
      "padding": null,
      "right": null,
      "top": null,
      "visibility": null,
      "width": null
     }
    },
    "c792f9eafd87401bb272705ae3d92c58": {
     "model_module": "@jupyter-widgets/controls",
     "model_module_version": "1.5.0",
     "model_name": "DescriptionStyleModel",
     "state": {
      "_model_module": "@jupyter-widgets/controls",
      "_model_module_version": "1.5.0",
      "_model_name": "DescriptionStyleModel",
      "_view_count": null,
      "_view_module": "@jupyter-widgets/base",
      "_view_module_version": "1.2.0",
      "_view_name": "StyleView",
      "description_width": ""
     }
    },
    "c874e966173442c8abe1c4849be1f63d": {
     "model_module": "@jupyter-widgets/controls",
     "model_module_version": "1.5.0",
     "model_name": "HTMLModel",
     "state": {
      "_dom_classes": [],
      "_model_module": "@jupyter-widgets/controls",
      "_model_module_version": "1.5.0",
      "_model_name": "HTMLModel",
      "_view_count": null,
      "_view_module": "@jupyter-widgets/controls",
      "_view_module_version": "1.5.0",
      "_view_name": "HTMLView",
      "description": "",
      "description_tooltip": null,
      "layout": "IPY_MODEL_26848e5d16cd42c0ae77d67e51731bb1",
      "placeholder": "​",
      "style": "IPY_MODEL_51f30d4fd3b8440c80cc9229bf29d000",
      "value": ""
     }
    },
    "cb306316dcd04009a1e1b79e89b49f39": {
     "model_module": "@jupyter-widgets/base",
     "model_module_version": "1.2.0",
     "model_name": "LayoutModel",
     "state": {
      "_model_module": "@jupyter-widgets/base",
      "_model_module_version": "1.2.0",
      "_model_name": "LayoutModel",
      "_view_count": null,
      "_view_module": "@jupyter-widgets/base",
      "_view_module_version": "1.2.0",
      "_view_name": "LayoutView",
      "align_content": null,
      "align_items": null,
      "align_self": null,
      "border": null,
      "bottom": null,
      "display": null,
      "flex": null,
      "flex_flow": null,
      "grid_area": null,
      "grid_auto_columns": null,
      "grid_auto_flow": null,
      "grid_auto_rows": null,
      "grid_column": null,
      "grid_gap": null,
      "grid_row": null,
      "grid_template_areas": null,
      "grid_template_columns": null,
      "grid_template_rows": null,
      "height": null,
      "justify_content": null,
      "justify_items": null,
      "left": null,
      "margin": null,
      "max_height": null,
      "max_width": null,
      "min_height": null,
      "min_width": null,
      "object_fit": null,
      "object_position": null,
      "order": null,
      "overflow": null,
      "overflow_x": null,
      "overflow_y": null,
      "padding": null,
      "right": null,
      "top": null,
      "visibility": null,
      "width": null
     }
    },
    "cd89694b744c4b3f91335303ef68fe53": {
     "model_module": "@jupyter-widgets/controls",
     "model_module_version": "1.5.0",
     "model_name": "ProgressStyleModel",
     "state": {
      "_model_module": "@jupyter-widgets/controls",
      "_model_module_version": "1.5.0",
      "_model_name": "ProgressStyleModel",
      "_view_count": null,
      "_view_module": "@jupyter-widgets/base",
      "_view_module_version": "1.2.0",
      "_view_name": "StyleView",
      "bar_color": null,
      "description_width": ""
     }
    },
    "cd9ec113e6fe4b59849731aa49e65da3": {
     "model_module": "@jupyter-widgets/controls",
     "model_module_version": "1.5.0",
     "model_name": "DescriptionStyleModel",
     "state": {
      "_model_module": "@jupyter-widgets/controls",
      "_model_module_version": "1.5.0",
      "_model_name": "DescriptionStyleModel",
      "_view_count": null,
      "_view_module": "@jupyter-widgets/base",
      "_view_module_version": "1.2.0",
      "_view_name": "StyleView",
      "description_width": ""
     }
    },
    "ce08b62e70334451b689d8df807add92": {
     "model_module": "@jupyter-widgets/controls",
     "model_module_version": "1.5.0",
     "model_name": "HTMLModel",
     "state": {
      "_dom_classes": [],
      "_model_module": "@jupyter-widgets/controls",
      "_model_module_version": "1.5.0",
      "_model_name": "HTMLModel",
      "_view_count": null,
      "_view_module": "@jupyter-widgets/controls",
      "_view_module_version": "1.5.0",
      "_view_name": "HTMLView",
      "description": "",
      "description_tooltip": null,
      "layout": "IPY_MODEL_21f7a392d0e042ee84882c0575663d07",
      "placeholder": "​",
      "style": "IPY_MODEL_082787fd993940d48e64ca633826b6a0",
      "value": " 3/3 [00:00&lt;00:00, 56.63it/s]"
     }
    },
    "ce0dac9506464907a16278db1350b481": {
     "model_module": "@jupyter-widgets/controls",
     "model_module_version": "1.5.0",
     "model_name": "DescriptionStyleModel",
     "state": {
      "_model_module": "@jupyter-widgets/controls",
      "_model_module_version": "1.5.0",
      "_model_name": "DescriptionStyleModel",
      "_view_count": null,
      "_view_module": "@jupyter-widgets/base",
      "_view_module_version": "1.2.0",
      "_view_name": "StyleView",
      "description_width": ""
     }
    },
    "cf9211e12eb24bb1a317b62ae72f3c9e": {
     "model_module": "@jupyter-widgets/base",
     "model_module_version": "1.2.0",
     "model_name": "LayoutModel",
     "state": {
      "_model_module": "@jupyter-widgets/base",
      "_model_module_version": "1.2.0",
      "_model_name": "LayoutModel",
      "_view_count": null,
      "_view_module": "@jupyter-widgets/base",
      "_view_module_version": "1.2.0",
      "_view_name": "LayoutView",
      "align_content": null,
      "align_items": null,
      "align_self": null,
      "border": null,
      "bottom": null,
      "display": null,
      "flex": null,
      "flex_flow": null,
      "grid_area": null,
      "grid_auto_columns": null,
      "grid_auto_flow": null,
      "grid_auto_rows": null,
      "grid_column": null,
      "grid_gap": null,
      "grid_row": null,
      "grid_template_areas": null,
      "grid_template_columns": null,
      "grid_template_rows": null,
      "height": null,
      "justify_content": null,
      "justify_items": null,
      "left": null,
      "margin": null,
      "max_height": null,
      "max_width": null,
      "min_height": null,
      "min_width": null,
      "object_fit": null,
      "object_position": null,
      "order": null,
      "overflow": null,
      "overflow_x": null,
      "overflow_y": null,
      "padding": null,
      "right": null,
      "top": null,
      "visibility": null,
      "width": null
     }
    },
    "d06335bc415c4a0e9ac2d934d96134c5": {
     "model_module": "@jupyter-widgets/controls",
     "model_module_version": "1.5.0",
     "model_name": "HBoxModel",
     "state": {
      "_dom_classes": [],
      "_model_module": "@jupyter-widgets/controls",
      "_model_module_version": "1.5.0",
      "_model_name": "HBoxModel",
      "_view_count": null,
      "_view_module": "@jupyter-widgets/controls",
      "_view_module_version": "1.5.0",
      "_view_name": "HBoxView",
      "box_style": "",
      "children": [
       "IPY_MODEL_89975ead51b849269dee1ae701ef184a",
       "IPY_MODEL_defb27d47be646118f54d003193c479b",
       "IPY_MODEL_da11b24d25e9446baf9ef8c249a48b52"
      ],
      "layout": "IPY_MODEL_8515f48eb81245a5b47bba39ca0fbb6e"
     }
    },
    "d123f11ebe7645f5ba2f354b451126a2": {
     "model_module": "@jupyter-widgets/controls",
     "model_module_version": "1.5.0",
     "model_name": "HTMLModel",
     "state": {
      "_dom_classes": [],
      "_model_module": "@jupyter-widgets/controls",
      "_model_module_version": "1.5.0",
      "_model_name": "HTMLModel",
      "_view_count": null,
      "_view_module": "@jupyter-widgets/controls",
      "_view_module_version": "1.5.0",
      "_view_name": "HTMLView",
      "description": "",
      "description_tooltip": null,
      "layout": "IPY_MODEL_cb306316dcd04009a1e1b79e89b49f39",
      "placeholder": "​",
      "style": "IPY_MODEL_34cda2635176484a96baf74fe73b74de",
      "value": "Downloading: 100%"
     }
    },
    "d18ec221b6eb4cb188b797de78e69d9c": {
     "model_module": "@jupyter-widgets/base",
     "model_module_version": "1.2.0",
     "model_name": "LayoutModel",
     "state": {
      "_model_module": "@jupyter-widgets/base",
      "_model_module_version": "1.2.0",
      "_model_name": "LayoutModel",
      "_view_count": null,
      "_view_module": "@jupyter-widgets/base",
      "_view_module_version": "1.2.0",
      "_view_name": "LayoutView",
      "align_content": null,
      "align_items": null,
      "align_self": null,
      "border": null,
      "bottom": null,
      "display": null,
      "flex": null,
      "flex_flow": null,
      "grid_area": null,
      "grid_auto_columns": null,
      "grid_auto_flow": null,
      "grid_auto_rows": null,
      "grid_column": null,
      "grid_gap": null,
      "grid_row": null,
      "grid_template_areas": null,
      "grid_template_columns": null,
      "grid_template_rows": null,
      "height": null,
      "justify_content": null,
      "justify_items": null,
      "left": null,
      "margin": null,
      "max_height": null,
      "max_width": null,
      "min_height": null,
      "min_width": null,
      "object_fit": null,
      "object_position": null,
      "order": null,
      "overflow": null,
      "overflow_x": null,
      "overflow_y": null,
      "padding": null,
      "right": null,
      "top": null,
      "visibility": null,
      "width": null
     }
    },
    "d2a9e3cb434c4aa29358e6efc19c60a0": {
     "model_module": "@jupyter-widgets/base",
     "model_module_version": "1.2.0",
     "model_name": "LayoutModel",
     "state": {
      "_model_module": "@jupyter-widgets/base",
      "_model_module_version": "1.2.0",
      "_model_name": "LayoutModel",
      "_view_count": null,
      "_view_module": "@jupyter-widgets/base",
      "_view_module_version": "1.2.0",
      "_view_name": "LayoutView",
      "align_content": null,
      "align_items": null,
      "align_self": null,
      "border": null,
      "bottom": null,
      "display": null,
      "flex": null,
      "flex_flow": null,
      "grid_area": null,
      "grid_auto_columns": null,
      "grid_auto_flow": null,
      "grid_auto_rows": null,
      "grid_column": null,
      "grid_gap": null,
      "grid_row": null,
      "grid_template_areas": null,
      "grid_template_columns": null,
      "grid_template_rows": null,
      "height": null,
      "justify_content": null,
      "justify_items": null,
      "left": null,
      "margin": null,
      "max_height": null,
      "max_width": null,
      "min_height": null,
      "min_width": null,
      "object_fit": null,
      "object_position": null,
      "order": null,
      "overflow": null,
      "overflow_x": null,
      "overflow_y": null,
      "padding": null,
      "right": null,
      "top": null,
      "visibility": null,
      "width": null
     }
    },
    "d3ef014a2b4a46d4a21a4ef3af90adce": {
     "model_module": "@jupyter-widgets/controls",
     "model_module_version": "1.5.0",
     "model_name": "HBoxModel",
     "state": {
      "_dom_classes": [],
      "_model_module": "@jupyter-widgets/controls",
      "_model_module_version": "1.5.0",
      "_model_name": "HBoxModel",
      "_view_count": null,
      "_view_module": "@jupyter-widgets/controls",
      "_view_module_version": "1.5.0",
      "_view_name": "HBoxView",
      "box_style": "",
      "children": [
       "IPY_MODEL_525e985951fc43e085e03ee54e2174ae",
       "IPY_MODEL_e2daf959cde240dab12f11ef621f014c",
       "IPY_MODEL_b405ea85b08e49fcb74ff559d806acdb"
      ],
      "layout": "IPY_MODEL_5fbe8640c52a4078b5c9f4c61ea1b0b8"
     }
    },
    "d65651b9a1894a3085652b0eba69ad0f": {
     "model_module": "@jupyter-widgets/controls",
     "model_module_version": "1.5.0",
     "model_name": "ProgressStyleModel",
     "state": {
      "_model_module": "@jupyter-widgets/controls",
      "_model_module_version": "1.5.0",
      "_model_name": "ProgressStyleModel",
      "_view_count": null,
      "_view_module": "@jupyter-widgets/base",
      "_view_module_version": "1.2.0",
      "_view_name": "StyleView",
      "bar_color": null,
      "description_width": ""
     }
    },
    "da11b24d25e9446baf9ef8c249a48b52": {
     "model_module": "@jupyter-widgets/controls",
     "model_module_version": "1.5.0",
     "model_name": "HTMLModel",
     "state": {
      "_dom_classes": [],
      "_model_module": "@jupyter-widgets/controls",
      "_model_module_version": "1.5.0",
      "_model_name": "HTMLModel",
      "_view_count": null,
      "_view_module": "@jupyter-widgets/controls",
      "_view_module_version": "1.5.0",
      "_view_name": "HTMLView",
      "description": "",
      "description_tooltip": null,
      "layout": "IPY_MODEL_eb10f338587441128393e4747be415c4",
      "placeholder": "​",
      "style": "IPY_MODEL_308b0ea6ab8e46c3af1e4194d7ce2f49",
      "value": " 1.87M/1.87M [00:00&lt;00:00, 2.06MB/s]"
     }
    },
    "dba98dd859224f8884f35565e11298c3": {
     "model_module": "@jupyter-widgets/controls",
     "model_module_version": "1.5.0",
     "model_name": "HBoxModel",
     "state": {
      "_dom_classes": [],
      "_model_module": "@jupyter-widgets/controls",
      "_model_module_version": "1.5.0",
      "_model_name": "HBoxModel",
      "_view_count": null,
      "_view_module": "@jupyter-widgets/controls",
      "_view_module_version": "1.5.0",
      "_view_name": "HBoxView",
      "box_style": "",
      "children": [
       "IPY_MODEL_abcb0ec665364c7795110e6aa3189674",
       "IPY_MODEL_0f73efbfa281497a94d43cddb8f2ff7f",
       "IPY_MODEL_ce08b62e70334451b689d8df807add92"
      ],
      "layout": "IPY_MODEL_fb8b88e8481048afaada259c1b08a752"
     }
    },
    "defb27d47be646118f54d003193c479b": {
     "model_module": "@jupyter-widgets/controls",
     "model_module_version": "1.5.0",
     "model_name": "FloatProgressModel",
     "state": {
      "_dom_classes": [],
      "_model_module": "@jupyter-widgets/controls",
      "_model_module_version": "1.5.0",
      "_model_name": "FloatProgressModel",
      "_view_count": null,
      "_view_module": "@jupyter-widgets/controls",
      "_view_module_version": "1.5.0",
      "_view_name": "ProgressView",
      "bar_style": "success",
      "description": "",
      "description_tooltip": null,
      "layout": "IPY_MODEL_18d778124611424a8df2cdc1fc3d3cdf",
      "max": 1961828,
      "min": 0,
      "orientation": "horizontal",
      "style": "IPY_MODEL_6d535a8ba1904d73a71ad6b9913fb08f",
      "value": 1961828
     }
    },
    "e1be8fc22c024128b33f05f06a5062c6": {
     "model_module": "@jupyter-widgets/controls",
     "model_module_version": "1.5.0",
     "model_name": "HTMLModel",
     "state": {
      "_dom_classes": [],
      "_model_module": "@jupyter-widgets/controls",
      "_model_module_version": "1.5.0",
      "_model_name": "HTMLModel",
      "_view_count": null,
      "_view_module": "@jupyter-widgets/controls",
      "_view_module_version": "1.5.0",
      "_view_name": "HTMLView",
      "description": "",
      "description_tooltip": null,
      "layout": "IPY_MODEL_35c2bf75f16b4dc5b844a0f65c6af30d",
      "placeholder": "​",
      "style": "IPY_MODEL_a348abd32f3641309bb61d5e935b0a6f",
      "value": " 29.0/29.0 [00:00&lt;00:00, 363B/s]"
     }
    },
    "e21182d7a702401e8c44205af8c70730": {
     "model_module": "@jupyter-widgets/base",
     "model_module_version": "1.2.0",
     "model_name": "LayoutModel",
     "state": {
      "_model_module": "@jupyter-widgets/base",
      "_model_module_version": "1.2.0",
      "_model_name": "LayoutModel",
      "_view_count": null,
      "_view_module": "@jupyter-widgets/base",
      "_view_module_version": "1.2.0",
      "_view_name": "LayoutView",
      "align_content": null,
      "align_items": null,
      "align_self": null,
      "border": null,
      "bottom": null,
      "display": null,
      "flex": null,
      "flex_flow": null,
      "grid_area": null,
      "grid_auto_columns": null,
      "grid_auto_flow": null,
      "grid_auto_rows": null,
      "grid_column": null,
      "grid_gap": null,
      "grid_row": null,
      "grid_template_areas": null,
      "grid_template_columns": null,
      "grid_template_rows": null,
      "height": null,
      "justify_content": null,
      "justify_items": null,
      "left": null,
      "margin": null,
      "max_height": null,
      "max_width": null,
      "min_height": null,
      "min_width": null,
      "object_fit": null,
      "object_position": null,
      "order": null,
      "overflow": null,
      "overflow_x": null,
      "overflow_y": null,
      "padding": null,
      "right": null,
      "top": null,
      "visibility": null,
      "width": null
     }
    },
    "e2daf959cde240dab12f11ef621f014c": {
     "model_module": "@jupyter-widgets/controls",
     "model_module_version": "1.5.0",
     "model_name": "FloatProgressModel",
     "state": {
      "_dom_classes": [],
      "_model_module": "@jupyter-widgets/controls",
      "_model_module_version": "1.5.0",
      "_model_name": "FloatProgressModel",
      "_view_count": null,
      "_view_module": "@jupyter-widgets/controls",
      "_view_module_version": "1.5.0",
      "_view_name": "ProgressView",
      "bar_style": "success",
      "description": "",
      "description_tooltip": null,
      "layout": "IPY_MODEL_2aae99070cbe4e03898715673bd8c6a3",
      "max": 69,
      "min": 0,
      "orientation": "horizontal",
      "style": "IPY_MODEL_461ea16eafbb4d84b8561847337dd522",
      "value": 69
     }
    },
    "e53986c5cc3941fdb489bdcdfabe96b2": {
     "model_module": "@jupyter-widgets/controls",
     "model_module_version": "1.5.0",
     "model_name": "ProgressStyleModel",
     "state": {
      "_model_module": "@jupyter-widgets/controls",
      "_model_module_version": "1.5.0",
      "_model_name": "ProgressStyleModel",
      "_view_count": null,
      "_view_module": "@jupyter-widgets/base",
      "_view_module_version": "1.2.0",
      "_view_name": "StyleView",
      "bar_color": null,
      "description_width": ""
     }
    },
    "e5642731332540ad9f63268e20337cb9": {
     "model_module": "@jupyter-widgets/controls",
     "model_module_version": "1.5.0",
     "model_name": "HTMLModel",
     "state": {
      "_dom_classes": [],
      "_model_module": "@jupyter-widgets/controls",
      "_model_module_version": "1.5.0",
      "_model_name": "HTMLModel",
      "_view_count": null,
      "_view_module": "@jupyter-widgets/controls",
      "_view_module_version": "1.5.0",
      "_view_name": "HTMLView",
      "description": "",
      "description_tooltip": null,
      "layout": "IPY_MODEL_546dd4358b5e4add83c23dc82fd2aab3",
      "placeholder": "​",
      "style": "IPY_MODEL_cd9ec113e6fe4b59849731aa49e65da3",
      "value": "Extracting data files: 100%"
     }
    },
    "e695112ddcd840ffb4ea174e552ee1fc": {
     "model_module": "@jupyter-widgets/base",
     "model_module_version": "1.2.0",
     "model_name": "LayoutModel",
     "state": {
      "_model_module": "@jupyter-widgets/base",
      "_model_module_version": "1.2.0",
      "_model_name": "LayoutModel",
      "_view_count": null,
      "_view_module": "@jupyter-widgets/base",
      "_view_module_version": "1.2.0",
      "_view_name": "LayoutView",
      "align_content": null,
      "align_items": null,
      "align_self": null,
      "border": null,
      "bottom": null,
      "display": null,
      "flex": null,
      "flex_flow": null,
      "grid_area": null,
      "grid_auto_columns": null,
      "grid_auto_flow": null,
      "grid_auto_rows": null,
      "grid_column": null,
      "grid_gap": null,
      "grid_row": null,
      "grid_template_areas": null,
      "grid_template_columns": null,
      "grid_template_rows": null,
      "height": null,
      "justify_content": null,
      "justify_items": null,
      "left": null,
      "margin": null,
      "max_height": null,
      "max_width": null,
      "min_height": null,
      "min_width": null,
      "object_fit": null,
      "object_position": null,
      "order": null,
      "overflow": null,
      "overflow_x": null,
      "overflow_y": null,
      "padding": null,
      "right": null,
      "top": null,
      "visibility": null,
      "width": null
     }
    },
    "e8d93a5a708442cfbf033b4cd1abf600": {
     "model_module": "@jupyter-widgets/base",
     "model_module_version": "1.2.0",
     "model_name": "LayoutModel",
     "state": {
      "_model_module": "@jupyter-widgets/base",
      "_model_module_version": "1.2.0",
      "_model_name": "LayoutModel",
      "_view_count": null,
      "_view_module": "@jupyter-widgets/base",
      "_view_module_version": "1.2.0",
      "_view_name": "LayoutView",
      "align_content": null,
      "align_items": null,
      "align_self": null,
      "border": null,
      "bottom": null,
      "display": null,
      "flex": null,
      "flex_flow": null,
      "grid_area": null,
      "grid_auto_columns": null,
      "grid_auto_flow": null,
      "grid_auto_rows": null,
      "grid_column": null,
      "grid_gap": null,
      "grid_row": null,
      "grid_template_areas": null,
      "grid_template_columns": null,
      "grid_template_rows": null,
      "height": null,
      "justify_content": null,
      "justify_items": null,
      "left": null,
      "margin": null,
      "max_height": null,
      "max_width": null,
      "min_height": null,
      "min_width": null,
      "object_fit": null,
      "object_position": null,
      "order": null,
      "overflow": null,
      "overflow_x": null,
      "overflow_y": null,
      "padding": null,
      "right": null,
      "top": null,
      "visibility": null,
      "width": null
     }
    },
    "eb10f338587441128393e4747be415c4": {
     "model_module": "@jupyter-widgets/base",
     "model_module_version": "1.2.0",
     "model_name": "LayoutModel",
     "state": {
      "_model_module": "@jupyter-widgets/base",
      "_model_module_version": "1.2.0",
      "_model_name": "LayoutModel",
      "_view_count": null,
      "_view_module": "@jupyter-widgets/base",
      "_view_module_version": "1.2.0",
      "_view_name": "LayoutView",
      "align_content": null,
      "align_items": null,
      "align_self": null,
      "border": null,
      "bottom": null,
      "display": null,
      "flex": null,
      "flex_flow": null,
      "grid_area": null,
      "grid_auto_columns": null,
      "grid_auto_flow": null,
      "grid_auto_rows": null,
      "grid_column": null,
      "grid_gap": null,
      "grid_row": null,
      "grid_template_areas": null,
      "grid_template_columns": null,
      "grid_template_rows": null,
      "height": null,
      "justify_content": null,
      "justify_items": null,
      "left": null,
      "margin": null,
      "max_height": null,
      "max_width": null,
      "min_height": null,
      "min_width": null,
      "object_fit": null,
      "object_position": null,
      "order": null,
      "overflow": null,
      "overflow_x": null,
      "overflow_y": null,
      "padding": null,
      "right": null,
      "top": null,
      "visibility": null,
      "width": null
     }
    },
    "ebc907d2c761456496aac63709da56e4": {
     "model_module": "@jupyter-widgets/controls",
     "model_module_version": "1.5.0",
     "model_name": "HBoxModel",
     "state": {
      "_dom_classes": [],
      "_model_module": "@jupyter-widgets/controls",
      "_model_module_version": "1.5.0",
      "_model_name": "HBoxModel",
      "_view_count": null,
      "_view_module": "@jupyter-widgets/controls",
      "_view_module_version": "1.5.0",
      "_view_name": "HBoxView",
      "box_style": "",
      "children": [
       "IPY_MODEL_a16a1988d83b44488ddd404a60d8f267",
       "IPY_MODEL_2f3314ed7f0b45caa284ade6dc7e39c9",
       "IPY_MODEL_f8e8723924cd481b946736d7fb2687d0"
      ],
      "layout": "IPY_MODEL_5f94b21c57374af1a44ad6778f9a267f"
     }
    },
    "ec086933b7334402af05dc21a95682cf": {
     "model_module": "@jupyter-widgets/controls",
     "model_module_version": "1.5.0",
     "model_name": "DescriptionStyleModel",
     "state": {
      "_model_module": "@jupyter-widgets/controls",
      "_model_module_version": "1.5.0",
      "_model_name": "DescriptionStyleModel",
      "_view_count": null,
      "_view_module": "@jupyter-widgets/base",
      "_view_module_version": "1.2.0",
      "_view_name": "StyleView",
      "description_width": ""
     }
    },
    "ec7cf2abfeea4916a4ddaa541bfcf6a5": {
     "model_module": "@jupyter-widgets/base",
     "model_module_version": "1.2.0",
     "model_name": "LayoutModel",
     "state": {
      "_model_module": "@jupyter-widgets/base",
      "_model_module_version": "1.2.0",
      "_model_name": "LayoutModel",
      "_view_count": null,
      "_view_module": "@jupyter-widgets/base",
      "_view_module_version": "1.2.0",
      "_view_name": "LayoutView",
      "align_content": null,
      "align_items": null,
      "align_self": null,
      "border": null,
      "bottom": null,
      "display": null,
      "flex": null,
      "flex_flow": null,
      "grid_area": null,
      "grid_auto_columns": null,
      "grid_auto_flow": null,
      "grid_auto_rows": null,
      "grid_column": null,
      "grid_gap": null,
      "grid_row": null,
      "grid_template_areas": null,
      "grid_template_columns": null,
      "grid_template_rows": null,
      "height": null,
      "justify_content": null,
      "justify_items": null,
      "left": null,
      "margin": null,
      "max_height": null,
      "max_width": null,
      "min_height": null,
      "min_width": null,
      "object_fit": null,
      "object_position": null,
      "order": null,
      "overflow": null,
      "overflow_x": null,
      "overflow_y": null,
      "padding": null,
      "right": null,
      "top": null,
      "visibility": null,
      "width": null
     }
    },
    "ed05a8359589425fa6a8b60aa0485f8b": {
     "model_module": "@jupyter-widgets/controls",
     "model_module_version": "1.5.0",
     "model_name": "ProgressStyleModel",
     "state": {
      "_model_module": "@jupyter-widgets/controls",
      "_model_module_version": "1.5.0",
      "_model_name": "ProgressStyleModel",
      "_view_count": null,
      "_view_module": "@jupyter-widgets/base",
      "_view_module_version": "1.2.0",
      "_view_name": "StyleView",
      "bar_color": null,
      "description_width": ""
     }
    },
    "ef6cb12ee2d04cadb5ceeefd544addd9": {
     "model_module": "@jupyter-widgets/controls",
     "model_module_version": "1.5.0",
     "model_name": "FloatProgressModel",
     "state": {
      "_dom_classes": [],
      "_model_module": "@jupyter-widgets/controls",
      "_model_module_version": "1.5.0",
      "_model_name": "FloatProgressModel",
      "_view_count": null,
      "_view_module": "@jupyter-widgets/controls",
      "_view_module_version": "1.5.0",
      "_view_name": "ProgressView",
      "bar_style": "success",
      "description": "",
      "description_tooltip": null,
      "layout": "IPY_MODEL_73f9382dfaa3424db427d27cec2f2510",
      "max": 29,
      "min": 0,
      "orientation": "horizontal",
      "style": "IPY_MODEL_8aba9461c29b49e089cf64bde4eb424b",
      "value": 29
     }
    },
    "f05f0e2e13134d868dd938d4b09b42e2": {
     "model_module": "@jupyter-widgets/base",
     "model_module_version": "1.2.0",
     "model_name": "LayoutModel",
     "state": {
      "_model_module": "@jupyter-widgets/base",
      "_model_module_version": "1.2.0",
      "_model_name": "LayoutModel",
      "_view_count": null,
      "_view_module": "@jupyter-widgets/base",
      "_view_module_version": "1.2.0",
      "_view_name": "LayoutView",
      "align_content": null,
      "align_items": null,
      "align_self": null,
      "border": null,
      "bottom": null,
      "display": null,
      "flex": null,
      "flex_flow": null,
      "grid_area": null,
      "grid_auto_columns": null,
      "grid_auto_flow": null,
      "grid_auto_rows": null,
      "grid_column": null,
      "grid_gap": null,
      "grid_row": null,
      "grid_template_areas": null,
      "grid_template_columns": null,
      "grid_template_rows": null,
      "height": null,
      "justify_content": null,
      "justify_items": null,
      "left": null,
      "margin": null,
      "max_height": null,
      "max_width": null,
      "min_height": null,
      "min_width": null,
      "object_fit": null,
      "object_position": null,
      "order": null,
      "overflow": null,
      "overflow_x": null,
      "overflow_y": null,
      "padding": null,
      "right": null,
      "top": null,
      "visibility": null,
      "width": null
     }
    },
    "f1dbda0d4de64fda9d783bba5ae94e01": {
     "model_module": "@jupyter-widgets/controls",
     "model_module_version": "1.5.0",
     "model_name": "FloatProgressModel",
     "state": {
      "_dom_classes": [],
      "_model_module": "@jupyter-widgets/controls",
      "_model_module_version": "1.5.0",
      "_model_name": "FloatProgressModel",
      "_view_count": null,
      "_view_module": "@jupyter-widgets/controls",
      "_view_module_version": "1.5.0",
      "_view_name": "ProgressView",
      "bar_style": "success",
      "description": "",
      "description_tooltip": null,
      "layout": "IPY_MODEL_f05f0e2e13134d868dd938d4b09b42e2",
      "max": 3,
      "min": 0,
      "orientation": "horizontal",
      "style": "IPY_MODEL_74c799f889374a52ae742fcff4a90f30",
      "value": 3
     }
    },
    "f2d5e470f3f84763a99b0f465d99f88f": {
     "model_module": "@jupyter-widgets/controls",
     "model_module_version": "1.5.0",
     "model_name": "FloatProgressModel",
     "state": {
      "_dom_classes": [],
      "_model_module": "@jupyter-widgets/controls",
      "_model_module_version": "1.5.0",
      "_model_name": "FloatProgressModel",
      "_view_count": null,
      "_view_module": "@jupyter-widgets/controls",
      "_view_module_version": "1.5.0",
      "_view_name": "ProgressView",
      "bar_style": "success",
      "description": "",
      "description_tooltip": null,
      "layout": "IPY_MODEL_cf9211e12eb24bb1a317b62ae72f3c9e",
      "max": 910749124,
      "min": 0,
      "orientation": "horizontal",
      "style": "IPY_MODEL_d65651b9a1894a3085652b0eba69ad0f",
      "value": 910749124
     }
    },
    "f31f4b796a5e4b35b569037f7e0d0515": {
     "model_module": "@jupyter-widgets/controls",
     "model_module_version": "1.5.0",
     "model_name": "DescriptionStyleModel",
     "state": {
      "_model_module": "@jupyter-widgets/controls",
      "_model_module_version": "1.5.0",
      "_model_name": "DescriptionStyleModel",
      "_view_count": null,
      "_view_module": "@jupyter-widgets/base",
      "_view_module_version": "1.2.0",
      "_view_name": "StyleView",
      "description_width": ""
     }
    },
    "f36cdb4f156542f1a95c26b7fc00c597": {
     "model_module": "@jupyter-widgets/controls",
     "model_module_version": "1.5.0",
     "model_name": "DescriptionStyleModel",
     "state": {
      "_model_module": "@jupyter-widgets/controls",
      "_model_module_version": "1.5.0",
      "_model_name": "DescriptionStyleModel",
      "_view_count": null,
      "_view_module": "@jupyter-widgets/base",
      "_view_module_version": "1.2.0",
      "_view_name": "StyleView",
      "description_width": ""
     }
    },
    "f374ae69a4fc47f3992e686375e3d067": {
     "model_module": "@jupyter-widgets/base",
     "model_module_version": "1.2.0",
     "model_name": "LayoutModel",
     "state": {
      "_model_module": "@jupyter-widgets/base",
      "_model_module_version": "1.2.0",
      "_model_name": "LayoutModel",
      "_view_count": null,
      "_view_module": "@jupyter-widgets/base",
      "_view_module_version": "1.2.0",
      "_view_name": "LayoutView",
      "align_content": null,
      "align_items": null,
      "align_self": null,
      "border": null,
      "bottom": null,
      "display": null,
      "flex": null,
      "flex_flow": null,
      "grid_area": null,
      "grid_auto_columns": null,
      "grid_auto_flow": null,
      "grid_auto_rows": null,
      "grid_column": null,
      "grid_gap": null,
      "grid_row": null,
      "grid_template_areas": null,
      "grid_template_columns": null,
      "grid_template_rows": null,
      "height": null,
      "justify_content": null,
      "justify_items": null,
      "left": null,
      "margin": null,
      "max_height": null,
      "max_width": null,
      "min_height": null,
      "min_width": null,
      "object_fit": null,
      "object_position": null,
      "order": null,
      "overflow": null,
      "overflow_x": null,
      "overflow_y": null,
      "padding": null,
      "right": null,
      "top": null,
      "visibility": null,
      "width": null
     }
    },
    "f390799ae79b4161bd20987d7b697da6": {
     "model_module": "@jupyter-widgets/controls",
     "model_module_version": "1.5.0",
     "model_name": "HTMLModel",
     "state": {
      "_dom_classes": [],
      "_model_module": "@jupyter-widgets/controls",
      "_model_module_version": "1.5.0",
      "_model_name": "HTMLModel",
      "_view_count": null,
      "_view_module": "@jupyter-widgets/controls",
      "_view_module_version": "1.5.0",
      "_view_name": "HTMLView",
      "description": "",
      "description_tooltip": null,
      "layout": "IPY_MODEL_e21182d7a702401e8c44205af8c70730",
      "placeholder": "​",
      "style": "IPY_MODEL_671cf983b855429cab9a75d2cdfe0b6f",
      "value": "Downloading: 100%"
     }
    },
    "f540db8704e646338b22276600ba9b6f": {
     "model_module": "@jupyter-widgets/base",
     "model_module_version": "1.2.0",
     "model_name": "LayoutModel",
     "state": {
      "_model_module": "@jupyter-widgets/base",
      "_model_module_version": "1.2.0",
      "_model_name": "LayoutModel",
      "_view_count": null,
      "_view_module": "@jupyter-widgets/base",
      "_view_module_version": "1.2.0",
      "_view_name": "LayoutView",
      "align_content": null,
      "align_items": null,
      "align_self": null,
      "border": null,
      "bottom": null,
      "display": null,
      "flex": null,
      "flex_flow": null,
      "grid_area": null,
      "grid_auto_columns": null,
      "grid_auto_flow": null,
      "grid_auto_rows": null,
      "grid_column": null,
      "grid_gap": null,
      "grid_row": null,
      "grid_template_areas": null,
      "grid_template_columns": null,
      "grid_template_rows": null,
      "height": null,
      "justify_content": null,
      "justify_items": null,
      "left": null,
      "margin": null,
      "max_height": null,
      "max_width": null,
      "min_height": null,
      "min_width": null,
      "object_fit": null,
      "object_position": null,
      "order": null,
      "overflow": null,
      "overflow_x": null,
      "overflow_y": null,
      "padding": null,
      "right": null,
      "top": null,
      "visibility": null,
      "width": null
     }
    },
    "f6be3758525c4266a46fe6e80e21b73d": {
     "model_module": "@jupyter-widgets/controls",
     "model_module_version": "1.5.0",
     "model_name": "HTMLModel",
     "state": {
      "_dom_classes": [],
      "_model_module": "@jupyter-widgets/controls",
      "_model_module_version": "1.5.0",
      "_model_name": "HTMLModel",
      "_view_count": null,
      "_view_module": "@jupyter-widgets/controls",
      "_view_module_version": "1.5.0",
      "_view_name": "HTMLView",
      "description": "",
      "description_tooltip": null,
      "layout": "IPY_MODEL_3fa33b39774d46adb3ef2d389cd023a2",
      "placeholder": "​",
      "style": "IPY_MODEL_b21d51f573da49baa0be1ec6388f1c3b",
      "value": ""
     }
    },
    "f8e8723924cd481b946736d7fb2687d0": {
     "model_module": "@jupyter-widgets/controls",
     "model_module_version": "1.5.0",
     "model_name": "HTMLModel",
     "state": {
      "_dom_classes": [],
      "_model_module": "@jupyter-widgets/controls",
      "_model_module_version": "1.5.0",
      "_model_name": "HTMLModel",
      "_view_count": null,
      "_view_module": "@jupyter-widgets/controls",
      "_view_module_version": "1.5.0",
      "_view_name": "HTMLView",
      "description": "",
      "description_tooltip": null,
      "layout": "IPY_MODEL_9c68de91365a4d17a2a48b239a738f31",
      "placeholder": "​",
      "style": "IPY_MODEL_34610e4af2cb4408bcbf4ff95e4696c1",
      "value": " 90/90 [00:01&lt;00:00, 71.51ba/s]"
     }
    },
    "fa9babcd34ec4859820c9ae980818087": {
     "model_module": "@jupyter-widgets/controls",
     "model_module_version": "1.5.0",
     "model_name": "HTMLModel",
     "state": {
      "_dom_classes": [],
      "_model_module": "@jupyter-widgets/controls",
      "_model_module_version": "1.5.0",
      "_model_name": "HTMLModel",
      "_view_count": null,
      "_view_module": "@jupyter-widgets/controls",
      "_view_module_version": "1.5.0",
      "_view_name": "HTMLView",
      "description": "",
      "description_tooltip": null,
      "layout": "IPY_MODEL_3d3c0002fed94145ac4f1deb79d10d2b",
      "placeholder": "​",
      "style": "IPY_MODEL_72062145780e4f6a8e9e46cebc74c250",
      "value": ""
     }
    },
    "fb8b88e8481048afaada259c1b08a752": {
     "model_module": "@jupyter-widgets/base",
     "model_module_version": "1.2.0",
     "model_name": "LayoutModel",
     "state": {
      "_model_module": "@jupyter-widgets/base",
      "_model_module_version": "1.2.0",
      "_model_name": "LayoutModel",
      "_view_count": null,
      "_view_module": "@jupyter-widgets/base",
      "_view_module_version": "1.2.0",
      "_view_name": "LayoutView",
      "align_content": null,
      "align_items": null,
      "align_self": null,
      "border": null,
      "bottom": null,
      "display": null,
      "flex": null,
      "flex_flow": null,
      "grid_area": null,
      "grid_auto_columns": null,
      "grid_auto_flow": null,
      "grid_auto_rows": null,
      "grid_column": null,
      "grid_gap": null,
      "grid_row": null,
      "grid_template_areas": null,
      "grid_template_columns": null,
      "grid_template_rows": null,
      "height": null,
      "justify_content": null,
      "justify_items": null,
      "left": null,
      "margin": null,
      "max_height": null,
      "max_width": null,
      "min_height": null,
      "min_width": null,
      "object_fit": null,
      "object_position": null,
      "order": null,
      "overflow": null,
      "overflow_x": null,
      "overflow_y": null,
      "padding": null,
      "right": null,
      "top": null,
      "visibility": null,
      "width": null
     }
    },
    "fe08691d1d7840d8aa02360a2b43568d": {
     "model_module": "@jupyter-widgets/base",
     "model_module_version": "1.2.0",
     "model_name": "LayoutModel",
     "state": {
      "_model_module": "@jupyter-widgets/base",
      "_model_module_version": "1.2.0",
      "_model_name": "LayoutModel",
      "_view_count": null,
      "_view_module": "@jupyter-widgets/base",
      "_view_module_version": "1.2.0",
      "_view_name": "LayoutView",
      "align_content": null,
      "align_items": null,
      "align_self": null,
      "border": null,
      "bottom": null,
      "display": null,
      "flex": null,
      "flex_flow": null,
      "grid_area": null,
      "grid_auto_columns": null,
      "grid_auto_flow": null,
      "grid_auto_rows": null,
      "grid_column": null,
      "grid_gap": null,
      "grid_row": null,
      "grid_template_areas": null,
      "grid_template_columns": null,
      "grid_template_rows": null,
      "height": null,
      "justify_content": null,
      "justify_items": null,
      "left": null,
      "margin": null,
      "max_height": null,
      "max_width": null,
      "min_height": null,
      "min_width": null,
      "object_fit": null,
      "object_position": null,
      "order": null,
      "overflow": null,
      "overflow_x": null,
      "overflow_y": null,
      "padding": null,
      "right": null,
      "top": null,
      "visibility": null,
      "width": null
     }
    }
   }
  }
 },
 "nbformat": 4,
 "nbformat_minor": 4
}
