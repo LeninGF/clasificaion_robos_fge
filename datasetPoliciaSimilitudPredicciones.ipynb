{
 "cells": [
  {
   "cell_type": "markdown",
   "metadata": {},
   "source": [
    "## Similitud Documental y predicción de etiquetas con score para Delitos Seguimiento\n",
    "\n",
    "Fecha: 2023-09-08\n",
    "Coder: LeninGF\n",
    "\n",
    "**Objetivo:**\n",
    "1. Analizar la similitud documental entre los relatos del dataset de policía $\\mathbb{D}^{PN}$ y los del dataset de Fiscalía $\\mathbb{D}^{FGE}  $\n",
    "2. Utilizar dos técnicas para determinar el score de similitud\n",
    "3. Realizar la predicción de la etiqueta de delitos seguimiento a partir del relato de Policía\n",
    "4. Comparar en cuanto difiere la predicción sin re-entrenamiento del modelo partiendo de un texto diferente.\n",
    "\n",
    "**Dataset**\n",
    "\n",
    "El dataset a utilizar es el resultado de combinar los registros obtenidos de la Policía en conjunción con los tipos penales definidos en SIAF con la fecha de corte de 25 de agosto de 2023 y los tipos penales definidos por la Comisión Estadística i.e. $\\mathbb{D}^{PN\\cup FGE\\cup CE}_{1210342 \\times 119 }$"
   ]
  }
 ],
 "metadata": {
  "language_info": {
   "name": "python"
  },
  "orig_nbformat": 4
 },
 "nbformat": 4,
 "nbformat_minor": 2
}
