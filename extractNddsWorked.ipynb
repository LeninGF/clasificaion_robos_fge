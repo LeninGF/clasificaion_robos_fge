{
 "cells": [
  {
   "cell_type": "markdown",
   "metadata": {},
   "source": [
    "## Extracción de Ndds Procesadas entre dos períodos\n",
    "\n",
    "Suponiendo un trabajo mensual de la Comisión (i.e. no existe una referencia del método ni de la frecuencia, ni de las operaciones realizadas por la Comisión, a excepción de un manual que tipifica las desagregaciones de Robo), el propósito de este Notebook es extraer las Ndds operadas por la Comisión entre dos períodos. Sea $M_1$ y $M_2$ las bases de datos donde se almacenan la información de dos perítos $t_1$ y $t_2$ (i.e. fechas de corte), entonces la $Ndd_2 - Ndd_1$, donde $Ndd_1 \\in M_1 $ y $Ndd_2 \\in M_2$ son el conjunto de Ndds de las respectivas bases, la diferencia de conjuntos debe dar las Ndds trabajadas entre ambas fechas de corte toda vez que $t_2 > t_1$: $Ndd_i \\in M_2 \\&  Ndd_i \\notin M_1 $\n",
    "\n",
    "* Debe observarse que las bases de la Comisión **siempre** contienen la información de manera acumulativa. Es decir $M_1\\subset  M_2$ para $t_2 > t_1$\n",
    "* Debe observarse que las bases de la Comisión (Robos)y su **metodología** para la generacion de información no dispone de una documentación de respaldo\n",
    "\n",
    "\n",
    "* Coder: LeninGF\n",
    "* Fecha: 2022-12-19\n"
   ]
  },
  {
   "cell_type": "code",
   "execution_count": 2,
   "metadata": {},
   "outputs": [
    {
     "name": "stdout",
     "output_type": "stream",
     "text": [
      "conectando con big data database....\n",
      "<sqlalchemy.engine.base.Connection object at 0x7fc75fb647c0>\n"
     ]
    }
   ],
   "source": [
    "import pandas as pd\n",
    "import numpy  as np\n",
    "from utils import conectar_sql\n",
    "import os\n",
    "\n",
    "conx = conectar_sql()"
   ]
  },
  {
   "cell_type": "code",
   "execution_count": null,
   "metadata": {},
   "outputs": [],
   "source": [
    "query1 = \"SELECT * FROM reportes.robos_2014_08062022;\"\n",
    "robos_junio_2022 = pd.read_sql(query1, conx)\n",
    "robos_junio_2022.shape"
   ]
  },
  {
   "cell_type": "code",
   "execution_count": null,
   "metadata": {},
   "outputs": [],
   "source": [
    "query2 = \"SELECT * FROM reportes.robos_2014_08052022;\"\n",
    "robos_mayo_2022 = pd.read_sql(query2, conx)\n",
    "robos_mayo_2022.shape"
   ]
  },
  {
   "cell_type": "code",
   "execution_count": null,
   "metadata": {},
   "outputs": [],
   "source": [
    "new_ndds = set(robos_junio_2022.NDD.to_list()).difference(robos_mayo_2022.NDD.to_list())\n",
    "len(new_ndds)"
   ]
  },
  {
   "cell_type": "code",
   "execution_count": null,
   "metadata": {},
   "outputs": [],
   "source": [
    "robos_df = robos_junio_2022[robos_junio_2022.NDD.isin(new_ndds)]\n",
    "robos_df.shape"
   ]
  },
  {
   "cell_type": "code",
   "execution_count": null,
   "metadata": {},
   "outputs": [],
   "source": [
    "robos_df.head()"
   ]
  },
  {
   "cell_type": "code",
   "execution_count": null,
   "metadata": {},
   "outputs": [],
   "source": [
    "from utils import extraer_relato\n",
    "relatos_df = extraer_relato(new_ndds, conx)\n",
    "relatos_df.shape"
   ]
  },
  {
   "cell_type": "markdown",
   "metadata": {},
   "source": [
    "## Formateo de Relato de los hechos\n",
    "Se aplican las mismas operaciones realizadas en el dataset original. Sin embargo, se debe notar que aun falta trabajar en mejorar el tokenizador al lenguaje jurídico"
   ]
  },
  {
   "cell_type": "code",
   "execution_count": null,
   "metadata": {},
   "outputs": [],
   "source": [
    "relatos_df.RELATO = relatos_df.RELATO.str.strip()\n",
    "relatos_df.RELATO = relatos_df.RELATO.str.lower()\n",
    "relatos_df.RELATO = relatos_df.RELATO.str.replace(\"[^A-Za-z0-9áéíóúñ]+\", \" \", regex=True) # elimino lo que sea simbolos y me quedo con texto y numeros\n",
    "relatos_df['cantidad_palabras'] = relatos_df.RELATO.str.findall(r'([\\wáéíóúñ]+)').str.len()"
   ]
  },
  {
   "cell_type": "code",
   "execution_count": null,
   "metadata": {},
   "outputs": [],
   "source": [
    "relatos_df.cantidad_palabras.hist(bins=150)"
   ]
  },
  {
   "cell_type": "code",
   "execution_count": null,
   "metadata": {},
   "outputs": [],
   "source": [
    "import plotly_express as px\n",
    "px.box(relatos_df.cantidad_palabras)"
   ]
  },
  {
   "cell_type": "markdown",
   "metadata": {},
   "source": [
    "# Restriccion por el Tamanio\n",
    "Para el entrenamiento del modelo se consideró que\n",
    "\n",
    "$len(data)\\in 35 < wordCound \\leq 300$"
   ]
  },
  {
   "cell_type": "code",
   "execution_count": null,
   "metadata": {},
   "outputs": [],
   "source": [
    "relatos_100df = relatos_df[(relatos_df.cantidad_palabras<=300)&(relatos_df.cantidad_palabras>35)]\n",
    "relatos_100df.shape, relatos_df.shape"
   ]
  },
  {
   "cell_type": "code",
   "execution_count": null,
   "metadata": {},
   "outputs": [],
   "source": [
    "robos_cmpl = pd.merge(robos_df, relatos_100df, on=\"NDD\", how=\"inner\")\n",
    "robos_cmpl.shape"
   ]
  },
  {
   "cell_type": "code",
   "execution_count": null,
   "metadata": {},
   "outputs": [],
   "source": [
    "robos_out = robos_cmpl[['NDD', 'Tipo_Delito_PJ', 'delitos_seguimiento', 'delitos_validados', 'desagregacion', 'desagregacion_1', 'RELATO']]\n",
    "robos_out.shape"
   ]
  },
  {
   "cell_type": "code",
   "execution_count": null,
   "metadata": {},
   "outputs": [],
   "source": [
    "robos_out.sample(5)"
   ]
  },
  {
   "cell_type": "markdown",
   "metadata": {},
   "source": [
    "## Restricción de Tipo Penal\n",
    "Se limita la información a tipo penal de Robo.\n",
    "Se desconoce si  están validando tipos penales distintos de Robo\n",
    "¿Por qué razón, la Comisión validaría tipos penales que no son robo, especialmente Hurto?"
   ]
  },
  {
   "cell_type": "code",
   "execution_count": null,
   "metadata": {},
   "outputs": [],
   "source": [
    "robos_out.Tipo_Delito_PJ.value_counts()"
   ]
  },
  {
   "cell_type": "code",
   "execution_count": null,
   "metadata": {},
   "outputs": [],
   "source": [
    "robos_out = robos_out[robos_out.Tipo_Delito_PJ==\"ROBO\"]\n",
    "robos_out.shape"
   ]
  },
  {
   "cell_type": "code",
   "execution_count": null,
   "metadata": {},
   "outputs": [],
   "source": [
    "robos_out.info()"
   ]
  },
  {
   "cell_type": "code",
   "execution_count": null,
   "metadata": {},
   "outputs": [],
   "source": [
    "robos_out.delitos_seguimiento.value_counts().plot.barh()"
   ]
  },
  {
   "cell_type": "markdown",
   "metadata": {},
   "source": [
    "Proponer una funcion para realizar siempre el ajuste del contenido de la variable objetivo"
   ]
  },
  {
   "cell_type": "markdown",
   "metadata": {},
   "source": [
    "Eliminación de tildes"
   ]
  },
  {
   "cell_type": "code",
   "execution_count": null,
   "metadata": {},
   "outputs": [],
   "source": [
    "robos_out.delitos_seguimiento = robos_out.delitos_seguimiento.str.replace('ECONÓMICAS', 'ECONOMICAS')\n",
    "robos_out.delitos_seguimiento = robos_out.delitos_seguimiento.str.replace('VEHÍCULOS', 'VEHICULOS')"
   ]
  },
  {
   "cell_type": "code",
   "execution_count": null,
   "metadata": {},
   "outputs": [],
   "source": [
    "robos_out.delitos_seguimiento.value_counts()"
   ]
  },
  {
   "cell_type": "code",
   "execution_count": 24,
   "metadata": {},
   "outputs": [
    {
     "ename": "",
     "evalue": "",
     "output_type": "error",
     "traceback": [
      "\u001b[1;31mThe Kernel crashed while executing code in the the current cell or a previous cell. Please review the code in the cell(s) to identify a possible cause of the failure. Click <a href='https://aka.ms/vscodeJupyterKernelCrash'>here</a> for more info. View Jupyter <a href='command:jupyter.viewOutput'>log</a> for further details."
     ]
    }
   ],
   "source": [
    "robos_out.to_csv(os.path.join(os.getcwd(), 'data/processed/validacionJunio2022.csv'), index=False)"
   ]
  }
 ],
 "metadata": {
  "kernelspec": {
   "display_name": "Python 3.10.6 ('mlenv')",
   "language": "python",
   "name": "python3"
  },
  "language_info": {
   "codemirror_mode": {
    "name": "ipython",
    "version": 3
   },
   "file_extension": ".py",
   "mimetype": "text/x-python",
   "name": "python",
   "nbconvert_exporter": "python",
   "pygments_lexer": "ipython3",
   "version": "3.10.6 | packaged by conda-forge | (main, Aug 22 2022, 20:35:26) [GCC 10.4.0]"
  },
  "orig_nbformat": 4,
  "vscode": {
   "interpreter": {
    "hash": "19afe7e3d01285359883e0bdfdef3b501ca09ac86b27552c0b451fa8cf9f255a"
   }
  }
 },
 "nbformat": 4,
 "nbformat_minor": 2
}
