{
 "cells": [
  {
   "cell_type": "markdown",
   "metadata": {},
   "source": [
    "## Dataset Formatter\n",
    "\n",
    "In this notebook the dataset is organized in training and test sets. However we have to be clear about how the dataset is to be used when training by using hugging face.\n",
    "\n",
    "The complete dataset contains 431698 samples with 12 characteristics that include the corresponding labels in one hot encoding.\n",
    "\n",
    "The dataset will be organized as follows:\n",
    "\n",
    "$\\mathcal{X}_{train}\\in \\mathcal{R}^{341698 \\times 12 } $\n",
    "\n",
    "$\\mathcal{X}_{test}\\in \\mathcal{R}^{90000 \\times 12 } $\n"
   ]
  },
  {
   "cell_type": "code",
   "execution_count": 4,
   "metadata": {},
   "outputs": [
    {
     "data": {
      "text/plain": [
       "'/home/falconiel/CodePrograms/clasificaion_robos_fge'"
      ]
     },
     "execution_count": 4,
     "metadata": {},
     "output_type": "execute_result"
    }
   ],
   "source": [
    "import pandas as pd\n",
    "import numpy as np\n",
    "import os\n",
    "dir_root = os.getcwd()\n",
    "dir_root\n"
   ]
  },
  {
   "cell_type": "code",
   "execution_count": 5,
   "metadata": {},
   "outputs": [
    {
     "data": {
      "text/html": [
       "<div>\n",
       "<style scoped>\n",
       "    .dataframe tbody tr th:only-of-type {\n",
       "        vertical-align: middle;\n",
       "    }\n",
       "\n",
       "    .dataframe tbody tr th {\n",
       "        vertical-align: top;\n",
       "    }\n",
       "\n",
       "    .dataframe thead th {\n",
       "        text-align: right;\n",
       "    }\n",
       "</style>\n",
       "<table border=\"1\" class=\"dataframe\">\n",
       "  <thead>\n",
       "    <tr style=\"text-align: right;\">\n",
       "      <th></th>\n",
       "      <th>NDD</th>\n",
       "      <th>RELATO</th>\n",
       "      <th>cantidad_palabras</th>\n",
       "      <th>Tipo_Delito_PJ</th>\n",
       "      <th>delitos_seguimiento</th>\n",
       "      <th>LABELS</th>\n",
       "    </tr>\n",
       "  </thead>\n",
       "  <tbody>\n",
       "    <tr>\n",
       "      <th>304676</th>\n",
       "      <td>170101814100518</td>\n",
       "      <td>el dia y hora indicada sujetos desconocidos ha...</td>\n",
       "      <td>38</td>\n",
       "      <td>ROBO</td>\n",
       "      <td>ROBO A DOMICILIO</td>\n",
       "      <td>ROBO A DOMICILIO</td>\n",
       "    </tr>\n",
       "    <tr>\n",
       "      <th>303014</th>\n",
       "      <td>170101814084439</td>\n",
       "      <td>es el caso señor fiscal que el día miércoles 2...</td>\n",
       "      <td>151</td>\n",
       "      <td>ROBO</td>\n",
       "      <td>ROBO A UNIDADES ECONOMICAS</td>\n",
       "      <td>ROBO A UNIDADES ECONOMICAS</td>\n",
       "    </tr>\n",
       "    <tr>\n",
       "      <th>182914</th>\n",
       "      <td>090101821061992</td>\n",
       "      <td>señor fiscal el día viernes 11 de junio del 20...</td>\n",
       "      <td>110</td>\n",
       "      <td>ROBO</td>\n",
       "      <td>ROBO DE MOTOS</td>\n",
       "      <td>ROBO DE MOTOS</td>\n",
       "    </tr>\n",
       "    <tr>\n",
       "      <th>30851</th>\n",
       "      <td>060101815090124</td>\n",
       "      <td>señor fiscal sírvase encontrar el presente par...</td>\n",
       "      <td>52</td>\n",
       "      <td>ROBO</td>\n",
       "      <td>SIN INFORMACION</td>\n",
       "      <td>ROBO A INSTITUCIONES EDUCATIVAS</td>\n",
       "    </tr>\n",
       "    <tr>\n",
       "      <th>319272</th>\n",
       "      <td>170101815085055</td>\n",
       "      <td>es el caso señor fiscal que el día lunes 24 de...</td>\n",
       "      <td>58</td>\n",
       "      <td>ROBO</td>\n",
       "      <td>ROBO A DOMICILIO</td>\n",
       "      <td>ROBO A DOMICILIO</td>\n",
       "    </tr>\n",
       "  </tbody>\n",
       "</table>\n",
       "</div>"
      ],
      "text/plain": [
       "                    NDD                                             RELATO  \\\n",
       "304676  170101814100518  el dia y hora indicada sujetos desconocidos ha...   \n",
       "303014  170101814084439  es el caso señor fiscal que el día miércoles 2...   \n",
       "182914  090101821061992  señor fiscal el día viernes 11 de junio del 20...   \n",
       "30851   060101815090124  señor fiscal sírvase encontrar el presente par...   \n",
       "319272  170101815085055  es el caso señor fiscal que el día lunes 24 de...   \n",
       "\n",
       "        cantidad_palabras Tipo_Delito_PJ         delitos_seguimiento  \\\n",
       "304676                 38           ROBO            ROBO A DOMICILIO   \n",
       "303014                151           ROBO  ROBO A UNIDADES ECONOMICAS   \n",
       "182914                110           ROBO               ROBO DE MOTOS   \n",
       "30851                  52           ROBO             SIN INFORMACION   \n",
       "319272                 58           ROBO            ROBO A DOMICILIO   \n",
       "\n",
       "                                 LABELS  \n",
       "304676                 ROBO A DOMICILIO  \n",
       "303014       ROBO A UNIDADES ECONOMICAS  \n",
       "182914                    ROBO DE MOTOS  \n",
       "30851   ROBO A INSTITUCIONES EDUCATIVAS  \n",
       "319272                 ROBO A DOMICILIO  "
      ]
     },
     "execution_count": 5,
     "metadata": {},
     "output_type": "execute_result"
    }
   ],
   "source": [
    "# dataset_total = pd.read_csv(os.path.join(dir_root, 'data/raw/dataset.csv'), converters={'NDD':str})\n",
    "dataset_total = pd.read_csv(os.path.join(dir_root, 'data/raw/dataset_validados_full.csv'), converters={'NDD':str})\n",
    "dataset_total.sample(5)"
   ]
  },
  {
   "cell_type": "markdown",
   "metadata": {},
   "source": [
    "Some preprocessing"
   ]
  },
  {
   "cell_type": "code",
   "execution_count": 6,
   "metadata": {},
   "outputs": [],
   "source": [
    "dataset_total.RELATO = dataset_total.RELATO.str.lower()\n",
    "dataset_total.RELATO = dataset_total.RELATO.str.strip()\n",
    "dataset_total.RELATO = dataset_total.RELATO.str.replace(\"[^A-Za-z0-9áéíóúÁÉÍÓÚñÑ]+\", \" \", regex=True)"
   ]
  },
  {
   "cell_type": "code",
   "execution_count": 7,
   "metadata": {},
   "outputs": [
    {
     "data": {
      "text/plain": [
       "['ndd',\n",
       " 'relato',\n",
       " 'cantidadPalabras',\n",
       " 'tipoDelitoPj',\n",
       " 'delitosSeguimiento',\n",
       " 'labels']"
      ]
     },
     "execution_count": 7,
     "metadata": {},
     "output_type": "execute_result"
    }
   ],
   "source": [
    "from utils import camel_case_string_noPoint\n",
    "new_names = []\n",
    "for col in dataset_total.columns:\n",
    "    new_names.append(camel_case_string_noPoint(col))\n",
    "new_names"
   ]
  },
  {
   "cell_type": "code",
   "execution_count": 27,
   "metadata": {},
   "outputs": [
    {
     "data": {
      "text/plain": [
       "<AxesSubplot:>"
      ]
     },
     "execution_count": 27,
     "metadata": {},
     "output_type": "execute_result"
    },
    {
     "data": {
      "image/png": "[encoded data removed]",
      "text/plain": [
       "<Figure size 640x480 with 1 Axes>"
      ]
     },
     "metadata": {},
     "output_type": "display_data"
    }
   ],
   "source": [
    "dataset_total.labels.value_counts().plot.barh()"
   ]
  },
  {
   "cell_type": "code",
   "execution_count": 8,
   "metadata": {},
   "outputs": [
    {
     "data": {
      "text/html": [
       "<div>\n",
       "<style scoped>\n",
       "    .dataframe tbody tr th:only-of-type {\n",
       "        vertical-align: middle;\n",
       "    }\n",
       "\n",
       "    .dataframe tbody tr th {\n",
       "        vertical-align: top;\n",
       "    }\n",
       "\n",
       "    .dataframe thead th {\n",
       "        text-align: right;\n",
       "    }\n",
       "</style>\n",
       "<table border=\"1\" class=\"dataframe\">\n",
       "  <thead>\n",
       "    <tr style=\"text-align: right;\">\n",
       "      <th></th>\n",
       "      <th>ndd</th>\n",
       "      <th>relato</th>\n",
       "      <th>cantidadPalabras</th>\n",
       "      <th>tipoDelitoPj</th>\n",
       "      <th>delitosSeguimiento</th>\n",
       "      <th>labels</th>\n",
       "    </tr>\n",
       "  </thead>\n",
       "  <tbody>\n",
       "    <tr>\n",
       "      <th>120525</th>\n",
       "      <td>090101816113894</td>\n",
       "      <td>es el caso señor fiscal que el 22 de noviembre...</td>\n",
       "      <td>102</td>\n",
       "      <td>ROBO</td>\n",
       "      <td>ROBO A PERSONAS</td>\n",
       "      <td>ROBO A PERSONAS</td>\n",
       "    </tr>\n",
       "    <tr>\n",
       "      <th>214016</th>\n",
       "      <td>090901822020004</td>\n",
       "      <td>señala el denunciante que el día 02 de febrero...</td>\n",
       "      <td>261</td>\n",
       "      <td>ROBO</td>\n",
       "      <td>ROBO A PERSONAS</td>\n",
       "      <td>ROBO A PERSONAS</td>\n",
       "    </tr>\n",
       "    <tr>\n",
       "      <th>226066</th>\n",
       "      <td>092001815100049</td>\n",
       "      <td>es el caso señor fiscal que el día de hoy 20 d...</td>\n",
       "      <td>118</td>\n",
       "      <td>ROBO</td>\n",
       "      <td>SIN INFORMACION</td>\n",
       "      <td>ROBO A INSTITUCIONES EDUCATIVAS</td>\n",
       "    </tr>\n",
       "    <tr>\n",
       "      <th>448219</th>\n",
       "      <td>240301821110002</td>\n",
       "      <td>es el caso señorita fiscal que el día de hoy 0...</td>\n",
       "      <td>202</td>\n",
       "      <td>ROBO</td>\n",
       "      <td>ROBO A PERSONAS</td>\n",
       "      <td>ROBO A PERSONAS</td>\n",
       "    </tr>\n",
       "    <tr>\n",
       "      <th>269886</th>\n",
       "      <td>130301818080090</td>\n",
       "      <td>se adjunta parte policial número de oficio 106...</td>\n",
       "      <td>48</td>\n",
       "      <td>ROBO</td>\n",
       "      <td>ROBO A DOMICILIO</td>\n",
       "      <td>ROBO A DOMICILIO</td>\n",
       "    </tr>\n",
       "  </tbody>\n",
       "</table>\n",
       "</div>"
      ],
      "text/plain": [
       "                    ndd                                             relato  \\\n",
       "120525  090101816113894  es el caso señor fiscal que el 22 de noviembre...   \n",
       "214016  090901822020004  señala el denunciante que el día 02 de febrero...   \n",
       "226066  092001815100049  es el caso señor fiscal que el día de hoy 20 d...   \n",
       "448219  240301821110002  es el caso señorita fiscal que el día de hoy 0...   \n",
       "269886  130301818080090  se adjunta parte policial número de oficio 106...   \n",
       "\n",
       "        cantidadPalabras tipoDelitoPj delitosSeguimiento  \\\n",
       "120525               102         ROBO    ROBO A PERSONAS   \n",
       "214016               261         ROBO    ROBO A PERSONAS   \n",
       "226066               118         ROBO    SIN INFORMACION   \n",
       "448219               202         ROBO    ROBO A PERSONAS   \n",
       "269886                48         ROBO   ROBO A DOMICILIO   \n",
       "\n",
       "                                 labels  \n",
       "120525                  ROBO A PERSONAS  \n",
       "214016                  ROBO A PERSONAS  \n",
       "226066  ROBO A INSTITUCIONES EDUCATIVAS  \n",
       "448219                  ROBO A PERSONAS  \n",
       "269886                 ROBO A DOMICILIO  "
      ]
     },
     "execution_count": 8,
     "metadata": {},
     "output_type": "execute_result"
    }
   ],
   "source": [
    "dataset_total.columns = new_names\n",
    "dataset_total.sample(5)"
   ]
  },
  {
   "cell_type": "markdown",
   "metadata": {},
   "source": [
    "Applying shuffle to the dataset in order to randomly order the samples in the data"
   ]
  },
  {
   "cell_type": "code",
   "execution_count": 9,
   "metadata": {},
   "outputs": [
    {
     "data": {
      "text/plain": [
       "((448478, 6), (448478, 7))"
      ]
     },
     "execution_count": 9,
     "metadata": {},
     "output_type": "execute_result"
    }
   ],
   "source": [
    "from sklearn.utils import shuffle\n",
    "dataset_total_shuffle = shuffle(dataset_total, random_state=42)\n",
    "dataset_total_shuffle.reset_index(inplace=True)\n",
    "dataset_total.shape, dataset_total_shuffle.shape"
   ]
  },
  {
   "cell_type": "code",
   "execution_count": 10,
   "metadata": {},
   "outputs": [],
   "source": [
    "TEST_SIZE = 90000\n",
    "TRAIN_SIZE = dataset_total.shape[0] - TEST_SIZE\n",
    "train_df = dataset_total_shuffle.iloc[0:TRAIN_SIZE, :]\n",
    "test_df = dataset_total_shuffle.iloc[TRAIN_SIZE:, :]\n",
    "# training_sentences = sentences[0:training_size]\n",
    "# testing_sentences = sentences[training_size:]\n",
    "# training_labels = labels[0:training_size]\n",
    "# testing_labels = labels[training_size:]"
   ]
  },
  {
   "cell_type": "code",
   "execution_count": 11,
   "metadata": {},
   "outputs": [
    {
     "data": {
      "text/html": [
       "<div>\n",
       "<style scoped>\n",
       "    .dataframe tbody tr th:only-of-type {\n",
       "        vertical-align: middle;\n",
       "    }\n",
       "\n",
       "    .dataframe tbody tr th {\n",
       "        vertical-align: top;\n",
       "    }\n",
       "\n",
       "    .dataframe thead th {\n",
       "        text-align: right;\n",
       "    }\n",
       "</style>\n",
       "<table border=\"1\" class=\"dataframe\">\n",
       "  <thead>\n",
       "    <tr style=\"text-align: right;\">\n",
       "      <th></th>\n",
       "      <th>index</th>\n",
       "      <th>ndd</th>\n",
       "      <th>relato</th>\n",
       "      <th>cantidadPalabras</th>\n",
       "      <th>tipoDelitoPj</th>\n",
       "      <th>delitosSeguimiento</th>\n",
       "      <th>labels</th>\n",
       "    </tr>\n",
       "  </thead>\n",
       "  <tbody>\n",
       "    <tr>\n",
       "      <th>358473</th>\n",
       "      <td>263688</td>\n",
       "      <td>121201816120025</td>\n",
       "      <td>es caso señor fiscal que el día 16 de diciembr...</td>\n",
       "      <td>221</td>\n",
       "      <td>ROBO</td>\n",
       "      <td>ROBO A PERSONAS</td>\n",
       "      <td>ROBO A PERSONAS</td>\n",
       "    </tr>\n",
       "    <tr>\n",
       "      <th>358474</th>\n",
       "      <td>35680</td>\n",
       "      <td>060101821090236</td>\n",
       "      <td>adjunto parte policial no 202109100837136710 d...</td>\n",
       "      <td>58</td>\n",
       "      <td>ROBO</td>\n",
       "      <td>ROBO DE BIENES, ACCESORIOS Y AUTOPARTES DE VEH...</td>\n",
       "      <td>ROBO DE BIENES, ACCESORIOS Y AUTOPARTES DE VEH...</td>\n",
       "    </tr>\n",
       "    <tr>\n",
       "      <th>358475</th>\n",
       "      <td>204184</td>\n",
       "      <td>090701816080133</td>\n",
       "      <td>es el caso señor fiscal que el día 08 de agost...</td>\n",
       "      <td>229</td>\n",
       "      <td>ROBO</td>\n",
       "      <td>ROBO A PERSONAS</td>\n",
       "      <td>ROBO A PERSONAS</td>\n",
       "    </tr>\n",
       "    <tr>\n",
       "      <th>358476</th>\n",
       "      <td>128243</td>\n",
       "      <td>090101817052738</td>\n",
       "      <td>es el caso señor fiscal que el dia de hoy 12 d...</td>\n",
       "      <td>114</td>\n",
       "      <td>ROBO</td>\n",
       "      <td>ROBO A PERSONAS</td>\n",
       "      <td>ROBO A PERSONAS</td>\n",
       "    </tr>\n",
       "    <tr>\n",
       "      <th>358477</th>\n",
       "      <td>422133</td>\n",
       "      <td>210101816030121</td>\n",
       "      <td>es el caso señor fiscal que el dia de ayer 09 ...</td>\n",
       "      <td>121</td>\n",
       "      <td>ROBO</td>\n",
       "      <td>ROBO DE MOTOS</td>\n",
       "      <td>ROBO DE MOTOS</td>\n",
       "    </tr>\n",
       "  </tbody>\n",
       "</table>\n",
       "</div>"
      ],
      "text/plain": [
       "         index              ndd  \\\n",
       "358473  263688  121201816120025   \n",
       "358474   35680  060101821090236   \n",
       "358475  204184  090701816080133   \n",
       "358476  128243  090101817052738   \n",
       "358477  422133  210101816030121   \n",
       "\n",
       "                                                   relato  cantidadPalabras  \\\n",
       "358473  es caso señor fiscal que el día 16 de diciembr...               221   \n",
       "358474  adjunto parte policial no 202109100837136710 d...                58   \n",
       "358475  es el caso señor fiscal que el día 08 de agost...               229   \n",
       "358476  es el caso señor fiscal que el dia de hoy 12 d...               114   \n",
       "358477  es el caso señor fiscal que el dia de ayer 09 ...               121   \n",
       "\n",
       "       tipoDelitoPj                                 delitosSeguimiento  \\\n",
       "358473         ROBO                                    ROBO A PERSONAS   \n",
       "358474         ROBO  ROBO DE BIENES, ACCESORIOS Y AUTOPARTES DE VEH...   \n",
       "358475         ROBO                                    ROBO A PERSONAS   \n",
       "358476         ROBO                                    ROBO A PERSONAS   \n",
       "358477         ROBO                                      ROBO DE MOTOS   \n",
       "\n",
       "                                                   labels  \n",
       "358473                                    ROBO A PERSONAS  \n",
       "358474  ROBO DE BIENES, ACCESORIOS Y AUTOPARTES DE VEH...  \n",
       "358475                                    ROBO A PERSONAS  \n",
       "358476                                    ROBO A PERSONAS  \n",
       "358477                                      ROBO DE MOTOS  "
      ]
     },
     "execution_count": 11,
     "metadata": {},
     "output_type": "execute_result"
    }
   ],
   "source": [
    "train_df.tail()"
   ]
  },
  {
   "cell_type": "code",
   "execution_count": 12,
   "metadata": {},
   "outputs": [
    {
     "data": {
      "text/html": [
       "<div>\n",
       "<style scoped>\n",
       "    .dataframe tbody tr th:only-of-type {\n",
       "        vertical-align: middle;\n",
       "    }\n",
       "\n",
       "    .dataframe tbody tr th {\n",
       "        vertical-align: top;\n",
       "    }\n",
       "\n",
       "    .dataframe thead th {\n",
       "        text-align: right;\n",
       "    }\n",
       "</style>\n",
       "<table border=\"1\" class=\"dataframe\">\n",
       "  <thead>\n",
       "    <tr style=\"text-align: right;\">\n",
       "      <th></th>\n",
       "      <th>index</th>\n",
       "      <th>ndd</th>\n",
       "      <th>relato</th>\n",
       "      <th>cantidadPalabras</th>\n",
       "      <th>tipoDelitoPj</th>\n",
       "      <th>delitosSeguimiento</th>\n",
       "      <th>labels</th>\n",
       "    </tr>\n",
       "  </thead>\n",
       "  <tbody>\n",
       "    <tr>\n",
       "      <th>358478</th>\n",
       "      <td>75327</td>\n",
       "      <td>090101814015458</td>\n",
       "      <td>es el caso señor fiscal que el día 27 de enero...</td>\n",
       "      <td>273</td>\n",
       "      <td>ROBO</td>\n",
       "      <td>ROBO A DOMICILIO</td>\n",
       "      <td>ROBO A DOMICILIO</td>\n",
       "    </tr>\n",
       "    <tr>\n",
       "      <th>358479</th>\n",
       "      <td>213026</td>\n",
       "      <td>090901817070053</td>\n",
       "      <td>es el caso señora fiscal que el día de hoy 20 ...</td>\n",
       "      <td>122</td>\n",
       "      <td>ROBO</td>\n",
       "      <td>ROBO A DOMICILIO</td>\n",
       "      <td>ROBO A DOMICILIO</td>\n",
       "    </tr>\n",
       "    <tr>\n",
       "      <th>358480</th>\n",
       "      <td>55053</td>\n",
       "      <td>070901815060152</td>\n",
       "      <td>han ingresado a la casa de mi hermano aprovech...</td>\n",
       "      <td>46</td>\n",
       "      <td>ROBO</td>\n",
       "      <td>ROBO A DOMICILIO</td>\n",
       "      <td>ROBO A DOMICILIO</td>\n",
       "    </tr>\n",
       "    <tr>\n",
       "      <th>358481</th>\n",
       "      <td>409402</td>\n",
       "      <td>170301821020085</td>\n",
       "      <td>adjunta parte policial n 2021022111015227613 e...</td>\n",
       "      <td>49</td>\n",
       "      <td>ROBO</td>\n",
       "      <td>ROBO DE CARROS</td>\n",
       "      <td>ROBO DE CARROS</td>\n",
       "    </tr>\n",
       "    <tr>\n",
       "      <th>358482</th>\n",
       "      <td>209783</td>\n",
       "      <td>090701821110013</td>\n",
       "      <td>es el caso señor fiscal que el día 29 de octub...</td>\n",
       "      <td>143</td>\n",
       "      <td>ROBO</td>\n",
       "      <td>ROBO DE MOTOS</td>\n",
       "      <td>ROBO DE MOTOS</td>\n",
       "    </tr>\n",
       "  </tbody>\n",
       "</table>\n",
       "</div>"
      ],
      "text/plain": [
       "         index              ndd  \\\n",
       "358478   75327  090101814015458   \n",
       "358479  213026  090901817070053   \n",
       "358480   55053  070901815060152   \n",
       "358481  409402  170301821020085   \n",
       "358482  209783  090701821110013   \n",
       "\n",
       "                                                   relato  cantidadPalabras  \\\n",
       "358478  es el caso señor fiscal que el día 27 de enero...               273   \n",
       "358479  es el caso señora fiscal que el día de hoy 20 ...               122   \n",
       "358480  han ingresado a la casa de mi hermano aprovech...                46   \n",
       "358481  adjunta parte policial n 2021022111015227613 e...                49   \n",
       "358482  es el caso señor fiscal que el día 29 de octub...               143   \n",
       "\n",
       "       tipoDelitoPj delitosSeguimiento            labels  \n",
       "358478         ROBO   ROBO A DOMICILIO  ROBO A DOMICILIO  \n",
       "358479         ROBO   ROBO A DOMICILIO  ROBO A DOMICILIO  \n",
       "358480         ROBO   ROBO A DOMICILIO  ROBO A DOMICILIO  \n",
       "358481         ROBO     ROBO DE CARROS    ROBO DE CARROS  \n",
       "358482         ROBO      ROBO DE MOTOS     ROBO DE MOTOS  "
      ]
     },
     "execution_count": 12,
     "metadata": {},
     "output_type": "execute_result"
    }
   ],
   "source": [
    "test_df.head()"
   ]
  },
  {
   "cell_type": "code",
   "execution_count": 13,
   "metadata": {},
   "outputs": [
    {
     "data": {
      "text/plain": [
       "((358478, 7), (90000, 7))"
      ]
     },
     "execution_count": 13,
     "metadata": {},
     "output_type": "execute_result"
    }
   ],
   "source": [
    "train_df.shape, test_df.shape"
   ]
  },
  {
   "cell_type": "code",
   "execution_count": 14,
   "metadata": {},
   "outputs": [
    {
     "data": {
      "text/plain": [
       "<seaborn.axisgrid.FacetGrid at 0x7ff7d01809a0>"
      ]
     },
     "execution_count": 14,
     "metadata": {},
     "output_type": "execute_result"
    },
    {
     "data": {
      "image/png": "[encoded data removed]",
      "text/plain": [
       "<Figure size 360x360 with 1 Axes>"
      ]
     },
     "metadata": {
      "needs_background": "light"
     },
     "output_type": "display_data"
    }
   ],
   "source": [
    "import seaborn as sns\n",
    "sns.set_style('dark')\n",
    "sns.displot(test_df.cantidadPalabras)"
   ]
  },
  {
   "cell_type": "code",
   "execution_count": 15,
   "metadata": {},
   "outputs": [
    {
     "name": "stderr",
     "output_type": "stream",
     "text": [
      "/home/falconiel/anaconda3/envs/fge_dir/lib/python3.9/site-packages/seaborn/distributions.py:2619: FutureWarning: `distplot` is a deprecated function and will be removed in a future version. Please adapt your code to use either `displot` (a figure-level function with similar flexibility) or `histplot` (an axes-level function for histograms).\n",
      "  warnings.warn(msg, FutureWarning)\n"
     ]
    },
    {
     "data": {
      "text/plain": [
       "<AxesSubplot:xlabel='cantidadPalabras', ylabel='Density'>"
      ]
     },
     "execution_count": 15,
     "metadata": {},
     "output_type": "execute_result"
    },
    {
     "data": {
      "image/png": "[encoded data removed]",
      "text/plain": [
       "<Figure size 640x480 with 1 Axes>"
      ]
     },
     "metadata": {},
     "output_type": "display_data"
    }
   ],
   "source": [
    "sns.distplot(train_df.cantidadPalabras)"
   ]
  },
  {
   "cell_type": "markdown",
   "metadata": {},
   "source": [
    "## Generating Validation dataset\n",
    "Checking some of the bibliography in HuggingFaces, there is a procedure to create the validation dataset from testing set. However, I have also made that from the training set using train test split of sklearn. Let us explore which is the best way to obtain that. In either case, saving the datset should be final because shuffle of the data can be applied. In videos, validation dataset has been obtained from the trainig set, reducing a bit its size. Consider that the operation to split the dataset can be from the dataset dict object that can be created using hugging faces: https://discuss.huggingface.co/t/how-to-split-main-dataset-into-train-dev-test-as-datasetdict/1090\n"
   ]
  },
  {
   "cell_type": "code",
   "execution_count": 16,
   "metadata": {},
   "outputs": [
    {
     "data": {
      "text/plain": [
       "((358478, 7), (90000, 7))"
      ]
     },
     "execution_count": 16,
     "metadata": {},
     "output_type": "execute_result"
    }
   ],
   "source": [
    "train_df.shape, test_df.shape"
   ]
  },
  {
   "cell_type": "markdown",
   "metadata": {},
   "source": [
    "I think since there were some initial problems in memory when applying tokenize to train dataset, it could be ok to lower a bit its size by extracting validation set out of it"
   ]
  },
  {
   "cell_type": "code",
   "execution_count": 17,
   "metadata": {},
   "outputs": [
    {
     "data": {
      "text/plain": [
       "(358478, 90000, 286782.4, 71695.6, 20.06787400942744)"
      ]
     },
     "execution_count": 17,
     "metadata": {},
     "output_type": "execute_result"
    }
   ],
   "source": [
    "TRAIN_SIZE, TEST_SIZE, 0.8*TRAIN_SIZE, 0.2*TRAIN_SIZE, TEST_SIZE/(TRAIN_SIZE+TEST_SIZE)*100"
   ]
  },
  {
   "cell_type": "markdown",
   "metadata": {},
   "source": [
    "We could also get 50% of testing cases for validation considering what they recommend in https://discuss.huggingface.co/t/how-to-split-main-dataset-into-train-dev-test-as-datasetdict/1090. However this would lower testing samples to 45000, validation samples to 45000 and training samples would remain at 341669. "
   ]
  },
  {
   "cell_type": "code",
   "execution_count": 18,
   "metadata": {},
   "outputs": [
    {
     "data": {
      "text/plain": [
       "(286783, 71695)"
      ]
     },
     "execution_count": 18,
     "metadata": {},
     "output_type": "execute_result"
    }
   ],
   "source": [
    "VALID_SIZE = int(0.2*TRAIN_SIZE)\n",
    "TRAIN_SIZE -= VALID_SIZE\n",
    "TRAIN_SIZE, VALID_SIZE"
   ]
  },
  {
   "cell_type": "code",
   "execution_count": 19,
   "metadata": {},
   "outputs": [],
   "source": [
    "train_df_out = train_df.iloc[0:TRAIN_SIZE, :]\n",
    "valid_df = train_df.iloc[TRAIN_SIZE:, :]"
   ]
  },
  {
   "cell_type": "code",
   "execution_count": 20,
   "metadata": {},
   "outputs": [
    {
     "data": {
      "text/html": [
       "<div>\n",
       "<style scoped>\n",
       "    .dataframe tbody tr th:only-of-type {\n",
       "        vertical-align: middle;\n",
       "    }\n",
       "\n",
       "    .dataframe tbody tr th {\n",
       "        vertical-align: top;\n",
       "    }\n",
       "\n",
       "    .dataframe thead th {\n",
       "        text-align: right;\n",
       "    }\n",
       "</style>\n",
       "<table border=\"1\" class=\"dataframe\">\n",
       "  <thead>\n",
       "    <tr style=\"text-align: right;\">\n",
       "      <th></th>\n",
       "      <th>index</th>\n",
       "      <th>ndd</th>\n",
       "      <th>relato</th>\n",
       "      <th>cantidadPalabras</th>\n",
       "      <th>tipoDelitoPj</th>\n",
       "      <th>delitosSeguimiento</th>\n",
       "      <th>labels</th>\n",
       "    </tr>\n",
       "  </thead>\n",
       "  <tbody>\n",
       "    <tr>\n",
       "      <th>286778</th>\n",
       "      <td>421941</td>\n",
       "      <td>210101815120276</td>\n",
       "      <td>es el caso señor fiscal que el dia martes 15 d...</td>\n",
       "      <td>152</td>\n",
       "      <td>ROBO</td>\n",
       "      <td>SIN INFORMACION</td>\n",
       "      <td>ROBO A INSTITUCIONES EDUCATIVAS</td>\n",
       "    </tr>\n",
       "    <tr>\n",
       "      <th>286779</th>\n",
       "      <td>276936</td>\n",
       "      <td>130801817050220</td>\n",
       "      <td>es el caso señor fiscal que el dia 08 de mayo ...</td>\n",
       "      <td>87</td>\n",
       "      <td>ROBO</td>\n",
       "      <td>ROBO A PERSONAS</td>\n",
       "      <td>ROBO A PERSONAS</td>\n",
       "    </tr>\n",
       "    <tr>\n",
       "      <th>286780</th>\n",
       "      <td>260602</td>\n",
       "      <td>120901815050007</td>\n",
       "      <td>es el caso señor fiscal que el día de ayer 05 ...</td>\n",
       "      <td>219</td>\n",
       "      <td>ROBO</td>\n",
       "      <td>ROBO DE MOTOS</td>\n",
       "      <td>ROBO DE MOTOS</td>\n",
       "    </tr>\n",
       "    <tr>\n",
       "      <th>286781</th>\n",
       "      <td>331026</td>\n",
       "      <td>170101816053622</td>\n",
       "      <td>es el caso señor fiscal que el día 18 05 2016 ...</td>\n",
       "      <td>63</td>\n",
       "      <td>ROBO</td>\n",
       "      <td>ROBO DE CARROS</td>\n",
       "      <td>ROBO DE CARROS</td>\n",
       "    </tr>\n",
       "    <tr>\n",
       "      <th>286782</th>\n",
       "      <td>56587</td>\n",
       "      <td>070901819010131</td>\n",
       "      <td>iba en bicilceta luego me detuve en una vereda...</td>\n",
       "      <td>68</td>\n",
       "      <td>ROBO</td>\n",
       "      <td>ROBO A PERSONAS</td>\n",
       "      <td>ROBO A PERSONAS</td>\n",
       "    </tr>\n",
       "  </tbody>\n",
       "</table>\n",
       "</div>"
      ],
      "text/plain": [
       "         index              ndd  \\\n",
       "286778  421941  210101815120276   \n",
       "286779  276936  130801817050220   \n",
       "286780  260602  120901815050007   \n",
       "286781  331026  170101816053622   \n",
       "286782   56587  070901819010131   \n",
       "\n",
       "                                                   relato  cantidadPalabras  \\\n",
       "286778  es el caso señor fiscal que el dia martes 15 d...               152   \n",
       "286779  es el caso señor fiscal que el dia 08 de mayo ...                87   \n",
       "286780  es el caso señor fiscal que el día de ayer 05 ...               219   \n",
       "286781  es el caso señor fiscal que el día 18 05 2016 ...                63   \n",
       "286782  iba en bicilceta luego me detuve en una vereda...                68   \n",
       "\n",
       "       tipoDelitoPj delitosSeguimiento                           labels  \n",
       "286778         ROBO    SIN INFORMACION  ROBO A INSTITUCIONES EDUCATIVAS  \n",
       "286779         ROBO    ROBO A PERSONAS                  ROBO A PERSONAS  \n",
       "286780         ROBO      ROBO DE MOTOS                    ROBO DE MOTOS  \n",
       "286781         ROBO     ROBO DE CARROS                   ROBO DE CARROS  \n",
       "286782         ROBO    ROBO A PERSONAS                  ROBO A PERSONAS  "
      ]
     },
     "execution_count": 20,
     "metadata": {},
     "output_type": "execute_result"
    }
   ],
   "source": [
    "train_df_out.tail()"
   ]
  },
  {
   "cell_type": "code",
   "execution_count": 21,
   "metadata": {},
   "outputs": [
    {
     "data": {
      "text/html": [
       "<div>\n",
       "<style scoped>\n",
       "    .dataframe tbody tr th:only-of-type {\n",
       "        vertical-align: middle;\n",
       "    }\n",
       "\n",
       "    .dataframe tbody tr th {\n",
       "        vertical-align: top;\n",
       "    }\n",
       "\n",
       "    .dataframe thead th {\n",
       "        text-align: right;\n",
       "    }\n",
       "</style>\n",
       "<table border=\"1\" class=\"dataframe\">\n",
       "  <thead>\n",
       "    <tr style=\"text-align: right;\">\n",
       "      <th></th>\n",
       "      <th>index</th>\n",
       "      <th>ndd</th>\n",
       "      <th>relato</th>\n",
       "      <th>cantidadPalabras</th>\n",
       "      <th>tipoDelitoPj</th>\n",
       "      <th>delitosSeguimiento</th>\n",
       "      <th>labels</th>\n",
       "    </tr>\n",
       "  </thead>\n",
       "  <tbody>\n",
       "    <tr>\n",
       "      <th>286783</th>\n",
       "      <td>109081</td>\n",
       "      <td>090101816026281</td>\n",
       "      <td>es el caso señor fiscal que el día 29 de febre...</td>\n",
       "      <td>147</td>\n",
       "      <td>ROBO</td>\n",
       "      <td>ROBO A PERSONAS</td>\n",
       "      <td>ROBO A PERSONAS</td>\n",
       "    </tr>\n",
       "    <tr>\n",
       "      <th>286784</th>\n",
       "      <td>176416</td>\n",
       "      <td>090101820120783</td>\n",
       "      <td>es el caso señor fiscal que el día de hoy 04 d...</td>\n",
       "      <td>202</td>\n",
       "      <td>ROBO</td>\n",
       "      <td>ROBO A PERSONAS</td>\n",
       "      <td>ROBO A PERSONAS</td>\n",
       "    </tr>\n",
       "    <tr>\n",
       "      <th>286785</th>\n",
       "      <td>181857</td>\n",
       "      <td>090101821051517</td>\n",
       "      <td>es el caso señor fiscal que el día de hoy 11 d...</td>\n",
       "      <td>141</td>\n",
       "      <td>ROBO</td>\n",
       "      <td>ROBO A PERSONAS</td>\n",
       "      <td>ROBO A PERSONAS</td>\n",
       "    </tr>\n",
       "    <tr>\n",
       "      <th>286786</th>\n",
       "      <td>152654</td>\n",
       "      <td>090101819021973</td>\n",
       "      <td>es el caso señor fiscal que el día de hoy 11 d...</td>\n",
       "      <td>104</td>\n",
       "      <td>ROBO</td>\n",
       "      <td>ROBO A PERSONAS</td>\n",
       "      <td>ROBO A PERSONAS</td>\n",
       "    </tr>\n",
       "    <tr>\n",
       "      <th>286787</th>\n",
       "      <td>48273</td>\n",
       "      <td>070101821030025</td>\n",
       "      <td>es el caso señor fiscal que el día sábado 27 f...</td>\n",
       "      <td>233</td>\n",
       "      <td>ROBO</td>\n",
       "      <td>ROBO A UNIDADES ECONOMICAS</td>\n",
       "      <td>ROBO A UNIDADES ECONOMICAS</td>\n",
       "    </tr>\n",
       "  </tbody>\n",
       "</table>\n",
       "</div>"
      ],
      "text/plain": [
       "         index              ndd  \\\n",
       "286783  109081  090101816026281   \n",
       "286784  176416  090101820120783   \n",
       "286785  181857  090101821051517   \n",
       "286786  152654  090101819021973   \n",
       "286787   48273  070101821030025   \n",
       "\n",
       "                                                   relato  cantidadPalabras  \\\n",
       "286783  es el caso señor fiscal que el día 29 de febre...               147   \n",
       "286784  es el caso señor fiscal que el día de hoy 04 d...               202   \n",
       "286785  es el caso señor fiscal que el día de hoy 11 d...               141   \n",
       "286786  es el caso señor fiscal que el día de hoy 11 d...               104   \n",
       "286787  es el caso señor fiscal que el día sábado 27 f...               233   \n",
       "\n",
       "       tipoDelitoPj          delitosSeguimiento                      labels  \n",
       "286783         ROBO             ROBO A PERSONAS             ROBO A PERSONAS  \n",
       "286784         ROBO             ROBO A PERSONAS             ROBO A PERSONAS  \n",
       "286785         ROBO             ROBO A PERSONAS             ROBO A PERSONAS  \n",
       "286786         ROBO             ROBO A PERSONAS             ROBO A PERSONAS  \n",
       "286787         ROBO  ROBO A UNIDADES ECONOMICAS  ROBO A UNIDADES ECONOMICAS  "
      ]
     },
     "execution_count": 21,
     "metadata": {},
     "output_type": "execute_result"
    }
   ],
   "source": [
    "valid_df.head()"
   ]
  },
  {
   "cell_type": "code",
   "execution_count": 22,
   "metadata": {},
   "outputs": [
    {
     "data": {
      "text/plain": [
       "((286783, 7), (90000, 7), (71695, 7))"
      ]
     },
     "execution_count": 22,
     "metadata": {},
     "output_type": "execute_result"
    }
   ],
   "source": [
    "train_df_out.shape, test_df.shape, valid_df.shape"
   ]
  },
  {
   "cell_type": "code",
   "execution_count": 23,
   "metadata": {},
   "outputs": [],
   "source": [
    "# train_df_out.to_csv(os.path.join(dir_root,'data/interim/trainset.csv'), index=False)\n",
    "train_df_out.to_csv(os.path.join(dir_root,'data/interim/trainset_delvalidados.csv'), index=False)\n",
    "# test_df.to_csv(os.path.join(dir_root,'data/interim/testset.csv'), index=False)\n",
    "test_df.to_csv(os.path.join(dir_root,'data/interim/testset_delvalidados.csv'), index=False)\n",
    "# valid_df.to_csv(os.path.join(dir_root,'data/interim/validset.csv'), index=False)\n",
    "valid_df.to_csv(os.path.join(dir_root,'data/interim/validset_delvalidados.csv'), index=False)"
   ]
  },
  {
   "cell_type": "code",
   "execution_count": 24,
   "metadata": {},
   "outputs": [],
   "source": [
    "train_df_huggingface = train_df_out[['relato', 'labels']]\n",
    "test_df_huggingface = test_df[['relato', 'labels']]\n",
    "valid_df_huggingface = valid_df[['relato', 'labels']]"
   ]
  },
  {
   "cell_type": "code",
   "execution_count": 25,
   "metadata": {},
   "outputs": [
    {
     "data": {
      "text/html": [
       "<div>\n",
       "<style scoped>\n",
       "    .dataframe tbody tr th:only-of-type {\n",
       "        vertical-align: middle;\n",
       "    }\n",
       "\n",
       "    .dataframe tbody tr th {\n",
       "        vertical-align: top;\n",
       "    }\n",
       "\n",
       "    .dataframe thead th {\n",
       "        text-align: right;\n",
       "    }\n",
       "</style>\n",
       "<table border=\"1\" class=\"dataframe\">\n",
       "  <thead>\n",
       "    <tr style=\"text-align: right;\">\n",
       "      <th></th>\n",
       "      <th>relato</th>\n",
       "      <th>labels</th>\n",
       "    </tr>\n",
       "  </thead>\n",
       "  <tbody>\n",
       "    <tr>\n",
       "      <th>312687</th>\n",
       "      <td>es el caso señor fiscal que el de ayer 25 de n...</td>\n",
       "      <td>ROBO A EMBARCACIONES DE ESPACIOS ACUATICOS</td>\n",
       "    </tr>\n",
       "    <tr>\n",
       "      <th>317580</th>\n",
       "      <td>sucede señor fiscal que el dia 31 de enero del...</td>\n",
       "      <td>ROBO A PERSONAS</td>\n",
       "    </tr>\n",
       "    <tr>\n",
       "      <th>347036</th>\n",
       "      <td>es el caso señor fiscal que el día 21 de dicie...</td>\n",
       "      <td>ROBO A PERSONAS</td>\n",
       "    </tr>\n",
       "  </tbody>\n",
       "</table>\n",
       "</div>"
      ],
      "text/plain": [
       "                                                   relato  \\\n",
       "312687  es el caso señor fiscal que el de ayer 25 de n...   \n",
       "317580  sucede señor fiscal que el dia 31 de enero del...   \n",
       "347036  es el caso señor fiscal que el día 21 de dicie...   \n",
       "\n",
       "                                            labels  \n",
       "312687  ROBO A EMBARCACIONES DE ESPACIOS ACUATICOS  \n",
       "317580                             ROBO A PERSONAS  \n",
       "347036                             ROBO A PERSONAS  "
      ]
     },
     "execution_count": 25,
     "metadata": {},
     "output_type": "execute_result"
    }
   ],
   "source": [
    "valid_df_huggingface.sample(3)"
   ]
  },
  {
   "cell_type": "code",
   "execution_count": 26,
   "metadata": {},
   "outputs": [],
   "source": [
    "# train_df_huggingface.to_csv(os.path.join(dir_root,'data/interim/trainsethugf.csv'), index=False)\n",
    "# test_df_huggingface.to_csv(os.path.join(dir_root,'data/interim/testsethugf.csv'), index=False)\n",
    "# valid_df_huggingface.to_csv(os.path.join(dir_root,'data/interim/validsethugf.csv'), index=False)\n",
    "train_df_huggingface.to_csv(os.path.join(dir_root,'data/interim/trainsethugf_validados.csv'), index=False)\n",
    "test_df_huggingface.to_csv(os.path.join(dir_root,'data/interim/testsethugf_validados.csv'), index=False)\n",
    "valid_df_huggingface.to_csv(os.path.join(dir_root,'data/interim/validsethugf_validados.csv'), index=False)"
   ]
  }
 ],
 "metadata": {
  "kernelspec": {
   "display_name": "Python 3.9.13 ('fge_dir')",
   "language": "python",
   "name": "python3"
  },
  "language_info": {
   "codemirror_mode": {
    "name": "ipython",
    "version": 3
   },
   "file_extension": ".py",
   "mimetype": "text/x-python",
   "name": "python",
   "nbconvert_exporter": "python",
   "pygments_lexer": "ipython3",
   "version": "3.9.5"
  },
  "orig_nbformat": 4,
  "vscode": {
   "interpreter": {
    "hash": "12406fe364dd4d60b986b146315bb946ade40332b21e913bca67dde5e61a5fa6"
   }
  }
 },
 "nbformat": 4,
 "nbformat_minor": 2
}
