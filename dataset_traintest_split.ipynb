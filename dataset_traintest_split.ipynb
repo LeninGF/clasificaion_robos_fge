{
 "cells": [
  {
   "cell_type": "markdown",
   "metadata": {},
   "source": [
    "## Dataset Formatter\n",
    "\n",
    "In this notebook the dataset is organized in training and test sets. However we have to be clear about how the dataset is to be used when training by using hugging face.\n",
    "\n",
    "The complete dataset contains 431698 samples with 12 characteristics that include the corresponding labels in one hot encoding.\n",
    "\n",
    "The dataset will be organized as follows:\n",
    "\n",
    "$\\mathcal{X}_{train}\\in \\mathcal{R}^{341698 \\times 12 } $\n",
    "\n",
    "$\\mathcal{X}_{test}\\in \\mathcal{R}^{90000 \\times 12 } $\n"
   ]
  },
  {
   "cell_type": "code",
   "execution_count": 4,
   "metadata": {},
   "outputs": [
    {
     "data": {
      "text/plain": [
       "'/home/falconiel/CodePrograms/clasificaion_robos_fge'"
      ]
     },
     "execution_count": 4,
     "metadata": {},
     "output_type": "execute_result"
    }
   ],
   "source": [
    "import pandas as pd\n",
    "import numpy as np\n",
    "import os\n",
    "\n",
    "dir_root = os.getcwd()\n",
    "dir_root"
   ]
  },
  {
   "cell_type": "markdown",
   "metadata": {},
   "source": [
    "Lectura desde CSV"
   ]
  },
  {
   "cell_type": "code",
   "execution_count": 5,
   "metadata": {},
   "outputs": [],
   "source": [
    "FILE_PATH = \"data/raw/dataset_seguimientoValidadosRelatos06122023.csv\"\n",
    "# dataset_total = pd.read_csv(os.path.join(dir_root, 'data/raw/dataset.csv'), converters={'NDD':str})\n",
    "# dataset_total = pd.read_csv(os.path.join(dir_root, 'data/raw/dataset_validados_full.csv'), converters={'NDD':str})\n",
    "# dataset_total = pd.read_csv(os.path.join(dir_root, 'data/raw/dataset_seguimientoValidadosRelatos06122023.csv'), converters={'NDD':str})\n",
    "# dataset_total.shape"
   ]
  },
  {
   "cell_type": "markdown",
   "metadata": {},
   "source": [
    "Lectura desde SQL"
   ]
  },
  {
   "cell_type": "code",
   "execution_count": 6,
   "metadata": {},
   "outputs": [
    {
     "name": "stderr",
     "output_type": "stream",
     "text": [
      "2023-12-07 13:18:17.744135: I tensorflow/core/platform/cpu_feature_guard.cc:193] This TensorFlow binary is optimized with oneAPI Deep Neural Network Library (oneDNN) to use the following CPU instructions in performance-critical operations:  SSE4.1 SSE4.2 AVX AVX2 FMA\n",
      "To enable them in other operations, rebuild TensorFlow with the appropriate compiler flags.\n"
     ]
    },
    {
     "name": "stdout",
     "output_type": "stream",
     "text": [
      "conectando con big data database....\n",
      "<sqlalchemy.engine.base.Connection object at 0x7f04e37bb550>\n"
     ]
    },
    {
     "data": {
      "text/plain": [
       "(1109335, 6)"
      ]
     },
     "execution_count": 6,
     "metadata": {},
     "output_type": "execute_result"
    }
   ],
   "source": [
    "from src.utils import conectar_sql\n",
    "from sqlalchemy import text\n",
    "\n",
    "conx = conectar_sql()\n",
    "DATABASE_NAME = \"reportes\"\n",
    "TABLE_NAME = \"dataset_RobosDesagregation06122023\"\n",
    "this_query = text(f\"SELECT * FROM {DATABASE_NAME}.{TABLE_NAME};\")\n",
    "dataset_total = pd.read_sql(this_query, conx)\n",
    "dataset_total.shape"
   ]
  },
  {
   "cell_type": "code",
   "execution_count": 7,
   "metadata": {},
   "outputs": [
    {
     "data": {
      "text/html": [
       "<div>\n",
       "<style scoped>\n",
       "    .dataframe tbody tr th:only-of-type {\n",
       "        vertical-align: middle;\n",
       "    }\n",
       "\n",
       "    .dataframe tbody tr th {\n",
       "        vertical-align: top;\n",
       "    }\n",
       "\n",
       "    .dataframe thead th {\n",
       "        text-align: right;\n",
       "    }\n",
       "</style>\n",
       "<table border=\"1\" class=\"dataframe\">\n",
       "  <thead>\n",
       "    <tr style=\"text-align: right;\">\n",
       "      <th></th>\n",
       "      <th>NDD</th>\n",
       "      <th>Presunto_Delito</th>\n",
       "      <th>Relato</th>\n",
       "      <th>delitos_seguimiento</th>\n",
       "      <th>delitos_validados</th>\n",
       "      <th>cantidadPalabras</th>\n",
       "    </tr>\n",
       "  </thead>\n",
       "  <tbody>\n",
       "    <tr>\n",
       "      <th>117203</th>\n",
       "      <td>170101821090851</td>\n",
       "      <td>ROBO</td>\n",
       "      <td>pongo en su conocimiento señor fiscal con fech...</td>\n",
       "      <td>ROBO A PERSONAS</td>\n",
       "      <td>ROBO A PERSONAS</td>\n",
       "      <td>196</td>\n",
       "    </tr>\n",
       "    <tr>\n",
       "      <th>838604</th>\n",
       "      <td>170101814024928</td>\n",
       "      <td>ROBO</td>\n",
       "      <td>es el caso señor fiscal que el día y hora seña...</td>\n",
       "      <td>ROBO A UNIDADES ECONOMICAS</td>\n",
       "      <td>ROBO A UNIDADES ECONOMICAS</td>\n",
       "      <td>88</td>\n",
       "    </tr>\n",
       "    <tr>\n",
       "      <th>1091767</th>\n",
       "      <td>140101818020085</td>\n",
       "      <td>ROBO</td>\n",
       "      <td>es el caso señor fiscal salí de vacaciones con...</td>\n",
       "      <td>ROBO A DOMICILIO</td>\n",
       "      <td>ROBO A DOMICILIO</td>\n",
       "      <td>51</td>\n",
       "    </tr>\n",
       "    <tr>\n",
       "      <th>85290</th>\n",
       "      <td>090101817093220</td>\n",
       "      <td>ROBO</td>\n",
       "      <td>es el caso señor fiscal que el día 18 del mes ...</td>\n",
       "      <td>ROBO A PERSONAS</td>\n",
       "      <td>ROBO A PERSONAS</td>\n",
       "      <td>109</td>\n",
       "    </tr>\n",
       "    <tr>\n",
       "      <th>887613</th>\n",
       "      <td>120301820070010</td>\n",
       "      <td>ROBO</td>\n",
       "      <td>es el caso señor fiscal que el día 19 de julio...</td>\n",
       "      <td>OTROS ROBOS</td>\n",
       "      <td>ROBO A INSTITUCIONES EDUCATIVAS</td>\n",
       "      <td>197</td>\n",
       "    </tr>\n",
       "  </tbody>\n",
       "</table>\n",
       "</div>"
      ],
      "text/plain": [
       "                     NDD Presunto_Delito  \\\n",
       "117203   170101821090851            ROBO   \n",
       "838604   170101814024928            ROBO   \n",
       "1091767  140101818020085            ROBO   \n",
       "85290    090101817093220            ROBO   \n",
       "887613   120301820070010            ROBO   \n",
       "\n",
       "                                                    Relato  \\\n",
       "117203   pongo en su conocimiento señor fiscal con fech...   \n",
       "838604   es el caso señor fiscal que el día y hora seña...   \n",
       "1091767  es el caso señor fiscal salí de vacaciones con...   \n",
       "85290    es el caso señor fiscal que el día 18 del mes ...   \n",
       "887613   es el caso señor fiscal que el día 19 de julio...   \n",
       "\n",
       "                delitos_seguimiento                delitos_validados  \\\n",
       "117203              ROBO A PERSONAS                  ROBO A PERSONAS   \n",
       "838604   ROBO A UNIDADES ECONOMICAS       ROBO A UNIDADES ECONOMICAS   \n",
       "1091767            ROBO A DOMICILIO                 ROBO A DOMICILIO   \n",
       "85290               ROBO A PERSONAS                  ROBO A PERSONAS   \n",
       "887613                  OTROS ROBOS  ROBO A INSTITUCIONES EDUCATIVAS   \n",
       "\n",
       "         cantidadPalabras  \n",
       "117203                196  \n",
       "838604                 88  \n",
       "1091767                51  \n",
       "85290                 109  \n",
       "887613                197  "
      ]
     },
     "execution_count": 7,
     "metadata": {},
     "output_type": "execute_result"
    }
   ],
   "source": [
    "dataset_total.sample(5)"
   ]
  },
  {
   "cell_type": "markdown",
   "metadata": {},
   "source": [
    "Some preprocessing"
   ]
  },
  {
   "cell_type": "code",
   "execution_count": 8,
   "metadata": {},
   "outputs": [],
   "source": [
    "# dataset_total.RELATO = dataset_total.RELATO.str.lower()\n",
    "# dataset_total.RELATO = dataset_total.RELATO.str.replace(\"[^A-Za-z0-9áéíóúÁÉÍÓÚñÑ]+\", \" \", regex=True)\n",
    "# dataset_total.RELATO = dataset_total.RELATO.str.strip()\n",
    "from src.utils import format_crimestory\n",
    "\n",
    "format_crimestory(dataf=dataset_total, relato_label=\"Relato\")"
   ]
  },
  {
   "cell_type": "code",
   "execution_count": 9,
   "metadata": {},
   "outputs": [
    {
     "data": {
      "text/plain": [
       "['ndd',\n",
       " 'presuntoDelito',\n",
       " 'relato',\n",
       " 'delitosSeguimiento',\n",
       " 'delitosValidados',\n",
       " 'cantidadpalabras']"
      ]
     },
     "execution_count": 9,
     "metadata": {},
     "output_type": "execute_result"
    }
   ],
   "source": [
    "from utils import camel_case_string_noPoint\n",
    "\n",
    "new_names = []\n",
    "for col in dataset_total.columns:\n",
    "    new_names.append(camel_case_string_noPoint(col))\n",
    "new_names"
   ]
  },
  {
   "cell_type": "code",
   "execution_count": 10,
   "metadata": {},
   "outputs": [],
   "source": [
    "dataset_total.columns = new_names\n",
    "# dataset_total.sample(5)"
   ]
  },
  {
   "cell_type": "code",
   "execution_count": 11,
   "metadata": {},
   "outputs": [
    {
     "data": {
      "text/plain": [
       "<AxesSubplot: >"
      ]
     },
     "execution_count": 11,
     "metadata": {},
     "output_type": "execute_result"
    },
    {
     "data": {
      "image/png": "[encoded data removed]",
      "text/plain": [
       "<Figure size 640x480 with 1 Axes>"
      ]
     },
     "metadata": {},
     "output_type": "display_data"
    }
   ],
   "source": [
    "LABELS_COLUMN_NAME = \"delitosValidados\"\n",
    "dataset_total[LABELS_COLUMN_NAME].value_counts().plot.barh()"
   ]
  },
  {
   "cell_type": "markdown",
   "metadata": {},
   "source": [
    "Applying shuffle to the dataset in order to randomly order the samples in the data"
   ]
  },
  {
   "cell_type": "code",
   "execution_count": 20,
   "metadata": {},
   "outputs": [],
   "source": [
    "dataset_total.rename(columns={\"cantidadpalabras\": \"cantidadPalabras\"}, inplace=True)"
   ]
  },
  {
   "cell_type": "code",
   "execution_count": 21,
   "metadata": {},
   "outputs": [
    {
     "data": {
      "text/plain": [
       "((1109335, 6), (1109335, 7))"
      ]
     },
     "execution_count": 21,
     "metadata": {},
     "output_type": "execute_result"
    }
   ],
   "source": [
    "from sklearn.utils import shuffle\n",
    "\n",
    "dataset_total_shuffle = shuffle(dataset_total, random_state=42)\n",
    "dataset_total_shuffle.reset_index(inplace=True)\n",
    "dataset_total.shape, dataset_total_shuffle.shape"
   ]
  },
  {
   "cell_type": "code",
   "execution_count": 22,
   "metadata": {},
   "outputs": [
    {
     "data": {
      "text/plain": [
       "(Index(['index', 'ndd', 'presuntoDelito', 'relato', 'delitosSeguimiento',\n",
       "        'delitosValidados', 'cantidadPalabras'],\n",
       "       dtype='object'),\n",
       " Index(['ndd', 'presuntoDelito', 'relato', 'delitosSeguimiento',\n",
       "        'delitosValidados', 'cantidadPalabras'],\n",
       "       dtype='object'))"
      ]
     },
     "execution_count": 22,
     "metadata": {},
     "output_type": "execute_result"
    }
   ],
   "source": [
    "dataset_total_shuffle.columns, dataset_total.columns"
   ]
  },
  {
   "cell_type": "code",
   "execution_count": 23,
   "metadata": {},
   "outputs": [
    {
     "name": "stdout",
     "output_type": "stream",
     "text": [
      "Recomended sizes are: TRAIN: 776534.5, VALID: 221867.0, TEST: 110933.5\n"
     ]
    }
   ],
   "source": [
    "from src.utils import train_valid_test_sizer\n",
    "\n",
    "TRAIN_SIZE_R, VALID_SIZE_R, TEST_SIZE_R = train_valid_test_sizer(\n",
    "    dataframe_shape=dataset_total.shape\n",
    ")"
   ]
  },
  {
   "cell_type": "markdown",
   "metadata": {},
   "source": [
    "Estudio anterior utilizó Test_Size de 90000"
   ]
  },
  {
   "cell_type": "code",
   "execution_count": 24,
   "metadata": {},
   "outputs": [],
   "source": [
    "TEST_SIZE = 100000\n",
    "TRAIN_SIZE = dataset_total.shape[0] - TEST_SIZE\n",
    "train_df = dataset_total_shuffle.iloc[0:TRAIN_SIZE, :]\n",
    "test_df = dataset_total_shuffle.iloc[TRAIN_SIZE:, :]\n",
    "# training_sentences = sentences[0:training_size]\n",
    "# testing_sentences = sentences[training_size:]\n",
    "# training_labels = labels[0:training_size]\n",
    "# testing_labels = labels[training_size:]"
   ]
  },
  {
   "cell_type": "code",
   "execution_count": 25,
   "metadata": {},
   "outputs": [
    {
     "data": {
      "text/html": [
       "<div>\n",
       "<style scoped>\n",
       "    .dataframe tbody tr th:only-of-type {\n",
       "        vertical-align: middle;\n",
       "    }\n",
       "\n",
       "    .dataframe tbody tr th {\n",
       "        vertical-align: top;\n",
       "    }\n",
       "\n",
       "    .dataframe thead th {\n",
       "        text-align: right;\n",
       "    }\n",
       "</style>\n",
       "<table border=\"1\" class=\"dataframe\">\n",
       "  <thead>\n",
       "    <tr style=\"text-align: right;\">\n",
       "      <th></th>\n",
       "      <th>index</th>\n",
       "      <th>ndd</th>\n",
       "      <th>presuntoDelito</th>\n",
       "      <th>relato</th>\n",
       "      <th>delitosSeguimiento</th>\n",
       "      <th>delitosValidados</th>\n",
       "      <th>cantidadPalabras</th>\n",
       "    </tr>\n",
       "  </thead>\n",
       "  <tbody>\n",
       "    <tr>\n",
       "      <th>1009330</th>\n",
       "      <td>1017248</td>\n",
       "      <td>060101818010156</td>\n",
       "      <td>ROBO</td>\n",
       "      <td>yo martin marcelo illapa avalos con c c no 060...</td>\n",
       "      <td>ROBO A PERSONAS</td>\n",
       "      <td>ROBO A PERSONAS</td>\n",
       "      <td>223</td>\n",
       "    </tr>\n",
       "    <tr>\n",
       "      <th>1009331</th>\n",
       "      <td>1092002</td>\n",
       "      <td>030101814090122</td>\n",
       "      <td>ROBO</td>\n",
       "      <td>que el día sábado 20 de septiembre del 2014 a ...</td>\n",
       "      <td>ROBO A PERSONAS</td>\n",
       "      <td>ROBO A PERSONAS</td>\n",
       "      <td>232</td>\n",
       "    </tr>\n",
       "    <tr>\n",
       "      <th>1009332</th>\n",
       "      <td>264925</td>\n",
       "      <td>070101814040029</td>\n",
       "      <td>ROBO</td>\n",
       "      <td>el dia y hora indicada en circunstancias que l...</td>\n",
       "      <td>ROBO A PERSONAS</td>\n",
       "      <td>ROBO A PERSONAS</td>\n",
       "      <td>198</td>\n",
       "    </tr>\n",
       "    <tr>\n",
       "      <th>1009333</th>\n",
       "      <td>525596</td>\n",
       "      <td>170101821070287</td>\n",
       "      <td>ROBO</td>\n",
       "      <td>es el caso señor fiscal que en el dia y la hor...</td>\n",
       "      <td>ROBO A PERSONAS</td>\n",
       "      <td>ROBO A PERSONAS</td>\n",
       "      <td>85</td>\n",
       "    </tr>\n",
       "    <tr>\n",
       "      <th>1009334</th>\n",
       "      <td>988658</td>\n",
       "      <td>090101821122430</td>\n",
       "      <td>ROBO</td>\n",
       "      <td>es el caso señor fiscal que el dí a 12 de dici...</td>\n",
       "      <td>ROBO A PERSONAS</td>\n",
       "      <td>ROBO A PERSONAS</td>\n",
       "      <td>130</td>\n",
       "    </tr>\n",
       "  </tbody>\n",
       "</table>\n",
       "</div>"
      ],
      "text/plain": [
       "           index              ndd presuntoDelito  \\\n",
       "1009330  1017248  060101818010156           ROBO   \n",
       "1009331  1092002  030101814090122           ROBO   \n",
       "1009332   264925  070101814040029           ROBO   \n",
       "1009333   525596  170101821070287           ROBO   \n",
       "1009334   988658  090101821122430           ROBO   \n",
       "\n",
       "                                                    relato delitosSeguimiento  \\\n",
       "1009330  yo martin marcelo illapa avalos con c c no 060...    ROBO A PERSONAS   \n",
       "1009331  que el día sábado 20 de septiembre del 2014 a ...    ROBO A PERSONAS   \n",
       "1009332  el dia y hora indicada en circunstancias que l...    ROBO A PERSONAS   \n",
       "1009333  es el caso señor fiscal que en el dia y la hor...    ROBO A PERSONAS   \n",
       "1009334  es el caso señor fiscal que el dí a 12 de dici...    ROBO A PERSONAS   \n",
       "\n",
       "        delitosValidados  cantidadPalabras  \n",
       "1009330  ROBO A PERSONAS               223  \n",
       "1009331  ROBO A PERSONAS               232  \n",
       "1009332  ROBO A PERSONAS               198  \n",
       "1009333  ROBO A PERSONAS                85  \n",
       "1009334  ROBO A PERSONAS               130  "
      ]
     },
     "execution_count": 25,
     "metadata": {},
     "output_type": "execute_result"
    }
   ],
   "source": [
    "train_df.tail()"
   ]
  },
  {
   "cell_type": "code",
   "execution_count": 26,
   "metadata": {},
   "outputs": [
    {
     "data": {
      "text/html": [
       "<div>\n",
       "<style scoped>\n",
       "    .dataframe tbody tr th:only-of-type {\n",
       "        vertical-align: middle;\n",
       "    }\n",
       "\n",
       "    .dataframe tbody tr th {\n",
       "        vertical-align: top;\n",
       "    }\n",
       "\n",
       "    .dataframe thead th {\n",
       "        text-align: right;\n",
       "    }\n",
       "</style>\n",
       "<table border=\"1\" class=\"dataframe\">\n",
       "  <thead>\n",
       "    <tr style=\"text-align: right;\">\n",
       "      <th></th>\n",
       "      <th>index</th>\n",
       "      <th>ndd</th>\n",
       "      <th>presuntoDelito</th>\n",
       "      <th>relato</th>\n",
       "      <th>delitosSeguimiento</th>\n",
       "      <th>delitosValidados</th>\n",
       "      <th>cantidadPalabras</th>\n",
       "    </tr>\n",
       "  </thead>\n",
       "  <tbody>\n",
       "    <tr>\n",
       "      <th>1009335</th>\n",
       "      <td>3278</td>\n",
       "      <td>090801816020110</td>\n",
       "      <td>ROBO</td>\n",
       "      <td>es el caso señor fiscal que el día de hoy 23 d...</td>\n",
       "      <td>ROBO DE MOTOS</td>\n",
       "      <td>ROBO DE MOTOS</td>\n",
       "      <td>118</td>\n",
       "    </tr>\n",
       "    <tr>\n",
       "      <th>1009336</th>\n",
       "      <td>267786</td>\n",
       "      <td>170501822090091</td>\n",
       "      <td>ROBO</td>\n",
       "      <td>es el caso señor fiscal que el día 12 de septi...</td>\n",
       "      <td>ROBO A DOMICILIO</td>\n",
       "      <td>ROBO A DOMICILIO</td>\n",
       "      <td>194</td>\n",
       "    </tr>\n",
       "    <tr>\n",
       "      <th>1009337</th>\n",
       "      <td>277870</td>\n",
       "      <td>120501814110288</td>\n",
       "      <td>ROBO</td>\n",
       "      <td>es el caso señor fiscal que el día miercoles 1...</td>\n",
       "      <td>ROBO A PERSONAS</td>\n",
       "      <td>ROBO A PERSONAS</td>\n",
       "      <td>105</td>\n",
       "    </tr>\n",
       "    <tr>\n",
       "      <th>1009338</th>\n",
       "      <td>1092391</td>\n",
       "      <td>090101817083468</td>\n",
       "      <td>ROBO</td>\n",
       "      <td>es el caso señor fiscal que el día 18 de agost...</td>\n",
       "      <td>ROBO A DOMICILIO</td>\n",
       "      <td>ROBO A DOMICILIO</td>\n",
       "      <td>251</td>\n",
       "    </tr>\n",
       "    <tr>\n",
       "      <th>1009339</th>\n",
       "      <td>817767</td>\n",
       "      <td>120501818070295</td>\n",
       "      <td>ROBO</td>\n",
       "      <td>es el caso señor fiscal que a las 11h00 del di...</td>\n",
       "      <td>ROBO A DOMICILIO</td>\n",
       "      <td>ROBO A DOMICILIO</td>\n",
       "      <td>174</td>\n",
       "    </tr>\n",
       "  </tbody>\n",
       "</table>\n",
       "</div>"
      ],
      "text/plain": [
       "           index              ndd presuntoDelito  \\\n",
       "1009335     3278  090801816020110           ROBO   \n",
       "1009336   267786  170501822090091           ROBO   \n",
       "1009337   277870  120501814110288           ROBO   \n",
       "1009338  1092391  090101817083468           ROBO   \n",
       "1009339   817767  120501818070295           ROBO   \n",
       "\n",
       "                                                    relato delitosSeguimiento  \\\n",
       "1009335  es el caso señor fiscal que el día de hoy 23 d...      ROBO DE MOTOS   \n",
       "1009336  es el caso señor fiscal que el día 12 de septi...   ROBO A DOMICILIO   \n",
       "1009337  es el caso señor fiscal que el día miercoles 1...    ROBO A PERSONAS   \n",
       "1009338  es el caso señor fiscal que el día 18 de agost...   ROBO A DOMICILIO   \n",
       "1009339  es el caso señor fiscal que a las 11h00 del di...   ROBO A DOMICILIO   \n",
       "\n",
       "         delitosValidados  cantidadPalabras  \n",
       "1009335     ROBO DE MOTOS               118  \n",
       "1009336  ROBO A DOMICILIO               194  \n",
       "1009337   ROBO A PERSONAS               105  \n",
       "1009338  ROBO A DOMICILIO               251  \n",
       "1009339  ROBO A DOMICILIO               174  "
      ]
     },
     "execution_count": 26,
     "metadata": {},
     "output_type": "execute_result"
    }
   ],
   "source": [
    "test_df.head()"
   ]
  },
  {
   "cell_type": "code",
   "execution_count": 27,
   "metadata": {},
   "outputs": [
    {
     "data": {
      "text/plain": [
       "((1009335, 7), (100000, 7))"
      ]
     },
     "execution_count": 27,
     "metadata": {},
     "output_type": "execute_result"
    }
   ],
   "source": [
    "train_df.shape, test_df.shape"
   ]
  },
  {
   "cell_type": "code",
   "execution_count": 28,
   "metadata": {},
   "outputs": [
    {
     "data": {
      "text/plain": [
       "<seaborn.axisgrid.FacetGrid at 0x7f05820b6da0>"
      ]
     },
     "execution_count": 28,
     "metadata": {},
     "output_type": "execute_result"
    },
    {
     "data": {
      "image/png": "[encoded data removed]",
      "text/plain": [
       "<Figure size 500x500 with 1 Axes>"
      ]
     },
     "metadata": {},
     "output_type": "display_data"
    }
   ],
   "source": [
    "import seaborn as sns\n",
    "\n",
    "sns.set_style(\"dark\")\n",
    "sns.displot(test_df.cantidadPalabras)"
   ]
  },
  {
   "cell_type": "code",
   "execution_count": 29,
   "metadata": {},
   "outputs": [
    {
     "name": "stderr",
     "output_type": "stream",
     "text": [
      "/tmp/ipykernel_7500/2510673099.py:1: UserWarning: \n",
      "\n",
      "`distplot` is a deprecated function and will be removed in seaborn v0.14.0.\n",
      "\n",
      "Please adapt your code to use either `displot` (a figure-level function with\n",
      "similar flexibility) or `histplot` (an axes-level function for histograms).\n",
      "\n",
      "For a guide to updating your code to use the new functions, please see\n",
      "https://gist.github.com/mwaskom/de44147ed2974457ad6372750bbe5751\n",
      "\n",
      "  sns.distplot(train_df.cantidadPalabras)\n"
     ]
    },
    {
     "data": {
      "text/plain": [
       "<AxesSubplot: xlabel='cantidadPalabras', ylabel='Density'>"
      ]
     },
     "execution_count": 29,
     "metadata": {},
     "output_type": "execute_result"
    },
    {
     "data": {
      "image/png": "[encoded data removed]",
      "text/plain": [
       "<Figure size 640x480 with 1 Axes>"
      ]
     },
     "metadata": {},
     "output_type": "display_data"
    }
   ],
   "source": [
    "sns.distplot(train_df.cantidadPalabras)"
   ]
  },
  {
   "cell_type": "markdown",
   "metadata": {},
   "source": [
    "## Generating Validation dataset\n",
    "Checking some of the bibliography in HuggingFaces, there is a procedure to create the validation dataset from testing set. However, I have also made that from the training set using train test split of sklearn. Let us explore which is the best way to obtain that. In either case, saving the datset should be final because shuffle of the data can be applied. In videos, validation dataset has been obtained from the trainig set, reducing a bit its size. Consider that the operation to split the dataset can be from the dataset dict object that can be created using hugging faces: https://discuss.huggingface.co/t/how-to-split-main-dataset-into-train-dev-test-as-datasetdict/1090\n"
   ]
  },
  {
   "cell_type": "code",
   "execution_count": 30,
   "metadata": {},
   "outputs": [
    {
     "data": {
      "text/plain": [
       "((1009335, 7), (100000, 7))"
      ]
     },
     "execution_count": 30,
     "metadata": {},
     "output_type": "execute_result"
    }
   ],
   "source": [
    "train_df.shape, test_df.shape"
   ]
  },
  {
   "cell_type": "markdown",
   "metadata": {},
   "source": [
    "I think since there were some initial problems in memory when applying tokenize to train dataset, it could be ok to lower a bit its size by extracting validation set out of it"
   ]
  },
  {
   "cell_type": "code",
   "execution_count": 31,
   "metadata": {},
   "outputs": [
    {
     "data": {
      "text/plain": [
       "(1009335, 100000, 807468.0, 201867.0, 9.014409533639522)"
      ]
     },
     "execution_count": 31,
     "metadata": {},
     "output_type": "execute_result"
    }
   ],
   "source": [
    "TRAIN_SIZE, TEST_SIZE, 0.8 * TRAIN_SIZE, 0.2 * TRAIN_SIZE, TEST_SIZE / (\n",
    "    TRAIN_SIZE + TEST_SIZE\n",
    ") * 100"
   ]
  },
  {
   "cell_type": "markdown",
   "metadata": {},
   "source": [
    "We could also get 50% of testing cases for validation considering what they recommend in https://discuss.huggingface.co/t/how-to-split-main-dataset-into-train-dev-test-as-datasetdict/1090. However this would lower testing samples to 45000, validation samples to 45000 and training samples would remain at 341669. "
   ]
  },
  {
   "cell_type": "code",
   "execution_count": 32,
   "metadata": {},
   "outputs": [
    {
     "data": {
      "text/plain": [
       "(807468, 201867)"
      ]
     },
     "execution_count": 32,
     "metadata": {},
     "output_type": "execute_result"
    }
   ],
   "source": [
    "VALID_SIZE = int(0.2 * TRAIN_SIZE)\n",
    "TRAIN_SIZE -= VALID_SIZE\n",
    "TRAIN_SIZE, VALID_SIZE"
   ]
  },
  {
   "cell_type": "code",
   "execution_count": 33,
   "metadata": {},
   "outputs": [],
   "source": [
    "train_df_out = train_df.iloc[0:TRAIN_SIZE, :]\n",
    "valid_df = train_df.iloc[TRAIN_SIZE:, :]"
   ]
  },
  {
   "cell_type": "code",
   "execution_count": 34,
   "metadata": {},
   "outputs": [
    {
     "data": {
      "text/html": [
       "<div>\n",
       "<style scoped>\n",
       "    .dataframe tbody tr th:only-of-type {\n",
       "        vertical-align: middle;\n",
       "    }\n",
       "\n",
       "    .dataframe tbody tr th {\n",
       "        vertical-align: top;\n",
       "    }\n",
       "\n",
       "    .dataframe thead th {\n",
       "        text-align: right;\n",
       "    }\n",
       "</style>\n",
       "<table border=\"1\" class=\"dataframe\">\n",
       "  <thead>\n",
       "    <tr style=\"text-align: right;\">\n",
       "      <th></th>\n",
       "      <th>index</th>\n",
       "      <th>ndd</th>\n",
       "      <th>presuntoDelito</th>\n",
       "      <th>relato</th>\n",
       "      <th>delitosSeguimiento</th>\n",
       "      <th>delitosValidados</th>\n",
       "      <th>cantidadPalabras</th>\n",
       "    </tr>\n",
       "  </thead>\n",
       "  <tbody>\n",
       "    <tr>\n",
       "      <th>807463</th>\n",
       "      <td>454295</td>\n",
       "      <td>090101818012209</td>\n",
       "      <td>ROBO</td>\n",
       "      <td>ese el caso señor fiscal que el día de hoy 13 ...</td>\n",
       "      <td>ROBO A DOMICILIO</td>\n",
       "      <td>ROBO A DOMICILIO</td>\n",
       "      <td>151</td>\n",
       "    </tr>\n",
       "    <tr>\n",
       "      <th>807464</th>\n",
       "      <td>832989</td>\n",
       "      <td>080101822080259</td>\n",
       "      <td>ROBO</td>\n",
       "      <td>los hechos que denuncio sucedieron el dí a 13 ...</td>\n",
       "      <td>ROBO A DOMICILIO</td>\n",
       "      <td>ROBO A DOMICILIO</td>\n",
       "      <td>107</td>\n",
       "    </tr>\n",
       "    <tr>\n",
       "      <th>807465</th>\n",
       "      <td>544067</td>\n",
       "      <td>090101814094312</td>\n",
       "      <td>ROBO</td>\n",
       "      <td>es el caso se or fiscal que el d a de hoy 22 d...</td>\n",
       "      <td>ROBO A PERSONAS</td>\n",
       "      <td>ROBO A PERSONAS</td>\n",
       "      <td>275</td>\n",
       "    </tr>\n",
       "    <tr>\n",
       "      <th>807466</th>\n",
       "      <td>619048</td>\n",
       "      <td>090101815032385</td>\n",
       "      <td>ROBO</td>\n",
       "      <td>es el caso se or fiscal que el d a 11 de marzo...</td>\n",
       "      <td>ROBO DE MOTOS</td>\n",
       "      <td>ROBO DE MOTOS</td>\n",
       "      <td>70</td>\n",
       "    </tr>\n",
       "    <tr>\n",
       "      <th>807467</th>\n",
       "      <td>10936</td>\n",
       "      <td>100401816100043</td>\n",
       "      <td>ROBO</td>\n",
       "      <td>por medio del presente pongo en su conocimient...</td>\n",
       "      <td>ROBO DE BIENES, ACCESORIOS Y AUTOPARTES DE VEH...</td>\n",
       "      <td>ROBO DE BIENES, ACCESORIOS Y AUTOPARTES DE VEH...</td>\n",
       "      <td>291</td>\n",
       "    </tr>\n",
       "  </tbody>\n",
       "</table>\n",
       "</div>"
      ],
      "text/plain": [
       "         index              ndd presuntoDelito  \\\n",
       "807463  454295  090101818012209           ROBO   \n",
       "807464  832989  080101822080259           ROBO   \n",
       "807465  544067  090101814094312           ROBO   \n",
       "807466  619048  090101815032385           ROBO   \n",
       "807467   10936  100401816100043           ROBO   \n",
       "\n",
       "                                                   relato  \\\n",
       "807463  ese el caso señor fiscal que el día de hoy 13 ...   \n",
       "807464  los hechos que denuncio sucedieron el dí a 13 ...   \n",
       "807465  es el caso se or fiscal que el d a de hoy 22 d...   \n",
       "807466  es el caso se or fiscal que el d a 11 de marzo...   \n",
       "807467  por medio del presente pongo en su conocimient...   \n",
       "\n",
       "                                       delitosSeguimiento  \\\n",
       "807463                                   ROBO A DOMICILIO   \n",
       "807464                                   ROBO A DOMICILIO   \n",
       "807465                                    ROBO A PERSONAS   \n",
       "807466                                      ROBO DE MOTOS   \n",
       "807467  ROBO DE BIENES, ACCESORIOS Y AUTOPARTES DE VEH...   \n",
       "\n",
       "                                         delitosValidados  cantidadPalabras  \n",
       "807463                                   ROBO A DOMICILIO               151  \n",
       "807464                                   ROBO A DOMICILIO               107  \n",
       "807465                                    ROBO A PERSONAS               275  \n",
       "807466                                      ROBO DE MOTOS                70  \n",
       "807467  ROBO DE BIENES, ACCESORIOS Y AUTOPARTES DE VEH...               291  "
      ]
     },
     "execution_count": 34,
     "metadata": {},
     "output_type": "execute_result"
    }
   ],
   "source": [
    "train_df_out.tail()"
   ]
  },
  {
   "cell_type": "code",
   "execution_count": 35,
   "metadata": {},
   "outputs": [
    {
     "data": {
      "text/html": [
       "<div>\n",
       "<style scoped>\n",
       "    .dataframe tbody tr th:only-of-type {\n",
       "        vertical-align: middle;\n",
       "    }\n",
       "\n",
       "    .dataframe tbody tr th {\n",
       "        vertical-align: top;\n",
       "    }\n",
       "\n",
       "    .dataframe thead th {\n",
       "        text-align: right;\n",
       "    }\n",
       "</style>\n",
       "<table border=\"1\" class=\"dataframe\">\n",
       "  <thead>\n",
       "    <tr style=\"text-align: right;\">\n",
       "      <th></th>\n",
       "      <th>index</th>\n",
       "      <th>ndd</th>\n",
       "      <th>presuntoDelito</th>\n",
       "      <th>relato</th>\n",
       "      <th>delitosSeguimiento</th>\n",
       "      <th>delitosValidados</th>\n",
       "      <th>cantidadPalabras</th>\n",
       "    </tr>\n",
       "  </thead>\n",
       "  <tbody>\n",
       "    <tr>\n",
       "      <th>807468</th>\n",
       "      <td>1035725</td>\n",
       "      <td>091001819060243</td>\n",
       "      <td>ROBO</td>\n",
       "      <td>el casos r fiscal que el día 24 06 2019 a las ...</td>\n",
       "      <td>ROBO A PERSONAS</td>\n",
       "      <td>ROBO A PERSONAS</td>\n",
       "      <td>98</td>\n",
       "    </tr>\n",
       "    <tr>\n",
       "      <th>807469</th>\n",
       "      <td>296053</td>\n",
       "      <td>120501817100224</td>\n",
       "      <td>ROBO</td>\n",
       "      <td>es el caso señor fiscal que en el día y hora i...</td>\n",
       "      <td>ROBO A PERSONAS</td>\n",
       "      <td>ROBO A PERSONAS</td>\n",
       "      <td>141</td>\n",
       "    </tr>\n",
       "    <tr>\n",
       "      <th>807470</th>\n",
       "      <td>504382</td>\n",
       "      <td>090101814094479</td>\n",
       "      <td>ROBO</td>\n",
       "      <td>es el caso señor fiscal que el 22 de septiembr...</td>\n",
       "      <td>ROBO A PERSONAS</td>\n",
       "      <td>ROBO A PERSONAS</td>\n",
       "      <td>123</td>\n",
       "    </tr>\n",
       "    <tr>\n",
       "      <th>807471</th>\n",
       "      <td>708583</td>\n",
       "      <td>170101821051591</td>\n",
       "      <td>ROBO</td>\n",
       "      <td>señor fiscal el dia miercoles 12 de mayo del 2...</td>\n",
       "      <td>ROBO A PERSONAS</td>\n",
       "      <td>ROBO A PERSONAS</td>\n",
       "      <td>55</td>\n",
       "    </tr>\n",
       "    <tr>\n",
       "      <th>807472</th>\n",
       "      <td>527489</td>\n",
       "      <td>060101818090429</td>\n",
       "      <td>ROBO</td>\n",
       "      <td>el día 25 de septiembre del 2018 a eso de las ...</td>\n",
       "      <td>ROBO A DOMICILIO</td>\n",
       "      <td>ROBO A DOMICILIO</td>\n",
       "      <td>139</td>\n",
       "    </tr>\n",
       "  </tbody>\n",
       "</table>\n",
       "</div>"
      ],
      "text/plain": [
       "          index              ndd presuntoDelito  \\\n",
       "807468  1035725  091001819060243           ROBO   \n",
       "807469   296053  120501817100224           ROBO   \n",
       "807470   504382  090101814094479           ROBO   \n",
       "807471   708583  170101821051591           ROBO   \n",
       "807472   527489  060101818090429           ROBO   \n",
       "\n",
       "                                                   relato delitosSeguimiento  \\\n",
       "807468  el casos r fiscal que el día 24 06 2019 a las ...    ROBO A PERSONAS   \n",
       "807469  es el caso señor fiscal que en el día y hora i...    ROBO A PERSONAS   \n",
       "807470  es el caso señor fiscal que el 22 de septiembr...    ROBO A PERSONAS   \n",
       "807471  señor fiscal el dia miercoles 12 de mayo del 2...    ROBO A PERSONAS   \n",
       "807472  el día 25 de septiembre del 2018 a eso de las ...   ROBO A DOMICILIO   \n",
       "\n",
       "        delitosValidados  cantidadPalabras  \n",
       "807468   ROBO A PERSONAS                98  \n",
       "807469   ROBO A PERSONAS               141  \n",
       "807470   ROBO A PERSONAS               123  \n",
       "807471   ROBO A PERSONAS                55  \n",
       "807472  ROBO A DOMICILIO               139  "
      ]
     },
     "execution_count": 35,
     "metadata": {},
     "output_type": "execute_result"
    }
   ],
   "source": [
    "valid_df.head()"
   ]
  },
  {
   "cell_type": "code",
   "execution_count": 36,
   "metadata": {},
   "outputs": [
    {
     "data": {
      "text/plain": [
       "((807468, 7), (100000, 7), (201867, 7))"
      ]
     },
     "execution_count": 36,
     "metadata": {},
     "output_type": "execute_result"
    }
   ],
   "source": [
    "train_df_out.shape, test_df.shape, valid_df.shape"
   ]
  },
  {
   "cell_type": "code",
   "execution_count": 39,
   "metadata": {},
   "outputs": [
    {
     "data": {
      "text/plain": [
       "array([72.78847237, 18.19711809,  9.01440953])"
      ]
     },
     "execution_count": 39,
     "metadata": {},
     "output_type": "execute_result"
    }
   ],
   "source": [
    "total_samples = train_df_out.shape[0] + valid_df.shape[0] + test_df.shape[0]\n",
    "np.array(\n",
    "    [train_df_out.shape[0], valid_df.shape[0], test_df.shape[0]]\n",
    ") / total_samples * 100"
   ]
  },
  {
   "cell_type": "code",
   "execution_count": 43,
   "metadata": {},
   "outputs": [],
   "source": [
    "from datetime import datetime\n",
    "\n",
    "WHEN = datetime.now().strftime(\"%Y-%m-%d\")\n",
    "\n",
    "train_df_out.to_csv(\n",
    "    os.path.join(dir_root, f\"data/interim/trainset_{WHEN}.csv\"), index=False\n",
    ")\n",
    "# train_df_out.to_csv(os.path.join(dir_root,'data/interim/trainset_delvalidados.csv'), index=False)\n",
    "test_df.to_csv(os.path.join(dir_root, f\"data/interim/testset_{WHEN}.csv\"), index=False)\n",
    "# test_df.to_csv(os.path.join(dir_root,'data/interim/testset_delvalidados.csv'), index=False)\n",
    "valid_df.to_csv(\n",
    "    os.path.join(dir_root, f\"data/interim/validset_{WHEN}.csv\"), index=False\n",
    ")\n",
    "# valid_df.to_csv(os.path.join(dir_root,'data/interim/validset_delvalidados.csv'), index=False)"
   ]
  },
  {
   "cell_type": "markdown",
   "metadata": {},
   "source": [
    "## Splitting Delitos Validados and Delitos Seguimiento and renaming\n",
    "\n",
    "The dataset may have both delitos seguimiento and delitos validados. If this is the case it is important to separate them in order to create the set of data to be used"
   ]
  },
  {
   "cell_type": "code",
   "execution_count": 51,
   "metadata": {},
   "outputs": [
    {
     "data": {
      "text/plain": [
       "Index(['index', 'ndd', 'presuntoDelito', 'relato', 'delitosSeguimiento',\n",
       "       'delitosValidados', 'cantidadPalabras'],\n",
       "      dtype='object')"
      ]
     },
     "execution_count": 51,
     "metadata": {},
     "output_type": "execute_result"
    }
   ],
   "source": [
    "train_df_out.columns"
   ]
  },
  {
   "cell_type": "code",
   "execution_count": 50,
   "metadata": {},
   "outputs": [],
   "source": [
    "train_delitos_validados = train_df_out.drop(columns=\"delitosSeguimiento\")\n",
    "valid_delitos_validados = valid_df.drop(columns=\"delitosSeguimiento\")\n",
    "test_delitos_validados = test_df.drop(columns=\"delitosSeguimiento\")\n",
    "\n",
    "train_delitos_seguimiento = train_df_out.drop(columns=\"delitosValidados\")\n",
    "valid_delitos_seguimiento = valid_df.drop(columns=\"delitosValidados\")\n",
    "test_delitos_seguimiento = test_df.drop(columns=\"delitosValidados\")"
   ]
  },
  {
   "cell_type": "code",
   "execution_count": 52,
   "metadata": {},
   "outputs": [
    {
     "data": {
      "text/plain": [
       "Index(['index', 'ndd', 'presuntoDelito', 'relato', 'delitosValidados',\n",
       "       'cantidadPalabras'],\n",
       "      dtype='object')"
      ]
     },
     "execution_count": 52,
     "metadata": {},
     "output_type": "execute_result"
    }
   ],
   "source": [
    "train_delitos_validados.columns"
   ]
  },
  {
   "cell_type": "code",
   "execution_count": 53,
   "metadata": {},
   "outputs": [],
   "source": [
    "train_delitos_validados.rename(columns={\"delitosValidados\": \"labels\"}, inplace=True)\n",
    "valid_delitos_validados.rename(columns={\"delitosValidados\": \"labels\"}, inplace=True)\n",
    "test_delitos_validados.rename(columns={\"delitosValidados\": \"labels\"}, inplace=True)\n",
    "train_delitos_seguimiento.rename(columns={\"delitosSeguimiento\": \"labels\"}, inplace=True)\n",
    "valid_delitos_seguimiento.rename(columns={\"delitosSeguimiento\": \"labels\"}, inplace=True)\n",
    "test_delitos_seguimiento.rename(columns={\"delitosSeguimiento\": \"labels\"}, inplace=True)"
   ]
  },
  {
   "cell_type": "markdown",
   "metadata": {},
   "source": [
    "How many repetitions do we have in the datasets? It is kind of important to know this because we would like to know if we are going to train with crime stories from both origins (police and siaf). A way to check this would be the count of repeated ndd in a dataset"
   ]
  },
  {
   "cell_type": "code",
   "execution_count": 65,
   "metadata": {},
   "outputs": [
    {
     "name": "stdout",
     "output_type": "stream",
     "text": [
      "There are 945492 in (1109335, 6) that corresponds to: 85.230520987799%\n",
      "There are 501260 in (807468, 6) that corresponds to: 62.078001852705%\n",
      "There are 501260 in (807468, 6) that corresponds to: 62.078001852705%\n",
      "There are 31362 in (201867, 6) that corresponds to: 15.535971704141835%\n",
      "There are 31362 in (201867, 6) that corresponds to: 15.535971704141835%\n",
      "There are 7822 in (100000, 6) that corresponds to: 7.822%\n",
      "There are 7822 in (100000, 6) that corresponds to: 7.822%\n"
     ]
    }
   ],
   "source": [
    "def howmany_duplicates(dataset, column2check=\"ndd\"):\n",
    "    duplicates = dataset[dataset.duplicated(subset=\"ndd\", keep=False)].shape[0]\n",
    "    print(\n",
    "        f\"There are {duplicates} in {dataset.shape} that corresponds to: {duplicates/dataset.shape[0]*100}%\"\n",
    "    )\n",
    "\n",
    "\n",
    "howmany_duplicates(dataset=dataset_total, column2check=\"NDD\")\n",
    "howmany_duplicates(dataset=train_delitos_validados)\n",
    "howmany_duplicates(dataset=train_delitos_seguimiento)\n",
    "howmany_duplicates(dataset=valid_delitos_validados)\n",
    "howmany_duplicates(dataset=valid_delitos_seguimiento)\n",
    "howmany_duplicates(dataset=test_delitos_validados)\n",
    "howmany_duplicates(dataset=test_delitos_seguimiento)"
   ]
  },
  {
   "cell_type": "code",
   "execution_count": 54,
   "metadata": {},
   "outputs": [],
   "source": [
    "train_delitos_validados_huggingface = train_delitos_validados[[\"relato\", \"labels\"]]\n",
    "valid_delitos_validados_huggingface = valid_delitos_validados[[\"relato\", \"labels\"]]\n",
    "test_delitos_validados_huggingface = test_delitos_validados[[\"relato\", \"labels\"]]\n",
    "train_delitos_seguimiento_huggingface = train_delitos_seguimiento[[\"relato\", \"labels\"]]\n",
    "valid_delitos_seguimiento_huggingface = valid_delitos_seguimiento[[\"relato\", \"labels\"]]\n",
    "test_delitos_seguimiento_huggingface = test_delitos_seguimiento[[\"relato\", \"labels\"]]\n",
    "# train_df_huggingface = train_df_out[['relato', 'labels']]\n",
    "# test_df_huggingface = test_df[['relato', 'labels']]\n",
    "# valid_df_huggingface = valid_df[['relato', 'labels']]"
   ]
  },
  {
   "cell_type": "code",
   "execution_count": 56,
   "metadata": {},
   "outputs": [
    {
     "name": "stdout",
     "output_type": "stream",
     "text": [
      "(807468, 2) (807468, 2)\n",
      "(201867, 2) (201867, 2)\n",
      "(100000, 2) (100000, 2)\n"
     ]
    }
   ],
   "source": [
    "print(\n",
    "    train_delitos_seguimiento_huggingface.shape,\n",
    "    train_delitos_validados_huggingface.shape,\n",
    ")\n",
    "print(\n",
    "    valid_delitos_seguimiento_huggingface.shape,\n",
    "    valid_delitos_validados_huggingface.shape,\n",
    ")\n",
    "print(\n",
    "    test_delitos_seguimiento_huggingface.shape, test_delitos_validados_huggingface.shape\n",
    ")"
   ]
  },
  {
   "cell_type": "code",
   "execution_count": 59,
   "metadata": {},
   "outputs": [
    {
     "data": {
      "text/html": [
       "<div>\n",
       "<style scoped>\n",
       "    .dataframe tbody tr th:only-of-type {\n",
       "        vertical-align: middle;\n",
       "    }\n",
       "\n",
       "    .dataframe tbody tr th {\n",
       "        vertical-align: top;\n",
       "    }\n",
       "\n",
       "    .dataframe thead th {\n",
       "        text-align: right;\n",
       "    }\n",
       "</style>\n",
       "<table border=\"1\" class=\"dataframe\">\n",
       "  <thead>\n",
       "    <tr style=\"text-align: right;\">\n",
       "      <th></th>\n",
       "      <th>relato</th>\n",
       "      <th>labels</th>\n",
       "    </tr>\n",
       "  </thead>\n",
       "  <tbody>\n",
       "    <tr>\n",
       "      <th>807468</th>\n",
       "      <td>el casos r fiscal que el día 24 06 2019 a las ...</td>\n",
       "      <td>ROBO A PERSONAS</td>\n",
       "    </tr>\n",
       "    <tr>\n",
       "      <th>807469</th>\n",
       "      <td>es el caso señor fiscal que en el día y hora i...</td>\n",
       "      <td>ROBO A PERSONAS</td>\n",
       "    </tr>\n",
       "    <tr>\n",
       "      <th>807470</th>\n",
       "      <td>es el caso señor fiscal que el 22 de septiembr...</td>\n",
       "      <td>ROBO A PERSONAS</td>\n",
       "    </tr>\n",
       "    <tr>\n",
       "      <th>807471</th>\n",
       "      <td>señor fiscal el dia miercoles 12 de mayo del 2...</td>\n",
       "      <td>ROBO A PERSONAS</td>\n",
       "    </tr>\n",
       "    <tr>\n",
       "      <th>807472</th>\n",
       "      <td>el día 25 de septiembre del 2018 a eso de las ...</td>\n",
       "      <td>ROBO A DOMICILIO</td>\n",
       "    </tr>\n",
       "  </tbody>\n",
       "</table>\n",
       "</div>"
      ],
      "text/plain": [
       "                                                   relato            labels\n",
       "807468  el casos r fiscal que el día 24 06 2019 a las ...   ROBO A PERSONAS\n",
       "807469  es el caso señor fiscal que en el día y hora i...   ROBO A PERSONAS\n",
       "807470  es el caso señor fiscal que el 22 de septiembr...   ROBO A PERSONAS\n",
       "807471  señor fiscal el dia miercoles 12 de mayo del 2...   ROBO A PERSONAS\n",
       "807472  el día 25 de septiembre del 2018 a eso de las ...  ROBO A DOMICILIO"
      ]
     },
     "execution_count": 59,
     "metadata": {},
     "output_type": "execute_result"
    }
   ],
   "source": [
    "valid_delitos_validados_huggingface.head()"
   ]
  },
  {
   "cell_type": "code",
   "execution_count": 60,
   "metadata": {},
   "outputs": [
    {
     "data": {
      "text/html": [
       "<div>\n",
       "<style scoped>\n",
       "    .dataframe tbody tr th:only-of-type {\n",
       "        vertical-align: middle;\n",
       "    }\n",
       "\n",
       "    .dataframe tbody tr th {\n",
       "        vertical-align: top;\n",
       "    }\n",
       "\n",
       "    .dataframe thead th {\n",
       "        text-align: right;\n",
       "    }\n",
       "</style>\n",
       "<table border=\"1\" class=\"dataframe\">\n",
       "  <thead>\n",
       "    <tr style=\"text-align: right;\">\n",
       "      <th></th>\n",
       "      <th>relato</th>\n",
       "      <th>labels</th>\n",
       "    </tr>\n",
       "  </thead>\n",
       "  <tbody>\n",
       "    <tr>\n",
       "      <th>807468</th>\n",
       "      <td>el casos r fiscal que el día 24 06 2019 a las ...</td>\n",
       "      <td>ROBO A PERSONAS</td>\n",
       "    </tr>\n",
       "    <tr>\n",
       "      <th>807469</th>\n",
       "      <td>es el caso señor fiscal que en el día y hora i...</td>\n",
       "      <td>ROBO A PERSONAS</td>\n",
       "    </tr>\n",
       "    <tr>\n",
       "      <th>807470</th>\n",
       "      <td>es el caso señor fiscal que el 22 de septiembr...</td>\n",
       "      <td>ROBO A PERSONAS</td>\n",
       "    </tr>\n",
       "    <tr>\n",
       "      <th>807471</th>\n",
       "      <td>señor fiscal el dia miercoles 12 de mayo del 2...</td>\n",
       "      <td>ROBO A PERSONAS</td>\n",
       "    </tr>\n",
       "    <tr>\n",
       "      <th>807472</th>\n",
       "      <td>el día 25 de septiembre del 2018 a eso de las ...</td>\n",
       "      <td>ROBO A DOMICILIO</td>\n",
       "    </tr>\n",
       "  </tbody>\n",
       "</table>\n",
       "</div>"
      ],
      "text/plain": [
       "                                                   relato            labels\n",
       "807468  el casos r fiscal que el día 24 06 2019 a las ...   ROBO A PERSONAS\n",
       "807469  es el caso señor fiscal que en el día y hora i...   ROBO A PERSONAS\n",
       "807470  es el caso señor fiscal que el 22 de septiembr...   ROBO A PERSONAS\n",
       "807471  señor fiscal el dia miercoles 12 de mayo del 2...   ROBO A PERSONAS\n",
       "807472  el día 25 de septiembre del 2018 a eso de las ...  ROBO A DOMICILIO"
      ]
     },
     "execution_count": 60,
     "metadata": {},
     "output_type": "execute_result"
    }
   ],
   "source": [
    "valid_delitos_seguimiento_huggingface.head()"
   ]
  },
  {
   "cell_type": "code",
   "execution_count": 58,
   "metadata": {},
   "outputs": [],
   "source": [
    "# train_df_huggingface.to_csv(os.path.join(dir_root,'data/interim/trainsethugf.csv'), index=False)\n",
    "# test_df_huggingface.to_csv(os.path.join(dir_root,'data/interim/testsethugf.csv'), index=False)\n",
    "# valid_df_huggingface.to_csv(os.path.join(dir_root,'data/interim/validsethugf.csv'), index=False)\n",
    "train_delitos_validados_huggingface.to_csv(\n",
    "    os.path.join(dir_root, f\"data/interim/trainsethugf_delvalidados_{WHEN}.csv\"),\n",
    "    index=False,\n",
    ")\n",
    "test_delitos_validados_huggingface.to_csv(\n",
    "    os.path.join(dir_root, f\"data/interim/testsethugf_delvalidados_{WHEN}.csv\"),\n",
    "    index=False,\n",
    ")\n",
    "valid_delitos_validados_huggingface.to_csv(\n",
    "    os.path.join(dir_root, f\"data/interim/validsethugf_delvalidados_{WHEN}.csv\"),\n",
    "    index=False,\n",
    ")\n",
    "\n",
    "train_delitos_seguimiento_huggingface.to_csv(\n",
    "    os.path.join(dir_root, f\"data/interim/trainsethugf_delseguimiento_{WHEN}.csv\"),\n",
    "    index=False,\n",
    ")\n",
    "test_delitos_seguimiento_huggingface.to_csv(\n",
    "    os.path.join(dir_root, f\"data/interim/testsethugf_delseguimiento_{WHEN}.csv\"),\n",
    "    index=False,\n",
    ")\n",
    "valid_delitos_seguimiento_huggingface.to_csv(\n",
    "    os.path.join(dir_root, f\"data/interim/validsethugf_delseguimiento_{WHEN}.csv\"),\n",
    "    index=False,\n",
    ")"
   ]
  },
  {
   "cell_type": "markdown",
   "metadata": {},
   "source": [
    "## Saving to sql"
   ]
  },
  {
   "cell_type": "code",
   "execution_count": 62,
   "metadata": {},
   "outputs": [
    {
     "name": "stdout",
     "output_type": "stream",
     "text": [
      "conexion con base es: <sqlalchemy.engine.base.Connection object at 0x7f04b43ef3d0>\n",
      "conexion con base es: <sqlalchemy.engine.base.Connection object at 0x7f04b43eedd0>\n",
      "conexion con base es: <sqlalchemy.engine.base.Connection object at 0x7f04d56c7e50>\n"
     ]
    }
   ],
   "source": [
    "from src.utils import save_df_in_sql\n",
    "\n",
    "save_df_in_sql(\n",
    "    dataf=train_delitos_validados_huggingface,\n",
    "    database=\"machinelearning\",\n",
    "    name_table=\"train_delitos_validados_hf\",\n",
    ")\n",
    "\n",
    "save_df_in_sql(\n",
    "    dataf=valid_delitos_validados_huggingface,\n",
    "    database=\"machinelearning\",\n",
    "    name_table=\"valid_delitos_validados_hf\",\n",
    ")\n",
    "save_df_in_sql(\n",
    "    dataf=test_delitos_validados_huggingface,\n",
    "    database=\"machinelearning\",\n",
    "    name_table=\"test_delitos_validados_hf\",\n",
    ")"
   ]
  }
 ],
 "metadata": {
  "kernelspec": {
   "display_name": "Python 3.9.13 ('fge_dir')",
   "language": "python",
   "name": "python3"
  },
  "language_info": {
   "codemirror_mode": {
    "name": "ipython",
    "version": 3
   },
   "file_extension": ".py",
   "mimetype": "text/x-python",
   "name": "python",
   "nbconvert_exporter": "python",
   "pygments_lexer": "ipython3",
   "version": "3.10.6"
  },
  "orig_nbformat": 4,
  "vscode": {
   "interpreter": {
    "hash": "12406fe364dd4d60b986b146315bb946ade40332b21e913bca67dde5e61a5fa6"
   }
  }
 },
 "nbformat": 4,
 "nbformat_minor": 2
}
