{
 "cells": [
  {
   "cell_type": "markdown",
   "metadata": {},
   "source": [
    "## Dataset Formatter\n",
    "\n",
    "In this notebook the dataset is organized in training and test sets. However we have to be clear about how the dataset is to be used when training by using hugging face.\n",
    "\n",
    "The complete dataset contains 431698 samples with 12 characteristics that include the corresponding labels in one hot encoding.\n",
    "\n",
    "The dataset will be organized as follows:\n",
    "\n",
    "$\\mathcal{X}_{train}\\in \\mathcal{R}^{341698 \\times 12 } $\n",
    "\n",
    "$\\mathcal{X}_{test}\\in \\mathcal{R}^{90000 \\times 12 } $\n"
   ]
  },
  {
   "cell_type": "code",
   "execution_count": 2,
   "metadata": {},
   "outputs": [
    {
     "data": {
      "text/plain": [
       "'/home/falconiel/CodePrograms/clasificaion_robos_fge'"
      ]
     },
     "execution_count": 2,
     "metadata": {},
     "output_type": "execute_result"
    }
   ],
   "source": [
    "import pandas as pd\n",
    "import numpy as np\n",
    "import os\n",
    "dir_root = os.getcwd()\n",
    "dir_root\n"
   ]
  },
  {
   "cell_type": "code",
   "execution_count": 3,
   "metadata": {},
   "outputs": [
    {
     "data": {
      "text/html": [
       "<div>\n",
       "<style scoped>\n",
       "    .dataframe tbody tr th:only-of-type {\n",
       "        vertical-align: middle;\n",
       "    }\n",
       "\n",
       "    .dataframe tbody tr th {\n",
       "        vertical-align: top;\n",
       "    }\n",
       "\n",
       "    .dataframe thead th {\n",
       "        text-align: right;\n",
       "    }\n",
       "</style>\n",
       "<table border=\"1\" class=\"dataframe\">\n",
       "  <thead>\n",
       "    <tr style=\"text-align: right;\">\n",
       "      <th></th>\n",
       "      <th>NDD</th>\n",
       "      <th>RELATO</th>\n",
       "      <th>cantidad_palabras</th>\n",
       "      <th>Tipo_Delito_PJ</th>\n",
       "      <th>TARGET</th>\n",
       "      <th>LABELS_ROBO A DOMICILIO</th>\n",
       "      <th>LABELS_ROBO A PERSONAS</th>\n",
       "      <th>LABELS_ROBO A UNIDADES ECONOMICAS</th>\n",
       "      <th>LABELS_ROBO DE BIENES, ACCESORIOS Y AUTOPARTES DE VEHICULOS</th>\n",
       "      <th>LABELS_ROBO DE CARROS</th>\n",
       "      <th>LABELS_ROBO DE MOTOS</th>\n",
       "      <th>LABELS</th>\n",
       "    </tr>\n",
       "  </thead>\n",
       "  <tbody>\n",
       "    <tr>\n",
       "      <th>265587</th>\n",
       "      <td>130801816110410</td>\n",
       "      <td>es el caso señor fiscal que le día sabado 19 d...</td>\n",
       "      <td>72</td>\n",
       "      <td>ROBO</td>\n",
       "      <td>5</td>\n",
       "      <td>1</td>\n",
       "      <td>0</td>\n",
       "      <td>0</td>\n",
       "      <td>0</td>\n",
       "      <td>0</td>\n",
       "      <td>0</td>\n",
       "      <td>ROBO A DOMICILIO</td>\n",
       "    </tr>\n",
       "    <tr>\n",
       "      <th>164380</th>\n",
       "      <td>090101820063447</td>\n",
       "      <td>debo manifestar señor fiscal el 1 de mayo del ...</td>\n",
       "      <td>94</td>\n",
       "      <td>ROBO</td>\n",
       "      <td>4</td>\n",
       "      <td>0</td>\n",
       "      <td>0</td>\n",
       "      <td>0</td>\n",
       "      <td>1</td>\n",
       "      <td>0</td>\n",
       "      <td>0</td>\n",
       "      <td>ROBO DE BIENES, ACCESORIOS Y AUTOPARTES DE VEH...</td>\n",
       "    </tr>\n",
       "    <tr>\n",
       "      <th>116764</th>\n",
       "      <td>090101816126566</td>\n",
       "      <td>es el caso señor fiscal que el día 29 de dicie...</td>\n",
       "      <td>90</td>\n",
       "      <td>ROBO</td>\n",
       "      <td>6</td>\n",
       "      <td>0</td>\n",
       "      <td>1</td>\n",
       "      <td>0</td>\n",
       "      <td>0</td>\n",
       "      <td>0</td>\n",
       "      <td>0</td>\n",
       "      <td>ROBO A PERSONAS</td>\n",
       "    </tr>\n",
       "    <tr>\n",
       "      <th>4831</th>\n",
       "      <td>010101816030385</td>\n",
       "      <td>es el caso señor fiscal que mientras me dirigi...</td>\n",
       "      <td>126</td>\n",
       "      <td>ROBO</td>\n",
       "      <td>6</td>\n",
       "      <td>0</td>\n",
       "      <td>1</td>\n",
       "      <td>0</td>\n",
       "      <td>0</td>\n",
       "      <td>0</td>\n",
       "      <td>0</td>\n",
       "      <td>ROBO A PERSONAS</td>\n",
       "    </tr>\n",
       "    <tr>\n",
       "      <th>334809</th>\n",
       "      <td>170101817084461</td>\n",
       "      <td>señor fiscal los hoy desconocidos padre e hijo...</td>\n",
       "      <td>59</td>\n",
       "      <td>ROBO</td>\n",
       "      <td>5</td>\n",
       "      <td>1</td>\n",
       "      <td>0</td>\n",
       "      <td>0</td>\n",
       "      <td>0</td>\n",
       "      <td>0</td>\n",
       "      <td>0</td>\n",
       "      <td>ROBO A DOMICILIO</td>\n",
       "    </tr>\n",
       "  </tbody>\n",
       "</table>\n",
       "</div>"
      ],
      "text/plain": [
       "                    NDD                                             RELATO  \\\n",
       "265587  130801816110410  es el caso señor fiscal que le día sabado 19 d...   \n",
       "164380  090101820063447  debo manifestar señor fiscal el 1 de mayo del ...   \n",
       "116764  090101816126566  es el caso señor fiscal que el día 29 de dicie...   \n",
       "4831    010101816030385  es el caso señor fiscal que mientras me dirigi...   \n",
       "334809  170101817084461  señor fiscal los hoy desconocidos padre e hijo...   \n",
       "\n",
       "        cantidad_palabras Tipo_Delito_PJ  TARGET  LABELS_ROBO A DOMICILIO  \\\n",
       "265587                 72           ROBO       5                        1   \n",
       "164380                 94           ROBO       4                        0   \n",
       "116764                 90           ROBO       6                        0   \n",
       "4831                  126           ROBO       6                        0   \n",
       "334809                 59           ROBO       5                        1   \n",
       "\n",
       "        LABELS_ROBO A PERSONAS  LABELS_ROBO A UNIDADES ECONOMICAS  \\\n",
       "265587                       0                                  0   \n",
       "164380                       0                                  0   \n",
       "116764                       1                                  0   \n",
       "4831                         1                                  0   \n",
       "334809                       0                                  0   \n",
       "\n",
       "        LABELS_ROBO DE BIENES, ACCESORIOS Y AUTOPARTES DE VEHICULOS  \\\n",
       "265587                                                  0             \n",
       "164380                                                  1             \n",
       "116764                                                  0             \n",
       "4831                                                    0             \n",
       "334809                                                  0             \n",
       "\n",
       "        LABELS_ROBO DE CARROS  LABELS_ROBO DE MOTOS  \\\n",
       "265587                      0                     0   \n",
       "164380                      0                     0   \n",
       "116764                      0                     0   \n",
       "4831                        0                     0   \n",
       "334809                      0                     0   \n",
       "\n",
       "                                                   LABELS  \n",
       "265587                                   ROBO A DOMICILIO  \n",
       "164380  ROBO DE BIENES, ACCESORIOS Y AUTOPARTES DE VEH...  \n",
       "116764                                    ROBO A PERSONAS  \n",
       "4831                                      ROBO A PERSONAS  \n",
       "334809                                   ROBO A DOMICILIO  "
      ]
     },
     "execution_count": 3,
     "metadata": {},
     "output_type": "execute_result"
    }
   ],
   "source": [
    "dataset_total = pd.read_csv(os.path.join(dir_root, 'data/raw/dataset.csv'), converters={'NDD':str})\n",
    "dataset_total.sample(5)"
   ]
  },
  {
   "cell_type": "markdown",
   "metadata": {},
   "source": [
    "Applying shuffle to the dataset in order to randomly order the samples in the data"
   ]
  },
  {
   "cell_type": "code",
   "execution_count": 4,
   "metadata": {},
   "outputs": [
    {
     "data": {
      "text/plain": [
       "((431669, 12), (431669, 13))"
      ]
     },
     "execution_count": 4,
     "metadata": {},
     "output_type": "execute_result"
    }
   ],
   "source": [
    "from sklearn.utils import shuffle\n",
    "dataset_total_shuffle = shuffle(dataset_total, random_state=42)\n",
    "dataset_total_shuffle.reset_index(inplace=True)\n",
    "dataset_total.shape, dataset_total_shuffle.shape"
   ]
  },
  {
   "cell_type": "code",
   "execution_count": 5,
   "metadata": {},
   "outputs": [],
   "source": [
    "TEST_SIZE = 90000\n",
    "TRAIN_SIZE = dataset_total.shape[0] - TEST_SIZE\n",
    "train_df = dataset_total_shuffle.iloc[0:TRAIN_SIZE, :]\n",
    "test_df = dataset_total_shuffle.iloc[TRAIN_SIZE:, :]\n",
    "# training_sentences = sentences[0:training_size]\n",
    "# testing_sentences = sentences[training_size:]\n",
    "# training_labels = labels[0:training_size]\n",
    "# testing_labels = labels[training_size:]"
   ]
  },
  {
   "cell_type": "code",
   "execution_count": 6,
   "metadata": {},
   "outputs": [
    {
     "data": {
      "text/html": [
       "<div>\n",
       "<style scoped>\n",
       "    .dataframe tbody tr th:only-of-type {\n",
       "        vertical-align: middle;\n",
       "    }\n",
       "\n",
       "    .dataframe tbody tr th {\n",
       "        vertical-align: top;\n",
       "    }\n",
       "\n",
       "    .dataframe thead th {\n",
       "        text-align: right;\n",
       "    }\n",
       "</style>\n",
       "<table border=\"1\" class=\"dataframe\">\n",
       "  <thead>\n",
       "    <tr style=\"text-align: right;\">\n",
       "      <th></th>\n",
       "      <th>index</th>\n",
       "      <th>NDD</th>\n",
       "      <th>RELATO</th>\n",
       "      <th>cantidad_palabras</th>\n",
       "      <th>Tipo_Delito_PJ</th>\n",
       "      <th>TARGET</th>\n",
       "      <th>LABELS_ROBO A DOMICILIO</th>\n",
       "      <th>LABELS_ROBO A PERSONAS</th>\n",
       "      <th>LABELS_ROBO A UNIDADES ECONOMICAS</th>\n",
       "      <th>LABELS_ROBO DE BIENES, ACCESORIOS Y AUTOPARTES DE VEHICULOS</th>\n",
       "      <th>LABELS_ROBO DE CARROS</th>\n",
       "      <th>LABELS_ROBO DE MOTOS</th>\n",
       "      <th>LABELS</th>\n",
       "    </tr>\n",
       "  </thead>\n",
       "  <tbody>\n",
       "    <tr>\n",
       "      <th>341664</th>\n",
       "      <td>359676</td>\n",
       "      <td>170101819072824</td>\n",
       "      <td>es el caso señor fiscal que el día y la hora i...</td>\n",
       "      <td>127</td>\n",
       "      <td>ROBO</td>\n",
       "      <td>3</td>\n",
       "      <td>0</td>\n",
       "      <td>0</td>\n",
       "      <td>0</td>\n",
       "      <td>0</td>\n",
       "      <td>0</td>\n",
       "      <td>1</td>\n",
       "      <td>ROBO DE MOTOS</td>\n",
       "    </tr>\n",
       "    <tr>\n",
       "      <th>341665</th>\n",
       "      <td>239510</td>\n",
       "      <td>120501816060052</td>\n",
       "      <td>es el caso señor fiscal que yo trabajo en la e...</td>\n",
       "      <td>195</td>\n",
       "      <td>ROBO</td>\n",
       "      <td>6</td>\n",
       "      <td>0</td>\n",
       "      <td>1</td>\n",
       "      <td>0</td>\n",
       "      <td>0</td>\n",
       "      <td>0</td>\n",
       "      <td>0</td>\n",
       "      <td>ROBO A PERSONAS</td>\n",
       "    </tr>\n",
       "    <tr>\n",
       "      <th>341666</th>\n",
       "      <td>423404</td>\n",
       "      <td>230201819030035</td>\n",
       "      <td>es el caso señor fiscal yo trabajo en creditos...</td>\n",
       "      <td>116</td>\n",
       "      <td>ROBO</td>\n",
       "      <td>6</td>\n",
       "      <td>0</td>\n",
       "      <td>1</td>\n",
       "      <td>0</td>\n",
       "      <td>0</td>\n",
       "      <td>0</td>\n",
       "      <td>0</td>\n",
       "      <td>ROBO A PERSONAS</td>\n",
       "    </tr>\n",
       "    <tr>\n",
       "      <th>341667</th>\n",
       "      <td>22529</td>\n",
       "      <td>040501814090008</td>\n",
       "      <td>es el caso señor fiscal que el dia jueves cuat...</td>\n",
       "      <td>73</td>\n",
       "      <td>ROBO</td>\n",
       "      <td>4</td>\n",
       "      <td>0</td>\n",
       "      <td>0</td>\n",
       "      <td>0</td>\n",
       "      <td>1</td>\n",
       "      <td>0</td>\n",
       "      <td>0</td>\n",
       "      <td>ROBO DE BIENES, ACCESORIOS Y AUTOPARTES DE VEH...</td>\n",
       "    </tr>\n",
       "    <tr>\n",
       "      <th>341668</th>\n",
       "      <td>27755</td>\n",
       "      <td>050501817050028</td>\n",
       "      <td>mediante parte policial se hace conocer que co...</td>\n",
       "      <td>73</td>\n",
       "      <td>ROBO</td>\n",
       "      <td>6</td>\n",
       "      <td>0</td>\n",
       "      <td>1</td>\n",
       "      <td>0</td>\n",
       "      <td>0</td>\n",
       "      <td>0</td>\n",
       "      <td>0</td>\n",
       "      <td>ROBO A PERSONAS</td>\n",
       "    </tr>\n",
       "  </tbody>\n",
       "</table>\n",
       "</div>"
      ],
      "text/plain": [
       "         index              NDD  \\\n",
       "341664  359676  170101819072824   \n",
       "341665  239510  120501816060052   \n",
       "341666  423404  230201819030035   \n",
       "341667   22529  040501814090008   \n",
       "341668   27755  050501817050028   \n",
       "\n",
       "                                                   RELATO  cantidad_palabras  \\\n",
       "341664  es el caso señor fiscal que el día y la hora i...                127   \n",
       "341665  es el caso señor fiscal que yo trabajo en la e...                195   \n",
       "341666  es el caso señor fiscal yo trabajo en creditos...                116   \n",
       "341667  es el caso señor fiscal que el dia jueves cuat...                 73   \n",
       "341668  mediante parte policial se hace conocer que co...                 73   \n",
       "\n",
       "       Tipo_Delito_PJ  TARGET  LABELS_ROBO A DOMICILIO  \\\n",
       "341664           ROBO       3                        0   \n",
       "341665           ROBO       6                        0   \n",
       "341666           ROBO       6                        0   \n",
       "341667           ROBO       4                        0   \n",
       "341668           ROBO       6                        0   \n",
       "\n",
       "        LABELS_ROBO A PERSONAS  LABELS_ROBO A UNIDADES ECONOMICAS  \\\n",
       "341664                       0                                  0   \n",
       "341665                       1                                  0   \n",
       "341666                       1                                  0   \n",
       "341667                       0                                  0   \n",
       "341668                       1                                  0   \n",
       "\n",
       "        LABELS_ROBO DE BIENES, ACCESORIOS Y AUTOPARTES DE VEHICULOS  \\\n",
       "341664                                                  0             \n",
       "341665                                                  0             \n",
       "341666                                                  0             \n",
       "341667                                                  1             \n",
       "341668                                                  0             \n",
       "\n",
       "        LABELS_ROBO DE CARROS  LABELS_ROBO DE MOTOS  \\\n",
       "341664                      0                     1   \n",
       "341665                      0                     0   \n",
       "341666                      0                     0   \n",
       "341667                      0                     0   \n",
       "341668                      0                     0   \n",
       "\n",
       "                                                   LABELS  \n",
       "341664                                      ROBO DE MOTOS  \n",
       "341665                                    ROBO A PERSONAS  \n",
       "341666                                    ROBO A PERSONAS  \n",
       "341667  ROBO DE BIENES, ACCESORIOS Y AUTOPARTES DE VEH...  \n",
       "341668                                    ROBO A PERSONAS  "
      ]
     },
     "execution_count": 6,
     "metadata": {},
     "output_type": "execute_result"
    }
   ],
   "source": [
    "train_df.tail()"
   ]
  },
  {
   "cell_type": "code",
   "execution_count": 7,
   "metadata": {},
   "outputs": [
    {
     "data": {
      "text/html": [
       "<div>\n",
       "<style scoped>\n",
       "    .dataframe tbody tr th:only-of-type {\n",
       "        vertical-align: middle;\n",
       "    }\n",
       "\n",
       "    .dataframe tbody tr th {\n",
       "        vertical-align: top;\n",
       "    }\n",
       "\n",
       "    .dataframe thead th {\n",
       "        text-align: right;\n",
       "    }\n",
       "</style>\n",
       "<table border=\"1\" class=\"dataframe\">\n",
       "  <thead>\n",
       "    <tr style=\"text-align: right;\">\n",
       "      <th></th>\n",
       "      <th>index</th>\n",
       "      <th>NDD</th>\n",
       "      <th>RELATO</th>\n",
       "      <th>cantidad_palabras</th>\n",
       "      <th>Tipo_Delito_PJ</th>\n",
       "      <th>TARGET</th>\n",
       "      <th>LABELS_ROBO A DOMICILIO</th>\n",
       "      <th>LABELS_ROBO A PERSONAS</th>\n",
       "      <th>LABELS_ROBO A UNIDADES ECONOMICAS</th>\n",
       "      <th>LABELS_ROBO DE BIENES, ACCESORIOS Y AUTOPARTES DE VEHICULOS</th>\n",
       "      <th>LABELS_ROBO DE CARROS</th>\n",
       "      <th>LABELS_ROBO DE MOTOS</th>\n",
       "      <th>LABELS</th>\n",
       "    </tr>\n",
       "  </thead>\n",
       "  <tbody>\n",
       "    <tr>\n",
       "      <th>341669</th>\n",
       "      <td>363568</td>\n",
       "      <td>170101819104159</td>\n",
       "      <td>el día de ayer 28 de octubre del 2019 a las 21...</td>\n",
       "      <td>186</td>\n",
       "      <td>ROBO</td>\n",
       "      <td>6</td>\n",
       "      <td>0</td>\n",
       "      <td>1</td>\n",
       "      <td>0</td>\n",
       "      <td>0</td>\n",
       "      <td>0</td>\n",
       "      <td>0</td>\n",
       "      <td>ROBO A PERSONAS</td>\n",
       "    </tr>\n",
       "    <tr>\n",
       "      <th>341670</th>\n",
       "      <td>172755</td>\n",
       "      <td>090101821030695</td>\n",
       "      <td>es el caso señor fiscal que el día 04 de marzo...</td>\n",
       "      <td>105</td>\n",
       "      <td>ROBO</td>\n",
       "      <td>2</td>\n",
       "      <td>0</td>\n",
       "      <td>0</td>\n",
       "      <td>0</td>\n",
       "      <td>0</td>\n",
       "      <td>1</td>\n",
       "      <td>0</td>\n",
       "      <td>ROBO DE CARROS</td>\n",
       "    </tr>\n",
       "    <tr>\n",
       "      <th>341671</th>\n",
       "      <td>414181</td>\n",
       "      <td>220101819100206</td>\n",
       "      <td>es señor fiscal que el dia sabado 26 de octubr...</td>\n",
       "      <td>73</td>\n",
       "      <td>ROBO</td>\n",
       "      <td>6</td>\n",
       "      <td>0</td>\n",
       "      <td>1</td>\n",
       "      <td>0</td>\n",
       "      <td>0</td>\n",
       "      <td>0</td>\n",
       "      <td>0</td>\n",
       "      <td>ROBO A PERSONAS</td>\n",
       "    </tr>\n",
       "    <tr>\n",
       "      <th>341672</th>\n",
       "      <td>142490</td>\n",
       "      <td>090101818110001</td>\n",
       "      <td>es el caso señor fiscal que el día de hoy 31 d...</td>\n",
       "      <td>111</td>\n",
       "      <td>ROBO</td>\n",
       "      <td>3</td>\n",
       "      <td>0</td>\n",
       "      <td>0</td>\n",
       "      <td>0</td>\n",
       "      <td>0</td>\n",
       "      <td>0</td>\n",
       "      <td>1</td>\n",
       "      <td>ROBO DE MOTOS</td>\n",
       "    </tr>\n",
       "    <tr>\n",
       "      <th>341673</th>\n",
       "      <td>72041</td>\n",
       "      <td>090101814031763</td>\n",
       "      <td>es el caso señor fiscal el dia 11 de marzo del...</td>\n",
       "      <td>43</td>\n",
       "      <td>ROBO</td>\n",
       "      <td>3</td>\n",
       "      <td>0</td>\n",
       "      <td>0</td>\n",
       "      <td>0</td>\n",
       "      <td>0</td>\n",
       "      <td>0</td>\n",
       "      <td>1</td>\n",
       "      <td>ROBO DE MOTOS</td>\n",
       "    </tr>\n",
       "  </tbody>\n",
       "</table>\n",
       "</div>"
      ],
      "text/plain": [
       "         index              NDD  \\\n",
       "341669  363568  170101819104159   \n",
       "341670  172755  090101821030695   \n",
       "341671  414181  220101819100206   \n",
       "341672  142490  090101818110001   \n",
       "341673   72041  090101814031763   \n",
       "\n",
       "                                                   RELATO  cantidad_palabras  \\\n",
       "341669  el día de ayer 28 de octubre del 2019 a las 21...                186   \n",
       "341670  es el caso señor fiscal que el día 04 de marzo...                105   \n",
       "341671  es señor fiscal que el dia sabado 26 de octubr...                 73   \n",
       "341672  es el caso señor fiscal que el día de hoy 31 d...                111   \n",
       "341673  es el caso señor fiscal el dia 11 de marzo del...                 43   \n",
       "\n",
       "       Tipo_Delito_PJ  TARGET  LABELS_ROBO A DOMICILIO  \\\n",
       "341669           ROBO       6                        0   \n",
       "341670           ROBO       2                        0   \n",
       "341671           ROBO       6                        0   \n",
       "341672           ROBO       3                        0   \n",
       "341673           ROBO       3                        0   \n",
       "\n",
       "        LABELS_ROBO A PERSONAS  LABELS_ROBO A UNIDADES ECONOMICAS  \\\n",
       "341669                       1                                  0   \n",
       "341670                       0                                  0   \n",
       "341671                       1                                  0   \n",
       "341672                       0                                  0   \n",
       "341673                       0                                  0   \n",
       "\n",
       "        LABELS_ROBO DE BIENES, ACCESORIOS Y AUTOPARTES DE VEHICULOS  \\\n",
       "341669                                                  0             \n",
       "341670                                                  0             \n",
       "341671                                                  0             \n",
       "341672                                                  0             \n",
       "341673                                                  0             \n",
       "\n",
       "        LABELS_ROBO DE CARROS  LABELS_ROBO DE MOTOS           LABELS  \n",
       "341669                      0                     0  ROBO A PERSONAS  \n",
       "341670                      1                     0   ROBO DE CARROS  \n",
       "341671                      0                     0  ROBO A PERSONAS  \n",
       "341672                      0                     1    ROBO DE MOTOS  \n",
       "341673                      0                     1    ROBO DE MOTOS  "
      ]
     },
     "execution_count": 7,
     "metadata": {},
     "output_type": "execute_result"
    }
   ],
   "source": [
    "test_df.head()"
   ]
  },
  {
   "cell_type": "code",
   "execution_count": 8,
   "metadata": {},
   "outputs": [
    {
     "data": {
      "text/plain": [
       "((341669, 13), (90000, 13))"
      ]
     },
     "execution_count": 8,
     "metadata": {},
     "output_type": "execute_result"
    }
   ],
   "source": [
    "train_df.shape, test_df.shape"
   ]
  },
  {
   "cell_type": "code",
   "execution_count": 9,
   "metadata": {},
   "outputs": [
    {
     "data": {
      "text/plain": [
       "<seaborn.axisgrid.FacetGrid at 0x7f80b41c1dc0>"
      ]
     },
     "execution_count": 9,
     "metadata": {},
     "output_type": "execute_result"
    },
    {
     "data": {
      "image/png": "[encoded data removed]",
      "text/plain": [
       "<Figure size 360x360 with 1 Axes>"
      ]
     },
     "metadata": {
      "needs_background": "light"
     },
     "output_type": "display_data"
    }
   ],
   "source": [
    "import seaborn as sns\n",
    "sns.set_style('dark')\n",
    "sns.displot(test_df.cantidad_palabras)"
   ]
  },
  {
   "cell_type": "code",
   "execution_count": 10,
   "metadata": {},
   "outputs": [
    {
     "name": "stderr",
     "output_type": "stream",
     "text": [
      "/home/falconiel/anaconda3/envs/fge_dir/lib/python3.9/site-packages/seaborn/distributions.py:2619: FutureWarning: `distplot` is a deprecated function and will be removed in a future version. Please adapt your code to use either `displot` (a figure-level function with similar flexibility) or `histplot` (an axes-level function for histograms).\n",
      "  warnings.warn(msg, FutureWarning)\n"
     ]
    },
    {
     "data": {
      "text/plain": [
       "<AxesSubplot:xlabel='cantidad_palabras', ylabel='Density'>"
      ]
     },
     "execution_count": 10,
     "metadata": {},
     "output_type": "execute_result"
    },
    {
     "data": {
      "image/png": "[encoded data removed]",
      "text/plain": [
       "<Figure size 640x480 with 1 Axes>"
      ]
     },
     "metadata": {},
     "output_type": "display_data"
    }
   ],
   "source": [
    "sns.distplot(train_df.cantidad_palabras)"
   ]
  },
  {
   "cell_type": "code",
   "execution_count": 11,
   "metadata": {},
   "outputs": [],
   "source": [
    "train_df.to_csv(os.path.join(dir_root,'data/processed/trainset.csv'), index=False)\n",
    "test_df.to_csv(os.path.join(dir_root,'data/processed/testset.csv'), index=False)"
   ]
  }
 ],
 "metadata": {
  "kernelspec": {
   "display_name": "Python 3.9.13 ('fge_dir')",
   "language": "python",
   "name": "python3"
  },
  "language_info": {
   "codemirror_mode": {
    "name": "ipython",
    "version": 3
   },
   "file_extension": ".py",
   "mimetype": "text/x-python",
   "name": "python",
   "nbconvert_exporter": "python",
   "pygments_lexer": "ipython3",
   "version": "3.9.13"
  },
  "orig_nbformat": 4,
  "vscode": {
   "interpreter": {
    "hash": "12406fe364dd4d60b986b146315bb946ade40332b21e913bca67dde5e61a5fa6"
   }
  }
 },
 "nbformat": 4,
 "nbformat_minor": 2
}
