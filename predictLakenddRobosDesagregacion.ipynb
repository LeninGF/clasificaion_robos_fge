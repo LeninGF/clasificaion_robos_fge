{
 "cells": [
  {
   "attachments": {},
   "cell_type": "markdown",
   "metadata": {},
   "source": [
    "## Predicción de Desagregación de Robos en Lakendd\n",
    "\n",
    "Coder: LeninGF\n",
    "Date: 2023-03-16\n",
    "\n",
    "Objetivos:\n",
    "\n",
    "* Predecir la desagregación de validados y seguimiento para un archivo obtenido desde lakendd"
   ]
  },
  {
   "cell_type": "code",
   "execution_count": 1,
   "metadata": {},
   "outputs": [
    {
     "data": {
      "text/plain": [
       "(14656, 2)"
      ]
     },
     "execution_count": 1,
     "metadata": {},
     "output_type": "execute_result"
    }
   ],
   "source": [
    "import pandas as pd\n",
    "import os\n",
    "# file_path_org=os.path.join(os.getcwd(), 'data/raw/requests/REPORTE_DESI_LAKENDD2_RobosAutosVehiculos.csv')\n",
    "# file_path_org=os.path.join(os.getcwd(), 'data/raw/requests/robos_enero_julio.csv')\n",
    "file_path_org=os.path.join(os.getcwd(), 'data/raw/requests/REPORTE_DESI_LAKENDD2_RobosSamborondon.csv')\n",
    "# xtest = pd.read_csv(file_path_org, parse_dates=['f_FECHA_PS'], converters={'d_NDD':str})\n",
    "# xtest = pd.read_csv(file_path_org, converters={'NDD':str})\n",
    "xtest = pd.read_csv(file_path_org, converters={'d_NDD':str})\n",
    "# xtest.rename(columns = {'NDD':'d_NDD'}, inplace=True)\n",
    "xtest.shape"
   ]
  },
  {
   "attachments": {},
   "cell_type": "markdown",
   "metadata": {},
   "source": [
    "Obteniendo los relatos"
   ]
  },
  {
   "cell_type": "code",
   "execution_count": 2,
   "metadata": {},
   "outputs": [
    {
     "name": "stderr",
     "output_type": "stream",
     "text": [
      "2023-10-23 15:12:17.518999: I tensorflow/core/platform/cpu_feature_guard.cc:193] This TensorFlow binary is optimized with oneAPI Deep Neural Network Library (oneDNN) to use the following CPU instructions in performance-critical operations:  SSE4.1 SSE4.2 AVX AVX2 FMA\n",
      "To enable them in other operations, rebuild TensorFlow with the appropriate compiler flags.\n"
     ]
    },
    {
     "name": "stdout",
     "output_type": "stream",
     "text": [
      "conectando con big data database....\n",
      "<sqlalchemy.engine.base.Connection object at 0x7f3f413b2710>\n"
     ]
    },
    {
     "ename": "AttributeError",
     "evalue": "'DataFrame' object has no attribute 'd_NDD'",
     "output_type": "error",
     "traceback": [
      "\u001b[0;31m---------------------------------------------------------------------------\u001b[0m",
      "\u001b[0;31mAttributeError\u001b[0m                            Traceback (most recent call last)",
      "\u001b[1;32m/home/falconiel/CodePrograms/clasificaion_robos_fge/predictLakenddRobosDesagregacion.ipynb Cell 4\u001b[0m in \u001b[0;36m5\n\u001b[1;32m      <a href='vscode-notebook-cell:/home/falconiel/CodePrograms/clasificaion_robos_fge/predictLakenddRobosDesagregacion.ipynb#W3sZmlsZQ%3D%3D?line=2'>3</a>\u001b[0m \u001b[39mfrom\u001b[39;00m \u001b[39msrc\u001b[39;00m\u001b[39m.\u001b[39;00m\u001b[39mutils\u001b[39;00m \u001b[39mimport\u001b[39;00m extraer_relato, conectar_sql\n\u001b[1;32m      <a href='vscode-notebook-cell:/home/falconiel/CodePrograms/clasificaion_robos_fge/predictLakenddRobosDesagregacion.ipynb#W3sZmlsZQ%3D%3D?line=3'>4</a>\u001b[0m conx \u001b[39m=\u001b[39m conectar_sql()\n\u001b[0;32m----> <a href='vscode-notebook-cell:/home/falconiel/CodePrograms/clasificaion_robos_fge/predictLakenddRobosDesagregacion.ipynb#W3sZmlsZQ%3D%3D?line=4'>5</a>\u001b[0m relatos_siaf \u001b[39m=\u001b[39m extraer_relato(sql_connection\u001b[39m=\u001b[39mconx, lista_ndds\u001b[39m=\u001b[39m\u001b[39mlist\u001b[39m(\u001b[39mset\u001b[39m(xtest\u001b[39m.\u001b[39;49md_NDD\u001b[39m.\u001b[39mto_list())))\n\u001b[1;32m      <a href='vscode-notebook-cell:/home/falconiel/CodePrograms/clasificaion_robos_fge/predictLakenddRobosDesagregacion.ipynb#W3sZmlsZQ%3D%3D?line=5'>6</a>\u001b[0m relatos_siaf\u001b[39m.\u001b[39mshape\n",
      "File \u001b[0;32m~/anaconda3/envs/mlenv/lib/python3.10/site-packages/pandas/core/generic.py:5487\u001b[0m, in \u001b[0;36mNDFrame.__getattr__\u001b[0;34m(self, name)\u001b[0m\n\u001b[1;32m   5480\u001b[0m \u001b[39mif\u001b[39;00m (\n\u001b[1;32m   5481\u001b[0m     name \u001b[39mnot\u001b[39;00m \u001b[39min\u001b[39;00m \u001b[39mself\u001b[39m\u001b[39m.\u001b[39m_internal_names_set\n\u001b[1;32m   5482\u001b[0m     \u001b[39mand\u001b[39;00m name \u001b[39mnot\u001b[39;00m \u001b[39min\u001b[39;00m \u001b[39mself\u001b[39m\u001b[39m.\u001b[39m_metadata\n\u001b[1;32m   5483\u001b[0m     \u001b[39mand\u001b[39;00m name \u001b[39mnot\u001b[39;00m \u001b[39min\u001b[39;00m \u001b[39mself\u001b[39m\u001b[39m.\u001b[39m_accessors\n\u001b[1;32m   5484\u001b[0m     \u001b[39mand\u001b[39;00m \u001b[39mself\u001b[39m\u001b[39m.\u001b[39m_info_axis\u001b[39m.\u001b[39m_can_hold_identifiers_and_holds_name(name)\n\u001b[1;32m   5485\u001b[0m ):\n\u001b[1;32m   5486\u001b[0m     \u001b[39mreturn\u001b[39;00m \u001b[39mself\u001b[39m[name]\n\u001b[0;32m-> 5487\u001b[0m \u001b[39mreturn\u001b[39;00m \u001b[39mobject\u001b[39;49m\u001b[39m.\u001b[39;49m\u001b[39m__getattribute__\u001b[39;49m(\u001b[39mself\u001b[39;49m, name)\n",
      "\u001b[0;31mAttributeError\u001b[0m: 'DataFrame' object has no attribute 'd_NDD'"
     ]
    }
   ],
   "source": [
    "import html\n",
    "from sqlalchemy import text, create_engine\n",
    "from src.utils import extraer_relato, conectar_sql\n",
    "conx = conectar_sql()\n",
    "relatos_siaf = extraer_relato(sql_connection=conx, lista_ndds=list(set(xtest.d_NDD.to_list())))\n",
    "relatos_siaf.shape"
   ]
  },
  {
   "cell_type": "code",
   "execution_count": 3,
   "metadata": {},
   "outputs": [],
   "source": [
    "relatos_siaf.rename(columns={'RELATO':'d_RELATO_SIAF', 'NDD': 'd_NDD'}, inplace=True)"
   ]
  },
  {
   "cell_type": "code",
   "execution_count": 4,
   "metadata": {},
   "outputs": [
    {
     "name": "stdout",
     "output_type": "stream",
     "text": [
      "(454, 44)\n"
     ]
    },
    {
     "data": {
      "text/plain": [
       "(454, 45)"
      ]
     },
     "execution_count": 4,
     "metadata": {},
     "output_type": "execute_result"
    }
   ],
   "source": [
    "print(xtest.shape)\n",
    "xtest = pd.merge(xtest, relatos_siaf, on='d_NDD', how='left')\n",
    "xtest.shape"
   ]
  },
  {
   "attachments": {},
   "cell_type": "markdown",
   "metadata": {},
   "source": [
    "Dando formato al texto"
   ]
  },
  {
   "cell_type": "code",
   "execution_count": 5,
   "metadata": {},
   "outputs": [],
   "source": [
    "from src.utils import format_crimestory\n",
    "format_crimestory(relato_label='d_RELATO_SIAF', dataf=xtest)\n"
   ]
  },
  {
   "attachments": {},
   "cell_type": "markdown",
   "metadata": {},
   "source": [
    "Contando las palabras"
   ]
  },
  {
   "cell_type": "code",
   "execution_count": 6,
   "metadata": {},
   "outputs": [],
   "source": [
    "from src.utils import words_qty\n",
    "words_qty(dataf=xtest, relato_label='d_RELATO_SIAF')"
   ]
  },
  {
   "cell_type": "code",
   "execution_count": 7,
   "metadata": {},
   "outputs": [
    {
     "data": {
      "text/plain": [
       "<AxesSubplot: >"
      ]
     },
     "execution_count": 7,
     "metadata": {},
     "output_type": "execute_result"
    },
    {
     "data": {
      "image/png": "[encoded data removed]",
      "text/plain": [
       "<Figure size 640x480 with 1 Axes>"
      ]
     },
     "metadata": {},
     "output_type": "display_data"
    }
   ],
   "source": [
    "xtest.d_CANTIDAD_PALABRAS.hist(bins=100)"
   ]
  },
  {
   "cell_type": "code",
   "execution_count": 8,
   "metadata": {},
   "outputs": [
    {
     "data": {
      "text/plain": [
       "<AxesSubplot: >"
      ]
     },
     "execution_count": 8,
     "metadata": {},
     "output_type": "execute_result"
    },
    {
     "data": {
      "image/png": "[encoded data removed]",
      "text/plain": [
       "<Figure size 640x480 with 1 Axes>"
      ]
     },
     "metadata": {},
     "output_type": "display_data"
    }
   ],
   "source": [
    "xtest.d_CANTIDAD_PALABRAS.plot.box()"
   ]
  },
  {
   "cell_type": "code",
   "execution_count": 9,
   "metadata": {},
   "outputs": [
    {
     "data": {
      "text/plain": [
       "count    454.000000\n",
       "mean     119.264317\n",
       "std       99.189233\n",
       "min        2.000000\n",
       "25%       33.750000\n",
       "50%      103.000000\n",
       "75%      164.750000\n",
       "max      623.000000\n",
       "Name: d_CANTIDAD_PALABRAS, dtype: float64"
      ]
     },
     "execution_count": 9,
     "metadata": {},
     "output_type": "execute_result"
    }
   ],
   "source": [
    "xtest.d_CANTIDAD_PALABRAS.describe().transpose()"
   ]
  },
  {
   "cell_type": "code",
   "execution_count": 10,
   "metadata": {},
   "outputs": [],
   "source": [
    "# xtest.to_csv('data/interim/delitosRobosAutosconRelato.csv')\n",
    "# xtest.to_csv('data/interim/delitosRobosLaDefensaEspaciosAcuaticos.csv')"
   ]
  },
  {
   "attachments": {},
   "cell_type": "markdown",
   "metadata": {},
   "source": [
    "## Cargando Modelo de Machine Learning"
   ]
  },
  {
   "cell_type": "code",
   "execution_count": 10,
   "metadata": {},
   "outputs": [
    {
     "name": "stderr",
     "output_type": "stream",
     "text": [
      "2023-09-28 09:00:47.059130: I tensorflow/core/platform/cpu_feature_guard.cc:193] This TensorFlow binary is optimized with oneAPI Deep Neural Network Library (oneDNN) to use the following CPU instructions in performance-critical operations:  SSE4.1 SSE4.2 AVX AVX2 FMA\n",
      "To enable them in other operations, rebuild TensorFlow with the appropriate compiler flags.\n",
      "2023-09-28 09:00:47.063254: I tensorflow/core/common_runtime/process_util.cc:146] Creating new thread pool with default inter op setting: 2. Tune using inter_op_parallelism_threads for best performance.\n",
      "All model checkpoint layers were used when initializing TFDistilBertForSequenceClassification.\n",
      "\n",
      "All the layers of TFDistilBertForSequenceClassification were initialized from the model checkpoint at /home/falconiel/ML_Models/robbery_tf20221113.\n",
      "If your task is similar to the task the model of the checkpoint was trained on, you can already use TFDistilBertForSequenceClassification for predictions without further training.\n"
     ]
    }
   ],
   "source": [
    "from src.utils import load_text_classification_model\n",
    "PATH_MODEL_SEGUIMIENTOS = '/home/falconiel/ML_Models/robbery_tf20221113'\n",
    "PATH_MODEL_VALIDADOS = '/home/falconiel/ML_Models/robbery_tf20230213'\n",
    "model_ckpt = \"distilbert-base-multilingual-cased\"\n",
    "SEQ_LEN = 300\n",
    "THRESHOLD_WORDS_QTY = 50\n",
    "\n",
    "modelo_delitos_seguimiento = load_text_classification_model(path2model=PATH_MODEL_SEGUIMIENTOS,\n",
    "                                                            seq_len=SEQ_LEN,\n",
    "                                                            threshold_words_qty=THRESHOLD_WORDS_QTY)"
   ]
  },
  {
   "attachments": {},
   "cell_type": "markdown",
   "metadata": {},
   "source": [
    "Realizando la predicción sobre el relato de los hechos"
   ]
  },
  {
   "cell_type": "code",
   "execution_count": 11,
   "metadata": {},
   "outputs": [],
   "source": [
    "from src.utils import predict_text_class\n",
    "predict_text_class(dataf=xtest,\n",
    "                    model=modelo_delitos_seguimiento,\n",
    "                    label_relato='d_RELATO_SIAF',\n",
    "                    label_name='d_DELITOS_SEGUIMIENTO',\n",
    "                    words_qty_label='d_CANTIDAD_PALABRAS',\n",
    "                    threshold_words_qty=THRESHOLD_WORDS_QTY)"
   ]
  },
  {
   "cell_type": "code",
   "execution_count": 12,
   "metadata": {},
   "outputs": [
    {
     "name": "stderr",
     "output_type": "stream",
     "text": [
      "Some layers from the model checkpoint at /home/falconiel/ML_Models/robbery_tf20230213 were not used when initializing TFDistilBertForSequenceClassification: ['dropout_19']\n",
      "- This IS expected if you are initializing TFDistilBertForSequenceClassification from the checkpoint of a model trained on another task or with another architecture (e.g. initializing a BertForSequenceClassification model from a BertForPreTraining model).\n",
      "- This IS NOT expected if you are initializing TFDistilBertForSequenceClassification from the checkpoint of a model that you expect to be exactly identical (initializing a BertForSequenceClassification model from a BertForSequenceClassification model).\n",
      "Some layers of TFDistilBertForSequenceClassification were not initialized from the model checkpoint at /home/falconiel/ML_Models/robbery_tf20230213 and are newly initialized: ['dropout_39']\n",
      "You should probably TRAIN this model on a down-stream task to be able to use it for predictions and inference.\n"
     ]
    }
   ],
   "source": [
    "modelo_delitos_validados = load_text_classification_model(path2model=PATH_MODEL_VALIDADOS,\n",
    "                                                            seq_len=SEQ_LEN,\n",
    "                                                            threshold_words_qty=THRESHOLD_WORDS_QTY)"
   ]
  },
  {
   "cell_type": "code",
   "execution_count": 13,
   "metadata": {},
   "outputs": [],
   "source": [
    "from src.utils import predict_text_class\n",
    "predict_text_class(dataf=xtest,\n",
    "                    model=modelo_delitos_validados,\n",
    "                    label_relato='d_RELATO_SIAF',\n",
    "                    label_name='d_DELITOS_VALIDADOS',\n",
    "                    words_qty_label='d_CANTIDAD_PALABRAS',\n",
    "                    threshold_words_qty=THRESHOLD_WORDS_QTY)"
   ]
  },
  {
   "cell_type": "code",
   "execution_count": 14,
   "metadata": {},
   "outputs": [],
   "source": [
    "xtest[\"d_CHECK\"] = xtest.apply(lambda x: \"ok\" if x['d_DELITOS_SEGUIMIENTO']==x['d_DELITOS_VALIDADOS'] else \"CHECK\", axis=1)"
   ]
  },
  {
   "cell_type": "code",
   "execution_count": 15,
   "metadata": {},
   "outputs": [
    {
     "data": {
      "text/plain": [
       "Index(['f_FECHA_PS', 'd_FECHA_US', 'd_NDD', 'd_ANIO_PS', 'd_ANIO_US',\n",
       "       'd_FECHA_INCIDENTE', 'd_ANIO_INCIDENTE', 'd_MES_PS', 'd_MES_US',\n",
       "       'd_MES_INCIDENTE', 'd_ARTICULO', 'd_ARTICULO_CIRCUNSTANCIAL',\n",
       "       'd_DELITO', 'd_DELITO_CIRCUNSTANCIAL', 'd_ESTADO_PROCESAL',\n",
       "       'd_ETAPA_ACTUAL', 'd_PROVINCIA_US', 'd_PROVINCIA_INCIDENTE',\n",
       "       'd_CANTON_US', 'd_CANTON_INCIDENTE', 'd_TIPO_DELITO', 'd_ESTADO_NDD',\n",
       "       'd_DELITO_SECUENCIA', 'd_FECHA_ESTADO_PROCESAL', 'd_EDIFICIO_RECEPCION',\n",
       "       'd_EDIFICIO_US', 'd_FISCALIA', 'd_NOMBRE_FISCAL', 'd_CEDULA_FISCAL',\n",
       "       'd_TIPO_FLAGRANTE', 'd_COORDENADAS_INCIDENTE', 'd_PARROQUIA_INCIDENTE',\n",
       "       'd_BARRIO_INCIDENTE', 'd_ESPECIALIZACION_US', 'd_URB_RURAL_INCIDENTE',\n",
       "       'd_INVOLUCRADO_APREHENDIDO', 'd_INVOLUCRADO_DESAPARECIDO',\n",
       "       'd_INVOLUCRADO_DETENIDO', 'd_INVOLUCRADO_FALLECIDO',\n",
       "       'd_INVOLUCRADO_IMPUTADO', 'd_INVOLUCRADO_PROCESADO',\n",
       "       'd_INVOLUCRADO_SOSPECHOSO', 'd_INVOLUCRADO_VICTIMA',\n",
       "       'd_INVOLUCRADO_VICTIMARIO', 'd_RELATO_SIAF', 'd_CANTIDAD_PALABRAS',\n",
       "       'd_DELITOS_SEGUIMIENTO', 'd_DELITOS_SEGUIMIENTO_SCORE',\n",
       "       'd_DELITOS_VALIDADOS', 'd_DELITOS_VALIDADOS_SCORE', 'd_CHECK'],\n",
       "      dtype='object')"
      ]
     },
     "execution_count": 15,
     "metadata": {},
     "output_type": "execute_result"
    }
   ],
   "source": [
    "xtest.columns"
   ]
  },
  {
   "cell_type": "code",
   "execution_count": 16,
   "metadata": {},
   "outputs": [
    {
     "data": {
      "text/html": [
       "<div>\n",
       "<style scoped>\n",
       "    .dataframe tbody tr th:only-of-type {\n",
       "        vertical-align: middle;\n",
       "    }\n",
       "\n",
       "    .dataframe tbody tr th {\n",
       "        vertical-align: top;\n",
       "    }\n",
       "\n",
       "    .dataframe thead th {\n",
       "        text-align: right;\n",
       "    }\n",
       "</style>\n",
       "<table border=\"1\" class=\"dataframe\">\n",
       "  <thead>\n",
       "    <tr style=\"text-align: right;\">\n",
       "      <th></th>\n",
       "      <th>d_NDD</th>\n",
       "      <th>d_CANTIDAD_PALABRAS</th>\n",
       "      <th>d_DELITOS_SEGUIMIENTO</th>\n",
       "      <th>d_DELITOS_VALIDADOS</th>\n",
       "    </tr>\n",
       "  </thead>\n",
       "  <tbody>\n",
       "    <tr>\n",
       "      <th>428</th>\n",
       "      <td>091601822020079</td>\n",
       "      <td>42</td>\n",
       "      <td>N/A</td>\n",
       "      <td>N/A</td>\n",
       "    </tr>\n",
       "    <tr>\n",
       "      <th>11</th>\n",
       "      <td>091601823080068</td>\n",
       "      <td>110</td>\n",
       "      <td>ROBO A PERSONAS</td>\n",
       "      <td>ROBO A PERSONAS</td>\n",
       "    </tr>\n",
       "    <tr>\n",
       "      <th>237</th>\n",
       "      <td>091601822100108</td>\n",
       "      <td>179</td>\n",
       "      <td>ROBO A UNIDADES ECONOMICAS</td>\n",
       "      <td>ROBO A INSTITUCIONES EDUCATIVAS</td>\n",
       "    </tr>\n",
       "    <tr>\n",
       "      <th>349</th>\n",
       "      <td>091601822060028</td>\n",
       "      <td>22</td>\n",
       "      <td>N/A</td>\n",
       "      <td>N/A</td>\n",
       "    </tr>\n",
       "    <tr>\n",
       "      <th>229</th>\n",
       "      <td>091601822110022</td>\n",
       "      <td>244</td>\n",
       "      <td>ROBO A UNIDADES ECONOMICAS</td>\n",
       "      <td>ROBO A DOMICILIO</td>\n",
       "    </tr>\n",
       "  </tbody>\n",
       "</table>\n",
       "</div>"
      ],
      "text/plain": [
       "               d_NDD  d_CANTIDAD_PALABRAS       d_DELITOS_SEGUIMIENTO  \\\n",
       "428  091601822020079                   42                         N/A   \n",
       "11   091601823080068                  110             ROBO A PERSONAS   \n",
       "237  091601822100108                  179  ROBO A UNIDADES ECONOMICAS   \n",
       "349  091601822060028                   22                         N/A   \n",
       "229  091601822110022                  244  ROBO A UNIDADES ECONOMICAS   \n",
       "\n",
       "                 d_DELITOS_VALIDADOS  \n",
       "428                              N/A  \n",
       "11                   ROBO A PERSONAS  \n",
       "237  ROBO A INSTITUCIONES EDUCATIVAS  \n",
       "349                              N/A  \n",
       "229                 ROBO A DOMICILIO  "
      ]
     },
     "execution_count": 16,
     "metadata": {},
     "output_type": "execute_result"
    }
   ],
   "source": [
    "xtest[['d_NDD', 'd_CANTIDAD_PALABRAS', 'd_DELITOS_SEGUIMIENTO','d_DELITOS_VALIDADOS']].sample(5)"
   ]
  },
  {
   "cell_type": "code",
   "execution_count": 17,
   "metadata": {},
   "outputs": [
    {
     "data": {
      "text/plain": [
       "RangeIndex(start=0, stop=454, step=1)"
      ]
     },
     "execution_count": 17,
     "metadata": {},
     "output_type": "execute_result"
    }
   ],
   "source": [
    "xtest.reset_index(inplace=True)\n",
    "xtest.index"
   ]
  },
  {
   "cell_type": "code",
   "execution_count": 18,
   "metadata": {},
   "outputs": [
    {
     "name": "stdout",
     "output_type": "stream",
     "text": [
      "352\n",
      "señor fiscal el día 07 de abril del 2022 a eso de las 21h00 aproximadamente de las calles olmedo y eloy alfaro sector de la bahía de guayaquil cogí un taxi amarillo conjuntamente con mi hija de 18 años de edad para trasladarme a mi casa en durán en eso yo me he quedado dormido hasta que a la altura de la puntilla se subieron al taxi dos hombres desconocidos para robarnos apuntándonos con armas de fuego uno de ellos con la cacha de la pistola me dio golpes en mi cabeza dejándome inconsciente luego sustrayéndose mi celular samsung a30 recibo de pago del impuesto predial del puesto que yo tengo en la bahía recibo de pago de la credencial de trabajo y la tabla de amortización que me dio en la cooperativa de ahorro y crédito los andes latinos por un crédito que yo saqué hace pocos días asimismo se llevó dos teléfonos celulares de mi hija uno era samsung a51 y el otro ipod 8 también su cédula de ciudadanía papeleta de votación libre de ahorro de la cooperativa fernando daquilema tarjeta de débido de la misma cooperativa un certificado de haber realizado práctica otorgado por ecugenius s a además una funda de mercadería de prendas de vestir luego nos tenían secuestrados por un lapso de una hora y media aproximadamente en eso le obligó a mi hija que le diera la clave de tarjera para retirar el dinero en el cajero automático de la coop fernando daquilema por el valor de 30 dólares luego nos dejó abandonado atrás del cementerio general de durán sin embargo luego de 15 días de los hechos ocurridos recibí una llamada telefónica del 0963150461 manifestando que tengo aprobado un crédito a lo cual yo rechacé asimismo el día lunes 30 de mayo de 2022 mi esposa maría joaquina cepeda pilamunga recibe llamada del 0986538092 en la cual aparece registrado como manuel vélez pac quien ofreció un crédito de banco guayaquil de mil dólares y una tarjeta luego ella recibe vía whastsapp mensajes de audio manifestando que le anda buscando por mi casa para supuestamente entregarnos la tarjeta de eso tengo temor de que algo nos pase ya que mi esposa le di todos los datos personales asimismo pensamos que está mal utilizando esos datos para sacar algún crédito bancario por lo que desde ya deslindo toda nuestra responsabilidad por cualquier cosa que pueda pasar en el futuro por lo que presento esta denuncia ante su autoridad para las investigaciones correspondientes\n",
      "ROBO A PERSONAS 0.999854564666748\n"
     ]
    }
   ],
   "source": [
    "import numpy as np\n",
    "eval_idx = np.random.randint(xtest.index.start, xtest.index.stop)\n",
    "print(eval_idx)\n",
    "print(xtest.d_RELATO_SIAF.iloc[eval_idx])\n",
    "print(xtest.d_DELITOS_SEGUIMIENTO.iloc[eval_idx], xtest.d_DELITOS_SEGUIMIENTO_SCORE.iloc[eval_idx])"
   ]
  },
  {
   "cell_type": "code",
   "execution_count": 19,
   "metadata": {},
   "outputs": [],
   "source": [
    "output_name = file_path_org.split('/')[-1].split('.')[0]+'_Predicted.csv'\n",
    "xtest.to_csv('data/processed/'+output_name, index=False)"
   ]
  },
  {
   "cell_type": "code",
   "execution_count": 20,
   "metadata": {},
   "outputs": [
    {
     "data": {
      "text/plain": [
       "'REPORTE_DESI_LAKENDD2_RobosSamborondon_Predicted.csv'"
      ]
     },
     "execution_count": 20,
     "metadata": {},
     "output_type": "execute_result"
    }
   ],
   "source": [
    "output_name"
   ]
  }
 ],
 "metadata": {
  "kernelspec": {
   "display_name": "mlenv",
   "language": "python",
   "name": "python3"
  },
  "language_info": {
   "codemirror_mode": {
    "name": "ipython",
    "version": 3
   },
   "file_extension": ".py",
   "mimetype": "text/x-python",
   "name": "python",
   "nbconvert_exporter": "python",
   "pygments_lexer": "ipython3",
   "version": "3.10.6"
  },
  "orig_nbformat": 4,
  "vscode": {
   "interpreter": {
    "hash": "19afe7e3d01285359883e0bdfdef3b501ca09ac86b27552c0b451fa8cf9f255a"
   }
  }
 },
 "nbformat": 4,
 "nbformat_minor": 2
}
