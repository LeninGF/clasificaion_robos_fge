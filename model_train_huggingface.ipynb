{
 "cells": [
  {
   "cell_type": "markdown",
   "metadata": {},
   "source": [
    "## Model Training\n",
    "\n",
    "Transformers will be used to train the Machine Learning Model. It is possible due to complexity that this notebook will be trained in Google Colab and later download to this repo.\n",
    "\n"
   ]
  },
  {
   "cell_type": "code",
   "execution_count": 1,
   "metadata": {},
   "outputs": [
    {
     "name": "stderr",
     "output_type": "stream",
     "text": [
      "C:\\ProgramData\\Anaconda3\\envs\\tfenv\\lib\\site-packages\\tqdm\\auto.py:22: TqdmWarning: IProgress not found. Please update jupyter and ipywidgets. See https://ipywidgets.readthedocs.io/en/stable/user_install.html\n",
      "  from .autonotebook import tqdm as notebook_tqdm\n"
     ]
    },
    {
     "data": {
      "text/plain": [
       "'C:\\\\Users\\\\entea\\\\CodeProjects\\\\clasificaion_robos_fge'"
      ]
     },
     "execution_count": 1,
     "metadata": {},
     "output_type": "execute_result"
    }
   ],
   "source": [
    "import pandas as pd\n",
    "import numpy as np\n",
    "import os\n",
    "from datasets import load_dataset, Features, ClassLabel, Value\n",
    "dir_root = os.getcwd()\n",
    "dir_root"
   ]
  },
  {
   "cell_type": "markdown",
   "metadata": {},
   "source": [
    "We will be using Hugging Face load rutines in order to load data and processed it. There is somehow some things that I feel like a bit lost, because in some of the examples that I have checked on huggnif faces they are not using one hot encoding. In the end we have to build a multiclass clasification and the doubt I have is if I should use the one hot variables or should only use the hagging face. If this does not work I will have to test how the Youtube video stored the tensors in numpy format, hoping that all tokenization will be able to be run"
   ]
  },
  {
   "cell_type": "code",
   "execution_count": 2,
   "metadata": {},
   "outputs": [
    {
     "data": {
      "text/html": [
       "<div>\n",
       "<style scoped>\n",
       "    .dataframe tbody tr th:only-of-type {\n",
       "        vertical-align: middle;\n",
       "    }\n",
       "\n",
       "    .dataframe tbody tr th {\n",
       "        vertical-align: top;\n",
       "    }\n",
       "\n",
       "    .dataframe thead th {\n",
       "        text-align: right;\n",
       "    }\n",
       "</style>\n",
       "<table border=\"1\" class=\"dataframe\">\n",
       "  <thead>\n",
       "    <tr style=\"text-align: right;\">\n",
       "      <th></th>\n",
       "      <th>index</th>\n",
       "      <th>ndd</th>\n",
       "      <th>relato</th>\n",
       "      <th>cantidadPalabras</th>\n",
       "      <th>tipoDelitoPj</th>\n",
       "      <th>target</th>\n",
       "      <th>labelsRoboADomicilio</th>\n",
       "      <th>labelsRoboAPersonas</th>\n",
       "      <th>labelsRoboAUnidadesEconomicas</th>\n",
       "      <th>labelsRoboDeBienes,AccesoriosYAutopartesDeVehiculos</th>\n",
       "      <th>labelsRoboDeCarros</th>\n",
       "      <th>labelsRoboDeMotos</th>\n",
       "      <th>labels</th>\n",
       "    </tr>\n",
       "  </thead>\n",
       "  <tbody>\n",
       "    <tr>\n",
       "      <th>216932</th>\n",
       "      <td>303326</td>\n",
       "      <td>170101815063467</td>\n",
       "      <td>es el caso señor fiscal que en el dia y la hor...</td>\n",
       "      <td>60</td>\n",
       "      <td>ROBO</td>\n",
       "      <td>5</td>\n",
       "      <td>1</td>\n",
       "      <td>0</td>\n",
       "      <td>0</td>\n",
       "      <td>0</td>\n",
       "      <td>0</td>\n",
       "      <td>0</td>\n",
       "      <td>ROBO A DOMICILIO</td>\n",
       "    </tr>\n",
       "    <tr>\n",
       "      <th>268713</th>\n",
       "      <td>128316</td>\n",
       "      <td>90101817094965</td>\n",
       "      <td>es el caso señor fiscal que el día 20 de septi...</td>\n",
       "      <td>89</td>\n",
       "      <td>ROBO</td>\n",
       "      <td>6</td>\n",
       "      <td>0</td>\n",
       "      <td>1</td>\n",
       "      <td>0</td>\n",
       "      <td>0</td>\n",
       "      <td>0</td>\n",
       "      <td>0</td>\n",
       "      <td>ROBO A PERSONAS</td>\n",
       "    </tr>\n",
       "    <tr>\n",
       "      <th>157147</th>\n",
       "      <td>64012</td>\n",
       "      <td>80101821120123</td>\n",
       "      <td>sucede señor fiscal que día viernes 03 de dici...</td>\n",
       "      <td>99</td>\n",
       "      <td>ROBO</td>\n",
       "      <td>6</td>\n",
       "      <td>0</td>\n",
       "      <td>1</td>\n",
       "      <td>0</td>\n",
       "      <td>0</td>\n",
       "      <td>0</td>\n",
       "      <td>0</td>\n",
       "      <td>ROBO A PERSONAS</td>\n",
       "    </tr>\n",
       "    <tr>\n",
       "      <th>28015</th>\n",
       "      <td>168403</td>\n",
       "      <td>90101820104135</td>\n",
       "      <td>es el caso señor fiscal que el dia 4 de octubr...</td>\n",
       "      <td>91</td>\n",
       "      <td>ROBO</td>\n",
       "      <td>6</td>\n",
       "      <td>0</td>\n",
       "      <td>1</td>\n",
       "      <td>0</td>\n",
       "      <td>0</td>\n",
       "      <td>0</td>\n",
       "      <td>0</td>\n",
       "      <td>ROBO A PERSONAS</td>\n",
       "    </tr>\n",
       "    <tr>\n",
       "      <th>126101</th>\n",
       "      <td>223229</td>\n",
       "      <td>100101816030243</td>\n",
       "      <td>es el caso señor fiscal que el día y hora ates...</td>\n",
       "      <td>96</td>\n",
       "      <td>ROBO</td>\n",
       "      <td>5</td>\n",
       "      <td>1</td>\n",
       "      <td>0</td>\n",
       "      <td>0</td>\n",
       "      <td>0</td>\n",
       "      <td>0</td>\n",
       "      <td>0</td>\n",
       "      <td>ROBO A DOMICILIO</td>\n",
       "    </tr>\n",
       "  </tbody>\n",
       "</table>\n",
       "</div>"
      ],
      "text/plain": [
       "         index              ndd  \\\n",
       "216932  303326  170101815063467   \n",
       "268713  128316   90101817094965   \n",
       "157147   64012   80101821120123   \n",
       "28015   168403   90101820104135   \n",
       "126101  223229  100101816030243   \n",
       "\n",
       "                                                   relato  cantidadPalabras  \\\n",
       "216932  es el caso señor fiscal que en el dia y la hor...                60   \n",
       "268713  es el caso señor fiscal que el día 20 de septi...                89   \n",
       "157147  sucede señor fiscal que día viernes 03 de dici...                99   \n",
       "28015   es el caso señor fiscal que el dia 4 de octubr...                91   \n",
       "126101  es el caso señor fiscal que el día y hora ates...                96   \n",
       "\n",
       "       tipoDelitoPj  target  labelsRoboADomicilio  labelsRoboAPersonas  \\\n",
       "216932         ROBO       5                     1                    0   \n",
       "268713         ROBO       6                     0                    1   \n",
       "157147         ROBO       6                     0                    1   \n",
       "28015          ROBO       6                     0                    1   \n",
       "126101         ROBO       5                     1                    0   \n",
       "\n",
       "        labelsRoboAUnidadesEconomicas  \\\n",
       "216932                              0   \n",
       "268713                              0   \n",
       "157147                              0   \n",
       "28015                               0   \n",
       "126101                              0   \n",
       "\n",
       "        labelsRoboDeBienes,AccesoriosYAutopartesDeVehiculos  \\\n",
       "216932                                                  0     \n",
       "268713                                                  0     \n",
       "157147                                                  0     \n",
       "28015                                                   0     \n",
       "126101                                                  0     \n",
       "\n",
       "        labelsRoboDeCarros  labelsRoboDeMotos            labels  \n",
       "216932                   0                  0  ROBO A DOMICILIO  \n",
       "268713                   0                  0   ROBO A PERSONAS  \n",
       "157147                   0                  0   ROBO A PERSONAS  \n",
       "28015                    0                  0   ROBO A PERSONAS  \n",
       "126101                   0                  0  ROBO A DOMICILIO  "
      ]
     },
     "execution_count": 2,
     "metadata": {},
     "output_type": "execute_result"
    }
   ],
   "source": [
    "dataset_df = pd.read_csv(os.path.join(dir_root, 'data/interim/trainset.csv'), converters={'NDD':str})\n",
    "dataset_df.sample(5)"
   ]
  },
  {
   "cell_type": "code",
   "execution_count": 3,
   "metadata": {},
   "outputs": [],
   "source": [
    "labels_set = set(dataset_df.labels.to_list())"
   ]
  },
  {
   "cell_type": "code",
   "execution_count": 4,
   "metadata": {},
   "outputs": [
    {
     "name": "stderr",
     "output_type": "stream",
     "text": [
      "Using custom data configuration default-ba64d498e9ef90c9\n"
     ]
    },
    {
     "name": "stdout",
     "output_type": "stream",
     "text": [
      "Downloading and preparing dataset csv/default to C:\\Users\\entea\\.cache\\huggingface\\datasets\\csv\\default-ba64d498e9ef90c9\\0.0.0\\51cce309a08df9c4d82ffd9363bbe090bf173197fc01a71b034e8594995a1a58...\n"
     ]
    },
    {
     "name": "stderr",
     "output_type": "stream",
     "text": [
      "Downloading data files: 100%|██████████████████████████████████████████████████████████| 3/3 [00:00<00:00, 2998.07it/s]\n",
      "Extracting data files: 100%|████████████████████████████████████████████████████████████| 3/3 [00:00<00:00, 606.99it/s]\n",
      "                                 \r"
     ]
    },
    {
     "name": "stdout",
     "output_type": "stream",
     "text": [
      "Dataset csv downloaded and prepared to C:\\Users\\entea\\.cache\\huggingface\\datasets\\csv\\default-ba64d498e9ef90c9\\0.0.0\\51cce309a08df9c4d82ffd9363bbe090bf173197fc01a71b034e8594995a1a58. Subsequent calls will reuse this data.\n"
     ]
    },
    {
     "name": "stderr",
     "output_type": "stream",
     "text": [
      "100%|████████████████████████████████████████████████████████████████████████████████████| 3/3 [00:00<00:00, 61.09it/s]\n"
     ]
    }
   ],
   "source": [
    "traincsv = os.path.join(dir_root, 'data/interim/trainsethugf.csv')\n",
    "testcsv = os.path.join(dir_root, 'data/interim/testsethugf.csv')\n",
    "validcsv = os.path.join(dir_root, 'data/interim/validsethugf.csv')\n",
    "# class_names = [\"RoboADomicilio\", \"RoboAPersonas\", \"RoboAUnidadesEconomicas\", \"RoboDeBienesAccesoriosYAutoPartes\", \"RoboDeCarros\", \"RoboDeMotos\"]\n",
    "class_names = list(labels_set)\n",
    "robo_features = Features({'relato': Value('string'), 'labels': ClassLabel(names=class_names)})\n",
    "dataset = load_dataset(\"csv\", data_files={'train': traincsv, 'test': testcsv, 'validation':validcsv}, features=robo_features)"
   ]
  },
  {
   "cell_type": "code",
   "execution_count": 5,
   "metadata": {},
   "outputs": [
    {
     "data": {
      "text/plain": [
       "{'relato': 'es el caso señor fiscal que el día 22 de octubre del 2014 a las 20h40 aproximadamente en circunstancias en que deje estacionado mi camioneta de placas gmd0996 color blanco marca chevrolet de mi propiedad en la dirección antes mencionada al momento de ir por ella me encuentro con la novedad que no estaba se la habían robado en el interior de la camioneta ahí una arma de fuego revolver calibre 38 de fabricación nacional que pertenece a compañía armiled por lo expuesto señor fiscal solicito que se realicen las respectivas investigaciones es justicia',\n",
       " 'labels': 5}"
      ]
     },
     "execution_count": 5,
     "metadata": {},
     "output_type": "execute_result"
    }
   ],
   "source": [
    "dataset['train'][0]"
   ]
  },
  {
   "cell_type": "code",
   "execution_count": 6,
   "metadata": {},
   "outputs": [],
   "source": [
    "seqlen = dataset_df.relato.apply(lambda x: len(x.split()))"
   ]
  },
  {
   "cell_type": "markdown",
   "metadata": {},
   "source": [
    "Let us create an Histogram of the word count in Crime report"
   ]
  },
  {
   "cell_type": "code",
   "execution_count": 7,
   "metadata": {},
   "outputs": [
    {
     "name": "stderr",
     "output_type": "stream",
     "text": [
      "C:\\ProgramData\\Anaconda3\\envs\\tfenv\\lib\\site-packages\\seaborn\\distributions.py:2619: FutureWarning: `distplot` is a deprecated function and will be removed in a future version. Please adapt your code to use either `displot` (a figure-level function with similar flexibility) or `histplot` (an axes-level function for histograms).\n",
      "  warnings.warn(msg, FutureWarning)\n"
     ]
    },
    {
     "data": {
      "text/plain": [
       "<AxesSubplot:xlabel='relato', ylabel='Density'>"
      ]
     },
     "execution_count": 7,
     "metadata": {},
     "output_type": "execute_result"
    },
    {
     "data": {
      "image/png": "[encoded data removed]",
      "text/plain": [
       "<Figure size 1152x720 with 1 Axes>"
      ]
     },
     "metadata": {},
     "output_type": "display_data"
    }
   ],
   "source": [
    "import seaborn as sns\n",
    "import matplotlib.pyplot as plt\n",
    "sns.set_style('darkgrid')\n",
    "plt.figure(figsize=(16,10))\n",
    "sns.distplot(seqlen)"
   ]
  },
  {
   "cell_type": "markdown",
   "metadata": {},
   "source": [
    "In a example solved in https://www.youtube.com/watch?v=GYDFBfx8Ts8&t=498s, the length of the sequence was set to the maximum span of the distplot. This would imply to use a length sequence of 300. I think padding and trucate are used in consequence with this size so that all tensors in would have the same length. I think that if we chouse $SEQ_LEN<200$, those reports with values below 200 will be truncated (This is something that I need to understand when writing the paper). Now by choosing to use the maximum length, which appears to be somehow 300, there should be no truncation but padding to some of the records. Let us consider what is the maximum length of the Crime report"
   ]
  },
  {
   "cell_type": "code",
   "execution_count": 8,
   "metadata": {},
   "outputs": [
    {
     "data": {
      "text/plain": [
       "300"
      ]
     },
     "execution_count": 8,
     "metadata": {},
     "output_type": "execute_result"
    }
   ],
   "source": [
    "seqlen.max()"
   ]
  },
  {
   "cell_type": "code",
   "execution_count": 9,
   "metadata": {},
   "outputs": [
    {
     "data": {
      "text/plain": [
       "300"
      ]
     },
     "execution_count": 9,
     "metadata": {},
     "output_type": "execute_result"
    }
   ],
   "source": [
    "dataset_df.cantidadPalabras.max()"
   ]
  },
  {
   "cell_type": "markdown",
   "metadata": {},
   "source": [
    "We have already separated the original dataset in Train and Test. Because of that, we would split this train dataset in train and validation. Test set will be used at the end in order to proof the concept"
   ]
  },
  {
   "cell_type": "code",
   "execution_count": 10,
   "metadata": {},
   "outputs": [
    {
     "data": {
      "text/plain": [
       "Index(['index', 'ndd', 'relato', 'cantidadPalabras', 'tipoDelitoPj', 'target',\n",
       "       'labelsRoboADomicilio', 'labelsRoboAPersonas',\n",
       "       'labelsRoboAUnidadesEconomicas',\n",
       "       'labelsRoboDeBienes,AccesoriosYAutopartesDeVehiculos',\n",
       "       'labelsRoboDeCarros', 'labelsRoboDeMotos', 'labels'],\n",
       "      dtype='object')"
      ]
     },
     "execution_count": 10,
     "metadata": {},
     "output_type": "execute_result"
    }
   ],
   "source": [
    "dataset_df.columns"
   ]
  },
  {
   "cell_type": "code",
   "execution_count": 11,
   "metadata": {},
   "outputs": [],
   "source": [
    "# X_set = dataset_df.RELATO.to_list()\n",
    "# Y_set = dataset_df[['LABELS_ROBO A DOMICILIO', \n",
    "# 'LABELS_ROBO A PERSONAS',\n",
    "# 'LABELS_ROBO A UNIDADES ECONOMICAS',\n",
    "# 'LABELS_ROBO DE BIENES, ACCESORIOS Y AUTOPARTES DE VEHICULOS',\n",
    "# 'LABELS_ROBO DE CARROS',\n",
    "# 'LABELS_ROBO DE MOTOS']].to_numpy()"
   ]
  },
  {
   "cell_type": "code",
   "execution_count": 12,
   "metadata": {},
   "outputs": [],
   "source": [
    "# X_set.iloc[0,:], Y_set.iloc[0,:]"
   ]
  },
  {
   "cell_type": "code",
   "execution_count": 13,
   "metadata": {},
   "outputs": [],
   "source": [
    "# dataset_df.head()"
   ]
  },
  {
   "cell_type": "code",
   "execution_count": 14,
   "metadata": {},
   "outputs": [],
   "source": [
    "# Y_set[:5,:]"
   ]
  },
  {
   "cell_type": "code",
   "execution_count": 15,
   "metadata": {},
   "outputs": [],
   "source": [
    "# X_set[:5]"
   ]
  },
  {
   "cell_type": "code",
   "execution_count": 16,
   "metadata": {},
   "outputs": [],
   "source": [
    "# len(X_set), Y_set.shape"
   ]
  },
  {
   "cell_type": "markdown",
   "metadata": {},
   "source": [
    "Since the classification is of type Multicategorical, it is clear that:\n",
    "\n",
    "$\\mathbf{y} \\in\\mathcal{R}^6   $ corresponds to the labels of our set. The structure of $ \\mathbf{X} $ will depend on the tokenization process. \n",
    "\n",
    "Moreover there are possible two ways to test.\n",
    "\n",
    "1. The provided guide at https://huggingface.co/transformers/v3.2.0/custom_datasets.html, does not use attention masks. We could test first this approach.\n",
    "2. We could follow the lead of https://www.youtube.com/watch?v=GYDFBfx8Ts8&t=498s, and provide both input_ids and masks_ids\n",
    "3. We should compare how things go provided the classical approach by using count of words (wordvec, bag of words and others) And compare results.\n",
    "4. There is something that is not being considered in this approach and it is unbalanced data. We should think about a way of balancing data"
   ]
  },
  {
   "cell_type": "code",
   "execution_count": 17,
   "metadata": {},
   "outputs": [
    {
     "data": {
      "text/plain": [
       "<AxesSubplot:>"
      ]
     },
     "execution_count": 17,
     "metadata": {},
     "output_type": "execute_result"
    },
    {
     "data": {
      "image/png": "[encoded data removed]",
      "text/plain": [
       "<Figure size 432x288 with 1 Axes>"
      ]
     },
     "metadata": {},
     "output_type": "display_data"
    }
   ],
   "source": [
    "dataset_df.labels.value_counts().plot.barh()"
   ]
  },
  {
   "cell_type": "markdown",
   "metadata": {},
   "source": [
    "I think and interesting way of solving could by making an ensemble by distributing different samples in each **weak** learner. Eventhough it is not a weak learner because they are actually transformer-convnet based learners. \n",
    "\n",
    "Also, it must be noticed that we are going through fine tuning a pre-trained bert model. What would happen if we train it from scratch? would it be better?"
   ]
  },
  {
   "cell_type": "code",
   "execution_count": 18,
   "metadata": {},
   "outputs": [],
   "source": [
    "from transformers import DistilBertTokenizer, AutoTokenizer, DistilBertTokenizerFast\n",
    "# model_name = 'xlm-roberta-large'\n",
    "# model_name = 'bert-base-cased'\n",
    "# model_name = 'bert-base-multilingual-uncased-sentiment'\n",
    "model_name = 'distilbert-base-multilingual-cased'\n",
    "tokenizer = DistilBertTokenizerFast.from_pretrained(model_name)"
   ]
  },
  {
   "cell_type": "markdown",
   "metadata": {},
   "source": [
    "Testing tokenizer with any kind of content"
   ]
  },
  {
   "cell_type": "code",
   "execution_count": 19,
   "metadata": {},
   "outputs": [
    {
     "data": {
      "text/plain": [
       "{'input_ids': [101, 10125, 92923, 29833, 82834, 41275, 11403, 10196, 10153, 84977, 34065, 12022, 10738, 12361, 43861, 102], 'attention_mask': [1, 1, 1, 1, 1, 1, 1, 1, 1, 1, 1, 1, 1, 1, 1, 1]}"
      ]
     },
     "execution_count": 19,
     "metadata": {},
     "output_type": "execute_result"
    }
   ],
   "source": [
    "tokenizer('el CASTELLANO es una LENGUA muerta')"
   ]
  },
  {
   "cell_type": "code",
   "execution_count": 20,
   "metadata": {},
   "outputs": [
    {
     "name": "stderr",
     "output_type": "stream",
     "text": [
      "100%|████████████████████████████████████████████████████████████████████████████████| 274/274 [00:47<00:00,  5.80ba/s]\n",
      "100%|██████████████████████████████████████████████████████████████████████████████████| 90/90 [00:15<00:00,  5.70ba/s]\n",
      "100%|██████████████████████████████████████████████████████████████████████████████████| 69/69 [00:12<00:00,  5.71ba/s]\n"
     ]
    }
   ],
   "source": [
    "def tokenizer_func(examples):\n",
    "  return tokenizer(examples[\"relato\"],\n",
    "                   max_length=seqlen.max(),\n",
    "                   padding = \"max_length\",\n",
    "                   truncation=True)\n",
    "\n",
    "tokenized_dataset = dataset.map(tokenizer_func, batched=True)"
   ]
  },
  {
   "cell_type": "code",
   "execution_count": 21,
   "metadata": {},
   "outputs": [
    {
     "data": {
      "text/plain": [
       "(300, 2)"
      ]
     },
     "execution_count": 21,
     "metadata": {},
     "output_type": "execute_result"
    }
   ],
   "source": [
    "len(tokenized_dataset['validation'][-1]['input_ids']), tokenized_dataset['validation'][-1]['labels']"
   ]
  },
  {
   "cell_type": "code",
   "execution_count": 22,
   "metadata": {},
   "outputs": [
    {
     "data": {
      "text/plain": [
       "{'relato': 'es el caso señor fiscal que el día 22 de octubre del 2014 a las 20h40 aproximadamente en circunstancias en que deje estacionado mi camioneta de placas gmd0996 color blanco marca chevrolet de mi propiedad en la dirección antes mencionada al momento de ir por ella me encuentro con la novedad que no estaba se la habían robado en el interior de la camioneta ahí una arma de fuego revolver calibre 38 de fabricación nacional que pertenece a compañía armiled por lo expuesto señor fiscal solicito que se realicen las respectivas investigaciones es justicia',\n",
       " 'labels': 5,\n",
       " 'input_ids': [101,\n",
       "  10196,\n",
       "  10125,\n",
       "  13101,\n",
       "  47599,\n",
       "  43645,\n",
       "  10121,\n",
       "  10125,\n",
       "  14184,\n",
       "  10306,\n",
       "  10104,\n",
       "  14082,\n",
       "  10127,\n",
       "  10194,\n",
       "  169,\n",
       "  10285,\n",
       "  10197,\n",
       "  10237,\n",
       "  38109,\n",
       "  21278,\n",
       "  10110,\n",
       "  109050,\n",
       "  10110,\n",
       "  10121,\n",
       "  10104,\n",
       "  10381,\n",
       "  11504,\n",
       "  57416,\n",
       "  12132,\n",
       "  88406,\n",
       "  17670,\n",
       "  10213,\n",
       "  10104,\n",
       "  93697,\n",
       "  175,\n",
       "  37527,\n",
       "  10929,\n",
       "  88657,\n",
       "  11211,\n",
       "  14136,\n",
       "  34488,\n",
       "  13534,\n",
       "  10262,\n",
       "  99959,\n",
       "  12630,\n",
       "  10104,\n",
       "  12132,\n",
       "  39561,\n",
       "  10110,\n",
       "  10109,\n",
       "  21669,\n",
       "  12847,\n",
       "  69321,\n",
       "  10229,\n",
       "  10164,\n",
       "  13782,\n",
       "  10104,\n",
       "  10478,\n",
       "  10183,\n",
       "  15121,\n",
       "  10911,\n",
       "  52995,\n",
       "  10173,\n",
       "  10109,\n",
       "  23851,\n",
       "  14084,\n",
       "  10121,\n",
       "  10192,\n",
       "  14645,\n",
       "  10126,\n",
       "  10109,\n",
       "  22351,\n",
       "  96684,\n",
       "  10317,\n",
       "  10110,\n",
       "  10125,\n",
       "  14806,\n",
       "  10104,\n",
       "  10109,\n",
       "  88406,\n",
       "  17670,\n",
       "  10213,\n",
       "  64202,\n",
       "  10153,\n",
       "  28758,\n",
       "  10104,\n",
       "  46577,\n",
       "  86095,\n",
       "  66403,\n",
       "  98755,\n",
       "  11171,\n",
       "  10104,\n",
       "  73118,\n",
       "  14352,\n",
       "  10121,\n",
       "  60665,\n",
       "  169,\n",
       "  23039,\n",
       "  41361,\n",
       "  16376,\n",
       "  10183,\n",
       "  10406,\n",
       "  11419,\n",
       "  36101,\n",
       "  47599,\n",
       "  43645,\n",
       "  36766,\n",
       "  39811,\n",
       "  10121,\n",
       "  10126,\n",
       "  13486,\n",
       "  11918,\n",
       "  10115,\n",
       "  10285,\n",
       "  99498,\n",
       "  10403,\n",
       "  71151,\n",
       "  10196,\n",
       "  86847,\n",
       "  102,\n",
       "  0,\n",
       "  0,\n",
       "  0,\n",
       "  0,\n",
       "  0,\n",
       "  0,\n",
       "  0,\n",
       "  0,\n",
       "  0,\n",
       "  0,\n",
       "  0,\n",
       "  0,\n",
       "  0,\n",
       "  0,\n",
       "  0,\n",
       "  0,\n",
       "  0,\n",
       "  0,\n",
       "  0,\n",
       "  0,\n",
       "  0,\n",
       "  0,\n",
       "  0,\n",
       "  0,\n",
       "  0,\n",
       "  0,\n",
       "  0,\n",
       "  0,\n",
       "  0,\n",
       "  0,\n",
       "  0,\n",
       "  0,\n",
       "  0,\n",
       "  0,\n",
       "  0,\n",
       "  0,\n",
       "  0,\n",
       "  0,\n",
       "  0,\n",
       "  0,\n",
       "  0,\n",
       "  0,\n",
       "  0,\n",
       "  0,\n",
       "  0,\n",
       "  0,\n",
       "  0,\n",
       "  0,\n",
       "  0,\n",
       "  0,\n",
       "  0,\n",
       "  0,\n",
       "  0,\n",
       "  0,\n",
       "  0,\n",
       "  0,\n",
       "  0,\n",
       "  0,\n",
       "  0,\n",
       "  0,\n",
       "  0,\n",
       "  0,\n",
       "  0,\n",
       "  0,\n",
       "  0,\n",
       "  0,\n",
       "  0,\n",
       "  0,\n",
       "  0,\n",
       "  0,\n",
       "  0,\n",
       "  0,\n",
       "  0,\n",
       "  0,\n",
       "  0,\n",
       "  0,\n",
       "  0,\n",
       "  0,\n",
       "  0,\n",
       "  0,\n",
       "  0,\n",
       "  0,\n",
       "  0,\n",
       "  0,\n",
       "  0,\n",
       "  0,\n",
       "  0,\n",
       "  0,\n",
       "  0,\n",
       "  0,\n",
       "  0,\n",
       "  0,\n",
       "  0,\n",
       "  0,\n",
       "  0,\n",
       "  0,\n",
       "  0,\n",
       "  0,\n",
       "  0,\n",
       "  0,\n",
       "  0,\n",
       "  0,\n",
       "  0,\n",
       "  0,\n",
       "  0,\n",
       "  0,\n",
       "  0,\n",
       "  0,\n",
       "  0,\n",
       "  0,\n",
       "  0,\n",
       "  0,\n",
       "  0,\n",
       "  0,\n",
       "  0,\n",
       "  0,\n",
       "  0,\n",
       "  0,\n",
       "  0,\n",
       "  0,\n",
       "  0,\n",
       "  0,\n",
       "  0,\n",
       "  0,\n",
       "  0,\n",
       "  0,\n",
       "  0,\n",
       "  0,\n",
       "  0,\n",
       "  0,\n",
       "  0,\n",
       "  0,\n",
       "  0,\n",
       "  0,\n",
       "  0,\n",
       "  0,\n",
       "  0,\n",
       "  0,\n",
       "  0,\n",
       "  0,\n",
       "  0,\n",
       "  0,\n",
       "  0,\n",
       "  0,\n",
       "  0,\n",
       "  0,\n",
       "  0,\n",
       "  0,\n",
       "  0,\n",
       "  0,\n",
       "  0,\n",
       "  0,\n",
       "  0,\n",
       "  0,\n",
       "  0,\n",
       "  0,\n",
       "  0,\n",
       "  0,\n",
       "  0,\n",
       "  0,\n",
       "  0,\n",
       "  0,\n",
       "  0,\n",
       "  0,\n",
       "  0,\n",
       "  0,\n",
       "  0,\n",
       "  0,\n",
       "  0,\n",
       "  0,\n",
       "  0,\n",
       "  0,\n",
       "  0,\n",
       "  0,\n",
       "  0,\n",
       "  0,\n",
       "  0,\n",
       "  0,\n",
       "  0,\n",
       "  0],\n",
       " 'attention_mask': [1,\n",
       "  1,\n",
       "  1,\n",
       "  1,\n",
       "  1,\n",
       "  1,\n",
       "  1,\n",
       "  1,\n",
       "  1,\n",
       "  1,\n",
       "  1,\n",
       "  1,\n",
       "  1,\n",
       "  1,\n",
       "  1,\n",
       "  1,\n",
       "  1,\n",
       "  1,\n",
       "  1,\n",
       "  1,\n",
       "  1,\n",
       "  1,\n",
       "  1,\n",
       "  1,\n",
       "  1,\n",
       "  1,\n",
       "  1,\n",
       "  1,\n",
       "  1,\n",
       "  1,\n",
       "  1,\n",
       "  1,\n",
       "  1,\n",
       "  1,\n",
       "  1,\n",
       "  1,\n",
       "  1,\n",
       "  1,\n",
       "  1,\n",
       "  1,\n",
       "  1,\n",
       "  1,\n",
       "  1,\n",
       "  1,\n",
       "  1,\n",
       "  1,\n",
       "  1,\n",
       "  1,\n",
       "  1,\n",
       "  1,\n",
       "  1,\n",
       "  1,\n",
       "  1,\n",
       "  1,\n",
       "  1,\n",
       "  1,\n",
       "  1,\n",
       "  1,\n",
       "  1,\n",
       "  1,\n",
       "  1,\n",
       "  1,\n",
       "  1,\n",
       "  1,\n",
       "  1,\n",
       "  1,\n",
       "  1,\n",
       "  1,\n",
       "  1,\n",
       "  1,\n",
       "  1,\n",
       "  1,\n",
       "  1,\n",
       "  1,\n",
       "  1,\n",
       "  1,\n",
       "  1,\n",
       "  1,\n",
       "  1,\n",
       "  1,\n",
       "  1,\n",
       "  1,\n",
       "  1,\n",
       "  1,\n",
       "  1,\n",
       "  1,\n",
       "  1,\n",
       "  1,\n",
       "  1,\n",
       "  1,\n",
       "  1,\n",
       "  1,\n",
       "  1,\n",
       "  1,\n",
       "  1,\n",
       "  1,\n",
       "  1,\n",
       "  1,\n",
       "  1,\n",
       "  1,\n",
       "  1,\n",
       "  1,\n",
       "  1,\n",
       "  1,\n",
       "  1,\n",
       "  1,\n",
       "  1,\n",
       "  1,\n",
       "  1,\n",
       "  1,\n",
       "  1,\n",
       "  1,\n",
       "  1,\n",
       "  1,\n",
       "  1,\n",
       "  1,\n",
       "  1,\n",
       "  1,\n",
       "  1,\n",
       "  1,\n",
       "  0,\n",
       "  0,\n",
       "  0,\n",
       "  0,\n",
       "  0,\n",
       "  0,\n",
       "  0,\n",
       "  0,\n",
       "  0,\n",
       "  0,\n",
       "  0,\n",
       "  0,\n",
       "  0,\n",
       "  0,\n",
       "  0,\n",
       "  0,\n",
       "  0,\n",
       "  0,\n",
       "  0,\n",
       "  0,\n",
       "  0,\n",
       "  0,\n",
       "  0,\n",
       "  0,\n",
       "  0,\n",
       "  0,\n",
       "  0,\n",
       "  0,\n",
       "  0,\n",
       "  0,\n",
       "  0,\n",
       "  0,\n",
       "  0,\n",
       "  0,\n",
       "  0,\n",
       "  0,\n",
       "  0,\n",
       "  0,\n",
       "  0,\n",
       "  0,\n",
       "  0,\n",
       "  0,\n",
       "  0,\n",
       "  0,\n",
       "  0,\n",
       "  0,\n",
       "  0,\n",
       "  0,\n",
       "  0,\n",
       "  0,\n",
       "  0,\n",
       "  0,\n",
       "  0,\n",
       "  0,\n",
       "  0,\n",
       "  0,\n",
       "  0,\n",
       "  0,\n",
       "  0,\n",
       "  0,\n",
       "  0,\n",
       "  0,\n",
       "  0,\n",
       "  0,\n",
       "  0,\n",
       "  0,\n",
       "  0,\n",
       "  0,\n",
       "  0,\n",
       "  0,\n",
       "  0,\n",
       "  0,\n",
       "  0,\n",
       "  0,\n",
       "  0,\n",
       "  0,\n",
       "  0,\n",
       "  0,\n",
       "  0,\n",
       "  0,\n",
       "  0,\n",
       "  0,\n",
       "  0,\n",
       "  0,\n",
       "  0,\n",
       "  0,\n",
       "  0,\n",
       "  0,\n",
       "  0,\n",
       "  0,\n",
       "  0,\n",
       "  0,\n",
       "  0,\n",
       "  0,\n",
       "  0,\n",
       "  0,\n",
       "  0,\n",
       "  0,\n",
       "  0,\n",
       "  0,\n",
       "  0,\n",
       "  0,\n",
       "  0,\n",
       "  0,\n",
       "  0,\n",
       "  0,\n",
       "  0,\n",
       "  0,\n",
       "  0,\n",
       "  0,\n",
       "  0,\n",
       "  0,\n",
       "  0,\n",
       "  0,\n",
       "  0,\n",
       "  0,\n",
       "  0,\n",
       "  0,\n",
       "  0,\n",
       "  0,\n",
       "  0,\n",
       "  0,\n",
       "  0,\n",
       "  0,\n",
       "  0,\n",
       "  0,\n",
       "  0,\n",
       "  0,\n",
       "  0,\n",
       "  0,\n",
       "  0,\n",
       "  0,\n",
       "  0,\n",
       "  0,\n",
       "  0,\n",
       "  0,\n",
       "  0,\n",
       "  0,\n",
       "  0,\n",
       "  0,\n",
       "  0,\n",
       "  0,\n",
       "  0,\n",
       "  0,\n",
       "  0,\n",
       "  0,\n",
       "  0,\n",
       "  0,\n",
       "  0,\n",
       "  0,\n",
       "  0,\n",
       "  0,\n",
       "  0,\n",
       "  0,\n",
       "  0,\n",
       "  0,\n",
       "  0,\n",
       "  0,\n",
       "  0,\n",
       "  0,\n",
       "  0,\n",
       "  0,\n",
       "  0,\n",
       "  0,\n",
       "  0,\n",
       "  0,\n",
       "  0,\n",
       "  0,\n",
       "  0,\n",
       "  0,\n",
       "  0,\n",
       "  0,\n",
       "  0,\n",
       "  0,\n",
       "  0,\n",
       "  0,\n",
       "  0,\n",
       "  0,\n",
       "  0,\n",
       "  0]}"
      ]
     },
     "execution_count": 22,
     "metadata": {},
     "output_type": "execute_result"
    }
   ],
   "source": [
    "tokenized_dataset['train'][0]"
   ]
  },
  {
   "cell_type": "code",
   "execution_count": 23,
   "metadata": {},
   "outputs": [
    {
     "data": {
      "text/plain": [
       "'2.6.0'"
      ]
     },
     "execution_count": 23,
     "metadata": {},
     "output_type": "execute_result"
    }
   ],
   "source": [
    "import tensorflow as tf\n",
    "tf.__version__"
   ]
  },
  {
   "cell_type": "markdown",
   "metadata": {},
   "source": [
    "Following what is proposed in: https://huggingface.co/docs/transformers/tasks/sequence_classification"
   ]
  },
  {
   "cell_type": "code",
   "execution_count": 24,
   "metadata": {},
   "outputs": [],
   "source": [
    "from transformers import DataCollatorWithPadding\n",
    "\n",
    "data_collator = DataCollatorWithPadding(tokenizer=tokenizer, return_tensors=\"tf\")"
   ]
  },
  {
   "cell_type": "code",
   "execution_count": 25,
   "metadata": {},
   "outputs": [
    {
     "data": {
      "text/plain": [
       "dict_keys(['train', 'test', 'validation'])"
      ]
     },
     "execution_count": 25,
     "metadata": {},
     "output_type": "execute_result"
    }
   ],
   "source": [
    "tokenized_dataset.keys()"
   ]
  },
  {
   "cell_type": "code",
   "execution_count": 26,
   "metadata": {},
   "outputs": [],
   "source": [
    "# tf_train_set = tokenized_dataset[\"train\"].to_tf_dataset(\n",
    "#     columns=[\"attention_mask\", \"input_ids\", \"labels\"],\n",
    "#     shuffle=True,\n",
    "#     batch_size=16,\n",
    "#     collate_fn=data_collator,\n",
    "# )\n",
    "\n",
    "# tf_validation_set = tokenized_dataset[\"validation\"].to_tf_dataset(\n",
    "#     columns=[\"attention_mask\", \"input_ids\", \"labels\"],\n",
    "#     shuffle=False,\n",
    "#     batch_size=16,\n",
    "#     collate_fn=data_collator,\n",
    "# )"
   ]
  },
  {
   "cell_type": "code",
   "execution_count": 123,
   "metadata": {},
   "outputs": [
    {
     "name": "stderr",
     "output_type": "stream",
     "text": [
      "WARNING:datasets.arrow_dataset:Loading cached shuffled indices for dataset at C:\\Users\\entea\\.cache\\huggingface\\datasets\\csv\\default-ba64d498e9ef90c9\\0.0.0\\51cce309a08df9c4d82ffd9363bbe090bf173197fc01a71b034e8594995a1a58\\cache-3ab2a6fcbdc96502.arrow\n",
      "WARNING:datasets.arrow_dataset:Loading cached shuffled indices for dataset at C:\\Users\\entea\\.cache\\huggingface\\datasets\\csv\\default-ba64d498e9ef90c9\\0.0.0\\51cce309a08df9c4d82ffd9363bbe090bf173197fc01a71b034e8594995a1a58\\cache-39e834a6b09b137c.arrow\n"
     ]
    }
   ],
   "source": [
    "# lowering samples to proof concept again\n",
    "tf_train_set = tokenized_dataset[\"train\"].shuffle(seed=42).select(range(20000)).to_tf_dataset(\n",
    "    columns=[\"attention_mask\", \"input_ids\", \"labels\"],\n",
    "    shuffle=True,\n",
    "    batch_size=16,\n",
    "    collate_fn=data_collator,\n",
    ")\n",
    "\n",
    "tf_validation_set = tokenized_dataset[\"validation\"].shuffle(seed=42).select(range(4000)).to_tf_dataset(\n",
    "    columns=[\"attention_mask\", \"input_ids\", \"labels\"],\n",
    "    shuffle=False,\n",
    "    batch_size=16,\n",
    "    collate_fn=data_collator,\n",
    ")"
   ]
  },
  {
   "cell_type": "code",
   "execution_count": 152,
   "metadata": {},
   "outputs": [],
   "source": [
    "from transformers import create_optimizer\n",
    "\n",
    "batch_size = 16\n",
    "num_epochs = 50\n",
    "batches_per_epoch = len(tokenized_dataset[\"train\"]) // batch_size\n",
    "total_train_steps = int(batches_per_epoch * num_epochs)\n",
    "optimizer, schedule = create_optimizer(init_lr=2e-5, num_warmup_steps=0, num_train_steps=total_train_steps)"
   ]
  },
  {
   "cell_type": "code",
   "execution_count": 153,
   "metadata": {},
   "outputs": [
    {
     "data": {
      "text/plain": [
       "854150"
      ]
     },
     "execution_count": 153,
     "metadata": {},
     "output_type": "execute_result"
    }
   ],
   "source": [
    "total_train_steps"
   ]
  },
  {
   "cell_type": "markdown",
   "metadata": {},
   "source": [
    "TFDistilBert has a weight of 869 MGBytes"
   ]
  },
  {
   "cell_type": "code",
   "execution_count": 154,
   "metadata": {},
   "outputs": [
    {
     "name": "stderr",
     "output_type": "stream",
     "text": [
      "Some layers from the model checkpoint at distilbert-base-multilingual-cased were not used when initializing TFDistilBertForSequenceClassification: ['vocab_layer_norm', 'vocab_transform', 'vocab_projector', 'activation_13']\n",
      "- This IS expected if you are initializing TFDistilBertForSequenceClassification from the checkpoint of a model trained on another task or with another architecture (e.g. initializing a BertForSequenceClassification model from a BertForPreTraining model).\n",
      "- This IS NOT expected if you are initializing TFDistilBertForSequenceClassification from the checkpoint of a model that you expect to be exactly identical (initializing a BertForSequenceClassification model from a BertForSequenceClassification model).\n",
      "Some layers of TFDistilBertForSequenceClassification were not initialized from the model checkpoint at distilbert-base-multilingual-cased and are newly initialized: ['dropout_99', 'pre_classifier', 'classifier']\n",
      "You should probably TRAIN this model on a down-stream task to be able to use it for predictions and inference.\n"
     ]
    }
   ],
   "source": [
    "from transformers import TFAutoModelForSequenceClassification, TFDistilBertForSequenceClassification\n",
    "\n",
    "model = TFDistilBertForSequenceClassification.from_pretrained(model_name, num_labels=6)"
   ]
  },
  {
   "cell_type": "code",
   "execution_count": 155,
   "metadata": {},
   "outputs": [
    {
     "name": "stdout",
     "output_type": "stream",
     "text": [
      "Model: \"tf_distil_bert_for_sequence_classification_4\"\n",
      "_________________________________________________________________\n",
      "Layer (type)                 Output Shape              Param #   \n",
      "=================================================================\n",
      "distilbert (TFDistilBertMain multiple                  134734080 \n",
      "_________________________________________________________________\n",
      "pre_classifier (Dense)       multiple                  590592    \n",
      "_________________________________________________________________\n",
      "classifier (Dense)           multiple                  4614      \n",
      "_________________________________________________________________\n",
      "dropout_99 (Dropout)         multiple                  0         \n",
      "=================================================================\n",
      "Total params: 135,329,286\n",
      "Trainable params: 135,329,286\n",
      "Non-trainable params: 0\n",
      "_________________________________________________________________\n"
     ]
    }
   ],
   "source": [
    "model.summary()"
   ]
  },
  {
   "cell_type": "code",
   "execution_count": 156,
   "metadata": {},
   "outputs": [
    {
     "name": "stderr",
     "output_type": "stream",
     "text": [
      "No loss specified in compile() - the model's internal loss computation will be used as the loss. Don't panic - this is a common way to train TensorFlow models in Transformers! To disable this behaviour please pass a loss argument, or explicitly pass `loss=None` if you do not want your model to compute a loss.\n"
     ]
    }
   ],
   "source": [
    "model.layers[0].trainable = False\n",
    "mse = tf.keras.metrics.mse\n",
    "acc = tf.keras.metrics.categorical_accuracy\n",
    "callback = tf.keras.callbacks.EarlyStopping(monitor='loss', patience=5)\n",
    "\n",
    "# model.compile(optimizer=optimizer, metrics = ['accuracy', 'AUC', 'Precision', 'Recall'])\n",
    "model.compile(optimizer=optimizer, metrics = ['accuracy'])"
   ]
  },
  {
   "cell_type": "code",
   "execution_count": 157,
   "metadata": {},
   "outputs": [
    {
     "name": "stdout",
     "output_type": "stream",
     "text": [
      "Model: \"tf_distil_bert_for_sequence_classification_4\"\n",
      "_________________________________________________________________\n",
      "Layer (type)                 Output Shape              Param #   \n",
      "=================================================================\n",
      "distilbert (TFDistilBertMain multiple                  134734080 \n",
      "_________________________________________________________________\n",
      "pre_classifier (Dense)       multiple                  590592    \n",
      "_________________________________________________________________\n",
      "classifier (Dense)           multiple                  4614      \n",
      "_________________________________________________________________\n",
      "dropout_99 (Dropout)         multiple                  0         \n",
      "=================================================================\n",
      "Total params: 135,329,286\n",
      "Trainable params: 595,206\n",
      "Non-trainable params: 134,734,080\n",
      "_________________________________________________________________\n"
     ]
    }
   ],
   "source": [
    "model.summary()"
   ]
  },
  {
   "cell_type": "code",
   "execution_count": 158,
   "metadata": {},
   "outputs": [
    {
     "name": "stdout",
     "output_type": "stream",
     "text": [
      "Num GPUs Available:  1\n"
     ]
    }
   ],
   "source": [
    "print(\"Num GPUs Available: \", len(tf.config.list_physical_devices('GPU')))"
   ]
  },
  {
   "cell_type": "code",
   "execution_count": 159,
   "metadata": {},
   "outputs": [
    {
     "data": {
      "text/plain": [
       "'/device:GPU:0'"
      ]
     },
     "execution_count": 159,
     "metadata": {},
     "output_type": "execute_result"
    }
   ],
   "source": [
    "tf.test.gpu_device_name()"
   ]
  },
  {
   "cell_type": "code",
   "execution_count": 160,
   "metadata": {},
   "outputs": [
    {
     "name": "stdout",
     "output_type": "stream",
     "text": [
      "Epoch 1/50\n",
      "1250/1250 [==============================] - 378s 296ms/step - loss: 1.5806 - accuracy: 0.4168 - val_loss: 1.5456 - val_accuracy: 0.4193\n",
      "Epoch 2/50\n",
      "1250/1250 [==============================] - 355s 284ms/step - loss: 1.5344 - accuracy: 0.4176 - val_loss: 1.4990 - val_accuracy: 0.4195\n",
      "Epoch 3/50\n",
      "1250/1250 [==============================] - 357s 286ms/step - loss: 1.4896 - accuracy: 0.4198 - val_loss: 1.4511 - val_accuracy: 0.4218\n",
      "Epoch 4/50\n",
      "1250/1250 [==============================] - 357s 286ms/step - loss: 1.4418 - accuracy: 0.4305 - val_loss: 1.4021 - val_accuracy: 0.4415\n",
      "Epoch 5/50\n",
      "1250/1250 [==============================] - 356s 285ms/step - loss: 1.3975 - accuracy: 0.4496 - val_loss: 1.3610 - val_accuracy: 0.4442\n",
      "Epoch 6/50\n",
      "1250/1250 [==============================] - 357s 285ms/step - loss: 1.3546 - accuracy: 0.4779 - val_loss: 1.3129 - val_accuracy: 0.4830\n",
      "Epoch 7/50\n",
      "1250/1250 [==============================] - 355s 284ms/step - loss: 1.3151 - accuracy: 0.5042 - val_loss: 1.2681 - val_accuracy: 0.5178\n",
      "Epoch 8/50\n",
      "1250/1250 [==============================] - 355s 284ms/step - loss: 1.2795 - accuracy: 0.5253 - val_loss: 1.2383 - val_accuracy: 0.5293\n",
      "Epoch 9/50\n",
      "1250/1250 [==============================] - 353s 283ms/step - loss: 1.2449 - accuracy: 0.5405 - val_loss: 1.2049 - val_accuracy: 0.5525\n",
      "Epoch 10/50\n",
      "1250/1250 [==============================] - 356s 285ms/step - loss: 1.2193 - accuracy: 0.5536 - val_loss: 1.1826 - val_accuracy: 0.5510\n",
      "Epoch 11/50\n",
      "1250/1250 [==============================] - 357s 285ms/step - loss: 1.1922 - accuracy: 0.5690 - val_loss: 1.1551 - val_accuracy: 0.5727\n",
      "Epoch 12/50\n",
      "1250/1250 [==============================] - 356s 285ms/step - loss: 1.1767 - accuracy: 0.5737 - val_loss: 1.1238 - val_accuracy: 0.5930\n",
      "Epoch 13/50\n",
      "1250/1250 [==============================] - 356s 285ms/step - loss: 1.1592 - accuracy: 0.5820 - val_loss: 1.0963 - val_accuracy: 0.6105\n",
      "Epoch 14/50\n",
      "1250/1250 [==============================] - 356s 285ms/step - loss: 1.1399 - accuracy: 0.5877 - val_loss: 1.0758 - val_accuracy: 0.6283\n",
      "Epoch 15/50\n",
      "1250/1250 [==============================] - 356s 285ms/step - loss: 1.1259 - accuracy: 0.5943 - val_loss: 1.0632 - val_accuracy: 0.6252\n",
      "Epoch 16/50\n",
      "1250/1250 [==============================] - 354s 283ms/step - loss: 1.1123 - accuracy: 0.6010 - val_loss: 1.0611 - val_accuracy: 0.6055\n",
      "Epoch 17/50\n",
      "1250/1250 [==============================] - 353s 282ms/step - loss: 1.0990 - accuracy: 0.6067 - val_loss: 1.0321 - val_accuracy: 0.6457\n",
      "Epoch 18/50\n",
      "1250/1250 [==============================] - 353s 283ms/step - loss: 1.0885 - accuracy: 0.6097 - val_loss: 1.0239 - val_accuracy: 0.6382\n",
      "Epoch 19/50\n",
      "1250/1250 [==============================] - 353s 283ms/step - loss: 1.0752 - accuracy: 0.6148 - val_loss: 1.0080 - val_accuracy: 0.6557\n",
      "Epoch 20/50\n",
      "1250/1250 [==============================] - 353s 282ms/step - loss: 1.0677 - accuracy: 0.6195 - val_loss: 0.9935 - val_accuracy: 0.6612\n",
      "Epoch 21/50\n",
      "1250/1250 [==============================] - 353s 282ms/step - loss: 1.0576 - accuracy: 0.6192 - val_loss: 0.9926 - val_accuracy: 0.6442\n",
      "Epoch 22/50\n",
      "1250/1250 [==============================] - 353s 282ms/step - loss: 1.0510 - accuracy: 0.6231 - val_loss: 0.9784 - val_accuracy: 0.6618\n",
      "Epoch 23/50\n",
      "1250/1250 [==============================] - 353s 283ms/step - loss: 1.0485 - accuracy: 0.6273 - val_loss: 0.9647 - val_accuracy: 0.6702\n",
      "Epoch 24/50\n",
      "1250/1250 [==============================] - 359s 287ms/step - loss: 1.0413 - accuracy: 0.6277 - val_loss: 0.9599 - val_accuracy: 0.6702\n",
      "Epoch 25/50\n",
      "1250/1250 [==============================] - 373s 299ms/step - loss: 1.0363 - accuracy: 0.6287 - val_loss: 0.9496 - val_accuracy: 0.6787\n",
      "Epoch 26/50\n",
      "1250/1250 [==============================] - 540s 432ms/step - loss: 1.0283 - accuracy: 0.6296 - val_loss: 0.9452 - val_accuracy: 0.6722\n",
      "Epoch 27/50\n",
      "1250/1250 [==============================] - 552s 442ms/step - loss: 1.0199 - accuracy: 0.6339 - val_loss: 0.9360 - val_accuracy: 0.6860\n",
      "Epoch 28/50\n",
      "1250/1250 [==============================] - 578s 463ms/step - loss: 1.0184 - accuracy: 0.6334 - val_loss: 0.9481 - val_accuracy: 0.6618\n",
      "Epoch 29/50\n",
      "1250/1250 [==============================] - 417s 333ms/step - loss: 1.0121 - accuracy: 0.6345 - val_loss: 0.9189 - val_accuracy: 0.6858\n",
      "Epoch 30/50\n",
      "1250/1250 [==============================] - 356s 285ms/step - loss: 1.0081 - accuracy: 0.6377 - val_loss: 0.9188 - val_accuracy: 0.6827\n",
      "Epoch 31/50\n",
      "1250/1250 [==============================] - 355s 284ms/step - loss: 1.0026 - accuracy: 0.6424 - val_loss: 0.9112 - val_accuracy: 0.6835\n",
      "Epoch 32/50\n",
      "1250/1250 [==============================] - 356s 285ms/step - loss: 1.0034 - accuracy: 0.6394 - val_loss: 0.9071 - val_accuracy: 0.6858\n",
      "Epoch 33/50\n",
      "1250/1250 [==============================] - 354s 283ms/step - loss: 0.9957 - accuracy: 0.6421 - val_loss: 0.8985 - val_accuracy: 0.6890\n",
      "Epoch 34/50\n",
      "1250/1250 [==============================] - 354s 283ms/step - loss: 0.9948 - accuracy: 0.6421 - val_loss: 0.9044 - val_accuracy: 0.6812\n",
      "Epoch 35/50\n",
      "1250/1250 [==============================] - 354s 284ms/step - loss: 0.9918 - accuracy: 0.6465 - val_loss: 0.8946 - val_accuracy: 0.6842\n",
      "Epoch 36/50\n",
      "1250/1250 [==============================] - 355s 284ms/step - loss: 0.9872 - accuracy: 0.6460 - val_loss: 0.8931 - val_accuracy: 0.6833\n",
      "Epoch 37/50\n",
      "1250/1250 [==============================] - 356s 285ms/step - loss: 0.9788 - accuracy: 0.6481 - val_loss: 0.8791 - val_accuracy: 0.6920\n",
      "Epoch 38/50\n",
      "1250/1250 [==============================] - 355s 284ms/step - loss: 0.9796 - accuracy: 0.6492 - val_loss: 0.8887 - val_accuracy: 0.6810\n",
      "Epoch 39/50\n",
      "1250/1250 [==============================] - 354s 283ms/step - loss: 0.9782 - accuracy: 0.6490 - val_loss: 0.8697 - val_accuracy: 0.6998\n",
      "Epoch 40/50\n",
      "1250/1250 [==============================] - 355s 284ms/step - loss: 0.9702 - accuracy: 0.6505 - val_loss: 0.8767 - val_accuracy: 0.6870\n",
      "Epoch 41/50\n",
      "1250/1250 [==============================] - 355s 284ms/step - loss: 0.9656 - accuracy: 0.6470 - val_loss: 0.8734 - val_accuracy: 0.6927\n",
      "Epoch 42/50\n",
      "1250/1250 [==============================] - 353s 283ms/step - loss: 0.9644 - accuracy: 0.6500 - val_loss: 0.8600 - val_accuracy: 0.7005\n",
      "Epoch 43/50\n",
      "1250/1250 [==============================] - 352s 282ms/step - loss: 0.9631 - accuracy: 0.6538 - val_loss: 0.8582 - val_accuracy: 0.6990\n",
      "Epoch 44/50\n",
      "1250/1250 [==============================] - 357s 285ms/step - loss: 0.9632 - accuracy: 0.6499 - val_loss: 0.8680 - val_accuracy: 0.6910\n",
      "Epoch 45/50\n",
      "1250/1250 [==============================] - 393s 314ms/step - loss: 0.9614 - accuracy: 0.6530 - val_loss: 0.8500 - val_accuracy: 0.7032\n",
      "Epoch 46/50\n",
      "1250/1250 [==============================] - 506s 404ms/step - loss: 0.9535 - accuracy: 0.6571 - val_loss: 0.8559 - val_accuracy: 0.6945\n",
      "Epoch 47/50\n",
      "1250/1250 [==============================] - 521s 417ms/step - loss: 0.9492 - accuracy: 0.6576 - val_loss: 0.8508 - val_accuracy: 0.6965\n",
      "Epoch 48/50\n",
      "1250/1250 [==============================] - 514s 411ms/step - loss: 0.9507 - accuracy: 0.6563 - val_loss: 0.8475 - val_accuracy: 0.6998\n",
      "Epoch 49/50\n",
      "1250/1250 [==============================] - 516s 413ms/step - loss: 0.9441 - accuracy: 0.6564 - val_loss: 0.8426 - val_accuracy: 0.7000\n",
      "Epoch 50/50\n",
      "1250/1250 [==============================] - 521s 417ms/step - loss: 0.9387 - accuracy: 0.6608 - val_loss: 0.8441 - val_accuracy: 0.6967\n"
     ]
    }
   ],
   "source": [
    "history = model.fit(tf_train_set, validation_data=tf_validation_set, epochs=num_epochs, callbacks = [callback])"
   ]
  },
  {
   "cell_type": "code",
   "execution_count": 161,
   "metadata": {},
   "outputs": [],
   "source": [
    "import matplotlib.pyplot as plt\n",
    "\n",
    "\n",
    "def plot_graphs(history, string):\n",
    "  plt.plot(history.history[string])\n",
    "  plt.plot(history.history['val_'+string])\n",
    "  plt.xlabel(\"Epochs\")\n",
    "  plt.ylabel(string)\n",
    "  plt.legend([string, 'val_'+string])\n",
    "  plt.show()"
   ]
  },
  {
   "cell_type": "code",
   "execution_count": 162,
   "metadata": {},
   "outputs": [
    {
     "data": {
      "image/png": "[encoded data removed]",
      "text/plain": [
       "<Figure size 432x288 with 1 Axes>"
      ]
     },
     "metadata": {},
     "output_type": "display_data"
    },
    {
     "data": {
      "image/png": "[encoded data removed]",
      "text/plain": [
       "<Figure size 432x288 with 1 Axes>"
      ]
     },
     "metadata": {},
     "output_type": "display_data"
    }
   ],
   "source": [
    "plot_graphs(history, 'accuracy')\n",
    "plot_graphs(history, 'loss')"
   ]
  },
  {
   "cell_type": "markdown",
   "metadata": {},
   "source": [
    "Saving MOdel"
   ]
  },
  {
   "cell_type": "code",
   "execution_count": 231,
   "metadata": {},
   "outputs": [
    {
     "name": "stdout",
     "output_type": "stream",
     "text": [
      "WARNING:tensorflow:Skipping full serialization of Keras layer <keras.layers.core.Dropout object at 0x00000197FDC599A0>, because it is not built.\n"
     ]
    },
    {
     "name": "stderr",
     "output_type": "stream",
     "text": [
      "WARNING:tensorflow:Skipping full serialization of Keras layer <keras.layers.core.Dropout object at 0x00000197FDC599A0>, because it is not built.\n"
     ]
    },
    {
     "name": "stdout",
     "output_type": "stream",
     "text": [
      "WARNING:tensorflow:Skipping full serialization of Keras layer <keras.layers.core.Dropout object at 0x00000197FD2E15E0>, because it is not built.\n"
     ]
    },
    {
     "name": "stderr",
     "output_type": "stream",
     "text": [
      "WARNING:tensorflow:Skipping full serialization of Keras layer <keras.layers.core.Dropout object at 0x00000197FD2E15E0>, because it is not built.\n"
     ]
    },
    {
     "name": "stdout",
     "output_type": "stream",
     "text": [
      "WARNING:tensorflow:Skipping full serialization of Keras layer <keras.layers.core.Dropout object at 0x00000197FDB505B0>, because it is not built.\n"
     ]
    },
    {
     "name": "stderr",
     "output_type": "stream",
     "text": [
      "WARNING:tensorflow:Skipping full serialization of Keras layer <keras.layers.core.Dropout object at 0x00000197FDB505B0>, because it is not built.\n"
     ]
    },
    {
     "name": "stdout",
     "output_type": "stream",
     "text": [
      "WARNING:tensorflow:Skipping full serialization of Keras layer <keras.layers.core.Dropout object at 0x00000197FD463910>, because it is not built.\n"
     ]
    },
    {
     "name": "stderr",
     "output_type": "stream",
     "text": [
      "WARNING:tensorflow:Skipping full serialization of Keras layer <keras.layers.core.Dropout object at 0x00000197FD463910>, because it is not built.\n"
     ]
    },
    {
     "name": "stdout",
     "output_type": "stream",
     "text": [
      "WARNING:tensorflow:Skipping full serialization of Keras layer <keras.layers.core.Dropout object at 0x00000197FF837730>, because it is not built.\n"
     ]
    },
    {
     "name": "stderr",
     "output_type": "stream",
     "text": [
      "WARNING:tensorflow:Skipping full serialization of Keras layer <keras.layers.core.Dropout object at 0x00000197FF837730>, because it is not built.\n"
     ]
    },
    {
     "name": "stdout",
     "output_type": "stream",
     "text": [
      "WARNING:tensorflow:Skipping full serialization of Keras layer <keras.layers.core.Dropout object at 0x00000197FDC54610>, because it is not built.\n"
     ]
    },
    {
     "name": "stderr",
     "output_type": "stream",
     "text": [
      "WARNING:tensorflow:Skipping full serialization of Keras layer <keras.layers.core.Dropout object at 0x00000197FDC54610>, because it is not built.\n",
      "WARNING:absl:Found untraced functions such as embeddings_layer_call_and_return_conditional_losses, embeddings_layer_call_fn, transformer_layer_call_and_return_conditional_losses, transformer_layer_call_fn, LayerNorm_layer_call_and_return_conditional_losses while saving (showing 5 of 410). These functions will not be directly callable after loading.\n"
     ]
    },
    {
     "name": "stdout",
     "output_type": "stream",
     "text": [
      "INFO:tensorflow:Assets written to: C:\\Users\\entea\\CodeProjects\\clasificaion_robos_fge\\models/tfsample\\assets\n"
     ]
    },
    {
     "name": "stderr",
     "output_type": "stream",
     "text": [
      "INFO:tensorflow:Assets written to: C:\\Users\\entea\\CodeProjects\\clasificaion_robos_fge\\models/tfsample\\assets\n"
     ]
    }
   ],
   "source": [
    "tfmodel = tf.saved_model.save(model, os.path.join(dir_root, 'models/tfsample'))"
   ]
  },
  {
   "cell_type": "markdown",
   "metadata": {},
   "source": [
    "## Evaluating the model"
   ]
  },
  {
   "cell_type": "code",
   "execution_count": 259,
   "metadata": {},
   "outputs": [
    {
     "name": "stderr",
     "output_type": "stream",
     "text": [
      "WARNING:datasets.arrow_dataset:Loading cached shuffled indices for dataset at C:\\Users\\entea\\.cache\\huggingface\\datasets\\csv\\default-ba64d498e9ef90c9\\0.0.0\\51cce309a08df9c4d82ffd9363bbe090bf173197fc01a71b034e8594995a1a58\\cache-324e9301b07e07e4.arrow\n"
     ]
    }
   ],
   "source": [
    "tf_test_set = tokenized_dataset[\"test\"].shuffle(seed=42).select(range(4000)).to_tf_dataset(\n",
    "    columns=[\"attention_mask\", \"input_ids\", \"labels\"],\n",
    "    shuffle=False,\n",
    "    batch_size=16,\n",
    "    collate_fn=data_collator,\n",
    ")"
   ]
  },
  {
   "cell_type": "code",
   "execution_count": 260,
   "metadata": {},
   "outputs": [
    {
     "data": {
      "text/plain": [
       "'4.2.0'"
      ]
     },
     "execution_count": 260,
     "metadata": {},
     "output_type": "execute_result"
    }
   ],
   "source": [
    "import tensorflow_datasets as tfds\n",
    "tfds.__version__"
   ]
  },
  {
   "cell_type": "code",
   "execution_count": 261,
   "metadata": {},
   "outputs": [],
   "source": [
    "test_npy = tfds.as_numpy(tf_test_set)\n",
    "# for count, i in enumerate(test_npy):\n",
    "#     print(count, i)"
   ]
  },
  {
   "cell_type": "code",
   "execution_count": 262,
   "metadata": {},
   "outputs": [
    {
     "data": {
      "text/plain": [
       "tensorflow_datasets.core.dataset_utils._IterableDataset"
      ]
     },
     "execution_count": 262,
     "metadata": {},
     "output_type": "execute_result"
    }
   ],
   "source": [
    "type(test_npy)"
   ]
  },
  {
   "cell_type": "markdown",
   "metadata": {},
   "source": [
    "The next code brings the last batch of 16 values"
   ]
  },
  {
   "cell_type": "code",
   "execution_count": 263,
   "metadata": {},
   "outputs": [
    {
     "data": {
      "text/plain": [
       "array([2, 2, 2, 0, 0, 1, 4, 2, 2, 2, 3, 2, 1, 4, 3, 0], dtype=int64)"
      ]
     },
     "execution_count": 263,
     "metadata": {},
     "output_type": "execute_result"
    }
   ],
   "source": [
    "for batch in test_npy:\n",
    "    y_true = batch['labels']\n",
    "y_true"
   ]
  },
  {
   "cell_type": "code",
   "execution_count": 264,
   "metadata": {},
   "outputs": [],
   "source": [
    "iterable = list(batch['labels'] for batch in test_npy)\n",
    "y_true = np.hstack(iterable)"
   ]
  },
  {
   "cell_type": "code",
   "execution_count": 265,
   "metadata": {},
   "outputs": [
    {
     "data": {
      "text/plain": [
       "(4000,)"
      ]
     },
     "execution_count": 265,
     "metadata": {},
     "output_type": "execute_result"
    }
   ],
   "source": [
    "y_true.shape\n"
   ]
  },
  {
   "cell_type": "code",
   "execution_count": 266,
   "metadata": {},
   "outputs": [
    {
     "data": {
      "text/plain": [
       "array([2, 4, 2, 2, 4, 2, 4, 1, 1, 5, 0, 1, 2, 2, 2, 0, 5, 4, 2, 1, 5, 2,\n",
       "       4, 1, 0, 1, 5, 1, 1, 1, 0, 5, 4, 2, 0, 2, 5, 2, 2, 4, 2, 1, 2, 2,\n",
       "       2, 3, 2, 2, 2, 2, 2, 2, 0, 4, 5, 0, 2, 3, 2, 4, 4, 0, 0, 5],\n",
       "      dtype=int64)"
      ]
     },
     "execution_count": 266,
     "metadata": {},
     "output_type": "execute_result"
    }
   ],
   "source": [
    "y_true[:64]"
   ]
  },
  {
   "cell_type": "code",
   "execution_count": 267,
   "metadata": {},
   "outputs": [
    {
     "name": "stdout",
     "output_type": "stream",
     "text": [
      "[2 4 2 2 4 2 4 1 1 5 0 1 2 2 2 0]\n",
      "[5 4 2 1 5 2 4 1 0 1 5 1 1 1 0 5]\n",
      "[4 2 0 2 5 2 2 4 2 1 2 2 2 3 2 2]\n",
      "[2 2 2 2 0 4 5 0 2 3 2 4 4 0 0 5]\n"
     ]
    }
   ],
   "source": [
    "for batch, datay in enumerate(test_npy):\n",
    "    if batch < 4:\n",
    "        print(datay['labels'])\n",
    "    "
   ]
  },
  {
   "cell_type": "code",
   "execution_count": 268,
   "metadata": {},
   "outputs": [
    {
     "name": "stdout",
     "output_type": "stream",
     "text": [
      "250/250 [==============================] - 215s 859ms/step - loss: 0.8375 - accuracy: 0.6963\n"
     ]
    },
    {
     "data": {
      "text/plain": [
       "[0.8375054597854614, 0.6962500214576721]"
      ]
     },
     "execution_count": 268,
     "metadata": {},
     "output_type": "execute_result"
    }
   ],
   "source": [
    "model.evaluate(tf_test_set)"
   ]
  },
  {
   "cell_type": "code",
   "execution_count": 269,
   "metadata": {},
   "outputs": [
    {
     "data": {
      "text/plain": [
       "array([[-1.8938175 , -2.1939156 ,  2.925122  , -1.7627414 , -1.834776  ,\n",
       "        -0.6377455 ],\n",
       "       [-1.0203629 , -3.2478042 , -0.10727154, -4.065733  ,  3.9629953 ,\n",
       "         1.4146681 ],\n",
       "       [-0.6854983 ,  0.02302741,  2.0864737 , -0.28316516, -3.0705626 ,\n",
       "        -3.091279  ],\n",
       "       [ 1.0274847 ,  0.6650103 ,  0.55600816,  1.06282   , -5.4617968 ,\n",
       "        -2.2463362 ],\n",
       "       [ 0.9113807 , -3.2087286 , -1.4631687 , -3.8724406 ,  3.598364  ,\n",
       "         1.2057283 ],\n",
       "       [-1.4130967 , -0.6984066 ,  2.2539847 , -1.2146883 , -1.9784672 ,\n",
       "        -2.204728  ],\n",
       "       [ 0.527215  , -3.019473  , -0.82465166, -3.7583344 ,  2.7364314 ,\n",
       "         1.3016833 ],\n",
       "       [-0.7664279 ,  1.5248843 ,  1.9501929 ,  0.94480455, -4.1714478 ,\n",
       "        -4.392328  ],\n",
       "       [-1.0829346 ,  2.10998   ,  0.25024453,  0.2803523 , -1.8690137 ,\n",
       "        -3.6745164 ],\n",
       "       [-0.3370742 , -0.9370362 ,  2.197501  ,  0.00854473, -3.077041  ,\n",
       "        -2.0904438 ]], dtype=float32)"
      ]
     },
     "execution_count": 269,
     "metadata": {},
     "output_type": "execute_result"
    }
   ],
   "source": [
    "model.predict(tf_test_set)['logits'][:10]"
   ]
  },
  {
   "cell_type": "markdown",
   "metadata": {},
   "source": [
    "The next code will get the probabilities using softmax"
   ]
  },
  {
   "cell_type": "code",
   "execution_count": 270,
   "metadata": {},
   "outputs": [
    {
     "data": {
      "text/plain": [
       "array([[7.6169032e-03, 5.6421887e-03, 9.4322950e-01, 8.6836880e-03,\n",
       "        8.0801584e-03, 2.6747528e-02],\n",
       "       [6.2101255e-03, 6.6947623e-04, 1.5475727e-02, 2.9546971e-04,\n",
       "        9.0645331e-01, 7.0895880e-02],\n",
       "       [4.8312183e-02, 9.8121770e-02, 7.7251822e-01, 7.2241649e-02,\n",
       "        4.4487333e-03, 4.3575205e-03],\n",
       "       [2.9451782e-01, 2.0497030e-01, 1.8380269e-01, 3.0511072e-01,\n",
       "        4.4756124e-04, 1.1150881e-02],\n",
       "       [5.8318503e-02, 9.4725221e-04, 5.4269093e-03, 4.8777455e-04,\n",
       "        8.5654151e-01, 7.8278035e-02],\n",
       "       [2.2511482e-02, 4.6003416e-02, 8.8104337e-01, 2.7451860e-02,\n",
       "        1.2789889e-02, 1.0200067e-02],\n",
       "       [7.9495318e-02, 2.2910503e-03, 2.0569954e-02, 1.0943371e-03,\n",
       "        7.2408915e-01, 1.7246020e-01],\n",
       "       [3.1632930e-02, 3.1278342e-01, 4.7857815e-01, 1.7511293e-01,\n",
       "        1.0504082e-03, 8.4223086e-04],\n",
       "       [2.9769031e-02, 7.2515351e-01, 1.1291641e-01, 1.1636777e-01,\n",
       "        1.3563597e-02, 2.2297448e-03],\n",
       "       [6.3248985e-02, 3.4713097e-02, 7.9763752e-01, 8.9362219e-02,\n",
       "        4.0841452e-03, 1.0954053e-02]], dtype=float32)"
      ]
     },
     "execution_count": 270,
     "metadata": {},
     "output_type": "execute_result"
    }
   ],
   "source": [
    "y_logits = model.predict(tf_test_set).logits\n",
    "yprob = tf.nn.softmax(y_logits, axis=1).numpy()\n",
    "yprob[:10]"
   ]
  },
  {
   "cell_type": "code",
   "execution_count": 271,
   "metadata": {},
   "outputs": [
    {
     "data": {
      "text/plain": [
       "<tf.Tensor: shape=(64,), dtype=int64, numpy=\n",
       "array([2, 4, 2, 3, 4, 2, 4, 2, 1, 2, 0, 1, 2, 2, 2, 0, 5, 4, 2, 2, 4, 2,\n",
       "       4, 2, 0, 1, 2, 1, 1, 3, 0, 4, 2, 2, 2, 2, 0, 2, 1, 4, 2, 2, 1, 2,\n",
       "       2, 2, 2, 2, 2, 2, 2, 2, 0, 2, 4, 2, 2, 2, 2, 2, 4, 2, 0, 5],\n",
       "      dtype=int64)>"
      ]
     },
     "execution_count": 271,
     "metadata": {},
     "output_type": "execute_result"
    }
   ],
   "source": [
    "yhat = tf.argmax(yprob, axis=1)\n",
    "# yhat = tf.argmax(yprob, 1)\n",
    "yhat[:64]"
   ]
  },
  {
   "cell_type": "code",
   "execution_count": 272,
   "metadata": {},
   "outputs": [
    {
     "data": {
      "text/plain": [
       "<tf.Tensor: shape=(20, 6), dtype=float32, numpy=\n",
       "array([[0., 0., 1., 0., 0., 0.],\n",
       "       [0., 0., 0., 0., 1., 0.],\n",
       "       [0., 0., 1., 0., 0., 0.],\n",
       "       [0., 0., 0., 1., 0., 0.],\n",
       "       [0., 0., 0., 0., 1., 0.],\n",
       "       [0., 0., 1., 0., 0., 0.],\n",
       "       [0., 0., 0., 0., 1., 0.],\n",
       "       [0., 0., 1., 0., 0., 0.],\n",
       "       [0., 1., 0., 0., 0., 0.],\n",
       "       [0., 0., 1., 0., 0., 0.],\n",
       "       [1., 0., 0., 0., 0., 0.],\n",
       "       [0., 1., 0., 0., 0., 0.],\n",
       "       [0., 0., 1., 0., 0., 0.],\n",
       "       [0., 0., 1., 0., 0., 0.],\n",
       "       [0., 0., 1., 0., 0., 0.],\n",
       "       [1., 0., 0., 0., 0., 0.],\n",
       "       [0., 0., 0., 0., 0., 1.],\n",
       "       [0., 0., 0., 0., 1., 0.],\n",
       "       [0., 0., 1., 0., 0., 0.],\n",
       "       [0., 0., 1., 0., 0., 0.]], dtype=float32)>"
      ]
     },
     "execution_count": 272,
     "metadata": {},
     "output_type": "execute_result"
    }
   ],
   "source": [
    "yhat_onehot = tf.one_hot(yhat, depth=6, dtype=tf.float32)\n",
    "yhat_onehot[:20]"
   ]
  },
  {
   "cell_type": "markdown",
   "metadata": {},
   "source": [
    "In order to compute any type of metrics using sklearn or other library, it is necessary to contrast ground truth with predicted values. Because of that, we can see that the test tensorflow set contains numbered labels. According to the link: https://analyticsindiamag.com/step-by-step-guide-to-implement-multi-class-classification-with-bert-tensorflow/ the following code is tried to get the one-hot encoding"
   ]
  },
  {
   "cell_type": "code",
   "execution_count": 273,
   "metadata": {},
   "outputs": [
    {
     "data": {
      "text/plain": [
       "(array([2, 4, 2, 2, 4, 2, 4, 1, 1, 5], dtype=int64),\n",
       " <tf.Tensor: shape=(10, 6), dtype=float32, numpy=\n",
       " array([[0., 0., 1., 0., 0., 0.],\n",
       "        [0., 0., 0., 0., 1., 0.],\n",
       "        [0., 0., 1., 0., 0., 0.],\n",
       "        [0., 0., 1., 0., 0., 0.],\n",
       "        [0., 0., 0., 0., 1., 0.],\n",
       "        [0., 0., 1., 0., 0., 0.],\n",
       "        [0., 0., 0., 0., 1., 0.],\n",
       "        [0., 1., 0., 0., 0., 0.],\n",
       "        [0., 1., 0., 0., 0., 0.],\n",
       "        [0., 0., 0., 0., 0., 1.]], dtype=float32)>)"
      ]
     },
     "execution_count": 273,
     "metadata": {},
     "output_type": "execute_result"
    }
   ],
   "source": [
    "ytrue_onehot = tf.one_hot(y_true, depth=6, dtype=tf.float32)\n",
    "y_true[:10], ytrue_onehot[:10]"
   ]
  },
  {
   "cell_type": "code",
   "execution_count": 274,
   "metadata": {},
   "outputs": [
    {
     "name": "stdout",
     "output_type": "stream",
     "text": [
      "              precision    recall  f1-score   support\n",
      "\n",
      "           0       0.68      0.63      0.66       613\n",
      "           1       0.69      0.57      0.63       651\n",
      "           2       0.67      0.93      0.78      1666\n",
      "           3       0.60      0.09      0.15       285\n",
      "           4       0.87      0.69      0.77       457\n",
      "           5       0.84      0.42      0.56       328\n",
      "\n",
      "   micro avg       0.70      0.70      0.70      4000\n",
      "   macro avg       0.72      0.55      0.59      4000\n",
      "weighted avg       0.70      0.70      0.67      4000\n",
      " samples avg       0.70      0.70      0.70      4000\n",
      "\n"
     ]
    }
   ],
   "source": [
    "from sklearn.metrics import  classification_report\n",
    "print(classification_report(y_true=ytrue_onehot, y_pred=yhat_onehot))"
   ]
  },
  {
   "cell_type": "code",
   "execution_count": 275,
   "metadata": {},
   "outputs": [
    {
     "data": {
      "text/plain": [
       "array([[[3208,  179],\n",
       "        [ 227,  386]],\n",
       "\n",
       "       [[3179,  170],\n",
       "        [ 277,  374]],\n",
       "\n",
       "       [[1557,  777],\n",
       "        [ 119, 1547]],\n",
       "\n",
       "       [[3698,   17],\n",
       "        [ 260,   25]],\n",
       "\n",
       "       [[3497,   46],\n",
       "        [ 141,  316]],\n",
       "\n",
       "       [[3646,   26],\n",
       "        [ 191,  137]]], dtype=int64)"
      ]
     },
     "execution_count": 275,
     "metadata": {},
     "output_type": "execute_result"
    }
   ],
   "source": [
    "from sklearn.metrics import multilabel_confusion_matrix\n",
    "multilabel_confusion_matrix(y_true=ytrue_onehot, y_pred=yhat_onehot)"
   ]
  },
  {
   "cell_type": "code",
   "execution_count": 276,
   "metadata": {},
   "outputs": [
    {
     "data": {
      "text/plain": [
       "array([[ 386,   20,  184,    3,    8,   12],\n",
       "       [  27,  374,  243,    6,    1,    0],\n",
       "       [  26,   58, 1547,    5,   25,    5],\n",
       "       [  23,   83,  153,   25,    1,    0],\n",
       "       [  15,    3,  113,    1,  316,    9],\n",
       "       [  88,    6,   84,    2,   11,  137]])"
      ]
     },
     "execution_count": 276,
     "metadata": {},
     "output_type": "execute_result"
    }
   ],
   "source": [
    "tf.math.confusion_matrix(y_true, yhat, 6).numpy()"
   ]
  },
  {
   "cell_type": "code",
   "execution_count": 277,
   "metadata": {},
   "outputs": [
    {
     "data": {
      "text/plain": [
       "array([1., 1., 1., ..., 1., 0., 1.], dtype=float32)"
      ]
     },
     "execution_count": 277,
     "metadata": {},
     "output_type": "execute_result"
    }
   ],
   "source": [
    "tf.metrics.categorical_accuracy(y_true=ytrue_onehot, y_pred=yhat_onehot).numpy()"
   ]
  },
  {
   "cell_type": "code",
   "execution_count": 278,
   "metadata": {},
   "outputs": [],
   "source": [
    "# from sklearn.metrics import plot_confusion_matrix\n",
    "# plot_confusion_matrix(model, tf_test_set, y_true)"
   ]
  },
  {
   "cell_type": "code",
   "execution_count": 279,
   "metadata": {},
   "outputs": [
    {
     "name": "stdout",
     "output_type": "stream",
     "text": [
      "WARNING:tensorflow:Skipping full serialization of Keras layer <keras.layers.core.Dropout object at 0x00000197FDC599A0>, because it is not built.\n"
     ]
    },
    {
     "name": "stderr",
     "output_type": "stream",
     "text": [
      "WARNING:tensorflow:Skipping full serialization of Keras layer <keras.layers.core.Dropout object at 0x00000197FDC599A0>, because it is not built.\n"
     ]
    },
    {
     "name": "stdout",
     "output_type": "stream",
     "text": [
      "WARNING:tensorflow:Skipping full serialization of Keras layer <keras.layers.core.Dropout object at 0x00000197FD2E15E0>, because it is not built.\n"
     ]
    },
    {
     "name": "stderr",
     "output_type": "stream",
     "text": [
      "WARNING:tensorflow:Skipping full serialization of Keras layer <keras.layers.core.Dropout object at 0x00000197FD2E15E0>, because it is not built.\n"
     ]
    },
    {
     "name": "stdout",
     "output_type": "stream",
     "text": [
      "WARNING:tensorflow:Skipping full serialization of Keras layer <keras.layers.core.Dropout object at 0x00000197FDB505B0>, because it is not built.\n"
     ]
    },
    {
     "name": "stderr",
     "output_type": "stream",
     "text": [
      "WARNING:tensorflow:Skipping full serialization of Keras layer <keras.layers.core.Dropout object at 0x00000197FDB505B0>, because it is not built.\n"
     ]
    },
    {
     "name": "stdout",
     "output_type": "stream",
     "text": [
      "WARNING:tensorflow:Skipping full serialization of Keras layer <keras.layers.core.Dropout object at 0x00000197FD463910>, because it is not built.\n"
     ]
    },
    {
     "name": "stderr",
     "output_type": "stream",
     "text": [
      "WARNING:tensorflow:Skipping full serialization of Keras layer <keras.layers.core.Dropout object at 0x00000197FD463910>, because it is not built.\n"
     ]
    },
    {
     "name": "stdout",
     "output_type": "stream",
     "text": [
      "WARNING:tensorflow:Skipping full serialization of Keras layer <keras.layers.core.Dropout object at 0x00000197FF837730>, because it is not built.\n"
     ]
    },
    {
     "name": "stderr",
     "output_type": "stream",
     "text": [
      "WARNING:tensorflow:Skipping full serialization of Keras layer <keras.layers.core.Dropout object at 0x00000197FF837730>, because it is not built.\n"
     ]
    },
    {
     "name": "stdout",
     "output_type": "stream",
     "text": [
      "WARNING:tensorflow:Skipping full serialization of Keras layer <keras.layers.core.Dropout object at 0x00000197FDC54610>, because it is not built.\n"
     ]
    },
    {
     "name": "stderr",
     "output_type": "stream",
     "text": [
      "WARNING:tensorflow:Skipping full serialization of Keras layer <keras.layers.core.Dropout object at 0x00000197FDC54610>, because it is not built.\n",
      "WARNING:absl:Found untraced functions such as embeddings_layer_call_and_return_conditional_losses, embeddings_layer_call_fn, transformer_layer_call_and_return_conditional_losses, transformer_layer_call_fn, LayerNorm_layer_call_and_return_conditional_losses while saving (showing 5 of 410). These functions will not be directly callable after loading.\n"
     ]
    },
    {
     "name": "stdout",
     "output_type": "stream",
     "text": [
      "INFO:tensorflow:Assets written to: models/modeltf\\assets\n"
     ]
    },
    {
     "name": "stderr",
     "output_type": "stream",
     "text": [
      "INFO:tensorflow:Assets written to: models/modeltf\\assets\n"
     ]
    }
   ],
   "source": [
    "model.save('models/modeltf',save_format='tf')"
   ]
  },
  {
   "cell_type": "code",
   "execution_count": 280,
   "metadata": {},
   "outputs": [],
   "source": [
    "model.save_pretrained('models/huggingfacemodel')"
   ]
  },
  {
   "cell_type": "code",
   "execution_count": 285,
   "metadata": {},
   "outputs": [
    {
     "data": {
      "text/plain": [
       "('/models/tokenizer/tokenizer_config.json',\n",
       " '/models/tokenizer/special_tokens_map.json',\n",
       " '/models/tokenizer/vocab.txt',\n",
       " '/models/tokenizer/added_tokens.json',\n",
       " '/models/tokenizer/tokenizer.json')"
      ]
     },
     "execution_count": 285,
     "metadata": {},
     "output_type": "execute_result"
    }
   ],
   "source": [
    "tokenizer.save_pretrained(\"/models/tokenizer/\")"
   ]
  },
  {
   "cell_type": "markdown",
   "metadata": {},
   "source": [
    "In order to have a tensorflow model it is necessary to save the weights and thenn create the model and load the weights back. this "
   ]
  },
  {
   "cell_type": "code",
   "execution_count": 282,
   "metadata": {},
   "outputs": [],
   "source": [
    "model.save_weights('models/modelweights/modelweights')"
   ]
  },
  {
   "cell_type": "code",
   "execution_count": 284,
   "metadata": {},
   "outputs": [],
   "source": [
    "# model.save_model(\"models/fullmodel\")"
   ]
  }
 ],
 "metadata": {
  "kernelspec": {
   "display_name": "Python 3 (ipykernel)",
   "language": "python",
   "name": "python3"
  },
  "language_info": {
   "codemirror_mode": {
    "name": "ipython",
    "version": 3
   },
   "file_extension": ".py",
   "mimetype": "text/x-python",
   "name": "python",
   "nbconvert_exporter": "python",
   "pygments_lexer": "ipython3",
   "version": "3.9.12"
  },
  "vscode": {
   "interpreter": {
    "hash": "9b3b3adc6d8e141c308215729b3dbd8a21484cc522669b570a751a91e17c3cbd"
   }
  }
 },
 "nbformat": 4,
 "nbformat_minor": 4
}
