{
 "cells": [
  {
   "cell_type": "markdown",
   "metadata": {},
   "source": [
    "## Model Training\n",
    "\n",
    "Transformers will be used to train the Machine Learning Model. It is possible due to complexity that this notebook will be trained in Google Colab and later download to this repo.\n",
    "\n"
   ]
  },
  {
   "cell_type": "code",
   "execution_count": 1,
   "metadata": {},
   "outputs": [
    {
     "name": "stderr",
     "output_type": "stream",
     "text": [
      "C:\\ProgramData\\Anaconda3\\envs\\tfenv\\lib\\site-packages\\tqdm\\auto.py:22: TqdmWarning: IProgress not found. Please update jupyter and ipywidgets. See https://ipywidgets.readthedocs.io/en/stable/user_install.html\n",
      "  from .autonotebook import tqdm as notebook_tqdm\n"
     ]
    },
    {
     "data": {
      "text/plain": [
       "'C:\\\\Users\\\\entea\\\\CodeProjects\\\\clasificaion_robos_fge'"
      ]
     },
     "execution_count": 1,
     "metadata": {},
     "output_type": "execute_result"
    }
   ],
   "source": [
    "import pandas as pd\n",
    "import numpy as np\n",
    "import os\n",
    "from datasets import load_dataset, Features, ClassLabel, Value\n",
    "dir_root = os.getcwd()\n",
    "dir_root"
   ]
  },
  {
   "cell_type": "markdown",
   "metadata": {},
   "source": [
    "We will be using Hugging Face load rutines in order to load data and processed it. There is somehow some things that I feel like a bit lost, because in some of the examples that I have checked on huggnif faces they are not using one hot encoding. In the end we have to build a multiclass clasification and the doubt I have is if I should use the one hot variables or should only use the hagging face. If this does not work I will have to test how the Youtube video stored the tensors in numpy format, hoping that all tokenization will be able to be run"
   ]
  },
  {
   "cell_type": "code",
   "execution_count": 2,
   "metadata": {},
   "outputs": [
    {
     "data": {
      "text/html": [
       "<div>\n",
       "<style scoped>\n",
       "    .dataframe tbody tr th:only-of-type {\n",
       "        vertical-align: middle;\n",
       "    }\n",
       "\n",
       "    .dataframe tbody tr th {\n",
       "        vertical-align: top;\n",
       "    }\n",
       "\n",
       "    .dataframe thead th {\n",
       "        text-align: right;\n",
       "    }\n",
       "</style>\n",
       "<table border=\"1\" class=\"dataframe\">\n",
       "  <thead>\n",
       "    <tr style=\"text-align: right;\">\n",
       "      <th></th>\n",
       "      <th>index</th>\n",
       "      <th>ndd</th>\n",
       "      <th>relato</th>\n",
       "      <th>cantidadPalabras</th>\n",
       "      <th>tipoDelitoPj</th>\n",
       "      <th>target</th>\n",
       "      <th>labelsRoboADomicilio</th>\n",
       "      <th>labelsRoboAPersonas</th>\n",
       "      <th>labelsRoboAUnidadesEconomicas</th>\n",
       "      <th>labelsRoboDeBienes,AccesoriosYAutopartesDeVehiculos</th>\n",
       "      <th>labelsRoboDeCarros</th>\n",
       "      <th>labelsRoboDeMotos</th>\n",
       "      <th>labels</th>\n",
       "    </tr>\n",
       "  </thead>\n",
       "  <tbody>\n",
       "    <tr>\n",
       "      <th>216932</th>\n",
       "      <td>303326</td>\n",
       "      <td>170101815063467</td>\n",
       "      <td>es el caso señor fiscal que en el dia y la hor...</td>\n",
       "      <td>60</td>\n",
       "      <td>ROBO</td>\n",
       "      <td>5</td>\n",
       "      <td>1</td>\n",
       "      <td>0</td>\n",
       "      <td>0</td>\n",
       "      <td>0</td>\n",
       "      <td>0</td>\n",
       "      <td>0</td>\n",
       "      <td>ROBO A DOMICILIO</td>\n",
       "    </tr>\n",
       "    <tr>\n",
       "      <th>268713</th>\n",
       "      <td>128316</td>\n",
       "      <td>90101817094965</td>\n",
       "      <td>es el caso señor fiscal que el día 20 de septi...</td>\n",
       "      <td>89</td>\n",
       "      <td>ROBO</td>\n",
       "      <td>6</td>\n",
       "      <td>0</td>\n",
       "      <td>1</td>\n",
       "      <td>0</td>\n",
       "      <td>0</td>\n",
       "      <td>0</td>\n",
       "      <td>0</td>\n",
       "      <td>ROBO A PERSONAS</td>\n",
       "    </tr>\n",
       "    <tr>\n",
       "      <th>157147</th>\n",
       "      <td>64012</td>\n",
       "      <td>80101821120123</td>\n",
       "      <td>sucede señor fiscal que día viernes 03 de dici...</td>\n",
       "      <td>99</td>\n",
       "      <td>ROBO</td>\n",
       "      <td>6</td>\n",
       "      <td>0</td>\n",
       "      <td>1</td>\n",
       "      <td>0</td>\n",
       "      <td>0</td>\n",
       "      <td>0</td>\n",
       "      <td>0</td>\n",
       "      <td>ROBO A PERSONAS</td>\n",
       "    </tr>\n",
       "    <tr>\n",
       "      <th>28015</th>\n",
       "      <td>168403</td>\n",
       "      <td>90101820104135</td>\n",
       "      <td>es el caso señor fiscal que el dia 4 de octubr...</td>\n",
       "      <td>91</td>\n",
       "      <td>ROBO</td>\n",
       "      <td>6</td>\n",
       "      <td>0</td>\n",
       "      <td>1</td>\n",
       "      <td>0</td>\n",
       "      <td>0</td>\n",
       "      <td>0</td>\n",
       "      <td>0</td>\n",
       "      <td>ROBO A PERSONAS</td>\n",
       "    </tr>\n",
       "    <tr>\n",
       "      <th>126101</th>\n",
       "      <td>223229</td>\n",
       "      <td>100101816030243</td>\n",
       "      <td>es el caso señor fiscal que el día y hora ates...</td>\n",
       "      <td>96</td>\n",
       "      <td>ROBO</td>\n",
       "      <td>5</td>\n",
       "      <td>1</td>\n",
       "      <td>0</td>\n",
       "      <td>0</td>\n",
       "      <td>0</td>\n",
       "      <td>0</td>\n",
       "      <td>0</td>\n",
       "      <td>ROBO A DOMICILIO</td>\n",
       "    </tr>\n",
       "  </tbody>\n",
       "</table>\n",
       "</div>"
      ],
      "text/plain": [
       "         index              ndd  \\\n",
       "216932  303326  170101815063467   \n",
       "268713  128316   90101817094965   \n",
       "157147   64012   80101821120123   \n",
       "28015   168403   90101820104135   \n",
       "126101  223229  100101816030243   \n",
       "\n",
       "                                                   relato  cantidadPalabras  \\\n",
       "216932  es el caso señor fiscal que en el dia y la hor...                60   \n",
       "268713  es el caso señor fiscal que el día 20 de septi...                89   \n",
       "157147  sucede señor fiscal que día viernes 03 de dici...                99   \n",
       "28015   es el caso señor fiscal que el dia 4 de octubr...                91   \n",
       "126101  es el caso señor fiscal que el día y hora ates...                96   \n",
       "\n",
       "       tipoDelitoPj  target  labelsRoboADomicilio  labelsRoboAPersonas  \\\n",
       "216932         ROBO       5                     1                    0   \n",
       "268713         ROBO       6                     0                    1   \n",
       "157147         ROBO       6                     0                    1   \n",
       "28015          ROBO       6                     0                    1   \n",
       "126101         ROBO       5                     1                    0   \n",
       "\n",
       "        labelsRoboAUnidadesEconomicas  \\\n",
       "216932                              0   \n",
       "268713                              0   \n",
       "157147                              0   \n",
       "28015                               0   \n",
       "126101                              0   \n",
       "\n",
       "        labelsRoboDeBienes,AccesoriosYAutopartesDeVehiculos  \\\n",
       "216932                                                  0     \n",
       "268713                                                  0     \n",
       "157147                                                  0     \n",
       "28015                                                   0     \n",
       "126101                                                  0     \n",
       "\n",
       "        labelsRoboDeCarros  labelsRoboDeMotos            labels  \n",
       "216932                   0                  0  ROBO A DOMICILIO  \n",
       "268713                   0                  0   ROBO A PERSONAS  \n",
       "157147                   0                  0   ROBO A PERSONAS  \n",
       "28015                    0                  0   ROBO A PERSONAS  \n",
       "126101                   0                  0  ROBO A DOMICILIO  "
      ]
     },
     "execution_count": 2,
     "metadata": {},
     "output_type": "execute_result"
    }
   ],
   "source": [
    "dataset_df = pd.read_csv(os.path.join(dir_root, 'data/interim/trainset.csv'), converters={'NDD':str})\n",
    "dataset_df.sample(5)"
   ]
  },
  {
   "cell_type": "code",
   "execution_count": 3,
   "metadata": {},
   "outputs": [],
   "source": [
    "labels_set = set(dataset_df.labels.to_list())"
   ]
  },
  {
   "cell_type": "code",
   "execution_count": 4,
   "metadata": {},
   "outputs": [
    {
     "name": "stderr",
     "output_type": "stream",
     "text": [
      "Using custom data configuration default-ba64d498e9ef90c9\n"
     ]
    },
    {
     "name": "stdout",
     "output_type": "stream",
     "text": [
      "Downloading and preparing dataset csv/default to C:\\Users\\entea\\.cache\\huggingface\\datasets\\csv\\default-ba64d498e9ef90c9\\0.0.0\\51cce309a08df9c4d82ffd9363bbe090bf173197fc01a71b034e8594995a1a58...\n"
     ]
    },
    {
     "name": "stderr",
     "output_type": "stream",
     "text": [
      "Downloading data files: 100%|██████████████████████████████████████████████████████████| 3/3 [00:00<00:00, 2998.07it/s]\n",
      "Extracting data files: 100%|████████████████████████████████████████████████████████████| 3/3 [00:00<00:00, 606.99it/s]\n",
      "                                 \r"
     ]
    },
    {
     "name": "stdout",
     "output_type": "stream",
     "text": [
      "Dataset csv downloaded and prepared to C:\\Users\\entea\\.cache\\huggingface\\datasets\\csv\\default-ba64d498e9ef90c9\\0.0.0\\51cce309a08df9c4d82ffd9363bbe090bf173197fc01a71b034e8594995a1a58. Subsequent calls will reuse this data.\n"
     ]
    },
    {
     "name": "stderr",
     "output_type": "stream",
     "text": [
      "100%|████████████████████████████████████████████████████████████████████████████████████| 3/3 [00:00<00:00, 61.09it/s]\n"
     ]
    }
   ],
   "source": [
    "traincsv = os.path.join(dir_root, 'data/interim/trainsethugf.csv')\n",
    "testcsv = os.path.join(dir_root, 'data/interim/testsethugf.csv')\n",
    "validcsv = os.path.join(dir_root, 'data/interim/validsethugf.csv')\n",
    "# class_names = [\"RoboADomicilio\", \"RoboAPersonas\", \"RoboAUnidadesEconomicas\", \"RoboDeBienesAccesoriosYAutoPartes\", \"RoboDeCarros\", \"RoboDeMotos\"]\n",
    "class_names = list(labels_set)\n",
    "robo_features = Features({'relato': Value('string'), 'labels': ClassLabel(names=class_names)})\n",
    "dataset = load_dataset(\"csv\", data_files={'train': traincsv, 'test': testcsv, 'validation':validcsv}, features=robo_features)"
   ]
  },
  {
   "cell_type": "code",
   "execution_count": 5,
   "metadata": {},
   "outputs": [
    {
     "data": {
      "text/plain": [
       "{'relato': 'es el caso señor fiscal que el día 22 de octubre del 2014 a las 20h40 aproximadamente en circunstancias en que deje estacionado mi camioneta de placas gmd0996 color blanco marca chevrolet de mi propiedad en la dirección antes mencionada al momento de ir por ella me encuentro con la novedad que no estaba se la habían robado en el interior de la camioneta ahí una arma de fuego revolver calibre 38 de fabricación nacional que pertenece a compañía armiled por lo expuesto señor fiscal solicito que se realicen las respectivas investigaciones es justicia',\n",
       " 'labels': 5}"
      ]
     },
     "execution_count": 5,
     "metadata": {},
     "output_type": "execute_result"
    }
   ],
   "source": [
    "dataset['train'][0]"
   ]
  },
  {
   "cell_type": "code",
   "execution_count": 6,
   "metadata": {},
   "outputs": [],
   "source": [
    "seqlen = dataset_df.relato.apply(lambda x: len(x.split()))"
   ]
  },
  {
   "cell_type": "markdown",
   "metadata": {},
   "source": [
    "Let us create an Histogram of the word count in Crime report"
   ]
  },
  {
   "cell_type": "code",
   "execution_count": 7,
   "metadata": {},
   "outputs": [
    {
     "name": "stderr",
     "output_type": "stream",
     "text": [
      "C:\\ProgramData\\Anaconda3\\envs\\tfenv\\lib\\site-packages\\seaborn\\distributions.py:2619: FutureWarning: `distplot` is a deprecated function and will be removed in a future version. Please adapt your code to use either `displot` (a figure-level function with similar flexibility) or `histplot` (an axes-level function for histograms).\n",
      "  warnings.warn(msg, FutureWarning)\n"
     ]
    },
    {
     "data": {
      "text/plain": [
       "<AxesSubplot:xlabel='relato', ylabel='Density'>"
      ]
     },
     "execution_count": 7,
     "metadata": {},
     "output_type": "execute_result"
    },
    {
     "data": {
      "image/png": "[encoded data removed]",
      "text/plain": [
       "<Figure size 1152x720 with 1 Axes>"
      ]
     },
     "metadata": {},
     "output_type": "display_data"
    }
   ],
   "source": [
    "import seaborn as sns\n",
    "import matplotlib.pyplot as plt\n",
    "sns.set_style('darkgrid')\n",
    "plt.figure(figsize=(16,10))\n",
    "sns.distplot(seqlen)"
   ]
  },
  {
   "cell_type": "markdown",
   "metadata": {},
   "source": [
    "In a example solved in https://www.youtube.com/watch?v=GYDFBfx8Ts8&t=498s, the length of the sequence was set to the maximum span of the distplot. This would imply to use a length sequence of 300. I think padding and trucate are used in consequence with this size so that all tensors in would have the same length. I think that if we chouse $SEQ_LEN<200$, those reports with values below 200 will be truncated (This is something that I need to understand when writing the paper). Now by choosing to use the maximum length, which appears to be somehow 300, there should be no truncation but padding to some of the records. Let us consider what is the maximum length of the Crime report"
   ]
  },
  {
   "cell_type": "code",
   "execution_count": 8,
   "metadata": {},
   "outputs": [
    {
     "data": {
      "text/plain": [
       "300"
      ]
     },
     "execution_count": 8,
     "metadata": {},
     "output_type": "execute_result"
    }
   ],
   "source": [
    "seqlen.max()"
   ]
  },
  {
   "cell_type": "code",
   "execution_count": 9,
   "metadata": {},
   "outputs": [
    {
     "data": {
      "text/plain": [
       "300"
      ]
     },
     "execution_count": 9,
     "metadata": {},
     "output_type": "execute_result"
    }
   ],
   "source": [
    "dataset_df.cantidadPalabras.max()"
   ]
  },
  {
   "cell_type": "markdown",
   "metadata": {},
   "source": [
    "We have already separated the original dataset in Train and Test. Because of that, we would split this train dataset in train and validation. Test set will be used at the end in order to proof the concept"
   ]
  },
  {
   "cell_type": "code",
   "execution_count": 10,
   "metadata": {},
   "outputs": [
    {
     "data": {
      "text/plain": [
       "Index(['index', 'ndd', 'relato', 'cantidadPalabras', 'tipoDelitoPj', 'target',\n",
       "       'labelsRoboADomicilio', 'labelsRoboAPersonas',\n",
       "       'labelsRoboAUnidadesEconomicas',\n",
       "       'labelsRoboDeBienes,AccesoriosYAutopartesDeVehiculos',\n",
       "       'labelsRoboDeCarros', 'labelsRoboDeMotos', 'labels'],\n",
       "      dtype='object')"
      ]
     },
     "execution_count": 10,
     "metadata": {},
     "output_type": "execute_result"
    }
   ],
   "source": [
    "dataset_df.columns"
   ]
  },
  {
   "cell_type": "code",
   "execution_count": 11,
   "metadata": {},
   "outputs": [],
   "source": [
    "# X_set = dataset_df.RELATO.to_list()\n",
    "# Y_set = dataset_df[['LABELS_ROBO A DOMICILIO', \n",
    "# 'LABELS_ROBO A PERSONAS',\n",
    "# 'LABELS_ROBO A UNIDADES ECONOMICAS',\n",
    "# 'LABELS_ROBO DE BIENES, ACCESORIOS Y AUTOPARTES DE VEHICULOS',\n",
    "# 'LABELS_ROBO DE CARROS',\n",
    "# 'LABELS_ROBO DE MOTOS']].to_numpy()"
   ]
  },
  {
   "cell_type": "code",
   "execution_count": 12,
   "metadata": {},
   "outputs": [],
   "source": [
    "# X_set.iloc[0,:], Y_set.iloc[0,:]"
   ]
  },
  {
   "cell_type": "code",
   "execution_count": 13,
   "metadata": {},
   "outputs": [],
   "source": [
    "# dataset_df.head()"
   ]
  },
  {
   "cell_type": "code",
   "execution_count": 14,
   "metadata": {},
   "outputs": [],
   "source": [
    "# Y_set[:5,:]"
   ]
  },
  {
   "cell_type": "code",
   "execution_count": 15,
   "metadata": {},
   "outputs": [],
   "source": [
    "# X_set[:5]"
   ]
  },
  {
   "cell_type": "code",
   "execution_count": 16,
   "metadata": {},
   "outputs": [],
   "source": [
    "# len(X_set), Y_set.shape"
   ]
  },
  {
   "cell_type": "markdown",
   "metadata": {},
   "source": [
    "Since the classification is of type Multicategorical, it is clear that:\n",
    "\n",
    "$\\mathbf{y} \\in\\mathcal{R}^6   $ corresponds to the labels of our set. The structure of $ \\mathbf{X} $ will depend on the tokenization process. \n",
    "\n",
    "Moreover there are possible two ways to test.\n",
    "\n",
    "1. The provided guide at https://huggingface.co/transformers/v3.2.0/custom_datasets.html, does not use attention masks. We could test first this approach.\n",
    "2. We could follow the lead of https://www.youtube.com/watch?v=GYDFBfx8Ts8&t=498s, and provide both input_ids and masks_ids\n",
    "3. We should compare how things go provided the classical approach by using count of words (wordvec, bag of words and others) And compare results.\n",
    "4. There is something that is not being considered in this approach and it is unbalanced data. We should think about a way of balancing data"
   ]
  },
  {
   "cell_type": "code",
   "execution_count": 17,
   "metadata": {},
   "outputs": [
    {
     "data": {
      "text/plain": [
       "<AxesSubplot:>"
      ]
     },
     "execution_count": 17,
     "metadata": {},
     "output_type": "execute_result"
    },
    {
     "data": {
      "image/png": "[encoded data removed]",
      "text/plain": [
       "<Figure size 432x288 with 1 Axes>"
      ]
     },
     "metadata": {},
     "output_type": "display_data"
    }
   ],
   "source": [
    "dataset_df.labels.value_counts().plot.barh()"
   ]
  },
  {
   "cell_type": "markdown",
   "metadata": {},
   "source": [
    "I think and interesting way of solving could by making an ensemble by distributing different samples in each **weak** learner. Eventhough it is not a weak learner because they are actually transformer-convnet based learners. \n",
    "\n",
    "Also, it must be noticed that we are going through fine tuning a pre-trained bert model. What would happen if we train it from scratch? would it be better?"
   ]
  },
  {
   "cell_type": "code",
   "execution_count": 18,
   "metadata": {},
   "outputs": [],
   "source": [
    "from transformers import DistilBertTokenizer, AutoTokenizer, DistilBertTokenizerFast\n",
    "# model_name = 'xlm-roberta-large'\n",
    "# model_name = 'bert-base-cased'\n",
    "# model_name = 'bert-base-multilingual-uncased-sentiment'\n",
    "model_name = 'distilbert-base-multilingual-cased'\n",
    "tokenizer = DistilBertTokenizerFast.from_pretrained(model_name)"
   ]
  },
  {
   "cell_type": "markdown",
   "metadata": {},
   "source": [
    "Testing tokenizer with any kind of content"
   ]
  },
  {
   "cell_type": "code",
   "execution_count": 19,
   "metadata": {},
   "outputs": [
    {
     "data": {
      "text/plain": [
       "{'input_ids': [101, 10125, 92923, 29833, 82834, 41275, 11403, 10196, 10153, 84977, 34065, 12022, 10738, 12361, 43861, 102], 'attention_mask': [1, 1, 1, 1, 1, 1, 1, 1, 1, 1, 1, 1, 1, 1, 1, 1]}"
      ]
     },
     "execution_count": 19,
     "metadata": {},
     "output_type": "execute_result"
    }
   ],
   "source": [
    "tokenizer('el CASTELLANO es una LENGUA muerta')"
   ]
  },
  {
   "cell_type": "code",
   "execution_count": 20,
   "metadata": {},
   "outputs": [
    {
     "name": "stderr",
     "output_type": "stream",
     "text": [
      "100%|████████████████████████████████████████████████████████████████████████████████| 274/274 [00:47<00:00,  5.80ba/s]\n",
      "100%|██████████████████████████████████████████████████████████████████████████████████| 90/90 [00:15<00:00,  5.70ba/s]\n",
      "100%|██████████████████████████████████████████████████████████████████████████████████| 69/69 [00:12<00:00,  5.71ba/s]\n"
     ]
    }
   ],
   "source": [
    "def tokenizer_func(examples):\n",
    "  return tokenizer(examples[\"relato\"],\n",
    "                   max_length=seqlen.max(),\n",
    "                   padding = \"max_length\",\n",
    "                   truncation=True)\n",
    "\n",
    "tokenized_dataset = dataset.map(tokenizer_func, batched=True)"
   ]
  },
  {
   "cell_type": "code",
   "execution_count": 21,
   "metadata": {},
   "outputs": [
    {
     "data": {
      "text/plain": [
       "(300, 2)"
      ]
     },
     "execution_count": 21,
     "metadata": {},
     "output_type": "execute_result"
    }
   ],
   "source": [
    "len(tokenized_dataset['validation'][-1]['input_ids']), tokenized_dataset['validation'][-1]['labels']"
   ]
  },
  {
   "cell_type": "code",
   "execution_count": 22,
   "metadata": {},
   "outputs": [
    {
     "data": {
      "text/plain": [
       "{'relato': 'es el caso señor fiscal que el día 22 de octubre del 2014 a las 20h40 aproximadamente en circunstancias en que deje estacionado mi camioneta de placas gmd0996 color blanco marca chevrolet de mi propiedad en la dirección antes mencionada al momento de ir por ella me encuentro con la novedad que no estaba se la habían robado en el interior de la camioneta ahí una arma de fuego revolver calibre 38 de fabricación nacional que pertenece a compañía armiled por lo expuesto señor fiscal solicito que se realicen las respectivas investigaciones es justicia',\n",
       " 'labels': 5,\n",
       " 'input_ids': [101,\n",
       "  10196,\n",
       "  10125,\n",
       "  13101,\n",
       "  47599,\n",
       "  43645,\n",
       "  10121,\n",
       "  10125,\n",
       "  14184,\n",
       "  10306,\n",
       "  10104,\n",
       "  14082,\n",
       "  10127,\n",
       "  10194,\n",
       "  169,\n",
       "  10285,\n",
       "  10197,\n",
       "  10237,\n",
       "  38109,\n",
       "  21278,\n",
       "  10110,\n",
       "  109050,\n",
       "  10110,\n",
       "  10121,\n",
       "  10104,\n",
       "  10381,\n",
       "  11504,\n",
       "  57416,\n",
       "  12132,\n",
       "  88406,\n",
       "  17670,\n",
       "  10213,\n",
       "  10104,\n",
       "  93697,\n",
       "  175,\n",
       "  37527,\n",
       "  10929,\n",
       "  88657,\n",
       "  11211,\n",
       "  14136,\n",
       "  34488,\n",
       "  13534,\n",
       "  10262,\n",
       "  99959,\n",
       "  12630,\n",
       "  10104,\n",
       "  12132,\n",
       "  39561,\n",
       "  10110,\n",
       "  10109,\n",
       "  21669,\n",
       "  12847,\n",
       "  69321,\n",
       "  10229,\n",
       "  10164,\n",
       "  13782,\n",
       "  10104,\n",
       "  10478,\n",
       "  10183,\n",
       "  15121,\n",
       "  10911,\n",
       "  52995,\n",
       "  10173,\n",
       "  10109,\n",
       "  23851,\n",
       "  14084,\n",
       "  10121,\n",
       "  10192,\n",
       "  14645,\n",
       "  10126,\n",
       "  10109,\n",
       "  22351,\n",
       "  96684,\n",
       "  10317,\n",
       "  10110,\n",
       "  10125,\n",
       "  14806,\n",
       "  10104,\n",
       "  10109,\n",
       "  88406,\n",
       "  17670,\n",
       "  10213,\n",
       "  64202,\n",
       "  10153,\n",
       "  28758,\n",
       "  10104,\n",
       "  46577,\n",
       "  86095,\n",
       "  66403,\n",
       "  98755,\n",
       "  11171,\n",
       "  10104,\n",
       "  73118,\n",
       "  14352,\n",
       "  10121,\n",
       "  60665,\n",
       "  169,\n",
       "  23039,\n",
       "  41361,\n",
       "  16376,\n",
       "  10183,\n",
       "  10406,\n",
       "  11419,\n",
       "  36101,\n",
       "  47599,\n",
       "  43645,\n",
       "  36766,\n",
       "  39811,\n",
       "  10121,\n",
       "  10126,\n",
       "  13486,\n",
       "  11918,\n",
       "  10115,\n",
       "  10285,\n",
       "  99498,\n",
       "  10403,\n",
       "  71151,\n",
       "  10196,\n",
       "  86847,\n",
       "  102,\n",
       "  0,\n",
       "  0,\n",
       "  0,\n",
       "  0,\n",
       "  0,\n",
       "  0,\n",
       "  0,\n",
       "  0,\n",
       "  0,\n",
       "  0,\n",
       "  0,\n",
       "  0,\n",
       "  0,\n",
       "  0,\n",
       "  0,\n",
       "  0,\n",
       "  0,\n",
       "  0,\n",
       "  0,\n",
       "  0,\n",
       "  0,\n",
       "  0,\n",
       "  0,\n",
       "  0,\n",
       "  0,\n",
       "  0,\n",
       "  0,\n",
       "  0,\n",
       "  0,\n",
       "  0,\n",
       "  0,\n",
       "  0,\n",
       "  0,\n",
       "  0,\n",
       "  0,\n",
       "  0,\n",
       "  0,\n",
       "  0,\n",
       "  0,\n",
       "  0,\n",
       "  0,\n",
       "  0,\n",
       "  0,\n",
       "  0,\n",
       "  0,\n",
       "  0,\n",
       "  0,\n",
       "  0,\n",
       "  0,\n",
       "  0,\n",
       "  0,\n",
       "  0,\n",
       "  0,\n",
       "  0,\n",
       "  0,\n",
       "  0,\n",
       "  0,\n",
       "  0,\n",
       "  0,\n",
       "  0,\n",
       "  0,\n",
       "  0,\n",
       "  0,\n",
       "  0,\n",
       "  0,\n",
       "  0,\n",
       "  0,\n",
       "  0,\n",
       "  0,\n",
       "  0,\n",
       "  0,\n",
       "  0,\n",
       "  0,\n",
       "  0,\n",
       "  0,\n",
       "  0,\n",
       "  0,\n",
       "  0,\n",
       "  0,\n",
       "  0,\n",
       "  0,\n",
       "  0,\n",
       "  0,\n",
       "  0,\n",
       "  0,\n",
       "  0,\n",
       "  0,\n",
       "  0,\n",
       "  0,\n",
       "  0,\n",
       "  0,\n",
       "  0,\n",
       "  0,\n",
       "  0,\n",
       "  0,\n",
       "  0,\n",
       "  0,\n",
       "  0,\n",
       "  0,\n",
       "  0,\n",
       "  0,\n",
       "  0,\n",
       "  0,\n",
       "  0,\n",
       "  0,\n",
       "  0,\n",
       "  0,\n",
       "  0,\n",
       "  0,\n",
       "  0,\n",
       "  0,\n",
       "  0,\n",
       "  0,\n",
       "  0,\n",
       "  0,\n",
       "  0,\n",
       "  0,\n",
       "  0,\n",
       "  0,\n",
       "  0,\n",
       "  0,\n",
       "  0,\n",
       "  0,\n",
       "  0,\n",
       "  0,\n",
       "  0,\n",
       "  0,\n",
       "  0,\n",
       "  0,\n",
       "  0,\n",
       "  0,\n",
       "  0,\n",
       "  0,\n",
       "  0,\n",
       "  0,\n",
       "  0,\n",
       "  0,\n",
       "  0,\n",
       "  0,\n",
       "  0,\n",
       "  0,\n",
       "  0,\n",
       "  0,\n",
       "  0,\n",
       "  0,\n",
       "  0,\n",
       "  0,\n",
       "  0,\n",
       "  0,\n",
       "  0,\n",
       "  0,\n",
       "  0,\n",
       "  0,\n",
       "  0,\n",
       "  0,\n",
       "  0,\n",
       "  0,\n",
       "  0,\n",
       "  0,\n",
       "  0,\n",
       "  0,\n",
       "  0,\n",
       "  0,\n",
       "  0,\n",
       "  0,\n",
       "  0,\n",
       "  0,\n",
       "  0,\n",
       "  0,\n",
       "  0,\n",
       "  0,\n",
       "  0,\n",
       "  0,\n",
       "  0,\n",
       "  0,\n",
       "  0,\n",
       "  0,\n",
       "  0,\n",
       "  0,\n",
       "  0],\n",
       " 'attention_mask': [1,\n",
       "  1,\n",
       "  1,\n",
       "  1,\n",
       "  1,\n",
       "  1,\n",
       "  1,\n",
       "  1,\n",
       "  1,\n",
       "  1,\n",
       "  1,\n",
       "  1,\n",
       "  1,\n",
       "  1,\n",
       "  1,\n",
       "  1,\n",
       "  1,\n",
       "  1,\n",
       "  1,\n",
       "  1,\n",
       "  1,\n",
       "  1,\n",
       "  1,\n",
       "  1,\n",
       "  1,\n",
       "  1,\n",
       "  1,\n",
       "  1,\n",
       "  1,\n",
       "  1,\n",
       "  1,\n",
       "  1,\n",
       "  1,\n",
       "  1,\n",
       "  1,\n",
       "  1,\n",
       "  1,\n",
       "  1,\n",
       "  1,\n",
       "  1,\n",
       "  1,\n",
       "  1,\n",
       "  1,\n",
       "  1,\n",
       "  1,\n",
       "  1,\n",
       "  1,\n",
       "  1,\n",
       "  1,\n",
       "  1,\n",
       "  1,\n",
       "  1,\n",
       "  1,\n",
       "  1,\n",
       "  1,\n",
       "  1,\n",
       "  1,\n",
       "  1,\n",
       "  1,\n",
       "  1,\n",
       "  1,\n",
       "  1,\n",
       "  1,\n",
       "  1,\n",
       "  1,\n",
       "  1,\n",
       "  1,\n",
       "  1,\n",
       "  1,\n",
       "  1,\n",
       "  1,\n",
       "  1,\n",
       "  1,\n",
       "  1,\n",
       "  1,\n",
       "  1,\n",
       "  1,\n",
       "  1,\n",
       "  1,\n",
       "  1,\n",
       "  1,\n",
       "  1,\n",
       "  1,\n",
       "  1,\n",
       "  1,\n",
       "  1,\n",
       "  1,\n",
       "  1,\n",
       "  1,\n",
       "  1,\n",
       "  1,\n",
       "  1,\n",
       "  1,\n",
       "  1,\n",
       "  1,\n",
       "  1,\n",
       "  1,\n",
       "  1,\n",
       "  1,\n",
       "  1,\n",
       "  1,\n",
       "  1,\n",
       "  1,\n",
       "  1,\n",
       "  1,\n",
       "  1,\n",
       "  1,\n",
       "  1,\n",
       "  1,\n",
       "  1,\n",
       "  1,\n",
       "  1,\n",
       "  1,\n",
       "  1,\n",
       "  1,\n",
       "  1,\n",
       "  1,\n",
       "  1,\n",
       "  1,\n",
       "  1,\n",
       "  0,\n",
       "  0,\n",
       "  0,\n",
       "  0,\n",
       "  0,\n",
       "  0,\n",
       "  0,\n",
       "  0,\n",
       "  0,\n",
       "  0,\n",
       "  0,\n",
       "  0,\n",
       "  0,\n",
       "  0,\n",
       "  0,\n",
       "  0,\n",
       "  0,\n",
       "  0,\n",
       "  0,\n",
       "  0,\n",
       "  0,\n",
       "  0,\n",
       "  0,\n",
       "  0,\n",
       "  0,\n",
       "  0,\n",
       "  0,\n",
       "  0,\n",
       "  0,\n",
       "  0,\n",
       "  0,\n",
       "  0,\n",
       "  0,\n",
       "  0,\n",
       "  0,\n",
       "  0,\n",
       "  0,\n",
       "  0,\n",
       "  0,\n",
       "  0,\n",
       "  0,\n",
       "  0,\n",
       "  0,\n",
       "  0,\n",
       "  0,\n",
       "  0,\n",
       "  0,\n",
       "  0,\n",
       "  0,\n",
       "  0,\n",
       "  0,\n",
       "  0,\n",
       "  0,\n",
       "  0,\n",
       "  0,\n",
       "  0,\n",
       "  0,\n",
       "  0,\n",
       "  0,\n",
       "  0,\n",
       "  0,\n",
       "  0,\n",
       "  0,\n",
       "  0,\n",
       "  0,\n",
       "  0,\n",
       "  0,\n",
       "  0,\n",
       "  0,\n",
       "  0,\n",
       "  0,\n",
       "  0,\n",
       "  0,\n",
       "  0,\n",
       "  0,\n",
       "  0,\n",
       "  0,\n",
       "  0,\n",
       "  0,\n",
       "  0,\n",
       "  0,\n",
       "  0,\n",
       "  0,\n",
       "  0,\n",
       "  0,\n",
       "  0,\n",
       "  0,\n",
       "  0,\n",
       "  0,\n",
       "  0,\n",
       "  0,\n",
       "  0,\n",
       "  0,\n",
       "  0,\n",
       "  0,\n",
       "  0,\n",
       "  0,\n",
       "  0,\n",
       "  0,\n",
       "  0,\n",
       "  0,\n",
       "  0,\n",
       "  0,\n",
       "  0,\n",
       "  0,\n",
       "  0,\n",
       "  0,\n",
       "  0,\n",
       "  0,\n",
       "  0,\n",
       "  0,\n",
       "  0,\n",
       "  0,\n",
       "  0,\n",
       "  0,\n",
       "  0,\n",
       "  0,\n",
       "  0,\n",
       "  0,\n",
       "  0,\n",
       "  0,\n",
       "  0,\n",
       "  0,\n",
       "  0,\n",
       "  0,\n",
       "  0,\n",
       "  0,\n",
       "  0,\n",
       "  0,\n",
       "  0,\n",
       "  0,\n",
       "  0,\n",
       "  0,\n",
       "  0,\n",
       "  0,\n",
       "  0,\n",
       "  0,\n",
       "  0,\n",
       "  0,\n",
       "  0,\n",
       "  0,\n",
       "  0,\n",
       "  0,\n",
       "  0,\n",
       "  0,\n",
       "  0,\n",
       "  0,\n",
       "  0,\n",
       "  0,\n",
       "  0,\n",
       "  0,\n",
       "  0,\n",
       "  0,\n",
       "  0,\n",
       "  0,\n",
       "  0,\n",
       "  0,\n",
       "  0,\n",
       "  0,\n",
       "  0,\n",
       "  0,\n",
       "  0,\n",
       "  0,\n",
       "  0,\n",
       "  0,\n",
       "  0,\n",
       "  0,\n",
       "  0,\n",
       "  0,\n",
       "  0,\n",
       "  0,\n",
       "  0,\n",
       "  0,\n",
       "  0,\n",
       "  0,\n",
       "  0,\n",
       "  0,\n",
       "  0,\n",
       "  0,\n",
       "  0]}"
      ]
     },
     "execution_count": 22,
     "metadata": {},
     "output_type": "execute_result"
    }
   ],
   "source": [
    "tokenized_dataset['train'][0]"
   ]
  },
  {
   "cell_type": "code",
   "execution_count": 23,
   "metadata": {},
   "outputs": [
    {
     "data": {
      "text/plain": [
       "'2.6.0'"
      ]
     },
     "execution_count": 23,
     "metadata": {},
     "output_type": "execute_result"
    }
   ],
   "source": [
    "import tensorflow as tf\n",
    "tf.__version__"
   ]
  },
  {
   "cell_type": "markdown",
   "metadata": {},
   "source": [
    "Following what is proposed in: https://huggingface.co/docs/transformers/tasks/sequence_classification"
   ]
  },
  {
   "cell_type": "code",
   "execution_count": 24,
   "metadata": {},
   "outputs": [],
   "source": [
    "from transformers import DataCollatorWithPadding\n",
    "\n",
    "data_collator = DataCollatorWithPadding(tokenizer=tokenizer, return_tensors=\"tf\")"
   ]
  },
  {
   "cell_type": "code",
   "execution_count": 25,
   "metadata": {},
   "outputs": [
    {
     "data": {
      "text/plain": [
       "dict_keys(['train', 'test', 'validation'])"
      ]
     },
     "execution_count": 25,
     "metadata": {},
     "output_type": "execute_result"
    }
   ],
   "source": [
    "tokenized_dataset.keys()"
   ]
  },
  {
   "cell_type": "code",
   "execution_count": 26,
   "metadata": {},
   "outputs": [],
   "source": [
    "# tf_train_set = tokenized_dataset[\"train\"].to_tf_dataset(\n",
    "#     columns=[\"attention_mask\", \"input_ids\", \"labels\"],\n",
    "#     shuffle=True,\n",
    "#     batch_size=16,\n",
    "#     collate_fn=data_collator,\n",
    "# )\n",
    "\n",
    "# tf_validation_set = tokenized_dataset[\"validation\"].to_tf_dataset(\n",
    "#     columns=[\"attention_mask\", \"input_ids\", \"labels\"],\n",
    "#     shuffle=False,\n",
    "#     batch_size=16,\n",
    "#     collate_fn=data_collator,\n",
    "# )"
   ]
  },
  {
   "cell_type": "code",
   "execution_count": 27,
   "metadata": {},
   "outputs": [],
   "source": [
    "# lowering samples to proof concept again\n",
    "tf_train_set = tokenized_dataset[\"train\"].shuffle(seed=42).select(range(20000)).to_tf_dataset(\n",
    "    columns=[\"attention_mask\", \"input_ids\", \"labels\"],\n",
    "    shuffle=True,\n",
    "    batch_size=16,\n",
    "    collate_fn=data_collator,\n",
    ")\n",
    "\n",
    "tf_validation_set = tokenized_dataset[\"validation\"].shuffle(seed=42).select(range(4000)).to_tf_dataset(\n",
    "    columns=[\"attention_mask\", \"input_ids\", \"labels\"],\n",
    "    shuffle=False,\n",
    "    batch_size=16,\n",
    "    collate_fn=data_collator,\n",
    ")"
   ]
  },
  {
   "cell_type": "code",
   "execution_count": 28,
   "metadata": {},
   "outputs": [],
   "source": [
    "from transformers import create_optimizer\n",
    "\n",
    "batch_size = 16\n",
    "num_epochs = 50\n",
    "batches_per_epoch = len(tokenized_dataset[\"train\"]) // batch_size\n",
    "total_train_steps = int(batches_per_epoch * num_epochs)\n",
    "optimizer, schedule = create_optimizer(init_lr=2e-5, num_warmup_steps=0, num_train_steps=total_train_steps)"
   ]
  },
  {
   "cell_type": "code",
   "execution_count": 29,
   "metadata": {},
   "outputs": [
    {
     "data": {
      "text/plain": [
       "854150"
      ]
     },
     "execution_count": 29,
     "metadata": {},
     "output_type": "execute_result"
    }
   ],
   "source": [
    "total_train_steps"
   ]
  },
  {
   "cell_type": "markdown",
   "metadata": {},
   "source": [
    "TFDistilBert has a weight of 869 MGBytes"
   ]
  },
  {
   "cell_type": "code",
   "execution_count": 30,
   "metadata": {},
   "outputs": [
    {
     "name": "stderr",
     "output_type": "stream",
     "text": [
      "Some layers from the model checkpoint at distilbert-base-multilingual-cased were not used when initializing TFDistilBertForSequenceClassification: ['vocab_layer_norm', 'vocab_transform', 'vocab_projector', 'activation_13']\n",
      "- This IS expected if you are initializing TFDistilBertForSequenceClassification from the checkpoint of a model trained on another task or with another architecture (e.g. initializing a BertForSequenceClassification model from a BertForPreTraining model).\n",
      "- This IS NOT expected if you are initializing TFDistilBertForSequenceClassification from the checkpoint of a model that you expect to be exactly identical (initializing a BertForSequenceClassification model from a BertForSequenceClassification model).\n",
      "Some layers of TFDistilBertForSequenceClassification were not initialized from the model checkpoint at distilbert-base-multilingual-cased and are newly initialized: ['dropout_19', 'pre_classifier', 'classifier']\n",
      "You should probably TRAIN this model on a down-stream task to be able to use it for predictions and inference.\n"
     ]
    }
   ],
   "source": [
    "from transformers import TFAutoModelForSequenceClassification, TFDistilBertForSequenceClassification\n",
    "\n",
    "model = TFDistilBertForSequenceClassification.from_pretrained(model_name, num_labels=6)"
   ]
  },
  {
   "cell_type": "code",
   "execution_count": 31,
   "metadata": {},
   "outputs": [
    {
     "name": "stdout",
     "output_type": "stream",
     "text": [
      "Model: \"tf_distil_bert_for_sequence_classification\"\n",
      "_________________________________________________________________\n",
      "Layer (type)                 Output Shape              Param #   \n",
      "=================================================================\n",
      "distilbert (TFDistilBertMain multiple                  134734080 \n",
      "_________________________________________________________________\n",
      "pre_classifier (Dense)       multiple                  590592    \n",
      "_________________________________________________________________\n",
      "classifier (Dense)           multiple                  4614      \n",
      "_________________________________________________________________\n",
      "dropout_19 (Dropout)         multiple                  0         \n",
      "=================================================================\n",
      "Total params: 135,329,286\n",
      "Trainable params: 135,329,286\n",
      "Non-trainable params: 0\n",
      "_________________________________________________________________\n"
     ]
    }
   ],
   "source": [
    "model.summary()"
   ]
  },
  {
   "cell_type": "code",
   "execution_count": 32,
   "metadata": {},
   "outputs": [
    {
     "name": "stderr",
     "output_type": "stream",
     "text": [
      "No loss specified in compile() - the model's internal loss computation will be used as the loss. Don't panic - this is a common way to train TensorFlow models in Transformers! To disable this behaviour please pass a loss argument, or explicitly pass `loss=None` if you do not want your model to compute a loss.\n"
     ]
    }
   ],
   "source": [
    "model.layers[0].trainable = False\n",
    "mse = tf.keras.metrics.mse\n",
    "acc = tf.keras.metrics.categorical_accuracy\n",
    "callback = tf.keras.callbacks.EarlyStopping(monitor='loss', patience=5)\n",
    "model.compile(optimizer=optimizer, metrics = ['accuracy'])"
   ]
  },
  {
   "cell_type": "code",
   "execution_count": 33,
   "metadata": {},
   "outputs": [
    {
     "name": "stdout",
     "output_type": "stream",
     "text": [
      "Model: \"tf_distil_bert_for_sequence_classification\"\n",
      "_________________________________________________________________\n",
      "Layer (type)                 Output Shape              Param #   \n",
      "=================================================================\n",
      "distilbert (TFDistilBertMain multiple                  134734080 \n",
      "_________________________________________________________________\n",
      "pre_classifier (Dense)       multiple                  590592    \n",
      "_________________________________________________________________\n",
      "classifier (Dense)           multiple                  4614      \n",
      "_________________________________________________________________\n",
      "dropout_19 (Dropout)         multiple                  0         \n",
      "=================================================================\n",
      "Total params: 135,329,286\n",
      "Trainable params: 595,206\n",
      "Non-trainable params: 134,734,080\n",
      "_________________________________________________________________\n"
     ]
    }
   ],
   "source": [
    "model.summary()"
   ]
  },
  {
   "cell_type": "code",
   "execution_count": 34,
   "metadata": {},
   "outputs": [
    {
     "name": "stdout",
     "output_type": "stream",
     "text": [
      "Num GPUs Available:  1\n"
     ]
    }
   ],
   "source": [
    "print(\"Num GPUs Available: \", len(tf.config.list_physical_devices('GPU')))"
   ]
  },
  {
   "cell_type": "code",
   "execution_count": 35,
   "metadata": {},
   "outputs": [
    {
     "data": {
      "text/plain": [
       "'/device:GPU:0'"
      ]
     },
     "execution_count": 35,
     "metadata": {},
     "output_type": "execute_result"
    }
   ],
   "source": [
    "tf.test.gpu_device_name()"
   ]
  },
  {
   "cell_type": "code",
   "execution_count": 36,
   "metadata": {},
   "outputs": [
    {
     "name": "stdout",
     "output_type": "stream",
     "text": [
      "Epoch 1/50\n",
      "1250/1250 [==============================] - 361s 282ms/step - loss: 1.5786 - accuracy: 0.4160 - val_loss: 1.5433 - val_accuracy: 0.4193\n",
      "Epoch 2/50\n",
      "1250/1250 [==============================] - 351s 281ms/step - loss: 1.5323 - accuracy: 0.4175 - val_loss: 1.4979 - val_accuracy: 0.4193\n",
      "Epoch 3/50\n",
      "1250/1250 [==============================] - 351s 281ms/step - loss: 1.4866 - accuracy: 0.4209 - val_loss: 1.4484 - val_accuracy: 0.4263\n",
      "Epoch 4/50\n",
      "1250/1250 [==============================] - 350s 280ms/step - loss: 1.4403 - accuracy: 0.4322 - val_loss: 1.4034 - val_accuracy: 0.4525\n",
      "Epoch 5/50\n",
      "1250/1250 [==============================] - 350s 280ms/step - loss: 1.3945 - accuracy: 0.4525 - val_loss: 1.3493 - val_accuracy: 0.4642\n",
      "Epoch 6/50\n",
      "1250/1250 [==============================] - 351s 281ms/step - loss: 1.3527 - accuracy: 0.4805 - val_loss: 1.3103 - val_accuracy: 0.4855\n",
      "Epoch 7/50\n",
      "1250/1250 [==============================] - 351s 281ms/step - loss: 1.3116 - accuracy: 0.5031 - val_loss: 1.2654 - val_accuracy: 0.5385\n",
      "Epoch 8/50\n",
      "1250/1250 [==============================] - 352s 281ms/step - loss: 1.2764 - accuracy: 0.5235 - val_loss: 1.2336 - val_accuracy: 0.5362\n",
      "Epoch 9/50\n",
      "1250/1250 [==============================] - 351s 281ms/step - loss: 1.2446 - accuracy: 0.5387 - val_loss: 1.1999 - val_accuracy: 0.5785\n",
      "Epoch 10/50\n",
      "1250/1250 [==============================] - 352s 281ms/step - loss: 1.2196 - accuracy: 0.5554 - val_loss: 1.1703 - val_accuracy: 0.5695\n",
      "Epoch 11/50\n",
      "1250/1250 [==============================] - 351s 281ms/step - loss: 1.1938 - accuracy: 0.5691 - val_loss: 1.1454 - val_accuracy: 0.5720\n",
      "Epoch 12/50\n",
      "1250/1250 [==============================] - 350s 280ms/step - loss: 1.1708 - accuracy: 0.5745 - val_loss: 1.1272 - val_accuracy: 0.5792\n",
      "Epoch 13/50\n",
      "1250/1250 [==============================] - 351s 281ms/step - loss: 1.1573 - accuracy: 0.5790 - val_loss: 1.1020 - val_accuracy: 0.5982\n",
      "Epoch 14/50\n",
      "1250/1250 [==============================] - 351s 281ms/step - loss: 1.1394 - accuracy: 0.5878 - val_loss: 1.0846 - val_accuracy: 0.6085\n",
      "Epoch 15/50\n",
      "1250/1250 [==============================] - 351s 281ms/step - loss: 1.1253 - accuracy: 0.5958 - val_loss: 1.0586 - val_accuracy: 0.6292\n",
      "Epoch 16/50\n",
      "1250/1250 [==============================] - 351s 281ms/step - loss: 1.1084 - accuracy: 0.6015 - val_loss: 1.0428 - val_accuracy: 0.6403\n",
      "Epoch 17/50\n",
      "1250/1250 [==============================] - 351s 281ms/step - loss: 1.1038 - accuracy: 0.6021 - val_loss: 1.0313 - val_accuracy: 0.6420\n",
      "Epoch 18/50\n",
      "1250/1250 [==============================] - 351s 281ms/step - loss: 1.0885 - accuracy: 0.6129 - val_loss: 1.0207 - val_accuracy: 0.6445\n",
      "Epoch 19/50\n",
      "1250/1250 [==============================] - 351s 281ms/step - loss: 1.0744 - accuracy: 0.6145 - val_loss: 1.0053 - val_accuracy: 0.6467\n",
      "Epoch 20/50\n",
      "1250/1250 [==============================] - 351s 281ms/step - loss: 1.0704 - accuracy: 0.6129 - val_loss: 1.0023 - val_accuracy: 0.6423\n",
      "Epoch 21/50\n",
      "1250/1250 [==============================] - 351s 281ms/step - loss: 1.0630 - accuracy: 0.6180 - val_loss: 0.9888 - val_accuracy: 0.6497\n",
      "Epoch 22/50\n",
      "1250/1250 [==============================] - 351s 281ms/step - loss: 1.0578 - accuracy: 0.6233 - val_loss: 0.9854 - val_accuracy: 0.6463\n",
      "Epoch 23/50\n",
      "1250/1250 [==============================] - 351s 281ms/step - loss: 1.0458 - accuracy: 0.6277 - val_loss: 0.9752 - val_accuracy: 0.6565\n",
      "Epoch 24/50\n",
      "1250/1250 [==============================] - 351s 281ms/step - loss: 1.0399 - accuracy: 0.6270 - val_loss: 0.9602 - val_accuracy: 0.6690\n",
      "Epoch 25/50\n",
      "1250/1250 [==============================] - 351s 281ms/step - loss: 1.0346 - accuracy: 0.6299 - val_loss: 0.9470 - val_accuracy: 0.6802\n",
      "Epoch 26/50\n",
      "1250/1250 [==============================] - 351s 281ms/step - loss: 1.0279 - accuracy: 0.6313 - val_loss: 0.9400 - val_accuracy: 0.6775\n",
      "Epoch 27/50\n",
      "1250/1250 [==============================] - 351s 281ms/step - loss: 1.0262 - accuracy: 0.6273 - val_loss: 0.9375 - val_accuracy: 0.6712\n",
      "Epoch 28/50\n",
      "1250/1250 [==============================] - 351s 281ms/step - loss: 1.0198 - accuracy: 0.6317 - val_loss: 0.9315 - val_accuracy: 0.6827\n",
      "Epoch 29/50\n",
      "1250/1250 [==============================] - 351s 280ms/step - loss: 1.0157 - accuracy: 0.6349 - val_loss: 0.9241 - val_accuracy: 0.6750\n",
      "Epoch 30/50\n",
      "1250/1250 [==============================] - 351s 280ms/step - loss: 1.0043 - accuracy: 0.6384 - val_loss: 0.9205 - val_accuracy: 0.6768\n",
      "Epoch 31/50\n",
      "1250/1250 [==============================] - 351s 281ms/step - loss: 1.0060 - accuracy: 0.6389 - val_loss: 0.9094 - val_accuracy: 0.6852\n",
      "Epoch 32/50\n",
      "1250/1250 [==============================] - 351s 281ms/step - loss: 0.9955 - accuracy: 0.6413 - val_loss: 0.9066 - val_accuracy: 0.6833\n",
      "Epoch 33/50\n",
      "1250/1250 [==============================] - 351s 281ms/step - loss: 0.9929 - accuracy: 0.6413 - val_loss: 0.8984 - val_accuracy: 0.6895\n",
      "Epoch 34/50\n",
      "1250/1250 [==============================] - 351s 281ms/step - loss: 0.9874 - accuracy: 0.6461 - val_loss: 0.9121 - val_accuracy: 0.6690\n",
      "Epoch 35/50\n",
      "1250/1250 [==============================] - 351s 281ms/step - loss: 0.9813 - accuracy: 0.6500 - val_loss: 0.8996 - val_accuracy: 0.6840\n",
      "Epoch 36/50\n",
      "1250/1250 [==============================] - 350s 280ms/step - loss: 0.9820 - accuracy: 0.6470 - val_loss: 0.9081 - val_accuracy: 0.6697\n",
      "Epoch 37/50\n",
      "1250/1250 [==============================] - 350s 280ms/step - loss: 0.9817 - accuracy: 0.6462 - val_loss: 0.9073 - val_accuracy: 0.6720\n",
      "Epoch 38/50\n",
      "1250/1250 [==============================] - 353s 282ms/step - loss: 0.9810 - accuracy: 0.6479 - val_loss: 0.8731 - val_accuracy: 0.6957\n",
      "Epoch 39/50\n",
      "1250/1250 [==============================] - 353s 283ms/step - loss: 0.9737 - accuracy: 0.6476 - val_loss: 0.8790 - val_accuracy: 0.6917\n",
      "Epoch 40/50\n",
      "1250/1250 [==============================] - 354s 284ms/step - loss: 0.9704 - accuracy: 0.6503 - val_loss: 0.8793 - val_accuracy: 0.6875\n",
      "Epoch 41/50\n",
      "1250/1250 [==============================] - 354s 283ms/step - loss: 0.9683 - accuracy: 0.6505 - val_loss: 0.8606 - val_accuracy: 0.6992\n",
      "Epoch 42/50\n",
      "1250/1250 [==============================] - 352s 282ms/step - loss: 0.9653 - accuracy: 0.6540 - val_loss: 0.8712 - val_accuracy: 0.6885\n",
      "Epoch 43/50\n",
      "1250/1250 [==============================] - 354s 283ms/step - loss: 0.9651 - accuracy: 0.6545 - val_loss: 0.8690 - val_accuracy: 0.6915\n",
      "Epoch 44/50\n",
      "1250/1250 [==============================] - 353s 283ms/step - loss: 0.9599 - accuracy: 0.6528 - val_loss: 0.8557 - val_accuracy: 0.6980\n",
      "Epoch 45/50\n",
      "1250/1250 [==============================] - 353s 283ms/step - loss: 0.9556 - accuracy: 0.6597 - val_loss: 0.8645 - val_accuracy: 0.6925\n",
      "Epoch 46/50\n",
      "1250/1250 [==============================] - 351s 281ms/step - loss: 0.9551 - accuracy: 0.6532 - val_loss: 0.8463 - val_accuracy: 0.7013\n",
      "Epoch 47/50\n",
      "1250/1250 [==============================] - 351s 281ms/step - loss: 0.9534 - accuracy: 0.6518 - val_loss: 0.8519 - val_accuracy: 0.6933\n",
      "Epoch 48/50\n",
      "1250/1250 [==============================] - 351s 281ms/step - loss: 0.9515 - accuracy: 0.6583 - val_loss: 0.8460 - val_accuracy: 0.7005\n",
      "Epoch 49/50\n",
      "1250/1250 [==============================] - 352s 282ms/step - loss: 0.9531 - accuracy: 0.6543 - val_loss: 0.8411 - val_accuracy: 0.7028\n",
      "Epoch 50/50\n",
      "1250/1250 [==============================] - 351s 281ms/step - loss: 0.9460 - accuracy: 0.6587 - val_loss: 0.8352 - val_accuracy: 0.7067\n"
     ]
    }
   ],
   "source": [
    "history = model.fit(tf_train_set, validation_data=tf_validation_set, epochs=num_epochs, callbacks = [callback])"
   ]
  },
  {
   "cell_type": "code",
   "execution_count": 37,
   "metadata": {},
   "outputs": [],
   "source": [
    "import matplotlib.pyplot as plt\n",
    "\n",
    "\n",
    "def plot_graphs(history, string):\n",
    "  plt.plot(history.history[string])\n",
    "  plt.plot(history.history['val_'+string])\n",
    "  plt.xlabel(\"Epochs\")\n",
    "  plt.ylabel(string)\n",
    "  plt.legend([string, 'val_'+string])\n",
    "  plt.show()"
   ]
  },
  {
   "cell_type": "code",
   "execution_count": 38,
   "metadata": {},
   "outputs": [
    {
     "data": {
      "image/png": "[encoded data removed]",
      "text/plain": [
       "<Figure size 432x288 with 1 Axes>"
      ]
     },
     "metadata": {},
     "output_type": "display_data"
    },
    {
     "data": {
      "image/png": "[encoded data removed]",
      "text/plain": [
       "<Figure size 432x288 with 1 Axes>"
      ]
     },
     "metadata": {},
     "output_type": "display_data"
    }
   ],
   "source": [
    "plot_graphs(history, 'accuracy')\n",
    "plot_graphs(history, 'loss')"
   ]
  }
 ],
 "metadata": {
  "kernelspec": {
   "display_name": "Python 3 (ipykernel)",
   "language": "python",
   "name": "python3"
  },
  "language_info": {
   "codemirror_mode": {
    "name": "ipython",
    "version": 3
   },
   "file_extension": ".py",
   "mimetype": "text/x-python",
   "name": "python",
   "nbconvert_exporter": "python",
   "pygments_lexer": "ipython3",
   "version": "3.9.12"
  },
  "vscode": {
   "interpreter": {
    "hash": "9b3b3adc6d8e141c308215729b3dbd8a21484cc522669b570a751a91e17c3cbd"
   }
  }
 },
 "nbformat": 4,
 "nbformat_minor": 4
}
